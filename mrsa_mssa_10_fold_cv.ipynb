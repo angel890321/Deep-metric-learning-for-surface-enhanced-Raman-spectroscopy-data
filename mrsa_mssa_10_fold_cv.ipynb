{
 "cells": [
  {
   "cell_type": "markdown",
   "id": "637ab6e7",
   "metadata": {},
   "source": [
    "## Loading Dataset"
   ]
  },
  {
   "cell_type": "code",
   "execution_count": 1,
   "id": "ae8984c7",
   "metadata": {},
   "outputs": [],
   "source": [
    "import numpy as np"
   ]
  },
  {
   "cell_type": "code",
   "execution_count": 2,
   "id": "92288fb8",
   "metadata": {},
   "outputs": [],
   "source": [
    "X_fn = \"./data/combine_astii_astiii_filter_all_smoothing_ox_norm.npy\"\n",
    "y_fn = \"./data/y_astii_astiii_filter_all_ox.npy\"\n",
    "patient_fn = \"./data/patient_astii_astiii_filter_all_ox.npy\"\n",
    "X_train_raw = np.load(X_fn,allow_pickle=True)\n",
    "y_train_raw = np.load(y_fn,allow_pickle=True)\n",
    "patient_train_raw = np.load(patient_fn,allow_pickle=True)\n",
    "\n",
    "classnames=['mrsa','mssa']\n",
    "\n"
   ]
  },
  {
   "cell_type": "code",
   "execution_count": 3,
   "id": "fa1db3d8",
   "metadata": {},
   "outputs": [],
   "source": [
    "if not isinstance(X_train_raw, np.ndarray):\n",
    "    X_train_raw = np.array(X_train_raw, dtype=np.float32)\n",
    "elif X_train_raw.dtype != np.float32:\n",
    "    X_train_raw = X_train_raw.astype(np.float32)"
   ]
  },
  {
   "cell_type": "markdown",
   "id": "7152edc6",
   "metadata": {},
   "source": [
    "## Model Setting"
   ]
  },
  {
   "cell_type": "code",
   "execution_count": null,
   "id": "5425f364",
   "metadata": {},
   "outputs": [
    {
     "name": "stderr",
     "output_type": "stream",
     "text": [
      "2025-07-18 09:21:05.410803: E external/local_xla/xla/stream_executor/cuda/cuda_dnn.cc:9261] Unable to register cuDNN factory: Attempting to register factory for plugin cuDNN when one has already been registered\n",
      "2025-07-18 09:21:05.410828: E external/local_xla/xla/stream_executor/cuda/cuda_fft.cc:607] Unable to register cuFFT factory: Attempting to register factory for plugin cuFFT when one has already been registered\n",
      "2025-07-18 09:21:05.411690: E external/local_xla/xla/stream_executor/cuda/cuda_blas.cc:1515] Unable to register cuBLAS factory: Attempting to register factory for plugin cuBLAS when one has already been registered\n"
     ]
    }
   ],
   "source": [
    "# model\n",
    "from Variant_LeNet import Variant_LeNet\n",
    "from tqdm import tqdm\n",
    "import torch\n",
    "import pandas as pd\n",
    "import torch.nn as nn\n",
    "from torch.autograd import Variable\n",
    "from FocalLoss import FocalLoss\n",
    "from losses import AdaptiveProxyAnchorLoss\n",
    "from imblearn.metrics import specificity_score\n",
    "from sklearn.metrics import (\n",
    "    confusion_matrix,\n",
    "    accuracy_score,\n",
    "    precision_score,\n",
    "    recall_score,\n",
    "    f1_score,\n",
    "    auc,\n",
    "    roc_curve,\n",
    ")\n",
    "from pytorchtools import EarlyStopping\n",
    "# Plot\n",
    "from plot import plot_MRSA_MSSA_ROC_curve, plot_heatmap,plot_tsne_interactive_html\n",
    "import matplotlib.pyplot as plt\n",
    "\n",
    "import seaborn as sns\n",
    "from sklearn.metrics import confusion_matrix\n",
    "from config import ORDER, STRAINS\n",
    "import math\n",
    "\n",
    "# Training setting\n",
    "n_classes = 2\n",
    "epochs = 300 \n",
    "batch_size = 256\n",
    "num = 10\n",
    "num_workers = 7\n",
    "\n",
    "# metrics\n",
    "train_avg_accuracy = []\n",
    "avg_accuracy = []\n",
    "avg_roc = []\n",
    "C_total = np.zeros((n_classes, n_classes))\n",
    "C = np.zeros((n_classes, n_classes))\n",
    "C_new = np.zeros((n_classes, n_classes))"
   ]
  },
  {
   "cell_type": "code",
   "execution_count": 5,
   "id": "e2a64d2c",
   "metadata": {},
   "outputs": [],
   "source": [
    "class Solver:\n",
    "    def __init__(\n",
    "        self,\n",
    "        i,\n",
    "        dataloaders,\n",
    "        model,\n",
    "        model_path,\n",
    "        device,\n",
    "        n_classes,\n",
    "        alpha,\n",
    "        gpu=-1,\n",
    "    ):\n",
    "        self.i = i\n",
    "        self.dataloaders = dataloaders\n",
    "        self.device = device\n",
    "        self.net = model\n",
    "        self.net = self.net.to(self.device)\n",
    "        self.n_classes = n_classes\n",
    "        self.criterion_proxy =AdaptiveProxyAnchorLoss(nb_classes=n_classes, sz_embed=256, mrg=0.5, alpha=32,\\\n",
    "                                             nb_proxies=1, scale_margin=1).cuda()\n",
    "        self.criterion = FocalLoss(alpha=alpha, gamma=2).cuda()\n",
    "        self.get_num_labeled_class = 2\n",
    "        self.param_groups = [\n",
    "            {'params': list(set(model.parameters()).difference(set(model.embedding.parameters())))},\n",
    "            {'params': model.embedding.parameters() , 'lr':float(0.001) * 1},\n",
    "            {'params': self.criterion_proxy.mrg,'lr':float(0.001) },\n",
    "            {'params': self.criterion_proxy.proxies, 'lr':float(0.001) * 100}\n",
    "        ]\n",
    "        self.optimizer =torch.optim.AdamW(self.param_groups, lr=0.001, weight_decay = 0.001)\n",
    "        self.model_path = model_path\n",
    "\n",
    "\n",
    "    def iterate(self, epoch, phase):\n",
    "        if phase == \"train\":\n",
    "            self.net.train()\n",
    "        else:\n",
    "            self.net.eval()\n",
    "\n",
    "            \n",
    "        dataloader = self.dataloaders[phase]\n",
    "        total_loss = 0\n",
    "        correct = 0\n",
    "        total = 0\n",
    "        total_proxy_loss = 0\n",
    "        total_crossentropy_loss = 0\n",
    "            \n",
    "        for batch_idx, (inputs, targets,patients) in enumerate(dataloader):\n",
    "            inputs, targets,patients = Variable(inputs).to(self.device), Variable(targets.long()).to(self.device), patients\n",
    "            #print(inputs.shape)\n",
    "            out,emb= self.net(inputs)\n",
    "            \n",
    "            loss1 = self.criterion(out, targets)\n",
    "            loss2 = self.criterion_proxy(emb, targets)\n",
    "            loss = loss1 + 0.5 * loss2\n",
    "            outputs = torch.argmax(out.detach(), dim=1)\n",
    "            \n",
    "            if phase == \"train\":\n",
    "                self.optimizer.zero_grad()\n",
    "                loss.backward()\n",
    "                self.optimizer.step()\n",
    "                torch.nn.utils.clip_grad_value_(self.net.parameters(), 10)\n",
    "                torch.nn.utils.clip_grad_value_(self.criterion_proxy.parameters(), 10)\n",
    "\n",
    "\n",
    "            total_loss += loss.item()\n",
    "            total_proxy_loss += loss2.item()\n",
    "            total_crossentropy_loss += loss1.item()\n",
    "            total += targets.size(0)\n",
    "            correct += outputs.eq(targets).cpu().sum().item()\n",
    "\n",
    "        total_loss /= (batch_idx + 1)\n",
    "        total_acc = correct / total\n",
    "\n",
    "                \n",
    "        print(\"\\nepoch %d: %s average loss: %.3f | acc: %.2f%% (%d/%d)\"\n",
    "                % (epoch + 1, phase, total_loss, 100.0 * total_acc, correct, total))\n",
    "\n",
    "        return total_loss,total_acc,out,targets\n",
    "            \n",
    "\n",
    "    def train(self, epochs):\n",
    "        best_loss = float(\"inf\")\n",
    "        best_acc = 0\n",
    "        epoch_breaks_classifer = 0\n",
    "        train_losses = []\n",
    "        train_acces = [] \n",
    "        test_losses = []\n",
    "        test_acces = [] \n",
    "\n",
    "        self.scheduler = torch.optim.lr_scheduler.CosineAnnealingLR(self.optimizer, T_max=60)\n",
    "\n",
    "        early_stopping_classifier = EarlyStopping(patience=25, mode='acc', verbose=True)\n",
    "\n",
    "        for epoch in tqdm(range(epochs)):\n",
    "            train_loss,train_acc,out,targets =self.iterate(epoch, \"train\")\n",
    "\n",
    "            train_losses.append(train_loss)\n",
    "            train_acces.append(train_acc)\n",
    "\n",
    "            with torch.no_grad():\n",
    "                \n",
    "                test_loss,test_acc,out,targets= self.iterate(epoch, \"test\")\n",
    "                    \n",
    "                test_losses.append(test_loss)\n",
    "                test_acces.append(test_acc)\n",
    "\n",
    "                if test_acc > best_acc:\n",
    "                    best_acc = test_acc\n",
    "                    checkpoint = {\n",
    "                        \"epoch\": epoch,\n",
    "                         \"train_acc\":train_acc,\n",
    "                        \"test_acc\":test_acc,\n",
    "                        \"test_loss\": test_loss,\n",
    "                        \"state_dict\": self.net.state_dict(),\n",
    "                    }\n",
    "                    print(\"best test acc found\")\n",
    "                    torch.save(checkpoint, self.model_path)\n",
    "                \n",
    "                self.scheduler.step()\n",
    "\n",
    "                early_stopping_classifier(test_acc)\n",
    "\n",
    "                epoch_breaks_classifer+= 1\n",
    "\n",
    "                if early_stopping_classifier.early_stop:\n",
    "                    break  # 停止訓練\n",
    "        \n",
    "        if not early_stopping_classifier.early_stop:\n",
    "            epoch_breaks_classifer = epochs\n",
    "        \n",
    "\n",
    "    def test_iterate(self, phase):\n",
    "        self.net.eval()\n",
    "        dataloader = self.dataloaders[phase]\n",
    "        y_pred = []\n",
    "        y_true = []\n",
    "        y_pred_prob = []\n",
    "        \n",
    "        features_out = []\n",
    "        features_combine = []\n",
    "        targets_combine = []\n",
    "        patient_ids = []\n",
    "        \n",
    "        with torch.no_grad():\n",
    "            for batch_idx, (inputs, targets,patients) in enumerate(dataloader):\n",
    "                inputs, targets ,patients = Variable(inputs).to('cuda'), Variable(targets.long()).to('cuda'), patients\n",
    "                out,emb = self.net(inputs)\n",
    "                outputs = torch.argmax(out.detach(), dim=1)\n",
    "                outputs_prob = nn.functional.softmax(out.detach(), dim=1)\n",
    "                y_pred.append(outputs.cpu().numpy())\n",
    "                y_pred_prob.append(outputs_prob.cpu().numpy())\n",
    "            \n",
    "                y_true.append(targets.cpu().numpy())\n",
    "                \n",
    "                targets_combine.append(targets.detach().cpu().numpy())\n",
    "                patient_ids.append(patients)\n",
    "                features_out.append(out.cpu().numpy())\n",
    "                features_combine.append(emb.detach().cpu().numpy())\n",
    "\n",
    "            targets_combine = np.concatenate(targets_combine, axis=0) \n",
    "            patient_ids = np.concatenate( patient_ids, axis=0) \n",
    "            features_out = np.concatenate(features_out, axis=0)\n",
    "            features_combine = np.concatenate(features_combine, axis=0)\n",
    "        \n",
    "        return (\n",
    "                np.hstack(y_pred),\n",
    "                np.hstack(y_true),\n",
    "                np.vstack(y_pred_prob),\n",
    "                features_out,\n",
    "                features_combine,\n",
    "                targets_combine,\n",
    "                patient_ids,\n",
    "            )\n",
    "    def test(self):\n",
    "        checkpoint = torch.load(self.model_path)\n",
    "        epoch = checkpoint[\"epoch\"]\n",
    "        train_acc = checkpoint[\"train_acc\"]\n",
    "        test_acc = checkpoint[\"test_acc\"]\n",
    "        self.net.load_state_dict(checkpoint[\"state_dict\"])\n",
    "        print(\"load model at epoch {}, with test acc : {:.3f}\".format(epoch+1, test_acc))\n",
    "\n",
    "        \n",
    "        _, _ ,_,train_out,train_combined,train_targets,train_patient_ids = self.test_iterate(\"train\")\n",
    "        y_pred, y_true ,y_pred_prob,out,combined,targets, test_patient_ids,= self.test_iterate(\"test\")\n",
    "        \n",
    "        print(\"total\", accuracy_score(y_true, y_pred))\n",
    "        for i in range(self.n_classes):\n",
    "            idx = y_true == i\n",
    "            print(\"class\", i, accuracy_score(y_true[idx], y_pred[idx]))\n",
    "\n",
    "        return (\n",
    "            confusion_matrix(y_true, y_pred),\n",
    "            y_true,\n",
    "            y_pred,\n",
    "            accuracy_score(y_true, y_pred),\n",
    "            y_pred_prob,\n",
    "            train_acc,\n",
    "            train_targets,\n",
    "            targets,\n",
    "            train_combined,\n",
    "            combined,\n",
    "            train_patient_ids,\n",
    "            test_patient_ids\n",
    "        )"
   ]
  },
  {
   "cell_type": "code",
   "execution_count": null,
   "id": "77d2e6c5",
   "metadata": {},
   "outputs": [
    {
     "name": "stdout",
     "output_type": "stream",
     "text": [
      "1\n"
     ]
    },
    {
     "name": "stderr",
     "output_type": "stream",
     "text": [
      "  0%|          | 0/300 [00:00<?, ?it/s]"
     ]
    },
    {
     "name": "stdout",
     "output_type": "stream",
     "text": [
      "\n",
      "epoch 1: train average loss: 33.746 | acc: 65.06% (1823/2802)\n"
     ]
    },
    {
     "name": "stderr",
     "output_type": "stream",
     "text": [
      "  0%|          | 1/300 [00:00<03:47,  1.31it/s]"
     ]
    },
    {
     "name": "stdout",
     "output_type": "stream",
     "text": [
      "\n",
      "epoch 1: test average loss: 27.534 | acc: 29.81% (93/312)\n",
      "best test acc found\n",
      "\n",
      "epoch 2: train average loss: 27.863 | acc: 72.56% (2033/2802)\n"
     ]
    },
    {
     "name": "stderr",
     "output_type": "stream",
     "text": [
      "  1%|          | 2/300 [00:01<02:51,  1.74it/s]"
     ]
    },
    {
     "name": "stdout",
     "output_type": "stream",
     "text": [
      "\n",
      "epoch 2: test average loss: 22.790 | acc: 29.81% (93/312)\n",
      "EarlyStopping counter: 1/25 (best: 0.2981)\n",
      "\n",
      "epoch 3: train average loss: 24.353 | acc: 75.70% (2121/2802)\n"
     ]
    },
    {
     "name": "stderr",
     "output_type": "stream",
     "text": [
      "  1%|          | 3/300 [00:01<02:35,  1.91it/s]"
     ]
    },
    {
     "name": "stdout",
     "output_type": "stream",
     "text": [
      "\n",
      "epoch 3: test average loss: 20.957 | acc: 29.81% (93/312)\n",
      "EarlyStopping counter: 2/25 (best: 0.2981)\n",
      "\n",
      "epoch 4: train average loss: 22.134 | acc: 81.05% (2271/2802)\n"
     ]
    },
    {
     "name": "stderr",
     "output_type": "stream",
     "text": [
      "  1%|▏         | 4/300 [00:02<02:27,  2.00it/s]"
     ]
    },
    {
     "name": "stdout",
     "output_type": "stream",
     "text": [
      "\n",
      "epoch 4: test average loss: 21.912 | acc: 29.81% (93/312)\n",
      "EarlyStopping counter: 3/25 (best: 0.2981)\n",
      "\n",
      "epoch 5: train average loss: 20.642 | acc: 83.48% (2339/2802)\n"
     ]
    },
    {
     "name": "stderr",
     "output_type": "stream",
     "text": [
      "  2%|▏         | 5/300 [00:02<02:20,  2.11it/s]"
     ]
    },
    {
     "name": "stdout",
     "output_type": "stream",
     "text": [
      "\n",
      "epoch 5: test average loss: 22.551 | acc: 58.97% (184/312)\n",
      "best test acc found\n",
      "\n",
      "epoch 6: train average loss: 19.718 | acc: 86.83% (2433/2802)\n"
     ]
    },
    {
     "name": "stderr",
     "output_type": "stream",
     "text": [
      "  2%|▏         | 6/300 [00:03<02:17,  2.15it/s]"
     ]
    },
    {
     "name": "stdout",
     "output_type": "stream",
     "text": [
      "\n",
      "epoch 6: test average loss: 22.557 | acc: 72.12% (225/312)\n",
      "best test acc found\n",
      "\n",
      "epoch 7: train average loss: 19.142 | acc: 88.33% (2475/2802)\n"
     ]
    },
    {
     "name": "stderr",
     "output_type": "stream",
     "text": [
      "  2%|▏         | 7/300 [00:03<02:15,  2.16it/s]"
     ]
    },
    {
     "name": "stdout",
     "output_type": "stream",
     "text": [
      "\n",
      "epoch 7: test average loss: 22.305 | acc: 75.64% (236/312)\n",
      "best test acc found\n",
      "\n",
      "epoch 8: train average loss: 18.450 | acc: 90.54% (2537/2802)\n"
     ]
    },
    {
     "name": "stderr",
     "output_type": "stream",
     "text": [
      "  3%|▎         | 8/300 [00:03<02:12,  2.21it/s]"
     ]
    },
    {
     "name": "stdout",
     "output_type": "stream",
     "text": [
      "\n",
      "epoch 8: test average loss: 20.944 | acc: 74.04% (231/312)\n",
      "EarlyStopping counter: 1/25 (best: 0.7564)\n",
      "\n",
      "epoch 9: train average loss: 17.893 | acc: 91.33% (2559/2802)\n"
     ]
    },
    {
     "name": "stderr",
     "output_type": "stream",
     "text": [
      "  3%|▎         | 9/300 [00:04<02:11,  2.22it/s]"
     ]
    },
    {
     "name": "stdout",
     "output_type": "stream",
     "text": [
      "\n",
      "epoch 9: test average loss: 20.088 | acc: 80.13% (250/312)\n",
      "best test acc found\n",
      "\n",
      "epoch 10: train average loss: 17.487 | acc: 92.86% (2602/2802)\n"
     ]
    },
    {
     "name": "stderr",
     "output_type": "stream",
     "text": [
      "  3%|▎         | 10/300 [00:04<02:09,  2.24it/s]"
     ]
    },
    {
     "name": "stdout",
     "output_type": "stream",
     "text": [
      "\n",
      "epoch 10: test average loss: 18.853 | acc: 70.83% (221/312)\n",
      "EarlyStopping counter: 1/25 (best: 0.8013)\n",
      "\n",
      "epoch 11: train average loss: 16.948 | acc: 92.79% (2600/2802)\n"
     ]
    },
    {
     "name": "stderr",
     "output_type": "stream",
     "text": [
      "  4%|▎         | 11/300 [00:05<02:06,  2.28it/s]"
     ]
    },
    {
     "name": "stdout",
     "output_type": "stream",
     "text": [
      "\n",
      "epoch 11: test average loss: 17.989 | acc: 55.77% (174/312)\n",
      "EarlyStopping counter: 2/25 (best: 0.8013)\n",
      "\n",
      "epoch 12: train average loss: 16.546 | acc: 93.40% (2617/2802)\n"
     ]
    },
    {
     "name": "stderr",
     "output_type": "stream",
     "text": [
      "  4%|▍         | 12/300 [00:05<02:06,  2.28it/s]"
     ]
    },
    {
     "name": "stdout",
     "output_type": "stream",
     "text": [
      "\n",
      "epoch 12: test average loss: 20.380 | acc: 60.90% (190/312)\n",
      "EarlyStopping counter: 3/25 (best: 0.8013)\n",
      "\n",
      "epoch 13: train average loss: 16.538 | acc: 93.18% (2611/2802)\n"
     ]
    },
    {
     "name": "stderr",
     "output_type": "stream",
     "text": [
      "  4%|▍         | 13/300 [00:06<02:05,  2.29it/s]"
     ]
    },
    {
     "name": "stdout",
     "output_type": "stream",
     "text": [
      "\n",
      "epoch 13: test average loss: 21.043 | acc: 91.03% (284/312)\n",
      "best test acc found\n",
      "\n",
      "epoch 14: train average loss: 15.908 | acc: 94.72% (2654/2802)\n"
     ]
    },
    {
     "name": "stderr",
     "output_type": "stream",
     "text": [
      "  5%|▍         | 14/300 [00:06<02:05,  2.28it/s]"
     ]
    },
    {
     "name": "stdout",
     "output_type": "stream",
     "text": [
      "\n",
      "epoch 14: test average loss: 19.389 | acc: 93.91% (293/312)\n",
      "best test acc found\n",
      "\n",
      "epoch 15: train average loss: 15.799 | acc: 94.15% (2638/2802)\n"
     ]
    },
    {
     "name": "stderr",
     "output_type": "stream",
     "text": [
      "  5%|▌         | 15/300 [00:06<02:03,  2.30it/s]"
     ]
    },
    {
     "name": "stdout",
     "output_type": "stream",
     "text": [
      "\n",
      "epoch 15: test average loss: 17.715 | acc: 78.21% (244/312)\n",
      "EarlyStopping counter: 1/25 (best: 0.9391)\n",
      "\n",
      "epoch 16: train average loss: 15.249 | acc: 94.93% (2660/2802)\n"
     ]
    },
    {
     "name": "stderr",
     "output_type": "stream",
     "text": [
      "  5%|▌         | 16/300 [00:07<02:01,  2.34it/s]"
     ]
    },
    {
     "name": "stdout",
     "output_type": "stream",
     "text": [
      "\n",
      "epoch 16: test average loss: 15.646 | acc: 91.99% (287/312)\n",
      "EarlyStopping counter: 2/25 (best: 0.9391)\n",
      "\n",
      "epoch 17: train average loss: 14.514 | acc: 95.90% (2687/2802)\n"
     ]
    },
    {
     "name": "stderr",
     "output_type": "stream",
     "text": [
      "  6%|▌         | 17/300 [00:07<02:01,  2.33it/s]"
     ]
    },
    {
     "name": "stdout",
     "output_type": "stream",
     "text": [
      "\n",
      "epoch 17: test average loss: 18.092 | acc: 77.24% (241/312)\n",
      "EarlyStopping counter: 3/25 (best: 0.9391)\n",
      "\n",
      "epoch 18: train average loss: 14.393 | acc: 95.72% (2682/2802)\n"
     ]
    },
    {
     "name": "stderr",
     "output_type": "stream",
     "text": [
      "  6%|▌         | 18/300 [00:08<01:59,  2.35it/s]"
     ]
    },
    {
     "name": "stdout",
     "output_type": "stream",
     "text": [
      "\n",
      "epoch 18: test average loss: 15.775 | acc: 85.90% (268/312)\n",
      "EarlyStopping counter: 4/25 (best: 0.9391)\n",
      "\n",
      "epoch 19: train average loss: 13.777 | acc: 96.43% (2702/2802)\n"
     ]
    },
    {
     "name": "stderr",
     "output_type": "stream",
     "text": [
      "  6%|▋         | 19/300 [00:08<01:58,  2.37it/s]"
     ]
    },
    {
     "name": "stdout",
     "output_type": "stream",
     "text": [
      "\n",
      "epoch 19: test average loss: 16.700 | acc: 85.58% (267/312)\n",
      "EarlyStopping counter: 5/25 (best: 0.9391)\n",
      "\n",
      "epoch 20: train average loss: 13.322 | acc: 97.00% (2718/2802)\n"
     ]
    },
    {
     "name": "stderr",
     "output_type": "stream",
     "text": [
      "  7%|▋         | 20/300 [00:09<02:00,  2.33it/s]"
     ]
    },
    {
     "name": "stdout",
     "output_type": "stream",
     "text": [
      "\n",
      "epoch 20: test average loss: 16.717 | acc: 88.14% (275/312)\n",
      "EarlyStopping counter: 6/25 (best: 0.9391)\n",
      "\n",
      "epoch 21: train average loss: 13.681 | acc: 96.82% (2713/2802)\n"
     ]
    },
    {
     "name": "stderr",
     "output_type": "stream",
     "text": [
      "  7%|▋         | 21/300 [00:09<02:02,  2.27it/s]"
     ]
    },
    {
     "name": "stdout",
     "output_type": "stream",
     "text": [
      "\n",
      "epoch 21: test average loss: 17.772 | acc: 80.13% (250/312)\n",
      "EarlyStopping counter: 7/25 (best: 0.9391)\n",
      "\n",
      "epoch 22: train average loss: 13.734 | acc: 96.15% (2694/2802)\n"
     ]
    },
    {
     "name": "stderr",
     "output_type": "stream",
     "text": [
      "  7%|▋         | 22/300 [00:10<02:05,  2.22it/s]"
     ]
    },
    {
     "name": "stdout",
     "output_type": "stream",
     "text": [
      "\n",
      "epoch 22: test average loss: 17.537 | acc: 92.63% (289/312)\n",
      "EarlyStopping counter: 8/25 (best: 0.9391)\n",
      "\n",
      "epoch 23: train average loss: 13.006 | acc: 97.04% (2719/2802)\n"
     ]
    },
    {
     "name": "stderr",
     "output_type": "stream",
     "text": [
      "  8%|▊         | 23/300 [00:10<02:06,  2.19it/s]"
     ]
    },
    {
     "name": "stdout",
     "output_type": "stream",
     "text": [
      "\n",
      "epoch 23: test average loss: 15.290 | acc: 89.42% (279/312)\n",
      "EarlyStopping counter: 9/25 (best: 0.9391)\n",
      "\n",
      "epoch 24: train average loss: 12.465 | acc: 97.93% (2744/2802)\n"
     ]
    },
    {
     "name": "stderr",
     "output_type": "stream",
     "text": [
      "  8%|▊         | 24/300 [00:10<02:05,  2.20it/s]"
     ]
    },
    {
     "name": "stdout",
     "output_type": "stream",
     "text": [
      "\n",
      "epoch 24: test average loss: 14.525 | acc: 79.81% (249/312)\n",
      "EarlyStopping counter: 10/25 (best: 0.9391)\n",
      "\n",
      "epoch 25: train average loss: 11.966 | acc: 98.14% (2750/2802)\n"
     ]
    },
    {
     "name": "stderr",
     "output_type": "stream",
     "text": [
      "  8%|▊         | 25/300 [00:11<02:06,  2.17it/s]"
     ]
    },
    {
     "name": "stdout",
     "output_type": "stream",
     "text": [
      "\n",
      "epoch 25: test average loss: 15.377 | acc: 96.79% (302/312)\n",
      "best test acc found\n",
      "\n",
      "epoch 26: train average loss: 11.543 | acc: 98.11% (2749/2802)\n"
     ]
    },
    {
     "name": "stderr",
     "output_type": "stream",
     "text": [
      "  9%|▊         | 26/300 [00:11<02:03,  2.22it/s]"
     ]
    },
    {
     "name": "stdout",
     "output_type": "stream",
     "text": [
      "\n",
      "epoch 26: test average loss: 14.884 | acc: 88.46% (276/312)\n",
      "EarlyStopping counter: 1/25 (best: 0.9679)\n",
      "\n",
      "epoch 27: train average loss: 11.205 | acc: 98.43% (2758/2802)\n"
     ]
    },
    {
     "name": "stderr",
     "output_type": "stream",
     "text": [
      "  9%|▉         | 27/300 [00:12<02:00,  2.26it/s]"
     ]
    },
    {
     "name": "stdout",
     "output_type": "stream",
     "text": [
      "\n",
      "epoch 27: test average loss: 17.467 | acc: 65.06% (203/312)\n",
      "EarlyStopping counter: 2/25 (best: 0.9679)\n",
      "\n",
      "epoch 28: train average loss: 11.436 | acc: 98.32% (2755/2802)\n"
     ]
    },
    {
     "name": "stderr",
     "output_type": "stream",
     "text": [
      "  9%|▉         | 28/300 [00:12<02:01,  2.24it/s]"
     ]
    },
    {
     "name": "stdout",
     "output_type": "stream",
     "text": [
      "\n",
      "epoch 28: test average loss: 16.145 | acc: 91.67% (286/312)\n",
      "EarlyStopping counter: 3/25 (best: 0.9679)\n",
      "\n",
      "epoch 29: train average loss: 11.242 | acc: 98.72% (2766/2802)\n"
     ]
    },
    {
     "name": "stderr",
     "output_type": "stream",
     "text": [
      " 10%|▉         | 29/300 [00:13<02:02,  2.22it/s]"
     ]
    },
    {
     "name": "stdout",
     "output_type": "stream",
     "text": [
      "\n",
      "epoch 29: test average loss: 16.903 | acc: 93.91% (293/312)\n",
      "EarlyStopping counter: 4/25 (best: 0.9679)\n",
      "\n",
      "epoch 30: train average loss: 11.137 | acc: 98.64% (2764/2802)\n"
     ]
    },
    {
     "name": "stderr",
     "output_type": "stream",
     "text": [
      " 10%|█         | 30/300 [00:13<02:01,  2.22it/s]"
     ]
    },
    {
     "name": "stdout",
     "output_type": "stream",
     "text": [
      "\n",
      "epoch 30: test average loss: 14.315 | acc: 91.99% (287/312)\n",
      "EarlyStopping counter: 5/25 (best: 0.9679)\n",
      "\n",
      "epoch 31: train average loss: 10.596 | acc: 98.75% (2767/2802)\n"
     ]
    },
    {
     "name": "stderr",
     "output_type": "stream",
     "text": [
      " 10%|█         | 31/300 [00:14<02:04,  2.16it/s]"
     ]
    },
    {
     "name": "stdout",
     "output_type": "stream",
     "text": [
      "\n",
      "epoch 31: test average loss: 14.227 | acc: 96.47% (301/312)\n",
      "EarlyStopping counter: 6/25 (best: 0.9679)\n",
      "\n",
      "epoch 32: train average loss: 10.102 | acc: 98.93% (2772/2802)\n"
     ]
    },
    {
     "name": "stderr",
     "output_type": "stream",
     "text": [
      " 11%|█         | 32/300 [00:14<02:10,  2.05it/s]"
     ]
    },
    {
     "name": "stdout",
     "output_type": "stream",
     "text": [
      "\n",
      "epoch 32: test average loss: 15.189 | acc: 95.83% (299/312)\n",
      "EarlyStopping counter: 7/25 (best: 0.9679)\n",
      "\n",
      "epoch 33: train average loss: 9.894 | acc: 98.86% (2770/2802)\n"
     ]
    },
    {
     "name": "stderr",
     "output_type": "stream",
     "text": [
      " 11%|█         | 33/300 [00:15<02:10,  2.04it/s]"
     ]
    },
    {
     "name": "stdout",
     "output_type": "stream",
     "text": [
      "\n",
      "epoch 33: test average loss: 17.727 | acc: 82.37% (257/312)\n",
      "EarlyStopping counter: 8/25 (best: 0.9679)\n",
      "\n",
      "epoch 34: train average loss: 9.626 | acc: 99.18% (2779/2802)\n"
     ]
    },
    {
     "name": "stderr",
     "output_type": "stream",
     "text": [
      " 11%|█▏        | 34/300 [00:15<02:07,  2.08it/s]"
     ]
    },
    {
     "name": "stdout",
     "output_type": "stream",
     "text": [
      "\n",
      "epoch 34: test average loss: 16.229 | acc: 94.87% (296/312)\n",
      "EarlyStopping counter: 9/25 (best: 0.9679)\n",
      "\n",
      "epoch 35: train average loss: 9.178 | acc: 99.29% (2782/2802)\n"
     ]
    },
    {
     "name": "stderr",
     "output_type": "stream",
     "text": [
      " 12%|█▏        | 35/300 [00:16<02:02,  2.16it/s]"
     ]
    },
    {
     "name": "stdout",
     "output_type": "stream",
     "text": [
      "\n",
      "epoch 35: test average loss: 13.096 | acc: 95.19% (297/312)\n",
      "EarlyStopping counter: 10/25 (best: 0.9679)\n",
      "\n",
      "epoch 36: train average loss: 8.632 | acc: 99.71% (2794/2802)\n"
     ]
    },
    {
     "name": "stderr",
     "output_type": "stream",
     "text": [
      " 12%|█▏        | 36/300 [00:16<01:58,  2.23it/s]"
     ]
    },
    {
     "name": "stdout",
     "output_type": "stream",
     "text": [
      "\n",
      "epoch 36: test average loss: 13.997 | acc: 95.19% (297/312)\n",
      "EarlyStopping counter: 11/25 (best: 0.9679)\n",
      "\n",
      "epoch 37: train average loss: 8.296 | acc: 99.46% (2787/2802)\n"
     ]
    },
    {
     "name": "stderr",
     "output_type": "stream",
     "text": [
      " 12%|█▏        | 37/300 [00:16<01:55,  2.28it/s]"
     ]
    },
    {
     "name": "stdout",
     "output_type": "stream",
     "text": [
      "\n",
      "epoch 37: test average loss: 15.339 | acc: 96.47% (301/312)\n",
      "EarlyStopping counter: 12/25 (best: 0.9679)\n",
      "\n",
      "epoch 38: train average loss: 8.090 | acc: 99.57% (2790/2802)\n"
     ]
    },
    {
     "name": "stderr",
     "output_type": "stream",
     "text": [
      " 13%|█▎        | 38/300 [00:17<01:53,  2.31it/s]"
     ]
    },
    {
     "name": "stdout",
     "output_type": "stream",
     "text": [
      "\n",
      "epoch 38: test average loss: 13.459 | acc: 95.51% (298/312)\n",
      "EarlyStopping counter: 13/25 (best: 0.9679)\n",
      "\n",
      "epoch 39: train average loss: 7.662 | acc: 99.82% (2797/2802)\n"
     ]
    },
    {
     "name": "stderr",
     "output_type": "stream",
     "text": [
      " 13%|█▎        | 39/300 [00:17<01:53,  2.30it/s]"
     ]
    },
    {
     "name": "stdout",
     "output_type": "stream",
     "text": [
      "\n",
      "epoch 39: test average loss: 14.091 | acc: 91.67% (286/312)\n",
      "EarlyStopping counter: 14/25 (best: 0.9679)\n",
      "\n",
      "epoch 40: train average loss: 7.810 | acc: 99.61% (2791/2802)\n"
     ]
    },
    {
     "name": "stderr",
     "output_type": "stream",
     "text": [
      " 13%|█▎        | 40/300 [00:18<01:52,  2.32it/s]"
     ]
    },
    {
     "name": "stdout",
     "output_type": "stream",
     "text": [
      "\n",
      "epoch 40: test average loss: 15.486 | acc: 94.87% (296/312)\n",
      "EarlyStopping counter: 15/25 (best: 0.9679)\n",
      "\n",
      "epoch 41: train average loss: 8.157 | acc: 99.43% (2786/2802)\n"
     ]
    },
    {
     "name": "stderr",
     "output_type": "stream",
     "text": [
      " 14%|█▎        | 41/300 [00:18<01:52,  2.30it/s]"
     ]
    },
    {
     "name": "stdout",
     "output_type": "stream",
     "text": [
      "\n",
      "epoch 41: test average loss: 16.716 | acc: 98.08% (306/312)\n",
      "best test acc found\n",
      "\n",
      "epoch 42: train average loss: 7.278 | acc: 99.82% (2797/2802)\n"
     ]
    },
    {
     "name": "stderr",
     "output_type": "stream",
     "text": [
      " 14%|█▍        | 42/300 [00:19<01:51,  2.32it/s]"
     ]
    },
    {
     "name": "stdout",
     "output_type": "stream",
     "text": [
      "\n",
      "epoch 42: test average loss: 15.396 | acc: 95.51% (298/312)\n",
      "EarlyStopping counter: 1/25 (best: 0.9808)\n",
      "\n",
      "epoch 43: train average loss: 6.935 | acc: 99.68% (2793/2802)\n"
     ]
    },
    {
     "name": "stderr",
     "output_type": "stream",
     "text": [
      " 14%|█▍        | 43/300 [00:19<01:50,  2.33it/s]"
     ]
    },
    {
     "name": "stdout",
     "output_type": "stream",
     "text": [
      "\n",
      "epoch 43: test average loss: 14.920 | acc: 92.63% (289/312)\n",
      "EarlyStopping counter: 2/25 (best: 0.9808)\n",
      "\n",
      "epoch 44: train average loss: 6.835 | acc: 99.71% (2794/2802)\n"
     ]
    },
    {
     "name": "stderr",
     "output_type": "stream",
     "text": [
      " 15%|█▍        | 44/300 [00:19<01:49,  2.34it/s]"
     ]
    },
    {
     "name": "stdout",
     "output_type": "stream",
     "text": [
      "\n",
      "epoch 44: test average loss: 14.569 | acc: 97.12% (303/312)\n",
      "EarlyStopping counter: 3/25 (best: 0.9808)\n",
      "\n",
      "epoch 45: train average loss: 6.353 | acc: 99.89% (2799/2802)\n"
     ]
    },
    {
     "name": "stderr",
     "output_type": "stream",
     "text": [
      " 15%|█▌        | 45/300 [00:20<01:51,  2.29it/s]"
     ]
    },
    {
     "name": "stdout",
     "output_type": "stream",
     "text": [
      "\n",
      "epoch 45: test average loss: 13.522 | acc: 95.51% (298/312)\n",
      "EarlyStopping counter: 4/25 (best: 0.9808)\n",
      "\n",
      "epoch 46: train average loss: 6.179 | acc: 99.86% (2798/2802)\n"
     ]
    },
    {
     "name": "stderr",
     "output_type": "stream",
     "text": [
      " 15%|█▌        | 46/300 [00:20<01:53,  2.25it/s]"
     ]
    },
    {
     "name": "stdout",
     "output_type": "stream",
     "text": [
      "\n",
      "epoch 46: test average loss: 13.412 | acc: 96.15% (300/312)\n",
      "EarlyStopping counter: 5/25 (best: 0.9808)\n",
      "\n",
      "epoch 47: train average loss: 6.079 | acc: 99.93% (2800/2802)\n"
     ]
    },
    {
     "name": "stderr",
     "output_type": "stream",
     "text": [
      " 16%|█▌        | 47/300 [00:21<01:54,  2.21it/s]"
     ]
    },
    {
     "name": "stdout",
     "output_type": "stream",
     "text": [
      "\n",
      "epoch 47: test average loss: 14.086 | acc: 93.59% (292/312)\n",
      "EarlyStopping counter: 6/25 (best: 0.9808)\n",
      "\n",
      "epoch 48: train average loss: 5.796 | acc: 99.96% (2801/2802)\n"
     ]
    },
    {
     "name": "stderr",
     "output_type": "stream",
     "text": [
      " 16%|█▌        | 48/300 [00:21<01:52,  2.23it/s]"
     ]
    },
    {
     "name": "stdout",
     "output_type": "stream",
     "text": [
      "\n",
      "epoch 48: test average loss: 14.876 | acc: 97.12% (303/312)\n",
      "EarlyStopping counter: 7/25 (best: 0.9808)\n",
      "\n",
      "epoch 49: train average loss: 5.578 | acc: 99.93% (2800/2802)\n"
     ]
    },
    {
     "name": "stderr",
     "output_type": "stream",
     "text": [
      " 16%|█▋        | 49/300 [00:22<01:51,  2.24it/s]"
     ]
    },
    {
     "name": "stdout",
     "output_type": "stream",
     "text": [
      "\n",
      "epoch 49: test average loss: 15.506 | acc: 97.44% (304/312)\n",
      "EarlyStopping counter: 8/25 (best: 0.9808)\n",
      "\n",
      "epoch 50: train average loss: 5.439 | acc: 99.96% (2801/2802)\n"
     ]
    },
    {
     "name": "stderr",
     "output_type": "stream",
     "text": [
      " 17%|█▋        | 50/300 [00:22<01:52,  2.22it/s]"
     ]
    },
    {
     "name": "stdout",
     "output_type": "stream",
     "text": [
      "\n",
      "epoch 50: test average loss: 15.240 | acc: 97.12% (303/312)\n",
      "EarlyStopping counter: 9/25 (best: 0.9808)\n",
      "\n",
      "epoch 51: train average loss: 5.375 | acc: 99.89% (2799/2802)\n"
     ]
    },
    {
     "name": "stderr",
     "output_type": "stream",
     "text": [
      " 17%|█▋        | 51/300 [00:23<01:51,  2.23it/s]"
     ]
    },
    {
     "name": "stdout",
     "output_type": "stream",
     "text": [
      "\n",
      "epoch 51: test average loss: 15.008 | acc: 98.40% (307/312)\n",
      "best test acc found\n",
      "\n",
      "epoch 52: train average loss: 5.219 | acc: 100.00% (2802/2802)\n"
     ]
    },
    {
     "name": "stderr",
     "output_type": "stream",
     "text": [
      " 17%|█▋        | 52/300 [00:23<01:51,  2.22it/s]"
     ]
    },
    {
     "name": "stdout",
     "output_type": "stream",
     "text": [
      "\n",
      "epoch 52: test average loss: 14.935 | acc: 96.47% (301/312)\n",
      "EarlyStopping counter: 1/25 (best: 0.9840)\n",
      "\n",
      "epoch 53: train average loss: 5.211 | acc: 99.89% (2799/2802)\n"
     ]
    },
    {
     "name": "stderr",
     "output_type": "stream",
     "text": [
      " 18%|█▊        | 53/300 [00:23<01:50,  2.24it/s]"
     ]
    },
    {
     "name": "stdout",
     "output_type": "stream",
     "text": [
      "\n",
      "epoch 53: test average loss: 15.272 | acc: 95.83% (299/312)\n",
      "EarlyStopping counter: 2/25 (best: 0.9840)\n",
      "\n",
      "epoch 54: train average loss: 5.079 | acc: 99.82% (2797/2802)\n"
     ]
    },
    {
     "name": "stderr",
     "output_type": "stream",
     "text": [
      " 18%|█▊        | 54/300 [00:24<01:49,  2.24it/s]"
     ]
    },
    {
     "name": "stdout",
     "output_type": "stream",
     "text": [
      "\n",
      "epoch 54: test average loss: 15.434 | acc: 97.12% (303/312)\n",
      "EarlyStopping counter: 3/25 (best: 0.9840)\n",
      "\n",
      "epoch 55: train average loss: 4.970 | acc: 100.00% (2802/2802)\n"
     ]
    },
    {
     "name": "stderr",
     "output_type": "stream",
     "text": [
      " 18%|█▊        | 55/300 [00:24<01:49,  2.23it/s]"
     ]
    },
    {
     "name": "stdout",
     "output_type": "stream",
     "text": [
      "\n",
      "epoch 55: test average loss: 15.634 | acc: 97.12% (303/312)\n",
      "EarlyStopping counter: 4/25 (best: 0.9840)\n",
      "\n",
      "epoch 56: train average loss: 5.051 | acc: 99.86% (2798/2802)\n"
     ]
    },
    {
     "name": "stderr",
     "output_type": "stream",
     "text": [
      " 19%|█▊        | 56/300 [00:25<01:47,  2.27it/s]"
     ]
    },
    {
     "name": "stdout",
     "output_type": "stream",
     "text": [
      "\n",
      "epoch 56: test average loss: 15.842 | acc: 97.12% (303/312)\n",
      "EarlyStopping counter: 5/25 (best: 0.9840)\n",
      "\n",
      "epoch 57: train average loss: 5.060 | acc: 99.89% (2799/2802)\n"
     ]
    },
    {
     "name": "stderr",
     "output_type": "stream",
     "text": [
      " 19%|█▉        | 57/300 [00:25<01:47,  2.25it/s]"
     ]
    },
    {
     "name": "stdout",
     "output_type": "stream",
     "text": [
      "\n",
      "epoch 57: test average loss: 15.785 | acc: 96.79% (302/312)\n",
      "EarlyStopping counter: 6/25 (best: 0.9840)\n",
      "\n",
      "epoch 58: train average loss: 4.959 | acc: 100.00% (2802/2802)\n"
     ]
    },
    {
     "name": "stderr",
     "output_type": "stream",
     "text": [
      " 19%|█▉        | 58/300 [00:26<01:47,  2.24it/s]"
     ]
    },
    {
     "name": "stdout",
     "output_type": "stream",
     "text": [
      "\n",
      "epoch 58: test average loss: 15.738 | acc: 96.79% (302/312)\n",
      "EarlyStopping counter: 7/25 (best: 0.9840)\n",
      "\n",
      "epoch 59: train average loss: 4.915 | acc: 100.00% (2802/2802)\n"
     ]
    },
    {
     "name": "stderr",
     "output_type": "stream",
     "text": [
      " 20%|█▉        | 59/300 [00:26<01:46,  2.27it/s]"
     ]
    },
    {
     "name": "stdout",
     "output_type": "stream",
     "text": [
      "\n",
      "epoch 59: test average loss: 15.738 | acc: 96.79% (302/312)\n",
      "EarlyStopping counter: 8/25 (best: 0.9840)\n",
      "\n",
      "epoch 60: train average loss: 4.939 | acc: 99.96% (2801/2802)\n"
     ]
    },
    {
     "name": "stderr",
     "output_type": "stream",
     "text": [
      " 20%|██        | 60/300 [00:27<01:47,  2.24it/s]"
     ]
    },
    {
     "name": "stdout",
     "output_type": "stream",
     "text": [
      "\n",
      "epoch 60: test average loss: 15.755 | acc: 96.79% (302/312)\n",
      "EarlyStopping counter: 9/25 (best: 0.9840)\n",
      "\n",
      "epoch 61: train average loss: 4.952 | acc: 100.00% (2802/2802)\n"
     ]
    },
    {
     "name": "stderr",
     "output_type": "stream",
     "text": [
      " 20%|██        | 61/300 [00:27<01:45,  2.27it/s]"
     ]
    },
    {
     "name": "stdout",
     "output_type": "stream",
     "text": [
      "\n",
      "epoch 61: test average loss: 15.741 | acc: 96.79% (302/312)\n",
      "EarlyStopping counter: 10/25 (best: 0.9840)\n",
      "\n",
      "epoch 62: train average loss: 5.020 | acc: 99.89% (2799/2802)\n"
     ]
    },
    {
     "name": "stderr",
     "output_type": "stream",
     "text": [
      " 21%|██        | 62/300 [00:27<01:41,  2.33it/s]"
     ]
    },
    {
     "name": "stdout",
     "output_type": "stream",
     "text": [
      "\n",
      "epoch 62: test average loss: 15.745 | acc: 97.12% (303/312)\n",
      "EarlyStopping counter: 11/25 (best: 0.9840)\n",
      "\n",
      "epoch 63: train average loss: 4.810 | acc: 99.89% (2799/2802)\n"
     ]
    },
    {
     "name": "stderr",
     "output_type": "stream",
     "text": [
      " 21%|██        | 63/300 [00:28<01:40,  2.35it/s]"
     ]
    },
    {
     "name": "stdout",
     "output_type": "stream",
     "text": [
      "\n",
      "epoch 63: test average loss: 15.766 | acc: 96.79% (302/312)\n",
      "EarlyStopping counter: 12/25 (best: 0.9840)\n",
      "\n",
      "epoch 64: train average loss: 4.831 | acc: 100.00% (2802/2802)\n"
     ]
    },
    {
     "name": "stderr",
     "output_type": "stream",
     "text": [
      " 21%|██▏       | 64/300 [00:28<01:40,  2.35it/s]"
     ]
    },
    {
     "name": "stdout",
     "output_type": "stream",
     "text": [
      "\n",
      "epoch 64: test average loss: 15.773 | acc: 96.79% (302/312)\n",
      "EarlyStopping counter: 13/25 (best: 0.9840)\n",
      "\n",
      "epoch 65: train average loss: 4.866 | acc: 99.93% (2800/2802)\n"
     ]
    },
    {
     "name": "stderr",
     "output_type": "stream",
     "text": [
      " 22%|██▏       | 65/300 [00:29<01:37,  2.40it/s]"
     ]
    },
    {
     "name": "stdout",
     "output_type": "stream",
     "text": [
      "\n",
      "epoch 65: test average loss: 15.842 | acc: 96.79% (302/312)\n",
      "EarlyStopping counter: 14/25 (best: 0.9840)\n",
      "\n",
      "epoch 66: train average loss: 4.743 | acc: 100.00% (2802/2802)\n"
     ]
    },
    {
     "name": "stderr",
     "output_type": "stream",
     "text": [
      " 22%|██▏       | 66/300 [00:29<01:37,  2.40it/s]"
     ]
    },
    {
     "name": "stdout",
     "output_type": "stream",
     "text": [
      "\n",
      "epoch 66: test average loss: 16.024 | acc: 96.47% (301/312)\n",
      "EarlyStopping counter: 15/25 (best: 0.9840)\n",
      "\n",
      "epoch 67: train average loss: 4.852 | acc: 99.89% (2799/2802)\n"
     ]
    },
    {
     "name": "stderr",
     "output_type": "stream",
     "text": [
      " 22%|██▏       | 67/300 [00:29<01:37,  2.39it/s]"
     ]
    },
    {
     "name": "stdout",
     "output_type": "stream",
     "text": [
      "\n",
      "epoch 67: test average loss: 16.097 | acc: 94.87% (296/312)\n",
      "EarlyStopping counter: 16/25 (best: 0.9840)\n",
      "\n",
      "epoch 68: train average loss: 4.810 | acc: 100.00% (2802/2802)\n"
     ]
    },
    {
     "name": "stderr",
     "output_type": "stream",
     "text": [
      " 23%|██▎       | 68/300 [00:30<01:36,  2.41it/s]"
     ]
    },
    {
     "name": "stdout",
     "output_type": "stream",
     "text": [
      "\n",
      "epoch 68: test average loss: 16.098 | acc: 96.47% (301/312)\n",
      "EarlyStopping counter: 17/25 (best: 0.9840)\n",
      "\n",
      "epoch 69: train average loss: 4.815 | acc: 100.00% (2802/2802)\n"
     ]
    },
    {
     "name": "stderr",
     "output_type": "stream",
     "text": [
      " 23%|██▎       | 69/300 [00:30<01:37,  2.36it/s]"
     ]
    },
    {
     "name": "stdout",
     "output_type": "stream",
     "text": [
      "\n",
      "epoch 69: test average loss: 16.417 | acc: 96.79% (302/312)\n",
      "EarlyStopping counter: 18/25 (best: 0.9840)\n",
      "\n",
      "epoch 70: train average loss: 4.740 | acc: 99.89% (2799/2802)\n"
     ]
    },
    {
     "name": "stderr",
     "output_type": "stream",
     "text": [
      " 23%|██▎       | 70/300 [00:31<01:39,  2.32it/s]"
     ]
    },
    {
     "name": "stdout",
     "output_type": "stream",
     "text": [
      "\n",
      "epoch 70: test average loss: 16.497 | acc: 95.19% (297/312)\n",
      "EarlyStopping counter: 19/25 (best: 0.9840)\n",
      "\n",
      "epoch 71: train average loss: 4.692 | acc: 99.82% (2797/2802)\n"
     ]
    },
    {
     "name": "stderr",
     "output_type": "stream",
     "text": [
      " 24%|██▎       | 71/300 [00:31<01:41,  2.25it/s]"
     ]
    },
    {
     "name": "stdout",
     "output_type": "stream",
     "text": [
      "\n",
      "epoch 71: test average loss: 16.515 | acc: 95.51% (298/312)\n",
      "EarlyStopping counter: 20/25 (best: 0.9840)\n",
      "\n",
      "epoch 72: train average loss: 4.388 | acc: 100.00% (2802/2802)\n"
     ]
    },
    {
     "name": "stderr",
     "output_type": "stream",
     "text": [
      " 24%|██▍       | 72/300 [00:32<01:41,  2.24it/s]"
     ]
    },
    {
     "name": "stdout",
     "output_type": "stream",
     "text": [
      "\n",
      "epoch 72: test average loss: 16.670 | acc: 97.76% (305/312)\n",
      "EarlyStopping counter: 21/25 (best: 0.9840)\n",
      "\n",
      "epoch 73: train average loss: 4.705 | acc: 99.93% (2800/2802)\n"
     ]
    },
    {
     "name": "stderr",
     "output_type": "stream",
     "text": [
      " 24%|██▍       | 73/300 [00:32<01:42,  2.21it/s]"
     ]
    },
    {
     "name": "stdout",
     "output_type": "stream",
     "text": [
      "\n",
      "epoch 73: test average loss: 16.023 | acc: 96.79% (302/312)\n",
      "EarlyStopping counter: 22/25 (best: 0.9840)\n",
      "\n",
      "epoch 74: train average loss: 4.526 | acc: 99.96% (2801/2802)\n"
     ]
    },
    {
     "name": "stderr",
     "output_type": "stream",
     "text": [
      " 25%|██▍       | 74/300 [00:33<01:40,  2.24it/s]"
     ]
    },
    {
     "name": "stdout",
     "output_type": "stream",
     "text": [
      "\n",
      "epoch 74: test average loss: 15.672 | acc: 97.76% (305/312)\n",
      "EarlyStopping counter: 23/25 (best: 0.9840)\n",
      "\n",
      "epoch 75: train average loss: 4.435 | acc: 99.96% (2801/2802)\n"
     ]
    },
    {
     "name": "stderr",
     "output_type": "stream",
     "text": [
      " 25%|██▌       | 75/300 [00:33<01:40,  2.25it/s]"
     ]
    },
    {
     "name": "stdout",
     "output_type": "stream",
     "text": [
      "\n",
      "epoch 75: test average loss: 16.617 | acc: 95.51% (298/312)\n",
      "EarlyStopping counter: 24/25 (best: 0.9840)\n",
      "\n",
      "epoch 76: train average loss: 4.072 | acc: 100.00% (2802/2802)\n"
     ]
    },
    {
     "name": "stderr",
     "output_type": "stream",
     "text": [
      " 25%|██▌       | 75/300 [00:33<01:41,  2.21it/s]"
     ]
    },
    {
     "name": "stdout",
     "output_type": "stream",
     "text": [
      "\n",
      "epoch 76: test average loss: 15.755 | acc: 97.44% (304/312)\n",
      "EarlyStopping counter: 25/25 (best: 0.9840)\n",
      "🔴 Early stopping triggered\n",
      "load model at epoch 51, with test acc : 0.984\n"
     ]
    },
    {
     "name": "stderr",
     "output_type": "stream",
     "text": [
      "\n",
      "/tmp/ipykernel_2950649/1054042983.py:175: FutureWarning: You are using `torch.load` with `weights_only=False` (the current default value), which uses the default pickle module implicitly. It is possible to construct malicious pickle data which will execute arbitrary code during unpickling (See https://github.com/pytorch/pytorch/blob/main/SECURITY.md#untrusted-models for more details). In a future release, the default value for `weights_only` will be flipped to `True`. This limits the functions that could be executed during unpickling. Arbitrary objects will no longer be allowed to be loaded via this mode unless they are explicitly allowlisted by the user via `torch.serialization.add_safe_globals`. We recommend you start setting `weights_only=True` for any use case where you don't have full control of the loaded file. Please open an issue on GitHub for any issues related to this experimental feature.\n",
      "  checkpoint = torch.load(self.model_path)\n"
     ]
    },
    {
     "name": "stdout",
     "output_type": "stream",
     "text": [
      "total 0.9839743589743589\n",
      "class 0 0.978494623655914\n",
      "class 1 0.9863013698630136\n",
      "Train t-SNE interactive HTML saved to variant_lenet_best_test_accuracy_combined_train.html\n",
      "Test t-SNE interactive HTML saved to variant_lenet_best_test_accuracy_combined_test.html\n",
      "Train t-SNE interactive HTML saved to variant_lenet_low_test_accuracy_combined_train.html\n",
      "Test t-SNE interactive HTML saved to variant_lenet_low_test_accuracy_combined_test.html\n",
      "                            0\n",
      "Accuracy                0.984\n",
      "Recall       [0.9785, 0.9863]\n",
      "Specificity  [0.9863, 0.9785]\n",
      "Precision    [0.9681, 0.9908]\n",
      "F1 Score     [0.9733, 0.9886]\n",
      "2\n"
     ]
    },
    {
     "name": "stderr",
     "output_type": "stream",
     "text": [
      "  0%|          | 0/300 [00:00<?, ?it/s]"
     ]
    },
    {
     "name": "stdout",
     "output_type": "stream",
     "text": [
      "\n",
      "epoch 1: train average loss: 33.123 | acc: 67.38% (1888/2802)\n"
     ]
    },
    {
     "name": "stderr",
     "output_type": "stream",
     "text": [
      "  0%|          | 1/300 [00:00<02:10,  2.28it/s]"
     ]
    },
    {
     "name": "stdout",
     "output_type": "stream",
     "text": [
      "\n",
      "epoch 1: test average loss: 27.360 | acc: 29.81% (93/312)\n",
      "best test acc found\n",
      "\n",
      "epoch 2: train average loss: 27.190 | acc: 72.95% (2044/2802)\n"
     ]
    },
    {
     "name": "stderr",
     "output_type": "stream",
     "text": [
      "  1%|          | 2/300 [00:00<02:08,  2.32it/s]"
     ]
    },
    {
     "name": "stdout",
     "output_type": "stream",
     "text": [
      "\n",
      "epoch 2: test average loss: 22.849 | acc: 29.81% (93/312)\n",
      "EarlyStopping counter: 1/25 (best: 0.2981)\n",
      "\n",
      "epoch 3: train average loss: 23.769 | acc: 76.16% (2134/2802)\n"
     ]
    },
    {
     "name": "stderr",
     "output_type": "stream",
     "text": [
      "  1%|          | 3/300 [00:01<02:06,  2.35it/s]"
     ]
    },
    {
     "name": "stdout",
     "output_type": "stream",
     "text": [
      "\n",
      "epoch 3: test average loss: 21.744 | acc: 29.81% (93/312)\n",
      "EarlyStopping counter: 2/25 (best: 0.2981)\n",
      "\n",
      "epoch 4: train average loss: 21.724 | acc: 78.59% (2202/2802)\n"
     ]
    },
    {
     "name": "stderr",
     "output_type": "stream",
     "text": [
      "  1%|▏         | 4/300 [00:01<02:05,  2.35it/s]"
     ]
    },
    {
     "name": "stdout",
     "output_type": "stream",
     "text": [
      "\n",
      "epoch 4: test average loss: 22.673 | acc: 70.19% (219/312)\n",
      "best test acc found\n",
      "\n",
      "epoch 5: train average loss: 20.502 | acc: 83.51% (2340/2802)\n"
     ]
    },
    {
     "name": "stderr",
     "output_type": "stream",
     "text": [
      "  2%|▏         | 5/300 [00:02<02:06,  2.34it/s]"
     ]
    },
    {
     "name": "stdout",
     "output_type": "stream",
     "text": [
      "\n",
      "epoch 5: test average loss: 22.775 | acc: 70.19% (219/312)\n",
      "EarlyStopping counter: 1/25 (best: 0.7019)\n",
      "\n",
      "epoch 6: train average loss: 19.711 | acc: 86.30% (2418/2802)\n"
     ]
    },
    {
     "name": "stderr",
     "output_type": "stream",
     "text": [
      "  2%|▏         | 6/300 [00:02<02:06,  2.32it/s]"
     ]
    },
    {
     "name": "stdout",
     "output_type": "stream",
     "text": [
      "\n",
      "epoch 6: test average loss: 22.680 | acc: 72.76% (227/312)\n",
      "best test acc found\n",
      "\n",
      "epoch 7: train average loss: 19.028 | acc: 88.76% (2487/2802)\n"
     ]
    },
    {
     "name": "stderr",
     "output_type": "stream",
     "text": [
      "  2%|▏         | 7/300 [00:03<02:06,  2.32it/s]"
     ]
    },
    {
     "name": "stdout",
     "output_type": "stream",
     "text": [
      "\n",
      "epoch 7: test average loss: 22.426 | acc: 77.56% (242/312)\n",
      "best test acc found\n",
      "\n",
      "epoch 8: train average loss: 18.476 | acc: 90.79% (2544/2802)\n"
     ]
    },
    {
     "name": "stderr",
     "output_type": "stream",
     "text": [
      "  3%|▎         | 8/300 [00:03<02:05,  2.33it/s]"
     ]
    },
    {
     "name": "stdout",
     "output_type": "stream",
     "text": [
      "\n",
      "epoch 8: test average loss: 21.894 | acc: 82.05% (256/312)\n",
      "best test acc found\n",
      "\n",
      "epoch 9: train average loss: 17.984 | acc: 91.93% (2576/2802)\n"
     ]
    },
    {
     "name": "stderr",
     "output_type": "stream",
     "text": [
      "  3%|▎         | 9/300 [00:03<02:02,  2.38it/s]"
     ]
    },
    {
     "name": "stdout",
     "output_type": "stream",
     "text": [
      "\n",
      "epoch 9: test average loss: 21.164 | acc: 90.06% (281/312)\n",
      "best test acc found\n",
      "\n",
      "epoch 10: train average loss: 17.478 | acc: 92.29% (2586/2802)\n"
     ]
    },
    {
     "name": "stderr",
     "output_type": "stream",
     "text": [
      "  3%|▎         | 10/300 [00:04<01:59,  2.43it/s]"
     ]
    },
    {
     "name": "stdout",
     "output_type": "stream",
     "text": [
      "\n",
      "epoch 10: test average loss: 20.739 | acc: 88.14% (275/312)\n",
      "EarlyStopping counter: 1/25 (best: 0.9006)\n",
      "\n",
      "epoch 11: train average loss: 17.476 | acc: 92.51% (2592/2802)\n"
     ]
    },
    {
     "name": "stderr",
     "output_type": "stream",
     "text": [
      "  4%|▎         | 11/300 [00:04<01:57,  2.47it/s]"
     ]
    },
    {
     "name": "stdout",
     "output_type": "stream",
     "text": [
      "\n",
      "epoch 11: test average loss: 20.985 | acc: 85.26% (266/312)\n",
      "EarlyStopping counter: 2/25 (best: 0.9006)\n",
      "\n",
      "epoch 12: train average loss: 16.823 | acc: 93.47% (2619/2802)\n"
     ]
    },
    {
     "name": "stderr",
     "output_type": "stream",
     "text": [
      "  4%|▍         | 12/300 [00:05<01:56,  2.46it/s]"
     ]
    },
    {
     "name": "stdout",
     "output_type": "stream",
     "text": [
      "\n",
      "epoch 12: test average loss: 20.450 | acc: 86.86% (271/312)\n",
      "EarlyStopping counter: 3/25 (best: 0.9006)\n",
      "\n",
      "epoch 13: train average loss: 16.329 | acc: 93.93% (2632/2802)\n"
     ]
    },
    {
     "name": "stderr",
     "output_type": "stream",
     "text": [
      "  4%|▍         | 13/300 [00:05<01:57,  2.45it/s]"
     ]
    },
    {
     "name": "stdout",
     "output_type": "stream",
     "text": [
      "\n",
      "epoch 13: test average loss: 20.482 | acc: 89.42% (279/312)\n",
      "EarlyStopping counter: 4/25 (best: 0.9006)\n",
      "\n",
      "epoch 14: train average loss: 15.690 | acc: 95.04% (2663/2802)\n"
     ]
    },
    {
     "name": "stderr",
     "output_type": "stream",
     "text": [
      "  5%|▍         | 14/300 [00:05<01:56,  2.46it/s]"
     ]
    },
    {
     "name": "stdout",
     "output_type": "stream",
     "text": [
      "\n",
      "epoch 14: test average loss: 18.370 | acc: 91.35% (285/312)\n",
      "best test acc found\n",
      "\n",
      "epoch 15: train average loss: 15.088 | acc: 95.47% (2675/2802)\n"
     ]
    },
    {
     "name": "stderr",
     "output_type": "stream",
     "text": [
      "  5%|▌         | 15/300 [00:06<01:54,  2.50it/s]"
     ]
    },
    {
     "name": "stdout",
     "output_type": "stream",
     "text": [
      "\n",
      "epoch 15: test average loss: 19.156 | acc: 93.27% (291/312)\n",
      "best test acc found\n",
      "\n",
      "epoch 16: train average loss: 14.877 | acc: 96.22% (2696/2802)\n"
     ]
    },
    {
     "name": "stderr",
     "output_type": "stream",
     "text": [
      "  5%|▌         | 16/300 [00:06<01:53,  2.50it/s]"
     ]
    },
    {
     "name": "stdout",
     "output_type": "stream",
     "text": [
      "\n",
      "epoch 16: test average loss: 18.945 | acc: 93.27% (291/312)\n",
      "EarlyStopping counter: 1/25 (best: 0.9327)\n",
      "\n",
      "epoch 17: train average loss: 14.643 | acc: 96.22% (2696/2802)\n"
     ]
    },
    {
     "name": "stderr",
     "output_type": "stream",
     "text": [
      "  6%|▌         | 17/300 [00:07<01:51,  2.55it/s]"
     ]
    },
    {
     "name": "stdout",
     "output_type": "stream",
     "text": [
      "\n",
      "epoch 17: test average loss: 17.472 | acc: 81.73% (255/312)\n",
      "EarlyStopping counter: 2/25 (best: 0.9327)\n",
      "\n",
      "epoch 18: train average loss: 14.847 | acc: 96.47% (2703/2802)\n"
     ]
    },
    {
     "name": "stderr",
     "output_type": "stream",
     "text": [
      "  6%|▌         | 18/300 [00:07<01:49,  2.57it/s]"
     ]
    },
    {
     "name": "stdout",
     "output_type": "stream",
     "text": [
      "\n",
      "epoch 18: test average loss: 18.776 | acc: 87.50% (273/312)\n",
      "EarlyStopping counter: 3/25 (best: 0.9327)\n",
      "\n",
      "epoch 19: train average loss: 14.446 | acc: 96.43% (2702/2802)\n"
     ]
    },
    {
     "name": "stderr",
     "output_type": "stream",
     "text": [
      "  6%|▋         | 19/300 [00:07<01:51,  2.52it/s]"
     ]
    },
    {
     "name": "stdout",
     "output_type": "stream",
     "text": [
      "\n",
      "epoch 19: test average loss: 17.451 | acc: 91.67% (286/312)\n",
      "EarlyStopping counter: 4/25 (best: 0.9327)\n",
      "\n",
      "epoch 20: train average loss: 14.129 | acc: 96.68% (2709/2802)\n"
     ]
    },
    {
     "name": "stderr",
     "output_type": "stream",
     "text": [
      "  7%|▋         | 20/300 [00:08<01:53,  2.46it/s]"
     ]
    },
    {
     "name": "stdout",
     "output_type": "stream",
     "text": [
      "\n",
      "epoch 20: test average loss: 17.958 | acc: 89.74% (280/312)\n",
      "EarlyStopping counter: 5/25 (best: 0.9327)\n",
      "\n",
      "epoch 21: train average loss: 13.921 | acc: 96.07% (2692/2802)\n"
     ]
    },
    {
     "name": "stderr",
     "output_type": "stream",
     "text": [
      "  7%|▋         | 21/300 [00:08<01:53,  2.45it/s]"
     ]
    },
    {
     "name": "stdout",
     "output_type": "stream",
     "text": [
      "\n",
      "epoch 21: test average loss: 18.015 | acc: 91.67% (286/312)\n",
      "EarlyStopping counter: 6/25 (best: 0.9327)\n",
      "\n",
      "epoch 22: train average loss: 12.947 | acc: 97.39% (2729/2802)\n"
     ]
    },
    {
     "name": "stderr",
     "output_type": "stream",
     "text": [
      "  7%|▋         | 22/300 [00:09<01:57,  2.37it/s]"
     ]
    },
    {
     "name": "stdout",
     "output_type": "stream",
     "text": [
      "\n",
      "epoch 22: test average loss: 16.208 | acc: 92.95% (290/312)\n",
      "EarlyStopping counter: 7/25 (best: 0.9327)\n",
      "\n",
      "epoch 23: train average loss: 12.607 | acc: 97.72% (2738/2802)\n"
     ]
    },
    {
     "name": "stderr",
     "output_type": "stream",
     "text": [
      "  8%|▊         | 23/300 [00:09<01:57,  2.35it/s]"
     ]
    },
    {
     "name": "stdout",
     "output_type": "stream",
     "text": [
      "\n",
      "epoch 23: test average loss: 14.981 | acc: 91.35% (285/312)\n",
      "EarlyStopping counter: 8/25 (best: 0.9327)\n",
      "\n",
      "epoch 24: train average loss: 12.023 | acc: 98.04% (2747/2802)\n"
     ]
    },
    {
     "name": "stderr",
     "output_type": "stream",
     "text": [
      "  8%|▊         | 24/300 [00:09<01:54,  2.40it/s]"
     ]
    },
    {
     "name": "stdout",
     "output_type": "stream",
     "text": [
      "\n",
      "epoch 24: test average loss: 16.045 | acc: 72.12% (225/312)\n",
      "EarlyStopping counter: 9/25 (best: 0.9327)\n",
      "\n",
      "epoch 25: train average loss: 11.802 | acc: 97.43% (2730/2802)\n"
     ]
    },
    {
     "name": "stderr",
     "output_type": "stream",
     "text": [
      "  8%|▊         | 25/300 [00:10<01:55,  2.37it/s]"
     ]
    },
    {
     "name": "stdout",
     "output_type": "stream",
     "text": [
      "\n",
      "epoch 25: test average loss: 21.673 | acc: 62.50% (195/312)\n",
      "EarlyStopping counter: 10/25 (best: 0.9327)\n",
      "\n",
      "epoch 26: train average loss: 12.278 | acc: 98.04% (2747/2802)\n"
     ]
    },
    {
     "name": "stderr",
     "output_type": "stream",
     "text": [
      "  9%|▊         | 26/300 [00:10<01:55,  2.37it/s]"
     ]
    },
    {
     "name": "stdout",
     "output_type": "stream",
     "text": [
      "\n",
      "epoch 26: test average loss: 16.482 | acc: 92.63% (289/312)\n",
      "EarlyStopping counter: 11/25 (best: 0.9327)\n",
      "\n",
      "epoch 27: train average loss: 12.457 | acc: 97.11% (2721/2802)\n"
     ]
    },
    {
     "name": "stderr",
     "output_type": "stream",
     "text": [
      "  9%|▉         | 27/300 [00:11<01:56,  2.35it/s]"
     ]
    },
    {
     "name": "stdout",
     "output_type": "stream",
     "text": [
      "\n",
      "epoch 27: test average loss: 17.202 | acc: 95.19% (297/312)\n",
      "best test acc found\n",
      "\n",
      "epoch 28: train average loss: 11.981 | acc: 98.04% (2747/2802)\n"
     ]
    },
    {
     "name": "stderr",
     "output_type": "stream",
     "text": [
      "  9%|▉         | 28/300 [00:11<01:54,  2.38it/s]"
     ]
    },
    {
     "name": "stdout",
     "output_type": "stream",
     "text": [
      "\n",
      "epoch 28: test average loss: 15.409 | acc: 76.28% (238/312)\n",
      "EarlyStopping counter: 1/25 (best: 0.9519)\n",
      "\n",
      "epoch 29: train average loss: 11.165 | acc: 98.22% (2752/2802)\n"
     ]
    },
    {
     "name": "stderr",
     "output_type": "stream",
     "text": [
      " 10%|▉         | 29/300 [00:12<01:53,  2.39it/s]"
     ]
    },
    {
     "name": "stdout",
     "output_type": "stream",
     "text": [
      "\n",
      "epoch 29: test average loss: 15.151 | acc: 96.15% (300/312)\n",
      "best test acc found\n",
      "\n",
      "epoch 30: train average loss: 10.654 | acc: 98.57% (2762/2802)\n"
     ]
    },
    {
     "name": "stderr",
     "output_type": "stream",
     "text": [
      " 10%|█         | 30/300 [00:12<01:51,  2.42it/s]"
     ]
    },
    {
     "name": "stdout",
     "output_type": "stream",
     "text": [
      "\n",
      "epoch 30: test average loss: 19.154 | acc: 75.32% (235/312)\n",
      "EarlyStopping counter: 1/25 (best: 0.9615)\n",
      "\n",
      "epoch 31: train average loss: 10.296 | acc: 98.89% (2771/2802)\n"
     ]
    },
    {
     "name": "stderr",
     "output_type": "stream",
     "text": [
      " 10%|█         | 31/300 [00:12<01:50,  2.44it/s]"
     ]
    },
    {
     "name": "stdout",
     "output_type": "stream",
     "text": [
      "\n",
      "epoch 31: test average loss: 13.296 | acc: 96.15% (300/312)\n",
      "EarlyStopping counter: 2/25 (best: 0.9615)\n",
      "\n",
      "epoch 32: train average loss: 9.754 | acc: 99.04% (2775/2802)\n"
     ]
    },
    {
     "name": "stderr",
     "output_type": "stream",
     "text": [
      " 11%|█         | 32/300 [00:13<01:49,  2.44it/s]"
     ]
    },
    {
     "name": "stdout",
     "output_type": "stream",
     "text": [
      "\n",
      "epoch 32: test average loss: 13.702 | acc: 94.23% (294/312)\n",
      "EarlyStopping counter: 3/25 (best: 0.9615)\n",
      "\n",
      "epoch 33: train average loss: 9.359 | acc: 99.29% (2782/2802)\n"
     ]
    },
    {
     "name": "stderr",
     "output_type": "stream",
     "text": [
      " 11%|█         | 33/300 [00:13<01:49,  2.45it/s]"
     ]
    },
    {
     "name": "stdout",
     "output_type": "stream",
     "text": [
      "\n",
      "epoch 33: test average loss: 16.263 | acc: 94.87% (296/312)\n",
      "EarlyStopping counter: 4/25 (best: 0.9615)\n",
      "\n",
      "epoch 34: train average loss: 9.226 | acc: 99.11% (2777/2802)\n"
     ]
    },
    {
     "name": "stderr",
     "output_type": "stream",
     "text": [
      " 11%|█▏        | 34/300 [00:14<01:49,  2.44it/s]"
     ]
    },
    {
     "name": "stdout",
     "output_type": "stream",
     "text": [
      "\n",
      "epoch 34: test average loss: 13.033 | acc: 96.79% (302/312)\n",
      "best test acc found\n",
      "\n",
      "epoch 35: train average loss: 8.991 | acc: 99.25% (2781/2802)\n"
     ]
    },
    {
     "name": "stderr",
     "output_type": "stream",
     "text": [
      " 12%|█▏        | 35/300 [00:14<01:46,  2.49it/s]"
     ]
    },
    {
     "name": "stdout",
     "output_type": "stream",
     "text": [
      "\n",
      "epoch 35: test average loss: 12.731 | acc: 96.79% (302/312)\n",
      "EarlyStopping counter: 1/25 (best: 0.9679)\n",
      "\n",
      "epoch 36: train average loss: 8.436 | acc: 98.82% (2769/2802)\n"
     ]
    },
    {
     "name": "stderr",
     "output_type": "stream",
     "text": [
      " 12%|█▏        | 36/300 [00:14<01:45,  2.51it/s]"
     ]
    },
    {
     "name": "stdout",
     "output_type": "stream",
     "text": [
      "\n",
      "epoch 36: test average loss: 13.701 | acc: 96.47% (301/312)\n",
      "EarlyStopping counter: 2/25 (best: 0.9679)\n",
      "\n",
      "epoch 37: train average loss: 8.434 | acc: 99.46% (2787/2802)\n"
     ]
    },
    {
     "name": "stderr",
     "output_type": "stream",
     "text": [
      " 12%|█▏        | 37/300 [00:15<01:45,  2.50it/s]"
     ]
    },
    {
     "name": "stdout",
     "output_type": "stream",
     "text": [
      "\n",
      "epoch 37: test average loss: 13.470 | acc: 96.79% (302/312)\n",
      "EarlyStopping counter: 3/25 (best: 0.9679)\n",
      "\n",
      "epoch 38: train average loss: 7.614 | acc: 99.57% (2790/2802)\n"
     ]
    },
    {
     "name": "stderr",
     "output_type": "stream",
     "text": [
      " 13%|█▎        | 38/300 [00:15<01:44,  2.51it/s]"
     ]
    },
    {
     "name": "stdout",
     "output_type": "stream",
     "text": [
      "\n",
      "epoch 38: test average loss: 15.205 | acc: 94.87% (296/312)\n",
      "EarlyStopping counter: 4/25 (best: 0.9679)\n",
      "\n",
      "epoch 39: train average loss: 7.836 | acc: 99.61% (2791/2802)\n"
     ]
    },
    {
     "name": "stderr",
     "output_type": "stream",
     "text": [
      " 13%|█▎        | 39/300 [00:16<01:43,  2.53it/s]"
     ]
    },
    {
     "name": "stdout",
     "output_type": "stream",
     "text": [
      "\n",
      "epoch 39: test average loss: 15.722 | acc: 96.47% (301/312)\n",
      "EarlyStopping counter: 5/25 (best: 0.9679)\n",
      "\n",
      "epoch 40: train average loss: 8.086 | acc: 99.68% (2793/2802)\n"
     ]
    },
    {
     "name": "stderr",
     "output_type": "stream",
     "text": [
      " 13%|█▎        | 40/300 [00:16<01:43,  2.52it/s]"
     ]
    },
    {
     "name": "stdout",
     "output_type": "stream",
     "text": [
      "\n",
      "epoch 40: test average loss: 12.911 | acc: 97.12% (303/312)\n",
      "best test acc found\n",
      "\n",
      "epoch 41: train average loss: 7.476 | acc: 99.46% (2787/2802)\n"
     ]
    },
    {
     "name": "stderr",
     "output_type": "stream",
     "text": [
      " 14%|█▎        | 41/300 [00:16<01:42,  2.52it/s]"
     ]
    },
    {
     "name": "stdout",
     "output_type": "stream",
     "text": [
      "\n",
      "epoch 41: test average loss: 18.818 | acc: 93.91% (293/312)\n",
      "EarlyStopping counter: 1/25 (best: 0.9712)\n",
      "\n",
      "epoch 42: train average loss: 7.203 | acc: 99.64% (2792/2802)\n"
     ]
    },
    {
     "name": "stderr",
     "output_type": "stream",
     "text": [
      " 14%|█▍        | 42/300 [00:17<01:41,  2.55it/s]"
     ]
    },
    {
     "name": "stdout",
     "output_type": "stream",
     "text": [
      "\n",
      "epoch 42: test average loss: 12.849 | acc: 97.76% (305/312)\n",
      "best test acc found\n",
      "\n",
      "epoch 43: train average loss: 7.048 | acc: 99.64% (2792/2802)\n"
     ]
    },
    {
     "name": "stderr",
     "output_type": "stream",
     "text": [
      " 14%|█▍        | 43/300 [00:17<01:41,  2.54it/s]"
     ]
    },
    {
     "name": "stdout",
     "output_type": "stream",
     "text": [
      "\n",
      "epoch 43: test average loss: 12.896 | acc: 97.76% (305/312)\n",
      "EarlyStopping counter: 1/25 (best: 0.9776)\n",
      "\n",
      "epoch 44: train average loss: 6.753 | acc: 99.82% (2797/2802)\n"
     ]
    },
    {
     "name": "stderr",
     "output_type": "stream",
     "text": [
      " 15%|█▍        | 44/300 [00:18<01:41,  2.51it/s]"
     ]
    },
    {
     "name": "stdout",
     "output_type": "stream",
     "text": [
      "\n",
      "epoch 44: test average loss: 19.778 | acc: 94.55% (295/312)\n",
      "EarlyStopping counter: 2/25 (best: 0.9776)\n",
      "\n",
      "epoch 45: train average loss: 6.428 | acc: 99.50% (2788/2802)\n"
     ]
    },
    {
     "name": "stderr",
     "output_type": "stream",
     "text": [
      " 15%|█▌        | 45/300 [00:18<01:44,  2.44it/s]"
     ]
    },
    {
     "name": "stdout",
     "output_type": "stream",
     "text": [
      "\n",
      "epoch 45: test average loss: 15.338 | acc: 97.44% (304/312)\n",
      "EarlyStopping counter: 3/25 (best: 0.9776)\n",
      "\n",
      "epoch 46: train average loss: 6.219 | acc: 99.75% (2795/2802)\n"
     ]
    },
    {
     "name": "stderr",
     "output_type": "stream",
     "text": [
      " 15%|█▌        | 46/300 [00:18<01:45,  2.40it/s]"
     ]
    },
    {
     "name": "stdout",
     "output_type": "stream",
     "text": [
      "\n",
      "epoch 46: test average loss: 13.369 | acc: 98.08% (306/312)\n",
      "best test acc found\n",
      "\n",
      "epoch 47: train average loss: 5.903 | acc: 99.89% (2799/2802)\n"
     ]
    },
    {
     "name": "stderr",
     "output_type": "stream",
     "text": [
      " 16%|█▌        | 47/300 [00:19<01:45,  2.40it/s]"
     ]
    },
    {
     "name": "stdout",
     "output_type": "stream",
     "text": [
      "\n",
      "epoch 47: test average loss: 15.086 | acc: 97.76% (305/312)\n",
      "EarlyStopping counter: 1/25 (best: 0.9808)\n",
      "\n",
      "epoch 48: train average loss: 5.725 | acc: 99.89% (2799/2802)\n"
     ]
    },
    {
     "name": "stderr",
     "output_type": "stream",
     "text": [
      " 16%|█▌        | 48/300 [00:19<01:45,  2.39it/s]"
     ]
    },
    {
     "name": "stdout",
     "output_type": "stream",
     "text": [
      "\n",
      "epoch 48: test average loss: 18.339 | acc: 95.83% (299/312)\n",
      "EarlyStopping counter: 2/25 (best: 0.9808)\n",
      "\n",
      "epoch 49: train average loss: 5.529 | acc: 99.93% (2800/2802)\n"
     ]
    },
    {
     "name": "stderr",
     "output_type": "stream",
     "text": [
      " 16%|█▋        | 49/300 [00:20<01:48,  2.32it/s]"
     ]
    },
    {
     "name": "stdout",
     "output_type": "stream",
     "text": [
      "\n",
      "epoch 49: test average loss: 15.671 | acc: 97.44% (304/312)\n",
      "EarlyStopping counter: 3/25 (best: 0.9808)\n",
      "\n",
      "epoch 50: train average loss: 5.209 | acc: 99.96% (2801/2802)\n"
     ]
    },
    {
     "name": "stderr",
     "output_type": "stream",
     "text": [
      " 17%|█▋        | 50/300 [00:20<01:45,  2.36it/s]"
     ]
    },
    {
     "name": "stdout",
     "output_type": "stream",
     "text": [
      "\n",
      "epoch 50: test average loss: 15.299 | acc: 96.79% (302/312)\n",
      "EarlyStopping counter: 4/25 (best: 0.9808)\n",
      "\n",
      "epoch 51: train average loss: 5.509 | acc: 99.86% (2798/2802)\n"
     ]
    },
    {
     "name": "stderr",
     "output_type": "stream",
     "text": [
      " 17%|█▋        | 51/300 [00:20<01:43,  2.40it/s]"
     ]
    },
    {
     "name": "stdout",
     "output_type": "stream",
     "text": [
      "\n",
      "epoch 51: test average loss: 14.241 | acc: 97.44% (304/312)\n",
      "EarlyStopping counter: 5/25 (best: 0.9808)\n",
      "\n",
      "epoch 52: train average loss: 5.194 | acc: 99.93% (2800/2802)\n"
     ]
    },
    {
     "name": "stderr",
     "output_type": "stream",
     "text": [
      " 17%|█▋        | 52/300 [00:21<01:42,  2.41it/s]"
     ]
    },
    {
     "name": "stdout",
     "output_type": "stream",
     "text": [
      "\n",
      "epoch 52: test average loss: 16.660 | acc: 96.47% (301/312)\n",
      "EarlyStopping counter: 6/25 (best: 0.9808)\n",
      "\n",
      "epoch 53: train average loss: 4.983 | acc: 99.96% (2801/2802)\n"
     ]
    },
    {
     "name": "stderr",
     "output_type": "stream",
     "text": [
      " 18%|█▊        | 53/300 [00:21<01:41,  2.43it/s]"
     ]
    },
    {
     "name": "stdout",
     "output_type": "stream",
     "text": [
      "\n",
      "epoch 53: test average loss: 15.379 | acc: 97.12% (303/312)\n",
      "EarlyStopping counter: 7/25 (best: 0.9808)\n",
      "\n",
      "epoch 54: train average loss: 4.827 | acc: 100.00% (2802/2802)\n"
     ]
    },
    {
     "name": "stderr",
     "output_type": "stream",
     "text": [
      " 18%|█▊        | 54/300 [00:22<01:40,  2.44it/s]"
     ]
    },
    {
     "name": "stdout",
     "output_type": "stream",
     "text": [
      "\n",
      "epoch 54: test average loss: 16.534 | acc: 96.79% (302/312)\n",
      "EarlyStopping counter: 8/25 (best: 0.9808)\n",
      "\n",
      "epoch 55: train average loss: 4.973 | acc: 99.93% (2800/2802)\n"
     ]
    },
    {
     "name": "stderr",
     "output_type": "stream",
     "text": [
      " 18%|█▊        | 55/300 [00:22<01:41,  2.42it/s]"
     ]
    },
    {
     "name": "stdout",
     "output_type": "stream",
     "text": [
      "\n",
      "epoch 55: test average loss: 16.898 | acc: 96.47% (301/312)\n",
      "EarlyStopping counter: 9/25 (best: 0.9808)\n",
      "\n",
      "epoch 56: train average loss: 4.861 | acc: 99.93% (2800/2802)\n"
     ]
    },
    {
     "name": "stderr",
     "output_type": "stream",
     "text": [
      " 19%|█▊        | 56/300 [00:23<01:40,  2.43it/s]"
     ]
    },
    {
     "name": "stdout",
     "output_type": "stream",
     "text": [
      "\n",
      "epoch 56: test average loss: 18.233 | acc: 96.47% (301/312)\n",
      "EarlyStopping counter: 10/25 (best: 0.9808)\n",
      "\n",
      "epoch 57: train average loss: 4.686 | acc: 99.96% (2801/2802)\n"
     ]
    },
    {
     "name": "stderr",
     "output_type": "stream",
     "text": [
      " 19%|█▉        | 57/300 [00:23<01:40,  2.43it/s]"
     ]
    },
    {
     "name": "stdout",
     "output_type": "stream",
     "text": [
      "\n",
      "epoch 57: test average loss: 18.341 | acc: 96.47% (301/312)\n",
      "EarlyStopping counter: 11/25 (best: 0.9808)\n",
      "\n",
      "epoch 58: train average loss: 4.668 | acc: 99.96% (2801/2802)\n"
     ]
    },
    {
     "name": "stderr",
     "output_type": "stream",
     "text": [
      " 19%|█▉        | 58/300 [00:23<01:40,  2.42it/s]"
     ]
    },
    {
     "name": "stdout",
     "output_type": "stream",
     "text": [
      "\n",
      "epoch 58: test average loss: 17.601 | acc: 96.47% (301/312)\n",
      "EarlyStopping counter: 12/25 (best: 0.9808)\n",
      "\n",
      "epoch 59: train average loss: 4.717 | acc: 99.89% (2799/2802)\n"
     ]
    },
    {
     "name": "stderr",
     "output_type": "stream",
     "text": [
      " 20%|█▉        | 59/300 [00:24<01:39,  2.42it/s]"
     ]
    },
    {
     "name": "stdout",
     "output_type": "stream",
     "text": [
      "\n",
      "epoch 59: test average loss: 17.471 | acc: 96.79% (302/312)\n",
      "EarlyStopping counter: 13/25 (best: 0.9808)\n",
      "\n",
      "epoch 60: train average loss: 4.632 | acc: 99.96% (2801/2802)\n"
     ]
    },
    {
     "name": "stderr",
     "output_type": "stream",
     "text": [
      " 20%|██        | 60/300 [00:24<01:39,  2.41it/s]"
     ]
    },
    {
     "name": "stdout",
     "output_type": "stream",
     "text": [
      "\n",
      "epoch 60: test average loss: 17.477 | acc: 96.79% (302/312)\n",
      "EarlyStopping counter: 14/25 (best: 0.9808)\n",
      "\n",
      "epoch 61: train average loss: 4.724 | acc: 99.96% (2801/2802)\n"
     ]
    },
    {
     "name": "stderr",
     "output_type": "stream",
     "text": [
      " 20%|██        | 61/300 [00:25<01:38,  2.43it/s]"
     ]
    },
    {
     "name": "stdout",
     "output_type": "stream",
     "text": [
      "\n",
      "epoch 61: test average loss: 17.522 | acc: 96.79% (302/312)\n",
      "EarlyStopping counter: 15/25 (best: 0.9808)\n",
      "\n",
      "epoch 62: train average loss: 4.813 | acc: 99.96% (2801/2802)\n"
     ]
    },
    {
     "name": "stderr",
     "output_type": "stream",
     "text": [
      " 21%|██        | 62/300 [00:25<01:38,  2.42it/s]"
     ]
    },
    {
     "name": "stdout",
     "output_type": "stream",
     "text": [
      "\n",
      "epoch 62: test average loss: 17.425 | acc: 96.79% (302/312)\n",
      "EarlyStopping counter: 16/25 (best: 0.9808)\n",
      "\n",
      "epoch 63: train average loss: 4.752 | acc: 99.89% (2799/2802)\n"
     ]
    },
    {
     "name": "stderr",
     "output_type": "stream",
     "text": [
      " 21%|██        | 63/300 [00:25<01:36,  2.46it/s]"
     ]
    },
    {
     "name": "stdout",
     "output_type": "stream",
     "text": [
      "\n",
      "epoch 63: test average loss: 17.307 | acc: 96.79% (302/312)\n",
      "EarlyStopping counter: 17/25 (best: 0.9808)\n",
      "\n",
      "epoch 64: train average loss: 4.807 | acc: 99.93% (2800/2802)\n"
     ]
    },
    {
     "name": "stderr",
     "output_type": "stream",
     "text": [
      " 21%|██▏       | 64/300 [00:26<01:35,  2.48it/s]"
     ]
    },
    {
     "name": "stdout",
     "output_type": "stream",
     "text": [
      "\n",
      "epoch 64: test average loss: 17.533 | acc: 96.79% (302/312)\n",
      "EarlyStopping counter: 18/25 (best: 0.9808)\n",
      "\n",
      "epoch 65: train average loss: 4.667 | acc: 99.89% (2799/2802)\n"
     ]
    },
    {
     "name": "stderr",
     "output_type": "stream",
     "text": [
      " 22%|██▏       | 65/300 [00:26<01:34,  2.48it/s]"
     ]
    },
    {
     "name": "stdout",
     "output_type": "stream",
     "text": [
      "\n",
      "epoch 65: test average loss: 17.683 | acc: 96.47% (301/312)\n",
      "EarlyStopping counter: 19/25 (best: 0.9808)\n",
      "\n",
      "epoch 66: train average loss: 4.679 | acc: 99.79% (2796/2802)\n"
     ]
    },
    {
     "name": "stderr",
     "output_type": "stream",
     "text": [
      " 22%|██▏       | 66/300 [00:27<01:33,  2.50it/s]"
     ]
    },
    {
     "name": "stdout",
     "output_type": "stream",
     "text": [
      "\n",
      "epoch 66: test average loss: 18.159 | acc: 96.47% (301/312)\n",
      "EarlyStopping counter: 20/25 (best: 0.9808)\n",
      "\n",
      "epoch 67: train average loss: 4.650 | acc: 99.89% (2799/2802)\n"
     ]
    },
    {
     "name": "stderr",
     "output_type": "stream",
     "text": [
      " 22%|██▏       | 67/300 [00:27<01:32,  2.53it/s]"
     ]
    },
    {
     "name": "stdout",
     "output_type": "stream",
     "text": [
      "\n",
      "epoch 67: test average loss: 17.556 | acc: 96.79% (302/312)\n",
      "EarlyStopping counter: 21/25 (best: 0.9808)\n",
      "\n",
      "epoch 68: train average loss: 4.539 | acc: 99.96% (2801/2802)\n"
     ]
    },
    {
     "name": "stderr",
     "output_type": "stream",
     "text": [
      " 23%|██▎       | 68/300 [00:27<01:31,  2.52it/s]"
     ]
    },
    {
     "name": "stdout",
     "output_type": "stream",
     "text": [
      "\n",
      "epoch 68: test average loss: 17.725 | acc: 97.12% (303/312)\n",
      "EarlyStopping counter: 22/25 (best: 0.9808)\n",
      "\n",
      "epoch 69: train average loss: 4.646 | acc: 100.00% (2802/2802)\n"
     ]
    },
    {
     "name": "stderr",
     "output_type": "stream",
     "text": [
      " 23%|██▎       | 69/300 [00:28<01:31,  2.53it/s]"
     ]
    },
    {
     "name": "stdout",
     "output_type": "stream",
     "text": [
      "\n",
      "epoch 69: test average loss: 17.704 | acc: 97.12% (303/312)\n",
      "EarlyStopping counter: 23/25 (best: 0.9808)\n",
      "\n",
      "epoch 70: train average loss: 4.440 | acc: 99.96% (2801/2802)\n"
     ]
    },
    {
     "name": "stderr",
     "output_type": "stream",
     "text": [
      " 23%|██▎       | 70/300 [00:28<01:33,  2.46it/s]"
     ]
    },
    {
     "name": "stdout",
     "output_type": "stream",
     "text": [
      "\n",
      "epoch 70: test average loss: 18.955 | acc: 96.79% (302/312)\n",
      "EarlyStopping counter: 24/25 (best: 0.9808)\n",
      "\n",
      "epoch 71: train average loss: 4.411 | acc: 99.86% (2798/2802)\n"
     ]
    },
    {
     "name": "stderr",
     "output_type": "stream",
     "text": [
      " 23%|██▎       | 70/300 [00:29<01:35,  2.40it/s]"
     ]
    },
    {
     "name": "stdout",
     "output_type": "stream",
     "text": [
      "\n",
      "epoch 71: test average loss: 18.662 | acc: 96.79% (302/312)\n",
      "EarlyStopping counter: 25/25 (best: 0.9808)\n",
      "🔴 Early stopping triggered\n",
      "load model at epoch 46, with test acc : 0.981\n"
     ]
    },
    {
     "name": "stderr",
     "output_type": "stream",
     "text": [
      "\n",
      "/tmp/ipykernel_2950649/1054042983.py:175: FutureWarning:\n",
      "\n",
      "You are using `torch.load` with `weights_only=False` (the current default value), which uses the default pickle module implicitly. It is possible to construct malicious pickle data which will execute arbitrary code during unpickling (See https://github.com/pytorch/pytorch/blob/main/SECURITY.md#untrusted-models for more details). In a future release, the default value for `weights_only` will be flipped to `True`. This limits the functions that could be executed during unpickling. Arbitrary objects will no longer be allowed to be loaded via this mode unless they are explicitly allowlisted by the user via `torch.serialization.add_safe_globals`. We recommend you start setting `weights_only=True` for any use case where you don't have full control of the loaded file. Please open an issue on GitHub for any issues related to this experimental feature.\n",
      "\n"
     ]
    },
    {
     "name": "stdout",
     "output_type": "stream",
     "text": [
      "total 0.9807692307692307\n",
      "class 0 0.989247311827957\n",
      "class 1 0.9771689497716894\n",
      "Train t-SNE interactive HTML saved to variant_lenet_low_test_accuracy_combined_train.html\n",
      "Test t-SNE interactive HTML saved to variant_lenet_low_test_accuracy_combined_test.html\n",
      "                            0\n",
      "Accuracy               0.9808\n",
      "Recall       [0.9892, 0.9772]\n",
      "Specificity  [0.9772, 0.9892]\n",
      "Precision    [0.9485, 0.9953]\n",
      "F1 Score     [0.9684, 0.9862]\n",
      "3\n"
     ]
    },
    {
     "name": "stderr",
     "output_type": "stream",
     "text": [
      "  0%|          | 0/300 [00:00<?, ?it/s]"
     ]
    },
    {
     "name": "stdout",
     "output_type": "stream",
     "text": [
      "\n",
      "epoch 1: train average loss: 33.624 | acc: 64.81% (1816/2802)\n"
     ]
    },
    {
     "name": "stderr",
     "output_type": "stream",
     "text": [
      "  0%|          | 1/300 [00:00<02:06,  2.37it/s]"
     ]
    },
    {
     "name": "stdout",
     "output_type": "stream",
     "text": [
      "\n",
      "epoch 1: test average loss: 26.798 | acc: 29.81% (93/312)\n",
      "best test acc found\n",
      "\n",
      "epoch 2: train average loss: 27.376 | acc: 67.88% (1902/2802)\n"
     ]
    },
    {
     "name": "stderr",
     "output_type": "stream",
     "text": [
      "  1%|          | 2/300 [00:00<02:04,  2.39it/s]"
     ]
    },
    {
     "name": "stdout",
     "output_type": "stream",
     "text": [
      "\n",
      "epoch 2: test average loss: 22.525 | acc: 29.81% (93/312)\n",
      "EarlyStopping counter: 1/25 (best: 0.2981)\n",
      "\n",
      "epoch 3: train average loss: 23.976 | acc: 74.13% (2077/2802)\n"
     ]
    },
    {
     "name": "stderr",
     "output_type": "stream",
     "text": [
      "  1%|          | 3/300 [00:01<02:00,  2.47it/s]"
     ]
    },
    {
     "name": "stdout",
     "output_type": "stream",
     "text": [
      "\n",
      "epoch 3: test average loss: 21.271 | acc: 29.81% (93/312)\n",
      "EarlyStopping counter: 2/25 (best: 0.2981)\n",
      "\n",
      "epoch 4: train average loss: 21.853 | acc: 79.62% (2231/2802)\n"
     ]
    },
    {
     "name": "stderr",
     "output_type": "stream",
     "text": [
      "  1%|▏         | 4/300 [00:01<01:58,  2.50it/s]"
     ]
    },
    {
     "name": "stdout",
     "output_type": "stream",
     "text": [
      "\n",
      "epoch 4: test average loss: 22.018 | acc: 64.10% (200/312)\n",
      "best test acc found\n",
      "\n",
      "epoch 5: train average loss: 20.509 | acc: 82.30% (2306/2802)\n"
     ]
    },
    {
     "name": "stderr",
     "output_type": "stream",
     "text": [
      "  2%|▏         | 5/300 [00:02<01:59,  2.46it/s]"
     ]
    },
    {
     "name": "stdout",
     "output_type": "stream",
     "text": [
      "\n",
      "epoch 5: test average loss: 21.993 | acc: 80.13% (250/312)\n",
      "best test acc found\n",
      "\n",
      "epoch 6: train average loss: 19.605 | acc: 86.72% (2430/2802)\n"
     ]
    },
    {
     "name": "stderr",
     "output_type": "stream",
     "text": [
      "  2%|▏         | 6/300 [00:02<01:57,  2.50it/s]"
     ]
    },
    {
     "name": "stdout",
     "output_type": "stream",
     "text": [
      "\n",
      "epoch 6: test average loss: 22.239 | acc: 82.05% (256/312)\n",
      "best test acc found\n",
      "\n",
      "epoch 7: train average loss: 18.919 | acc: 89.94% (2520/2802)\n"
     ]
    },
    {
     "name": "stderr",
     "output_type": "stream",
     "text": [
      "  2%|▏         | 7/300 [00:02<01:57,  2.50it/s]"
     ]
    },
    {
     "name": "stdout",
     "output_type": "stream",
     "text": [
      "\n",
      "epoch 7: test average loss: 21.462 | acc: 87.82% (274/312)\n",
      "best test acc found\n",
      "\n",
      "epoch 8: train average loss: 18.518 | acc: 90.47% (2535/2802)\n"
     ]
    },
    {
     "name": "stderr",
     "output_type": "stream",
     "text": [
      "  3%|▎         | 8/300 [00:03<01:55,  2.52it/s]"
     ]
    },
    {
     "name": "stdout",
     "output_type": "stream",
     "text": [
      "\n",
      "epoch 8: test average loss: 19.968 | acc: 91.67% (286/312)\n",
      "best test acc found\n",
      "\n",
      "epoch 9: train average loss: 18.358 | acc: 89.22% (2500/2802)\n"
     ]
    },
    {
     "name": "stderr",
     "output_type": "stream",
     "text": [
      "  3%|▎         | 9/300 [00:03<01:56,  2.50it/s]"
     ]
    },
    {
     "name": "stdout",
     "output_type": "stream",
     "text": [
      "\n",
      "epoch 9: test average loss: 19.359 | acc: 93.91% (293/312)\n",
      "best test acc found\n",
      "\n",
      "epoch 10: train average loss: 17.894 | acc: 90.19% (2527/2802)\n"
     ]
    },
    {
     "name": "stderr",
     "output_type": "stream",
     "text": [
      "  3%|▎         | 10/300 [00:04<01:56,  2.49it/s]"
     ]
    },
    {
     "name": "stdout",
     "output_type": "stream",
     "text": [
      "\n",
      "epoch 10: test average loss: 19.462 | acc: 97.44% (304/312)\n",
      "best test acc found\n",
      "\n",
      "epoch 11: train average loss: 17.204 | acc: 91.79% (2572/2802)\n"
     ]
    },
    {
     "name": "stderr",
     "output_type": "stream",
     "text": [
      "  4%|▎         | 11/300 [00:04<01:54,  2.52it/s]"
     ]
    },
    {
     "name": "stdout",
     "output_type": "stream",
     "text": [
      "\n",
      "epoch 11: test average loss: 18.628 | acc: 89.10% (278/312)\n",
      "EarlyStopping counter: 1/25 (best: 0.9744)\n",
      "\n",
      "epoch 12: train average loss: 16.767 | acc: 92.76% (2599/2802)\n"
     ]
    },
    {
     "name": "stderr",
     "output_type": "stream",
     "text": [
      "  4%|▍         | 12/300 [00:04<01:53,  2.53it/s]"
     ]
    },
    {
     "name": "stdout",
     "output_type": "stream",
     "text": [
      "\n",
      "epoch 12: test average loss: 16.971 | acc: 70.83% (221/312)\n",
      "EarlyStopping counter: 2/25 (best: 0.9744)\n",
      "\n",
      "epoch 13: train average loss: 16.344 | acc: 93.18% (2611/2802)\n"
     ]
    },
    {
     "name": "stderr",
     "output_type": "stream",
     "text": [
      "  4%|▍         | 13/300 [00:05<01:55,  2.49it/s]"
     ]
    },
    {
     "name": "stdout",
     "output_type": "stream",
     "text": [
      "\n",
      "epoch 13: test average loss: 18.819 | acc: 93.91% (293/312)\n",
      "EarlyStopping counter: 3/25 (best: 0.9744)\n",
      "\n",
      "epoch 14: train average loss: 15.994 | acc: 94.15% (2638/2802)\n"
     ]
    },
    {
     "name": "stderr",
     "output_type": "stream",
     "text": [
      "  5%|▍         | 14/300 [00:05<01:56,  2.45it/s]"
     ]
    },
    {
     "name": "stdout",
     "output_type": "stream",
     "text": [
      "\n",
      "epoch 14: test average loss: 18.532 | acc: 87.18% (272/312)\n",
      "EarlyStopping counter: 4/25 (best: 0.9744)\n",
      "\n",
      "epoch 15: train average loss: 15.355 | acc: 95.43% (2674/2802)\n"
     ]
    },
    {
     "name": "stderr",
     "output_type": "stream",
     "text": [
      "  5%|▌         | 15/300 [00:06<01:56,  2.44it/s]"
     ]
    },
    {
     "name": "stdout",
     "output_type": "stream",
     "text": [
      "\n",
      "epoch 15: test average loss: 18.881 | acc: 90.38% (282/312)\n",
      "EarlyStopping counter: 5/25 (best: 0.9744)\n",
      "\n",
      "epoch 16: train average loss: 15.112 | acc: 95.72% (2682/2802)\n"
     ]
    },
    {
     "name": "stderr",
     "output_type": "stream",
     "text": [
      "  5%|▌         | 16/300 [00:06<01:58,  2.40it/s]"
     ]
    },
    {
     "name": "stdout",
     "output_type": "stream",
     "text": [
      "\n",
      "epoch 16: test average loss: 20.138 | acc: 91.67% (286/312)\n",
      "EarlyStopping counter: 6/25 (best: 0.9744)\n",
      "\n",
      "epoch 17: train average loss: 14.892 | acc: 95.61% (2679/2802)\n"
     ]
    },
    {
     "name": "stderr",
     "output_type": "stream",
     "text": [
      "  6%|▌         | 17/300 [00:06<01:56,  2.44it/s]"
     ]
    },
    {
     "name": "stdout",
     "output_type": "stream",
     "text": [
      "\n",
      "epoch 17: test average loss: 19.315 | acc: 93.91% (293/312)\n",
      "EarlyStopping counter: 7/25 (best: 0.9744)\n",
      "\n",
      "epoch 18: train average loss: 14.874 | acc: 95.25% (2669/2802)\n"
     ]
    },
    {
     "name": "stderr",
     "output_type": "stream",
     "text": [
      "  6%|▌         | 18/300 [00:07<01:54,  2.46it/s]"
     ]
    },
    {
     "name": "stdout",
     "output_type": "stream",
     "text": [
      "\n",
      "epoch 18: test average loss: 20.725 | acc: 91.35% (285/312)\n",
      "EarlyStopping counter: 8/25 (best: 0.9744)\n",
      "\n",
      "epoch 19: train average loss: 14.285 | acc: 96.07% (2692/2802)\n"
     ]
    },
    {
     "name": "stderr",
     "output_type": "stream",
     "text": [
      "  6%|▋         | 19/300 [00:07<01:53,  2.47it/s]"
     ]
    },
    {
     "name": "stdout",
     "output_type": "stream",
     "text": [
      "\n",
      "epoch 19: test average loss: 16.930 | acc: 91.03% (284/312)\n",
      "EarlyStopping counter: 9/25 (best: 0.9744)\n",
      "\n",
      "epoch 20: train average loss: 13.794 | acc: 95.79% (2684/2802)\n"
     ]
    },
    {
     "name": "stderr",
     "output_type": "stream",
     "text": [
      "  7%|▋         | 20/300 [00:08<01:52,  2.49it/s]"
     ]
    },
    {
     "name": "stdout",
     "output_type": "stream",
     "text": [
      "\n",
      "epoch 20: test average loss: 15.953 | acc: 97.44% (304/312)\n",
      "EarlyStopping counter: 10/25 (best: 0.9744)\n",
      "\n",
      "epoch 21: train average loss: 13.416 | acc: 96.79% (2712/2802)\n"
     ]
    },
    {
     "name": "stderr",
     "output_type": "stream",
     "text": [
      "  7%|▋         | 21/300 [00:08<01:51,  2.50it/s]"
     ]
    },
    {
     "name": "stdout",
     "output_type": "stream",
     "text": [
      "\n",
      "epoch 21: test average loss: 17.531 | acc: 92.95% (290/312)\n",
      "EarlyStopping counter: 11/25 (best: 0.9744)\n",
      "\n",
      "epoch 22: train average loss: 13.108 | acc: 96.36% (2700/2802)\n"
     ]
    },
    {
     "name": "stderr",
     "output_type": "stream",
     "text": [
      "  7%|▋         | 22/300 [00:08<01:51,  2.50it/s]"
     ]
    },
    {
     "name": "stdout",
     "output_type": "stream",
     "text": [
      "\n",
      "epoch 22: test average loss: 17.674 | acc: 88.46% (276/312)\n",
      "EarlyStopping counter: 12/25 (best: 0.9744)\n",
      "\n",
      "epoch 23: train average loss: 13.072 | acc: 97.18% (2723/2802)\n"
     ]
    },
    {
     "name": "stderr",
     "output_type": "stream",
     "text": [
      "  8%|▊         | 23/300 [00:09<01:50,  2.50it/s]"
     ]
    },
    {
     "name": "stdout",
     "output_type": "stream",
     "text": [
      "\n",
      "epoch 23: test average loss: 15.382 | acc: 96.47% (301/312)\n",
      "EarlyStopping counter: 13/25 (best: 0.9744)\n",
      "\n",
      "epoch 24: train average loss: 12.388 | acc: 97.50% (2732/2802)\n"
     ]
    },
    {
     "name": "stderr",
     "output_type": "stream",
     "text": [
      "  8%|▊         | 24/300 [00:09<01:50,  2.51it/s]"
     ]
    },
    {
     "name": "stdout",
     "output_type": "stream",
     "text": [
      "\n",
      "epoch 24: test average loss: 15.513 | acc: 95.19% (297/312)\n",
      "EarlyStopping counter: 14/25 (best: 0.9744)\n",
      "\n",
      "epoch 25: train average loss: 12.055 | acc: 98.36% (2756/2802)\n"
     ]
    },
    {
     "name": "stderr",
     "output_type": "stream",
     "text": [
      "  8%|▊         | 25/300 [00:10<01:51,  2.47it/s]"
     ]
    },
    {
     "name": "stdout",
     "output_type": "stream",
     "text": [
      "\n",
      "epoch 25: test average loss: 15.333 | acc: 75.64% (236/312)\n",
      "EarlyStopping counter: 15/25 (best: 0.9744)\n",
      "\n",
      "epoch 26: train average loss: 11.645 | acc: 98.11% (2749/2802)\n"
     ]
    },
    {
     "name": "stderr",
     "output_type": "stream",
     "text": [
      "  9%|▊         | 26/300 [00:10<01:50,  2.47it/s]"
     ]
    },
    {
     "name": "stdout",
     "output_type": "stream",
     "text": [
      "\n",
      "epoch 26: test average loss: 15.502 | acc: 97.12% (303/312)\n",
      "EarlyStopping counter: 16/25 (best: 0.9744)\n",
      "\n",
      "epoch 27: train average loss: 11.737 | acc: 98.36% (2756/2802)\n"
     ]
    },
    {
     "name": "stderr",
     "output_type": "stream",
     "text": [
      "  9%|▉         | 27/300 [00:10<01:50,  2.47it/s]"
     ]
    },
    {
     "name": "stdout",
     "output_type": "stream",
     "text": [
      "\n",
      "epoch 27: test average loss: 14.762 | acc: 87.50% (273/312)\n",
      "EarlyStopping counter: 17/25 (best: 0.9744)\n",
      "\n",
      "epoch 28: train average loss: 12.003 | acc: 97.86% (2742/2802)\n"
     ]
    },
    {
     "name": "stderr",
     "output_type": "stream",
     "text": [
      "  9%|▉         | 28/300 [00:11<01:47,  2.52it/s]"
     ]
    },
    {
     "name": "stdout",
     "output_type": "stream",
     "text": [
      "\n",
      "epoch 28: test average loss: 16.485 | acc: 96.15% (300/312)\n",
      "EarlyStopping counter: 18/25 (best: 0.9744)\n",
      "\n",
      "epoch 29: train average loss: 12.059 | acc: 97.72% (2738/2802)\n"
     ]
    },
    {
     "name": "stderr",
     "output_type": "stream",
     "text": [
      " 10%|▉         | 29/300 [00:11<01:47,  2.52it/s]"
     ]
    },
    {
     "name": "stdout",
     "output_type": "stream",
     "text": [
      "\n",
      "epoch 29: test average loss: 16.166 | acc: 90.06% (281/312)\n",
      "EarlyStopping counter: 19/25 (best: 0.9744)\n",
      "\n",
      "epoch 30: train average loss: 11.351 | acc: 97.89% (2743/2802)\n"
     ]
    },
    {
     "name": "stderr",
     "output_type": "stream",
     "text": [
      " 10%|█         | 30/300 [00:12<01:46,  2.53it/s]"
     ]
    },
    {
     "name": "stdout",
     "output_type": "stream",
     "text": [
      "\n",
      "epoch 30: test average loss: 13.956 | acc: 97.44% (304/312)\n",
      "EarlyStopping counter: 20/25 (best: 0.9744)\n",
      "\n",
      "epoch 31: train average loss: 10.661 | acc: 98.36% (2756/2802)\n"
     ]
    },
    {
     "name": "stderr",
     "output_type": "stream",
     "text": [
      " 10%|█         | 31/300 [00:12<01:45,  2.55it/s]"
     ]
    },
    {
     "name": "stdout",
     "output_type": "stream",
     "text": [
      "\n",
      "epoch 31: test average loss: 13.795 | acc: 95.83% (299/312)\n",
      "EarlyStopping counter: 21/25 (best: 0.9744)\n",
      "\n",
      "epoch 32: train average loss: 10.031 | acc: 99.00% (2774/2802)\n"
     ]
    },
    {
     "name": "stderr",
     "output_type": "stream",
     "text": [
      " 11%|█         | 32/300 [00:12<01:45,  2.54it/s]"
     ]
    },
    {
     "name": "stdout",
     "output_type": "stream",
     "text": [
      "\n",
      "epoch 32: test average loss: 12.960 | acc: 98.40% (307/312)\n",
      "best test acc found\n",
      "\n",
      "epoch 33: train average loss: 9.516 | acc: 98.82% (2769/2802)\n"
     ]
    },
    {
     "name": "stderr",
     "output_type": "stream",
     "text": [
      " 11%|█         | 33/300 [00:13<01:44,  2.55it/s]"
     ]
    },
    {
     "name": "stdout",
     "output_type": "stream",
     "text": [
      "\n",
      "epoch 33: test average loss: 14.216 | acc: 98.40% (307/312)\n",
      "EarlyStopping counter: 1/25 (best: 0.9840)\n",
      "\n",
      "epoch 34: train average loss: 9.751 | acc: 99.29% (2782/2802)\n"
     ]
    },
    {
     "name": "stderr",
     "output_type": "stream",
     "text": [
      " 11%|█▏        | 34/300 [00:13<01:45,  2.52it/s]"
     ]
    },
    {
     "name": "stdout",
     "output_type": "stream",
     "text": [
      "\n",
      "epoch 34: test average loss: 14.784 | acc: 97.12% (303/312)\n",
      "EarlyStopping counter: 2/25 (best: 0.9840)\n",
      "\n",
      "epoch 35: train average loss: 9.561 | acc: 99.18% (2779/2802)\n"
     ]
    },
    {
     "name": "stderr",
     "output_type": "stream",
     "text": [
      " 12%|█▏        | 35/300 [00:14<01:45,  2.52it/s]"
     ]
    },
    {
     "name": "stdout",
     "output_type": "stream",
     "text": [
      "\n",
      "epoch 35: test average loss: 14.681 | acc: 95.19% (297/312)\n",
      "EarlyStopping counter: 3/25 (best: 0.9840)\n",
      "\n",
      "epoch 36: train average loss: 8.976 | acc: 99.07% (2776/2802)\n"
     ]
    },
    {
     "name": "stderr",
     "output_type": "stream",
     "text": [
      " 12%|█▏        | 36/300 [00:14<01:46,  2.48it/s]"
     ]
    },
    {
     "name": "stdout",
     "output_type": "stream",
     "text": [
      "\n",
      "epoch 36: test average loss: 16.696 | acc: 94.87% (296/312)\n",
      "EarlyStopping counter: 4/25 (best: 0.9840)\n",
      "\n",
      "epoch 37: train average loss: 8.835 | acc: 99.25% (2781/2802)\n"
     ]
    },
    {
     "name": "stderr",
     "output_type": "stream",
     "text": [
      " 12%|█▏        | 37/300 [00:14<01:45,  2.49it/s]"
     ]
    },
    {
     "name": "stdout",
     "output_type": "stream",
     "text": [
      "\n",
      "epoch 37: test average loss: 18.653 | acc: 95.19% (297/312)\n",
      "EarlyStopping counter: 5/25 (best: 0.9840)\n",
      "\n",
      "epoch 38: train average loss: 8.660 | acc: 99.14% (2778/2802)\n"
     ]
    },
    {
     "name": "stderr",
     "output_type": "stream",
     "text": [
      " 13%|█▎        | 38/300 [00:15<01:47,  2.44it/s]"
     ]
    },
    {
     "name": "stdout",
     "output_type": "stream",
     "text": [
      "\n",
      "epoch 38: test average loss: 16.238 | acc: 95.83% (299/312)\n",
      "EarlyStopping counter: 6/25 (best: 0.9840)\n",
      "\n",
      "epoch 39: train average loss: 8.545 | acc: 99.50% (2788/2802)\n"
     ]
    },
    {
     "name": "stderr",
     "output_type": "stream",
     "text": [
      " 13%|█▎        | 39/300 [00:15<01:47,  2.42it/s]"
     ]
    },
    {
     "name": "stdout",
     "output_type": "stream",
     "text": [
      "\n",
      "epoch 39: test average loss: 17.613 | acc: 96.47% (301/312)\n",
      "EarlyStopping counter: 7/25 (best: 0.9840)\n",
      "\n",
      "epoch 40: train average loss: 9.003 | acc: 99.11% (2777/2802)\n"
     ]
    },
    {
     "name": "stderr",
     "output_type": "stream",
     "text": [
      " 13%|█▎        | 40/300 [00:16<01:53,  2.28it/s]"
     ]
    },
    {
     "name": "stdout",
     "output_type": "stream",
     "text": [
      "\n",
      "epoch 40: test average loss: 18.138 | acc: 98.08% (306/312)\n",
      "EarlyStopping counter: 8/25 (best: 0.9840)\n",
      "\n",
      "epoch 41: train average loss: 8.964 | acc: 99.61% (2791/2802)\n"
     ]
    },
    {
     "name": "stderr",
     "output_type": "stream",
     "text": [
      " 14%|█▎        | 41/300 [00:16<01:53,  2.28it/s]"
     ]
    },
    {
     "name": "stdout",
     "output_type": "stream",
     "text": [
      "\n",
      "epoch 41: test average loss: 18.661 | acc: 92.95% (290/312)\n",
      "EarlyStopping counter: 9/25 (best: 0.9840)\n",
      "\n",
      "epoch 42: train average loss: 8.131 | acc: 99.21% (2780/2802)\n"
     ]
    },
    {
     "name": "stderr",
     "output_type": "stream",
     "text": [
      " 14%|█▍        | 42/300 [00:17<01:51,  2.30it/s]"
     ]
    },
    {
     "name": "stdout",
     "output_type": "stream",
     "text": [
      "\n",
      "epoch 42: test average loss: 15.115 | acc: 99.04% (309/312)\n",
      "best test acc found\n",
      "\n",
      "epoch 43: train average loss: 7.735 | acc: 99.50% (2788/2802)\n"
     ]
    },
    {
     "name": "stderr",
     "output_type": "stream",
     "text": [
      " 14%|█▍        | 43/300 [00:17<01:48,  2.36it/s]"
     ]
    },
    {
     "name": "stdout",
     "output_type": "stream",
     "text": [
      "\n",
      "epoch 43: test average loss: 15.683 | acc: 98.08% (306/312)\n",
      "EarlyStopping counter: 1/25 (best: 0.9904)\n",
      "\n",
      "epoch 44: train average loss: 7.262 | acc: 99.61% (2791/2802)\n"
     ]
    },
    {
     "name": "stderr",
     "output_type": "stream",
     "text": [
      " 15%|█▍        | 44/300 [00:17<01:46,  2.41it/s]"
     ]
    },
    {
     "name": "stdout",
     "output_type": "stream",
     "text": [
      "\n",
      "epoch 44: test average loss: 14.206 | acc: 98.08% (306/312)\n",
      "EarlyStopping counter: 2/25 (best: 0.9904)\n",
      "\n",
      "epoch 45: train average loss: 7.295 | acc: 99.68% (2793/2802)\n"
     ]
    },
    {
     "name": "stderr",
     "output_type": "stream",
     "text": [
      " 15%|█▌        | 45/300 [00:18<01:44,  2.44it/s]"
     ]
    },
    {
     "name": "stdout",
     "output_type": "stream",
     "text": [
      "\n",
      "epoch 45: test average loss: 18.811 | acc: 95.19% (297/312)\n",
      "EarlyStopping counter: 3/25 (best: 0.9904)\n",
      "\n",
      "epoch 46: train average loss: 6.997 | acc: 99.61% (2791/2802)\n"
     ]
    },
    {
     "name": "stderr",
     "output_type": "stream",
     "text": [
      " 15%|█▌        | 46/300 [00:18<01:43,  2.45it/s]"
     ]
    },
    {
     "name": "stdout",
     "output_type": "stream",
     "text": [
      "\n",
      "epoch 46: test average loss: 15.488 | acc: 97.44% (304/312)\n",
      "EarlyStopping counter: 4/25 (best: 0.9904)\n",
      "\n",
      "epoch 47: train average loss: 6.716 | acc: 99.61% (2791/2802)\n"
     ]
    },
    {
     "name": "stderr",
     "output_type": "stream",
     "text": [
      " 16%|█▌        | 47/300 [00:19<01:42,  2.47it/s]"
     ]
    },
    {
     "name": "stdout",
     "output_type": "stream",
     "text": [
      "\n",
      "epoch 47: test average loss: 14.190 | acc: 97.44% (304/312)\n",
      "EarlyStopping counter: 5/25 (best: 0.9904)\n",
      "\n",
      "epoch 48: train average loss: 6.556 | acc: 99.68% (2793/2802)\n"
     ]
    },
    {
     "name": "stderr",
     "output_type": "stream",
     "text": [
      " 16%|█▌        | 48/300 [00:19<01:41,  2.49it/s]"
     ]
    },
    {
     "name": "stdout",
     "output_type": "stream",
     "text": [
      "\n",
      "epoch 48: test average loss: 12.727 | acc: 98.40% (307/312)\n",
      "EarlyStopping counter: 6/25 (best: 0.9904)\n",
      "\n",
      "epoch 49: train average loss: 6.360 | acc: 99.57% (2790/2802)\n"
     ]
    },
    {
     "name": "stderr",
     "output_type": "stream",
     "text": [
      " 16%|█▋        | 49/300 [00:19<01:40,  2.50it/s]"
     ]
    },
    {
     "name": "stdout",
     "output_type": "stream",
     "text": [
      "\n",
      "epoch 49: test average loss: 15.200 | acc: 98.08% (306/312)\n",
      "EarlyStopping counter: 7/25 (best: 0.9904)\n",
      "\n",
      "epoch 50: train average loss: 6.175 | acc: 99.57% (2790/2802)\n"
     ]
    },
    {
     "name": "stderr",
     "output_type": "stream",
     "text": [
      " 17%|█▋        | 50/300 [00:20<01:40,  2.50it/s]"
     ]
    },
    {
     "name": "stdout",
     "output_type": "stream",
     "text": [
      "\n",
      "epoch 50: test average loss: 14.659 | acc: 97.76% (305/312)\n",
      "EarlyStopping counter: 8/25 (best: 0.9904)\n",
      "\n",
      "epoch 51: train average loss: 6.027 | acc: 99.54% (2789/2802)\n"
     ]
    },
    {
     "name": "stderr",
     "output_type": "stream",
     "text": [
      " 17%|█▋        | 51/300 [00:20<01:39,  2.50it/s]"
     ]
    },
    {
     "name": "stdout",
     "output_type": "stream",
     "text": [
      "\n",
      "epoch 51: test average loss: 14.404 | acc: 98.40% (307/312)\n",
      "EarlyStopping counter: 9/25 (best: 0.9904)\n",
      "\n",
      "epoch 52: train average loss: 5.927 | acc: 99.93% (2800/2802)\n"
     ]
    },
    {
     "name": "stderr",
     "output_type": "stream",
     "text": [
      " 17%|█▋        | 52/300 [00:21<01:38,  2.52it/s]"
     ]
    },
    {
     "name": "stdout",
     "output_type": "stream",
     "text": [
      "\n",
      "epoch 52: test average loss: 14.881 | acc: 98.40% (307/312)\n",
      "EarlyStopping counter: 10/25 (best: 0.9904)\n",
      "\n",
      "epoch 53: train average loss: 5.825 | acc: 99.86% (2798/2802)\n"
     ]
    },
    {
     "name": "stderr",
     "output_type": "stream",
     "text": [
      " 18%|█▊        | 53/300 [00:21<01:38,  2.50it/s]"
     ]
    },
    {
     "name": "stdout",
     "output_type": "stream",
     "text": [
      "\n",
      "epoch 53: test average loss: 15.288 | acc: 97.76% (305/312)\n",
      "EarlyStopping counter: 11/25 (best: 0.9904)\n",
      "\n",
      "epoch 54: train average loss: 5.673 | acc: 99.71% (2794/2802)\n"
     ]
    },
    {
     "name": "stderr",
     "output_type": "stream",
     "text": [
      " 18%|█▊        | 54/300 [00:21<01:39,  2.48it/s]"
     ]
    },
    {
     "name": "stdout",
     "output_type": "stream",
     "text": [
      "\n",
      "epoch 54: test average loss: 15.455 | acc: 97.76% (305/312)\n",
      "EarlyStopping counter: 12/25 (best: 0.9904)\n",
      "\n",
      "epoch 55: train average loss: 5.642 | acc: 99.93% (2800/2802)\n"
     ]
    },
    {
     "name": "stderr",
     "output_type": "stream",
     "text": [
      " 18%|█▊        | 55/300 [00:22<01:45,  2.31it/s]"
     ]
    },
    {
     "name": "stdout",
     "output_type": "stream",
     "text": [
      "\n",
      "epoch 55: test average loss: 15.155 | acc: 98.08% (306/312)\n",
      "EarlyStopping counter: 13/25 (best: 0.9904)\n",
      "\n",
      "epoch 56: train average loss: 5.620 | acc: 99.96% (2801/2802)\n"
     ]
    },
    {
     "name": "stderr",
     "output_type": "stream",
     "text": [
      " 19%|█▊        | 56/300 [00:22<01:45,  2.30it/s]"
     ]
    },
    {
     "name": "stdout",
     "output_type": "stream",
     "text": [
      "\n",
      "epoch 56: test average loss: 15.203 | acc: 98.08% (306/312)\n",
      "EarlyStopping counter: 14/25 (best: 0.9904)\n",
      "\n",
      "epoch 57: train average loss: 5.755 | acc: 99.75% (2795/2802)\n"
     ]
    },
    {
     "name": "stderr",
     "output_type": "stream",
     "text": [
      " 19%|█▉        | 57/300 [00:23<01:44,  2.32it/s]"
     ]
    },
    {
     "name": "stdout",
     "output_type": "stream",
     "text": [
      "\n",
      "epoch 57: test average loss: 15.337 | acc: 97.44% (304/312)\n",
      "EarlyStopping counter: 15/25 (best: 0.9904)\n",
      "\n",
      "epoch 58: train average loss: 5.673 | acc: 99.89% (2799/2802)\n"
     ]
    },
    {
     "name": "stderr",
     "output_type": "stream",
     "text": [
      " 19%|█▉        | 58/300 [00:23<01:42,  2.37it/s]"
     ]
    },
    {
     "name": "stdout",
     "output_type": "stream",
     "text": [
      "\n",
      "epoch 58: test average loss: 15.659 | acc: 97.44% (304/312)\n",
      "EarlyStopping counter: 16/25 (best: 0.9904)\n",
      "\n",
      "epoch 59: train average loss: 5.625 | acc: 99.93% (2800/2802)\n"
     ]
    },
    {
     "name": "stderr",
     "output_type": "stream",
     "text": [
      " 20%|█▉        | 59/300 [00:24<01:40,  2.39it/s]"
     ]
    },
    {
     "name": "stdout",
     "output_type": "stream",
     "text": [
      "\n",
      "epoch 59: test average loss: 15.720 | acc: 97.44% (304/312)\n",
      "EarlyStopping counter: 17/25 (best: 0.9904)\n",
      "\n",
      "epoch 60: train average loss: 5.675 | acc: 99.79% (2796/2802)\n"
     ]
    },
    {
     "name": "stderr",
     "output_type": "stream",
     "text": [
      " 20%|██        | 60/300 [00:24<01:38,  2.43it/s]"
     ]
    },
    {
     "name": "stdout",
     "output_type": "stream",
     "text": [
      "\n",
      "epoch 60: test average loss: 15.597 | acc: 97.44% (304/312)\n",
      "EarlyStopping counter: 18/25 (best: 0.9904)\n",
      "\n",
      "epoch 61: train average loss: 5.636 | acc: 99.93% (2800/2802)\n"
     ]
    },
    {
     "name": "stderr",
     "output_type": "stream",
     "text": [
      " 20%|██        | 61/300 [00:24<01:40,  2.37it/s]"
     ]
    },
    {
     "name": "stdout",
     "output_type": "stream",
     "text": [
      "\n",
      "epoch 61: test average loss: 15.682 | acc: 97.44% (304/312)\n",
      "EarlyStopping counter: 19/25 (best: 0.9904)\n",
      "\n",
      "epoch 62: train average loss: 5.560 | acc: 99.89% (2799/2802)\n"
     ]
    },
    {
     "name": "stderr",
     "output_type": "stream",
     "text": [
      " 21%|██        | 62/300 [00:25<01:41,  2.33it/s]"
     ]
    },
    {
     "name": "stdout",
     "output_type": "stream",
     "text": [
      "\n",
      "epoch 62: test average loss: 15.715 | acc: 97.44% (304/312)\n",
      "EarlyStopping counter: 20/25 (best: 0.9904)\n",
      "\n",
      "epoch 63: train average loss: 5.735 | acc: 99.75% (2795/2802)\n"
     ]
    },
    {
     "name": "stderr",
     "output_type": "stream",
     "text": [
      " 21%|██        | 63/300 [00:25<01:43,  2.28it/s]"
     ]
    },
    {
     "name": "stdout",
     "output_type": "stream",
     "text": [
      "\n",
      "epoch 63: test average loss: 15.697 | acc: 97.44% (304/312)\n",
      "EarlyStopping counter: 21/25 (best: 0.9904)\n",
      "\n",
      "epoch 64: train average loss: 5.789 | acc: 99.89% (2799/2802)\n"
     ]
    },
    {
     "name": "stderr",
     "output_type": "stream",
     "text": [
      " 21%|██▏       | 64/300 [00:26<01:46,  2.22it/s]"
     ]
    },
    {
     "name": "stdout",
     "output_type": "stream",
     "text": [
      "\n",
      "epoch 64: test average loss: 15.654 | acc: 97.76% (305/312)\n",
      "EarlyStopping counter: 22/25 (best: 0.9904)\n",
      "\n",
      "epoch 65: train average loss: 5.651 | acc: 99.89% (2799/2802)\n"
     ]
    },
    {
     "name": "stderr",
     "output_type": "stream",
     "text": [
      " 22%|██▏       | 65/300 [00:26<01:44,  2.25it/s]"
     ]
    },
    {
     "name": "stdout",
     "output_type": "stream",
     "text": [
      "\n",
      "epoch 65: test average loss: 15.576 | acc: 97.44% (304/312)\n",
      "EarlyStopping counter: 23/25 (best: 0.9904)\n",
      "\n",
      "epoch 66: train average loss: 5.583 | acc: 99.86% (2798/2802)\n"
     ]
    },
    {
     "name": "stderr",
     "output_type": "stream",
     "text": [
      " 22%|██▏       | 66/300 [00:27<01:43,  2.27it/s]"
     ]
    },
    {
     "name": "stdout",
     "output_type": "stream",
     "text": [
      "\n",
      "epoch 66: test average loss: 15.597 | acc: 98.08% (306/312)\n",
      "EarlyStopping counter: 24/25 (best: 0.9904)\n",
      "\n",
      "epoch 67: train average loss: 5.499 | acc: 99.89% (2799/2802)\n"
     ]
    },
    {
     "name": "stderr",
     "output_type": "stream",
     "text": [
      " 22%|██▏       | 66/300 [00:27<01:37,  2.40it/s]"
     ]
    },
    {
     "name": "stdout",
     "output_type": "stream",
     "text": [
      "\n",
      "epoch 67: test average loss: 15.729 | acc: 98.08% (306/312)\n",
      "EarlyStopping counter: 25/25 (best: 0.9904)\n",
      "🔴 Early stopping triggered\n",
      "load model at epoch 42, with test acc : 0.990\n"
     ]
    },
    {
     "name": "stderr",
     "output_type": "stream",
     "text": [
      "\n",
      "/tmp/ipykernel_2950649/1054042983.py:175: FutureWarning:\n",
      "\n",
      "You are using `torch.load` with `weights_only=False` (the current default value), which uses the default pickle module implicitly. It is possible to construct malicious pickle data which will execute arbitrary code during unpickling (See https://github.com/pytorch/pytorch/blob/main/SECURITY.md#untrusted-models for more details). In a future release, the default value for `weights_only` will be flipped to `True`. This limits the functions that could be executed during unpickling. Arbitrary objects will no longer be allowed to be loaded via this mode unless they are explicitly allowlisted by the user via `torch.serialization.add_safe_globals`. We recommend you start setting `weights_only=True` for any use case where you don't have full control of the loaded file. Please open an issue on GitHub for any issues related to this experimental feature.\n",
      "\n"
     ]
    },
    {
     "name": "stdout",
     "output_type": "stream",
     "text": [
      "total 0.9903846153846154\n",
      "class 0 1.0\n",
      "class 1 0.9863013698630136\n",
      "Train t-SNE interactive HTML saved to variant_lenet_best_test_accuracy_combined_train.html\n",
      "Test t-SNE interactive HTML saved to variant_lenet_best_test_accuracy_combined_test.html\n",
      "                            0\n",
      "Accuracy               0.9904\n",
      "Recall          [1.0, 0.9863]\n",
      "Specificity     [0.9863, 1.0]\n",
      "Precision       [0.9688, 1.0]\n",
      "F1 Score     [0.9841, 0.9931]\n",
      "4\n"
     ]
    },
    {
     "name": "stderr",
     "output_type": "stream",
     "text": [
      "  0%|          | 0/300 [00:00<?, ?it/s]"
     ]
    },
    {
     "name": "stdout",
     "output_type": "stream",
     "text": [
      "\n",
      "epoch 1: train average loss: 33.189 | acc: 62.92% (1763/2802)\n"
     ]
    },
    {
     "name": "stderr",
     "output_type": "stream",
     "text": [
      "  0%|          | 1/300 [00:00<02:03,  2.43it/s]"
     ]
    },
    {
     "name": "stdout",
     "output_type": "stream",
     "text": [
      "\n",
      "epoch 1: test average loss: 27.104 | acc: 29.81% (93/312)\n",
      "best test acc found\n",
      "\n",
      "epoch 2: train average loss: 27.180 | acc: 74.34% (2083/2802)\n"
     ]
    },
    {
     "name": "stderr",
     "output_type": "stream",
     "text": [
      "  1%|          | 2/300 [00:00<02:00,  2.47it/s]"
     ]
    },
    {
     "name": "stdout",
     "output_type": "stream",
     "text": [
      "\n",
      "epoch 2: test average loss: 22.055 | acc: 29.81% (93/312)\n",
      "EarlyStopping counter: 1/25 (best: 0.2981)\n",
      "\n",
      "epoch 3: train average loss: 23.921 | acc: 78.44% (2198/2802)\n"
     ]
    },
    {
     "name": "stderr",
     "output_type": "stream",
     "text": [
      "  1%|          | 3/300 [00:01<02:00,  2.47it/s]"
     ]
    },
    {
     "name": "stdout",
     "output_type": "stream",
     "text": [
      "\n",
      "epoch 3: test average loss: 21.017 | acc: 70.19% (219/312)\n",
      "best test acc found\n",
      "\n",
      "epoch 4: train average loss: 21.835 | acc: 80.87% (2266/2802)\n"
     ]
    },
    {
     "name": "stderr",
     "output_type": "stream",
     "text": [
      "  1%|▏         | 4/300 [00:01<02:00,  2.46it/s]"
     ]
    },
    {
     "name": "stdout",
     "output_type": "stream",
     "text": [
      "\n",
      "epoch 4: test average loss: 21.540 | acc: 31.73% (99/312)\n",
      "EarlyStopping counter: 1/25 (best: 0.7019)\n",
      "\n",
      "epoch 5: train average loss: 20.425 | acc: 85.26% (2389/2802)\n"
     ]
    },
    {
     "name": "stderr",
     "output_type": "stream",
     "text": [
      "  2%|▏         | 5/300 [00:02<01:59,  2.47it/s]"
     ]
    },
    {
     "name": "stdout",
     "output_type": "stream",
     "text": [
      "\n",
      "epoch 5: test average loss: 21.748 | acc: 36.22% (113/312)\n",
      "EarlyStopping counter: 2/25 (best: 0.7019)\n",
      "\n",
      "epoch 6: train average loss: 19.562 | acc: 87.29% (2446/2802)\n"
     ]
    },
    {
     "name": "stderr",
     "output_type": "stream",
     "text": [
      "  2%|▏         | 6/300 [00:02<02:03,  2.37it/s]"
     ]
    },
    {
     "name": "stdout",
     "output_type": "stream",
     "text": [
      "\n",
      "epoch 6: test average loss: 21.819 | acc: 73.08% (228/312)\n",
      "best test acc found\n",
      "\n",
      "epoch 7: train average loss: 18.859 | acc: 89.29% (2502/2802)\n"
     ]
    },
    {
     "name": "stderr",
     "output_type": "stream",
     "text": [
      "  2%|▏         | 7/300 [00:02<02:06,  2.31it/s]"
     ]
    },
    {
     "name": "stdout",
     "output_type": "stream",
     "text": [
      "\n",
      "epoch 7: test average loss: 21.981 | acc: 76.60% (239/312)\n",
      "best test acc found\n",
      "\n",
      "epoch 8: train average loss: 18.377 | acc: 90.90% (2547/2802)\n"
     ]
    },
    {
     "name": "stderr",
     "output_type": "stream",
     "text": [
      "  3%|▎         | 8/300 [00:03<02:07,  2.30it/s]"
     ]
    },
    {
     "name": "stdout",
     "output_type": "stream",
     "text": [
      "\n",
      "epoch 8: test average loss: 20.369 | acc: 92.31% (288/312)\n",
      "best test acc found\n",
      "\n",
      "epoch 9: train average loss: 17.996 | acc: 90.36% (2532/2802)\n"
     ]
    },
    {
     "name": "stderr",
     "output_type": "stream",
     "text": [
      "  3%|▎         | 9/300 [00:03<02:05,  2.33it/s]"
     ]
    },
    {
     "name": "stdout",
     "output_type": "stream",
     "text": [
      "\n",
      "epoch 9: test average loss: 20.345 | acc: 92.31% (288/312)\n",
      "EarlyStopping counter: 1/25 (best: 0.9231)\n",
      "\n",
      "epoch 10: train average loss: 17.438 | acc: 91.47% (2563/2802)\n"
     ]
    },
    {
     "name": "stderr",
     "output_type": "stream",
     "text": [
      "  3%|▎         | 10/300 [00:04<02:02,  2.38it/s]"
     ]
    },
    {
     "name": "stdout",
     "output_type": "stream",
     "text": [
      "\n",
      "epoch 10: test average loss: 19.991 | acc: 89.42% (279/312)\n",
      "EarlyStopping counter: 2/25 (best: 0.9231)\n",
      "\n",
      "epoch 11: train average loss: 16.904 | acc: 93.04% (2607/2802)\n"
     ]
    },
    {
     "name": "stderr",
     "output_type": "stream",
     "text": [
      "  4%|▎         | 11/300 [00:04<02:00,  2.40it/s]"
     ]
    },
    {
     "name": "stdout",
     "output_type": "stream",
     "text": [
      "\n",
      "epoch 11: test average loss: 20.084 | acc: 94.87% (296/312)\n",
      "best test acc found\n",
      "\n",
      "epoch 12: train average loss: 16.636 | acc: 93.72% (2626/2802)\n"
     ]
    },
    {
     "name": "stderr",
     "output_type": "stream",
     "text": [
      "  4%|▍         | 12/300 [00:05<01:58,  2.42it/s]"
     ]
    },
    {
     "name": "stdout",
     "output_type": "stream",
     "text": [
      "\n",
      "epoch 12: test average loss: 18.778 | acc: 81.73% (255/312)\n",
      "EarlyStopping counter: 1/25 (best: 0.9487)\n",
      "\n",
      "epoch 13: train average loss: 16.545 | acc: 93.08% (2608/2802)\n"
     ]
    },
    {
     "name": "stderr",
     "output_type": "stream",
     "text": [
      "  4%|▍         | 13/300 [00:05<01:58,  2.42it/s]"
     ]
    },
    {
     "name": "stdout",
     "output_type": "stream",
     "text": [
      "\n",
      "epoch 13: test average loss: 18.849 | acc: 95.51% (298/312)\n",
      "best test acc found\n",
      "\n",
      "epoch 14: train average loss: 15.891 | acc: 93.75% (2627/2802)\n"
     ]
    },
    {
     "name": "stderr",
     "output_type": "stream",
     "text": [
      "  5%|▍         | 14/300 [00:05<01:57,  2.44it/s]"
     ]
    },
    {
     "name": "stdout",
     "output_type": "stream",
     "text": [
      "\n",
      "epoch 14: test average loss: 17.790 | acc: 82.37% (257/312)\n",
      "EarlyStopping counter: 1/25 (best: 0.9551)\n",
      "\n",
      "epoch 15: train average loss: 15.154 | acc: 95.25% (2669/2802)\n"
     ]
    },
    {
     "name": "stderr",
     "output_type": "stream",
     "text": [
      "  5%|▌         | 15/300 [00:06<01:58,  2.41it/s]"
     ]
    },
    {
     "name": "stdout",
     "output_type": "stream",
     "text": [
      "\n",
      "epoch 15: test average loss: 18.381 | acc: 91.99% (287/312)\n",
      "EarlyStopping counter: 2/25 (best: 0.9551)\n",
      "\n",
      "epoch 16: train average loss: 15.009 | acc: 95.29% (2670/2802)\n"
     ]
    },
    {
     "name": "stderr",
     "output_type": "stream",
     "text": [
      "  5%|▌         | 16/300 [00:06<01:59,  2.39it/s]"
     ]
    },
    {
     "name": "stdout",
     "output_type": "stream",
     "text": [
      "\n",
      "epoch 16: test average loss: 18.777 | acc: 93.27% (291/312)\n",
      "EarlyStopping counter: 3/25 (best: 0.9551)\n",
      "\n",
      "epoch 17: train average loss: 14.747 | acc: 95.90% (2687/2802)\n"
     ]
    },
    {
     "name": "stderr",
     "output_type": "stream",
     "text": [
      "  6%|▌         | 17/300 [00:07<01:58,  2.38it/s]"
     ]
    },
    {
     "name": "stdout",
     "output_type": "stream",
     "text": [
      "\n",
      "epoch 17: test average loss: 18.085 | acc: 92.31% (288/312)\n",
      "EarlyStopping counter: 4/25 (best: 0.9551)\n",
      "\n",
      "epoch 18: train average loss: 14.411 | acc: 96.57% (2706/2802)\n"
     ]
    },
    {
     "name": "stderr",
     "output_type": "stream",
     "text": [
      "  6%|▌         | 18/300 [00:07<01:58,  2.38it/s]"
     ]
    },
    {
     "name": "stdout",
     "output_type": "stream",
     "text": [
      "\n",
      "epoch 18: test average loss: 18.493 | acc: 92.63% (289/312)\n",
      "EarlyStopping counter: 5/25 (best: 0.9551)\n",
      "\n",
      "epoch 19: train average loss: 13.987 | acc: 96.57% (2706/2802)\n"
     ]
    },
    {
     "name": "stderr",
     "output_type": "stream",
     "text": [
      "  6%|▋         | 19/300 [00:07<01:57,  2.39it/s]"
     ]
    },
    {
     "name": "stdout",
     "output_type": "stream",
     "text": [
      "\n",
      "epoch 19: test average loss: 16.311 | acc: 96.47% (301/312)\n",
      "best test acc found\n",
      "\n",
      "epoch 20: train average loss: 13.712 | acc: 96.82% (2713/2802)\n"
     ]
    },
    {
     "name": "stderr",
     "output_type": "stream",
     "text": [
      "  7%|▋         | 20/300 [00:08<01:57,  2.39it/s]"
     ]
    },
    {
     "name": "stdout",
     "output_type": "stream",
     "text": [
      "\n",
      "epoch 20: test average loss: 18.376 | acc: 96.79% (302/312)\n",
      "best test acc found\n",
      "\n",
      "epoch 21: train average loss: 13.848 | acc: 96.11% (2693/2802)\n"
     ]
    },
    {
     "name": "stderr",
     "output_type": "stream",
     "text": [
      "  7%|▋         | 21/300 [00:08<01:54,  2.44it/s]"
     ]
    },
    {
     "name": "stdout",
     "output_type": "stream",
     "text": [
      "\n",
      "epoch 21: test average loss: 17.730 | acc: 96.15% (300/312)\n",
      "EarlyStopping counter: 1/25 (best: 0.9679)\n",
      "\n",
      "epoch 22: train average loss: 13.183 | acc: 97.22% (2724/2802)\n"
     ]
    },
    {
     "name": "stderr",
     "output_type": "stream",
     "text": [
      "  7%|▋         | 22/300 [00:09<01:54,  2.44it/s]"
     ]
    },
    {
     "name": "stdout",
     "output_type": "stream",
     "text": [
      "\n",
      "epoch 22: test average loss: 18.275 | acc: 88.78% (277/312)\n",
      "EarlyStopping counter: 2/25 (best: 0.9679)\n",
      "\n",
      "epoch 23: train average loss: 12.754 | acc: 97.11% (2721/2802)\n"
     ]
    },
    {
     "name": "stderr",
     "output_type": "stream",
     "text": [
      "  8%|▊         | 23/300 [00:09<01:52,  2.45it/s]"
     ]
    },
    {
     "name": "stdout",
     "output_type": "stream",
     "text": [
      "\n",
      "epoch 23: test average loss: 16.478 | acc: 96.15% (300/312)\n",
      "EarlyStopping counter: 3/25 (best: 0.9679)\n",
      "\n",
      "epoch 24: train average loss: 12.359 | acc: 97.47% (2731/2802)\n"
     ]
    },
    {
     "name": "stderr",
     "output_type": "stream",
     "text": [
      "  8%|▊         | 24/300 [00:09<01:53,  2.44it/s]"
     ]
    },
    {
     "name": "stdout",
     "output_type": "stream",
     "text": [
      "\n",
      "epoch 24: test average loss: 16.466 | acc: 96.15% (300/312)\n",
      "EarlyStopping counter: 4/25 (best: 0.9679)\n",
      "\n",
      "epoch 25: train average loss: 12.049 | acc: 98.07% (2748/2802)\n"
     ]
    },
    {
     "name": "stderr",
     "output_type": "stream",
     "text": [
      "  8%|▊         | 25/300 [00:10<01:51,  2.46it/s]"
     ]
    },
    {
     "name": "stdout",
     "output_type": "stream",
     "text": [
      "\n",
      "epoch 25: test average loss: 17.421 | acc: 95.51% (298/312)\n",
      "EarlyStopping counter: 5/25 (best: 0.9679)\n",
      "\n",
      "epoch 26: train average loss: 11.937 | acc: 97.97% (2745/2802)\n"
     ]
    },
    {
     "name": "stderr",
     "output_type": "stream",
     "text": [
      "  9%|▊         | 26/300 [00:10<01:51,  2.45it/s]"
     ]
    },
    {
     "name": "stdout",
     "output_type": "stream",
     "text": [
      "\n",
      "epoch 26: test average loss: 17.374 | acc: 94.55% (295/312)\n",
      "EarlyStopping counter: 6/25 (best: 0.9679)\n",
      "\n",
      "epoch 27: train average loss: 12.280 | acc: 98.25% (2753/2802)\n"
     ]
    },
    {
     "name": "stderr",
     "output_type": "stream",
     "text": [
      "  9%|▉         | 27/300 [00:11<01:51,  2.44it/s]"
     ]
    },
    {
     "name": "stdout",
     "output_type": "stream",
     "text": [
      "\n",
      "epoch 27: test average loss: 18.919 | acc: 95.83% (299/312)\n",
      "EarlyStopping counter: 7/25 (best: 0.9679)\n",
      "\n",
      "epoch 28: train average loss: 11.446 | acc: 97.75% (2739/2802)\n"
     ]
    },
    {
     "name": "stderr",
     "output_type": "stream",
     "text": [
      "  9%|▉         | 28/300 [00:11<01:54,  2.37it/s]"
     ]
    },
    {
     "name": "stdout",
     "output_type": "stream",
     "text": [
      "\n",
      "epoch 28: test average loss: 17.788 | acc: 97.76% (305/312)\n",
      "best test acc found\n",
      "\n",
      "epoch 29: train average loss: 10.841 | acc: 98.79% (2768/2802)\n"
     ]
    },
    {
     "name": "stderr",
     "output_type": "stream",
     "text": [
      " 10%|▉         | 29/300 [00:12<01:53,  2.39it/s]"
     ]
    },
    {
     "name": "stdout",
     "output_type": "stream",
     "text": [
      "\n",
      "epoch 29: test average loss: 17.621 | acc: 94.55% (295/312)\n",
      "EarlyStopping counter: 1/25 (best: 0.9776)\n",
      "\n",
      "epoch 30: train average loss: 10.628 | acc: 98.43% (2758/2802)\n"
     ]
    },
    {
     "name": "stderr",
     "output_type": "stream",
     "text": [
      " 10%|█         | 30/300 [00:12<01:55,  2.35it/s]"
     ]
    },
    {
     "name": "stdout",
     "output_type": "stream",
     "text": [
      "\n",
      "epoch 30: test average loss: 16.408 | acc: 95.19% (297/312)\n",
      "EarlyStopping counter: 2/25 (best: 0.9776)\n",
      "\n",
      "epoch 31: train average loss: 10.293 | acc: 98.68% (2765/2802)\n"
     ]
    },
    {
     "name": "stderr",
     "output_type": "stream",
     "text": [
      " 10%|█         | 31/300 [00:12<01:56,  2.30it/s]"
     ]
    },
    {
     "name": "stdout",
     "output_type": "stream",
     "text": [
      "\n",
      "epoch 31: test average loss: 15.619 | acc: 96.47% (301/312)\n",
      "EarlyStopping counter: 3/25 (best: 0.9776)\n",
      "\n",
      "epoch 32: train average loss: 10.005 | acc: 98.93% (2772/2802)\n"
     ]
    },
    {
     "name": "stderr",
     "output_type": "stream",
     "text": [
      " 11%|█         | 32/300 [00:13<01:59,  2.25it/s]"
     ]
    },
    {
     "name": "stdout",
     "output_type": "stream",
     "text": [
      "\n",
      "epoch 32: test average loss: 17.462 | acc: 91.99% (287/312)\n",
      "EarlyStopping counter: 4/25 (best: 0.9776)\n",
      "\n",
      "epoch 33: train average loss: 10.016 | acc: 98.86% (2770/2802)\n"
     ]
    },
    {
     "name": "stderr",
     "output_type": "stream",
     "text": [
      " 11%|█         | 33/300 [00:13<01:56,  2.28it/s]"
     ]
    },
    {
     "name": "stdout",
     "output_type": "stream",
     "text": [
      "\n",
      "epoch 33: test average loss: 17.022 | acc: 88.14% (275/312)\n",
      "EarlyStopping counter: 5/25 (best: 0.9776)\n",
      "\n",
      "epoch 34: train average loss: 9.559 | acc: 98.64% (2764/2802)\n"
     ]
    },
    {
     "name": "stderr",
     "output_type": "stream",
     "text": [
      " 11%|█▏        | 34/300 [00:14<01:55,  2.30it/s]"
     ]
    },
    {
     "name": "stdout",
     "output_type": "stream",
     "text": [
      "\n",
      "epoch 34: test average loss: 15.429 | acc: 96.79% (302/312)\n",
      "EarlyStopping counter: 6/25 (best: 0.9776)\n",
      "\n",
      "epoch 35: train average loss: 9.453 | acc: 99.11% (2777/2802)\n"
     ]
    },
    {
     "name": "stderr",
     "output_type": "stream",
     "text": [
      " 12%|█▏        | 35/300 [00:14<01:57,  2.26it/s]"
     ]
    },
    {
     "name": "stdout",
     "output_type": "stream",
     "text": [
      "\n",
      "epoch 35: test average loss: 17.551 | acc: 98.72% (308/312)\n",
      "best test acc found\n",
      "\n",
      "epoch 36: train average loss: 8.832 | acc: 99.11% (2777/2802)\n"
     ]
    },
    {
     "name": "stderr",
     "output_type": "stream",
     "text": [
      " 12%|█▏        | 36/300 [00:15<01:56,  2.26it/s]"
     ]
    },
    {
     "name": "stdout",
     "output_type": "stream",
     "text": [
      "\n",
      "epoch 36: test average loss: 16.914 | acc: 95.83% (299/312)\n",
      "EarlyStopping counter: 1/25 (best: 0.9872)\n",
      "\n",
      "epoch 37: train average loss: 8.605 | acc: 99.11% (2777/2802)\n"
     ]
    },
    {
     "name": "stderr",
     "output_type": "stream",
     "text": [
      " 12%|█▏        | 37/300 [00:15<01:56,  2.26it/s]"
     ]
    },
    {
     "name": "stdout",
     "output_type": "stream",
     "text": [
      "\n",
      "epoch 37: test average loss: 16.622 | acc: 96.79% (302/312)\n",
      "EarlyStopping counter: 2/25 (best: 0.9872)\n",
      "\n",
      "epoch 38: train average loss: 8.301 | acc: 99.61% (2791/2802)\n"
     ]
    },
    {
     "name": "stderr",
     "output_type": "stream",
     "text": [
      " 13%|█▎        | 38/300 [00:16<01:54,  2.30it/s]"
     ]
    },
    {
     "name": "stdout",
     "output_type": "stream",
     "text": [
      "\n",
      "epoch 38: test average loss: 16.179 | acc: 96.79% (302/312)\n",
      "EarlyStopping counter: 3/25 (best: 0.9872)\n",
      "\n",
      "epoch 39: train average loss: 7.876 | acc: 99.71% (2794/2802)\n"
     ]
    },
    {
     "name": "stderr",
     "output_type": "stream",
     "text": [
      " 13%|█▎        | 39/300 [00:16<01:52,  2.32it/s]"
     ]
    },
    {
     "name": "stdout",
     "output_type": "stream",
     "text": [
      "\n",
      "epoch 39: test average loss: 16.913 | acc: 95.19% (297/312)\n",
      "EarlyStopping counter: 4/25 (best: 0.9872)\n",
      "\n",
      "epoch 40: train average loss: 7.874 | acc: 99.68% (2793/2802)\n"
     ]
    },
    {
     "name": "stderr",
     "output_type": "stream",
     "text": [
      " 13%|█▎        | 40/300 [00:16<01:51,  2.33it/s]"
     ]
    },
    {
     "name": "stdout",
     "output_type": "stream",
     "text": [
      "\n",
      "epoch 40: test average loss: 17.909 | acc: 97.44% (304/312)\n",
      "EarlyStopping counter: 5/25 (best: 0.9872)\n",
      "\n",
      "epoch 41: train average loss: 7.538 | acc: 99.57% (2790/2802)\n"
     ]
    },
    {
     "name": "stderr",
     "output_type": "stream",
     "text": [
      " 14%|█▎        | 41/300 [00:17<01:53,  2.28it/s]"
     ]
    },
    {
     "name": "stdout",
     "output_type": "stream",
     "text": [
      "\n",
      "epoch 41: test average loss: 16.169 | acc: 95.83% (299/312)\n",
      "EarlyStopping counter: 6/25 (best: 0.9872)\n",
      "\n",
      "epoch 42: train average loss: 7.158 | acc: 99.71% (2794/2802)\n"
     ]
    },
    {
     "name": "stderr",
     "output_type": "stream",
     "text": [
      " 14%|█▍        | 42/300 [00:17<01:50,  2.33it/s]"
     ]
    },
    {
     "name": "stdout",
     "output_type": "stream",
     "text": [
      "\n",
      "epoch 42: test average loss: 16.599 | acc: 96.47% (301/312)\n",
      "EarlyStopping counter: 7/25 (best: 0.9872)\n",
      "\n",
      "epoch 43: train average loss: 7.277 | acc: 99.50% (2788/2802)\n"
     ]
    },
    {
     "name": "stderr",
     "output_type": "stream",
     "text": [
      " 14%|█▍        | 43/300 [00:18<01:49,  2.35it/s]"
     ]
    },
    {
     "name": "stdout",
     "output_type": "stream",
     "text": [
      "\n",
      "epoch 43: test average loss: 16.538 | acc: 97.76% (305/312)\n",
      "EarlyStopping counter: 8/25 (best: 0.9872)\n",
      "\n",
      "epoch 44: train average loss: 7.033 | acc: 99.82% (2797/2802)\n"
     ]
    },
    {
     "name": "stderr",
     "output_type": "stream",
     "text": [
      " 15%|█▍        | 44/300 [00:18<01:47,  2.39it/s]"
     ]
    },
    {
     "name": "stdout",
     "output_type": "stream",
     "text": [
      "\n",
      "epoch 44: test average loss: 16.786 | acc: 97.44% (304/312)\n",
      "EarlyStopping counter: 9/25 (best: 0.9872)\n",
      "\n",
      "epoch 45: train average loss: 6.705 | acc: 99.89% (2799/2802)\n"
     ]
    },
    {
     "name": "stderr",
     "output_type": "stream",
     "text": [
      " 15%|█▌        | 45/300 [00:18<01:44,  2.45it/s]"
     ]
    },
    {
     "name": "stdout",
     "output_type": "stream",
     "text": [
      "\n",
      "epoch 45: test average loss: 16.493 | acc: 96.15% (300/312)\n",
      "EarlyStopping counter: 10/25 (best: 0.9872)\n",
      "\n",
      "epoch 46: train average loss: 6.703 | acc: 99.71% (2794/2802)\n"
     ]
    },
    {
     "name": "stderr",
     "output_type": "stream",
     "text": [
      " 15%|█▌        | 46/300 [00:19<01:43,  2.45it/s]"
     ]
    },
    {
     "name": "stdout",
     "output_type": "stream",
     "text": [
      "\n",
      "epoch 46: test average loss: 17.306 | acc: 98.72% (308/312)\n",
      "EarlyStopping counter: 11/25 (best: 0.9872)\n",
      "\n",
      "epoch 47: train average loss: 6.456 | acc: 99.89% (2799/2802)\n"
     ]
    },
    {
     "name": "stderr",
     "output_type": "stream",
     "text": [
      " 16%|█▌        | 47/300 [00:19<01:42,  2.47it/s]"
     ]
    },
    {
     "name": "stdout",
     "output_type": "stream",
     "text": [
      "\n",
      "epoch 47: test average loss: 17.008 | acc: 96.79% (302/312)\n",
      "EarlyStopping counter: 12/25 (best: 0.9872)\n",
      "\n",
      "epoch 48: train average loss: 6.241 | acc: 99.89% (2799/2802)\n"
     ]
    },
    {
     "name": "stderr",
     "output_type": "stream",
     "text": [
      " 16%|█▌        | 48/300 [00:20<01:41,  2.48it/s]"
     ]
    },
    {
     "name": "stdout",
     "output_type": "stream",
     "text": [
      "\n",
      "epoch 48: test average loss: 16.955 | acc: 96.79% (302/312)\n",
      "EarlyStopping counter: 13/25 (best: 0.9872)\n",
      "\n",
      "epoch 49: train average loss: 6.097 | acc: 99.82% (2797/2802)\n"
     ]
    },
    {
     "name": "stderr",
     "output_type": "stream",
     "text": [
      " 16%|█▋        | 49/300 [00:20<01:39,  2.51it/s]"
     ]
    },
    {
     "name": "stdout",
     "output_type": "stream",
     "text": [
      "\n",
      "epoch 49: test average loss: 17.132 | acc: 97.44% (304/312)\n",
      "EarlyStopping counter: 14/25 (best: 0.9872)\n",
      "\n",
      "epoch 50: train average loss: 5.835 | acc: 100.00% (2802/2802)\n"
     ]
    },
    {
     "name": "stderr",
     "output_type": "stream",
     "text": [
      " 17%|█▋        | 50/300 [00:20<01:38,  2.53it/s]"
     ]
    },
    {
     "name": "stdout",
     "output_type": "stream",
     "text": [
      "\n",
      "epoch 50: test average loss: 16.450 | acc: 96.15% (300/312)\n",
      "EarlyStopping counter: 15/25 (best: 0.9872)\n",
      "\n",
      "epoch 51: train average loss: 5.683 | acc: 99.96% (2801/2802)\n"
     ]
    },
    {
     "name": "stderr",
     "output_type": "stream",
     "text": [
      " 17%|█▋        | 51/300 [00:21<01:39,  2.51it/s]"
     ]
    },
    {
     "name": "stdout",
     "output_type": "stream",
     "text": [
      "\n",
      "epoch 51: test average loss: 16.113 | acc: 97.12% (303/312)\n",
      "EarlyStopping counter: 16/25 (best: 0.9872)\n",
      "\n",
      "epoch 52: train average loss: 5.465 | acc: 99.93% (2800/2802)\n"
     ]
    },
    {
     "name": "stderr",
     "output_type": "stream",
     "text": [
      " 17%|█▋        | 52/300 [00:21<01:38,  2.52it/s]"
     ]
    },
    {
     "name": "stdout",
     "output_type": "stream",
     "text": [
      "\n",
      "epoch 52: test average loss: 16.128 | acc: 97.76% (305/312)\n",
      "EarlyStopping counter: 17/25 (best: 0.9872)\n",
      "\n",
      "epoch 53: train average loss: 5.550 | acc: 99.89% (2799/2802)\n"
     ]
    },
    {
     "name": "stderr",
     "output_type": "stream",
     "text": [
      " 18%|█▊        | 53/300 [00:22<01:37,  2.53it/s]"
     ]
    },
    {
     "name": "stdout",
     "output_type": "stream",
     "text": [
      "\n",
      "epoch 53: test average loss: 16.418 | acc: 97.76% (305/312)\n",
      "EarlyStopping counter: 18/25 (best: 0.9872)\n",
      "\n",
      "epoch 54: train average loss: 5.500 | acc: 99.89% (2799/2802)\n"
     ]
    },
    {
     "name": "stderr",
     "output_type": "stream",
     "text": [
      " 18%|█▊        | 54/300 [00:22<01:37,  2.53it/s]"
     ]
    },
    {
     "name": "stdout",
     "output_type": "stream",
     "text": [
      "\n",
      "epoch 54: test average loss: 16.257 | acc: 97.12% (303/312)\n",
      "EarlyStopping counter: 19/25 (best: 0.9872)\n",
      "\n",
      "epoch 55: train average loss: 5.439 | acc: 99.89% (2799/2802)\n"
     ]
    },
    {
     "name": "stderr",
     "output_type": "stream",
     "text": [
      " 18%|█▊        | 55/300 [00:22<01:39,  2.47it/s]"
     ]
    },
    {
     "name": "stdout",
     "output_type": "stream",
     "text": [
      "\n",
      "epoch 55: test average loss: 16.581 | acc: 98.40% (307/312)\n",
      "EarlyStopping counter: 20/25 (best: 0.9872)\n",
      "\n",
      "epoch 56: train average loss: 5.365 | acc: 99.79% (2796/2802)\n"
     ]
    },
    {
     "name": "stderr",
     "output_type": "stream",
     "text": [
      " 19%|█▊        | 56/300 [00:23<01:40,  2.42it/s]"
     ]
    },
    {
     "name": "stdout",
     "output_type": "stream",
     "text": [
      "\n",
      "epoch 56: test average loss: 16.393 | acc: 97.12% (303/312)\n",
      "EarlyStopping counter: 21/25 (best: 0.9872)\n",
      "\n",
      "epoch 57: train average loss: 5.355 | acc: 99.96% (2801/2802)\n"
     ]
    },
    {
     "name": "stderr",
     "output_type": "stream",
     "text": [
      " 19%|█▉        | 57/300 [00:23<01:41,  2.40it/s]"
     ]
    },
    {
     "name": "stdout",
     "output_type": "stream",
     "text": [
      "\n",
      "epoch 57: test average loss: 16.361 | acc: 97.76% (305/312)\n",
      "EarlyStopping counter: 22/25 (best: 0.9872)\n",
      "\n",
      "epoch 58: train average loss: 5.430 | acc: 100.00% (2802/2802)\n"
     ]
    },
    {
     "name": "stderr",
     "output_type": "stream",
     "text": [
      " 19%|█▉        | 58/300 [00:24<01:42,  2.35it/s]"
     ]
    },
    {
     "name": "stdout",
     "output_type": "stream",
     "text": [
      "\n",
      "epoch 58: test average loss: 16.300 | acc: 97.76% (305/312)\n",
      "EarlyStopping counter: 23/25 (best: 0.9872)\n",
      "\n",
      "epoch 59: train average loss: 5.338 | acc: 100.00% (2802/2802)\n"
     ]
    },
    {
     "name": "stderr",
     "output_type": "stream",
     "text": [
      " 20%|█▉        | 59/300 [00:24<01:41,  2.37it/s]"
     ]
    },
    {
     "name": "stdout",
     "output_type": "stream",
     "text": [
      "\n",
      "epoch 59: test average loss: 16.282 | acc: 97.76% (305/312)\n",
      "EarlyStopping counter: 24/25 (best: 0.9872)\n",
      "\n",
      "epoch 60: train average loss: 5.461 | acc: 100.00% (2802/2802)\n"
     ]
    },
    {
     "name": "stderr",
     "output_type": "stream",
     "text": [
      " 20%|█▉        | 59/300 [00:25<01:42,  2.35it/s]"
     ]
    },
    {
     "name": "stdout",
     "output_type": "stream",
     "text": [
      "\n",
      "epoch 60: test average loss: 16.330 | acc: 97.76% (305/312)\n",
      "EarlyStopping counter: 25/25 (best: 0.9872)\n",
      "🔴 Early stopping triggered\n",
      "load model at epoch 35, with test acc : 0.987\n"
     ]
    },
    {
     "name": "stderr",
     "output_type": "stream",
     "text": [
      "\n",
      "/tmp/ipykernel_2950649/1054042983.py:175: FutureWarning:\n",
      "\n",
      "You are using `torch.load` with `weights_only=False` (the current default value), which uses the default pickle module implicitly. It is possible to construct malicious pickle data which will execute arbitrary code during unpickling (See https://github.com/pytorch/pytorch/blob/main/SECURITY.md#untrusted-models for more details). In a future release, the default value for `weights_only` will be flipped to `True`. This limits the functions that could be executed during unpickling. Arbitrary objects will no longer be allowed to be loaded via this mode unless they are explicitly allowlisted by the user via `torch.serialization.add_safe_globals`. We recommend you start setting `weights_only=True` for any use case where you don't have full control of the loaded file. Please open an issue on GitHub for any issues related to this experimental feature.\n",
      "\n"
     ]
    },
    {
     "name": "stdout",
     "output_type": "stream",
     "text": [
      "total 0.9871794871794872\n",
      "class 0 1.0\n",
      "class 1 0.9817351598173516\n",
      "                            0\n",
      "Accuracy               0.9872\n",
      "Recall          [1.0, 0.9817]\n",
      "Specificity     [0.9817, 1.0]\n",
      "Precision       [0.9588, 1.0]\n",
      "F1 Score     [0.9789, 0.9908]\n",
      "5\n"
     ]
    },
    {
     "name": "stderr",
     "output_type": "stream",
     "text": [
      "  0%|          | 0/300 [00:00<?, ?it/s]"
     ]
    },
    {
     "name": "stdout",
     "output_type": "stream",
     "text": [
      "\n",
      "epoch 1: train average loss: 32.990 | acc: 63.54% (1781/2803)\n"
     ]
    },
    {
     "name": "stderr",
     "output_type": "stream",
     "text": [
      "  0%|          | 1/300 [00:00<02:40,  1.86it/s]"
     ]
    },
    {
     "name": "stdout",
     "output_type": "stream",
     "text": [
      "\n",
      "epoch 1: test average loss: 25.758 | acc: 29.58% (92/311)\n",
      "best test acc found\n",
      "\n",
      "epoch 2: train average loss: 27.222 | acc: 69.46% (1947/2803)\n"
     ]
    },
    {
     "name": "stderr",
     "output_type": "stream",
     "text": [
      "  1%|          | 2/300 [00:00<02:16,  2.18it/s]"
     ]
    },
    {
     "name": "stdout",
     "output_type": "stream",
     "text": [
      "\n",
      "epoch 2: test average loss: 22.410 | acc: 29.58% (92/311)\n",
      "EarlyStopping counter: 1/25 (best: 0.2958)\n",
      "\n",
      "epoch 3: train average loss: 23.939 | acc: 76.06% (2132/2803)\n"
     ]
    },
    {
     "name": "stderr",
     "output_type": "stream",
     "text": [
      "  1%|          | 3/300 [00:01<02:09,  2.29it/s]"
     ]
    },
    {
     "name": "stdout",
     "output_type": "stream",
     "text": [
      "\n",
      "epoch 3: test average loss: 21.250 | acc: 29.58% (92/311)\n",
      "EarlyStopping counter: 2/25 (best: 0.2958)\n",
      "\n",
      "epoch 4: train average loss: 21.769 | acc: 80.45% (2255/2803)\n"
     ]
    },
    {
     "name": "stderr",
     "output_type": "stream",
     "text": [
      "  1%|▏         | 4/300 [00:01<02:07,  2.33it/s]"
     ]
    },
    {
     "name": "stdout",
     "output_type": "stream",
     "text": [
      "\n",
      "epoch 4: test average loss: 21.772 | acc: 29.58% (92/311)\n",
      "EarlyStopping counter: 3/25 (best: 0.2958)\n",
      "\n",
      "epoch 5: train average loss: 20.373 | acc: 84.87% (2379/2803)\n"
     ]
    },
    {
     "name": "stderr",
     "output_type": "stream",
     "text": [
      "  2%|▏         | 5/300 [00:02<02:08,  2.29it/s]"
     ]
    },
    {
     "name": "stdout",
     "output_type": "stream",
     "text": [
      "\n",
      "epoch 5: test average loss: 21.900 | acc: 30.87% (96/311)\n",
      "best test acc found\n",
      "\n",
      "epoch 6: train average loss: 19.723 | acc: 88.23% (2473/2803)\n"
     ]
    },
    {
     "name": "stderr",
     "output_type": "stream",
     "text": [
      "  2%|▏         | 6/300 [00:02<02:07,  2.30it/s]"
     ]
    },
    {
     "name": "stdout",
     "output_type": "stream",
     "text": [
      "\n",
      "epoch 6: test average loss: 22.059 | acc: 40.84% (127/311)\n",
      "best test acc found\n",
      "\n",
      "epoch 7: train average loss: 18.933 | acc: 90.55% (2538/2803)\n"
     ]
    },
    {
     "name": "stderr",
     "output_type": "stream",
     "text": [
      "  2%|▏         | 7/300 [00:03<02:04,  2.36it/s]"
     ]
    },
    {
     "name": "stdout",
     "output_type": "stream",
     "text": [
      "\n",
      "epoch 7: test average loss: 21.239 | acc: 65.59% (204/311)\n",
      "best test acc found\n",
      "\n",
      "epoch 8: train average loss: 18.606 | acc: 90.83% (2546/2803)\n"
     ]
    },
    {
     "name": "stderr",
     "output_type": "stream",
     "text": [
      "  3%|▎         | 8/300 [00:03<02:01,  2.41it/s]"
     ]
    },
    {
     "name": "stdout",
     "output_type": "stream",
     "text": [
      "\n",
      "epoch 8: test average loss: 20.182 | acc: 91.32% (284/311)\n",
      "best test acc found\n",
      "\n",
      "epoch 9: train average loss: 18.029 | acc: 92.12% (2582/2803)\n"
     ]
    },
    {
     "name": "stderr",
     "output_type": "stream",
     "text": [
      "  3%|▎         | 9/300 [00:03<01:59,  2.43it/s]"
     ]
    },
    {
     "name": "stdout",
     "output_type": "stream",
     "text": [
      "\n",
      "epoch 9: test average loss: 19.783 | acc: 92.60% (288/311)\n",
      "best test acc found\n",
      "\n",
      "epoch 10: train average loss: 17.401 | acc: 92.86% (2603/2803)\n"
     ]
    },
    {
     "name": "stderr",
     "output_type": "stream",
     "text": [
      "  3%|▎         | 10/300 [00:04<01:57,  2.46it/s]"
     ]
    },
    {
     "name": "stdout",
     "output_type": "stream",
     "text": [
      "\n",
      "epoch 10: test average loss: 19.743 | acc: 84.57% (263/311)\n",
      "EarlyStopping counter: 1/25 (best: 0.9260)\n",
      "\n",
      "epoch 11: train average loss: 16.576 | acc: 93.72% (2627/2803)\n"
     ]
    },
    {
     "name": "stderr",
     "output_type": "stream",
     "text": [
      "  4%|▎         | 11/300 [00:04<01:56,  2.49it/s]"
     ]
    },
    {
     "name": "stdout",
     "output_type": "stream",
     "text": [
      "\n",
      "epoch 11: test average loss: 18.053 | acc: 86.50% (269/311)\n",
      "EarlyStopping counter: 2/25 (best: 0.9260)\n",
      "\n",
      "epoch 12: train average loss: 16.064 | acc: 95.33% (2672/2803)\n"
     ]
    },
    {
     "name": "stderr",
     "output_type": "stream",
     "text": [
      "  4%|▍         | 12/300 [00:05<01:56,  2.47it/s]"
     ]
    },
    {
     "name": "stdout",
     "output_type": "stream",
     "text": [
      "\n",
      "epoch 12: test average loss: 18.879 | acc: 94.53% (294/311)\n",
      "best test acc found\n",
      "\n",
      "epoch 13: train average loss: 15.880 | acc: 95.04% (2664/2803)\n"
     ]
    },
    {
     "name": "stderr",
     "output_type": "stream",
     "text": [
      "  4%|▍         | 13/300 [00:05<01:55,  2.48it/s]"
     ]
    },
    {
     "name": "stdout",
     "output_type": "stream",
     "text": [
      "\n",
      "epoch 13: test average loss: 20.663 | acc: 87.14% (271/311)\n",
      "EarlyStopping counter: 1/25 (best: 0.9453)\n",
      "\n",
      "epoch 14: train average loss: 15.112 | acc: 95.72% (2683/2803)\n"
     ]
    },
    {
     "name": "stderr",
     "output_type": "stream",
     "text": [
      "  5%|▍         | 14/300 [00:05<01:54,  2.50it/s]"
     ]
    },
    {
     "name": "stdout",
     "output_type": "stream",
     "text": [
      "\n",
      "epoch 14: test average loss: 19.227 | acc: 84.57% (263/311)\n",
      "EarlyStopping counter: 2/25 (best: 0.9453)\n",
      "\n",
      "epoch 15: train average loss: 15.362 | acc: 94.93% (2661/2803)\n"
     ]
    },
    {
     "name": "stderr",
     "output_type": "stream",
     "text": [
      "  5%|▌         | 15/300 [00:06<01:54,  2.50it/s]"
     ]
    },
    {
     "name": "stdout",
     "output_type": "stream",
     "text": [
      "\n",
      "epoch 15: test average loss: 20.355 | acc: 92.93% (289/311)\n",
      "EarlyStopping counter: 3/25 (best: 0.9453)\n",
      "\n",
      "epoch 16: train average loss: 15.194 | acc: 96.11% (2694/2803)\n"
     ]
    },
    {
     "name": "stderr",
     "output_type": "stream",
     "text": [
      "  5%|▌         | 16/300 [00:06<01:53,  2.50it/s]"
     ]
    },
    {
     "name": "stdout",
     "output_type": "stream",
     "text": [
      "\n",
      "epoch 16: test average loss: 26.364 | acc: 47.91% (149/311)\n",
      "EarlyStopping counter: 4/25 (best: 0.9453)\n",
      "\n",
      "epoch 17: train average loss: 14.876 | acc: 95.65% (2681/2803)\n"
     ]
    },
    {
     "name": "stderr",
     "output_type": "stream",
     "text": [
      "  6%|▌         | 17/300 [00:07<01:55,  2.45it/s]"
     ]
    },
    {
     "name": "stdout",
     "output_type": "stream",
     "text": [
      "\n",
      "epoch 17: test average loss: 17.613 | acc: 93.25% (290/311)\n",
      "EarlyStopping counter: 5/25 (best: 0.9453)\n",
      "\n",
      "epoch 18: train average loss: 14.349 | acc: 96.36% (2701/2803)\n"
     ]
    },
    {
     "name": "stderr",
     "output_type": "stream",
     "text": [
      "  6%|▌         | 18/300 [00:07<01:59,  2.36it/s]"
     ]
    },
    {
     "name": "stdout",
     "output_type": "stream",
     "text": [
      "\n",
      "epoch 18: test average loss: 17.320 | acc: 94.53% (294/311)\n",
      "EarlyStopping counter: 6/25 (best: 0.9453)\n",
      "\n",
      "epoch 19: train average loss: 13.590 | acc: 97.11% (2722/2803)\n"
     ]
    },
    {
     "name": "stderr",
     "output_type": "stream",
     "text": [
      "  6%|▋         | 19/300 [00:07<02:00,  2.34it/s]"
     ]
    },
    {
     "name": "stdout",
     "output_type": "stream",
     "text": [
      "\n",
      "epoch 19: test average loss: 17.237 | acc: 96.14% (299/311)\n",
      "best test acc found\n",
      "\n",
      "epoch 20: train average loss: 13.052 | acc: 96.93% (2717/2803)\n"
     ]
    },
    {
     "name": "stderr",
     "output_type": "stream",
     "text": [
      "  7%|▋         | 20/300 [00:08<01:59,  2.34it/s]"
     ]
    },
    {
     "name": "stdout",
     "output_type": "stream",
     "text": [
      "\n",
      "epoch 20: test average loss: 16.604 | acc: 94.53% (294/311)\n",
      "EarlyStopping counter: 1/25 (best: 0.9614)\n",
      "\n",
      "epoch 21: train average loss: 12.776 | acc: 97.65% (2737/2803)\n"
     ]
    },
    {
     "name": "stderr",
     "output_type": "stream",
     "text": [
      "  7%|▋         | 21/300 [00:08<01:57,  2.37it/s]"
     ]
    },
    {
     "name": "stdout",
     "output_type": "stream",
     "text": [
      "\n",
      "epoch 21: test average loss: 17.282 | acc: 85.53% (266/311)\n",
      "EarlyStopping counter: 2/25 (best: 0.9614)\n",
      "\n",
      "epoch 22: train average loss: 13.071 | acc: 97.54% (2734/2803)\n"
     ]
    },
    {
     "name": "stderr",
     "output_type": "stream",
     "text": [
      "  7%|▋         | 22/300 [00:09<01:57,  2.37it/s]"
     ]
    },
    {
     "name": "stdout",
     "output_type": "stream",
     "text": [
      "\n",
      "epoch 22: test average loss: 18.573 | acc: 90.03% (280/311)\n",
      "EarlyStopping counter: 3/25 (best: 0.9614)\n",
      "\n",
      "epoch 23: train average loss: 12.976 | acc: 97.82% (2742/2803)\n"
     ]
    },
    {
     "name": "stderr",
     "output_type": "stream",
     "text": [
      "  8%|▊         | 23/300 [00:09<01:55,  2.39it/s]"
     ]
    },
    {
     "name": "stdout",
     "output_type": "stream",
     "text": [
      "\n",
      "epoch 23: test average loss: 17.011 | acc: 88.10% (274/311)\n",
      "EarlyStopping counter: 4/25 (best: 0.9614)\n",
      "\n",
      "epoch 24: train average loss: 12.310 | acc: 97.15% (2723/2803)\n"
     ]
    },
    {
     "name": "stderr",
     "output_type": "stream",
     "text": [
      "  8%|▊         | 24/300 [00:10<01:56,  2.36it/s]"
     ]
    },
    {
     "name": "stdout",
     "output_type": "stream",
     "text": [
      "\n",
      "epoch 24: test average loss: 16.832 | acc: 95.82% (298/311)\n",
      "EarlyStopping counter: 5/25 (best: 0.9614)\n",
      "\n",
      "epoch 25: train average loss: 11.863 | acc: 98.61% (2764/2803)\n"
     ]
    },
    {
     "name": "stderr",
     "output_type": "stream",
     "text": [
      "  8%|▊         | 25/300 [00:10<01:55,  2.38it/s]"
     ]
    },
    {
     "name": "stdout",
     "output_type": "stream",
     "text": [
      "\n",
      "epoch 25: test average loss: 18.152 | acc: 96.14% (299/311)\n",
      "EarlyStopping counter: 6/25 (best: 0.9614)\n",
      "\n",
      "epoch 26: train average loss: 11.448 | acc: 98.11% (2750/2803)\n"
     ]
    },
    {
     "name": "stderr",
     "output_type": "stream",
     "text": [
      "  9%|▊         | 26/300 [00:10<01:55,  2.37it/s]"
     ]
    },
    {
     "name": "stdout",
     "output_type": "stream",
     "text": [
      "\n",
      "epoch 26: test average loss: 17.734 | acc: 92.60% (288/311)\n",
      "EarlyStopping counter: 7/25 (best: 0.9614)\n",
      "\n",
      "epoch 27: train average loss: 11.150 | acc: 98.68% (2766/2803)\n"
     ]
    },
    {
     "name": "stderr",
     "output_type": "stream",
     "text": [
      "  9%|▉         | 27/300 [00:11<01:56,  2.35it/s]"
     ]
    },
    {
     "name": "stdout",
     "output_type": "stream",
     "text": [
      "\n",
      "epoch 27: test average loss: 15.036 | acc: 92.93% (289/311)\n",
      "EarlyStopping counter: 8/25 (best: 0.9614)\n",
      "\n",
      "epoch 28: train average loss: 10.813 | acc: 98.54% (2762/2803)\n"
     ]
    },
    {
     "name": "stderr",
     "output_type": "stream",
     "text": [
      "  9%|▉         | 28/300 [00:11<01:56,  2.34it/s]"
     ]
    },
    {
     "name": "stdout",
     "output_type": "stream",
     "text": [
      "\n",
      "epoch 28: test average loss: 15.382 | acc: 97.11% (302/311)\n",
      "best test acc found\n",
      "\n",
      "epoch 29: train average loss: 11.110 | acc: 98.64% (2765/2803)\n"
     ]
    },
    {
     "name": "stderr",
     "output_type": "stream",
     "text": [
      " 10%|▉         | 29/300 [00:12<01:54,  2.37it/s]"
     ]
    },
    {
     "name": "stdout",
     "output_type": "stream",
     "text": [
      "\n",
      "epoch 29: test average loss: 16.426 | acc: 92.60% (288/311)\n",
      "EarlyStopping counter: 1/25 (best: 0.9711)\n",
      "\n",
      "epoch 30: train average loss: 10.719 | acc: 98.75% (2768/2803)\n"
     ]
    },
    {
     "name": "stderr",
     "output_type": "stream",
     "text": [
      " 10%|█         | 30/300 [00:12<01:53,  2.38it/s]"
     ]
    },
    {
     "name": "stdout",
     "output_type": "stream",
     "text": [
      "\n",
      "epoch 30: test average loss: 14.186 | acc: 92.93% (289/311)\n",
      "EarlyStopping counter: 2/25 (best: 0.9711)\n",
      "\n",
      "epoch 31: train average loss: 10.154 | acc: 98.75% (2768/2803)\n"
     ]
    },
    {
     "name": "stderr",
     "output_type": "stream",
     "text": [
      " 10%|█         | 31/300 [00:13<01:53,  2.37it/s]"
     ]
    },
    {
     "name": "stdout",
     "output_type": "stream",
     "text": [
      "\n",
      "epoch 31: test average loss: 14.027 | acc: 92.93% (289/311)\n",
      "EarlyStopping counter: 3/25 (best: 0.9711)\n",
      "\n",
      "epoch 32: train average loss: 9.921 | acc: 99.39% (2786/2803)\n"
     ]
    },
    {
     "name": "stderr",
     "output_type": "stream",
     "text": [
      " 11%|█         | 32/300 [00:13<01:50,  2.42it/s]"
     ]
    },
    {
     "name": "stdout",
     "output_type": "stream",
     "text": [
      "\n",
      "epoch 32: test average loss: 14.009 | acc: 94.21% (293/311)\n",
      "EarlyStopping counter: 4/25 (best: 0.9711)\n",
      "\n",
      "epoch 33: train average loss: 9.428 | acc: 98.93% (2773/2803)\n"
     ]
    },
    {
     "name": "stderr",
     "output_type": "stream",
     "text": [
      " 11%|█         | 33/300 [00:13<01:48,  2.45it/s]"
     ]
    },
    {
     "name": "stdout",
     "output_type": "stream",
     "text": [
      "\n",
      "epoch 33: test average loss: 15.205 | acc: 95.18% (296/311)\n",
      "EarlyStopping counter: 5/25 (best: 0.9711)\n",
      "\n",
      "epoch 34: train average loss: 9.037 | acc: 99.36% (2785/2803)\n"
     ]
    },
    {
     "name": "stderr",
     "output_type": "stream",
     "text": [
      " 11%|█▏        | 34/300 [00:14<01:47,  2.48it/s]"
     ]
    },
    {
     "name": "stdout",
     "output_type": "stream",
     "text": [
      "\n",
      "epoch 34: test average loss: 15.439 | acc: 96.14% (299/311)\n",
      "EarlyStopping counter: 6/25 (best: 0.9711)\n",
      "\n",
      "epoch 35: train average loss: 8.521 | acc: 99.18% (2780/2803)\n"
     ]
    },
    {
     "name": "stderr",
     "output_type": "stream",
     "text": [
      " 12%|█▏        | 35/300 [00:14<01:45,  2.50it/s]"
     ]
    },
    {
     "name": "stdout",
     "output_type": "stream",
     "text": [
      "\n",
      "epoch 35: test average loss: 16.090 | acc: 96.46% (300/311)\n",
      "EarlyStopping counter: 7/25 (best: 0.9711)\n",
      "\n",
      "epoch 36: train average loss: 8.541 | acc: 99.32% (2784/2803)\n"
     ]
    },
    {
     "name": "stderr",
     "output_type": "stream",
     "text": [
      " 12%|█▏        | 36/300 [00:14<01:44,  2.52it/s]"
     ]
    },
    {
     "name": "stdout",
     "output_type": "stream",
     "text": [
      "\n",
      "epoch 36: test average loss: 16.586 | acc: 96.78% (301/311)\n",
      "EarlyStopping counter: 8/25 (best: 0.9711)\n",
      "\n",
      "epoch 37: train average loss: 8.229 | acc: 99.79% (2797/2803)\n"
     ]
    },
    {
     "name": "stderr",
     "output_type": "stream",
     "text": [
      " 12%|█▏        | 37/300 [00:15<01:44,  2.51it/s]"
     ]
    },
    {
     "name": "stdout",
     "output_type": "stream",
     "text": [
      "\n",
      "epoch 37: test average loss: 18.518 | acc: 89.39% (278/311)\n",
      "EarlyStopping counter: 9/25 (best: 0.9711)\n",
      "\n",
      "epoch 38: train average loss: 7.955 | acc: 99.54% (2790/2803)\n"
     ]
    },
    {
     "name": "stderr",
     "output_type": "stream",
     "text": [
      " 13%|█▎        | 38/300 [00:15<01:44,  2.50it/s]"
     ]
    },
    {
     "name": "stdout",
     "output_type": "stream",
     "text": [
      "\n",
      "epoch 38: test average loss: 14.776 | acc: 97.43% (303/311)\n",
      "best test acc found\n",
      "\n",
      "epoch 39: train average loss: 7.770 | acc: 99.43% (2787/2803)\n"
     ]
    },
    {
     "name": "stderr",
     "output_type": "stream",
     "text": [
      " 13%|█▎        | 39/300 [00:16<01:43,  2.52it/s]"
     ]
    },
    {
     "name": "stdout",
     "output_type": "stream",
     "text": [
      "\n",
      "epoch 39: test average loss: 16.230 | acc: 96.78% (301/311)\n",
      "EarlyStopping counter: 1/25 (best: 0.9743)\n",
      "\n",
      "epoch 40: train average loss: 7.205 | acc: 99.57% (2791/2803)\n"
     ]
    },
    {
     "name": "stderr",
     "output_type": "stream",
     "text": [
      " 13%|█▎        | 40/300 [00:16<01:44,  2.49it/s]"
     ]
    },
    {
     "name": "stdout",
     "output_type": "stream",
     "text": [
      "\n",
      "epoch 40: test average loss: 16.316 | acc: 98.39% (306/311)\n",
      "best test acc found\n",
      "\n",
      "epoch 41: train average loss: 7.009 | acc: 99.79% (2797/2803)\n"
     ]
    },
    {
     "name": "stderr",
     "output_type": "stream",
     "text": [
      " 14%|█▎        | 41/300 [00:17<01:46,  2.44it/s]"
     ]
    },
    {
     "name": "stdout",
     "output_type": "stream",
     "text": [
      "\n",
      "epoch 41: test average loss: 20.065 | acc: 92.93% (289/311)\n",
      "EarlyStopping counter: 1/25 (best: 0.9839)\n",
      "\n",
      "epoch 42: train average loss: 6.655 | acc: 99.86% (2799/2803)\n"
     ]
    },
    {
     "name": "stderr",
     "output_type": "stream",
     "text": [
      " 14%|█▍        | 42/300 [00:17<01:50,  2.34it/s]"
     ]
    },
    {
     "name": "stdout",
     "output_type": "stream",
     "text": [
      "\n",
      "epoch 42: test average loss: 16.668 | acc: 96.46% (300/311)\n",
      "EarlyStopping counter: 2/25 (best: 0.9839)\n",
      "\n",
      "epoch 43: train average loss: 6.352 | acc: 99.68% (2794/2803)\n"
     ]
    },
    {
     "name": "stderr",
     "output_type": "stream",
     "text": [
      " 14%|█▍        | 43/300 [00:17<01:49,  2.34it/s]"
     ]
    },
    {
     "name": "stdout",
     "output_type": "stream",
     "text": [
      "\n",
      "epoch 43: test average loss: 18.895 | acc: 96.46% (300/311)\n",
      "EarlyStopping counter: 3/25 (best: 0.9839)\n",
      "\n",
      "epoch 44: train average loss: 6.086 | acc: 99.89% (2800/2803)\n"
     ]
    },
    {
     "name": "stderr",
     "output_type": "stream",
     "text": [
      " 15%|█▍        | 44/300 [00:18<01:49,  2.34it/s]"
     ]
    },
    {
     "name": "stdout",
     "output_type": "stream",
     "text": [
      "\n",
      "epoch 44: test average loss: 19.666 | acc: 95.82% (298/311)\n",
      "EarlyStopping counter: 4/25 (best: 0.9839)\n",
      "\n",
      "epoch 45: train average loss: 6.102 | acc: 99.93% (2801/2803)\n"
     ]
    },
    {
     "name": "stderr",
     "output_type": "stream",
     "text": [
      " 15%|█▌        | 45/300 [00:18<01:48,  2.36it/s]"
     ]
    },
    {
     "name": "stdout",
     "output_type": "stream",
     "text": [
      "\n",
      "epoch 45: test average loss: 20.132 | acc: 95.50% (297/311)\n",
      "EarlyStopping counter: 5/25 (best: 0.9839)\n",
      "\n",
      "epoch 46: train average loss: 6.030 | acc: 99.64% (2793/2803)\n"
     ]
    },
    {
     "name": "stderr",
     "output_type": "stream",
     "text": [
      " 15%|█▌        | 46/300 [00:19<01:47,  2.36it/s]"
     ]
    },
    {
     "name": "stdout",
     "output_type": "stream",
     "text": [
      "\n",
      "epoch 46: test average loss: 20.171 | acc: 97.75% (304/311)\n",
      "EarlyStopping counter: 6/25 (best: 0.9839)\n",
      "\n",
      "epoch 47: train average loss: 5.651 | acc: 99.93% (2801/2803)\n"
     ]
    },
    {
     "name": "stderr",
     "output_type": "stream",
     "text": [
      " 16%|█▌        | 47/300 [00:19<01:46,  2.38it/s]"
     ]
    },
    {
     "name": "stdout",
     "output_type": "stream",
     "text": [
      "\n",
      "epoch 47: test average loss: 22.369 | acc: 95.50% (297/311)\n",
      "EarlyStopping counter: 7/25 (best: 0.9839)\n",
      "\n",
      "epoch 48: train average loss: 5.371 | acc: 99.86% (2799/2803)\n"
     ]
    },
    {
     "name": "stderr",
     "output_type": "stream",
     "text": [
      " 16%|█▌        | 48/300 [00:20<01:45,  2.39it/s]"
     ]
    },
    {
     "name": "stdout",
     "output_type": "stream",
     "text": [
      "\n",
      "epoch 48: test average loss: 20.747 | acc: 96.14% (299/311)\n",
      "EarlyStopping counter: 8/25 (best: 0.9839)\n",
      "\n",
      "epoch 49: train average loss: 5.264 | acc: 99.82% (2798/2803)\n"
     ]
    },
    {
     "name": "stderr",
     "output_type": "stream",
     "text": [
      " 16%|█▋        | 49/300 [00:20<01:44,  2.40it/s]"
     ]
    },
    {
     "name": "stdout",
     "output_type": "stream",
     "text": [
      "\n",
      "epoch 49: test average loss: 21.216 | acc: 95.82% (298/311)\n",
      "EarlyStopping counter: 9/25 (best: 0.9839)\n",
      "\n",
      "epoch 50: train average loss: 5.172 | acc: 99.93% (2801/2803)\n"
     ]
    },
    {
     "name": "stderr",
     "output_type": "stream",
     "text": [
      " 17%|█▋        | 50/300 [00:20<01:44,  2.40it/s]"
     ]
    },
    {
     "name": "stdout",
     "output_type": "stream",
     "text": [
      "\n",
      "epoch 50: test average loss: 22.695 | acc: 95.50% (297/311)\n",
      "EarlyStopping counter: 10/25 (best: 0.9839)\n",
      "\n",
      "epoch 51: train average loss: 5.002 | acc: 99.86% (2799/2803)\n"
     ]
    },
    {
     "name": "stderr",
     "output_type": "stream",
     "text": [
      " 17%|█▋        | 51/300 [00:21<01:43,  2.40it/s]"
     ]
    },
    {
     "name": "stdout",
     "output_type": "stream",
     "text": [
      "\n",
      "epoch 51: test average loss: 21.996 | acc: 95.50% (297/311)\n",
      "EarlyStopping counter: 11/25 (best: 0.9839)\n",
      "\n",
      "epoch 52: train average loss: 4.947 | acc: 99.93% (2801/2803)\n"
     ]
    },
    {
     "name": "stderr",
     "output_type": "stream",
     "text": [
      " 17%|█▋        | 52/300 [00:21<01:43,  2.39it/s]"
     ]
    },
    {
     "name": "stdout",
     "output_type": "stream",
     "text": [
      "\n",
      "epoch 52: test average loss: 21.388 | acc: 97.11% (302/311)\n",
      "EarlyStopping counter: 12/25 (best: 0.9839)\n",
      "\n",
      "epoch 53: train average loss: 4.834 | acc: 100.00% (2803/2803)\n"
     ]
    },
    {
     "name": "stderr",
     "output_type": "stream",
     "text": [
      " 18%|█▊        | 53/300 [00:22<01:43,  2.38it/s]"
     ]
    },
    {
     "name": "stdout",
     "output_type": "stream",
     "text": [
      "\n",
      "epoch 53: test average loss: 21.420 | acc: 97.11% (302/311)\n",
      "EarlyStopping counter: 13/25 (best: 0.9839)\n",
      "\n",
      "epoch 54: train average loss: 4.666 | acc: 99.96% (2802/2803)\n"
     ]
    },
    {
     "name": "stderr",
     "output_type": "stream",
     "text": [
      " 18%|█▊        | 54/300 [00:22<01:43,  2.38it/s]"
     ]
    },
    {
     "name": "stdout",
     "output_type": "stream",
     "text": [
      "\n",
      "epoch 54: test average loss: 22.839 | acc: 94.21% (293/311)\n",
      "EarlyStopping counter: 14/25 (best: 0.9839)\n",
      "\n",
      "epoch 55: train average loss: 4.651 | acc: 99.93% (2801/2803)\n"
     ]
    },
    {
     "name": "stderr",
     "output_type": "stream",
     "text": [
      " 18%|█▊        | 55/300 [00:22<01:43,  2.37it/s]"
     ]
    },
    {
     "name": "stdout",
     "output_type": "stream",
     "text": [
      "\n",
      "epoch 55: test average loss: 20.363 | acc: 96.14% (299/311)\n",
      "EarlyStopping counter: 15/25 (best: 0.9839)\n",
      "\n",
      "epoch 56: train average loss: 4.410 | acc: 99.96% (2802/2803)\n"
     ]
    },
    {
     "name": "stderr",
     "output_type": "stream",
     "text": [
      " 19%|█▊        | 56/300 [00:23<01:43,  2.36it/s]"
     ]
    },
    {
     "name": "stdout",
     "output_type": "stream",
     "text": [
      "\n",
      "epoch 56: test average loss: 20.831 | acc: 96.46% (300/311)\n",
      "EarlyStopping counter: 16/25 (best: 0.9839)\n",
      "\n",
      "epoch 57: train average loss: 4.646 | acc: 99.96% (2802/2803)\n"
     ]
    },
    {
     "name": "stderr",
     "output_type": "stream",
     "text": [
      " 19%|█▉        | 57/300 [00:23<01:42,  2.38it/s]"
     ]
    },
    {
     "name": "stdout",
     "output_type": "stream",
     "text": [
      "\n",
      "epoch 57: test average loss: 21.216 | acc: 96.14% (299/311)\n",
      "EarlyStopping counter: 17/25 (best: 0.9839)\n",
      "\n",
      "epoch 58: train average loss: 4.487 | acc: 100.00% (2803/2803)\n"
     ]
    },
    {
     "name": "stderr",
     "output_type": "stream",
     "text": [
      " 19%|█▉        | 58/300 [00:24<01:39,  2.43it/s]"
     ]
    },
    {
     "name": "stdout",
     "output_type": "stream",
     "text": [
      "\n",
      "epoch 58: test average loss: 21.235 | acc: 95.82% (298/311)\n",
      "EarlyStopping counter: 18/25 (best: 0.9839)\n",
      "\n",
      "epoch 59: train average loss: 4.270 | acc: 100.00% (2803/2803)\n"
     ]
    },
    {
     "name": "stderr",
     "output_type": "stream",
     "text": [
      " 20%|█▉        | 59/300 [00:24<01:39,  2.43it/s]"
     ]
    },
    {
     "name": "stdout",
     "output_type": "stream",
     "text": [
      "\n",
      "epoch 59: test average loss: 21.178 | acc: 95.82% (298/311)\n",
      "EarlyStopping counter: 19/25 (best: 0.9839)\n",
      "\n",
      "epoch 60: train average loss: 4.515 | acc: 99.89% (2800/2803)\n"
     ]
    },
    {
     "name": "stderr",
     "output_type": "stream",
     "text": [
      " 20%|██        | 60/300 [00:24<01:38,  2.45it/s]"
     ]
    },
    {
     "name": "stdout",
     "output_type": "stream",
     "text": [
      "\n",
      "epoch 60: test average loss: 21.327 | acc: 95.82% (298/311)\n",
      "EarlyStopping counter: 20/25 (best: 0.9839)\n",
      "\n",
      "epoch 61: train average loss: 4.495 | acc: 99.93% (2801/2803)\n"
     ]
    },
    {
     "name": "stderr",
     "output_type": "stream",
     "text": [
      " 20%|██        | 61/300 [00:25<01:36,  2.47it/s]"
     ]
    },
    {
     "name": "stdout",
     "output_type": "stream",
     "text": [
      "\n",
      "epoch 61: test average loss: 21.318 | acc: 95.82% (298/311)\n",
      "EarlyStopping counter: 21/25 (best: 0.9839)\n",
      "\n",
      "epoch 62: train average loss: 4.623 | acc: 99.93% (2801/2803)\n"
     ]
    },
    {
     "name": "stderr",
     "output_type": "stream",
     "text": [
      " 21%|██        | 62/300 [00:25<01:35,  2.50it/s]"
     ]
    },
    {
     "name": "stdout",
     "output_type": "stream",
     "text": [
      "\n",
      "epoch 62: test average loss: 21.280 | acc: 95.82% (298/311)\n",
      "EarlyStopping counter: 22/25 (best: 0.9839)\n",
      "\n",
      "epoch 63: train average loss: 4.609 | acc: 99.93% (2801/2803)\n"
     ]
    },
    {
     "name": "stderr",
     "output_type": "stream",
     "text": [
      " 21%|██        | 63/300 [00:26<01:34,  2.51it/s]"
     ]
    },
    {
     "name": "stdout",
     "output_type": "stream",
     "text": [
      "\n",
      "epoch 63: test average loss: 21.240 | acc: 95.82% (298/311)\n",
      "EarlyStopping counter: 23/25 (best: 0.9839)\n",
      "\n",
      "epoch 64: train average loss: 4.447 | acc: 100.00% (2803/2803)\n"
     ]
    },
    {
     "name": "stderr",
     "output_type": "stream",
     "text": [
      " 21%|██▏       | 64/300 [00:26<01:33,  2.51it/s]"
     ]
    },
    {
     "name": "stdout",
     "output_type": "stream",
     "text": [
      "\n",
      "epoch 64: test average loss: 21.376 | acc: 95.82% (298/311)\n",
      "EarlyStopping counter: 24/25 (best: 0.9839)\n",
      "\n",
      "epoch 65: train average loss: 4.475 | acc: 99.89% (2800/2803)\n"
     ]
    },
    {
     "name": "stderr",
     "output_type": "stream",
     "text": [
      " 21%|██▏       | 64/300 [00:26<01:39,  2.37it/s]"
     ]
    },
    {
     "name": "stdout",
     "output_type": "stream",
     "text": [
      "\n",
      "epoch 65: test average loss: 21.425 | acc: 96.14% (299/311)\n",
      "EarlyStopping counter: 25/25 (best: 0.9839)\n",
      "🔴 Early stopping triggered\n",
      "load model at epoch 40, with test acc : 0.984\n"
     ]
    },
    {
     "name": "stderr",
     "output_type": "stream",
     "text": [
      "\n",
      "/tmp/ipykernel_2950649/1054042983.py:175: FutureWarning:\n",
      "\n",
      "You are using `torch.load` with `weights_only=False` (the current default value), which uses the default pickle module implicitly. It is possible to construct malicious pickle data which will execute arbitrary code during unpickling (See https://github.com/pytorch/pytorch/blob/main/SECURITY.md#untrusted-models for more details). In a future release, the default value for `weights_only` will be flipped to `True`. This limits the functions that could be executed during unpickling. Arbitrary objects will no longer be allowed to be loaded via this mode unless they are explicitly allowlisted by the user via `torch.serialization.add_safe_globals`. We recommend you start setting `weights_only=True` for any use case where you don't have full control of the loaded file. Please open an issue on GitHub for any issues related to this experimental feature.\n",
      "\n"
     ]
    },
    {
     "name": "stdout",
     "output_type": "stream",
     "text": [
      "total 0.9839228295819936\n",
      "class 0 0.9782608695652174\n",
      "class 1 0.9863013698630136\n",
      "                            0\n",
      "Accuracy               0.9839\n",
      "Recall       [0.9783, 0.9863]\n",
      "Specificity  [0.9863, 0.9783]\n",
      "Precision    [0.9677, 0.9908]\n",
      "F1 Score      [0.973, 0.9886]\n",
      "6\n"
     ]
    },
    {
     "name": "stderr",
     "output_type": "stream",
     "text": [
      "  0%|          | 0/300 [00:00<?, ?it/s]"
     ]
    },
    {
     "name": "stdout",
     "output_type": "stream",
     "text": [
      "\n",
      "epoch 1: train average loss: 32.672 | acc: 65.11% (1825/2803)\n"
     ]
    },
    {
     "name": "stderr",
     "output_type": "stream",
     "text": [
      "  0%|          | 1/300 [00:00<02:23,  2.09it/s]"
     ]
    },
    {
     "name": "stdout",
     "output_type": "stream",
     "text": [
      "\n",
      "epoch 1: test average loss: 25.970 | acc: 29.58% (92/311)\n",
      "best test acc found\n",
      "\n",
      "epoch 2: train average loss: 26.739 | acc: 74.56% (2090/2803)\n"
     ]
    },
    {
     "name": "stderr",
     "output_type": "stream",
     "text": [
      "  1%|          | 2/300 [00:00<02:18,  2.14it/s]"
     ]
    },
    {
     "name": "stdout",
     "output_type": "stream",
     "text": [
      "\n",
      "epoch 2: test average loss: 21.638 | acc: 29.58% (92/311)\n",
      "EarlyStopping counter: 1/25 (best: 0.2958)\n",
      "\n",
      "epoch 3: train average loss: 23.462 | acc: 78.52% (2201/2803)\n"
     ]
    },
    {
     "name": "stderr",
     "output_type": "stream",
     "text": [
      "  1%|          | 3/300 [00:01<02:19,  2.13it/s]"
     ]
    },
    {
     "name": "stdout",
     "output_type": "stream",
     "text": [
      "\n",
      "epoch 3: test average loss: 21.866 | acc: 29.58% (92/311)\n",
      "EarlyStopping counter: 2/25 (best: 0.2958)\n",
      "\n",
      "epoch 4: train average loss: 21.406 | acc: 81.98% (2298/2803)\n"
     ]
    },
    {
     "name": "stderr",
     "output_type": "stream",
     "text": [
      "  1%|▏         | 4/300 [00:01<02:14,  2.20it/s]"
     ]
    },
    {
     "name": "stdout",
     "output_type": "stream",
     "text": [
      "\n",
      "epoch 4: test average loss: 22.301 | acc: 30.23% (94/311)\n",
      "best test acc found\n",
      "\n",
      "epoch 5: train average loss: 20.277 | acc: 85.44% (2395/2803)\n"
     ]
    },
    {
     "name": "stderr",
     "output_type": "stream",
     "text": [
      "  2%|▏         | 5/300 [00:02<02:11,  2.24it/s]"
     ]
    },
    {
     "name": "stdout",
     "output_type": "stream",
     "text": [
      "\n",
      "epoch 5: test average loss: 22.537 | acc: 31.83% (99/311)\n",
      "best test acc found\n",
      "\n",
      "epoch 6: train average loss: 19.502 | acc: 87.91% (2464/2803)\n",
      "\n",
      "epoch 6: test average loss: 22.211 | acc: 50.48% (157/311)\n",
      "best test acc found\n"
     ]
    },
    {
     "name": "stderr",
     "output_type": "stream",
     "text": [
      "  2%|▏         | 6/300 [00:02<02:18,  2.12it/s]"
     ]
    },
    {
     "name": "stdout",
     "output_type": "stream",
     "text": [
      "\n",
      "epoch 7: train average loss: 18.914 | acc: 89.83% (2518/2803)\n"
     ]
    },
    {
     "name": "stderr",
     "output_type": "stream",
     "text": [
      "  2%|▏         | 7/300 [00:03<02:21,  2.08it/s]"
     ]
    },
    {
     "name": "stdout",
     "output_type": "stream",
     "text": [
      "\n",
      "epoch 7: test average loss: 21.571 | acc: 76.85% (239/311)\n",
      "best test acc found\n",
      "\n",
      "epoch 8: train average loss: 18.130 | acc: 91.51% (2565/2803)\n"
     ]
    },
    {
     "name": "stderr",
     "output_type": "stream",
     "text": [
      "  3%|▎         | 8/300 [00:03<02:17,  2.13it/s]"
     ]
    },
    {
     "name": "stdout",
     "output_type": "stream",
     "text": [
      "\n",
      "epoch 8: test average loss: 20.903 | acc: 95.82% (298/311)\n",
      "best test acc found\n",
      "\n",
      "epoch 9: train average loss: 17.641 | acc: 92.83% (2602/2803)\n"
     ]
    },
    {
     "name": "stderr",
     "output_type": "stream",
     "text": [
      "  3%|▎         | 9/300 [00:04<02:13,  2.18it/s]"
     ]
    },
    {
     "name": "stdout",
     "output_type": "stream",
     "text": [
      "\n",
      "epoch 9: test average loss: 20.132 | acc: 95.50% (297/311)\n",
      "EarlyStopping counter: 1/25 (best: 0.9582)\n",
      "\n",
      "epoch 10: train average loss: 17.382 | acc: 92.72% (2599/2803)\n"
     ]
    },
    {
     "name": "stderr",
     "output_type": "stream",
     "text": [
      "  3%|▎         | 10/300 [00:04<02:10,  2.22it/s]"
     ]
    },
    {
     "name": "stdout",
     "output_type": "stream",
     "text": [
      "\n",
      "epoch 10: test average loss: 19.871 | acc: 93.89% (292/311)\n",
      "EarlyStopping counter: 2/25 (best: 0.9582)\n",
      "\n",
      "epoch 11: train average loss: 16.623 | acc: 93.94% (2633/2803)\n"
     ]
    },
    {
     "name": "stderr",
     "output_type": "stream",
     "text": [
      "  4%|▎         | 11/300 [00:05<02:07,  2.27it/s]"
     ]
    },
    {
     "name": "stdout",
     "output_type": "stream",
     "text": [
      "\n",
      "epoch 11: test average loss: 18.830 | acc: 77.17% (240/311)\n",
      "EarlyStopping counter: 3/25 (best: 0.9582)\n",
      "\n",
      "epoch 12: train average loss: 16.564 | acc: 94.40% (2646/2803)\n"
     ]
    },
    {
     "name": "stderr",
     "output_type": "stream",
     "text": [
      "  4%|▍         | 12/300 [00:05<02:04,  2.31it/s]"
     ]
    },
    {
     "name": "stdout",
     "output_type": "stream",
     "text": [
      "\n",
      "epoch 12: test average loss: 20.434 | acc: 54.66% (170/311)\n",
      "EarlyStopping counter: 4/25 (best: 0.9582)\n",
      "\n",
      "epoch 13: train average loss: 16.308 | acc: 94.93% (2661/2803)\n"
     ]
    },
    {
     "name": "stderr",
     "output_type": "stream",
     "text": [
      "  4%|▍         | 13/300 [00:05<02:02,  2.34it/s]"
     ]
    },
    {
     "name": "stdout",
     "output_type": "stream",
     "text": [
      "\n",
      "epoch 13: test average loss: 19.639 | acc: 94.21% (293/311)\n",
      "EarlyStopping counter: 5/25 (best: 0.9582)\n",
      "\n",
      "epoch 14: train average loss: 15.483 | acc: 96.00% (2691/2803)\n"
     ]
    },
    {
     "name": "stderr",
     "output_type": "stream",
     "text": [
      "  5%|▍         | 14/300 [00:06<01:59,  2.39it/s]"
     ]
    },
    {
     "name": "stdout",
     "output_type": "stream",
     "text": [
      "\n",
      "epoch 14: test average loss: 20.032 | acc: 91.96% (286/311)\n",
      "EarlyStopping counter: 6/25 (best: 0.9582)\n",
      "\n",
      "epoch 15: train average loss: 15.822 | acc: 95.43% (2675/2803)\n"
     ]
    },
    {
     "name": "stderr",
     "output_type": "stream",
     "text": [
      "  5%|▌         | 15/300 [00:06<01:58,  2.42it/s]"
     ]
    },
    {
     "name": "stdout",
     "output_type": "stream",
     "text": [
      "\n",
      "epoch 15: test average loss: 19.025 | acc: 92.93% (289/311)\n",
      "EarlyStopping counter: 7/25 (best: 0.9582)\n",
      "\n",
      "epoch 16: train average loss: 14.858 | acc: 94.83% (2658/2803)\n"
     ]
    },
    {
     "name": "stderr",
     "output_type": "stream",
     "text": [
      "  5%|▌         | 16/300 [00:07<01:57,  2.43it/s]"
     ]
    },
    {
     "name": "stdout",
     "output_type": "stream",
     "text": [
      "\n",
      "epoch 16: test average loss: 19.679 | acc: 91.96% (286/311)\n",
      "EarlyStopping counter: 8/25 (best: 0.9582)\n",
      "\n",
      "epoch 17: train average loss: 14.129 | acc: 96.65% (2709/2803)\n"
     ]
    },
    {
     "name": "stderr",
     "output_type": "stream",
     "text": [
      "  6%|▌         | 17/300 [00:07<01:55,  2.44it/s]"
     ]
    },
    {
     "name": "stdout",
     "output_type": "stream",
     "text": [
      "\n",
      "epoch 17: test average loss: 18.198 | acc: 96.46% (300/311)\n",
      "best test acc found\n",
      "\n",
      "epoch 18: train average loss: 13.763 | acc: 97.11% (2722/2803)\n"
     ]
    },
    {
     "name": "stderr",
     "output_type": "stream",
     "text": [
      "  6%|▌         | 18/300 [00:07<01:56,  2.43it/s]"
     ]
    },
    {
     "name": "stdout",
     "output_type": "stream",
     "text": [
      "\n",
      "epoch 18: test average loss: 19.260 | acc: 93.89% (292/311)\n",
      "EarlyStopping counter: 1/25 (best: 0.9646)\n",
      "\n",
      "epoch 19: train average loss: 13.946 | acc: 96.90% (2716/2803)\n"
     ]
    },
    {
     "name": "stderr",
     "output_type": "stream",
     "text": [
      "  6%|▋         | 19/300 [00:08<01:55,  2.43it/s]"
     ]
    },
    {
     "name": "stdout",
     "output_type": "stream",
     "text": [
      "\n",
      "epoch 19: test average loss: 18.792 | acc: 91.00% (283/311)\n",
      "EarlyStopping counter: 2/25 (best: 0.9646)\n",
      "\n",
      "epoch 20: train average loss: 13.439 | acc: 97.11% (2722/2803)\n"
     ]
    },
    {
     "name": "stderr",
     "output_type": "stream",
     "text": [
      "  7%|▋         | 20/300 [00:08<01:55,  2.43it/s]"
     ]
    },
    {
     "name": "stdout",
     "output_type": "stream",
     "text": [
      "\n",
      "epoch 20: test average loss: 17.260 | acc: 93.89% (292/311)\n",
      "EarlyStopping counter: 3/25 (best: 0.9646)\n",
      "\n",
      "epoch 21: train average loss: 13.565 | acc: 96.90% (2716/2803)\n"
     ]
    },
    {
     "name": "stderr",
     "output_type": "stream",
     "text": [
      "  7%|▋         | 21/300 [00:09<01:54,  2.43it/s]"
     ]
    },
    {
     "name": "stdout",
     "output_type": "stream",
     "text": [
      "\n",
      "epoch 21: test average loss: 17.559 | acc: 96.14% (299/311)\n",
      "EarlyStopping counter: 4/25 (best: 0.9646)\n",
      "\n",
      "epoch 22: train average loss: 13.230 | acc: 97.15% (2723/2803)\n"
     ]
    },
    {
     "name": "stderr",
     "output_type": "stream",
     "text": [
      "  7%|▋         | 22/300 [00:09<01:56,  2.38it/s]"
     ]
    },
    {
     "name": "stdout",
     "output_type": "stream",
     "text": [
      "\n",
      "epoch 22: test average loss: 17.237 | acc: 94.53% (294/311)\n",
      "EarlyStopping counter: 5/25 (best: 0.9646)\n",
      "\n",
      "epoch 23: train average loss: 13.552 | acc: 96.47% (2704/2803)\n"
     ]
    },
    {
     "name": "stderr",
     "output_type": "stream",
     "text": [
      "  8%|▊         | 23/300 [00:09<01:56,  2.37it/s]"
     ]
    },
    {
     "name": "stdout",
     "output_type": "stream",
     "text": [
      "\n",
      "epoch 23: test average loss: 15.778 | acc: 78.14% (243/311)\n",
      "EarlyStopping counter: 6/25 (best: 0.9646)\n",
      "\n",
      "epoch 24: train average loss: 12.808 | acc: 97.22% (2725/2803)\n"
     ]
    },
    {
     "name": "stderr",
     "output_type": "stream",
     "text": [
      "  8%|▊         | 24/300 [00:10<01:58,  2.32it/s]"
     ]
    },
    {
     "name": "stdout",
     "output_type": "stream",
     "text": [
      "\n",
      "epoch 24: test average loss: 16.941 | acc: 94.86% (295/311)\n",
      "EarlyStopping counter: 7/25 (best: 0.9646)\n",
      "\n",
      "epoch 25: train average loss: 12.179 | acc: 97.65% (2737/2803)\n"
     ]
    },
    {
     "name": "stderr",
     "output_type": "stream",
     "text": [
      "  8%|▊         | 25/300 [00:11<02:10,  2.10it/s]"
     ]
    },
    {
     "name": "stdout",
     "output_type": "stream",
     "text": [
      "\n",
      "epoch 25: test average loss: 17.033 | acc: 96.14% (299/311)\n",
      "EarlyStopping counter: 8/25 (best: 0.9646)\n",
      "\n",
      "epoch 26: train average loss: 12.080 | acc: 97.54% (2734/2803)\n"
     ]
    },
    {
     "name": "stderr",
     "output_type": "stream",
     "text": [
      "  9%|▊         | 26/300 [00:11<02:11,  2.08it/s]"
     ]
    },
    {
     "name": "stdout",
     "output_type": "stream",
     "text": [
      "\n",
      "epoch 26: test average loss: 15.301 | acc: 88.10% (274/311)\n",
      "EarlyStopping counter: 9/25 (best: 0.9646)\n",
      "\n",
      "epoch 27: train average loss: 11.538 | acc: 98.29% (2755/2803)\n"
     ]
    },
    {
     "name": "stderr",
     "output_type": "stream",
     "text": [
      "  9%|▉         | 27/300 [00:11<02:09,  2.10it/s]"
     ]
    },
    {
     "name": "stdout",
     "output_type": "stream",
     "text": [
      "\n",
      "epoch 27: test average loss: 15.644 | acc: 97.11% (302/311)\n",
      "best test acc found\n",
      "\n",
      "epoch 28: train average loss: 10.967 | acc: 98.07% (2749/2803)\n"
     ]
    },
    {
     "name": "stderr",
     "output_type": "stream",
     "text": [
      "  9%|▉         | 28/300 [00:12<02:06,  2.16it/s]"
     ]
    },
    {
     "name": "stdout",
     "output_type": "stream",
     "text": [
      "\n",
      "epoch 28: test average loss: 16.989 | acc: 92.60% (288/311)\n",
      "EarlyStopping counter: 1/25 (best: 0.9711)\n",
      "\n",
      "epoch 29: train average loss: 11.051 | acc: 98.57% (2763/2803)\n"
     ]
    },
    {
     "name": "stderr",
     "output_type": "stream",
     "text": [
      " 10%|▉         | 29/300 [00:12<02:04,  2.18it/s]"
     ]
    },
    {
     "name": "stdout",
     "output_type": "stream",
     "text": [
      "\n",
      "epoch 29: test average loss: 16.634 | acc: 98.07% (305/311)\n",
      "best test acc found\n",
      "\n",
      "epoch 30: train average loss: 11.255 | acc: 98.47% (2760/2803)\n"
     ]
    },
    {
     "name": "stderr",
     "output_type": "stream",
     "text": [
      " 10%|█         | 30/300 [00:13<02:00,  2.23it/s]"
     ]
    },
    {
     "name": "stdout",
     "output_type": "stream",
     "text": [
      "\n",
      "epoch 30: test average loss: 16.800 | acc: 95.50% (297/311)\n",
      "EarlyStopping counter: 1/25 (best: 0.9807)\n",
      "\n",
      "epoch 31: train average loss: 11.054 | acc: 98.57% (2763/2803)\n"
     ]
    },
    {
     "name": "stderr",
     "output_type": "stream",
     "text": [
      " 10%|█         | 31/300 [00:13<01:57,  2.29it/s]"
     ]
    },
    {
     "name": "stdout",
     "output_type": "stream",
     "text": [
      "\n",
      "epoch 31: test average loss: 17.544 | acc: 92.60% (288/311)\n",
      "EarlyStopping counter: 2/25 (best: 0.9807)\n",
      "\n",
      "epoch 32: train average loss: 10.173 | acc: 99.07% (2777/2803)\n"
     ]
    },
    {
     "name": "stderr",
     "output_type": "stream",
     "text": [
      " 11%|█         | 32/300 [00:14<01:56,  2.31it/s]"
     ]
    },
    {
     "name": "stdout",
     "output_type": "stream",
     "text": [
      "\n",
      "epoch 32: test average loss: 16.002 | acc: 93.57% (291/311)\n",
      "EarlyStopping counter: 3/25 (best: 0.9807)\n",
      "\n",
      "epoch 33: train average loss: 9.656 | acc: 99.18% (2780/2803)\n"
     ]
    },
    {
     "name": "stderr",
     "output_type": "stream",
     "text": [
      " 11%|█         | 33/300 [00:14<01:56,  2.30it/s]"
     ]
    },
    {
     "name": "stdout",
     "output_type": "stream",
     "text": [
      "\n",
      "epoch 33: test average loss: 16.109 | acc: 95.50% (297/311)\n",
      "EarlyStopping counter: 4/25 (best: 0.9807)\n",
      "\n",
      "epoch 34: train average loss: 9.105 | acc: 99.46% (2788/2803)\n"
     ]
    },
    {
     "name": "stderr",
     "output_type": "stream",
     "text": [
      " 11%|█▏        | 34/300 [00:14<01:53,  2.34it/s]"
     ]
    },
    {
     "name": "stdout",
     "output_type": "stream",
     "text": [
      "\n",
      "epoch 34: test average loss: 15.676 | acc: 97.11% (302/311)\n",
      "EarlyStopping counter: 5/25 (best: 0.9807)\n",
      "\n",
      "epoch 35: train average loss: 8.946 | acc: 99.25% (2782/2803)\n"
     ]
    },
    {
     "name": "stderr",
     "output_type": "stream",
     "text": [
      " 12%|█▏        | 35/300 [00:15<01:55,  2.29it/s]"
     ]
    },
    {
     "name": "stdout",
     "output_type": "stream",
     "text": [
      "\n",
      "epoch 35: test average loss: 15.703 | acc: 98.71% (307/311)\n",
      "best test acc found\n",
      "\n",
      "epoch 36: train average loss: 8.462 | acc: 99.54% (2790/2803)\n"
     ]
    },
    {
     "name": "stderr",
     "output_type": "stream",
     "text": [
      " 12%|█▏        | 36/300 [00:15<01:56,  2.27it/s]"
     ]
    },
    {
     "name": "stdout",
     "output_type": "stream",
     "text": [
      "\n",
      "epoch 36: test average loss: 16.851 | acc: 97.43% (303/311)\n",
      "EarlyStopping counter: 1/25 (best: 0.9871)\n",
      "\n",
      "epoch 37: train average loss: 8.194 | acc: 99.64% (2793/2803)\n"
     ]
    },
    {
     "name": "stderr",
     "output_type": "stream",
     "text": [
      " 12%|█▏        | 37/300 [00:16<01:53,  2.32it/s]"
     ]
    },
    {
     "name": "stdout",
     "output_type": "stream",
     "text": [
      "\n",
      "epoch 37: test average loss: 16.642 | acc: 96.78% (301/311)\n",
      "EarlyStopping counter: 2/25 (best: 0.9871)\n",
      "\n",
      "epoch 38: train average loss: 7.918 | acc: 99.54% (2790/2803)\n"
     ]
    },
    {
     "name": "stderr",
     "output_type": "stream",
     "text": [
      " 13%|█▎        | 38/300 [00:16<01:49,  2.38it/s]"
     ]
    },
    {
     "name": "stdout",
     "output_type": "stream",
     "text": [
      "\n",
      "epoch 38: test average loss: 16.346 | acc: 97.11% (302/311)\n",
      "EarlyStopping counter: 3/25 (best: 0.9871)\n",
      "\n",
      "epoch 39: train average loss: 7.626 | acc: 99.75% (2796/2803)\n"
     ]
    },
    {
     "name": "stderr",
     "output_type": "stream",
     "text": [
      " 13%|█▎        | 39/300 [00:17<01:49,  2.39it/s]"
     ]
    },
    {
     "name": "stdout",
     "output_type": "stream",
     "text": [
      "\n",
      "epoch 39: test average loss: 16.903 | acc: 96.46% (300/311)\n",
      "EarlyStopping counter: 4/25 (best: 0.9871)\n",
      "\n",
      "epoch 40: train average loss: 7.561 | acc: 99.71% (2795/2803)\n"
     ]
    },
    {
     "name": "stderr",
     "output_type": "stream",
     "text": [
      " 13%|█▎        | 40/300 [00:17<01:47,  2.42it/s]"
     ]
    },
    {
     "name": "stdout",
     "output_type": "stream",
     "text": [
      "\n",
      "epoch 40: test average loss: 16.201 | acc: 97.11% (302/311)\n",
      "EarlyStopping counter: 5/25 (best: 0.9871)\n",
      "\n",
      "epoch 41: train average loss: 7.090 | acc: 99.68% (2794/2803)\n"
     ]
    },
    {
     "name": "stderr",
     "output_type": "stream",
     "text": [
      " 14%|█▎        | 41/300 [00:17<01:51,  2.32it/s]"
     ]
    },
    {
     "name": "stdout",
     "output_type": "stream",
     "text": [
      "\n",
      "epoch 41: test average loss: 16.340 | acc: 98.39% (306/311)\n",
      "EarlyStopping counter: 6/25 (best: 0.9871)\n",
      "\n",
      "epoch 42: train average loss: 6.860 | acc: 99.79% (2797/2803)\n"
     ]
    },
    {
     "name": "stderr",
     "output_type": "stream",
     "text": [
      " 14%|█▍        | 42/300 [00:18<01:54,  2.25it/s]"
     ]
    },
    {
     "name": "stdout",
     "output_type": "stream",
     "text": [
      "\n",
      "epoch 42: test average loss: 16.269 | acc: 97.43% (303/311)\n",
      "EarlyStopping counter: 7/25 (best: 0.9871)\n",
      "\n",
      "epoch 43: train average loss: 6.560 | acc: 99.86% (2799/2803)\n"
     ]
    },
    {
     "name": "stderr",
     "output_type": "stream",
     "text": [
      " 14%|█▍        | 43/300 [00:18<01:52,  2.28it/s]"
     ]
    },
    {
     "name": "stdout",
     "output_type": "stream",
     "text": [
      "\n",
      "epoch 43: test average loss: 17.374 | acc: 98.07% (305/311)\n",
      "EarlyStopping counter: 8/25 (best: 0.9871)\n",
      "\n",
      "epoch 44: train average loss: 6.521 | acc: 99.71% (2795/2803)\n"
     ]
    },
    {
     "name": "stderr",
     "output_type": "stream",
     "text": [
      " 15%|█▍        | 44/300 [00:19<01:50,  2.31it/s]"
     ]
    },
    {
     "name": "stdout",
     "output_type": "stream",
     "text": [
      "\n",
      "epoch 44: test average loss: 16.653 | acc: 97.11% (302/311)\n",
      "EarlyStopping counter: 9/25 (best: 0.9871)\n",
      "\n",
      "epoch 45: train average loss: 6.441 | acc: 99.86% (2799/2803)\n"
     ]
    },
    {
     "name": "stderr",
     "output_type": "stream",
     "text": [
      " 15%|█▌        | 45/300 [00:19<01:50,  2.30it/s]"
     ]
    },
    {
     "name": "stdout",
     "output_type": "stream",
     "text": [
      "\n",
      "epoch 45: test average loss: 16.051 | acc: 96.78% (301/311)\n",
      "EarlyStopping counter: 10/25 (best: 0.9871)\n",
      "\n",
      "epoch 46: train average loss: 5.995 | acc: 99.86% (2799/2803)\n"
     ]
    },
    {
     "name": "stderr",
     "output_type": "stream",
     "text": [
      " 15%|█▌        | 46/300 [00:20<01:51,  2.28it/s]"
     ]
    },
    {
     "name": "stdout",
     "output_type": "stream",
     "text": [
      "\n",
      "epoch 46: test average loss: 16.796 | acc: 98.07% (305/311)\n",
      "EarlyStopping counter: 11/25 (best: 0.9871)\n",
      "\n",
      "epoch 47: train average loss: 5.753 | acc: 99.68% (2794/2803)\n"
     ]
    },
    {
     "name": "stderr",
     "output_type": "stream",
     "text": [
      " 16%|█▌        | 47/300 [00:20<01:53,  2.23it/s]"
     ]
    },
    {
     "name": "stdout",
     "output_type": "stream",
     "text": [
      "\n",
      "epoch 47: test average loss: 17.587 | acc: 95.82% (298/311)\n",
      "EarlyStopping counter: 12/25 (best: 0.9871)\n",
      "\n",
      "epoch 48: train average loss: 5.543 | acc: 99.82% (2798/2803)\n"
     ]
    },
    {
     "name": "stderr",
     "output_type": "stream",
     "text": [
      " 16%|█▌        | 48/300 [00:21<01:55,  2.19it/s]"
     ]
    },
    {
     "name": "stdout",
     "output_type": "stream",
     "text": [
      "\n",
      "epoch 48: test average loss: 17.248 | acc: 96.78% (301/311)\n",
      "EarlyStopping counter: 13/25 (best: 0.9871)\n",
      "\n",
      "epoch 49: train average loss: 5.459 | acc: 99.96% (2802/2803)\n"
     ]
    },
    {
     "name": "stderr",
     "output_type": "stream",
     "text": [
      " 16%|█▋        | 49/300 [00:21<01:53,  2.21it/s]"
     ]
    },
    {
     "name": "stdout",
     "output_type": "stream",
     "text": [
      "\n",
      "epoch 49: test average loss: 16.982 | acc: 96.78% (301/311)\n",
      "EarlyStopping counter: 14/25 (best: 0.9871)\n",
      "\n",
      "epoch 50: train average loss: 5.392 | acc: 99.86% (2799/2803)\n"
     ]
    },
    {
     "name": "stderr",
     "output_type": "stream",
     "text": [
      " 17%|█▋        | 50/300 [00:22<01:53,  2.21it/s]"
     ]
    },
    {
     "name": "stdout",
     "output_type": "stream",
     "text": [
      "\n",
      "epoch 50: test average loss: 16.964 | acc: 98.07% (305/311)\n",
      "EarlyStopping counter: 15/25 (best: 0.9871)\n",
      "\n",
      "epoch 51: train average loss: 5.411 | acc: 99.93% (2801/2803)\n"
     ]
    },
    {
     "name": "stderr",
     "output_type": "stream",
     "text": [
      " 17%|█▋        | 51/300 [00:22<01:49,  2.28it/s]"
     ]
    },
    {
     "name": "stdout",
     "output_type": "stream",
     "text": [
      "\n",
      "epoch 51: test average loss: 17.140 | acc: 98.07% (305/311)\n",
      "EarlyStopping counter: 16/25 (best: 0.9871)\n",
      "\n",
      "epoch 52: train average loss: 5.162 | acc: 99.89% (2800/2803)\n"
     ]
    },
    {
     "name": "stderr",
     "output_type": "stream",
     "text": [
      " 17%|█▋        | 52/300 [00:22<01:46,  2.33it/s]"
     ]
    },
    {
     "name": "stdout",
     "output_type": "stream",
     "text": [
      "\n",
      "epoch 52: test average loss: 17.230 | acc: 98.07% (305/311)\n",
      "EarlyStopping counter: 17/25 (best: 0.9871)\n",
      "\n",
      "epoch 53: train average loss: 5.104 | acc: 99.86% (2799/2803)\n"
     ]
    },
    {
     "name": "stderr",
     "output_type": "stream",
     "text": [
      " 18%|█▊        | 53/300 [00:23<01:44,  2.36it/s]"
     ]
    },
    {
     "name": "stdout",
     "output_type": "stream",
     "text": [
      "\n",
      "epoch 53: test average loss: 17.419 | acc: 97.43% (303/311)\n",
      "EarlyStopping counter: 18/25 (best: 0.9871)\n",
      "\n",
      "epoch 54: train average loss: 4.876 | acc: 99.86% (2799/2803)\n"
     ]
    },
    {
     "name": "stderr",
     "output_type": "stream",
     "text": [
      " 18%|█▊        | 54/300 [00:23<01:43,  2.39it/s]"
     ]
    },
    {
     "name": "stdout",
     "output_type": "stream",
     "text": [
      "\n",
      "epoch 54: test average loss: 17.512 | acc: 96.78% (301/311)\n",
      "EarlyStopping counter: 19/25 (best: 0.9871)\n",
      "\n",
      "epoch 55: train average loss: 4.846 | acc: 99.89% (2800/2803)\n"
     ]
    },
    {
     "name": "stderr",
     "output_type": "stream",
     "text": [
      " 18%|█▊        | 55/300 [00:24<01:42,  2.40it/s]"
     ]
    },
    {
     "name": "stdout",
     "output_type": "stream",
     "text": [
      "\n",
      "epoch 55: test average loss: 17.630 | acc: 97.11% (302/311)\n",
      "EarlyStopping counter: 20/25 (best: 0.9871)\n",
      "\n",
      "epoch 56: train average loss: 4.550 | acc: 99.93% (2801/2803)\n"
     ]
    },
    {
     "name": "stderr",
     "output_type": "stream",
     "text": [
      " 19%|█▊        | 56/300 [00:24<01:41,  2.39it/s]"
     ]
    },
    {
     "name": "stdout",
     "output_type": "stream",
     "text": [
      "\n",
      "epoch 56: test average loss: 17.738 | acc: 97.11% (302/311)\n",
      "EarlyStopping counter: 21/25 (best: 0.9871)\n",
      "\n",
      "epoch 57: train average loss: 4.691 | acc: 99.96% (2802/2803)\n"
     ]
    },
    {
     "name": "stderr",
     "output_type": "stream",
     "text": [
      " 19%|█▉        | 57/300 [00:24<01:40,  2.41it/s]"
     ]
    },
    {
     "name": "stdout",
     "output_type": "stream",
     "text": [
      "\n",
      "epoch 57: test average loss: 17.710 | acc: 97.11% (302/311)\n",
      "EarlyStopping counter: 22/25 (best: 0.9871)\n",
      "\n",
      "epoch 58: train average loss: 4.708 | acc: 99.93% (2801/2803)\n"
     ]
    },
    {
     "name": "stderr",
     "output_type": "stream",
     "text": [
      " 19%|█▉        | 58/300 [00:25<01:39,  2.43it/s]"
     ]
    },
    {
     "name": "stdout",
     "output_type": "stream",
     "text": [
      "\n",
      "epoch 58: test average loss: 17.735 | acc: 97.43% (303/311)\n",
      "EarlyStopping counter: 23/25 (best: 0.9871)\n",
      "\n",
      "epoch 59: train average loss: 4.669 | acc: 99.86% (2799/2803)\n"
     ]
    },
    {
     "name": "stderr",
     "output_type": "stream",
     "text": [
      " 20%|█▉        | 59/300 [00:25<01:39,  2.42it/s]"
     ]
    },
    {
     "name": "stdout",
     "output_type": "stream",
     "text": [
      "\n",
      "epoch 59: test average loss: 17.750 | acc: 97.43% (303/311)\n",
      "EarlyStopping counter: 24/25 (best: 0.9871)\n",
      "\n",
      "epoch 60: train average loss: 4.709 | acc: 100.00% (2803/2803)\n"
     ]
    },
    {
     "name": "stderr",
     "output_type": "stream",
     "text": [
      " 20%|█▉        | 59/300 [00:26<01:46,  2.26it/s]"
     ]
    },
    {
     "name": "stdout",
     "output_type": "stream",
     "text": [
      "\n",
      "epoch 60: test average loss: 17.741 | acc: 97.43% (303/311)\n",
      "EarlyStopping counter: 25/25 (best: 0.9871)\n",
      "🔴 Early stopping triggered\n",
      "load model at epoch 35, with test acc : 0.987\n"
     ]
    },
    {
     "name": "stderr",
     "output_type": "stream",
     "text": [
      "\n",
      "/tmp/ipykernel_2950649/1054042983.py:175: FutureWarning:\n",
      "\n",
      "You are using `torch.load` with `weights_only=False` (the current default value), which uses the default pickle module implicitly. It is possible to construct malicious pickle data which will execute arbitrary code during unpickling (See https://github.com/pytorch/pytorch/blob/main/SECURITY.md#untrusted-models for more details). In a future release, the default value for `weights_only` will be flipped to `True`. This limits the functions that could be executed during unpickling. Arbitrary objects will no longer be allowed to be loaded via this mode unless they are explicitly allowlisted by the user via `torch.serialization.add_safe_globals`. We recommend you start setting `weights_only=True` for any use case where you don't have full control of the loaded file. Please open an issue on GitHub for any issues related to this experimental feature.\n",
      "\n"
     ]
    },
    {
     "name": "stdout",
     "output_type": "stream",
     "text": [
      "total 0.9871382636655949\n",
      "class 0 0.9891304347826086\n",
      "class 1 0.9863013698630136\n",
      "                            0\n",
      "Accuracy               0.9871\n",
      "Recall       [0.9891, 0.9863]\n",
      "Specificity  [0.9863, 0.9891]\n",
      "Precision    [0.9681, 0.9954]\n",
      "F1 Score     [0.9785, 0.9908]\n",
      "7\n"
     ]
    },
    {
     "name": "stderr",
     "output_type": "stream",
     "text": [
      "  0%|          | 0/300 [00:00<?, ?it/s]"
     ]
    },
    {
     "name": "stdout",
     "output_type": "stream",
     "text": [
      "\n",
      "epoch 1: train average loss: 33.395 | acc: 65.97% (1849/2803)\n"
     ]
    },
    {
     "name": "stderr",
     "output_type": "stream",
     "text": [
      "  0%|          | 1/300 [00:00<02:01,  2.46it/s]"
     ]
    },
    {
     "name": "stdout",
     "output_type": "stream",
     "text": [
      "\n",
      "epoch 1: test average loss: 26.829 | acc: 29.90% (93/311)\n",
      "best test acc found\n",
      "\n",
      "epoch 2: train average loss: 27.428 | acc: 73.14% (2050/2803)\n"
     ]
    },
    {
     "name": "stderr",
     "output_type": "stream",
     "text": [
      "  1%|          | 2/300 [00:00<02:00,  2.48it/s]"
     ]
    },
    {
     "name": "stdout",
     "output_type": "stream",
     "text": [
      "\n",
      "epoch 2: test average loss: 22.253 | acc: 29.90% (93/311)\n",
      "EarlyStopping counter: 1/25 (best: 0.2990)\n",
      "\n",
      "epoch 3: train average loss: 24.089 | acc: 75.53% (2117/2803)\n"
     ]
    },
    {
     "name": "stderr",
     "output_type": "stream",
     "text": [
      "  1%|          | 3/300 [00:01<02:00,  2.47it/s]"
     ]
    },
    {
     "name": "stdout",
     "output_type": "stream",
     "text": [
      "\n",
      "epoch 3: test average loss: 21.181 | acc: 29.90% (93/311)\n",
      "EarlyStopping counter: 2/25 (best: 0.2990)\n",
      "\n",
      "epoch 4: train average loss: 21.802 | acc: 80.66% (2261/2803)\n"
     ]
    },
    {
     "name": "stderr",
     "output_type": "stream",
     "text": [
      "  1%|▏         | 4/300 [00:01<02:00,  2.45it/s]"
     ]
    },
    {
     "name": "stdout",
     "output_type": "stream",
     "text": [
      "\n",
      "epoch 4: test average loss: 22.096 | acc: 30.55% (95/311)\n",
      "best test acc found\n",
      "\n",
      "epoch 5: train average loss: 20.374 | acc: 84.73% (2375/2803)\n"
     ]
    },
    {
     "name": "stderr",
     "output_type": "stream",
     "text": [
      "  2%|▏         | 5/300 [00:02<02:04,  2.37it/s]"
     ]
    },
    {
     "name": "stdout",
     "output_type": "stream",
     "text": [
      "\n",
      "epoch 5: test average loss: 22.617 | acc: 72.67% (226/311)\n",
      "best test acc found\n",
      "\n",
      "epoch 6: train average loss: 19.456 | acc: 88.19% (2472/2803)\n"
     ]
    },
    {
     "name": "stderr",
     "output_type": "stream",
     "text": [
      "  2%|▏         | 6/300 [00:02<02:03,  2.38it/s]"
     ]
    },
    {
     "name": "stdout",
     "output_type": "stream",
     "text": [
      "\n",
      "epoch 6: test average loss: 24.599 | acc: 79.74% (248/311)\n",
      "best test acc found\n",
      "\n",
      "epoch 7: train average loss: 18.949 | acc: 89.33% (2504/2803)\n"
     ]
    },
    {
     "name": "stderr",
     "output_type": "stream",
     "text": [
      "  2%|▏         | 7/300 [00:02<02:01,  2.41it/s]"
     ]
    },
    {
     "name": "stdout",
     "output_type": "stream",
     "text": [
      "\n",
      "epoch 7: test average loss: 25.478 | acc: 64.63% (201/311)\n",
      "EarlyStopping counter: 1/25 (best: 0.7974)\n",
      "\n",
      "epoch 8: train average loss: 18.102 | acc: 90.83% (2546/2803)\n"
     ]
    },
    {
     "name": "stderr",
     "output_type": "stream",
     "text": [
      "  3%|▎         | 8/300 [00:03<02:02,  2.38it/s]"
     ]
    },
    {
     "name": "stdout",
     "output_type": "stream",
     "text": [
      "\n",
      "epoch 8: test average loss: 24.558 | acc: 76.53% (238/311)\n",
      "EarlyStopping counter: 2/25 (best: 0.7974)\n",
      "\n",
      "epoch 9: train average loss: 17.590 | acc: 91.79% (2573/2803)\n"
     ]
    },
    {
     "name": "stderr",
     "output_type": "stream",
     "text": [
      "  3%|▎         | 9/300 [00:03<02:04,  2.34it/s]"
     ]
    },
    {
     "name": "stdout",
     "output_type": "stream",
     "text": [
      "\n",
      "epoch 9: test average loss: 24.369 | acc: 92.28% (287/311)\n",
      "best test acc found\n",
      "\n",
      "epoch 10: train average loss: 16.903 | acc: 93.86% (2631/2803)\n"
     ]
    },
    {
     "name": "stderr",
     "output_type": "stream",
     "text": [
      "  3%|▎         | 10/300 [00:04<02:06,  2.30it/s]"
     ]
    },
    {
     "name": "stdout",
     "output_type": "stream",
     "text": [
      "\n",
      "epoch 10: test average loss: 24.595 | acc: 90.68% (282/311)\n",
      "EarlyStopping counter: 1/25 (best: 0.9228)\n",
      "\n",
      "epoch 11: train average loss: 16.444 | acc: 94.26% (2642/2803)\n"
     ]
    },
    {
     "name": "stderr",
     "output_type": "stream",
     "text": [
      "  4%|▎         | 11/300 [00:04<02:06,  2.29it/s]"
     ]
    },
    {
     "name": "stdout",
     "output_type": "stream",
     "text": [
      "\n",
      "epoch 11: test average loss: 27.926 | acc: 86.17% (268/311)\n",
      "EarlyStopping counter: 2/25 (best: 0.9228)\n",
      "\n",
      "epoch 12: train average loss: 16.145 | acc: 94.54% (2650/2803)\n"
     ]
    },
    {
     "name": "stderr",
     "output_type": "stream",
     "text": [
      "  4%|▍         | 12/300 [00:05<02:08,  2.24it/s]"
     ]
    },
    {
     "name": "stdout",
     "output_type": "stream",
     "text": [
      "\n",
      "epoch 12: test average loss: 22.223 | acc: 94.86% (295/311)\n",
      "best test acc found\n",
      "\n",
      "epoch 13: train average loss: 16.433 | acc: 94.15% (2639/2803)\n"
     ]
    },
    {
     "name": "stderr",
     "output_type": "stream",
     "text": [
      "  4%|▍         | 13/300 [00:05<02:06,  2.28it/s]"
     ]
    },
    {
     "name": "stdout",
     "output_type": "stream",
     "text": [
      "\n",
      "epoch 13: test average loss: 21.865 | acc: 90.68% (282/311)\n",
      "EarlyStopping counter: 1/25 (best: 0.9486)\n",
      "\n",
      "epoch 14: train average loss: 15.943 | acc: 93.90% (2632/2803)\n"
     ]
    },
    {
     "name": "stderr",
     "output_type": "stream",
     "text": [
      "  5%|▍         | 14/300 [00:05<02:03,  2.32it/s]"
     ]
    },
    {
     "name": "stdout",
     "output_type": "stream",
     "text": [
      "\n",
      "epoch 14: test average loss: 24.968 | acc: 54.34% (169/311)\n",
      "EarlyStopping counter: 2/25 (best: 0.9486)\n",
      "\n",
      "epoch 15: train average loss: 15.386 | acc: 94.29% (2643/2803)\n"
     ]
    },
    {
     "name": "stderr",
     "output_type": "stream",
     "text": [
      "  5%|▌         | 15/300 [00:06<02:01,  2.35it/s]"
     ]
    },
    {
     "name": "stdout",
     "output_type": "stream",
     "text": [
      "\n",
      "epoch 15: test average loss: 20.938 | acc: 93.89% (292/311)\n",
      "EarlyStopping counter: 3/25 (best: 0.9486)\n",
      "\n",
      "epoch 16: train average loss: 15.224 | acc: 96.29% (2699/2803)\n"
     ]
    },
    {
     "name": "stderr",
     "output_type": "stream",
     "text": [
      "  5%|▌         | 16/300 [00:06<01:59,  2.37it/s]"
     ]
    },
    {
     "name": "stdout",
     "output_type": "stream",
     "text": [
      "\n",
      "epoch 16: test average loss: 21.963 | acc: 92.28% (287/311)\n",
      "EarlyStopping counter: 4/25 (best: 0.9486)\n",
      "\n",
      "epoch 17: train average loss: 14.779 | acc: 95.97% (2690/2803)\n"
     ]
    },
    {
     "name": "stderr",
     "output_type": "stream",
     "text": [
      "  6%|▌         | 17/300 [00:07<01:58,  2.39it/s]"
     ]
    },
    {
     "name": "stdout",
     "output_type": "stream",
     "text": [
      "\n",
      "epoch 17: test average loss: 21.061 | acc: 87.46% (272/311)\n",
      "EarlyStopping counter: 5/25 (best: 0.9486)\n",
      "\n",
      "epoch 18: train average loss: 14.498 | acc: 95.79% (2685/2803)\n"
     ]
    },
    {
     "name": "stderr",
     "output_type": "stream",
     "text": [
      "  6%|▌         | 18/300 [00:07<01:58,  2.37it/s]"
     ]
    },
    {
     "name": "stdout",
     "output_type": "stream",
     "text": [
      "\n",
      "epoch 18: test average loss: 21.491 | acc: 92.60% (288/311)\n",
      "EarlyStopping counter: 6/25 (best: 0.9486)\n",
      "\n",
      "epoch 19: train average loss: 14.165 | acc: 97.15% (2723/2803)\n"
     ]
    },
    {
     "name": "stderr",
     "output_type": "stream",
     "text": [
      "  6%|▋         | 19/300 [00:08<02:00,  2.34it/s]"
     ]
    },
    {
     "name": "stdout",
     "output_type": "stream",
     "text": [
      "\n",
      "epoch 19: test average loss: 23.987 | acc: 96.46% (300/311)\n",
      "best test acc found\n",
      "\n",
      "epoch 20: train average loss: 13.622 | acc: 97.40% (2730/2803)\n"
     ]
    },
    {
     "name": "stderr",
     "output_type": "stream",
     "text": [
      "  7%|▋         | 20/300 [00:08<01:59,  2.34it/s]"
     ]
    },
    {
     "name": "stdout",
     "output_type": "stream",
     "text": [
      "\n",
      "epoch 20: test average loss: 25.864 | acc: 90.03% (280/311)\n",
      "EarlyStopping counter: 1/25 (best: 0.9646)\n",
      "\n",
      "epoch 21: train average loss: 13.327 | acc: 97.40% (2730/2803)\n"
     ]
    },
    {
     "name": "stderr",
     "output_type": "stream",
     "text": [
      "  7%|▋         | 21/300 [00:08<01:59,  2.33it/s]"
     ]
    },
    {
     "name": "stdout",
     "output_type": "stream",
     "text": [
      "\n",
      "epoch 21: test average loss: 23.331 | acc: 95.18% (296/311)\n",
      "EarlyStopping counter: 2/25 (best: 0.9646)\n",
      "\n",
      "epoch 22: train average loss: 12.699 | acc: 97.82% (2742/2803)\n"
     ]
    },
    {
     "name": "stderr",
     "output_type": "stream",
     "text": [
      "  7%|▋         | 22/300 [00:09<02:00,  2.31it/s]"
     ]
    },
    {
     "name": "stdout",
     "output_type": "stream",
     "text": [
      "\n",
      "epoch 22: test average loss: 22.294 | acc: 82.64% (257/311)\n",
      "EarlyStopping counter: 3/25 (best: 0.9646)\n",
      "\n",
      "epoch 23: train average loss: 12.060 | acc: 97.72% (2739/2803)\n"
     ]
    },
    {
     "name": "stderr",
     "output_type": "stream",
     "text": [
      "  8%|▊         | 23/300 [00:09<01:58,  2.34it/s]"
     ]
    },
    {
     "name": "stdout",
     "output_type": "stream",
     "text": [
      "\n",
      "epoch 23: test average loss: 22.376 | acc: 94.86% (295/311)\n",
      "EarlyStopping counter: 4/25 (best: 0.9646)\n",
      "\n",
      "epoch 24: train average loss: 12.129 | acc: 98.47% (2760/2803)\n"
     ]
    },
    {
     "name": "stderr",
     "output_type": "stream",
     "text": [
      "  8%|▊         | 24/300 [00:10<01:55,  2.40it/s]"
     ]
    },
    {
     "name": "stdout",
     "output_type": "stream",
     "text": [
      "\n",
      "epoch 24: test average loss: 20.881 | acc: 92.60% (288/311)\n",
      "EarlyStopping counter: 5/25 (best: 0.9646)\n",
      "\n",
      "epoch 25: train average loss: 11.435 | acc: 98.61% (2764/2803)\n"
     ]
    },
    {
     "name": "stderr",
     "output_type": "stream",
     "text": [
      "  8%|▊         | 25/300 [00:10<01:52,  2.44it/s]"
     ]
    },
    {
     "name": "stdout",
     "output_type": "stream",
     "text": [
      "\n",
      "epoch 25: test average loss: 22.348 | acc: 89.39% (278/311)\n",
      "EarlyStopping counter: 6/25 (best: 0.9646)\n",
      "\n",
      "epoch 26: train average loss: 11.442 | acc: 97.82% (2742/2803)\n"
     ]
    },
    {
     "name": "stderr",
     "output_type": "stream",
     "text": [
      "  9%|▊         | 26/300 [00:11<01:53,  2.42it/s]"
     ]
    },
    {
     "name": "stdout",
     "output_type": "stream",
     "text": [
      "\n",
      "epoch 26: test average loss: 23.075 | acc: 83.92% (261/311)\n",
      "EarlyStopping counter: 7/25 (best: 0.9646)\n",
      "\n",
      "epoch 27: train average loss: 11.206 | acc: 98.36% (2757/2803)\n"
     ]
    },
    {
     "name": "stderr",
     "output_type": "stream",
     "text": [
      "  9%|▉         | 27/300 [00:11<01:52,  2.44it/s]"
     ]
    },
    {
     "name": "stdout",
     "output_type": "stream",
     "text": [
      "\n",
      "epoch 27: test average loss: 22.906 | acc: 92.93% (289/311)\n",
      "EarlyStopping counter: 8/25 (best: 0.9646)\n",
      "\n",
      "epoch 28: train average loss: 10.939 | acc: 98.54% (2762/2803)\n"
     ]
    },
    {
     "name": "stderr",
     "output_type": "stream",
     "text": [
      "  9%|▉         | 28/300 [00:11<01:50,  2.45it/s]"
     ]
    },
    {
     "name": "stdout",
     "output_type": "stream",
     "text": [
      "\n",
      "epoch 28: test average loss: 20.643 | acc: 96.78% (301/311)\n",
      "best test acc found\n",
      "\n",
      "epoch 29: train average loss: 10.131 | acc: 98.89% (2772/2803)\n"
     ]
    },
    {
     "name": "stderr",
     "output_type": "stream",
     "text": [
      " 10%|▉         | 29/300 [00:12<01:50,  2.45it/s]"
     ]
    },
    {
     "name": "stdout",
     "output_type": "stream",
     "text": [
      "\n",
      "epoch 29: test average loss: 22.880 | acc: 95.50% (297/311)\n",
      "EarlyStopping counter: 1/25 (best: 0.9678)\n",
      "\n",
      "epoch 30: train average loss: 10.065 | acc: 98.93% (2773/2803)\n"
     ]
    },
    {
     "name": "stderr",
     "output_type": "stream",
     "text": [
      " 10%|█         | 30/300 [00:12<01:49,  2.46it/s]"
     ]
    },
    {
     "name": "stdout",
     "output_type": "stream",
     "text": [
      "\n",
      "epoch 30: test average loss: 27.273 | acc: 93.57% (291/311)\n",
      "EarlyStopping counter: 2/25 (best: 0.9678)\n",
      "\n",
      "epoch 31: train average loss: 10.126 | acc: 98.86% (2771/2803)\n"
     ]
    },
    {
     "name": "stderr",
     "output_type": "stream",
     "text": [
      " 10%|█         | 31/300 [00:13<01:49,  2.45it/s]"
     ]
    },
    {
     "name": "stdout",
     "output_type": "stream",
     "text": [
      "\n",
      "epoch 31: test average loss: 23.183 | acc: 96.46% (300/311)\n",
      "EarlyStopping counter: 3/25 (best: 0.9678)\n",
      "\n",
      "epoch 32: train average loss: 9.603 | acc: 98.82% (2770/2803)\n"
     ]
    },
    {
     "name": "stderr",
     "output_type": "stream",
     "text": [
      " 11%|█         | 32/300 [00:13<01:49,  2.46it/s]"
     ]
    },
    {
     "name": "stdout",
     "output_type": "stream",
     "text": [
      "\n",
      "epoch 32: test average loss: 23.542 | acc: 96.46% (300/311)\n",
      "EarlyStopping counter: 4/25 (best: 0.9678)\n",
      "\n",
      "epoch 33: train average loss: 9.484 | acc: 99.14% (2779/2803)\n"
     ]
    },
    {
     "name": "stderr",
     "output_type": "stream",
     "text": [
      " 11%|█         | 33/300 [00:13<01:49,  2.45it/s]"
     ]
    },
    {
     "name": "stdout",
     "output_type": "stream",
     "text": [
      "\n",
      "epoch 33: test average loss: 23.806 | acc: 94.53% (294/311)\n",
      "EarlyStopping counter: 5/25 (best: 0.9678)\n",
      "\n",
      "epoch 34: train average loss: 9.000 | acc: 99.36% (2785/2803)\n"
     ]
    },
    {
     "name": "stderr",
     "output_type": "stream",
     "text": [
      " 11%|█▏        | 34/300 [00:14<01:52,  2.36it/s]"
     ]
    },
    {
     "name": "stdout",
     "output_type": "stream",
     "text": [
      "\n",
      "epoch 34: test average loss: 22.955 | acc: 97.11% (302/311)\n",
      "best test acc found\n",
      "\n",
      "epoch 35: train average loss: 8.963 | acc: 99.32% (2784/2803)\n"
     ]
    },
    {
     "name": "stderr",
     "output_type": "stream",
     "text": [
      " 12%|█▏        | 35/300 [00:14<01:52,  2.35it/s]"
     ]
    },
    {
     "name": "stdout",
     "output_type": "stream",
     "text": [
      "\n",
      "epoch 35: test average loss: 22.470 | acc: 97.75% (304/311)\n",
      "best test acc found\n",
      "\n",
      "epoch 36: train average loss: 8.462 | acc: 99.39% (2786/2803)\n"
     ]
    },
    {
     "name": "stderr",
     "output_type": "stream",
     "text": [
      " 12%|█▏        | 36/300 [00:15<01:53,  2.32it/s]"
     ]
    },
    {
     "name": "stdout",
     "output_type": "stream",
     "text": [
      "\n",
      "epoch 36: test average loss: 23.842 | acc: 89.71% (279/311)\n",
      "EarlyStopping counter: 1/25 (best: 0.9775)\n",
      "\n",
      "epoch 37: train average loss: 8.359 | acc: 99.39% (2786/2803)\n"
     ]
    },
    {
     "name": "stderr",
     "output_type": "stream",
     "text": [
      " 12%|█▏        | 37/300 [00:15<01:53,  2.31it/s]"
     ]
    },
    {
     "name": "stdout",
     "output_type": "stream",
     "text": [
      "\n",
      "epoch 37: test average loss: 20.979 | acc: 93.89% (292/311)\n",
      "EarlyStopping counter: 2/25 (best: 0.9775)\n",
      "\n",
      "epoch 38: train average loss: 7.592 | acc: 99.79% (2797/2803)\n"
     ]
    },
    {
     "name": "stderr",
     "output_type": "stream",
     "text": [
      " 13%|█▎        | 38/300 [00:16<01:53,  2.31it/s]"
     ]
    },
    {
     "name": "stdout",
     "output_type": "stream",
     "text": [
      "\n",
      "epoch 38: test average loss: 21.095 | acc: 96.14% (299/311)\n",
      "EarlyStopping counter: 3/25 (best: 0.9775)\n",
      "\n",
      "epoch 39: train average loss: 7.552 | acc: 99.46% (2788/2803)\n"
     ]
    },
    {
     "name": "stderr",
     "output_type": "stream",
     "text": [
      " 13%|█▎        | 39/300 [00:16<01:53,  2.29it/s]"
     ]
    },
    {
     "name": "stdout",
     "output_type": "stream",
     "text": [
      "\n",
      "epoch 39: test average loss: 21.740 | acc: 96.14% (299/311)\n",
      "EarlyStopping counter: 4/25 (best: 0.9775)\n",
      "\n",
      "epoch 40: train average loss: 7.409 | acc: 99.54% (2790/2803)\n"
     ]
    },
    {
     "name": "stderr",
     "output_type": "stream",
     "text": [
      " 13%|█▎        | 40/300 [00:16<01:54,  2.27it/s]"
     ]
    },
    {
     "name": "stdout",
     "output_type": "stream",
     "text": [
      "\n",
      "epoch 40: test average loss: 23.381 | acc: 94.86% (295/311)\n",
      "EarlyStopping counter: 5/25 (best: 0.9775)\n",
      "\n",
      "epoch 41: train average loss: 6.939 | acc: 99.57% (2791/2803)\n"
     ]
    },
    {
     "name": "stderr",
     "output_type": "stream",
     "text": [
      " 14%|█▎        | 41/300 [00:17<01:52,  2.31it/s]"
     ]
    },
    {
     "name": "stdout",
     "output_type": "stream",
     "text": [
      "\n",
      "epoch 41: test average loss: 22.596 | acc: 96.46% (300/311)\n",
      "EarlyStopping counter: 6/25 (best: 0.9775)\n",
      "\n",
      "epoch 42: train average loss: 6.555 | acc: 99.54% (2790/2803)\n"
     ]
    },
    {
     "name": "stderr",
     "output_type": "stream",
     "text": [
      " 14%|█▍        | 42/300 [00:17<01:54,  2.26it/s]"
     ]
    },
    {
     "name": "stdout",
     "output_type": "stream",
     "text": [
      "\n",
      "epoch 42: test average loss: 22.553 | acc: 95.82% (298/311)\n",
      "EarlyStopping counter: 7/25 (best: 0.9775)\n",
      "\n",
      "epoch 43: train average loss: 6.382 | acc: 99.79% (2797/2803)\n"
     ]
    },
    {
     "name": "stderr",
     "output_type": "stream",
     "text": [
      " 14%|█▍        | 43/300 [00:18<01:52,  2.28it/s]"
     ]
    },
    {
     "name": "stdout",
     "output_type": "stream",
     "text": [
      "\n",
      "epoch 43: test average loss: 25.260 | acc: 92.60% (288/311)\n",
      "EarlyStopping counter: 8/25 (best: 0.9775)\n",
      "\n",
      "epoch 44: train average loss: 6.295 | acc: 99.82% (2798/2803)\n"
     ]
    },
    {
     "name": "stderr",
     "output_type": "stream",
     "text": [
      " 15%|█▍        | 44/300 [00:18<01:51,  2.29it/s]"
     ]
    },
    {
     "name": "stdout",
     "output_type": "stream",
     "text": [
      "\n",
      "epoch 44: test average loss: 21.967 | acc: 97.11% (302/311)\n",
      "EarlyStopping counter: 9/25 (best: 0.9775)\n",
      "\n",
      "epoch 45: train average loss: 6.047 | acc: 99.82% (2798/2803)\n"
     ]
    },
    {
     "name": "stderr",
     "output_type": "stream",
     "text": [
      " 15%|█▌        | 45/300 [00:19<01:50,  2.32it/s]"
     ]
    },
    {
     "name": "stdout",
     "output_type": "stream",
     "text": [
      "\n",
      "epoch 45: test average loss: 24.741 | acc: 95.50% (297/311)\n",
      "EarlyStopping counter: 10/25 (best: 0.9775)\n",
      "\n",
      "epoch 46: train average loss: 5.764 | acc: 99.61% (2792/2803)\n"
     ]
    },
    {
     "name": "stderr",
     "output_type": "stream",
     "text": [
      " 15%|█▌        | 46/300 [00:19<01:48,  2.34it/s]"
     ]
    },
    {
     "name": "stdout",
     "output_type": "stream",
     "text": [
      "\n",
      "epoch 46: test average loss: 24.683 | acc: 96.14% (299/311)\n",
      "EarlyStopping counter: 11/25 (best: 0.9775)\n",
      "\n",
      "epoch 47: train average loss: 5.389 | acc: 100.00% (2803/2803)\n"
     ]
    },
    {
     "name": "stderr",
     "output_type": "stream",
     "text": [
      " 16%|█▌        | 47/300 [00:19<01:49,  2.32it/s]"
     ]
    },
    {
     "name": "stdout",
     "output_type": "stream",
     "text": [
      "\n",
      "epoch 47: test average loss: 25.732 | acc: 95.82% (298/311)\n",
      "EarlyStopping counter: 12/25 (best: 0.9775)\n",
      "\n",
      "epoch 48: train average loss: 5.573 | acc: 99.86% (2799/2803)\n"
     ]
    },
    {
     "name": "stderr",
     "output_type": "stream",
     "text": [
      " 16%|█▌        | 48/300 [00:20<01:47,  2.35it/s]"
     ]
    },
    {
     "name": "stdout",
     "output_type": "stream",
     "text": [
      "\n",
      "epoch 48: test average loss: 23.690 | acc: 97.75% (304/311)\n",
      "EarlyStopping counter: 13/25 (best: 0.9775)\n",
      "\n",
      "epoch 49: train average loss: 5.501 | acc: 99.89% (2800/2803)\n"
     ]
    },
    {
     "name": "stderr",
     "output_type": "stream",
     "text": [
      " 16%|█▋        | 49/300 [00:20<01:44,  2.39it/s]"
     ]
    },
    {
     "name": "stdout",
     "output_type": "stream",
     "text": [
      "\n",
      "epoch 49: test average loss: 26.481 | acc: 95.18% (296/311)\n",
      "EarlyStopping counter: 14/25 (best: 0.9775)\n",
      "\n",
      "epoch 50: train average loss: 5.116 | acc: 99.89% (2800/2803)\n"
     ]
    },
    {
     "name": "stderr",
     "output_type": "stream",
     "text": [
      " 17%|█▋        | 50/300 [00:21<01:43,  2.42it/s]"
     ]
    },
    {
     "name": "stdout",
     "output_type": "stream",
     "text": [
      "\n",
      "epoch 50: test average loss: 24.691 | acc: 96.14% (299/311)\n",
      "EarlyStopping counter: 15/25 (best: 0.9775)\n",
      "\n",
      "epoch 51: train average loss: 4.961 | acc: 99.96% (2802/2803)\n"
     ]
    },
    {
     "name": "stderr",
     "output_type": "stream",
     "text": [
      " 17%|█▋        | 51/300 [00:21<01:41,  2.45it/s]"
     ]
    },
    {
     "name": "stdout",
     "output_type": "stream",
     "text": [
      "\n",
      "epoch 51: test average loss: 23.768 | acc: 96.46% (300/311)\n",
      "EarlyStopping counter: 16/25 (best: 0.9775)\n",
      "\n",
      "epoch 52: train average loss: 4.934 | acc: 99.93% (2801/2803)\n"
     ]
    },
    {
     "name": "stderr",
     "output_type": "stream",
     "text": [
      " 17%|█▋        | 52/300 [00:21<01:40,  2.46it/s]"
     ]
    },
    {
     "name": "stdout",
     "output_type": "stream",
     "text": [
      "\n",
      "epoch 52: test average loss: 25.177 | acc: 96.14% (299/311)\n",
      "EarlyStopping counter: 17/25 (best: 0.9775)\n",
      "\n",
      "epoch 53: train average loss: 5.068 | acc: 99.93% (2801/2803)\n"
     ]
    },
    {
     "name": "stderr",
     "output_type": "stream",
     "text": [
      " 18%|█▊        | 53/300 [00:22<01:39,  2.48it/s]"
     ]
    },
    {
     "name": "stdout",
     "output_type": "stream",
     "text": [
      "\n",
      "epoch 53: test average loss: 24.453 | acc: 96.46% (300/311)\n",
      "EarlyStopping counter: 18/25 (best: 0.9775)\n",
      "\n",
      "epoch 54: train average loss: 4.829 | acc: 99.86% (2799/2803)\n"
     ]
    },
    {
     "name": "stderr",
     "output_type": "stream",
     "text": [
      " 18%|█▊        | 54/300 [00:22<01:39,  2.47it/s]"
     ]
    },
    {
     "name": "stdout",
     "output_type": "stream",
     "text": [
      "\n",
      "epoch 54: test average loss: 24.631 | acc: 96.14% (299/311)\n",
      "EarlyStopping counter: 19/25 (best: 0.9775)\n",
      "\n",
      "epoch 55: train average loss: 4.820 | acc: 99.93% (2801/2803)\n"
     ]
    },
    {
     "name": "stderr",
     "output_type": "stream",
     "text": [
      " 18%|█▊        | 55/300 [00:23<01:38,  2.48it/s]"
     ]
    },
    {
     "name": "stdout",
     "output_type": "stream",
     "text": [
      "\n",
      "epoch 55: test average loss: 25.129 | acc: 95.50% (297/311)\n",
      "EarlyStopping counter: 20/25 (best: 0.9775)\n",
      "\n",
      "epoch 56: train average loss: 4.706 | acc: 99.96% (2802/2803)\n"
     ]
    },
    {
     "name": "stderr",
     "output_type": "stream",
     "text": [
      " 19%|█▊        | 56/300 [00:23<01:39,  2.46it/s]"
     ]
    },
    {
     "name": "stdout",
     "output_type": "stream",
     "text": [
      "\n",
      "epoch 56: test average loss: 25.100 | acc: 95.82% (298/311)\n",
      "EarlyStopping counter: 21/25 (best: 0.9775)\n",
      "\n",
      "epoch 57: train average loss: 4.582 | acc: 99.89% (2800/2803)\n"
     ]
    },
    {
     "name": "stderr",
     "output_type": "stream",
     "text": [
      " 19%|█▉        | 57/300 [00:23<01:38,  2.47it/s]"
     ]
    },
    {
     "name": "stdout",
     "output_type": "stream",
     "text": [
      "\n",
      "epoch 57: test average loss: 24.991 | acc: 95.82% (298/311)\n",
      "EarlyStopping counter: 22/25 (best: 0.9775)\n",
      "\n",
      "epoch 58: train average loss: 4.712 | acc: 100.00% (2803/2803)\n"
     ]
    },
    {
     "name": "stderr",
     "output_type": "stream",
     "text": [
      " 19%|█▉        | 58/300 [00:24<01:42,  2.37it/s]"
     ]
    },
    {
     "name": "stdout",
     "output_type": "stream",
     "text": [
      "\n",
      "epoch 58: test average loss: 24.958 | acc: 95.82% (298/311)\n",
      "EarlyStopping counter: 23/25 (best: 0.9775)\n",
      "\n",
      "epoch 59: train average loss: 4.732 | acc: 99.96% (2802/2803)\n"
     ]
    },
    {
     "name": "stderr",
     "output_type": "stream",
     "text": [
      " 20%|█▉        | 59/300 [00:24<01:42,  2.34it/s]"
     ]
    },
    {
     "name": "stdout",
     "output_type": "stream",
     "text": [
      "\n",
      "epoch 59: test average loss: 25.080 | acc: 95.82% (298/311)\n",
      "EarlyStopping counter: 24/25 (best: 0.9775)\n",
      "\n",
      "epoch 60: train average loss: 4.616 | acc: 99.93% (2801/2803)\n"
     ]
    },
    {
     "name": "stderr",
     "output_type": "stream",
     "text": [
      " 20%|█▉        | 59/300 [00:25<01:43,  2.33it/s]"
     ]
    },
    {
     "name": "stdout",
     "output_type": "stream",
     "text": [
      "\n",
      "epoch 60: test average loss: 25.159 | acc: 95.82% (298/311)\n",
      "EarlyStopping counter: 25/25 (best: 0.9775)\n",
      "🔴 Early stopping triggered\n",
      "load model at epoch 35, with test acc : 0.977\n"
     ]
    },
    {
     "name": "stderr",
     "output_type": "stream",
     "text": [
      "\n",
      "/tmp/ipykernel_2950649/1054042983.py:175: FutureWarning:\n",
      "\n",
      "You are using `torch.load` with `weights_only=False` (the current default value), which uses the default pickle module implicitly. It is possible to construct malicious pickle data which will execute arbitrary code during unpickling (See https://github.com/pytorch/pytorch/blob/main/SECURITY.md#untrusted-models for more details). In a future release, the default value for `weights_only` will be flipped to `True`. This limits the functions that could be executed during unpickling. Arbitrary objects will no longer be allowed to be loaded via this mode unless they are explicitly allowlisted by the user via `torch.serialization.add_safe_globals`. We recommend you start setting `weights_only=True` for any use case where you don't have full control of the loaded file. Please open an issue on GitHub for any issues related to this experimental feature.\n",
      "\n"
     ]
    },
    {
     "name": "stdout",
     "output_type": "stream",
     "text": [
      "total 0.977491961414791\n",
      "class 0 0.989247311827957\n",
      "class 1 0.9724770642201835\n",
      "Train t-SNE interactive HTML saved to variant_lenet_low_test_accuracy_combined_train.html\n",
      "Test t-SNE interactive HTML saved to variant_lenet_low_test_accuracy_combined_test.html\n",
      "                            0\n",
      "Accuracy               0.9775\n",
      "Recall       [0.9892, 0.9725]\n",
      "Specificity  [0.9725, 0.9892]\n",
      "Precision    [0.9388, 0.9953]\n",
      "F1 Score     [0.9634, 0.9838]\n",
      "8\n"
     ]
    },
    {
     "name": "stderr",
     "output_type": "stream",
     "text": [
      "  0%|          | 0/300 [00:00<?, ?it/s]"
     ]
    },
    {
     "name": "stdout",
     "output_type": "stream",
     "text": [
      "\n",
      "epoch 1: train average loss: 32.893 | acc: 65.32% (1831/2803)\n"
     ]
    },
    {
     "name": "stderr",
     "output_type": "stream",
     "text": [
      "  0%|          | 1/300 [00:00<02:02,  2.44it/s]"
     ]
    },
    {
     "name": "stdout",
     "output_type": "stream",
     "text": [
      "\n",
      "epoch 1: test average loss: 25.958 | acc: 29.90% (93/311)\n",
      "best test acc found\n",
      "\n",
      "epoch 2: train average loss: 26.530 | acc: 72.60% (2035/2803)\n"
     ]
    },
    {
     "name": "stderr",
     "output_type": "stream",
     "text": [
      "  1%|          | 2/300 [00:00<02:05,  2.38it/s]"
     ]
    },
    {
     "name": "stdout",
     "output_type": "stream",
     "text": [
      "\n",
      "epoch 2: test average loss: 21.681 | acc: 73.31% (228/311)\n",
      "best test acc found\n",
      "\n",
      "epoch 3: train average loss: 23.354 | acc: 75.49% (2116/2803)\n"
     ]
    },
    {
     "name": "stderr",
     "output_type": "stream",
     "text": [
      "  1%|          | 3/300 [00:01<02:04,  2.39it/s]"
     ]
    },
    {
     "name": "stdout",
     "output_type": "stream",
     "text": [
      "\n",
      "epoch 3: test average loss: 22.075 | acc: 39.23% (122/311)\n",
      "EarlyStopping counter: 1/25 (best: 0.7331)\n",
      "\n",
      "epoch 4: train average loss: 21.400 | acc: 80.81% (2265/2803)\n"
     ]
    },
    {
     "name": "stderr",
     "output_type": "stream",
     "text": [
      "  1%|▏         | 4/300 [00:01<02:03,  2.40it/s]"
     ]
    },
    {
     "name": "stdout",
     "output_type": "stream",
     "text": [
      "\n",
      "epoch 4: test average loss: 22.823 | acc: 70.10% (218/311)\n",
      "EarlyStopping counter: 2/25 (best: 0.7331)\n",
      "\n",
      "epoch 5: train average loss: 20.173 | acc: 85.16% (2387/2803)\n"
     ]
    },
    {
     "name": "stderr",
     "output_type": "stream",
     "text": [
      "  2%|▏         | 5/300 [00:02<02:04,  2.37it/s]"
     ]
    },
    {
     "name": "stdout",
     "output_type": "stream",
     "text": [
      "\n",
      "epoch 5: test average loss: 22.616 | acc: 72.35% (225/311)\n",
      "EarlyStopping counter: 3/25 (best: 0.7331)\n",
      "\n",
      "epoch 6: train average loss: 19.579 | acc: 88.51% (2481/2803)\n"
     ]
    },
    {
     "name": "stderr",
     "output_type": "stream",
     "text": [
      "  2%|▏         | 6/300 [00:02<02:02,  2.40it/s]"
     ]
    },
    {
     "name": "stdout",
     "output_type": "stream",
     "text": [
      "\n",
      "epoch 6: test average loss: 22.331 | acc: 70.42% (219/311)\n",
      "EarlyStopping counter: 4/25 (best: 0.7331)\n",
      "\n",
      "epoch 7: train average loss: 19.002 | acc: 89.73% (2515/2803)\n"
     ]
    },
    {
     "name": "stderr",
     "output_type": "stream",
     "text": [
      "  2%|▏         | 7/300 [00:02<02:03,  2.38it/s]"
     ]
    },
    {
     "name": "stdout",
     "output_type": "stream",
     "text": [
      "\n",
      "epoch 7: test average loss: 22.200 | acc: 78.46% (244/311)\n",
      "best test acc found\n",
      "\n",
      "epoch 8: train average loss: 18.385 | acc: 90.37% (2533/2803)\n"
     ]
    },
    {
     "name": "stderr",
     "output_type": "stream",
     "text": [
      "  3%|▎         | 8/300 [00:03<02:10,  2.24it/s]"
     ]
    },
    {
     "name": "stdout",
     "output_type": "stream",
     "text": [
      "\n",
      "epoch 8: test average loss: 21.988 | acc: 84.57% (263/311)\n",
      "best test acc found\n",
      "\n",
      "epoch 9: train average loss: 18.129 | acc: 91.30% (2559/2803)\n"
     ]
    },
    {
     "name": "stderr",
     "output_type": "stream",
     "text": [
      "  3%|▎         | 9/300 [00:03<02:11,  2.21it/s]"
     ]
    },
    {
     "name": "stdout",
     "output_type": "stream",
     "text": [
      "\n",
      "epoch 9: test average loss: 19.513 | acc: 90.35% (281/311)\n",
      "best test acc found\n",
      "\n",
      "epoch 10: train average loss: 17.643 | acc: 91.65% (2569/2803)\n"
     ]
    },
    {
     "name": "stderr",
     "output_type": "stream",
     "text": [
      "  3%|▎         | 10/300 [00:04<02:11,  2.21it/s]"
     ]
    },
    {
     "name": "stdout",
     "output_type": "stream",
     "text": [
      "\n",
      "epoch 10: test average loss: 21.143 | acc: 89.07% (277/311)\n",
      "EarlyStopping counter: 1/25 (best: 0.9035)\n",
      "\n",
      "epoch 11: train average loss: 17.430 | acc: 92.37% (2589/2803)\n"
     ]
    },
    {
     "name": "stderr",
     "output_type": "stream",
     "text": [
      "  4%|▎         | 11/300 [00:04<02:09,  2.23it/s]"
     ]
    },
    {
     "name": "stdout",
     "output_type": "stream",
     "text": [
      "\n",
      "epoch 11: test average loss: 19.711 | acc: 91.00% (283/311)\n",
      "best test acc found\n",
      "\n",
      "epoch 12: train average loss: 16.770 | acc: 93.69% (2626/2803)\n"
     ]
    },
    {
     "name": "stderr",
     "output_type": "stream",
     "text": [
      "  4%|▍         | 12/300 [00:05<02:06,  2.27it/s]"
     ]
    },
    {
     "name": "stdout",
     "output_type": "stream",
     "text": [
      "\n",
      "epoch 12: test average loss: 18.077 | acc: 84.24% (262/311)\n",
      "EarlyStopping counter: 1/25 (best: 0.9100)\n",
      "\n",
      "epoch 13: train average loss: 16.205 | acc: 94.22% (2641/2803)\n"
     ]
    },
    {
     "name": "stderr",
     "output_type": "stream",
     "text": [
      "  4%|▍         | 13/300 [00:05<02:05,  2.28it/s]"
     ]
    },
    {
     "name": "stdout",
     "output_type": "stream",
     "text": [
      "\n",
      "epoch 13: test average loss: 19.346 | acc: 94.21% (293/311)\n",
      "best test acc found\n",
      "\n",
      "epoch 14: train average loss: 15.789 | acc: 94.54% (2650/2803)\n"
     ]
    },
    {
     "name": "stderr",
     "output_type": "stream",
     "text": [
      "  5%|▍         | 14/300 [00:06<02:03,  2.31it/s]"
     ]
    },
    {
     "name": "stdout",
     "output_type": "stream",
     "text": [
      "\n",
      "epoch 14: test average loss: 17.992 | acc: 85.85% (267/311)\n",
      "EarlyStopping counter: 1/25 (best: 0.9421)\n",
      "\n",
      "epoch 15: train average loss: 15.445 | acc: 95.26% (2670/2803)\n"
     ]
    },
    {
     "name": "stderr",
     "output_type": "stream",
     "text": [
      "  5%|▌         | 15/300 [00:06<02:03,  2.32it/s]"
     ]
    },
    {
     "name": "stdout",
     "output_type": "stream",
     "text": [
      "\n",
      "epoch 15: test average loss: 18.658 | acc: 89.71% (279/311)\n",
      "EarlyStopping counter: 2/25 (best: 0.9421)\n",
      "\n",
      "epoch 16: train average loss: 15.578 | acc: 95.47% (2676/2803)\n"
     ]
    },
    {
     "name": "stderr",
     "output_type": "stream",
     "text": [
      "  5%|▌         | 16/300 [00:06<02:02,  2.32it/s]"
     ]
    },
    {
     "name": "stdout",
     "output_type": "stream",
     "text": [
      "\n",
      "epoch 16: test average loss: 18.392 | acc: 90.35% (281/311)\n",
      "EarlyStopping counter: 3/25 (best: 0.9421)\n",
      "\n",
      "epoch 17: train average loss: 15.141 | acc: 95.01% (2663/2803)\n"
     ]
    },
    {
     "name": "stderr",
     "output_type": "stream",
     "text": [
      "  6%|▌         | 17/300 [00:07<02:01,  2.33it/s]"
     ]
    },
    {
     "name": "stdout",
     "output_type": "stream",
     "text": [
      "\n",
      "epoch 17: test average loss: 17.016 | acc: 87.78% (273/311)\n",
      "EarlyStopping counter: 4/25 (best: 0.9421)\n",
      "\n",
      "epoch 18: train average loss: 14.727 | acc: 95.79% (2685/2803)\n"
     ]
    },
    {
     "name": "stderr",
     "output_type": "stream",
     "text": [
      "  6%|▌         | 18/300 [00:07<02:00,  2.34it/s]"
     ]
    },
    {
     "name": "stdout",
     "output_type": "stream",
     "text": [
      "\n",
      "epoch 18: test average loss: 16.974 | acc: 93.89% (292/311)\n",
      "EarlyStopping counter: 5/25 (best: 0.9421)\n",
      "\n",
      "epoch 19: train average loss: 14.300 | acc: 96.25% (2698/2803)\n"
     ]
    },
    {
     "name": "stderr",
     "output_type": "stream",
     "text": [
      "  6%|▋         | 19/300 [00:08<02:02,  2.30it/s]"
     ]
    },
    {
     "name": "stdout",
     "output_type": "stream",
     "text": [
      "\n",
      "epoch 19: test average loss: 17.398 | acc: 91.64% (285/311)\n",
      "EarlyStopping counter: 6/25 (best: 0.9421)\n",
      "\n",
      "epoch 20: train average loss: 14.695 | acc: 95.83% (2686/2803)\n"
     ]
    },
    {
     "name": "stderr",
     "output_type": "stream",
     "text": [
      "  7%|▋         | 20/300 [00:08<02:03,  2.27it/s]"
     ]
    },
    {
     "name": "stdout",
     "output_type": "stream",
     "text": [
      "\n",
      "epoch 20: test average loss: 20.384 | acc: 87.78% (273/311)\n",
      "EarlyStopping counter: 7/25 (best: 0.9421)\n",
      "\n",
      "epoch 21: train average loss: 14.261 | acc: 96.25% (2698/2803)\n"
     ]
    },
    {
     "name": "stderr",
     "output_type": "stream",
     "text": [
      "  7%|▋         | 21/300 [00:09<02:02,  2.28it/s]"
     ]
    },
    {
     "name": "stdout",
     "output_type": "stream",
     "text": [
      "\n",
      "epoch 21: test average loss: 16.145 | acc: 95.18% (296/311)\n",
      "best test acc found\n",
      "\n",
      "epoch 22: train average loss: 13.475 | acc: 96.72% (2711/2803)\n"
     ]
    },
    {
     "name": "stderr",
     "output_type": "stream",
     "text": [
      "  7%|▋         | 22/300 [00:09<02:00,  2.32it/s]"
     ]
    },
    {
     "name": "stdout",
     "output_type": "stream",
     "text": [
      "\n",
      "epoch 22: test average loss: 18.508 | acc: 74.60% (232/311)\n",
      "EarlyStopping counter: 1/25 (best: 0.9518)\n",
      "\n",
      "epoch 23: train average loss: 12.832 | acc: 97.40% (2730/2803)\n"
     ]
    },
    {
     "name": "stderr",
     "output_type": "stream",
     "text": [
      "  8%|▊         | 23/300 [00:09<01:58,  2.34it/s]"
     ]
    },
    {
     "name": "stdout",
     "output_type": "stream",
     "text": [
      "\n",
      "epoch 23: test average loss: 15.576 | acc: 92.60% (288/311)\n",
      "EarlyStopping counter: 2/25 (best: 0.9518)\n",
      "\n",
      "epoch 24: train average loss: 12.346 | acc: 97.75% (2740/2803)\n"
     ]
    },
    {
     "name": "stderr",
     "output_type": "stream",
     "text": [
      "  8%|▊         | 24/300 [00:10<01:56,  2.36it/s]"
     ]
    },
    {
     "name": "stdout",
     "output_type": "stream",
     "text": [
      "\n",
      "epoch 24: test average loss: 15.814 | acc: 95.82% (298/311)\n",
      "best test acc found\n",
      "\n",
      "epoch 25: train average loss: 12.081 | acc: 98.43% (2759/2803)\n"
     ]
    },
    {
     "name": "stderr",
     "output_type": "stream",
     "text": [
      "  8%|▊         | 25/300 [00:10<01:54,  2.40it/s]"
     ]
    },
    {
     "name": "stdout",
     "output_type": "stream",
     "text": [
      "\n",
      "epoch 25: test average loss: 16.817 | acc: 94.21% (293/311)\n",
      "EarlyStopping counter: 1/25 (best: 0.9582)\n",
      "\n",
      "epoch 26: train average loss: 11.667 | acc: 98.50% (2761/2803)\n"
     ]
    },
    {
     "name": "stderr",
     "output_type": "stream",
     "text": [
      "  9%|▊         | 26/300 [00:11<01:55,  2.38it/s]"
     ]
    },
    {
     "name": "stdout",
     "output_type": "stream",
     "text": [
      "\n",
      "epoch 26: test average loss: 15.695 | acc: 97.11% (302/311)\n",
      "best test acc found\n",
      "\n",
      "epoch 27: train average loss: 11.115 | acc: 98.54% (2762/2803)\n"
     ]
    },
    {
     "name": "stderr",
     "output_type": "stream",
     "text": [
      "  9%|▉         | 27/300 [00:11<01:54,  2.38it/s]"
     ]
    },
    {
     "name": "stdout",
     "output_type": "stream",
     "text": [
      "\n",
      "epoch 27: test average loss: 15.575 | acc: 87.46% (272/311)\n",
      "EarlyStopping counter: 1/25 (best: 0.9711)\n",
      "\n",
      "epoch 28: train average loss: 10.929 | acc: 98.93% (2773/2803)\n"
     ]
    },
    {
     "name": "stderr",
     "output_type": "stream",
     "text": [
      "  9%|▉         | 28/300 [00:12<01:52,  2.41it/s]"
     ]
    },
    {
     "name": "stdout",
     "output_type": "stream",
     "text": [
      "\n",
      "epoch 28: test average loss: 16.578 | acc: 86.17% (268/311)\n",
      "EarlyStopping counter: 2/25 (best: 0.9711)\n",
      "\n",
      "epoch 29: train average loss: 10.832 | acc: 98.97% (2774/2803)\n"
     ]
    },
    {
     "name": "stderr",
     "output_type": "stream",
     "text": [
      " 10%|▉         | 29/300 [00:12<01:51,  2.43it/s]"
     ]
    },
    {
     "name": "stdout",
     "output_type": "stream",
     "text": [
      "\n",
      "epoch 29: test average loss: 16.412 | acc: 92.60% (288/311)\n",
      "EarlyStopping counter: 3/25 (best: 0.9711)\n",
      "\n",
      "epoch 30: train average loss: 11.024 | acc: 98.39% (2758/2803)\n"
     ]
    },
    {
     "name": "stderr",
     "output_type": "stream",
     "text": [
      " 10%|█         | 30/300 [00:12<01:51,  2.43it/s]"
     ]
    },
    {
     "name": "stdout",
     "output_type": "stream",
     "text": [
      "\n",
      "epoch 30: test average loss: 16.418 | acc: 94.53% (294/311)\n",
      "EarlyStopping counter: 4/25 (best: 0.9711)\n",
      "\n",
      "epoch 31: train average loss: 11.410 | acc: 98.07% (2749/2803)\n"
     ]
    },
    {
     "name": "stderr",
     "output_type": "stream",
     "text": [
      " 10%|█         | 31/300 [00:13<01:52,  2.40it/s]"
     ]
    },
    {
     "name": "stdout",
     "output_type": "stream",
     "text": [
      "\n",
      "epoch 31: test average loss: 18.600 | acc: 91.64% (285/311)\n",
      "EarlyStopping counter: 5/25 (best: 0.9711)\n",
      "\n",
      "epoch 32: train average loss: 11.428 | acc: 98.18% (2752/2803)\n"
     ]
    },
    {
     "name": "stderr",
     "output_type": "stream",
     "text": [
      " 11%|█         | 32/300 [00:13<01:56,  2.30it/s]"
     ]
    },
    {
     "name": "stdout",
     "output_type": "stream",
     "text": [
      "\n",
      "epoch 32: test average loss: 15.379 | acc: 92.28% (287/311)\n",
      "EarlyStopping counter: 6/25 (best: 0.9711)\n",
      "\n",
      "epoch 33: train average loss: 10.560 | acc: 98.82% (2770/2803)\n"
     ]
    },
    {
     "name": "stderr",
     "output_type": "stream",
     "text": [
      " 11%|█         | 33/300 [00:14<01:58,  2.25it/s]"
     ]
    },
    {
     "name": "stdout",
     "output_type": "stream",
     "text": [
      "\n",
      "epoch 33: test average loss: 13.289 | acc: 90.68% (282/311)\n",
      "EarlyStopping counter: 7/25 (best: 0.9711)\n",
      "\n",
      "epoch 34: train average loss: 10.262 | acc: 98.89% (2772/2803)\n"
     ]
    },
    {
     "name": "stderr",
     "output_type": "stream",
     "text": [
      " 11%|█▏        | 34/300 [00:14<02:01,  2.19it/s]"
     ]
    },
    {
     "name": "stdout",
     "output_type": "stream",
     "text": [
      "\n",
      "epoch 34: test average loss: 13.955 | acc: 98.07% (305/311)\n",
      "best test acc found\n",
      "\n",
      "epoch 35: train average loss: 9.753 | acc: 99.43% (2787/2803)\n"
     ]
    },
    {
     "name": "stderr",
     "output_type": "stream",
     "text": [
      " 12%|█▏        | 35/300 [00:15<01:59,  2.22it/s]"
     ]
    },
    {
     "name": "stdout",
     "output_type": "stream",
     "text": [
      "\n",
      "epoch 35: test average loss: 13.179 | acc: 97.43% (303/311)\n",
      "EarlyStopping counter: 1/25 (best: 0.9807)\n",
      "\n",
      "epoch 36: train average loss: 9.400 | acc: 99.11% (2778/2803)\n"
     ]
    },
    {
     "name": "stderr",
     "output_type": "stream",
     "text": [
      " 12%|█▏        | 36/300 [00:15<01:57,  2.25it/s]"
     ]
    },
    {
     "name": "stdout",
     "output_type": "stream",
     "text": [
      "\n",
      "epoch 36: test average loss: 13.465 | acc: 95.82% (298/311)\n",
      "EarlyStopping counter: 2/25 (best: 0.9807)\n",
      "\n",
      "epoch 37: train average loss: 8.835 | acc: 99.29% (2783/2803)\n"
     ]
    },
    {
     "name": "stderr",
     "output_type": "stream",
     "text": [
      " 12%|█▏        | 37/300 [00:15<01:55,  2.28it/s]"
     ]
    },
    {
     "name": "stdout",
     "output_type": "stream",
     "text": [
      "\n",
      "epoch 37: test average loss: 13.821 | acc: 96.78% (301/311)\n",
      "EarlyStopping counter: 3/25 (best: 0.9807)\n",
      "\n",
      "epoch 38: train average loss: 8.415 | acc: 99.57% (2791/2803)\n"
     ]
    },
    {
     "name": "stderr",
     "output_type": "stream",
     "text": [
      " 13%|█▎        | 38/300 [00:16<01:54,  2.28it/s]"
     ]
    },
    {
     "name": "stdout",
     "output_type": "stream",
     "text": [
      "\n",
      "epoch 38: test average loss: 13.053 | acc: 96.46% (300/311)\n",
      "EarlyStopping counter: 4/25 (best: 0.9807)\n",
      "\n",
      "epoch 39: train average loss: 8.344 | acc: 99.71% (2795/2803)\n"
     ]
    },
    {
     "name": "stderr",
     "output_type": "stream",
     "text": [
      " 13%|█▎        | 39/300 [00:16<01:55,  2.26it/s]"
     ]
    },
    {
     "name": "stdout",
     "output_type": "stream",
     "text": [
      "\n",
      "epoch 39: test average loss: 14.192 | acc: 97.43% (303/311)\n",
      "EarlyStopping counter: 5/25 (best: 0.9807)\n",
      "\n",
      "epoch 40: train average loss: 7.799 | acc: 99.61% (2792/2803)\n"
     ]
    },
    {
     "name": "stderr",
     "output_type": "stream",
     "text": [
      " 13%|█▎        | 40/300 [00:17<01:56,  2.23it/s]"
     ]
    },
    {
     "name": "stdout",
     "output_type": "stream",
     "text": [
      "\n",
      "epoch 40: test average loss: 13.888 | acc: 96.78% (301/311)\n",
      "EarlyStopping counter: 6/25 (best: 0.9807)\n",
      "\n",
      "epoch 41: train average loss: 7.549 | acc: 99.86% (2799/2803)\n"
     ]
    },
    {
     "name": "stderr",
     "output_type": "stream",
     "text": [
      " 14%|█▎        | 41/300 [00:17<01:58,  2.19it/s]"
     ]
    },
    {
     "name": "stdout",
     "output_type": "stream",
     "text": [
      "\n",
      "epoch 41: test average loss: 12.887 | acc: 97.43% (303/311)\n",
      "EarlyStopping counter: 7/25 (best: 0.9807)\n",
      "\n",
      "epoch 42: train average loss: 7.390 | acc: 99.68% (2794/2803)\n"
     ]
    },
    {
     "name": "stderr",
     "output_type": "stream",
     "text": [
      " 14%|█▍        | 42/300 [00:18<02:04,  2.07it/s]"
     ]
    },
    {
     "name": "stdout",
     "output_type": "stream",
     "text": [
      "\n",
      "epoch 42: test average loss: 14.383 | acc: 97.43% (303/311)\n",
      "EarlyStopping counter: 8/25 (best: 0.9807)\n",
      "\n",
      "epoch 43: train average loss: 6.863 | acc: 99.86% (2799/2803)\n"
     ]
    },
    {
     "name": "stderr",
     "output_type": "stream",
     "text": [
      " 14%|█▍        | 43/300 [00:18<02:04,  2.06it/s]"
     ]
    },
    {
     "name": "stdout",
     "output_type": "stream",
     "text": [
      "\n",
      "epoch 43: test average loss: 13.845 | acc: 96.14% (299/311)\n",
      "EarlyStopping counter: 9/25 (best: 0.9807)\n",
      "\n",
      "epoch 44: train average loss: 6.801 | acc: 99.82% (2798/2803)\n"
     ]
    },
    {
     "name": "stderr",
     "output_type": "stream",
     "text": [
      " 15%|█▍        | 44/300 [00:19<02:05,  2.04it/s]"
     ]
    },
    {
     "name": "stdout",
     "output_type": "stream",
     "text": [
      "\n",
      "epoch 44: test average loss: 14.922 | acc: 95.50% (297/311)\n",
      "EarlyStopping counter: 10/25 (best: 0.9807)\n",
      "\n",
      "epoch 45: train average loss: 6.830 | acc: 99.54% (2790/2803)\n"
     ]
    },
    {
     "name": "stderr",
     "output_type": "stream",
     "text": [
      " 15%|█▌        | 45/300 [00:19<02:02,  2.08it/s]"
     ]
    },
    {
     "name": "stdout",
     "output_type": "stream",
     "text": [
      "\n",
      "epoch 45: test average loss: 12.436 | acc: 97.75% (304/311)\n",
      "EarlyStopping counter: 11/25 (best: 0.9807)\n",
      "\n",
      "epoch 46: train average loss: 6.597 | acc: 99.89% (2800/2803)\n"
     ]
    },
    {
     "name": "stderr",
     "output_type": "stream",
     "text": [
      " 15%|█▌        | 46/300 [00:20<02:00,  2.11it/s]"
     ]
    },
    {
     "name": "stdout",
     "output_type": "stream",
     "text": [
      "\n",
      "epoch 46: test average loss: 14.525 | acc: 96.14% (299/311)\n",
      "EarlyStopping counter: 12/25 (best: 0.9807)\n",
      "\n",
      "epoch 47: train average loss: 6.388 | acc: 99.82% (2798/2803)\n"
     ]
    },
    {
     "name": "stderr",
     "output_type": "stream",
     "text": [
      " 16%|█▌        | 47/300 [00:20<01:56,  2.17it/s]"
     ]
    },
    {
     "name": "stdout",
     "output_type": "stream",
     "text": [
      "\n",
      "epoch 47: test average loss: 12.191 | acc: 97.43% (303/311)\n",
      "EarlyStopping counter: 13/25 (best: 0.9807)\n",
      "\n",
      "epoch 48: train average loss: 6.128 | acc: 99.79% (2797/2803)\n"
     ]
    },
    {
     "name": "stderr",
     "output_type": "stream",
     "text": [
      " 16%|█▌        | 48/300 [00:21<01:55,  2.18it/s]"
     ]
    },
    {
     "name": "stdout",
     "output_type": "stream",
     "text": [
      "\n",
      "epoch 48: test average loss: 12.722 | acc: 97.43% (303/311)\n",
      "EarlyStopping counter: 14/25 (best: 0.9807)\n",
      "\n",
      "epoch 49: train average loss: 5.914 | acc: 99.96% (2802/2803)\n"
     ]
    },
    {
     "name": "stderr",
     "output_type": "stream",
     "text": [
      " 16%|█▋        | 49/300 [00:21<01:54,  2.19it/s]"
     ]
    },
    {
     "name": "stdout",
     "output_type": "stream",
     "text": [
      "\n",
      "epoch 49: test average loss: 12.487 | acc: 97.43% (303/311)\n",
      "EarlyStopping counter: 15/25 (best: 0.9807)\n",
      "\n",
      "epoch 50: train average loss: 5.734 | acc: 99.86% (2799/2803)\n"
     ]
    },
    {
     "name": "stderr",
     "output_type": "stream",
     "text": [
      " 17%|█▋        | 50/300 [00:22<01:52,  2.22it/s]"
     ]
    },
    {
     "name": "stdout",
     "output_type": "stream",
     "text": [
      "\n",
      "epoch 50: test average loss: 14.424 | acc: 96.46% (300/311)\n",
      "EarlyStopping counter: 16/25 (best: 0.9807)\n",
      "\n",
      "epoch 51: train average loss: 5.709 | acc: 100.00% (2803/2803)\n"
     ]
    },
    {
     "name": "stderr",
     "output_type": "stream",
     "text": [
      " 17%|█▋        | 51/300 [00:22<01:51,  2.24it/s]"
     ]
    },
    {
     "name": "stdout",
     "output_type": "stream",
     "text": [
      "\n",
      "epoch 51: test average loss: 12.811 | acc: 97.11% (302/311)\n",
      "EarlyStopping counter: 17/25 (best: 0.9807)\n",
      "\n",
      "epoch 52: train average loss: 5.616 | acc: 99.96% (2802/2803)\n"
     ]
    },
    {
     "name": "stderr",
     "output_type": "stream",
     "text": [
      " 17%|█▋        | 52/300 [00:22<01:49,  2.26it/s]"
     ]
    },
    {
     "name": "stdout",
     "output_type": "stream",
     "text": [
      "\n",
      "epoch 52: test average loss: 13.515 | acc: 96.78% (301/311)\n",
      "EarlyStopping counter: 18/25 (best: 0.9807)\n",
      "\n",
      "epoch 53: train average loss: 5.551 | acc: 99.82% (2798/2803)\n"
     ]
    },
    {
     "name": "stderr",
     "output_type": "stream",
     "text": [
      " 18%|█▊        | 53/300 [00:23<01:48,  2.29it/s]"
     ]
    },
    {
     "name": "stdout",
     "output_type": "stream",
     "text": [
      "\n",
      "epoch 53: test average loss: 14.109 | acc: 96.46% (300/311)\n",
      "EarlyStopping counter: 19/25 (best: 0.9807)\n",
      "\n",
      "epoch 54: train average loss: 5.502 | acc: 99.86% (2799/2803)\n"
     ]
    },
    {
     "name": "stderr",
     "output_type": "stream",
     "text": [
      " 18%|█▊        | 54/300 [00:23<01:49,  2.25it/s]"
     ]
    },
    {
     "name": "stdout",
     "output_type": "stream",
     "text": [
      "\n",
      "epoch 54: test average loss: 12.873 | acc: 97.43% (303/311)\n",
      "EarlyStopping counter: 20/25 (best: 0.9807)\n",
      "\n",
      "epoch 55: train average loss: 5.270 | acc: 99.79% (2797/2803)\n"
     ]
    },
    {
     "name": "stderr",
     "output_type": "stream",
     "text": [
      " 18%|█▊        | 55/300 [00:24<01:51,  2.20it/s]"
     ]
    },
    {
     "name": "stdout",
     "output_type": "stream",
     "text": [
      "\n",
      "epoch 55: test average loss: 13.057 | acc: 97.11% (302/311)\n",
      "EarlyStopping counter: 21/25 (best: 0.9807)\n",
      "\n",
      "epoch 56: train average loss: 5.274 | acc: 99.96% (2802/2803)\n"
     ]
    },
    {
     "name": "stderr",
     "output_type": "stream",
     "text": [
      " 19%|█▊        | 56/300 [00:24<01:52,  2.18it/s]"
     ]
    },
    {
     "name": "stdout",
     "output_type": "stream",
     "text": [
      "\n",
      "epoch 56: test average loss: 13.781 | acc: 97.11% (302/311)\n",
      "EarlyStopping counter: 22/25 (best: 0.9807)\n",
      "\n",
      "epoch 57: train average loss: 5.226 | acc: 99.93% (2801/2803)\n"
     ]
    },
    {
     "name": "stderr",
     "output_type": "stream",
     "text": [
      " 19%|█▉        | 57/300 [00:25<01:55,  2.10it/s]"
     ]
    },
    {
     "name": "stdout",
     "output_type": "stream",
     "text": [
      "\n",
      "epoch 57: test average loss: 13.622 | acc: 97.11% (302/311)\n",
      "EarlyStopping counter: 23/25 (best: 0.9807)\n",
      "\n",
      "epoch 58: train average loss: 5.340 | acc: 99.93% (2801/2803)\n"
     ]
    },
    {
     "name": "stderr",
     "output_type": "stream",
     "text": [
      " 19%|█▉        | 58/300 [00:25<01:55,  2.09it/s]"
     ]
    },
    {
     "name": "stdout",
     "output_type": "stream",
     "text": [
      "\n",
      "epoch 58: test average loss: 13.446 | acc: 97.11% (302/311)\n",
      "EarlyStopping counter: 24/25 (best: 0.9807)\n",
      "\n",
      "epoch 59: train average loss: 5.280 | acc: 99.86% (2799/2803)\n"
     ]
    },
    {
     "name": "stderr",
     "output_type": "stream",
     "text": [
      " 19%|█▉        | 58/300 [00:26<01:49,  2.22it/s]"
     ]
    },
    {
     "name": "stdout",
     "output_type": "stream",
     "text": [
      "\n",
      "epoch 59: test average loss: 13.267 | acc: 97.11% (302/311)\n",
      "EarlyStopping counter: 25/25 (best: 0.9807)\n",
      "🔴 Early stopping triggered\n",
      "load model at epoch 34, with test acc : 0.981\n"
     ]
    },
    {
     "name": "stderr",
     "output_type": "stream",
     "text": [
      "\n",
      "/tmp/ipykernel_2950649/1054042983.py:175: FutureWarning:\n",
      "\n",
      "You are using `torch.load` with `weights_only=False` (the current default value), which uses the default pickle module implicitly. It is possible to construct malicious pickle data which will execute arbitrary code during unpickling (See https://github.com/pytorch/pytorch/blob/main/SECURITY.md#untrusted-models for more details). In a future release, the default value for `weights_only` will be flipped to `True`. This limits the functions that could be executed during unpickling. Arbitrary objects will no longer be allowed to be loaded via this mode unless they are explicitly allowlisted by the user via `torch.serialization.add_safe_globals`. We recommend you start setting `weights_only=True` for any use case where you don't have full control of the loaded file. Please open an issue on GitHub for any issues related to this experimental feature.\n",
      "\n"
     ]
    },
    {
     "name": "stdout",
     "output_type": "stream",
     "text": [
      "total 0.9807073954983923\n",
      "class 0 0.967741935483871\n",
      "class 1 0.9862385321100917\n",
      "                            0\n",
      "Accuracy               0.9807\n",
      "Recall       [0.9677, 0.9862]\n",
      "Specificity  [0.9862, 0.9677]\n",
      "Precision    [0.9677, 0.9862]\n",
      "F1 Score     [0.9677, 0.9862]\n",
      "9\n"
     ]
    },
    {
     "name": "stderr",
     "output_type": "stream",
     "text": [
      "  0%|          | 0/300 [00:00<?, ?it/s]"
     ]
    },
    {
     "name": "stdout",
     "output_type": "stream",
     "text": [
      "\n",
      "epoch 1: train average loss: 33.889 | acc: 63.57% (1782/2803)\n"
     ]
    },
    {
     "name": "stderr",
     "output_type": "stream",
     "text": [
      "  0%|          | 1/300 [00:00<02:15,  2.21it/s]"
     ]
    },
    {
     "name": "stdout",
     "output_type": "stream",
     "text": [
      "\n",
      "epoch 1: test average loss: 27.134 | acc: 29.90% (93/311)\n",
      "best test acc found\n",
      "\n",
      "epoch 2: train average loss: 27.564 | acc: 66.11% (1853/2803)\n"
     ]
    },
    {
     "name": "stderr",
     "output_type": "stream",
     "text": [
      "  1%|          | 2/300 [00:00<02:14,  2.22it/s]"
     ]
    },
    {
     "name": "stdout",
     "output_type": "stream",
     "text": [
      "\n",
      "epoch 2: test average loss: 22.339 | acc: 29.90% (93/311)\n",
      "EarlyStopping counter: 1/25 (best: 0.2990)\n",
      "\n",
      "epoch 3: train average loss: 24.073 | acc: 73.35% (2056/2803)\n"
     ]
    },
    {
     "name": "stderr",
     "output_type": "stream",
     "text": [
      "  1%|          | 3/300 [00:01<02:18,  2.15it/s]"
     ]
    },
    {
     "name": "stdout",
     "output_type": "stream",
     "text": [
      "\n",
      "epoch 3: test average loss: 22.090 | acc: 70.10% (218/311)\n",
      "best test acc found\n",
      "\n",
      "epoch 4: train average loss: 21.979 | acc: 78.42% (2198/2803)\n"
     ]
    },
    {
     "name": "stderr",
     "output_type": "stream",
     "text": [
      "  1%|▏         | 4/300 [00:01<02:16,  2.16it/s]"
     ]
    },
    {
     "name": "stdout",
     "output_type": "stream",
     "text": [
      "\n",
      "epoch 4: test average loss: 23.013 | acc: 70.10% (218/311)\n",
      "EarlyStopping counter: 1/25 (best: 0.7010)\n",
      "\n",
      "epoch 5: train average loss: 20.432 | acc: 83.20% (2332/2803)\n"
     ]
    },
    {
     "name": "stderr",
     "output_type": "stream",
     "text": [
      "  2%|▏         | 5/300 [00:02<02:16,  2.16it/s]"
     ]
    },
    {
     "name": "stdout",
     "output_type": "stream",
     "text": [
      "\n",
      "epoch 5: test average loss: 23.181 | acc: 70.10% (218/311)\n",
      "EarlyStopping counter: 2/25 (best: 0.7010)\n",
      "\n",
      "epoch 6: train average loss: 19.584 | acc: 87.19% (2444/2803)\n"
     ]
    },
    {
     "name": "stderr",
     "output_type": "stream",
     "text": [
      "  2%|▏         | 6/300 [00:02<02:14,  2.19it/s]"
     ]
    },
    {
     "name": "stdout",
     "output_type": "stream",
     "text": [
      "\n",
      "epoch 6: test average loss: 22.496 | acc: 69.45% (216/311)\n",
      "EarlyStopping counter: 3/25 (best: 0.7010)\n",
      "\n",
      "epoch 7: train average loss: 19.048 | acc: 88.62% (2484/2803)\n"
     ]
    },
    {
     "name": "stderr",
     "output_type": "stream",
     "text": [
      "  2%|▏         | 7/300 [00:03<02:15,  2.16it/s]"
     ]
    },
    {
     "name": "stdout",
     "output_type": "stream",
     "text": [
      "\n",
      "epoch 7: test average loss: 21.885 | acc: 80.71% (251/311)\n",
      "best test acc found\n",
      "\n",
      "epoch 8: train average loss: 18.640 | acc: 90.22% (2529/2803)\n"
     ]
    },
    {
     "name": "stderr",
     "output_type": "stream",
     "text": [
      "  3%|▎         | 8/300 [00:03<02:12,  2.20it/s]"
     ]
    },
    {
     "name": "stdout",
     "output_type": "stream",
     "text": [
      "\n",
      "epoch 8: test average loss: 20.074 | acc: 85.85% (267/311)\n",
      "best test acc found\n",
      "\n",
      "epoch 9: train average loss: 18.286 | acc: 91.01% (2551/2803)\n"
     ]
    },
    {
     "name": "stderr",
     "output_type": "stream",
     "text": [
      "  3%|▎         | 9/300 [00:04<02:09,  2.24it/s]"
     ]
    },
    {
     "name": "stdout",
     "output_type": "stream",
     "text": [
      "\n",
      "epoch 9: test average loss: 20.740 | acc: 94.86% (295/311)\n",
      "best test acc found\n",
      "\n",
      "epoch 10: train average loss: 17.279 | acc: 92.83% (2602/2803)\n"
     ]
    },
    {
     "name": "stderr",
     "output_type": "stream",
     "text": [
      "  3%|▎         | 10/300 [00:04<02:07,  2.27it/s]"
     ]
    },
    {
     "name": "stdout",
     "output_type": "stream",
     "text": [
      "\n",
      "epoch 10: test average loss: 20.499 | acc: 91.64% (285/311)\n",
      "EarlyStopping counter: 1/25 (best: 0.9486)\n",
      "\n",
      "epoch 11: train average loss: 16.966 | acc: 93.72% (2627/2803)\n"
     ]
    },
    {
     "name": "stderr",
     "output_type": "stream",
     "text": [
      "  4%|▎         | 11/300 [00:04<02:08,  2.25it/s]"
     ]
    },
    {
     "name": "stdout",
     "output_type": "stream",
     "text": [
      "\n",
      "epoch 11: test average loss: 21.026 | acc: 68.49% (213/311)\n",
      "EarlyStopping counter: 2/25 (best: 0.9486)\n",
      "\n",
      "epoch 12: train average loss: 16.411 | acc: 94.15% (2639/2803)\n"
     ]
    },
    {
     "name": "stderr",
     "output_type": "stream",
     "text": [
      "  4%|▍         | 12/300 [00:05<02:13,  2.16it/s]"
     ]
    },
    {
     "name": "stdout",
     "output_type": "stream",
     "text": [
      "\n",
      "epoch 12: test average loss: 19.584 | acc: 53.05% (165/311)\n",
      "EarlyStopping counter: 3/25 (best: 0.9486)\n",
      "\n",
      "epoch 13: train average loss: 16.222 | acc: 93.83% (2630/2803)\n"
     ]
    },
    {
     "name": "stderr",
     "output_type": "stream",
     "text": [
      "  4%|▍         | 13/300 [00:05<02:14,  2.14it/s]"
     ]
    },
    {
     "name": "stdout",
     "output_type": "stream",
     "text": [
      "\n",
      "epoch 13: test average loss: 19.841 | acc: 91.00% (283/311)\n",
      "EarlyStopping counter: 4/25 (best: 0.9486)\n",
      "\n",
      "epoch 14: train average loss: 15.227 | acc: 95.65% (2681/2803)\n"
     ]
    },
    {
     "name": "stderr",
     "output_type": "stream",
     "text": [
      "  5%|▍         | 14/300 [00:06<02:15,  2.11it/s]"
     ]
    },
    {
     "name": "stdout",
     "output_type": "stream",
     "text": [
      "\n",
      "epoch 14: test average loss: 20.039 | acc: 94.86% (295/311)\n",
      "EarlyStopping counter: 5/25 (best: 0.9486)\n",
      "\n",
      "epoch 15: train average loss: 15.012 | acc: 95.75% (2684/2803)\n"
     ]
    },
    {
     "name": "stderr",
     "output_type": "stream",
     "text": [
      "  5%|▌         | 15/300 [00:06<02:17,  2.07it/s]"
     ]
    },
    {
     "name": "stdout",
     "output_type": "stream",
     "text": [
      "\n",
      "epoch 15: test average loss: 19.909 | acc: 84.24% (262/311)\n",
      "EarlyStopping counter: 6/25 (best: 0.9486)\n",
      "\n",
      "epoch 16: train average loss: 15.155 | acc: 95.22% (2669/2803)\n"
     ]
    },
    {
     "name": "stderr",
     "output_type": "stream",
     "text": [
      "  5%|▌         | 16/300 [00:07<02:21,  2.00it/s]"
     ]
    },
    {
     "name": "stdout",
     "output_type": "stream",
     "text": [
      "\n",
      "epoch 16: test average loss: 20.135 | acc: 91.64% (285/311)\n",
      "EarlyStopping counter: 7/25 (best: 0.9486)\n",
      "\n",
      "epoch 17: train average loss: 14.747 | acc: 96.36% (2701/2803)\n"
     ]
    },
    {
     "name": "stderr",
     "output_type": "stream",
     "text": [
      "  6%|▌         | 17/300 [00:07<02:20,  2.02it/s]"
     ]
    },
    {
     "name": "stdout",
     "output_type": "stream",
     "text": [
      "\n",
      "epoch 17: test average loss: 22.441 | acc: 67.20% (209/311)\n",
      "EarlyStopping counter: 8/25 (best: 0.9486)\n",
      "\n",
      "epoch 18: train average loss: 14.082 | acc: 96.72% (2711/2803)\n"
     ]
    },
    {
     "name": "stderr",
     "output_type": "stream",
     "text": [
      "  6%|▌         | 18/300 [00:08<02:23,  1.97it/s]"
     ]
    },
    {
     "name": "stdout",
     "output_type": "stream",
     "text": [
      "\n",
      "epoch 18: test average loss: 18.641 | acc: 70.74% (220/311)\n",
      "EarlyStopping counter: 9/25 (best: 0.9486)\n",
      "\n",
      "epoch 19: train average loss: 13.797 | acc: 96.75% (2712/2803)\n"
     ]
    },
    {
     "name": "stderr",
     "output_type": "stream",
     "text": [
      "  6%|▋         | 19/300 [00:08<02:21,  1.99it/s]"
     ]
    },
    {
     "name": "stdout",
     "output_type": "stream",
     "text": [
      "\n",
      "epoch 19: test average loss: 20.704 | acc: 93.57% (291/311)\n",
      "EarlyStopping counter: 10/25 (best: 0.9486)\n",
      "\n",
      "epoch 20: train average loss: 13.891 | acc: 97.15% (2723/2803)\n"
     ]
    },
    {
     "name": "stderr",
     "output_type": "stream",
     "text": [
      "  7%|▋         | 20/300 [00:09<02:19,  2.01it/s]"
     ]
    },
    {
     "name": "stdout",
     "output_type": "stream",
     "text": [
      "\n",
      "epoch 20: test average loss: 19.693 | acc: 93.89% (292/311)\n",
      "EarlyStopping counter: 11/25 (best: 0.9486)\n",
      "\n",
      "epoch 21: train average loss: 13.332 | acc: 97.07% (2721/2803)\n"
     ]
    },
    {
     "name": "stderr",
     "output_type": "stream",
     "text": [
      "  7%|▋         | 21/300 [00:09<02:20,  1.99it/s]"
     ]
    },
    {
     "name": "stdout",
     "output_type": "stream",
     "text": [
      "\n",
      "epoch 21: test average loss: 18.771 | acc: 88.75% (276/311)\n",
      "EarlyStopping counter: 12/25 (best: 0.9486)\n",
      "\n",
      "epoch 22: train average loss: 12.603 | acc: 97.72% (2739/2803)\n"
     ]
    },
    {
     "name": "stderr",
     "output_type": "stream",
     "text": [
      "  7%|▋         | 22/300 [00:10<02:20,  1.98it/s]"
     ]
    },
    {
     "name": "stdout",
     "output_type": "stream",
     "text": [
      "\n",
      "epoch 22: test average loss: 18.743 | acc: 94.53% (294/311)\n",
      "EarlyStopping counter: 13/25 (best: 0.9486)\n",
      "\n",
      "epoch 23: train average loss: 11.931 | acc: 98.47% (2760/2803)\n"
     ]
    },
    {
     "name": "stderr",
     "output_type": "stream",
     "text": [
      "  8%|▊         | 23/300 [00:11<02:20,  1.97it/s]"
     ]
    },
    {
     "name": "stdout",
     "output_type": "stream",
     "text": [
      "\n",
      "epoch 23: test average loss: 20.582 | acc: 89.07% (277/311)\n",
      "EarlyStopping counter: 14/25 (best: 0.9486)\n",
      "\n",
      "epoch 24: train average loss: 11.525 | acc: 98.39% (2758/2803)\n"
     ]
    },
    {
     "name": "stderr",
     "output_type": "stream",
     "text": [
      "  8%|▊         | 24/300 [00:11<02:18,  2.00it/s]"
     ]
    },
    {
     "name": "stdout",
     "output_type": "stream",
     "text": [
      "\n",
      "epoch 24: test average loss: 20.023 | acc: 69.77% (217/311)\n",
      "EarlyStopping counter: 15/25 (best: 0.9486)\n",
      "\n",
      "epoch 25: train average loss: 11.011 | acc: 98.72% (2767/2803)\n"
     ]
    },
    {
     "name": "stderr",
     "output_type": "stream",
     "text": [
      "  8%|▊         | 25/300 [00:12<02:20,  1.96it/s]"
     ]
    },
    {
     "name": "stdout",
     "output_type": "stream",
     "text": [
      "\n",
      "epoch 25: test average loss: 20.221 | acc: 80.39% (250/311)\n",
      "EarlyStopping counter: 16/25 (best: 0.9486)\n",
      "\n",
      "epoch 26: train average loss: 11.353 | acc: 98.29% (2755/2803)\n"
     ]
    },
    {
     "name": "stderr",
     "output_type": "stream",
     "text": [
      "  9%|▊         | 26/300 [00:12<02:18,  1.98it/s]"
     ]
    },
    {
     "name": "stdout",
     "output_type": "stream",
     "text": [
      "\n",
      "epoch 26: test average loss: 18.720 | acc: 91.96% (286/311)\n",
      "EarlyStopping counter: 17/25 (best: 0.9486)\n",
      "\n",
      "epoch 27: train average loss: 11.761 | acc: 97.61% (2736/2803)\n"
     ]
    },
    {
     "name": "stderr",
     "output_type": "stream",
     "text": [
      "  9%|▉         | 27/300 [00:12<02:13,  2.04it/s]"
     ]
    },
    {
     "name": "stdout",
     "output_type": "stream",
     "text": [
      "\n",
      "epoch 27: test average loss: 18.934 | acc: 63.02% (196/311)\n",
      "EarlyStopping counter: 18/25 (best: 0.9486)\n",
      "\n",
      "epoch 28: train average loss: 11.229 | acc: 98.29% (2755/2803)\n"
     ]
    },
    {
     "name": "stderr",
     "output_type": "stream",
     "text": [
      "  9%|▉         | 28/300 [00:13<02:09,  2.10it/s]"
     ]
    },
    {
     "name": "stdout",
     "output_type": "stream",
     "text": [
      "\n",
      "epoch 28: test average loss: 17.381 | acc: 94.21% (293/311)\n",
      "EarlyStopping counter: 19/25 (best: 0.9486)\n",
      "\n",
      "epoch 29: train average loss: 10.897 | acc: 98.32% (2756/2803)\n"
     ]
    },
    {
     "name": "stderr",
     "output_type": "stream",
     "text": [
      " 10%|▉         | 29/300 [00:13<02:05,  2.15it/s]"
     ]
    },
    {
     "name": "stdout",
     "output_type": "stream",
     "text": [
      "\n",
      "epoch 29: test average loss: 18.319 | acc: 89.07% (277/311)\n",
      "EarlyStopping counter: 20/25 (best: 0.9486)\n",
      "\n",
      "epoch 30: train average loss: 11.133 | acc: 98.64% (2765/2803)\n"
     ]
    },
    {
     "name": "stderr",
     "output_type": "stream",
     "text": [
      " 10%|█         | 30/300 [00:14<02:02,  2.20it/s]"
     ]
    },
    {
     "name": "stdout",
     "output_type": "stream",
     "text": [
      "\n",
      "epoch 30: test average loss: 20.268 | acc: 89.39% (278/311)\n",
      "EarlyStopping counter: 21/25 (best: 0.9486)\n",
      "\n",
      "epoch 31: train average loss: 11.729 | acc: 98.57% (2763/2803)\n"
     ]
    },
    {
     "name": "stderr",
     "output_type": "stream",
     "text": [
      " 10%|█         | 31/300 [00:14<02:01,  2.21it/s]"
     ]
    },
    {
     "name": "stdout",
     "output_type": "stream",
     "text": [
      "\n",
      "epoch 31: test average loss: 18.188 | acc: 93.89% (292/311)\n",
      "EarlyStopping counter: 22/25 (best: 0.9486)\n",
      "\n",
      "epoch 32: train average loss: 10.816 | acc: 98.72% (2767/2803)\n"
     ]
    },
    {
     "name": "stderr",
     "output_type": "stream",
     "text": [
      " 11%|█         | 32/300 [00:15<02:03,  2.16it/s]"
     ]
    },
    {
     "name": "stdout",
     "output_type": "stream",
     "text": [
      "\n",
      "epoch 32: test average loss: 17.248 | acc: 95.50% (297/311)\n",
      "best test acc found\n",
      "\n",
      "epoch 33: train average loss: 10.526 | acc: 98.82% (2770/2803)\n"
     ]
    },
    {
     "name": "stderr",
     "output_type": "stream",
     "text": [
      " 11%|█         | 33/300 [00:15<02:02,  2.19it/s]"
     ]
    },
    {
     "name": "stdout",
     "output_type": "stream",
     "text": [
      "\n",
      "epoch 33: test average loss: 17.468 | acc: 87.14% (271/311)\n",
      "EarlyStopping counter: 1/25 (best: 0.9550)\n",
      "\n",
      "epoch 34: train average loss: 9.844 | acc: 99.22% (2781/2803)\n"
     ]
    },
    {
     "name": "stderr",
     "output_type": "stream",
     "text": [
      " 11%|█▏        | 34/300 [00:16<02:01,  2.19it/s]"
     ]
    },
    {
     "name": "stdout",
     "output_type": "stream",
     "text": [
      "\n",
      "epoch 34: test average loss: 17.815 | acc: 89.07% (277/311)\n",
      "EarlyStopping counter: 2/25 (best: 0.9550)\n",
      "\n",
      "epoch 35: train average loss: 9.270 | acc: 99.25% (2782/2803)\n"
     ]
    },
    {
     "name": "stderr",
     "output_type": "stream",
     "text": [
      " 12%|█▏        | 35/300 [00:16<02:00,  2.20it/s]"
     ]
    },
    {
     "name": "stdout",
     "output_type": "stream",
     "text": [
      "\n",
      "epoch 35: test average loss: 19.511 | acc: 91.64% (285/311)\n",
      "EarlyStopping counter: 3/25 (best: 0.9550)\n",
      "\n",
      "epoch 36: train average loss: 8.740 | acc: 99.32% (2784/2803)\n"
     ]
    },
    {
     "name": "stderr",
     "output_type": "stream",
     "text": [
      " 12%|█▏        | 36/300 [00:17<01:58,  2.23it/s]"
     ]
    },
    {
     "name": "stdout",
     "output_type": "stream",
     "text": [
      "\n",
      "epoch 36: test average loss: 17.446 | acc: 91.96% (286/311)\n",
      "EarlyStopping counter: 4/25 (best: 0.9550)\n",
      "\n",
      "epoch 37: train average loss: 8.938 | acc: 99.39% (2786/2803)\n"
     ]
    },
    {
     "name": "stderr",
     "output_type": "stream",
     "text": [
      " 12%|█▏        | 37/300 [00:17<01:57,  2.24it/s]"
     ]
    },
    {
     "name": "stdout",
     "output_type": "stream",
     "text": [
      "\n",
      "epoch 37: test average loss: 18.700 | acc: 96.14% (299/311)\n",
      "best test acc found\n",
      "\n",
      "epoch 38: train average loss: 8.453 | acc: 99.43% (2787/2803)\n"
     ]
    },
    {
     "name": "stderr",
     "output_type": "stream",
     "text": [
      " 13%|█▎        | 38/300 [00:17<01:57,  2.24it/s]"
     ]
    },
    {
     "name": "stdout",
     "output_type": "stream",
     "text": [
      "\n",
      "epoch 38: test average loss: 18.278 | acc: 95.82% (298/311)\n",
      "EarlyStopping counter: 1/25 (best: 0.9614)\n",
      "\n",
      "epoch 39: train average loss: 7.958 | acc: 99.61% (2792/2803)\n"
     ]
    },
    {
     "name": "stderr",
     "output_type": "stream",
     "text": [
      " 13%|█▎        | 39/300 [00:18<01:56,  2.24it/s]"
     ]
    },
    {
     "name": "stdout",
     "output_type": "stream",
     "text": [
      "\n",
      "epoch 39: test average loss: 19.117 | acc: 93.25% (290/311)\n",
      "EarlyStopping counter: 2/25 (best: 0.9614)\n",
      "\n",
      "epoch 40: train average loss: 7.757 | acc: 99.50% (2789/2803)\n"
     ]
    },
    {
     "name": "stderr",
     "output_type": "stream",
     "text": [
      " 13%|█▎        | 40/300 [00:18<01:58,  2.19it/s]"
     ]
    },
    {
     "name": "stdout",
     "output_type": "stream",
     "text": [
      "\n",
      "epoch 40: test average loss: 20.357 | acc: 97.11% (302/311)\n",
      "best test acc found\n",
      "\n",
      "epoch 41: train average loss: 7.440 | acc: 99.68% (2794/2803)\n"
     ]
    },
    {
     "name": "stderr",
     "output_type": "stream",
     "text": [
      " 14%|█▎        | 41/300 [00:19<02:02,  2.11it/s]"
     ]
    },
    {
     "name": "stdout",
     "output_type": "stream",
     "text": [
      "\n",
      "epoch 41: test average loss: 19.969 | acc: 97.43% (303/311)\n",
      "best test acc found\n",
      "\n",
      "epoch 42: train average loss: 7.005 | acc: 99.75% (2796/2803)\n"
     ]
    },
    {
     "name": "stderr",
     "output_type": "stream",
     "text": [
      " 14%|█▍        | 42/300 [00:19<02:03,  2.09it/s]"
     ]
    },
    {
     "name": "stdout",
     "output_type": "stream",
     "text": [
      "\n",
      "epoch 42: test average loss: 20.672 | acc: 92.60% (288/311)\n",
      "EarlyStopping counter: 1/25 (best: 0.9743)\n",
      "\n",
      "epoch 43: train average loss: 6.883 | acc: 99.75% (2796/2803)\n"
     ]
    },
    {
     "name": "stderr",
     "output_type": "stream",
     "text": [
      " 14%|█▍        | 43/300 [00:20<02:02,  2.09it/s]"
     ]
    },
    {
     "name": "stdout",
     "output_type": "stream",
     "text": [
      "\n",
      "epoch 43: test average loss: 19.896 | acc: 95.82% (298/311)\n",
      "EarlyStopping counter: 2/25 (best: 0.9743)\n",
      "\n",
      "epoch 44: train average loss: 6.682 | acc: 99.82% (2798/2803)\n"
     ]
    },
    {
     "name": "stderr",
     "output_type": "stream",
     "text": [
      " 15%|█▍        | 44/300 [00:20<02:04,  2.06it/s]"
     ]
    },
    {
     "name": "stdout",
     "output_type": "stream",
     "text": [
      "\n",
      "epoch 44: test average loss: 19.825 | acc: 95.82% (298/311)\n",
      "EarlyStopping counter: 3/25 (best: 0.9743)\n",
      "\n",
      "epoch 45: train average loss: 6.538 | acc: 99.89% (2800/2803)\n"
     ]
    },
    {
     "name": "stderr",
     "output_type": "stream",
     "text": [
      " 15%|█▌        | 45/300 [00:21<02:01,  2.10it/s]"
     ]
    },
    {
     "name": "stdout",
     "output_type": "stream",
     "text": [
      "\n",
      "epoch 45: test average loss: 19.525 | acc: 95.82% (298/311)\n",
      "EarlyStopping counter: 4/25 (best: 0.9743)\n",
      "\n",
      "epoch 46: train average loss: 6.343 | acc: 99.89% (2800/2803)\n"
     ]
    },
    {
     "name": "stderr",
     "output_type": "stream",
     "text": [
      " 15%|█▌        | 46/300 [00:21<01:59,  2.13it/s]"
     ]
    },
    {
     "name": "stdout",
     "output_type": "stream",
     "text": [
      "\n",
      "epoch 46: test average loss: 20.998 | acc: 96.46% (300/311)\n",
      "EarlyStopping counter: 5/25 (best: 0.9743)\n",
      "\n",
      "epoch 47: train average loss: 6.003 | acc: 100.00% (2803/2803)\n"
     ]
    },
    {
     "name": "stderr",
     "output_type": "stream",
     "text": [
      " 16%|█▌        | 47/300 [00:22<01:58,  2.14it/s]"
     ]
    },
    {
     "name": "stdout",
     "output_type": "stream",
     "text": [
      "\n",
      "epoch 47: test average loss: 19.932 | acc: 96.14% (299/311)\n",
      "EarlyStopping counter: 6/25 (best: 0.9743)\n",
      "\n",
      "epoch 48: train average loss: 5.848 | acc: 99.93% (2801/2803)\n"
     ]
    },
    {
     "name": "stderr",
     "output_type": "stream",
     "text": [
      " 16%|█▌        | 48/300 [00:22<01:58,  2.12it/s]"
     ]
    },
    {
     "name": "stdout",
     "output_type": "stream",
     "text": [
      "\n",
      "epoch 48: test average loss: 21.188 | acc: 97.11% (302/311)\n",
      "EarlyStopping counter: 7/25 (best: 0.9743)\n",
      "\n",
      "epoch 49: train average loss: 5.846 | acc: 99.75% (2796/2803)\n"
     ]
    },
    {
     "name": "stderr",
     "output_type": "stream",
     "text": [
      " 16%|█▋        | 49/300 [00:23<02:00,  2.09it/s]"
     ]
    },
    {
     "name": "stdout",
     "output_type": "stream",
     "text": [
      "\n",
      "epoch 49: test average loss: 20.690 | acc: 96.46% (300/311)\n",
      "EarlyStopping counter: 8/25 (best: 0.9743)\n",
      "\n",
      "epoch 50: train average loss: 5.422 | acc: 99.86% (2799/2803)\n"
     ]
    },
    {
     "name": "stderr",
     "output_type": "stream",
     "text": [
      " 17%|█▋        | 50/300 [00:23<02:04,  2.01it/s]"
     ]
    },
    {
     "name": "stdout",
     "output_type": "stream",
     "text": [
      "\n",
      "epoch 50: test average loss: 21.356 | acc: 96.78% (301/311)\n",
      "EarlyStopping counter: 9/25 (best: 0.9743)\n",
      "\n",
      "epoch 51: train average loss: 5.347 | acc: 100.00% (2803/2803)\n"
     ]
    },
    {
     "name": "stderr",
     "output_type": "stream",
     "text": [
      " 17%|█▋        | 51/300 [00:24<02:00,  2.07it/s]"
     ]
    },
    {
     "name": "stdout",
     "output_type": "stream",
     "text": [
      "\n",
      "epoch 51: test average loss: 21.659 | acc: 96.46% (300/311)\n",
      "EarlyStopping counter: 10/25 (best: 0.9743)\n",
      "\n",
      "epoch 52: train average loss: 5.215 | acc: 99.89% (2800/2803)\n"
     ]
    },
    {
     "name": "stderr",
     "output_type": "stream",
     "text": [
      " 17%|█▋        | 52/300 [00:24<01:59,  2.07it/s]"
     ]
    },
    {
     "name": "stdout",
     "output_type": "stream",
     "text": [
      "\n",
      "epoch 52: test average loss: 21.461 | acc: 96.14% (299/311)\n",
      "EarlyStopping counter: 11/25 (best: 0.9743)\n",
      "\n",
      "epoch 53: train average loss: 5.333 | acc: 99.71% (2795/2803)\n"
     ]
    },
    {
     "name": "stderr",
     "output_type": "stream",
     "text": [
      " 18%|█▊        | 53/300 [00:25<01:56,  2.12it/s]"
     ]
    },
    {
     "name": "stdout",
     "output_type": "stream",
     "text": [
      "\n",
      "epoch 53: test average loss: 21.466 | acc: 96.14% (299/311)\n",
      "EarlyStopping counter: 12/25 (best: 0.9743)\n",
      "\n",
      "epoch 54: train average loss: 5.495 | acc: 99.68% (2794/2803)\n"
     ]
    },
    {
     "name": "stderr",
     "output_type": "stream",
     "text": [
      " 18%|█▊        | 54/300 [00:25<01:52,  2.18it/s]"
     ]
    },
    {
     "name": "stdout",
     "output_type": "stream",
     "text": [
      "\n",
      "epoch 54: test average loss: 21.437 | acc: 96.78% (301/311)\n",
      "EarlyStopping counter: 13/25 (best: 0.9743)\n",
      "\n",
      "epoch 55: train average loss: 5.336 | acc: 99.82% (2798/2803)\n"
     ]
    },
    {
     "name": "stderr",
     "output_type": "stream",
     "text": [
      " 18%|█▊        | 55/300 [00:25<01:48,  2.25it/s]"
     ]
    },
    {
     "name": "stdout",
     "output_type": "stream",
     "text": [
      "\n",
      "epoch 55: test average loss: 21.230 | acc: 96.78% (301/311)\n",
      "EarlyStopping counter: 14/25 (best: 0.9743)\n",
      "\n",
      "epoch 56: train average loss: 5.295 | acc: 99.89% (2800/2803)\n"
     ]
    },
    {
     "name": "stderr",
     "output_type": "stream",
     "text": [
      " 19%|█▊        | 56/300 [00:26<01:45,  2.31it/s]"
     ]
    },
    {
     "name": "stdout",
     "output_type": "stream",
     "text": [
      "\n",
      "epoch 56: test average loss: 21.279 | acc: 96.78% (301/311)\n",
      "EarlyStopping counter: 15/25 (best: 0.9743)\n",
      "\n",
      "epoch 57: train average loss: 5.165 | acc: 99.89% (2800/2803)\n"
     ]
    },
    {
     "name": "stderr",
     "output_type": "stream",
     "text": [
      " 19%|█▉        | 57/300 [00:26<01:42,  2.37it/s]"
     ]
    },
    {
     "name": "stdout",
     "output_type": "stream",
     "text": [
      "\n",
      "epoch 57: test average loss: 21.473 | acc: 96.46% (300/311)\n",
      "EarlyStopping counter: 16/25 (best: 0.9743)\n",
      "\n",
      "epoch 58: train average loss: 5.195 | acc: 99.93% (2801/2803)\n"
     ]
    },
    {
     "name": "stderr",
     "output_type": "stream",
     "text": [
      " 19%|█▉        | 58/300 [00:27<01:40,  2.41it/s]"
     ]
    },
    {
     "name": "stdout",
     "output_type": "stream",
     "text": [
      "\n",
      "epoch 58: test average loss: 21.501 | acc: 96.46% (300/311)\n",
      "EarlyStopping counter: 17/25 (best: 0.9743)\n",
      "\n",
      "epoch 59: train average loss: 5.111 | acc: 99.96% (2802/2803)\n"
     ]
    },
    {
     "name": "stderr",
     "output_type": "stream",
     "text": [
      " 20%|█▉        | 59/300 [00:27<01:40,  2.40it/s]"
     ]
    },
    {
     "name": "stdout",
     "output_type": "stream",
     "text": [
      "\n",
      "epoch 59: test average loss: 21.491 | acc: 96.46% (300/311)\n",
      "EarlyStopping counter: 18/25 (best: 0.9743)\n",
      "\n",
      "epoch 60: train average loss: 5.042 | acc: 99.89% (2800/2803)\n"
     ]
    },
    {
     "name": "stderr",
     "output_type": "stream",
     "text": [
      " 20%|██        | 60/300 [00:28<01:42,  2.34it/s]"
     ]
    },
    {
     "name": "stdout",
     "output_type": "stream",
     "text": [
      "\n",
      "epoch 60: test average loss: 21.465 | acc: 96.46% (300/311)\n",
      "EarlyStopping counter: 19/25 (best: 0.9743)\n",
      "\n",
      "epoch 61: train average loss: 5.091 | acc: 99.89% (2800/2803)\n"
     ]
    },
    {
     "name": "stderr",
     "output_type": "stream",
     "text": [
      " 20%|██        | 61/300 [00:28<01:43,  2.32it/s]"
     ]
    },
    {
     "name": "stdout",
     "output_type": "stream",
     "text": [
      "\n",
      "epoch 61: test average loss: 21.463 | acc: 96.46% (300/311)\n",
      "EarlyStopping counter: 20/25 (best: 0.9743)\n",
      "\n",
      "epoch 62: train average loss: 5.255 | acc: 99.86% (2799/2803)\n"
     ]
    },
    {
     "name": "stderr",
     "output_type": "stream",
     "text": [
      " 21%|██        | 62/300 [00:28<01:43,  2.29it/s]"
     ]
    },
    {
     "name": "stdout",
     "output_type": "stream",
     "text": [
      "\n",
      "epoch 62: test average loss: 21.439 | acc: 96.46% (300/311)\n",
      "EarlyStopping counter: 21/25 (best: 0.9743)\n",
      "\n",
      "epoch 63: train average loss: 5.031 | acc: 99.93% (2801/2803)\n"
     ]
    },
    {
     "name": "stderr",
     "output_type": "stream",
     "text": [
      " 21%|██        | 63/300 [00:29<01:45,  2.25it/s]"
     ]
    },
    {
     "name": "stdout",
     "output_type": "stream",
     "text": [
      "\n",
      "epoch 63: test average loss: 21.472 | acc: 96.14% (299/311)\n",
      "EarlyStopping counter: 22/25 (best: 0.9743)\n",
      "\n",
      "epoch 64: train average loss: 5.179 | acc: 99.82% (2798/2803)\n"
     ]
    },
    {
     "name": "stderr",
     "output_type": "stream",
     "text": [
      " 21%|██▏       | 64/300 [00:29<01:50,  2.14it/s]"
     ]
    },
    {
     "name": "stdout",
     "output_type": "stream",
     "text": [
      "\n",
      "epoch 64: test average loss: 21.531 | acc: 96.46% (300/311)\n",
      "EarlyStopping counter: 23/25 (best: 0.9743)\n",
      "\n",
      "epoch 65: train average loss: 5.083 | acc: 99.96% (2802/2803)\n"
     ]
    },
    {
     "name": "stderr",
     "output_type": "stream",
     "text": [
      " 22%|██▏       | 65/300 [00:30<01:49,  2.14it/s]"
     ]
    },
    {
     "name": "stdout",
     "output_type": "stream",
     "text": [
      "\n",
      "epoch 65: test average loss: 21.566 | acc: 96.46% (300/311)\n",
      "EarlyStopping counter: 24/25 (best: 0.9743)\n",
      "\n",
      "epoch 66: train average loss: 5.117 | acc: 99.96% (2802/2803)\n"
     ]
    },
    {
     "name": "stderr",
     "output_type": "stream",
     "text": [
      " 22%|██▏       | 65/300 [00:30<01:51,  2.11it/s]"
     ]
    },
    {
     "name": "stdout",
     "output_type": "stream",
     "text": [
      "\n",
      "epoch 66: test average loss: 21.432 | acc: 96.78% (301/311)\n",
      "EarlyStopping counter: 25/25 (best: 0.9743)\n",
      "🔴 Early stopping triggered\n",
      "load model at epoch 41, with test acc : 0.974\n"
     ]
    },
    {
     "name": "stderr",
     "output_type": "stream",
     "text": [
      "\n",
      "/tmp/ipykernel_2950649/1054042983.py:175: FutureWarning:\n",
      "\n",
      "You are using `torch.load` with `weights_only=False` (the current default value), which uses the default pickle module implicitly. It is possible to construct malicious pickle data which will execute arbitrary code during unpickling (See https://github.com/pytorch/pytorch/blob/main/SECURITY.md#untrusted-models for more details). In a future release, the default value for `weights_only` will be flipped to `True`. This limits the functions that could be executed during unpickling. Arbitrary objects will no longer be allowed to be loaded via this mode unless they are explicitly allowlisted by the user via `torch.serialization.add_safe_globals`. We recommend you start setting `weights_only=True` for any use case where you don't have full control of the loaded file. Please open an issue on GitHub for any issues related to this experimental feature.\n",
      "\n"
     ]
    },
    {
     "name": "stdout",
     "output_type": "stream",
     "text": [
      "total 0.9742765273311897\n",
      "class 0 0.967741935483871\n",
      "class 1 0.9770642201834863\n",
      "Train t-SNE interactive HTML saved to variant_lenet_low_test_accuracy_combined_train.html\n",
      "Test t-SNE interactive HTML saved to variant_lenet_low_test_accuracy_combined_test.html\n",
      "                            0\n",
      "Accuracy               0.9743\n",
      "Recall       [0.9677, 0.9771]\n",
      "Specificity  [0.9771, 0.9677]\n",
      "Precision    [0.9474, 0.9861]\n",
      "F1 Score     [0.9574, 0.9816]\n",
      "10\n"
     ]
    },
    {
     "name": "stderr",
     "output_type": "stream",
     "text": [
      "  0%|          | 0/300 [00:00<?, ?it/s]"
     ]
    },
    {
     "name": "stdout",
     "output_type": "stream",
     "text": [
      "\n",
      "epoch 1: train average loss: 32.037 | acc: 65.32% (1831/2803)\n"
     ]
    },
    {
     "name": "stderr",
     "output_type": "stream",
     "text": [
      "  0%|          | 1/300 [00:00<02:06,  2.37it/s]"
     ]
    },
    {
     "name": "stdout",
     "output_type": "stream",
     "text": [
      "\n",
      "epoch 1: test average loss: 24.909 | acc: 29.90% (93/311)\n",
      "best test acc found\n",
      "\n",
      "epoch 2: train average loss: 26.211 | acc: 68.46% (1919/2803)\n"
     ]
    },
    {
     "name": "stderr",
     "output_type": "stream",
     "text": [
      "  1%|          | 2/300 [00:00<02:04,  2.39it/s]"
     ]
    },
    {
     "name": "stdout",
     "output_type": "stream",
     "text": [
      "\n",
      "epoch 2: test average loss: 21.399 | acc: 29.90% (93/311)\n",
      "EarlyStopping counter: 1/25 (best: 0.2990)\n",
      "\n",
      "epoch 3: train average loss: 23.409 | acc: 75.13% (2106/2803)\n"
     ]
    },
    {
     "name": "stderr",
     "output_type": "stream",
     "text": [
      "  1%|          | 3/300 [00:01<02:08,  2.32it/s]"
     ]
    },
    {
     "name": "stdout",
     "output_type": "stream",
     "text": [
      "\n",
      "epoch 3: test average loss: 22.164 | acc: 70.10% (218/311)\n",
      "best test acc found\n",
      "\n",
      "epoch 4: train average loss: 21.688 | acc: 78.31% (2195/2803)\n"
     ]
    },
    {
     "name": "stderr",
     "output_type": "stream",
     "text": [
      "  1%|▏         | 4/300 [00:01<02:06,  2.34it/s]"
     ]
    },
    {
     "name": "stdout",
     "output_type": "stream",
     "text": [
      "\n",
      "epoch 4: test average loss: 23.252 | acc: 70.10% (218/311)\n",
      "EarlyStopping counter: 1/25 (best: 0.7010)\n",
      "\n",
      "epoch 5: train average loss: 20.556 | acc: 82.38% (2309/2803)\n"
     ]
    },
    {
     "name": "stderr",
     "output_type": "stream",
     "text": [
      "  2%|▏         | 5/300 [00:02<02:04,  2.36it/s]"
     ]
    },
    {
     "name": "stdout",
     "output_type": "stream",
     "text": [
      "\n",
      "epoch 5: test average loss: 23.554 | acc: 70.10% (218/311)\n",
      "EarlyStopping counter: 2/25 (best: 0.7010)\n",
      "\n",
      "epoch 6: train average loss: 19.664 | acc: 87.55% (2454/2803)\n"
     ]
    },
    {
     "name": "stderr",
     "output_type": "stream",
     "text": [
      "  2%|▏         | 6/300 [00:02<02:04,  2.36it/s]"
     ]
    },
    {
     "name": "stdout",
     "output_type": "stream",
     "text": [
      "\n",
      "epoch 6: test average loss: 23.403 | acc: 70.10% (218/311)\n",
      "EarlyStopping counter: 3/25 (best: 0.7010)\n",
      "\n",
      "epoch 7: train average loss: 19.237 | acc: 89.26% (2502/2803)\n"
     ]
    },
    {
     "name": "stderr",
     "output_type": "stream",
     "text": [
      "  2%|▏         | 7/300 [00:02<02:04,  2.35it/s]"
     ]
    },
    {
     "name": "stdout",
     "output_type": "stream",
     "text": [
      "\n",
      "epoch 7: test average loss: 22.291 | acc: 83.60% (260/311)\n",
      "best test acc found\n",
      "\n",
      "epoch 8: train average loss: 18.480 | acc: 91.51% (2565/2803)\n"
     ]
    },
    {
     "name": "stderr",
     "output_type": "stream",
     "text": [
      "  3%|▎         | 8/300 [00:03<02:06,  2.32it/s]"
     ]
    },
    {
     "name": "stdout",
     "output_type": "stream",
     "text": [
      "\n",
      "epoch 8: test average loss: 21.240 | acc: 91.96% (286/311)\n",
      "best test acc found\n",
      "\n",
      "epoch 9: train average loss: 18.113 | acc: 91.01% (2551/2803)\n"
     ]
    },
    {
     "name": "stderr",
     "output_type": "stream",
     "text": [
      "  3%|▎         | 9/300 [00:03<02:09,  2.26it/s]"
     ]
    },
    {
     "name": "stdout",
     "output_type": "stream",
     "text": [
      "\n",
      "epoch 9: test average loss: 19.750 | acc: 87.46% (272/311)\n",
      "EarlyStopping counter: 1/25 (best: 0.9196)\n",
      "\n",
      "epoch 10: train average loss: 17.704 | acc: 91.62% (2568/2803)\n"
     ]
    },
    {
     "name": "stderr",
     "output_type": "stream",
     "text": [
      "  3%|▎         | 10/300 [00:04<02:09,  2.24it/s]"
     ]
    },
    {
     "name": "stdout",
     "output_type": "stream",
     "text": [
      "\n",
      "epoch 10: test average loss: 19.254 | acc: 85.53% (266/311)\n",
      "EarlyStopping counter: 2/25 (best: 0.9196)\n",
      "\n",
      "epoch 11: train average loss: 17.379 | acc: 93.29% (2615/2803)\n"
     ]
    },
    {
     "name": "stderr",
     "output_type": "stream",
     "text": [
      "  4%|▎         | 11/300 [00:04<02:10,  2.22it/s]"
     ]
    },
    {
     "name": "stdout",
     "output_type": "stream",
     "text": [
      "\n",
      "epoch 11: test average loss: 20.406 | acc: 93.57% (291/311)\n",
      "best test acc found\n",
      "\n",
      "epoch 12: train average loss: 17.042 | acc: 92.90% (2604/2803)\n"
     ]
    },
    {
     "name": "stderr",
     "output_type": "stream",
     "text": [
      "  4%|▍         | 12/300 [00:05<02:11,  2.19it/s]"
     ]
    },
    {
     "name": "stdout",
     "output_type": "stream",
     "text": [
      "\n",
      "epoch 12: test average loss: 20.656 | acc: 91.64% (285/311)\n",
      "EarlyStopping counter: 1/25 (best: 0.9357)\n",
      "\n",
      "epoch 13: train average loss: 16.602 | acc: 94.47% (2648/2803)\n"
     ]
    },
    {
     "name": "stderr",
     "output_type": "stream",
     "text": [
      "  4%|▍         | 13/300 [00:05<02:11,  2.19it/s]"
     ]
    },
    {
     "name": "stdout",
     "output_type": "stream",
     "text": [
      "\n",
      "epoch 13: test average loss: 18.502 | acc: 94.21% (293/311)\n",
      "best test acc found\n",
      "\n",
      "epoch 14: train average loss: 15.726 | acc: 95.86% (2687/2803)\n"
     ]
    },
    {
     "name": "stderr",
     "output_type": "stream",
     "text": [
      "  5%|▍         | 14/300 [00:06<02:07,  2.23it/s]"
     ]
    },
    {
     "name": "stdout",
     "output_type": "stream",
     "text": [
      "\n",
      "epoch 14: test average loss: 18.689 | acc: 88.42% (275/311)\n",
      "EarlyStopping counter: 1/25 (best: 0.9421)\n",
      "\n",
      "epoch 15: train average loss: 15.329 | acc: 95.01% (2663/2803)\n"
     ]
    },
    {
     "name": "stderr",
     "output_type": "stream",
     "text": [
      "  5%|▌         | 15/300 [00:06<02:06,  2.25it/s]"
     ]
    },
    {
     "name": "stdout",
     "output_type": "stream",
     "text": [
      "\n",
      "epoch 15: test average loss: 18.861 | acc: 96.14% (299/311)\n",
      "best test acc found\n",
      "\n",
      "epoch 16: train average loss: 15.840 | acc: 94.29% (2643/2803)\n"
     ]
    },
    {
     "name": "stderr",
     "output_type": "stream",
     "text": [
      "  5%|▌         | 16/300 [00:07<02:05,  2.26it/s]"
     ]
    },
    {
     "name": "stdout",
     "output_type": "stream",
     "text": [
      "\n",
      "epoch 16: test average loss: 19.033 | acc: 93.25% (290/311)\n",
      "EarlyStopping counter: 1/25 (best: 0.9614)\n",
      "\n",
      "epoch 17: train average loss: 15.760 | acc: 94.29% (2643/2803)\n"
     ]
    },
    {
     "name": "stderr",
     "output_type": "stream",
     "text": [
      "  6%|▌         | 17/300 [00:07<02:04,  2.26it/s]"
     ]
    },
    {
     "name": "stdout",
     "output_type": "stream",
     "text": [
      "\n",
      "epoch 17: test average loss: 17.241 | acc: 91.32% (284/311)\n",
      "EarlyStopping counter: 2/25 (best: 0.9614)\n",
      "\n",
      "epoch 18: train average loss: 15.291 | acc: 94.93% (2661/2803)\n"
     ]
    },
    {
     "name": "stderr",
     "output_type": "stream",
     "text": [
      "  6%|▌         | 18/300 [00:07<02:05,  2.25it/s]"
     ]
    },
    {
     "name": "stdout",
     "output_type": "stream",
     "text": [
      "\n",
      "epoch 18: test average loss: 18.134 | acc: 75.56% (235/311)\n",
      "EarlyStopping counter: 3/25 (best: 0.9614)\n",
      "\n",
      "epoch 19: train average loss: 14.721 | acc: 96.33% (2700/2803)\n"
     ]
    },
    {
     "name": "stderr",
     "output_type": "stream",
     "text": [
      "  6%|▋         | 19/300 [00:08<02:04,  2.25it/s]"
     ]
    },
    {
     "name": "stdout",
     "output_type": "stream",
     "text": [
      "\n",
      "epoch 19: test average loss: 17.741 | acc: 95.18% (296/311)\n",
      "EarlyStopping counter: 4/25 (best: 0.9614)\n",
      "\n",
      "epoch 20: train average loss: 14.325 | acc: 96.22% (2697/2803)\n"
     ]
    },
    {
     "name": "stderr",
     "output_type": "stream",
     "text": [
      "  7%|▋         | 20/300 [00:08<02:05,  2.24it/s]"
     ]
    },
    {
     "name": "stdout",
     "output_type": "stream",
     "text": [
      "\n",
      "epoch 20: test average loss: 19.620 | acc: 95.50% (297/311)\n",
      "EarlyStopping counter: 5/25 (best: 0.9614)\n",
      "\n",
      "epoch 21: train average loss: 13.728 | acc: 96.79% (2713/2803)\n"
     ]
    },
    {
     "name": "stderr",
     "output_type": "stream",
     "text": [
      "  7%|▋         | 21/300 [00:09<02:05,  2.23it/s]"
     ]
    },
    {
     "name": "stdout",
     "output_type": "stream",
     "text": [
      "\n",
      "epoch 21: test average loss: 20.799 | acc: 93.57% (291/311)\n",
      "EarlyStopping counter: 6/25 (best: 0.9614)\n",
      "\n",
      "epoch 22: train average loss: 13.192 | acc: 97.82% (2742/2803)\n"
     ]
    },
    {
     "name": "stderr",
     "output_type": "stream",
     "text": [
      "  7%|▋         | 22/300 [00:09<02:01,  2.28it/s]"
     ]
    },
    {
     "name": "stdout",
     "output_type": "stream",
     "text": [
      "\n",
      "epoch 22: test average loss: 17.211 | acc: 91.96% (286/311)\n",
      "EarlyStopping counter: 7/25 (best: 0.9614)\n",
      "\n",
      "epoch 23: train average loss: 13.121 | acc: 97.15% (2723/2803)\n"
     ]
    },
    {
     "name": "stderr",
     "output_type": "stream",
     "text": [
      "  8%|▊         | 23/300 [00:10<01:59,  2.32it/s]"
     ]
    },
    {
     "name": "stdout",
     "output_type": "stream",
     "text": [
      "\n",
      "epoch 23: test average loss: 21.753 | acc: 92.93% (289/311)\n",
      "EarlyStopping counter: 8/25 (best: 0.9614)\n",
      "\n",
      "epoch 24: train average loss: 12.987 | acc: 97.00% (2719/2803)\n"
     ]
    },
    {
     "name": "stderr",
     "output_type": "stream",
     "text": [
      "  8%|▊         | 24/300 [00:10<01:58,  2.32it/s]"
     ]
    },
    {
     "name": "stdout",
     "output_type": "stream",
     "text": [
      "\n",
      "epoch 24: test average loss: 17.610 | acc: 93.57% (291/311)\n",
      "EarlyStopping counter: 9/25 (best: 0.9614)\n",
      "\n",
      "epoch 25: train average loss: 12.409 | acc: 97.50% (2733/2803)\n"
     ]
    },
    {
     "name": "stderr",
     "output_type": "stream",
     "text": [
      "  8%|▊         | 25/300 [00:10<01:57,  2.33it/s]"
     ]
    },
    {
     "name": "stdout",
     "output_type": "stream",
     "text": [
      "\n",
      "epoch 25: test average loss: 15.498 | acc: 96.78% (301/311)\n",
      "best test acc found\n",
      "\n",
      "epoch 26: train average loss: 11.946 | acc: 98.14% (2751/2803)\n"
     ]
    },
    {
     "name": "stderr",
     "output_type": "stream",
     "text": [
      "  9%|▊         | 26/300 [00:11<01:56,  2.35it/s]"
     ]
    },
    {
     "name": "stdout",
     "output_type": "stream",
     "text": [
      "\n",
      "epoch 26: test average loss: 15.356 | acc: 79.74% (248/311)\n",
      "EarlyStopping counter: 1/25 (best: 0.9678)\n",
      "\n",
      "epoch 27: train average loss: 11.745 | acc: 97.90% (2744/2803)\n"
     ]
    },
    {
     "name": "stderr",
     "output_type": "stream",
     "text": [
      "  9%|▉         | 27/300 [00:11<01:55,  2.37it/s]"
     ]
    },
    {
     "name": "stdout",
     "output_type": "stream",
     "text": [
      "\n",
      "epoch 27: test average loss: 16.477 | acc: 91.00% (283/311)\n",
      "EarlyStopping counter: 2/25 (best: 0.9678)\n",
      "\n",
      "epoch 28: train average loss: 11.923 | acc: 97.40% (2730/2803)\n"
     ]
    },
    {
     "name": "stderr",
     "output_type": "stream",
     "text": [
      "  9%|▉         | 28/300 [00:12<01:54,  2.38it/s]"
     ]
    },
    {
     "name": "stdout",
     "output_type": "stream",
     "text": [
      "\n",
      "epoch 28: test average loss: 20.580 | acc: 94.21% (293/311)\n",
      "EarlyStopping counter: 3/25 (best: 0.9678)\n",
      "\n",
      "epoch 29: train average loss: 11.324 | acc: 98.47% (2760/2803)\n"
     ]
    },
    {
     "name": "stderr",
     "output_type": "stream",
     "text": [
      " 10%|▉         | 29/300 [00:12<01:54,  2.36it/s]"
     ]
    },
    {
     "name": "stdout",
     "output_type": "stream",
     "text": [
      "\n",
      "epoch 29: test average loss: 19.736 | acc: 95.82% (298/311)\n",
      "EarlyStopping counter: 4/25 (best: 0.9678)\n",
      "\n",
      "epoch 30: train average loss: 11.295 | acc: 98.22% (2753/2803)\n"
     ]
    },
    {
     "name": "stderr",
     "output_type": "stream",
     "text": [
      " 10%|█         | 30/300 [00:13<01:56,  2.33it/s]"
     ]
    },
    {
     "name": "stdout",
     "output_type": "stream",
     "text": [
      "\n",
      "epoch 30: test average loss: 17.524 | acc: 96.78% (301/311)\n",
      "EarlyStopping counter: 5/25 (best: 0.9678)\n",
      "\n",
      "epoch 31: train average loss: 11.272 | acc: 98.61% (2764/2803)\n"
     ]
    },
    {
     "name": "stderr",
     "output_type": "stream",
     "text": [
      " 10%|█         | 31/300 [00:13<01:56,  2.31it/s]"
     ]
    },
    {
     "name": "stdout",
     "output_type": "stream",
     "text": [
      "\n",
      "epoch 31: test average loss: 15.226 | acc: 86.50% (269/311)\n",
      "EarlyStopping counter: 6/25 (best: 0.9678)\n",
      "\n",
      "epoch 32: train average loss: 10.433 | acc: 99.07% (2777/2803)\n"
     ]
    },
    {
     "name": "stderr",
     "output_type": "stream",
     "text": [
      " 11%|█         | 32/300 [00:13<01:59,  2.25it/s]"
     ]
    },
    {
     "name": "stdout",
     "output_type": "stream",
     "text": [
      "\n",
      "epoch 32: test average loss: 15.053 | acc: 99.36% (309/311)\n",
      "best test acc found\n",
      "\n",
      "epoch 33: train average loss: 10.362 | acc: 98.93% (2773/2803)\n"
     ]
    },
    {
     "name": "stderr",
     "output_type": "stream",
     "text": [
      " 11%|█         | 33/300 [00:14<02:00,  2.21it/s]"
     ]
    },
    {
     "name": "stdout",
     "output_type": "stream",
     "text": [
      "\n",
      "epoch 33: test average loss: 14.453 | acc: 98.71% (307/311)\n",
      "EarlyStopping counter: 1/25 (best: 0.9936)\n",
      "\n",
      "epoch 34: train average loss: 10.061 | acc: 99.04% (2776/2803)\n"
     ]
    },
    {
     "name": "stderr",
     "output_type": "stream",
     "text": [
      " 11%|█▏        | 34/300 [00:14<02:01,  2.19it/s]"
     ]
    },
    {
     "name": "stdout",
     "output_type": "stream",
     "text": [
      "\n",
      "epoch 34: test average loss: 12.419 | acc: 91.00% (283/311)\n",
      "EarlyStopping counter: 2/25 (best: 0.9936)\n",
      "\n",
      "epoch 35: train average loss: 9.672 | acc: 99.32% (2784/2803)\n"
     ]
    },
    {
     "name": "stderr",
     "output_type": "stream",
     "text": [
      " 12%|█▏        | 35/300 [00:15<01:59,  2.21it/s]"
     ]
    },
    {
     "name": "stdout",
     "output_type": "stream",
     "text": [
      "\n",
      "epoch 35: test average loss: 14.277 | acc: 98.07% (305/311)\n",
      "EarlyStopping counter: 3/25 (best: 0.9936)\n",
      "\n",
      "epoch 36: train average loss: 9.394 | acc: 98.82% (2770/2803)\n"
     ]
    },
    {
     "name": "stderr",
     "output_type": "stream",
     "text": [
      " 12%|█▏        | 36/300 [00:15<01:59,  2.22it/s]"
     ]
    },
    {
     "name": "stdout",
     "output_type": "stream",
     "text": [
      "\n",
      "epoch 36: test average loss: 15.918 | acc: 98.71% (307/311)\n",
      "EarlyStopping counter: 4/25 (best: 0.9936)\n",
      "\n",
      "epoch 37: train average loss: 9.403 | acc: 99.46% (2788/2803)\n"
     ]
    },
    {
     "name": "stderr",
     "output_type": "stream",
     "text": [
      " 12%|█▏        | 37/300 [00:16<02:00,  2.19it/s]"
     ]
    },
    {
     "name": "stdout",
     "output_type": "stream",
     "text": [
      "\n",
      "epoch 37: test average loss: 14.993 | acc: 94.53% (294/311)\n",
      "EarlyStopping counter: 5/25 (best: 0.9936)\n",
      "\n",
      "epoch 38: train average loss: 9.100 | acc: 99.50% (2789/2803)\n"
     ]
    },
    {
     "name": "stderr",
     "output_type": "stream",
     "text": [
      " 13%|█▎        | 38/300 [00:16<01:59,  2.20it/s]"
     ]
    },
    {
     "name": "stdout",
     "output_type": "stream",
     "text": [
      "\n",
      "epoch 38: test average loss: 15.423 | acc: 97.43% (303/311)\n",
      "EarlyStopping counter: 6/25 (best: 0.9936)\n",
      "\n",
      "epoch 39: train average loss: 8.731 | acc: 99.00% (2775/2803)\n"
     ]
    },
    {
     "name": "stderr",
     "output_type": "stream",
     "text": [
      " 13%|█▎        | 39/300 [00:17<01:58,  2.20it/s]"
     ]
    },
    {
     "name": "stdout",
     "output_type": "stream",
     "text": [
      "\n",
      "epoch 39: test average loss: 15.180 | acc: 97.11% (302/311)\n",
      "EarlyStopping counter: 7/25 (best: 0.9936)\n",
      "\n",
      "epoch 40: train average loss: 8.356 | acc: 99.43% (2787/2803)\n"
     ]
    },
    {
     "name": "stderr",
     "output_type": "stream",
     "text": [
      " 13%|█▎        | 40/300 [00:17<01:59,  2.17it/s]"
     ]
    },
    {
     "name": "stdout",
     "output_type": "stream",
     "text": [
      "\n",
      "epoch 40: test average loss: 14.060 | acc: 97.43% (303/311)\n",
      "EarlyStopping counter: 8/25 (best: 0.9936)\n",
      "\n",
      "epoch 41: train average loss: 8.289 | acc: 99.64% (2793/2803)\n"
     ]
    },
    {
     "name": "stderr",
     "output_type": "stream",
     "text": [
      " 14%|█▎        | 41/300 [00:18<01:59,  2.16it/s]"
     ]
    },
    {
     "name": "stdout",
     "output_type": "stream",
     "text": [
      "\n",
      "epoch 41: test average loss: 16.166 | acc: 98.07% (305/311)\n",
      "EarlyStopping counter: 9/25 (best: 0.9936)\n",
      "\n",
      "epoch 42: train average loss: 8.256 | acc: 99.50% (2789/2803)\n"
     ]
    },
    {
     "name": "stderr",
     "output_type": "stream",
     "text": [
      " 14%|█▍        | 42/300 [00:18<01:57,  2.19it/s]"
     ]
    },
    {
     "name": "stdout",
     "output_type": "stream",
     "text": [
      "\n",
      "epoch 42: test average loss: 13.860 | acc: 91.00% (283/311)\n",
      "EarlyStopping counter: 10/25 (best: 0.9936)\n",
      "\n",
      "epoch 43: train average loss: 7.819 | acc: 99.61% (2792/2803)\n"
     ]
    },
    {
     "name": "stderr",
     "output_type": "stream",
     "text": [
      " 14%|█▍        | 43/300 [00:19<01:56,  2.21it/s]"
     ]
    },
    {
     "name": "stdout",
     "output_type": "stream",
     "text": [
      "\n",
      "epoch 43: test average loss: 12.925 | acc: 98.07% (305/311)\n",
      "EarlyStopping counter: 11/25 (best: 0.9936)\n",
      "\n",
      "epoch 44: train average loss: 7.511 | acc: 99.71% (2795/2803)\n"
     ]
    },
    {
     "name": "stderr",
     "output_type": "stream",
     "text": [
      " 15%|█▍        | 44/300 [00:19<01:54,  2.24it/s]"
     ]
    },
    {
     "name": "stdout",
     "output_type": "stream",
     "text": [
      "\n",
      "epoch 44: test average loss: 13.426 | acc: 97.43% (303/311)\n",
      "EarlyStopping counter: 12/25 (best: 0.9936)\n",
      "\n",
      "epoch 45: train average loss: 7.253 | acc: 99.71% (2795/2803)\n"
     ]
    },
    {
     "name": "stderr",
     "output_type": "stream",
     "text": [
      " 15%|█▌        | 45/300 [00:19<01:52,  2.27it/s]"
     ]
    },
    {
     "name": "stdout",
     "output_type": "stream",
     "text": [
      "\n",
      "epoch 45: test average loss: 12.994 | acc: 95.82% (298/311)\n",
      "EarlyStopping counter: 13/25 (best: 0.9936)\n",
      "\n",
      "epoch 46: train average loss: 7.149 | acc: 99.68% (2794/2803)\n"
     ]
    },
    {
     "name": "stderr",
     "output_type": "stream",
     "text": [
      " 15%|█▌        | 46/300 [00:20<01:49,  2.32it/s]"
     ]
    },
    {
     "name": "stdout",
     "output_type": "stream",
     "text": [
      "\n",
      "epoch 46: test average loss: 12.551 | acc: 96.46% (300/311)\n",
      "EarlyStopping counter: 14/25 (best: 0.9936)\n",
      "\n",
      "epoch 47: train average loss: 6.875 | acc: 99.86% (2799/2803)\n"
     ]
    },
    {
     "name": "stderr",
     "output_type": "stream",
     "text": [
      " 16%|█▌        | 47/300 [00:20<01:47,  2.35it/s]"
     ]
    },
    {
     "name": "stdout",
     "output_type": "stream",
     "text": [
      "\n",
      "epoch 47: test average loss: 12.650 | acc: 97.75% (304/311)\n",
      "EarlyStopping counter: 15/25 (best: 0.9936)\n",
      "\n",
      "epoch 48: train average loss: 6.720 | acc: 99.79% (2797/2803)\n"
     ]
    },
    {
     "name": "stderr",
     "output_type": "stream",
     "text": [
      " 16%|█▌        | 48/300 [00:21<01:48,  2.33it/s]"
     ]
    },
    {
     "name": "stdout",
     "output_type": "stream",
     "text": [
      "\n",
      "epoch 48: test average loss: 12.242 | acc: 97.11% (302/311)\n",
      "EarlyStopping counter: 16/25 (best: 0.9936)\n",
      "\n",
      "epoch 49: train average loss: 6.655 | acc: 99.89% (2800/2803)\n"
     ]
    },
    {
     "name": "stderr",
     "output_type": "stream",
     "text": [
      " 16%|█▋        | 49/300 [00:21<01:47,  2.33it/s]"
     ]
    },
    {
     "name": "stdout",
     "output_type": "stream",
     "text": [
      "\n",
      "epoch 49: test average loss: 12.277 | acc: 97.75% (304/311)\n",
      "EarlyStopping counter: 17/25 (best: 0.9936)\n",
      "\n",
      "epoch 50: train average loss: 6.342 | acc: 100.00% (2803/2803)\n"
     ]
    },
    {
     "name": "stderr",
     "output_type": "stream",
     "text": [
      " 17%|█▋        | 50/300 [00:21<01:47,  2.33it/s]"
     ]
    },
    {
     "name": "stdout",
     "output_type": "stream",
     "text": [
      "\n",
      "epoch 50: test average loss: 11.915 | acc: 97.75% (304/311)\n",
      "EarlyStopping counter: 18/25 (best: 0.9936)\n",
      "\n",
      "epoch 51: train average loss: 6.258 | acc: 99.79% (2797/2803)\n"
     ]
    },
    {
     "name": "stderr",
     "output_type": "stream",
     "text": [
      " 17%|█▋        | 51/300 [00:22<01:46,  2.35it/s]"
     ]
    },
    {
     "name": "stdout",
     "output_type": "stream",
     "text": [
      "\n",
      "epoch 51: test average loss: 11.435 | acc: 97.43% (303/311)\n",
      "EarlyStopping counter: 19/25 (best: 0.9936)\n",
      "\n",
      "epoch 52: train average loss: 6.302 | acc: 99.89% (2800/2803)\n"
     ]
    },
    {
     "name": "stderr",
     "output_type": "stream",
     "text": [
      " 17%|█▋        | 52/300 [00:22<01:45,  2.36it/s]"
     ]
    },
    {
     "name": "stdout",
     "output_type": "stream",
     "text": [
      "\n",
      "epoch 52: test average loss: 11.561 | acc: 97.75% (304/311)\n",
      "EarlyStopping counter: 20/25 (best: 0.9936)\n",
      "\n",
      "epoch 53: train average loss: 6.040 | acc: 99.93% (2801/2803)\n"
     ]
    },
    {
     "name": "stderr",
     "output_type": "stream",
     "text": [
      " 18%|█▊        | 53/300 [00:23<01:45,  2.35it/s]"
     ]
    },
    {
     "name": "stdout",
     "output_type": "stream",
     "text": [
      "\n",
      "epoch 53: test average loss: 11.910 | acc: 97.11% (302/311)\n",
      "EarlyStopping counter: 21/25 (best: 0.9936)\n",
      "\n",
      "epoch 54: train average loss: 6.188 | acc: 99.68% (2794/2803)\n"
     ]
    },
    {
     "name": "stderr",
     "output_type": "stream",
     "text": [
      " 18%|█▊        | 54/300 [00:23<01:44,  2.36it/s]"
     ]
    },
    {
     "name": "stdout",
     "output_type": "stream",
     "text": [
      "\n",
      "epoch 54: test average loss: 11.980 | acc: 97.75% (304/311)\n",
      "EarlyStopping counter: 22/25 (best: 0.9936)\n",
      "\n",
      "epoch 55: train average loss: 5.914 | acc: 99.82% (2798/2803)\n"
     ]
    },
    {
     "name": "stderr",
     "output_type": "stream",
     "text": [
      " 18%|█▊        | 55/300 [00:24<01:46,  2.31it/s]"
     ]
    },
    {
     "name": "stdout",
     "output_type": "stream",
     "text": [
      "\n",
      "epoch 55: test average loss: 11.924 | acc: 97.75% (304/311)\n",
      "EarlyStopping counter: 23/25 (best: 0.9936)\n",
      "\n",
      "epoch 56: train average loss: 6.146 | acc: 99.68% (2794/2803)\n"
     ]
    },
    {
     "name": "stderr",
     "output_type": "stream",
     "text": [
      " 19%|█▊        | 56/300 [00:24<01:48,  2.26it/s]"
     ]
    },
    {
     "name": "stdout",
     "output_type": "stream",
     "text": [
      "\n",
      "epoch 56: test average loss: 11.735 | acc: 97.43% (303/311)\n",
      "EarlyStopping counter: 24/25 (best: 0.9936)\n",
      "\n",
      "epoch 57: train average loss: 6.144 | acc: 99.89% (2800/2803)\n"
     ]
    },
    {
     "name": "stderr",
     "output_type": "stream",
     "text": [
      " 19%|█▊        | 56/300 [00:25<01:49,  2.23it/s]"
     ]
    },
    {
     "name": "stdout",
     "output_type": "stream",
     "text": [
      "\n",
      "epoch 57: test average loss: 11.597 | acc: 97.11% (302/311)\n",
      "EarlyStopping counter: 25/25 (best: 0.9936)\n",
      "🔴 Early stopping triggered\n",
      "load model at epoch 32, with test acc : 0.994\n"
     ]
    },
    {
     "name": "stderr",
     "output_type": "stream",
     "text": [
      "\n",
      "/tmp/ipykernel_2950649/1054042983.py:175: FutureWarning:\n",
      "\n",
      "You are using `torch.load` with `weights_only=False` (the current default value), which uses the default pickle module implicitly. It is possible to construct malicious pickle data which will execute arbitrary code during unpickling (See https://github.com/pytorch/pytorch/blob/main/SECURITY.md#untrusted-models for more details). In a future release, the default value for `weights_only` will be flipped to `True`. This limits the functions that could be executed during unpickling. Arbitrary objects will no longer be allowed to be loaded via this mode unless they are explicitly allowlisted by the user via `torch.serialization.add_safe_globals`. We recommend you start setting `weights_only=True` for any use case where you don't have full control of the loaded file. Please open an issue on GitHub for any issues related to this experimental feature.\n",
      "\n"
     ]
    },
    {
     "name": "stdout",
     "output_type": "stream",
     "text": [
      "total 0.9935691318327974\n",
      "class 0 0.989247311827957\n",
      "class 1 0.9954128440366973\n",
      "Train t-SNE interactive HTML saved to variant_lenet_best_test_accuracy_combined_train.html\n",
      "Test t-SNE interactive HTML saved to variant_lenet_best_test_accuracy_combined_test.html\n",
      "                            0\n",
      "Accuracy               0.9936\n",
      "Recall       [0.9892, 0.9954]\n",
      "Specificity  [0.9954, 0.9892]\n",
      "Precision    [0.9892, 0.9954]\n",
      "F1 Score     [0.9892, 0.9954]\n"
     ]
    }
   ],
   "source": [
    "\n",
    "from datasets_spectrum import spectral_dataloader\n",
    "from sklearn.model_selection import StratifiedKFold\n",
    "best_test_accuracy = 0\n",
    "low_test_accuracy = 1\n",
    "\n",
    "sss = StratifiedKFold(n_splits=10, shuffle=True,random_state=1)\n",
    "for fold, (train_index, test_index) in enumerate(sss.split(X_train_raw, y_train_raw)):\n",
    "    X_train, X_test = X_train_raw[train_index], X_train_raw[test_index]\n",
    "    y_train, y_test = y_train_raw[train_index], y_train_raw[test_index]\n",
    "    patient_train ,patient_test = patient_train_raw[train_index],patient_train_raw[test_index]\n",
    "\n",
    "    dl_tr = spectral_dataloader(\n",
    "                        X_train, y_train,patient_train, idxs=None, batch_size=batch_size, shuffle=True\n",
    "                    )\n",
    "    dl_test = spectral_dataloader(X_test, y_test,patient_test,idxs=None, batch_size=batch_size, shuffle=False)\n",
    "    values, counts = np.unique(np.asarray(y_test), return_counts=True)\n",
    "    dataloaders = {\"train\": dl_tr, \"test\": dl_test}\n",
    "\n",
    "    model = Variant_LeNet(in_channels=1, out_channels=n_classes)\n",
    "\n",
    "    model_path = f\"best_variant_lenet_model_{fold}.pth\"\n",
    "\n",
    "    class_counts = np.bincount(y_train)\n",
    "    num_classes = len(class_counts)\n",
    "    total_samples = len(y_train)\n",
    "\n",
    "    class_weights = []\n",
    "    for count in class_counts:\n",
    "        weight = 1 / (count / total_samples)\n",
    "        class_weights.append(weight)\n",
    "    class_weights = torch.FloatTensor(class_weights)\n",
    "    alpha = class_weights\n",
    "    solver = Solver(\n",
    "                fold,dataloaders, model, model_path, 'cuda', n_classes, alpha\n",
    "            )\n",
    "    print(fold + 1)\n",
    "    solver.train(epochs)\n",
    "    C, y_true, y_pred, test_accuracy , y_pred_prob,train_acc,train_targets,targets,train_combined,combined ,train_patient_ids, test_patient_ids= solver.test()\n",
    "    C_total += C  # 將每次迭代的 C 加總到 C_total\n",
    "    train_avg_accuracy.append(train_acc)\n",
    "    avg_accuracy.append(test_accuracy)\n",
    "\n",
    "    if test_accuracy > best_test_accuracy:\n",
    "\n",
    "        best_test_accuracy = test_accuracy\n",
    "            \n",
    "        plot_tsne_interactive_html(f\"variant_lenet_best_test_accuracy_combined_train\",f\"variant_lenet_best_test_accuracy_combined_test\",train_combined,combined,train_targets,targets, train_patient_ids, test_patient_ids,classnames )\n",
    "      \n",
    "        plot_heatmap(f\"variant_lenet_best_test_accuracy_heatmap\", C,class_names=classnames)\n",
    "        \n",
    "    if test_accuracy < low_test_accuracy:\n",
    "\n",
    "        low_test_accuracy = test_accuracy\n",
    "        \n",
    "        plot_tsne_interactive_html(f\"variant_lenet_low_test_accuracy_combined_train\",f\"variant_lenet_low_test_accuracy_combined_test\",train_combined,combined,train_targets,targets,train_patient_ids, test_patient_ids, classnames )\n",
    "            \n",
    "        plot_heatmap(f\"variant_lenet_low_test_accuracy_heatmap\", C,class_names=classnames)\n",
    "        \n",
    "    fpr = dict()\n",
    "    tpr = dict()\n",
    "    roc_auc = dict()\n",
    "    for i in range(np.unique(y_true).shape[0]):\n",
    "        fpr[i], tpr[i], _ = roc_curve(y_test == i, y_pred_prob[:, i])\n",
    "        roc_auc[i] = auc(fpr[i], tpr[i])\n",
    "    values = [\n",
    "            v\n",
    "            for v in roc_auc.values()\n",
    "            if isinstance(v, (int, float)) and not math.isnan(v)\n",
    "    ]\n",
    "    if values:\n",
    "        auc_score = sum(values) / len(values)\n",
    "    avg_roc.append(auc_score)\n",
    "\n",
    "    for i in range(n_classes):\n",
    "        C_new[i] = np.round((C[i] / (counts[i] * num)), 2)\n",
    "\n",
    "        # Plot confusion matrix\n",
    "    sns.set_context(\"talk\", rc={\"font\": \"Helvetica\", \"font.size\": 12})\n",
    "    label = [STRAINS[i] for i in ORDER]\n",
    "    cm = 100 * C_new / C_new.sum(axis=1)[:, np.newaxis]\n",
    "\n",
    "        # calculate comfusion matrix\n",
    "    accuracy = accuracy_score(y_true, y_pred)\n",
    "    sensitivity = recall_score(y_true, y_pred, average=\"micro\", zero_division=0)\n",
    "    specificity = cm[1, 1] / (cm[1, 0] + cm[1, 1])\n",
    "    f1 = f1_score(y_true, y_pred, average=\"micro\", zero_division=0)\n",
    "\n",
    "    # metrices result\n",
    "    df = pd.DataFrame(\n",
    "        {\n",
    "            \"Accuracy\": [np.round(accuracy_score(y_true, y_pred), 4)],\n",
    "            \"Recall\": [\n",
    "                    recall_score(y_true, y_pred, average=None, zero_division=0).round(4)\n",
    "                ],\n",
    "            \"Specificity\": [specificity_score(y_true, y_pred, average=None).round(4)],\n",
    "            \"Precision\": [\n",
    "                    precision_score(y_true, y_pred, average=None, zero_division=0).round(4)\n",
    "                ],\n",
    "            \"F1 Score\": [\n",
    "                    f1_score(y_true, y_pred, average=None, zero_division=0).round(4)\n",
    "                ],\n",
    "            }\n",
    "    )\n",
    "    print(df.transpose())\n",
    "\n",
    "    plot_MRSA_MSSA_ROC_curve(f\"variant_lenet_{fold}_roc_curve\", y_true, y_test, y_pred_prob)\n",
    "\n",
    "    plot_heatmap(f\"variant_lenet_{fold}_heatmap\", cm)\n",
    "\n",
    "plot_heatmap(f\"variant_lenet_average_heatmap\", C_total,class_names=classnames)\n"
   ]
  },
  {
   "cell_type": "code",
   "execution_count": null,
   "id": "9f161583",
   "metadata": {},
   "outputs": [
    {
     "name": "stdout",
     "output_type": "stream",
     "text": [
      "max test acc: 0.9935691318327974\n",
      "min test acc: 0.9742765273311897\n",
      "test acc: [0.9839743589743589, 0.9807692307692307, 0.9903846153846154, 0.9871794871794872, 0.9839228295819936, 0.9871382636655949, 0.977491961414791, 0.9807073954983923, 0.9742765273311897, 0.9935691318327974]\n",
      "test auc: [0.9958756812490794, 0.9976923454607944, 0.9971031570678057, 0.9925860460548928, 0.9957812189795514, 0.9956819535437761, 0.9926506856071816, 0.998076353950873, 0.9942290618526192, 0.9979283811778632]\n",
      "train mean: 0.9937559635172166\n",
      "train std: 0.003127757335232157\n",
      "mean: 0.9839413801632452\n",
      "std: 0.005571725821317866\n",
      "auc mean: 0.9957604884944438\n",
      "auc std: 0.001941929837985495\n"
     ]
    }
   ],
   "source": [
    "print(\"max test acc:\", np.max(avg_accuracy))\n",
    "print(\"min test acc:\", np.min(avg_accuracy))\n",
    "\n",
    "\n",
    "print(\"train mean:\", np.mean(train_avg_accuracy))\n",
    "print(\"train std:\", np.std(train_avg_accuracy))\n",
    "\n",
    "    \n",
    "print(\"mean:\", np.mean(avg_accuracy))\n",
    "print(\"std:\", np.std(avg_accuracy))\n",
    "\n",
    "    \n",
    "print(\"auc mean:\", np.mean(avg_roc))\n",
    "print(\"auc std:\", np.std(avg_roc))\n",
    "    "
   ]
  }
 ],
 "metadata": {
  "kernelspec": {
   "display_name": "Python 3",
   "language": "python",
   "name": "python3"
  },
  "language_info": {
   "codemirror_mode": {
    "name": "ipython",
    "version": 3
   },
   "file_extension": ".py",
   "mimetype": "text/x-python",
   "name": "python",
   "nbconvert_exporter": "python",
   "pygments_lexer": "ipython3",
   "version": "3.10.12"
  }
 },
 "nbformat": 4,
 "nbformat_minor": 5
}
