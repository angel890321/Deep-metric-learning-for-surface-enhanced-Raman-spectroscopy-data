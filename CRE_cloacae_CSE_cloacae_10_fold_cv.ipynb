{
 "cells": [
  {
   "cell_type": "markdown",
   "id": "637ab6e7",
   "metadata": {},
   "source": [
    "## Loading Dataset"
   ]
  },
  {
   "cell_type": "code",
   "execution_count": 1,
   "id": "ae8984c7",
   "metadata": {},
   "outputs": [],
   "source": [
    "import numpy as np"
   ]
  },
  {
   "cell_type": "code",
   "execution_count": 2,
   "id": "92288fb8",
   "metadata": {},
   "outputs": [],
   "source": [
    "X_fn = \"./data/combine_astii_astiii_filter_all_smoothing_ipm_E_cloacae_norm.npy\"\n",
    "y_fn = \"./data/y_astii_astiii_filter_all_ipm_E_cloacae.npy\"\n",
    "patient_fn = \"./data/patient_astii_astiii_filter_all_ipm_E_cloacae.npy\"\n",
    "X_train_raw = np.load(X_fn,allow_pickle=True)\n",
    "y_train_raw = np.load(y_fn,allow_pickle=True)\n",
    "patient_train_raw = np.load(patient_fn,allow_pickle=True)\n",
    "\n",
    "classnames=['CR E_cloacae','CS E_cloacae']\n",
    "\n"
   ]
  },
  {
   "cell_type": "code",
   "execution_count": 3,
   "id": "fa1db3d8",
   "metadata": {},
   "outputs": [],
   "source": [
    "if not isinstance(X_train_raw, np.ndarray):\n",
    "    X_train_raw = np.array(X_train_raw, dtype=np.float32)\n",
    "elif X_train_raw.dtype != np.float32:\n",
    "    X_train_raw = X_train_raw.astype(np.float32)"
   ]
  },
  {
   "cell_type": "markdown",
   "id": "7152edc6",
   "metadata": {},
   "source": [
    "## Model Setting"
   ]
  },
  {
   "cell_type": "code",
   "execution_count": null,
   "id": "5425f364",
   "metadata": {},
   "outputs": [
    {
     "name": "stderr",
     "output_type": "stream",
     "text": [
      "2025-07-18 09:58:01.078682: E external/local_xla/xla/stream_executor/cuda/cuda_dnn.cc:9261] Unable to register cuDNN factory: Attempting to register factory for plugin cuDNN when one has already been registered\n",
      "2025-07-18 09:58:01.078710: E external/local_xla/xla/stream_executor/cuda/cuda_fft.cc:607] Unable to register cuFFT factory: Attempting to register factory for plugin cuFFT when one has already been registered\n",
      "2025-07-18 09:58:01.079481: E external/local_xla/xla/stream_executor/cuda/cuda_blas.cc:1515] Unable to register cuBLAS factory: Attempting to register factory for plugin cuBLAS when one has already been registered\n"
     ]
    }
   ],
   "source": [
    "# model\n",
    "from Variant_LeNet import Variant_LeNet\n",
    "from tqdm import tqdm\n",
    "import torch\n",
    "import pandas as pd\n",
    "import torch.nn as nn\n",
    "from torch.autograd import Variable\n",
    "from FocalLoss import FocalLoss\n",
    "from losses import AdaptiveProxyAnchorLoss\n",
    "from imblearn.metrics import specificity_score\n",
    "from sklearn.metrics import (\n",
    "    confusion_matrix,\n",
    "    accuracy_score,\n",
    "    precision_score,\n",
    "    recall_score,\n",
    "    f1_score,\n",
    "    auc,\n",
    "    roc_curve,\n",
    ")\n",
    "from pytorchtools import EarlyStopping\n",
    "# Plot\n",
    "from plot import plot_E_cloacae_CS_E_cloacae_ROC_curve, plot_heatmap,plot_tsne_interactive_html\n",
    "import matplotlib.pyplot as plt\n",
    "\n",
    "import seaborn as sns\n",
    "from sklearn.metrics import confusion_matrix\n",
    "from config import ORDER, STRAINS\n",
    "import math\n",
    "\n",
    "# Training setting\n",
    "n_classes = 2\n",
    "epochs = 300 \n",
    "batch_size = 256\n",
    "num = 10\n",
    "num_workers = 7\n",
    "\n",
    "# metrics\n",
    "train_avg_accuracy = []\n",
    "avg_accuracy = []\n",
    "avg_roc = []\n",
    "C_total = np.zeros((n_classes, n_classes))\n",
    "C = np.zeros((n_classes, n_classes))\n",
    "C_new = np.zeros((n_classes, n_classes))"
   ]
  },
  {
   "cell_type": "code",
   "execution_count": 5,
   "id": "e2a64d2c",
   "metadata": {},
   "outputs": [],
   "source": [
    "class Solver:\n",
    "    def __init__(\n",
    "        self,\n",
    "        i,\n",
    "        dataloaders,\n",
    "        model,\n",
    "        model_path,\n",
    "        device,\n",
    "        n_classes,\n",
    "        alpha,\n",
    "        gpu=-1,\n",
    "    ):\n",
    "        self.i = i\n",
    "        self.dataloaders = dataloaders\n",
    "        self.device = device\n",
    "        self.net = model\n",
    "        self.net = self.net.to(self.device)\n",
    "        self.n_classes = n_classes\n",
    "        self.criterion_proxy =AdaptiveProxyAnchorLoss(nb_classes=n_classes, sz_embed=256, mrg=0.5, alpha=32,\\\n",
    "                                             nb_proxies=1, scale_margin=1).cuda()\n",
    "        self.criterion = FocalLoss(alpha=alpha, gamma=2).cuda()\n",
    "        self.get_num_labeled_class = 2\n",
    "        self.param_groups = [\n",
    "            {'params': list(set(model.parameters()).difference(set(model.embedding.parameters())))},\n",
    "            {'params': model.embedding.parameters() , 'lr':float(0.001) * 1},\n",
    "            {'params': self.criterion_proxy.mrg,'lr':float(0.001) },\n",
    "            {'params': self.criterion_proxy.proxies, 'lr':float(0.001) * 100}\n",
    "        ]\n",
    "        self.optimizer =torch.optim.AdamW(self.param_groups, lr=0.001, weight_decay = 0.001)\n",
    "        self.model_path = model_path\n",
    "\n",
    "\n",
    "    def iterate(self, epoch, phase):\n",
    "        if phase == \"train\":\n",
    "            self.net.train()\n",
    "        else:\n",
    "            self.net.eval()\n",
    "\n",
    "            \n",
    "        dataloader = self.dataloaders[phase]\n",
    "        total_loss = 0\n",
    "        correct = 0\n",
    "        total = 0\n",
    "        total_proxy_loss = 0\n",
    "        total_crossentropy_loss = 0\n",
    "            \n",
    "        for batch_idx, (inputs, targets,patients) in enumerate(dataloader):\n",
    "            inputs, targets,patients = Variable(inputs).to(self.device), Variable(targets.long()).to(self.device), patients\n",
    "            #print(inputs.shape)\n",
    "            out,emb= self.net(inputs)\n",
    "            \n",
    "            loss1 = self.criterion(out, targets)\n",
    "            loss2 = self.criterion_proxy(emb, targets)\n",
    "            loss = loss1 + 0.5 * loss2\n",
    "            outputs = torch.argmax(out.detach(), dim=1)\n",
    "            \n",
    "            if phase == \"train\":\n",
    "                self.optimizer.zero_grad()\n",
    "                loss.backward()\n",
    "                self.optimizer.step()\n",
    "                torch.nn.utils.clip_grad_value_(self.net.parameters(), 10)\n",
    "                torch.nn.utils.clip_grad_value_(self.criterion_proxy.parameters(), 10)\n",
    "\n",
    "\n",
    "            total_loss += loss.item()\n",
    "            total_proxy_loss += loss2.item()\n",
    "            total_crossentropy_loss += loss1.item()\n",
    "            total += targets.size(0)\n",
    "            correct += outputs.eq(targets).cpu().sum().item()\n",
    "\n",
    "        total_loss /= (batch_idx + 1)\n",
    "        total_acc = correct / total\n",
    "\n",
    "                \n",
    "        print(\"\\nepoch %d: %s average loss: %.3f | acc: %.2f%% (%d/%d)\"\n",
    "                % (epoch + 1, phase, total_loss, 100.0 * total_acc, correct, total))\n",
    "\n",
    "        return total_loss,total_acc,out,targets\n",
    "            \n",
    "\n",
    "    def train(self, epochs):\n",
    "        best_loss = float(\"inf\")\n",
    "        best_acc = 0\n",
    "        epoch_breaks_classifer = 0\n",
    "        train_losses = []\n",
    "        train_acces = [] \n",
    "        test_losses = []\n",
    "        test_acces = [] \n",
    "\n",
    "        self.scheduler = torch.optim.lr_scheduler.CosineAnnealingLR(self.optimizer, T_max=60)\n",
    "\n",
    "        early_stopping_classifier = EarlyStopping(patience=25, mode='acc', verbose=True)\n",
    "\n",
    "        for epoch in tqdm(range(epochs)):\n",
    "            train_loss,train_acc,out,targets =self.iterate(epoch, \"train\")\n",
    "\n",
    "            train_losses.append(train_loss)\n",
    "            train_acces.append(train_acc)\n",
    "\n",
    "            with torch.no_grad():\n",
    "                \n",
    "                test_loss,test_acc,out,targets= self.iterate(epoch, \"test\")\n",
    "                    \n",
    "                test_losses.append(test_loss)\n",
    "                test_acces.append(test_acc)\n",
    "\n",
    "                if test_acc > best_acc:\n",
    "                    best_acc = test_acc\n",
    "                    checkpoint = {\n",
    "                        \"epoch\": epoch,\n",
    "                         \"train_acc\":train_acc,\n",
    "                        \"test_acc\":test_acc,\n",
    "                        \"test_loss\": test_loss,\n",
    "                        \"state_dict\": self.net.state_dict(),\n",
    "                    }\n",
    "                    print(\"best test acc found\")\n",
    "                    torch.save(checkpoint, self.model_path)\n",
    "                \n",
    "                self.scheduler.step()\n",
    "\n",
    "                early_stopping_classifier(test_acc)\n",
    "\n",
    "                epoch_breaks_classifer+= 1\n",
    "\n",
    "                if early_stopping_classifier.early_stop:\n",
    "                    break  # 停止訓練\n",
    "        \n",
    "        if not early_stopping_classifier.early_stop:\n",
    "            epoch_breaks_classifer = epochs\n",
    "        \n",
    "\n",
    "    def test_iterate(self, phase):\n",
    "        self.net.eval()\n",
    "        dataloader = self.dataloaders[phase]\n",
    "        y_pred = []\n",
    "        y_true = []\n",
    "        y_pred_prob = []\n",
    "        \n",
    "        features_out = []\n",
    "        features_combine = []\n",
    "        targets_combine = []\n",
    "        patient_ids = []\n",
    "        \n",
    "        with torch.no_grad():\n",
    "            for batch_idx, (inputs, targets,patients) in enumerate(dataloader):\n",
    "                inputs, targets ,patients = Variable(inputs).to('cuda'), Variable(targets.long()).to('cuda'), patients\n",
    "                out,emb = self.net(inputs)\n",
    "                outputs = torch.argmax(out.detach(), dim=1)\n",
    "                outputs_prob = nn.functional.softmax(out.detach(), dim=1)\n",
    "                y_pred.append(outputs.cpu().numpy())\n",
    "                y_pred_prob.append(outputs_prob.cpu().numpy())\n",
    "            \n",
    "                y_true.append(targets.cpu().numpy())\n",
    "                \n",
    "                targets_combine.append(targets.detach().cpu().numpy())\n",
    "                patient_ids.append(patients)\n",
    "                features_out.append(out.cpu().numpy())\n",
    "                features_combine.append(emb.detach().cpu().numpy())\n",
    "\n",
    "            targets_combine = np.concatenate(targets_combine, axis=0) \n",
    "            patient_ids = np.concatenate( patient_ids, axis=0) \n",
    "            features_out = np.concatenate(features_out, axis=0)\n",
    "            features_combine = np.concatenate(features_combine, axis=0)\n",
    "        \n",
    "        return (\n",
    "                np.hstack(y_pred),\n",
    "                np.hstack(y_true),\n",
    "                np.vstack(y_pred_prob),\n",
    "                features_out,\n",
    "                features_combine,\n",
    "                targets_combine,\n",
    "                patient_ids,\n",
    "            )\n",
    "    def test(self):\n",
    "        checkpoint = torch.load(self.model_path)\n",
    "        epoch = checkpoint[\"epoch\"]\n",
    "        train_acc = checkpoint[\"train_acc\"]\n",
    "        test_acc = checkpoint[\"test_acc\"]\n",
    "        self.net.load_state_dict(checkpoint[\"state_dict\"])\n",
    "        print(\"load model at epoch {}, with test acc : {:.3f}\".format(epoch+1, test_acc))\n",
    "\n",
    "        \n",
    "        _, _ ,_,train_out,train_combined,train_targets,train_patient_ids = self.test_iterate(\"train\")\n",
    "        y_pred, y_true ,y_pred_prob,out,combined,targets, test_patient_ids,= self.test_iterate(\"test\")\n",
    "        \n",
    "        print(\"total\", accuracy_score(y_true, y_pred))\n",
    "        for i in range(self.n_classes):\n",
    "            idx = y_true == i\n",
    "            print(\"class\", i, accuracy_score(y_true[idx], y_pred[idx]))\n",
    "\n",
    "        return (\n",
    "            confusion_matrix(y_true, y_pred),\n",
    "            y_true,\n",
    "            y_pred,\n",
    "            accuracy_score(y_true, y_pred),\n",
    "            y_pred_prob,\n",
    "            train_acc,\n",
    "            train_targets,\n",
    "            targets,\n",
    "            train_combined,\n",
    "            combined,\n",
    "            train_patient_ids,\n",
    "            test_patient_ids\n",
    "        )"
   ]
  },
  {
   "cell_type": "code",
   "execution_count": 6,
   "id": "77d2e6c5",
   "metadata": {},
   "outputs": [
    {
     "name": "stdout",
     "output_type": "stream",
     "text": [
      "1\n"
     ]
    },
    {
     "name": "stderr",
     "output_type": "stream",
     "text": [
      "  0%|          | 0/300 [00:00<?, ?it/s]"
     ]
    },
    {
     "name": "stdout",
     "output_type": "stream",
     "text": [
      "\n",
      "epoch 1: train average loss: 33.188 | acc: 62.78% (1142/1819)\n"
     ]
    },
    {
     "name": "stderr",
     "output_type": "stream",
     "text": [
      "  0%|          | 1/300 [00:00<03:20,  1.49it/s]"
     ]
    },
    {
     "name": "stdout",
     "output_type": "stream",
     "text": [
      "\n",
      "epoch 1: test average loss: 29.011 | acc: 13.30% (27/203)\n",
      "best test acc found\n",
      "\n",
      "epoch 2: train average loss: 28.035 | acc: 69.16% (1258/1819)\n"
     ]
    },
    {
     "name": "stderr",
     "output_type": "stream",
     "text": [
      "  1%|          | 2/300 [00:01<02:27,  2.02it/s]"
     ]
    },
    {
     "name": "stdout",
     "output_type": "stream",
     "text": [
      "\n",
      "epoch 2: test average loss: 25.114 | acc: 86.70% (176/203)\n",
      "best test acc found\n",
      "\n",
      "epoch 3: train average loss: 24.377 | acc: 72.68% (1322/1819)\n"
     ]
    },
    {
     "name": "stderr",
     "output_type": "stream",
     "text": [
      "  1%|          | 3/300 [00:01<02:09,  2.29it/s]"
     ]
    },
    {
     "name": "stdout",
     "output_type": "stream",
     "text": [
      "\n",
      "epoch 3: test average loss: 23.233 | acc: 86.70% (176/203)\n",
      "EarlyStopping counter: 1/25 (best: 0.8670)\n",
      "\n",
      "epoch 4: train average loss: 21.121 | acc: 75.48% (1373/1819)\n"
     ]
    },
    {
     "name": "stderr",
     "output_type": "stream",
     "text": [
      "  1%|▏         | 4/300 [00:01<01:59,  2.47it/s]"
     ]
    },
    {
     "name": "stdout",
     "output_type": "stream",
     "text": [
      "\n",
      "epoch 4: test average loss: 21.388 | acc: 86.70% (176/203)\n",
      "EarlyStopping counter: 2/25 (best: 0.8670)\n",
      "\n",
      "epoch 5: train average loss: 19.206 | acc: 77.90% (1417/1819)\n"
     ]
    },
    {
     "name": "stderr",
     "output_type": "stream",
     "text": [
      "  2%|▏         | 5/300 [00:02<01:54,  2.57it/s]"
     ]
    },
    {
     "name": "stdout",
     "output_type": "stream",
     "text": [
      "\n",
      "epoch 5: test average loss: 21.777 | acc: 86.70% (176/203)\n",
      "EarlyStopping counter: 3/25 (best: 0.8670)\n",
      "\n",
      "epoch 6: train average loss: 17.665 | acc: 79.71% (1450/1819)\n"
     ]
    },
    {
     "name": "stderr",
     "output_type": "stream",
     "text": [
      "  2%|▏         | 6/300 [00:02<01:55,  2.55it/s]"
     ]
    },
    {
     "name": "stdout",
     "output_type": "stream",
     "text": [
      "\n",
      "epoch 6: test average loss: 21.848 | acc: 86.70% (176/203)\n",
      "EarlyStopping counter: 4/25 (best: 0.8670)\n",
      "\n",
      "epoch 7: train average loss: 16.964 | acc: 82.74% (1505/1819)\n"
     ]
    },
    {
     "name": "stderr",
     "output_type": "stream",
     "text": [
      "  2%|▏         | 7/300 [00:02<01:52,  2.60it/s]"
     ]
    },
    {
     "name": "stdout",
     "output_type": "stream",
     "text": [
      "\n",
      "epoch 7: test average loss: 22.257 | acc: 86.70% (176/203)\n",
      "EarlyStopping counter: 5/25 (best: 0.8670)\n",
      "\n",
      "epoch 8: train average loss: 15.323 | acc: 84.88% (1544/1819)\n"
     ]
    },
    {
     "name": "stderr",
     "output_type": "stream",
     "text": [
      "  3%|▎         | 8/300 [00:03<01:50,  2.65it/s]"
     ]
    },
    {
     "name": "stdout",
     "output_type": "stream",
     "text": [
      "\n",
      "epoch 8: test average loss: 21.637 | acc: 94.58% (192/203)\n",
      "best test acc found\n",
      "\n",
      "epoch 9: train average loss: 15.407 | acc: 85.71% (1559/1819)\n"
     ]
    },
    {
     "name": "stderr",
     "output_type": "stream",
     "text": [
      "  3%|▎         | 9/300 [00:03<01:46,  2.72it/s]"
     ]
    },
    {
     "name": "stdout",
     "output_type": "stream",
     "text": [
      "\n",
      "epoch 9: test average loss: 20.992 | acc: 96.55% (196/203)\n",
      "best test acc found\n",
      "\n",
      "epoch 10: train average loss: 15.244 | acc: 85.27% (1551/1819)\n"
     ]
    },
    {
     "name": "stderr",
     "output_type": "stream",
     "text": [
      "  3%|▎         | 10/300 [00:03<01:44,  2.77it/s]"
     ]
    },
    {
     "name": "stdout",
     "output_type": "stream",
     "text": [
      "\n",
      "epoch 10: test average loss: 21.781 | acc: 89.16% (181/203)\n",
      "EarlyStopping counter: 1/25 (best: 0.9655)\n",
      "\n",
      "epoch 11: train average loss: 14.774 | acc: 85.82% (1561/1819)\n"
     ]
    },
    {
     "name": "stderr",
     "output_type": "stream",
     "text": [
      "  4%|▎         | 11/300 [00:04<01:41,  2.83it/s]"
     ]
    },
    {
     "name": "stdout",
     "output_type": "stream",
     "text": [
      "\n",
      "epoch 11: test average loss: 19.141 | acc: 78.33% (159/203)\n",
      "EarlyStopping counter: 2/25 (best: 0.9655)\n",
      "\n",
      "epoch 12: train average loss: 12.824 | acc: 87.25% (1587/1819)\n"
     ]
    },
    {
     "name": "stderr",
     "output_type": "stream",
     "text": [
      "  4%|▍         | 12/300 [00:04<01:39,  2.88it/s]"
     ]
    },
    {
     "name": "stdout",
     "output_type": "stream",
     "text": [
      "\n",
      "epoch 12: test average loss: 19.050 | acc: 95.07% (193/203)\n",
      "EarlyStopping counter: 3/25 (best: 0.9655)\n",
      "\n",
      "epoch 13: train average loss: 12.886 | acc: 88.18% (1604/1819)\n"
     ]
    },
    {
     "name": "stderr",
     "output_type": "stream",
     "text": [
      "  4%|▍         | 13/300 [00:04<01:39,  2.88it/s]"
     ]
    },
    {
     "name": "stdout",
     "output_type": "stream",
     "text": [
      "\n",
      "epoch 13: test average loss: 22.284 | acc: 98.03% (199/203)\n",
      "best test acc found\n",
      "\n",
      "epoch 14: train average loss: 11.454 | acc: 89.00% (1619/1819)\n"
     ]
    },
    {
     "name": "stderr",
     "output_type": "stream",
     "text": [
      "  5%|▍         | 14/300 [00:05<01:40,  2.85it/s]"
     ]
    },
    {
     "name": "stdout",
     "output_type": "stream",
     "text": [
      "\n",
      "epoch 14: test average loss: 19.939 | acc: 80.30% (163/203)\n",
      "EarlyStopping counter: 1/25 (best: 0.9803)\n",
      "\n",
      "epoch 15: train average loss: 12.411 | acc: 88.35% (1607/1819)\n"
     ]
    },
    {
     "name": "stderr",
     "output_type": "stream",
     "text": [
      "  5%|▌         | 15/300 [00:05<01:39,  2.86it/s]"
     ]
    },
    {
     "name": "stdout",
     "output_type": "stream",
     "text": [
      "\n",
      "epoch 15: test average loss: 21.165 | acc: 96.06% (195/203)\n",
      "EarlyStopping counter: 2/25 (best: 0.9803)\n",
      "\n",
      "epoch 16: train average loss: 11.213 | acc: 90.05% (1638/1819)\n"
     ]
    },
    {
     "name": "stderr",
     "output_type": "stream",
     "text": [
      "  5%|▌         | 16/300 [00:05<01:37,  2.91it/s]"
     ]
    },
    {
     "name": "stdout",
     "output_type": "stream",
     "text": [
      "\n",
      "epoch 16: test average loss: 20.409 | acc: 94.58% (192/203)\n",
      "EarlyStopping counter: 3/25 (best: 0.9803)\n",
      "\n",
      "epoch 17: train average loss: 9.976 | acc: 90.65% (1649/1819)\n"
     ]
    },
    {
     "name": "stderr",
     "output_type": "stream",
     "text": [
      "  6%|▌         | 17/300 [00:06<01:36,  2.94it/s]"
     ]
    },
    {
     "name": "stdout",
     "output_type": "stream",
     "text": [
      "\n",
      "epoch 17: test average loss: 19.896 | acc: 89.66% (182/203)\n",
      "EarlyStopping counter: 4/25 (best: 0.9803)\n",
      "\n",
      "epoch 18: train average loss: 8.273 | acc: 90.71% (1650/1819)\n"
     ]
    },
    {
     "name": "stderr",
     "output_type": "stream",
     "text": [
      "  6%|▌         | 18/300 [00:06<01:35,  2.96it/s]"
     ]
    },
    {
     "name": "stdout",
     "output_type": "stream",
     "text": [
      "\n",
      "epoch 18: test average loss: 22.484 | acc: 94.09% (191/203)\n",
      "EarlyStopping counter: 5/25 (best: 0.9803)\n",
      "\n",
      "epoch 19: train average loss: 7.134 | acc: 92.03% (1674/1819)\n"
     ]
    },
    {
     "name": "stderr",
     "output_type": "stream",
     "text": [
      "  6%|▋         | 19/300 [00:06<01:34,  2.97it/s]"
     ]
    },
    {
     "name": "stdout",
     "output_type": "stream",
     "text": [
      "\n",
      "epoch 19: test average loss: 22.533 | acc: 77.34% (157/203)\n",
      "EarlyStopping counter: 6/25 (best: 0.9803)\n",
      "\n",
      "epoch 20: train average loss: 6.022 | acc: 91.92% (1672/1819)\n"
     ]
    },
    {
     "name": "stderr",
     "output_type": "stream",
     "text": [
      "  7%|▋         | 20/300 [00:07<01:33,  2.99it/s]"
     ]
    },
    {
     "name": "stdout",
     "output_type": "stream",
     "text": [
      "\n",
      "epoch 20: test average loss: 21.471 | acc: 98.03% (199/203)\n",
      "EarlyStopping counter: 7/25 (best: 0.9803)\n",
      "\n",
      "epoch 21: train average loss: 5.929 | acc: 92.25% (1678/1819)\n"
     ]
    },
    {
     "name": "stderr",
     "output_type": "stream",
     "text": [
      "  7%|▋         | 21/300 [00:07<01:38,  2.84it/s]"
     ]
    },
    {
     "name": "stdout",
     "output_type": "stream",
     "text": [
      "\n",
      "epoch 21: test average loss: 21.158 | acc: 97.04% (197/203)\n",
      "EarlyStopping counter: 8/25 (best: 0.9803)\n",
      "\n",
      "epoch 22: train average loss: 4.905 | acc: 92.74% (1687/1819)\n"
     ]
    },
    {
     "name": "stderr",
     "output_type": "stream",
     "text": [
      "  7%|▋         | 22/300 [00:08<01:42,  2.70it/s]"
     ]
    },
    {
     "name": "stdout",
     "output_type": "stream",
     "text": [
      "\n",
      "epoch 22: test average loss: 22.484 | acc: 97.54% (198/203)\n",
      "EarlyStopping counter: 9/25 (best: 0.9803)\n",
      "\n",
      "epoch 23: train average loss: 5.089 | acc: 94.12% (1712/1819)\n"
     ]
    },
    {
     "name": "stderr",
     "output_type": "stream",
     "text": [
      "  8%|▊         | 23/300 [00:08<01:42,  2.71it/s]"
     ]
    },
    {
     "name": "stdout",
     "output_type": "stream",
     "text": [
      "\n",
      "epoch 23: test average loss: 25.222 | acc: 91.13% (185/203)\n",
      "EarlyStopping counter: 10/25 (best: 0.9803)\n",
      "\n",
      "epoch 24: train average loss: 5.259 | acc: 95.00% (1728/1819)\n"
     ]
    },
    {
     "name": "stderr",
     "output_type": "stream",
     "text": [
      "  8%|▊         | 24/300 [00:08<01:43,  2.66it/s]"
     ]
    },
    {
     "name": "stdout",
     "output_type": "stream",
     "text": [
      "\n",
      "epoch 24: test average loss: 44.107 | acc: 75.86% (154/203)\n",
      "EarlyStopping counter: 11/25 (best: 0.9803)\n",
      "\n",
      "epoch 25: train average loss: 5.712 | acc: 93.90% (1708/1819)\n"
     ]
    },
    {
     "name": "stderr",
     "output_type": "stream",
     "text": [
      "  8%|▊         | 25/300 [00:09<01:42,  2.67it/s]"
     ]
    },
    {
     "name": "stdout",
     "output_type": "stream",
     "text": [
      "\n",
      "epoch 25: test average loss: 35.512 | acc: 68.97% (140/203)\n",
      "EarlyStopping counter: 12/25 (best: 0.9803)\n",
      "\n",
      "epoch 26: train average loss: 3.863 | acc: 94.94% (1727/1819)\n"
     ]
    },
    {
     "name": "stderr",
     "output_type": "stream",
     "text": [
      "  9%|▊         | 26/300 [00:09<01:40,  2.74it/s]"
     ]
    },
    {
     "name": "stdout",
     "output_type": "stream",
     "text": [
      "\n",
      "epoch 26: test average loss: 24.271 | acc: 77.83% (158/203)\n",
      "EarlyStopping counter: 13/25 (best: 0.9803)\n",
      "\n",
      "epoch 27: train average loss: 3.860 | acc: 93.57% (1702/1819)\n"
     ]
    },
    {
     "name": "stderr",
     "output_type": "stream",
     "text": [
      "  9%|▉         | 27/300 [00:09<01:39,  2.74it/s]"
     ]
    },
    {
     "name": "stdout",
     "output_type": "stream",
     "text": [
      "\n",
      "epoch 27: test average loss: 23.406 | acc: 97.04% (197/203)\n",
      "EarlyStopping counter: 14/25 (best: 0.9803)\n",
      "\n",
      "epoch 28: train average loss: 3.391 | acc: 94.01% (1710/1819)\n"
     ]
    },
    {
     "name": "stderr",
     "output_type": "stream",
     "text": [
      "  9%|▉         | 28/300 [00:10<01:37,  2.78it/s]"
     ]
    },
    {
     "name": "stdout",
     "output_type": "stream",
     "text": [
      "\n",
      "epoch 28: test average loss: 22.679 | acc: 95.57% (194/203)\n",
      "EarlyStopping counter: 15/25 (best: 0.9803)\n",
      "\n",
      "epoch 29: train average loss: 2.564 | acc: 93.07% (1693/1819)\n"
     ]
    },
    {
     "name": "stderr",
     "output_type": "stream",
     "text": [
      " 10%|▉         | 29/300 [00:10<01:37,  2.79it/s]"
     ]
    },
    {
     "name": "stdout",
     "output_type": "stream",
     "text": [
      "\n",
      "epoch 29: test average loss: 23.055 | acc: 97.54% (198/203)\n",
      "EarlyStopping counter: 16/25 (best: 0.9803)\n",
      "\n",
      "epoch 30: train average loss: 2.094 | acc: 95.33% (1734/1819)\n"
     ]
    },
    {
     "name": "stderr",
     "output_type": "stream",
     "text": [
      " 10%|█         | 30/300 [00:11<01:38,  2.74it/s]"
     ]
    },
    {
     "name": "stdout",
     "output_type": "stream",
     "text": [
      "\n",
      "epoch 30: test average loss: 23.223 | acc: 99.01% (201/203)\n",
      "best test acc found\n",
      "\n",
      "epoch 31: train average loss: 2.113 | acc: 95.44% (1736/1819)\n"
     ]
    },
    {
     "name": "stderr",
     "output_type": "stream",
     "text": [
      " 10%|█         | 31/300 [00:11<01:37,  2.77it/s]"
     ]
    },
    {
     "name": "stdout",
     "output_type": "stream",
     "text": [
      "\n",
      "epoch 31: test average loss: 24.070 | acc: 98.03% (199/203)\n",
      "EarlyStopping counter: 1/25 (best: 0.9901)\n",
      "\n",
      "epoch 32: train average loss: 1.959 | acc: 95.49% (1737/1819)\n"
     ]
    },
    {
     "name": "stderr",
     "output_type": "stream",
     "text": [
      " 11%|█         | 32/300 [00:11<01:37,  2.76it/s]"
     ]
    },
    {
     "name": "stdout",
     "output_type": "stream",
     "text": [
      "\n",
      "epoch 32: test average loss: 26.364 | acc: 88.67% (180/203)\n",
      "EarlyStopping counter: 2/25 (best: 0.9901)\n",
      "\n",
      "epoch 33: train average loss: 1.899 | acc: 95.22% (1732/1819)\n"
     ]
    },
    {
     "name": "stderr",
     "output_type": "stream",
     "text": [
      " 11%|█         | 33/300 [00:12<01:38,  2.72it/s]"
     ]
    },
    {
     "name": "stdout",
     "output_type": "stream",
     "text": [
      "\n",
      "epoch 33: test average loss: 25.932 | acc: 88.18% (179/203)\n",
      "EarlyStopping counter: 3/25 (best: 0.9901)\n",
      "\n",
      "epoch 34: train average loss: 1.696 | acc: 95.22% (1732/1819)\n"
     ]
    },
    {
     "name": "stderr",
     "output_type": "stream",
     "text": [
      " 11%|█▏        | 34/300 [00:12<01:37,  2.73it/s]"
     ]
    },
    {
     "name": "stdout",
     "output_type": "stream",
     "text": [
      "\n",
      "epoch 34: test average loss: 26.774 | acc: 96.06% (195/203)\n",
      "EarlyStopping counter: 4/25 (best: 0.9901)\n",
      "\n",
      "epoch 35: train average loss: 1.889 | acc: 95.66% (1740/1819)\n"
     ]
    },
    {
     "name": "stderr",
     "output_type": "stream",
     "text": [
      " 12%|█▏        | 35/300 [00:12<01:38,  2.69it/s]"
     ]
    },
    {
     "name": "stdout",
     "output_type": "stream",
     "text": [
      "\n",
      "epoch 35: test average loss: 24.051 | acc: 92.61% (188/203)\n",
      "EarlyStopping counter: 5/25 (best: 0.9901)\n",
      "\n",
      "epoch 36: train average loss: 2.054 | acc: 95.27% (1733/1819)\n"
     ]
    },
    {
     "name": "stderr",
     "output_type": "stream",
     "text": [
      " 12%|█▏        | 36/300 [00:13<01:37,  2.70it/s]"
     ]
    },
    {
     "name": "stdout",
     "output_type": "stream",
     "text": [
      "\n",
      "epoch 36: test average loss: 24.577 | acc: 93.60% (190/203)\n",
      "EarlyStopping counter: 6/25 (best: 0.9901)\n",
      "\n",
      "epoch 37: train average loss: 1.708 | acc: 96.37% (1753/1819)\n"
     ]
    },
    {
     "name": "stderr",
     "output_type": "stream",
     "text": [
      " 12%|█▏        | 37/300 [00:13<01:39,  2.65it/s]"
     ]
    },
    {
     "name": "stdout",
     "output_type": "stream",
     "text": [
      "\n",
      "epoch 37: test average loss: 26.885 | acc: 96.06% (195/203)\n",
      "EarlyStopping counter: 7/25 (best: 0.9901)\n",
      "\n",
      "epoch 38: train average loss: 1.669 | acc: 97.31% (1770/1819)\n"
     ]
    },
    {
     "name": "stderr",
     "output_type": "stream",
     "text": [
      " 13%|█▎        | 38/300 [00:14<01:36,  2.71it/s]"
     ]
    },
    {
     "name": "stdout",
     "output_type": "stream",
     "text": [
      "\n",
      "epoch 38: test average loss: 27.412 | acc: 96.06% (195/203)\n",
      "EarlyStopping counter: 8/25 (best: 0.9901)\n",
      "\n",
      "epoch 39: train average loss: 1.762 | acc: 96.98% (1764/1819)\n"
     ]
    },
    {
     "name": "stderr",
     "output_type": "stream",
     "text": [
      " 13%|█▎        | 39/300 [00:14<01:33,  2.78it/s]"
     ]
    },
    {
     "name": "stdout",
     "output_type": "stream",
     "text": [
      "\n",
      "epoch 39: test average loss: 25.463 | acc: 91.13% (185/203)\n",
      "EarlyStopping counter: 9/25 (best: 0.9901)\n",
      "\n",
      "epoch 40: train average loss: 1.666 | acc: 96.92% (1763/1819)\n"
     ]
    },
    {
     "name": "stderr",
     "output_type": "stream",
     "text": [
      " 13%|█▎        | 40/300 [00:14<01:31,  2.84it/s]"
     ]
    },
    {
     "name": "stdout",
     "output_type": "stream",
     "text": [
      "\n",
      "epoch 40: test average loss: 24.222 | acc: 95.07% (193/203)\n",
      "EarlyStopping counter: 10/25 (best: 0.9901)\n",
      "\n",
      "epoch 41: train average loss: 1.658 | acc: 97.14% (1767/1819)\n"
     ]
    },
    {
     "name": "stderr",
     "output_type": "stream",
     "text": [
      " 14%|█▎        | 41/300 [00:15<01:29,  2.89it/s]"
     ]
    },
    {
     "name": "stdout",
     "output_type": "stream",
     "text": [
      "\n",
      "epoch 41: test average loss: 23.743 | acc: 96.55% (196/203)\n",
      "EarlyStopping counter: 11/25 (best: 0.9901)\n",
      "\n",
      "epoch 42: train average loss: 1.830 | acc: 97.31% (1770/1819)\n"
     ]
    },
    {
     "name": "stderr",
     "output_type": "stream",
     "text": [
      " 14%|█▍        | 42/300 [00:15<01:28,  2.92it/s]"
     ]
    },
    {
     "name": "stdout",
     "output_type": "stream",
     "text": [
      "\n",
      "epoch 42: test average loss: 23.288 | acc: 96.55% (196/203)\n",
      "EarlyStopping counter: 12/25 (best: 0.9901)\n",
      "\n",
      "epoch 43: train average loss: 1.738 | acc: 95.99% (1746/1819)\n"
     ]
    },
    {
     "name": "stderr",
     "output_type": "stream",
     "text": [
      " 14%|█▍        | 43/300 [00:15<01:27,  2.95it/s]"
     ]
    },
    {
     "name": "stdout",
     "output_type": "stream",
     "text": [
      "\n",
      "epoch 43: test average loss: 21.366 | acc: 93.10% (189/203)\n",
      "EarlyStopping counter: 13/25 (best: 0.9901)\n",
      "\n",
      "epoch 44: train average loss: 1.690 | acc: 95.60% (1739/1819)\n"
     ]
    },
    {
     "name": "stderr",
     "output_type": "stream",
     "text": [
      " 15%|█▍        | 44/300 [00:16<01:26,  2.97it/s]"
     ]
    },
    {
     "name": "stdout",
     "output_type": "stream",
     "text": [
      "\n",
      "epoch 44: test average loss: 21.896 | acc: 95.57% (194/203)\n",
      "EarlyStopping counter: 14/25 (best: 0.9901)\n",
      "\n",
      "epoch 45: train average loss: 1.762 | acc: 95.82% (1743/1819)\n"
     ]
    },
    {
     "name": "stderr",
     "output_type": "stream",
     "text": [
      " 15%|█▌        | 45/300 [00:16<01:28,  2.90it/s]"
     ]
    },
    {
     "name": "stdout",
     "output_type": "stream",
     "text": [
      "\n",
      "epoch 45: test average loss: 22.672 | acc: 95.57% (194/203)\n",
      "EarlyStopping counter: 15/25 (best: 0.9901)\n",
      "\n",
      "epoch 46: train average loss: 1.668 | acc: 96.48% (1755/1819)\n"
     ]
    },
    {
     "name": "stderr",
     "output_type": "stream",
     "text": [
      " 15%|█▌        | 46/300 [00:16<01:28,  2.87it/s]"
     ]
    },
    {
     "name": "stdout",
     "output_type": "stream",
     "text": [
      "\n",
      "epoch 46: test average loss: 23.297 | acc: 97.54% (198/203)\n",
      "EarlyStopping counter: 16/25 (best: 0.9901)\n",
      "\n",
      "epoch 47: train average loss: 1.958 | acc: 97.36% (1771/1819)\n"
     ]
    },
    {
     "name": "stderr",
     "output_type": "stream",
     "text": [
      " 16%|█▌        | 47/300 [00:17<01:27,  2.90it/s]"
     ]
    },
    {
     "name": "stdout",
     "output_type": "stream",
     "text": [
      "\n",
      "epoch 47: test average loss: 24.412 | acc: 97.54% (198/203)\n",
      "EarlyStopping counter: 17/25 (best: 0.9901)\n",
      "\n",
      "epoch 48: train average loss: 1.620 | acc: 97.09% (1766/1819)\n"
     ]
    },
    {
     "name": "stderr",
     "output_type": "stream",
     "text": [
      " 16%|█▌        | 48/300 [00:17<01:26,  2.92it/s]"
     ]
    },
    {
     "name": "stdout",
     "output_type": "stream",
     "text": [
      "\n",
      "epoch 48: test average loss: 23.981 | acc: 97.54% (198/203)\n",
      "EarlyStopping counter: 18/25 (best: 0.9901)\n",
      "\n",
      "epoch 49: train average loss: 1.638 | acc: 97.03% (1765/1819)\n"
     ]
    },
    {
     "name": "stderr",
     "output_type": "stream",
     "text": [
      " 16%|█▋        | 49/300 [00:17<01:24,  2.96it/s]"
     ]
    },
    {
     "name": "stdout",
     "output_type": "stream",
     "text": [
      "\n",
      "epoch 49: test average loss: 24.502 | acc: 97.54% (198/203)\n",
      "EarlyStopping counter: 19/25 (best: 0.9901)\n",
      "\n",
      "epoch 50: train average loss: 1.641 | acc: 97.14% (1767/1819)\n"
     ]
    },
    {
     "name": "stderr",
     "output_type": "stream",
     "text": [
      " 17%|█▋        | 50/300 [00:18<01:27,  2.84it/s]"
     ]
    },
    {
     "name": "stdout",
     "output_type": "stream",
     "text": [
      "\n",
      "epoch 50: test average loss: 24.953 | acc: 96.55% (196/203)\n",
      "EarlyStopping counter: 20/25 (best: 0.9901)\n",
      "\n",
      "epoch 51: train average loss: 1.621 | acc: 97.14% (1767/1819)\n"
     ]
    },
    {
     "name": "stderr",
     "output_type": "stream",
     "text": [
      " 17%|█▋        | 51/300 [00:18<01:31,  2.71it/s]"
     ]
    },
    {
     "name": "stdout",
     "output_type": "stream",
     "text": [
      "\n",
      "epoch 51: test average loss: 25.249 | acc: 96.55% (196/203)\n",
      "EarlyStopping counter: 21/25 (best: 0.9901)\n",
      "\n",
      "epoch 52: train average loss: 1.624 | acc: 97.25% (1769/1819)\n"
     ]
    },
    {
     "name": "stderr",
     "output_type": "stream",
     "text": [
      " 17%|█▋        | 52/300 [00:18<01:32,  2.68it/s]"
     ]
    },
    {
     "name": "stdout",
     "output_type": "stream",
     "text": [
      "\n",
      "epoch 52: test average loss: 25.752 | acc: 96.55% (196/203)\n",
      "EarlyStopping counter: 22/25 (best: 0.9901)\n",
      "\n",
      "epoch 53: train average loss: 1.614 | acc: 97.58% (1775/1819)\n"
     ]
    },
    {
     "name": "stderr",
     "output_type": "stream",
     "text": [
      " 18%|█▊        | 53/300 [00:19<01:32,  2.67it/s]"
     ]
    },
    {
     "name": "stdout",
     "output_type": "stream",
     "text": [
      "\n",
      "epoch 53: test average loss: 25.715 | acc: 96.55% (196/203)\n",
      "EarlyStopping counter: 23/25 (best: 0.9901)\n",
      "\n",
      "epoch 54: train average loss: 1.630 | acc: 96.43% (1754/1819)\n"
     ]
    },
    {
     "name": "stderr",
     "output_type": "stream",
     "text": [
      " 18%|█▊        | 54/300 [00:19<01:35,  2.56it/s]"
     ]
    },
    {
     "name": "stdout",
     "output_type": "stream",
     "text": [
      "\n",
      "epoch 54: test average loss: 25.964 | acc: 96.55% (196/203)\n",
      "EarlyStopping counter: 24/25 (best: 0.9901)\n",
      "\n",
      "epoch 55: train average loss: 1.640 | acc: 96.98% (1764/1819)\n"
     ]
    },
    {
     "name": "stderr",
     "output_type": "stream",
     "text": [
      " 18%|█▊        | 54/300 [00:20<01:31,  2.68it/s]"
     ]
    },
    {
     "name": "stdout",
     "output_type": "stream",
     "text": [
      "\n",
      "epoch 55: test average loss: 26.621 | acc: 96.55% (196/203)\n",
      "EarlyStopping counter: 25/25 (best: 0.9901)\n",
      "🔴 Early stopping triggered\n",
      "load model at epoch 30, with test acc : 0.990\n"
     ]
    },
    {
     "name": "stderr",
     "output_type": "stream",
     "text": [
      "\n",
      "/tmp/ipykernel_3337346/1054042983.py:175: FutureWarning: You are using `torch.load` with `weights_only=False` (the current default value), which uses the default pickle module implicitly. It is possible to construct malicious pickle data which will execute arbitrary code during unpickling (See https://github.com/pytorch/pytorch/blob/main/SECURITY.md#untrusted-models for more details). In a future release, the default value for `weights_only` will be flipped to `True`. This limits the functions that could be executed during unpickling. Arbitrary objects will no longer be allowed to be loaded via this mode unless they are explicitly allowlisted by the user via `torch.serialization.add_safe_globals`. We recommend you start setting `weights_only=True` for any use case where you don't have full control of the loaded file. Please open an issue on GitHub for any issues related to this experimental feature.\n",
      "  checkpoint = torch.load(self.model_path)\n"
     ]
    },
    {
     "name": "stdout",
     "output_type": "stream",
     "text": [
      "total 0.9901477832512315\n",
      "class 0 0.9629629629629629\n",
      "class 1 0.9943181818181818\n",
      "Train t-SNE interactive HTML saved to variant_lenet_best_test_accuracy_combined_train.html\n",
      "Test t-SNE interactive HTML saved to variant_lenet_best_test_accuracy_combined_test.html\n",
      "Train t-SNE interactive HTML saved to variant_lenet_low_test_accuracy_combined_train.html\n",
      "Test t-SNE interactive HTML saved to variant_lenet_low_test_accuracy_combined_test.html\n",
      "                           0\n",
      "Accuracy              0.9901\n",
      "Recall       [0.963, 0.9943]\n",
      "Specificity  [0.9943, 0.963]\n",
      "Precision    [0.963, 0.9943]\n",
      "F1 Score     [0.963, 0.9943]\n",
      "2\n"
     ]
    },
    {
     "name": "stderr",
     "output_type": "stream",
     "text": [
      "  0%|          | 0/300 [00:00<?, ?it/s]"
     ]
    },
    {
     "name": "stdout",
     "output_type": "stream",
     "text": [
      "\n",
      "epoch 1: train average loss: 30.844 | acc: 64.16% (1167/1819)\n"
     ]
    },
    {
     "name": "stderr",
     "output_type": "stream",
     "text": [
      "  0%|          | 1/300 [00:00<02:08,  2.33it/s]"
     ]
    },
    {
     "name": "stdout",
     "output_type": "stream",
     "text": [
      "\n",
      "epoch 1: test average loss: 28.841 | acc: 86.70% (176/203)\n",
      "best test acc found\n",
      "\n",
      "epoch 2: train average loss: 26.692 | acc: 71.08% (1293/1819)\n"
     ]
    },
    {
     "name": "stderr",
     "output_type": "stream",
     "text": [
      "  1%|          | 2/300 [00:00<02:04,  2.40it/s]"
     ]
    },
    {
     "name": "stdout",
     "output_type": "stream",
     "text": [
      "\n",
      "epoch 2: test average loss: 25.181 | acc: 86.70% (176/203)\n",
      "EarlyStopping counter: 1/25 (best: 0.8670)\n",
      "\n",
      "epoch 3: train average loss: 22.939 | acc: 73.01% (1328/1819)\n"
     ]
    },
    {
     "name": "stderr",
     "output_type": "stream",
     "text": [
      "  1%|          | 3/300 [00:01<02:04,  2.38it/s]"
     ]
    },
    {
     "name": "stdout",
     "output_type": "stream",
     "text": [
      "\n",
      "epoch 3: test average loss: 22.575 | acc: 86.70% (176/203)\n",
      "EarlyStopping counter: 2/25 (best: 0.8670)\n",
      "\n",
      "epoch 4: train average loss: 21.248 | acc: 77.84% (1416/1819)\n"
     ]
    },
    {
     "name": "stderr",
     "output_type": "stream",
     "text": [
      "  1%|▏         | 4/300 [00:01<02:02,  2.42it/s]"
     ]
    },
    {
     "name": "stdout",
     "output_type": "stream",
     "text": [
      "\n",
      "epoch 4: test average loss: 21.692 | acc: 86.70% (176/203)\n",
      "EarlyStopping counter: 3/25 (best: 0.8670)\n",
      "\n",
      "epoch 5: train average loss: 19.300 | acc: 79.93% (1454/1819)\n"
     ]
    },
    {
     "name": "stderr",
     "output_type": "stream",
     "text": [
      "  2%|▏         | 5/300 [00:02<02:02,  2.40it/s]"
     ]
    },
    {
     "name": "stdout",
     "output_type": "stream",
     "text": [
      "\n",
      "epoch 5: test average loss: 21.847 | acc: 86.70% (176/203)\n",
      "EarlyStopping counter: 4/25 (best: 0.8670)\n",
      "\n",
      "epoch 6: train average loss: 18.871 | acc: 79.16% (1440/1819)\n"
     ]
    },
    {
     "name": "stderr",
     "output_type": "stream",
     "text": [
      "  2%|▏         | 6/300 [00:02<02:05,  2.33it/s]"
     ]
    },
    {
     "name": "stdout",
     "output_type": "stream",
     "text": [
      "\n",
      "epoch 6: test average loss: 21.184 | acc: 86.70% (176/203)\n",
      "EarlyStopping counter: 5/25 (best: 0.8670)\n",
      "\n",
      "epoch 7: train average loss: 17.304 | acc: 82.24% (1496/1819)\n"
     ]
    },
    {
     "name": "stderr",
     "output_type": "stream",
     "text": [
      "  2%|▏         | 7/300 [00:02<02:03,  2.37it/s]"
     ]
    },
    {
     "name": "stdout",
     "output_type": "stream",
     "text": [
      "\n",
      "epoch 7: test average loss: 21.814 | acc: 86.70% (176/203)\n",
      "EarlyStopping counter: 6/25 (best: 0.8670)\n",
      "\n",
      "epoch 8: train average loss: 16.123 | acc: 84.28% (1533/1819)\n",
      "\n",
      "epoch 8: test average loss: 20.866 | acc: 93.60% (190/203)\n",
      "best test acc found\n"
     ]
    },
    {
     "name": "stderr",
     "output_type": "stream",
     "text": [
      "  3%|▎         | 8/300 [00:03<02:05,  2.32it/s]"
     ]
    },
    {
     "name": "stdout",
     "output_type": "stream",
     "text": [
      "\n",
      "epoch 9: train average loss: 14.995 | acc: 84.61% (1539/1819)\n",
      "\n",
      "epoch 9: test average loss: 20.153 | acc: 97.04% (197/203)\n",
      "best test acc found\n"
     ]
    },
    {
     "name": "stderr",
     "output_type": "stream",
     "text": [
      "  3%|▎         | 9/300 [00:03<02:09,  2.26it/s]"
     ]
    },
    {
     "name": "stdout",
     "output_type": "stream",
     "text": [
      "\n",
      "epoch 10: train average loss: 13.186 | acc: 86.64% (1576/1819)\n"
     ]
    },
    {
     "name": "stderr",
     "output_type": "stream",
     "text": [
      "  3%|▎         | 10/300 [00:04<02:08,  2.26it/s]"
     ]
    },
    {
     "name": "stdout",
     "output_type": "stream",
     "text": [
      "\n",
      "epoch 10: test average loss: 19.997 | acc: 84.24% (171/203)\n",
      "EarlyStopping counter: 1/25 (best: 0.9704)\n",
      "\n",
      "epoch 11: train average loss: 13.001 | acc: 85.87% (1562/1819)\n"
     ]
    },
    {
     "name": "stderr",
     "output_type": "stream",
     "text": [
      "  4%|▎         | 11/300 [00:04<02:05,  2.30it/s]"
     ]
    },
    {
     "name": "stdout",
     "output_type": "stream",
     "text": [
      "\n",
      "epoch 11: test average loss: 21.638 | acc: 97.04% (197/203)\n",
      "EarlyStopping counter: 2/25 (best: 0.9704)\n",
      "\n",
      "epoch 12: train average loss: 14.060 | acc: 88.18% (1604/1819)\n"
     ]
    },
    {
     "name": "stderr",
     "output_type": "stream",
     "text": [
      "  4%|▍         | 12/300 [00:05<02:08,  2.24it/s]"
     ]
    },
    {
     "name": "stdout",
     "output_type": "stream",
     "text": [
      "\n",
      "epoch 12: test average loss: 29.492 | acc: 54.19% (110/203)\n",
      "EarlyStopping counter: 3/25 (best: 0.9704)\n",
      "\n",
      "epoch 13: train average loss: 12.739 | acc: 88.73% (1614/1819)\n"
     ]
    },
    {
     "name": "stderr",
     "output_type": "stream",
     "text": [
      "  4%|▍         | 13/300 [00:05<02:06,  2.26it/s]"
     ]
    },
    {
     "name": "stdout",
     "output_type": "stream",
     "text": [
      "\n",
      "epoch 13: test average loss: 19.290 | acc: 87.68% (178/203)\n",
      "EarlyStopping counter: 4/25 (best: 0.9704)\n",
      "\n",
      "epoch 14: train average loss: 11.714 | acc: 89.88% (1635/1819)\n"
     ]
    },
    {
     "name": "stderr",
     "output_type": "stream",
     "text": [
      "  5%|▍         | 14/300 [00:06<02:05,  2.29it/s]"
     ]
    },
    {
     "name": "stdout",
     "output_type": "stream",
     "text": [
      "\n",
      "epoch 14: test average loss: 20.903 | acc: 83.25% (169/203)\n",
      "EarlyStopping counter: 5/25 (best: 0.9704)\n",
      "\n",
      "epoch 15: train average loss: 10.521 | acc: 89.17% (1622/1819)\n"
     ]
    },
    {
     "name": "stderr",
     "output_type": "stream",
     "text": [
      "  5%|▌         | 15/300 [00:06<02:02,  2.32it/s]"
     ]
    },
    {
     "name": "stdout",
     "output_type": "stream",
     "text": [
      "\n",
      "epoch 15: test average loss: 20.245 | acc: 90.64% (184/203)\n",
      "EarlyStopping counter: 6/25 (best: 0.9704)\n",
      "\n",
      "epoch 16: train average loss: 9.223 | acc: 90.32% (1643/1819)\n"
     ]
    },
    {
     "name": "stderr",
     "output_type": "stream",
     "text": [
      "  5%|▌         | 16/300 [00:06<01:59,  2.38it/s]"
     ]
    },
    {
     "name": "stdout",
     "output_type": "stream",
     "text": [
      "\n",
      "epoch 16: test average loss: 22.678 | acc: 80.30% (163/203)\n",
      "EarlyStopping counter: 7/25 (best: 0.9704)\n",
      "\n",
      "epoch 17: train average loss: 7.710 | acc: 90.54% (1647/1819)\n"
     ]
    },
    {
     "name": "stderr",
     "output_type": "stream",
     "text": [
      "  6%|▌         | 17/300 [00:07<01:58,  2.39it/s]"
     ]
    },
    {
     "name": "stdout",
     "output_type": "stream",
     "text": [
      "\n",
      "epoch 17: test average loss: 19.648 | acc: 97.54% (198/203)\n",
      "best test acc found\n",
      "\n",
      "epoch 18: train average loss: 7.247 | acc: 91.92% (1672/1819)\n"
     ]
    },
    {
     "name": "stderr",
     "output_type": "stream",
     "text": [
      "  6%|▌         | 18/300 [00:07<01:56,  2.41it/s]"
     ]
    },
    {
     "name": "stdout",
     "output_type": "stream",
     "text": [
      "\n",
      "epoch 18: test average loss: 23.026 | acc: 74.88% (152/203)\n",
      "EarlyStopping counter: 1/25 (best: 0.9754)\n",
      "\n",
      "epoch 19: train average loss: 7.251 | acc: 92.69% (1686/1819)\n"
     ]
    },
    {
     "name": "stderr",
     "output_type": "stream",
     "text": [
      "  6%|▋         | 19/300 [00:08<01:54,  2.45it/s]"
     ]
    },
    {
     "name": "stdout",
     "output_type": "stream",
     "text": [
      "\n",
      "epoch 19: test average loss: 19.014 | acc: 92.61% (188/203)\n",
      "EarlyStopping counter: 2/25 (best: 0.9754)\n",
      "\n",
      "epoch 20: train average loss: 8.351 | acc: 92.74% (1687/1819)\n"
     ]
    },
    {
     "name": "stderr",
     "output_type": "stream",
     "text": [
      "  7%|▋         | 20/300 [00:08<01:53,  2.47it/s]"
     ]
    },
    {
     "name": "stdout",
     "output_type": "stream",
     "text": [
      "\n",
      "epoch 20: test average loss: 20.085 | acc: 95.57% (194/203)\n",
      "EarlyStopping counter: 3/25 (best: 0.9754)\n",
      "\n",
      "epoch 21: train average loss: 8.273 | acc: 91.92% (1672/1819)\n"
     ]
    },
    {
     "name": "stderr",
     "output_type": "stream",
     "text": [
      "  7%|▋         | 21/300 [00:08<01:51,  2.50it/s]"
     ]
    },
    {
     "name": "stdout",
     "output_type": "stream",
     "text": [
      "\n",
      "epoch 21: test average loss: 35.455 | acc: 52.22% (106/203)\n",
      "EarlyStopping counter: 4/25 (best: 0.9754)\n",
      "\n",
      "epoch 22: train average loss: 8.199 | acc: 92.25% (1678/1819)\n"
     ]
    },
    {
     "name": "stderr",
     "output_type": "stream",
     "text": [
      "  7%|▋         | 22/300 [00:09<01:52,  2.47it/s]"
     ]
    },
    {
     "name": "stdout",
     "output_type": "stream",
     "text": [
      "\n",
      "epoch 22: test average loss: 20.345 | acc: 98.52% (200/203)\n",
      "best test acc found\n",
      "\n",
      "epoch 23: train average loss: 8.915 | acc: 92.03% (1674/1819)\n"
     ]
    },
    {
     "name": "stderr",
     "output_type": "stream",
     "text": [
      "  8%|▊         | 23/300 [00:09<01:50,  2.50it/s]"
     ]
    },
    {
     "name": "stdout",
     "output_type": "stream",
     "text": [
      "\n",
      "epoch 23: test average loss: 19.264 | acc: 95.07% (193/203)\n",
      "EarlyStopping counter: 1/25 (best: 0.9852)\n",
      "\n",
      "epoch 24: train average loss: 6.196 | acc: 92.96% (1691/1819)\n"
     ]
    },
    {
     "name": "stderr",
     "output_type": "stream",
     "text": [
      "  8%|▊         | 24/300 [00:10<01:53,  2.43it/s]"
     ]
    },
    {
     "name": "stdout",
     "output_type": "stream",
     "text": [
      "\n",
      "epoch 24: test average loss: 19.698 | acc: 96.55% (196/203)\n",
      "EarlyStopping counter: 2/25 (best: 0.9852)\n",
      "\n",
      "epoch 25: train average loss: 4.710 | acc: 93.13% (1694/1819)\n"
     ]
    },
    {
     "name": "stderr",
     "output_type": "stream",
     "text": [
      "  8%|▊         | 25/300 [00:10<01:51,  2.46it/s]"
     ]
    },
    {
     "name": "stdout",
     "output_type": "stream",
     "text": [
      "\n",
      "epoch 25: test average loss: 21.286 | acc: 84.24% (171/203)\n",
      "EarlyStopping counter: 3/25 (best: 0.9852)\n",
      "\n",
      "epoch 26: train average loss: 3.274 | acc: 94.45% (1718/1819)\n"
     ]
    },
    {
     "name": "stderr",
     "output_type": "stream",
     "text": [
      "  9%|▊         | 26/300 [00:10<01:51,  2.46it/s]"
     ]
    },
    {
     "name": "stdout",
     "output_type": "stream",
     "text": [
      "\n",
      "epoch 26: test average loss: 18.865 | acc: 98.03% (199/203)\n",
      "EarlyStopping counter: 4/25 (best: 0.9852)\n",
      "\n",
      "epoch 27: train average loss: 2.345 | acc: 93.84% (1707/1819)\n"
     ]
    },
    {
     "name": "stderr",
     "output_type": "stream",
     "text": [
      "  9%|▉         | 27/300 [00:11<01:48,  2.51it/s]"
     ]
    },
    {
     "name": "stdout",
     "output_type": "stream",
     "text": [
      "\n",
      "epoch 27: test average loss: 20.265 | acc: 99.51% (202/203)\n",
      "best test acc found\n",
      "\n",
      "epoch 28: train average loss: 2.201 | acc: 94.72% (1723/1819)\n"
     ]
    },
    {
     "name": "stderr",
     "output_type": "stream",
     "text": [
      "  9%|▉         | 28/300 [00:11<01:45,  2.59it/s]"
     ]
    },
    {
     "name": "stdout",
     "output_type": "stream",
     "text": [
      "\n",
      "epoch 28: test average loss: 19.018 | acc: 93.10% (189/203)\n",
      "EarlyStopping counter: 1/25 (best: 0.9951)\n",
      "\n",
      "epoch 29: train average loss: 1.881 | acc: 94.01% (1710/1819)\n"
     ]
    },
    {
     "name": "stderr",
     "output_type": "stream",
     "text": [
      " 10%|▉         | 29/300 [00:12<01:42,  2.64it/s]"
     ]
    },
    {
     "name": "stdout",
     "output_type": "stream",
     "text": [
      "\n",
      "epoch 29: test average loss: 19.122 | acc: 88.18% (179/203)\n",
      "EarlyStopping counter: 2/25 (best: 0.9951)\n",
      "\n",
      "epoch 30: train average loss: 1.812 | acc: 95.38% (1735/1819)\n"
     ]
    },
    {
     "name": "stderr",
     "output_type": "stream",
     "text": [
      " 10%|█         | 30/300 [00:12<01:42,  2.63it/s]"
     ]
    },
    {
     "name": "stdout",
     "output_type": "stream",
     "text": [
      "\n",
      "epoch 30: test average loss: 19.614 | acc: 92.61% (188/203)\n",
      "EarlyStopping counter: 3/25 (best: 0.9951)\n",
      "\n",
      "epoch 31: train average loss: 1.763 | acc: 96.10% (1748/1819)\n"
     ]
    },
    {
     "name": "stderr",
     "output_type": "stream",
     "text": [
      " 10%|█         | 31/300 [00:12<01:45,  2.54it/s]"
     ]
    },
    {
     "name": "stdout",
     "output_type": "stream",
     "text": [
      "\n",
      "epoch 31: test average loss: 19.425 | acc: 93.60% (190/203)\n",
      "EarlyStopping counter: 4/25 (best: 0.9951)\n",
      "\n",
      "epoch 32: train average loss: 1.770 | acc: 95.82% (1743/1819)\n"
     ]
    },
    {
     "name": "stderr",
     "output_type": "stream",
     "text": [
      " 11%|█         | 32/300 [00:13<01:47,  2.50it/s]"
     ]
    },
    {
     "name": "stdout",
     "output_type": "stream",
     "text": [
      "\n",
      "epoch 32: test average loss: 18.792 | acc: 93.10% (189/203)\n",
      "EarlyStopping counter: 5/25 (best: 0.9951)\n",
      "\n",
      "epoch 33: train average loss: 1.742 | acc: 95.38% (1735/1819)\n"
     ]
    },
    {
     "name": "stderr",
     "output_type": "stream",
     "text": [
      " 11%|█         | 33/300 [00:13<01:46,  2.51it/s]"
     ]
    },
    {
     "name": "stdout",
     "output_type": "stream",
     "text": [
      "\n",
      "epoch 33: test average loss: 19.198 | acc: 93.60% (190/203)\n",
      "EarlyStopping counter: 6/25 (best: 0.9951)\n",
      "\n",
      "epoch 34: train average loss: 1.661 | acc: 95.71% (1741/1819)\n"
     ]
    },
    {
     "name": "stderr",
     "output_type": "stream",
     "text": [
      " 11%|█▏        | 34/300 [00:14<01:44,  2.54it/s]"
     ]
    },
    {
     "name": "stdout",
     "output_type": "stream",
     "text": [
      "\n",
      "epoch 34: test average loss: 19.532 | acc: 95.57% (194/203)\n",
      "EarlyStopping counter: 7/25 (best: 0.9951)\n",
      "\n",
      "epoch 35: train average loss: 1.666 | acc: 96.48% (1755/1819)\n"
     ]
    },
    {
     "name": "stderr",
     "output_type": "stream",
     "text": [
      " 12%|█▏        | 35/300 [00:14<01:43,  2.57it/s]"
     ]
    },
    {
     "name": "stdout",
     "output_type": "stream",
     "text": [
      "\n",
      "epoch 35: test average loss: 19.761 | acc: 94.09% (191/203)\n",
      "EarlyStopping counter: 8/25 (best: 0.9951)\n",
      "\n",
      "epoch 36: train average loss: 1.644 | acc: 96.04% (1747/1819)\n"
     ]
    },
    {
     "name": "stderr",
     "output_type": "stream",
     "text": [
      " 12%|█▏        | 36/300 [00:14<01:41,  2.61it/s]"
     ]
    },
    {
     "name": "stdout",
     "output_type": "stream",
     "text": [
      "\n",
      "epoch 36: test average loss: 19.866 | acc: 94.58% (192/203)\n",
      "EarlyStopping counter: 9/25 (best: 0.9951)\n",
      "\n",
      "epoch 37: train average loss: 1.632 | acc: 95.99% (1746/1819)\n"
     ]
    },
    {
     "name": "stderr",
     "output_type": "stream",
     "text": [
      " 12%|█▏        | 37/300 [00:15<01:39,  2.65it/s]"
     ]
    },
    {
     "name": "stdout",
     "output_type": "stream",
     "text": [
      "\n",
      "epoch 37: test average loss: 19.864 | acc: 96.06% (195/203)\n",
      "EarlyStopping counter: 10/25 (best: 0.9951)\n",
      "\n",
      "epoch 38: train average loss: 1.631 | acc: 96.76% (1760/1819)\n"
     ]
    },
    {
     "name": "stderr",
     "output_type": "stream",
     "text": [
      " 13%|█▎        | 38/300 [00:15<01:38,  2.66it/s]"
     ]
    },
    {
     "name": "stdout",
     "output_type": "stream",
     "text": [
      "\n",
      "epoch 38: test average loss: 19.915 | acc: 96.55% (196/203)\n",
      "EarlyStopping counter: 11/25 (best: 0.9951)\n",
      "\n",
      "epoch 39: train average loss: 1.616 | acc: 97.20% (1768/1819)\n"
     ]
    },
    {
     "name": "stderr",
     "output_type": "stream",
     "text": [
      " 13%|█▎        | 39/300 [00:15<01:37,  2.69it/s]"
     ]
    },
    {
     "name": "stdout",
     "output_type": "stream",
     "text": [
      "\n",
      "epoch 39: test average loss: 19.754 | acc: 95.57% (194/203)\n",
      "EarlyStopping counter: 12/25 (best: 0.9951)\n",
      "\n",
      "epoch 40: train average loss: 1.611 | acc: 96.70% (1759/1819)\n"
     ]
    },
    {
     "name": "stderr",
     "output_type": "stream",
     "text": [
      " 13%|█▎        | 40/300 [00:16<01:35,  2.71it/s]"
     ]
    },
    {
     "name": "stdout",
     "output_type": "stream",
     "text": [
      "\n",
      "epoch 40: test average loss: 19.789 | acc: 96.06% (195/203)\n",
      "EarlyStopping counter: 13/25 (best: 0.9951)\n",
      "\n",
      "epoch 41: train average loss: 1.671 | acc: 96.92% (1763/1819)\n"
     ]
    },
    {
     "name": "stderr",
     "output_type": "stream",
     "text": [
      " 14%|█▎        | 41/300 [00:16<01:35,  2.71it/s]"
     ]
    },
    {
     "name": "stdout",
     "output_type": "stream",
     "text": [
      "\n",
      "epoch 41: test average loss: 19.591 | acc: 93.10% (189/203)\n",
      "EarlyStopping counter: 14/25 (best: 0.9951)\n",
      "\n",
      "epoch 42: train average loss: 1.768 | acc: 97.14% (1767/1819)\n"
     ]
    },
    {
     "name": "stderr",
     "output_type": "stream",
     "text": [
      " 14%|█▍        | 42/300 [00:16<01:35,  2.69it/s]"
     ]
    },
    {
     "name": "stdout",
     "output_type": "stream",
     "text": [
      "\n",
      "epoch 42: test average loss: 19.278 | acc: 94.58% (192/203)\n",
      "EarlyStopping counter: 15/25 (best: 0.9951)\n",
      "\n",
      "epoch 43: train average loss: 1.711 | acc: 97.20% (1768/1819)\n"
     ]
    },
    {
     "name": "stderr",
     "output_type": "stream",
     "text": [
      " 14%|█▍        | 43/300 [00:17<01:35,  2.70it/s]"
     ]
    },
    {
     "name": "stdout",
     "output_type": "stream",
     "text": [
      "\n",
      "epoch 43: test average loss: 19.393 | acc: 92.12% (187/203)\n",
      "EarlyStopping counter: 16/25 (best: 0.9951)\n",
      "\n",
      "epoch 44: train average loss: 1.618 | acc: 96.92% (1763/1819)\n"
     ]
    },
    {
     "name": "stderr",
     "output_type": "stream",
     "text": [
      " 15%|█▍        | 44/300 [00:17<01:38,  2.59it/s]"
     ]
    },
    {
     "name": "stdout",
     "output_type": "stream",
     "text": [
      "\n",
      "epoch 44: test average loss: 19.432 | acc: 91.13% (185/203)\n",
      "EarlyStopping counter: 17/25 (best: 0.9951)\n",
      "\n",
      "epoch 45: train average loss: 1.617 | acc: 98.02% (1783/1819)\n"
     ]
    },
    {
     "name": "stderr",
     "output_type": "stream",
     "text": [
      " 15%|█▌        | 45/300 [00:18<01:36,  2.63it/s]"
     ]
    },
    {
     "name": "stdout",
     "output_type": "stream",
     "text": [
      "\n",
      "epoch 45: test average loss: 19.725 | acc: 92.61% (188/203)\n",
      "EarlyStopping counter: 18/25 (best: 0.9951)\n",
      "\n",
      "epoch 46: train average loss: 1.644 | acc: 97.31% (1770/1819)\n"
     ]
    },
    {
     "name": "stderr",
     "output_type": "stream",
     "text": [
      " 15%|█▌        | 46/300 [00:18<01:34,  2.67it/s]"
     ]
    },
    {
     "name": "stdout",
     "output_type": "stream",
     "text": [
      "\n",
      "epoch 46: test average loss: 19.652 | acc: 92.12% (187/203)\n",
      "EarlyStopping counter: 19/25 (best: 0.9951)\n",
      "\n",
      "epoch 47: train average loss: 1.650 | acc: 97.20% (1768/1819)\n"
     ]
    },
    {
     "name": "stderr",
     "output_type": "stream",
     "text": [
      " 16%|█▌        | 47/300 [00:18<01:33,  2.70it/s]"
     ]
    },
    {
     "name": "stdout",
     "output_type": "stream",
     "text": [
      "\n",
      "epoch 47: test average loss: 19.623 | acc: 93.10% (189/203)\n",
      "EarlyStopping counter: 20/25 (best: 0.9951)\n",
      "\n",
      "epoch 48: train average loss: 1.626 | acc: 97.47% (1773/1819)\n"
     ]
    },
    {
     "name": "stderr",
     "output_type": "stream",
     "text": [
      " 16%|█▌        | 48/300 [00:19<01:35,  2.64it/s]"
     ]
    },
    {
     "name": "stdout",
     "output_type": "stream",
     "text": [
      "\n",
      "epoch 48: test average loss: 19.759 | acc: 94.58% (192/203)\n",
      "EarlyStopping counter: 21/25 (best: 0.9951)\n",
      "\n",
      "epoch 49: train average loss: 1.609 | acc: 97.03% (1765/1819)\n"
     ]
    },
    {
     "name": "stderr",
     "output_type": "stream",
     "text": [
      " 16%|█▋        | 49/300 [00:19<01:33,  2.68it/s]"
     ]
    },
    {
     "name": "stdout",
     "output_type": "stream",
     "text": [
      "\n",
      "epoch 49: test average loss: 19.642 | acc: 93.60% (190/203)\n",
      "EarlyStopping counter: 22/25 (best: 0.9951)\n",
      "\n",
      "epoch 50: train average loss: 1.608 | acc: 97.36% (1771/1819)\n"
     ]
    },
    {
     "name": "stderr",
     "output_type": "stream",
     "text": [
      " 17%|█▋        | 50/300 [00:19<01:31,  2.74it/s]"
     ]
    },
    {
     "name": "stdout",
     "output_type": "stream",
     "text": [
      "\n",
      "epoch 50: test average loss: 19.683 | acc: 94.58% (192/203)\n",
      "EarlyStopping counter: 23/25 (best: 0.9951)\n",
      "\n",
      "epoch 51: train average loss: 1.680 | acc: 97.14% (1767/1819)\n"
     ]
    },
    {
     "name": "stderr",
     "output_type": "stream",
     "text": [
      " 17%|█▋        | 51/300 [00:20<01:29,  2.78it/s]"
     ]
    },
    {
     "name": "stdout",
     "output_type": "stream",
     "text": [
      "\n",
      "epoch 51: test average loss: 19.883 | acc: 96.06% (195/203)\n",
      "EarlyStopping counter: 24/25 (best: 0.9951)\n",
      "\n",
      "epoch 52: train average loss: 1.718 | acc: 97.69% (1777/1819)\n"
     ]
    },
    {
     "name": "stderr",
     "output_type": "stream",
     "text": [
      " 17%|█▋        | 51/300 [00:20<01:40,  2.47it/s]"
     ]
    },
    {
     "name": "stdout",
     "output_type": "stream",
     "text": [
      "\n",
      "epoch 52: test average loss: 19.936 | acc: 96.06% (195/203)\n",
      "EarlyStopping counter: 25/25 (best: 0.9951)\n",
      "🔴 Early stopping triggered\n",
      "load model at epoch 27, with test acc : 0.995\n"
     ]
    },
    {
     "name": "stderr",
     "output_type": "stream",
     "text": [
      "\n",
      "/tmp/ipykernel_3337346/1054042983.py:175: FutureWarning:\n",
      "\n",
      "You are using `torch.load` with `weights_only=False` (the current default value), which uses the default pickle module implicitly. It is possible to construct malicious pickle data which will execute arbitrary code during unpickling (See https://github.com/pytorch/pytorch/blob/main/SECURITY.md#untrusted-models for more details). In a future release, the default value for `weights_only` will be flipped to `True`. This limits the functions that could be executed during unpickling. Arbitrary objects will no longer be allowed to be loaded via this mode unless they are explicitly allowlisted by the user via `torch.serialization.add_safe_globals`. We recommend you start setting `weights_only=True` for any use case where you don't have full control of the loaded file. Please open an issue on GitHub for any issues related to this experimental feature.\n",
      "\n"
     ]
    },
    {
     "name": "stdout",
     "output_type": "stream",
     "text": [
      "total 0.9950738916256158\n",
      "class 0 0.9629629629629629\n",
      "class 1 1.0\n",
      "Train t-SNE interactive HTML saved to variant_lenet_best_test_accuracy_combined_train.html\n",
      "Test t-SNE interactive HTML saved to variant_lenet_best_test_accuracy_combined_test.html\n",
      "                            0\n",
      "Accuracy               0.9951\n",
      "Recall           [0.963, 1.0]\n",
      "Specificity      [1.0, 0.963]\n",
      "Precision       [1.0, 0.9944]\n",
      "F1 Score     [0.9811, 0.9972]\n",
      "3\n"
     ]
    },
    {
     "name": "stderr",
     "output_type": "stream",
     "text": [
      "  0%|          | 0/300 [00:00<?, ?it/s]"
     ]
    },
    {
     "name": "stdout",
     "output_type": "stream",
     "text": [
      "\n",
      "epoch 1: train average loss: 31.265 | acc: 63.57% (1157/1820)\n"
     ]
    },
    {
     "name": "stderr",
     "output_type": "stream",
     "text": [
      "  0%|          | 1/300 [00:00<02:05,  2.39it/s]"
     ]
    },
    {
     "name": "stdout",
     "output_type": "stream",
     "text": [
      "\n",
      "epoch 1: test average loss: 27.256 | acc: 87.13% (176/202)\n",
      "best test acc found\n",
      "\n",
      "epoch 2: train average loss: 26.392 | acc: 67.25% (1224/1820)\n"
     ]
    },
    {
     "name": "stderr",
     "output_type": "stream",
     "text": [
      "  1%|          | 2/300 [00:00<01:57,  2.53it/s]"
     ]
    },
    {
     "name": "stdout",
     "output_type": "stream",
     "text": [
      "\n",
      "epoch 2: test average loss: 23.503 | acc: 87.13% (176/202)\n",
      "EarlyStopping counter: 1/25 (best: 0.8713)\n",
      "\n",
      "epoch 3: train average loss: 22.930 | acc: 73.02% (1329/1820)\n"
     ]
    },
    {
     "name": "stderr",
     "output_type": "stream",
     "text": [
      "  1%|          | 3/300 [00:01<01:53,  2.62it/s]"
     ]
    },
    {
     "name": "stdout",
     "output_type": "stream",
     "text": [
      "\n",
      "epoch 3: test average loss: 22.001 | acc: 87.13% (176/202)\n",
      "EarlyStopping counter: 2/25 (best: 0.8713)\n",
      "\n",
      "epoch 4: train average loss: 20.341 | acc: 76.92% (1400/1820)\n"
     ]
    },
    {
     "name": "stderr",
     "output_type": "stream",
     "text": [
      "  1%|▏         | 4/300 [00:01<01:52,  2.64it/s]"
     ]
    },
    {
     "name": "stdout",
     "output_type": "stream",
     "text": [
      "\n",
      "epoch 4: test average loss: 22.080 | acc: 87.13% (176/202)\n",
      "EarlyStopping counter: 3/25 (best: 0.8713)\n",
      "\n",
      "epoch 5: train average loss: 19.220 | acc: 80.77% (1470/1820)\n"
     ]
    },
    {
     "name": "stderr",
     "output_type": "stream",
     "text": [
      "  2%|▏         | 5/300 [00:01<01:50,  2.68it/s]"
     ]
    },
    {
     "name": "stdout",
     "output_type": "stream",
     "text": [
      "\n",
      "epoch 5: test average loss: 22.525 | acc: 87.13% (176/202)\n",
      "EarlyStopping counter: 4/25 (best: 0.8713)\n",
      "\n",
      "epoch 6: train average loss: 18.662 | acc: 80.27% (1461/1820)\n"
     ]
    },
    {
     "name": "stderr",
     "output_type": "stream",
     "text": [
      "  2%|▏         | 6/300 [00:02<01:59,  2.46it/s]"
     ]
    },
    {
     "name": "stdout",
     "output_type": "stream",
     "text": [
      "\n",
      "epoch 6: test average loss: 23.221 | acc: 87.13% (176/202)\n",
      "EarlyStopping counter: 5/25 (best: 0.8713)\n",
      "\n",
      "epoch 7: train average loss: 16.845 | acc: 82.75% (1506/1820)\n"
     ]
    },
    {
     "name": "stderr",
     "output_type": "stream",
     "text": [
      "  2%|▏         | 7/300 [00:02<02:07,  2.29it/s]"
     ]
    },
    {
     "name": "stdout",
     "output_type": "stream",
     "text": [
      "\n",
      "epoch 7: test average loss: 22.879 | acc: 87.13% (176/202)\n",
      "EarlyStopping counter: 6/25 (best: 0.8713)\n",
      "\n",
      "epoch 8: train average loss: 15.831 | acc: 85.05% (1548/1820)\n",
      "\n",
      "epoch 8: test average loss: 21.146 | acc: 87.62% (177/202)\n",
      "best test acc found\n"
     ]
    },
    {
     "name": "stderr",
     "output_type": "stream",
     "text": [
      "  3%|▎         | 8/300 [00:03<02:12,  2.20it/s]"
     ]
    },
    {
     "name": "stdout",
     "output_type": "stream",
     "text": [
      "\n",
      "epoch 9: train average loss: 15.125 | acc: 84.29% (1534/1820)\n"
     ]
    },
    {
     "name": "stderr",
     "output_type": "stream",
     "text": [
      "  3%|▎         | 9/300 [00:03<02:12,  2.20it/s]"
     ]
    },
    {
     "name": "stdout",
     "output_type": "stream",
     "text": [
      "\n",
      "epoch 9: test average loss: 20.913 | acc: 94.55% (191/202)\n",
      "best test acc found\n",
      "\n",
      "epoch 10: train average loss: 14.544 | acc: 87.09% (1585/1820)\n"
     ]
    },
    {
     "name": "stderr",
     "output_type": "stream",
     "text": [
      "  3%|▎         | 10/300 [00:04<02:07,  2.28it/s]"
     ]
    },
    {
     "name": "stdout",
     "output_type": "stream",
     "text": [
      "\n",
      "epoch 10: test average loss: 19.677 | acc: 98.02% (198/202)\n",
      "best test acc found\n",
      "\n",
      "epoch 11: train average loss: 13.257 | acc: 87.03% (1584/1820)\n"
     ]
    },
    {
     "name": "stderr",
     "output_type": "stream",
     "text": [
      "  4%|▎         | 11/300 [00:04<02:01,  2.38it/s]"
     ]
    },
    {
     "name": "stdout",
     "output_type": "stream",
     "text": [
      "\n",
      "epoch 11: test average loss: 21.659 | acc: 83.17% (168/202)\n",
      "EarlyStopping counter: 1/25 (best: 0.9802)\n",
      "\n",
      "epoch 12: train average loss: 13.567 | acc: 88.19% (1605/1820)\n"
     ]
    },
    {
     "name": "stderr",
     "output_type": "stream",
     "text": [
      "  4%|▍         | 12/300 [00:04<01:58,  2.42it/s]"
     ]
    },
    {
     "name": "stdout",
     "output_type": "stream",
     "text": [
      "\n",
      "epoch 12: test average loss: 20.283 | acc: 96.53% (195/202)\n",
      "EarlyStopping counter: 2/25 (best: 0.9802)\n",
      "\n",
      "epoch 13: train average loss: 14.231 | acc: 88.90% (1618/1820)\n"
     ]
    },
    {
     "name": "stderr",
     "output_type": "stream",
     "text": [
      "  4%|▍         | 13/300 [00:05<01:55,  2.48it/s]"
     ]
    },
    {
     "name": "stdout",
     "output_type": "stream",
     "text": [
      "\n",
      "epoch 13: test average loss: 36.507 | acc: 33.17% (67/202)\n",
      "EarlyStopping counter: 3/25 (best: 0.9802)\n",
      "\n",
      "epoch 14: train average loss: 14.831 | acc: 87.69% (1596/1820)\n"
     ]
    },
    {
     "name": "stderr",
     "output_type": "stream",
     "text": [
      "  5%|▍         | 14/300 [00:05<01:52,  2.54it/s]"
     ]
    },
    {
     "name": "stdout",
     "output_type": "stream",
     "text": [
      "\n",
      "epoch 14: test average loss: 20.373 | acc: 98.51% (199/202)\n",
      "best test acc found\n",
      "\n",
      "epoch 15: train average loss: 13.332 | acc: 87.75% (1597/1820)\n"
     ]
    },
    {
     "name": "stderr",
     "output_type": "stream",
     "text": [
      "  5%|▌         | 15/300 [00:06<01:48,  2.64it/s]"
     ]
    },
    {
     "name": "stdout",
     "output_type": "stream",
     "text": [
      "\n",
      "epoch 15: test average loss: 19.743 | acc: 74.75% (151/202)\n",
      "EarlyStopping counter: 1/25 (best: 0.9851)\n",
      "\n",
      "epoch 16: train average loss: 11.722 | acc: 90.49% (1647/1820)\n"
     ]
    },
    {
     "name": "stderr",
     "output_type": "stream",
     "text": [
      "  5%|▌         | 16/300 [00:06<01:45,  2.68it/s]"
     ]
    },
    {
     "name": "stdout",
     "output_type": "stream",
     "text": [
      "\n",
      "epoch 16: test average loss: 16.823 | acc: 97.03% (196/202)\n",
      "EarlyStopping counter: 2/25 (best: 0.9851)\n",
      "\n",
      "epoch 17: train average loss: 11.591 | acc: 89.23% (1624/1820)\n"
     ]
    },
    {
     "name": "stderr",
     "output_type": "stream",
     "text": [
      "  6%|▌         | 17/300 [00:06<01:43,  2.73it/s]"
     ]
    },
    {
     "name": "stdout",
     "output_type": "stream",
     "text": [
      "\n",
      "epoch 17: test average loss: 16.389 | acc: 90.10% (182/202)\n",
      "EarlyStopping counter: 3/25 (best: 0.9851)\n",
      "\n",
      "epoch 18: train average loss: 10.336 | acc: 91.43% (1664/1820)\n"
     ]
    },
    {
     "name": "stderr",
     "output_type": "stream",
     "text": [
      "  6%|▌         | 18/300 [00:07<01:42,  2.75it/s]"
     ]
    },
    {
     "name": "stdout",
     "output_type": "stream",
     "text": [
      "\n",
      "epoch 18: test average loss: 16.959 | acc: 94.55% (191/202)\n",
      "EarlyStopping counter: 4/25 (best: 0.9851)\n",
      "\n",
      "epoch 19: train average loss: 8.645 | acc: 91.10% (1658/1820)\n"
     ]
    },
    {
     "name": "stderr",
     "output_type": "stream",
     "text": [
      "  6%|▋         | 19/300 [00:07<01:41,  2.78it/s]"
     ]
    },
    {
     "name": "stdout",
     "output_type": "stream",
     "text": [
      "\n",
      "epoch 19: test average loss: 15.981 | acc: 92.08% (186/202)\n",
      "EarlyStopping counter: 5/25 (best: 0.9851)\n",
      "\n",
      "epoch 20: train average loss: 7.557 | acc: 91.81% (1671/1820)\n"
     ]
    },
    {
     "name": "stderr",
     "output_type": "stream",
     "text": [
      "  7%|▋         | 20/300 [00:07<01:40,  2.80it/s]"
     ]
    },
    {
     "name": "stdout",
     "output_type": "stream",
     "text": [
      "\n",
      "epoch 20: test average loss: 20.735 | acc: 97.52% (197/202)\n",
      "EarlyStopping counter: 6/25 (best: 0.9851)\n",
      "\n",
      "epoch 21: train average loss: 7.143 | acc: 91.70% (1669/1820)\n"
     ]
    },
    {
     "name": "stderr",
     "output_type": "stream",
     "text": [
      "  7%|▋         | 21/300 [00:08<01:39,  2.80it/s]"
     ]
    },
    {
     "name": "stdout",
     "output_type": "stream",
     "text": [
      "\n",
      "epoch 21: test average loss: 16.754 | acc: 95.54% (193/202)\n",
      "EarlyStopping counter: 7/25 (best: 0.9851)\n",
      "\n",
      "epoch 22: train average loss: 5.541 | acc: 93.79% (1707/1820)\n"
     ]
    },
    {
     "name": "stderr",
     "output_type": "stream",
     "text": [
      "  7%|▋         | 22/300 [00:08<01:38,  2.82it/s]"
     ]
    },
    {
     "name": "stdout",
     "output_type": "stream",
     "text": [
      "\n",
      "epoch 22: test average loss: 22.765 | acc: 79.70% (161/202)\n",
      "EarlyStopping counter: 8/25 (best: 0.9851)\n",
      "\n",
      "epoch 23: train average loss: 4.241 | acc: 93.35% (1699/1820)\n"
     ]
    },
    {
     "name": "stderr",
     "output_type": "stream",
     "text": [
      "  8%|▊         | 23/300 [00:08<01:38,  2.82it/s]"
     ]
    },
    {
     "name": "stdout",
     "output_type": "stream",
     "text": [
      "\n",
      "epoch 23: test average loss: 26.084 | acc: 73.27% (148/202)\n",
      "EarlyStopping counter: 9/25 (best: 0.9851)\n",
      "\n",
      "epoch 24: train average loss: 4.422 | acc: 94.45% (1719/1820)\n"
     ]
    },
    {
     "name": "stderr",
     "output_type": "stream",
     "text": [
      "  8%|▊         | 24/300 [00:09<01:37,  2.84it/s]"
     ]
    },
    {
     "name": "stdout",
     "output_type": "stream",
     "text": [
      "\n",
      "epoch 24: test average loss: 19.717 | acc: 97.52% (197/202)\n",
      "EarlyStopping counter: 10/25 (best: 0.9851)\n",
      "\n",
      "epoch 25: train average loss: 3.160 | acc: 94.29% (1716/1820)\n"
     ]
    },
    {
     "name": "stderr",
     "output_type": "stream",
     "text": [
      "  8%|▊         | 25/300 [00:09<01:37,  2.83it/s]"
     ]
    },
    {
     "name": "stdout",
     "output_type": "stream",
     "text": [
      "\n",
      "epoch 25: test average loss: 25.472 | acc: 81.19% (164/202)\n",
      "EarlyStopping counter: 11/25 (best: 0.9851)\n",
      "\n",
      "epoch 26: train average loss: 2.761 | acc: 93.41% (1700/1820)\n"
     ]
    },
    {
     "name": "stderr",
     "output_type": "stream",
     "text": [
      "  9%|▊         | 26/300 [00:10<01:39,  2.75it/s]"
     ]
    },
    {
     "name": "stdout",
     "output_type": "stream",
     "text": [
      "\n",
      "epoch 26: test average loss: 19.970 | acc: 98.02% (198/202)\n",
      "EarlyStopping counter: 12/25 (best: 0.9851)\n",
      "\n",
      "epoch 27: train average loss: 2.166 | acc: 93.63% (1704/1820)\n"
     ]
    },
    {
     "name": "stderr",
     "output_type": "stream",
     "text": [
      "  9%|▉         | 27/300 [00:10<01:44,  2.60it/s]"
     ]
    },
    {
     "name": "stdout",
     "output_type": "stream",
     "text": [
      "\n",
      "epoch 27: test average loss: 16.464 | acc: 93.56% (189/202)\n",
      "EarlyStopping counter: 13/25 (best: 0.9851)\n",
      "\n",
      "epoch 28: train average loss: 2.426 | acc: 93.68% (1705/1820)\n"
     ]
    },
    {
     "name": "stderr",
     "output_type": "stream",
     "text": [
      "  9%|▉         | 28/300 [00:10<01:44,  2.61it/s]"
     ]
    },
    {
     "name": "stdout",
     "output_type": "stream",
     "text": [
      "\n",
      "epoch 28: test average loss: 16.416 | acc: 96.04% (194/202)\n",
      "EarlyStopping counter: 14/25 (best: 0.9851)\n",
      "\n",
      "epoch 29: train average loss: 2.282 | acc: 95.16% (1732/1820)\n"
     ]
    },
    {
     "name": "stderr",
     "output_type": "stream",
     "text": [
      " 10%|▉         | 29/300 [00:11<01:44,  2.59it/s]"
     ]
    },
    {
     "name": "stdout",
     "output_type": "stream",
     "text": [
      "\n",
      "epoch 29: test average loss: 19.361 | acc: 93.56% (189/202)\n",
      "EarlyStopping counter: 15/25 (best: 0.9851)\n",
      "\n",
      "epoch 30: train average loss: 2.765 | acc: 94.12% (1713/1820)\n"
     ]
    },
    {
     "name": "stderr",
     "output_type": "stream",
     "text": [
      " 10%|█         | 30/300 [00:11<01:42,  2.63it/s]"
     ]
    },
    {
     "name": "stdout",
     "output_type": "stream",
     "text": [
      "\n",
      "epoch 30: test average loss: 15.477 | acc: 92.57% (187/202)\n",
      "EarlyStopping counter: 16/25 (best: 0.9851)\n",
      "\n",
      "epoch 31: train average loss: 4.191 | acc: 95.60% (1740/1820)\n"
     ]
    },
    {
     "name": "stderr",
     "output_type": "stream",
     "text": [
      " 10%|█         | 31/300 [00:11<01:41,  2.65it/s]"
     ]
    },
    {
     "name": "stdout",
     "output_type": "stream",
     "text": [
      "\n",
      "epoch 31: test average loss: 16.268 | acc: 97.52% (197/202)\n",
      "EarlyStopping counter: 17/25 (best: 0.9851)\n",
      "\n",
      "epoch 32: train average loss: 2.716 | acc: 94.12% (1713/1820)\n"
     ]
    },
    {
     "name": "stderr",
     "output_type": "stream",
     "text": [
      " 11%|█         | 32/300 [00:12<01:41,  2.65it/s]"
     ]
    },
    {
     "name": "stdout",
     "output_type": "stream",
     "text": [
      "\n",
      "epoch 32: test average loss: 13.674 | acc: 95.05% (192/202)\n",
      "EarlyStopping counter: 18/25 (best: 0.9851)\n",
      "\n",
      "epoch 33: train average loss: 2.212 | acc: 94.07% (1712/1820)\n"
     ]
    },
    {
     "name": "stderr",
     "output_type": "stream",
     "text": [
      " 11%|█         | 33/300 [00:12<01:39,  2.67it/s]"
     ]
    },
    {
     "name": "stdout",
     "output_type": "stream",
     "text": [
      "\n",
      "epoch 33: test average loss: 21.090 | acc: 98.02% (198/202)\n",
      "EarlyStopping counter: 19/25 (best: 0.9851)\n",
      "\n",
      "epoch 34: train average loss: 2.078 | acc: 94.56% (1721/1820)\n"
     ]
    },
    {
     "name": "stderr",
     "output_type": "stream",
     "text": [
      " 11%|█▏        | 34/300 [00:13<01:39,  2.68it/s]"
     ]
    },
    {
     "name": "stdout",
     "output_type": "stream",
     "text": [
      "\n",
      "epoch 34: test average loss: 27.244 | acc: 85.64% (173/202)\n",
      "EarlyStopping counter: 20/25 (best: 0.9851)\n",
      "\n",
      "epoch 35: train average loss: 1.928 | acc: 94.95% (1728/1820)\n"
     ]
    },
    {
     "name": "stderr",
     "output_type": "stream",
     "text": [
      " 12%|█▏        | 35/300 [00:13<01:39,  2.67it/s]"
     ]
    },
    {
     "name": "stdout",
     "output_type": "stream",
     "text": [
      "\n",
      "epoch 35: test average loss: 21.557 | acc: 89.60% (181/202)\n",
      "EarlyStopping counter: 21/25 (best: 0.9851)\n",
      "\n",
      "epoch 36: train average loss: 1.725 | acc: 95.77% (1743/1820)\n"
     ]
    },
    {
     "name": "stderr",
     "output_type": "stream",
     "text": [
      " 12%|█▏        | 36/300 [00:13<01:38,  2.69it/s]"
     ]
    },
    {
     "name": "stdout",
     "output_type": "stream",
     "text": [
      "\n",
      "epoch 36: test average loss: 18.439 | acc: 97.03% (196/202)\n",
      "EarlyStopping counter: 22/25 (best: 0.9851)\n",
      "\n",
      "epoch 37: train average loss: 2.192 | acc: 95.22% (1733/1820)\n"
     ]
    },
    {
     "name": "stderr",
     "output_type": "stream",
     "text": [
      " 12%|█▏        | 37/300 [00:14<01:39,  2.64it/s]"
     ]
    },
    {
     "name": "stdout",
     "output_type": "stream",
     "text": [
      "\n",
      "epoch 37: test average loss: 17.677 | acc: 98.02% (198/202)\n",
      "EarlyStopping counter: 23/25 (best: 0.9851)\n",
      "\n",
      "epoch 38: train average loss: 1.863 | acc: 95.93% (1746/1820)\n"
     ]
    },
    {
     "name": "stderr",
     "output_type": "stream",
     "text": [
      " 13%|█▎        | 38/300 [00:14<01:39,  2.63it/s]"
     ]
    },
    {
     "name": "stdout",
     "output_type": "stream",
     "text": [
      "\n",
      "epoch 38: test average loss: 20.698 | acc: 99.01% (200/202)\n",
      "best test acc found\n",
      "\n",
      "epoch 39: train average loss: 2.744 | acc: 95.71% (1742/1820)\n"
     ]
    },
    {
     "name": "stderr",
     "output_type": "stream",
     "text": [
      " 13%|█▎        | 39/300 [00:14<01:38,  2.65it/s]"
     ]
    },
    {
     "name": "stdout",
     "output_type": "stream",
     "text": [
      "\n",
      "epoch 39: test average loss: 20.298 | acc: 98.02% (198/202)\n",
      "EarlyStopping counter: 1/25 (best: 0.9901)\n",
      "\n",
      "epoch 40: train average loss: 2.004 | acc: 94.95% (1728/1820)\n"
     ]
    },
    {
     "name": "stderr",
     "output_type": "stream",
     "text": [
      " 13%|█▎        | 40/300 [00:15<01:37,  2.67it/s]"
     ]
    },
    {
     "name": "stdout",
     "output_type": "stream",
     "text": [
      "\n",
      "epoch 40: test average loss: 23.693 | acc: 92.08% (186/202)\n",
      "EarlyStopping counter: 2/25 (best: 0.9901)\n",
      "\n",
      "epoch 41: train average loss: 1.689 | acc: 95.99% (1747/1820)\n"
     ]
    },
    {
     "name": "stderr",
     "output_type": "stream",
     "text": [
      " 14%|█▎        | 41/300 [00:15<01:36,  2.68it/s]"
     ]
    },
    {
     "name": "stdout",
     "output_type": "stream",
     "text": [
      "\n",
      "epoch 41: test average loss: 25.806 | acc: 88.61% (179/202)\n",
      "EarlyStopping counter: 3/25 (best: 0.9901)\n",
      "\n",
      "epoch 42: train average loss: 1.670 | acc: 95.44% (1737/1820)\n"
     ]
    },
    {
     "name": "stderr",
     "output_type": "stream",
     "text": [
      " 14%|█▍        | 42/300 [00:16<01:37,  2.66it/s]"
     ]
    },
    {
     "name": "stdout",
     "output_type": "stream",
     "text": [
      "\n",
      "epoch 42: test average loss: 24.494 | acc: 91.58% (185/202)\n",
      "EarlyStopping counter: 4/25 (best: 0.9901)\n",
      "\n",
      "epoch 43: train average loss: 1.661 | acc: 96.32% (1753/1820)\n"
     ]
    },
    {
     "name": "stderr",
     "output_type": "stream",
     "text": [
      " 14%|█▍        | 43/300 [00:16<01:35,  2.70it/s]"
     ]
    },
    {
     "name": "stdout",
     "output_type": "stream",
     "text": [
      "\n",
      "epoch 43: test average loss: 23.842 | acc: 92.08% (186/202)\n",
      "EarlyStopping counter: 5/25 (best: 0.9901)\n",
      "\n",
      "epoch 44: train average loss: 1.657 | acc: 95.93% (1746/1820)\n"
     ]
    },
    {
     "name": "stderr",
     "output_type": "stream",
     "text": [
      " 15%|█▍        | 44/300 [00:16<01:35,  2.68it/s]"
     ]
    },
    {
     "name": "stdout",
     "output_type": "stream",
     "text": [
      "\n",
      "epoch 44: test average loss: 23.472 | acc: 92.57% (187/202)\n",
      "EarlyStopping counter: 6/25 (best: 0.9901)\n",
      "\n",
      "epoch 45: train average loss: 1.644 | acc: 96.10% (1749/1820)\n"
     ]
    },
    {
     "name": "stderr",
     "output_type": "stream",
     "text": [
      " 15%|█▌        | 45/300 [00:17<01:33,  2.71it/s]"
     ]
    },
    {
     "name": "stdout",
     "output_type": "stream",
     "text": [
      "\n",
      "epoch 45: test average loss: 22.733 | acc: 95.05% (192/202)\n",
      "EarlyStopping counter: 7/25 (best: 0.9901)\n",
      "\n",
      "epoch 46: train average loss: 1.679 | acc: 95.71% (1742/1820)\n"
     ]
    },
    {
     "name": "stderr",
     "output_type": "stream",
     "text": [
      " 15%|█▌        | 46/300 [00:17<01:32,  2.75it/s]"
     ]
    },
    {
     "name": "stdout",
     "output_type": "stream",
     "text": [
      "\n",
      "epoch 46: test average loss: 22.162 | acc: 96.04% (194/202)\n",
      "EarlyStopping counter: 8/25 (best: 0.9901)\n",
      "\n",
      "epoch 47: train average loss: 1.651 | acc: 96.21% (1751/1820)\n"
     ]
    },
    {
     "name": "stderr",
     "output_type": "stream",
     "text": [
      " 16%|█▌        | 47/300 [00:17<01:31,  2.76it/s]"
     ]
    },
    {
     "name": "stdout",
     "output_type": "stream",
     "text": [
      "\n",
      "epoch 47: test average loss: 22.864 | acc: 96.04% (194/202)\n",
      "EarlyStopping counter: 9/25 (best: 0.9901)\n",
      "\n",
      "epoch 48: train average loss: 1.623 | acc: 96.37% (1754/1820)\n"
     ]
    },
    {
     "name": "stderr",
     "output_type": "stream",
     "text": [
      " 16%|█▌        | 48/300 [00:18<01:31,  2.76it/s]"
     ]
    },
    {
     "name": "stdout",
     "output_type": "stream",
     "text": [
      "\n",
      "epoch 48: test average loss: 22.809 | acc: 95.54% (193/202)\n",
      "EarlyStopping counter: 10/25 (best: 0.9901)\n",
      "\n",
      "epoch 49: train average loss: 1.629 | acc: 95.93% (1746/1820)\n"
     ]
    },
    {
     "name": "stderr",
     "output_type": "stream",
     "text": [
      " 16%|█▋        | 49/300 [00:18<01:30,  2.79it/s]"
     ]
    },
    {
     "name": "stdout",
     "output_type": "stream",
     "text": [
      "\n",
      "epoch 49: test average loss: 23.358 | acc: 94.06% (190/202)\n",
      "EarlyStopping counter: 11/25 (best: 0.9901)\n",
      "\n",
      "epoch 50: train average loss: 1.637 | acc: 96.59% (1758/1820)\n"
     ]
    },
    {
     "name": "stderr",
     "output_type": "stream",
     "text": [
      " 17%|█▋        | 50/300 [00:18<01:29,  2.80it/s]"
     ]
    },
    {
     "name": "stdout",
     "output_type": "stream",
     "text": [
      "\n",
      "epoch 50: test average loss: 22.049 | acc: 96.04% (194/202)\n",
      "EarlyStopping counter: 12/25 (best: 0.9901)\n",
      "\n",
      "epoch 51: train average loss: 1.640 | acc: 96.65% (1759/1820)\n"
     ]
    },
    {
     "name": "stderr",
     "output_type": "stream",
     "text": [
      " 17%|█▋        | 51/300 [00:19<01:28,  2.80it/s]"
     ]
    },
    {
     "name": "stdout",
     "output_type": "stream",
     "text": [
      "\n",
      "epoch 51: test average loss: 22.373 | acc: 95.54% (193/202)\n",
      "EarlyStopping counter: 13/25 (best: 0.9901)\n",
      "\n",
      "epoch 52: train average loss: 2.055 | acc: 96.37% (1754/1820)\n"
     ]
    },
    {
     "name": "stderr",
     "output_type": "stream",
     "text": [
      " 17%|█▋        | 52/300 [00:19<01:28,  2.82it/s]"
     ]
    },
    {
     "name": "stdout",
     "output_type": "stream",
     "text": [
      "\n",
      "epoch 52: test average loss: 21.760 | acc: 96.04% (194/202)\n",
      "EarlyStopping counter: 14/25 (best: 0.9901)\n",
      "\n",
      "epoch 53: train average loss: 1.624 | acc: 96.15% (1750/1820)\n"
     ]
    },
    {
     "name": "stderr",
     "output_type": "stream",
     "text": [
      " 18%|█▊        | 53/300 [00:20<01:27,  2.82it/s]"
     ]
    },
    {
     "name": "stdout",
     "output_type": "stream",
     "text": [
      "\n",
      "epoch 53: test average loss: 21.869 | acc: 96.04% (194/202)\n",
      "EarlyStopping counter: 15/25 (best: 0.9901)\n",
      "\n",
      "epoch 54: train average loss: 1.611 | acc: 97.25% (1770/1820)\n"
     ]
    },
    {
     "name": "stderr",
     "output_type": "stream",
     "text": [
      " 18%|█▊        | 54/300 [00:20<01:29,  2.76it/s]"
     ]
    },
    {
     "name": "stdout",
     "output_type": "stream",
     "text": [
      "\n",
      "epoch 54: test average loss: 21.343 | acc: 96.04% (194/202)\n",
      "EarlyStopping counter: 16/25 (best: 0.9901)\n",
      "\n",
      "epoch 55: train average loss: 1.624 | acc: 96.15% (1750/1820)\n"
     ]
    },
    {
     "name": "stderr",
     "output_type": "stream",
     "text": [
      " 18%|█▊        | 55/300 [00:20<01:31,  2.67it/s]"
     ]
    },
    {
     "name": "stdout",
     "output_type": "stream",
     "text": [
      "\n",
      "epoch 55: test average loss: 22.588 | acc: 93.56% (189/202)\n",
      "EarlyStopping counter: 17/25 (best: 0.9901)\n",
      "\n",
      "epoch 56: train average loss: 1.631 | acc: 96.48% (1756/1820)\n"
     ]
    },
    {
     "name": "stderr",
     "output_type": "stream",
     "text": [
      " 19%|█▊        | 56/300 [00:21<01:33,  2.61it/s]"
     ]
    },
    {
     "name": "stdout",
     "output_type": "stream",
     "text": [
      "\n",
      "epoch 56: test average loss: 22.684 | acc: 94.06% (190/202)\n",
      "EarlyStopping counter: 18/25 (best: 0.9901)\n",
      "\n",
      "epoch 57: train average loss: 1.631 | acc: 96.37% (1754/1820)\n"
     ]
    },
    {
     "name": "stderr",
     "output_type": "stream",
     "text": [
      " 19%|█▉        | 57/300 [00:21<01:35,  2.55it/s]"
     ]
    },
    {
     "name": "stdout",
     "output_type": "stream",
     "text": [
      "\n",
      "epoch 57: test average loss: 23.361 | acc: 93.56% (189/202)\n",
      "EarlyStopping counter: 19/25 (best: 0.9901)\n",
      "\n",
      "epoch 58: train average loss: 1.626 | acc: 96.10% (1749/1820)\n"
     ]
    },
    {
     "name": "stderr",
     "output_type": "stream",
     "text": [
      " 19%|█▉        | 58/300 [00:22<01:34,  2.56it/s]"
     ]
    },
    {
     "name": "stdout",
     "output_type": "stream",
     "text": [
      "\n",
      "epoch 58: test average loss: 23.007 | acc: 93.56% (189/202)\n",
      "EarlyStopping counter: 20/25 (best: 0.9901)\n",
      "\n",
      "epoch 59: train average loss: 1.628 | acc: 96.21% (1751/1820)\n"
     ]
    },
    {
     "name": "stderr",
     "output_type": "stream",
     "text": [
      " 20%|█▉        | 59/300 [00:22<01:32,  2.60it/s]"
     ]
    },
    {
     "name": "stdout",
     "output_type": "stream",
     "text": [
      "\n",
      "epoch 59: test average loss: 22.216 | acc: 96.04% (194/202)\n",
      "EarlyStopping counter: 21/25 (best: 0.9901)\n",
      "\n",
      "epoch 60: train average loss: 1.628 | acc: 95.88% (1745/1820)\n"
     ]
    },
    {
     "name": "stderr",
     "output_type": "stream",
     "text": [
      " 20%|██        | 60/300 [00:22<01:31,  2.62it/s]"
     ]
    },
    {
     "name": "stdout",
     "output_type": "stream",
     "text": [
      "\n",
      "epoch 60: test average loss: 22.358 | acc: 96.04% (194/202)\n",
      "EarlyStopping counter: 22/25 (best: 0.9901)\n",
      "\n",
      "epoch 61: train average loss: 1.624 | acc: 95.33% (1735/1820)\n"
     ]
    },
    {
     "name": "stderr",
     "output_type": "stream",
     "text": [
      " 20%|██        | 61/300 [00:23<01:29,  2.66it/s]"
     ]
    },
    {
     "name": "stdout",
     "output_type": "stream",
     "text": [
      "\n",
      "epoch 61: test average loss: 22.530 | acc: 94.55% (191/202)\n",
      "EarlyStopping counter: 23/25 (best: 0.9901)\n",
      "\n",
      "epoch 62: train average loss: 2.523 | acc: 97.03% (1766/1820)\n"
     ]
    },
    {
     "name": "stderr",
     "output_type": "stream",
     "text": [
      " 21%|██        | 62/300 [00:23<01:28,  2.69it/s]"
     ]
    },
    {
     "name": "stdout",
     "output_type": "stream",
     "text": [
      "\n",
      "epoch 62: test average loss: 22.837 | acc: 93.56% (189/202)\n",
      "EarlyStopping counter: 24/25 (best: 0.9901)\n",
      "\n",
      "epoch 63: train average loss: 1.619 | acc: 96.54% (1757/1820)\n"
     ]
    },
    {
     "name": "stderr",
     "output_type": "stream",
     "text": [
      " 21%|██        | 62/300 [00:23<01:31,  2.60it/s]"
     ]
    },
    {
     "name": "stdout",
     "output_type": "stream",
     "text": [
      "\n",
      "epoch 63: test average loss: 21.979 | acc: 96.04% (194/202)\n",
      "EarlyStopping counter: 25/25 (best: 0.9901)\n",
      "🔴 Early stopping triggered\n",
      "load model at epoch 38, with test acc : 0.990\n"
     ]
    },
    {
     "name": "stderr",
     "output_type": "stream",
     "text": [
      "\n",
      "/tmp/ipykernel_3337346/1054042983.py:175: FutureWarning:\n",
      "\n",
      "You are using `torch.load` with `weights_only=False` (the current default value), which uses the default pickle module implicitly. It is possible to construct malicious pickle data which will execute arbitrary code during unpickling (See https://github.com/pytorch/pytorch/blob/main/SECURITY.md#untrusted-models for more details). In a future release, the default value for `weights_only` will be flipped to `True`. This limits the functions that could be executed during unpickling. Arbitrary objects will no longer be allowed to be loaded via this mode unless they are explicitly allowlisted by the user via `torch.serialization.add_safe_globals`. We recommend you start setting `weights_only=True` for any use case where you don't have full control of the loaded file. Please open an issue on GitHub for any issues related to this experimental feature.\n",
      "\n"
     ]
    },
    {
     "name": "stdout",
     "output_type": "stream",
     "text": [
      "total 0.9900990099009901\n",
      "class 0 1.0\n",
      "class 1 0.9886363636363636\n",
      "Train t-SNE interactive HTML saved to variant_lenet_low_test_accuracy_combined_train.html\n",
      "Test t-SNE interactive HTML saved to variant_lenet_low_test_accuracy_combined_test.html\n",
      "                           0\n",
      "Accuracy              0.9901\n",
      "Recall         [1.0, 0.9886]\n",
      "Specificity    [0.9886, 1.0]\n",
      "Precision      [0.9286, 1.0]\n",
      "F1 Score     [0.963, 0.9943]\n",
      "4\n"
     ]
    },
    {
     "name": "stderr",
     "output_type": "stream",
     "text": [
      "  0%|          | 0/300 [00:00<?, ?it/s]"
     ]
    },
    {
     "name": "stdout",
     "output_type": "stream",
     "text": [
      "\n",
      "epoch 1: train average loss: 33.859 | acc: 59.62% (1085/1820)\n"
     ]
    },
    {
     "name": "stderr",
     "output_type": "stream",
     "text": [
      "  0%|          | 1/300 [00:00<01:53,  2.63it/s]"
     ]
    },
    {
     "name": "stdout",
     "output_type": "stream",
     "text": [
      "\n",
      "epoch 1: test average loss: 29.257 | acc: 87.13% (176/202)\n",
      "best test acc found\n",
      "\n",
      "epoch 2: train average loss: 28.800 | acc: 70.11% (1276/1820)\n"
     ]
    },
    {
     "name": "stderr",
     "output_type": "stream",
     "text": [
      "  1%|          | 2/300 [00:00<01:49,  2.72it/s]"
     ]
    },
    {
     "name": "stdout",
     "output_type": "stream",
     "text": [
      "\n",
      "epoch 2: test average loss: 26.489 | acc: 87.13% (176/202)\n",
      "EarlyStopping counter: 1/25 (best: 0.8713)\n",
      "\n",
      "epoch 3: train average loss: 25.244 | acc: 72.42% (1318/1820)\n"
     ]
    },
    {
     "name": "stderr",
     "output_type": "stream",
     "text": [
      "  1%|          | 3/300 [00:01<01:48,  2.74it/s]"
     ]
    },
    {
     "name": "stdout",
     "output_type": "stream",
     "text": [
      "\n",
      "epoch 3: test average loss: 23.988 | acc: 87.13% (176/202)\n",
      "EarlyStopping counter: 2/25 (best: 0.8713)\n",
      "\n",
      "epoch 4: train average loss: 22.551 | acc: 75.27% (1370/1820)\n"
     ]
    },
    {
     "name": "stderr",
     "output_type": "stream",
     "text": [
      "  1%|▏         | 4/300 [00:01<01:46,  2.78it/s]"
     ]
    },
    {
     "name": "stdout",
     "output_type": "stream",
     "text": [
      "\n",
      "epoch 4: test average loss: 21.972 | acc: 87.13% (176/202)\n",
      "EarlyStopping counter: 3/25 (best: 0.8713)\n",
      "\n",
      "epoch 5: train average loss: 20.570 | acc: 79.45% (1446/1820)\n"
     ]
    },
    {
     "name": "stderr",
     "output_type": "stream",
     "text": [
      "  2%|▏         | 5/300 [00:01<01:46,  2.77it/s]"
     ]
    },
    {
     "name": "stdout",
     "output_type": "stream",
     "text": [
      "\n",
      "epoch 5: test average loss: 21.041 | acc: 87.13% (176/202)\n",
      "EarlyStopping counter: 4/25 (best: 0.8713)\n",
      "\n",
      "epoch 6: train average loss: 19.263 | acc: 78.13% (1422/1820)\n"
     ]
    },
    {
     "name": "stderr",
     "output_type": "stream",
     "text": [
      "  2%|▏         | 6/300 [00:02<01:46,  2.76it/s]"
     ]
    },
    {
     "name": "stdout",
     "output_type": "stream",
     "text": [
      "\n",
      "epoch 6: test average loss: 20.903 | acc: 87.13% (176/202)\n",
      "EarlyStopping counter: 5/25 (best: 0.8713)\n",
      "\n",
      "epoch 7: train average loss: 18.132 | acc: 81.87% (1490/1820)\n"
     ]
    },
    {
     "name": "stderr",
     "output_type": "stream",
     "text": [
      "  2%|▏         | 7/300 [00:02<01:45,  2.78it/s]"
     ]
    },
    {
     "name": "stdout",
     "output_type": "stream",
     "text": [
      "\n",
      "epoch 7: test average loss: 21.252 | acc: 87.13% (176/202)\n",
      "EarlyStopping counter: 6/25 (best: 0.8713)\n",
      "\n",
      "epoch 8: train average loss: 17.052 | acc: 82.25% (1497/1820)\n"
     ]
    },
    {
     "name": "stderr",
     "output_type": "stream",
     "text": [
      "  3%|▎         | 8/300 [00:02<01:45,  2.77it/s]"
     ]
    },
    {
     "name": "stdout",
     "output_type": "stream",
     "text": [
      "\n",
      "epoch 8: test average loss: 20.757 | acc: 90.59% (183/202)\n",
      "best test acc found\n",
      "\n",
      "epoch 9: train average loss: 15.697 | acc: 83.63% (1522/1820)\n"
     ]
    },
    {
     "name": "stderr",
     "output_type": "stream",
     "text": [
      "  3%|▎         | 9/300 [00:03<01:49,  2.65it/s]"
     ]
    },
    {
     "name": "stdout",
     "output_type": "stream",
     "text": [
      "\n",
      "epoch 9: test average loss: 20.396 | acc: 95.05% (192/202)\n",
      "best test acc found\n",
      "\n",
      "epoch 10: train average loss: 14.991 | acc: 85.00% (1547/1820)\n"
     ]
    },
    {
     "name": "stderr",
     "output_type": "stream",
     "text": [
      "  3%|▎         | 10/300 [00:03<01:58,  2.46it/s]"
     ]
    },
    {
     "name": "stdout",
     "output_type": "stream",
     "text": [
      "\n",
      "epoch 10: test average loss: 18.930 | acc: 52.97% (107/202)\n",
      "EarlyStopping counter: 1/25 (best: 0.9505)\n",
      "\n",
      "epoch 11: train average loss: 14.148 | acc: 85.60% (1558/1820)\n"
     ]
    },
    {
     "name": "stderr",
     "output_type": "stream",
     "text": [
      "  4%|▎         | 11/300 [00:04<01:58,  2.43it/s]"
     ]
    },
    {
     "name": "stdout",
     "output_type": "stream",
     "text": [
      "\n",
      "epoch 11: test average loss: 19.474 | acc: 95.54% (193/202)\n",
      "best test acc found\n",
      "\n",
      "epoch 12: train average loss: 14.998 | acc: 85.99% (1565/1820)\n"
     ]
    },
    {
     "name": "stderr",
     "output_type": "stream",
     "text": [
      "  4%|▍         | 12/300 [00:04<01:57,  2.46it/s]"
     ]
    },
    {
     "name": "stdout",
     "output_type": "stream",
     "text": [
      "\n",
      "epoch 12: test average loss: 20.883 | acc: 95.05% (192/202)\n",
      "EarlyStopping counter: 1/25 (best: 0.9554)\n",
      "\n",
      "epoch 13: train average loss: 14.843 | acc: 85.88% (1563/1820)\n"
     ]
    },
    {
     "name": "stderr",
     "output_type": "stream",
     "text": [
      "  4%|▍         | 13/300 [00:04<01:53,  2.53it/s]"
     ]
    },
    {
     "name": "stdout",
     "output_type": "stream",
     "text": [
      "\n",
      "epoch 13: test average loss: 22.988 | acc: 47.52% (96/202)\n",
      "EarlyStopping counter: 2/25 (best: 0.9554)\n",
      "\n",
      "epoch 14: train average loss: 13.124 | acc: 87.75% (1597/1820)\n"
     ]
    },
    {
     "name": "stderr",
     "output_type": "stream",
     "text": [
      "  5%|▍         | 14/300 [00:05<01:50,  2.59it/s]"
     ]
    },
    {
     "name": "stdout",
     "output_type": "stream",
     "text": [
      "\n",
      "epoch 14: test average loss: 20.813 | acc: 83.66% (169/202)\n",
      "EarlyStopping counter: 3/25 (best: 0.9554)\n",
      "\n",
      "epoch 15: train average loss: 13.466 | acc: 87.36% (1590/1820)\n"
     ]
    },
    {
     "name": "stderr",
     "output_type": "stream",
     "text": [
      "  5%|▌         | 15/300 [00:05<01:49,  2.60it/s]"
     ]
    },
    {
     "name": "stdout",
     "output_type": "stream",
     "text": [
      "\n",
      "epoch 15: test average loss: 16.858 | acc: 79.70% (161/202)\n",
      "EarlyStopping counter: 4/25 (best: 0.9554)\n",
      "\n",
      "epoch 16: train average loss: 11.295 | acc: 87.75% (1597/1820)\n",
      "\n",
      "epoch 16: test average loss: 16.204 | acc: 98.02% (198/202)\n",
      "best test acc found\n"
     ]
    },
    {
     "name": "stderr",
     "output_type": "stream",
     "text": [
      "  5%|▌         | 16/300 [00:06<01:53,  2.51it/s]"
     ]
    },
    {
     "name": "stdout",
     "output_type": "stream",
     "text": [
      "\n",
      "epoch 17: train average loss: 11.033 | acc: 87.91% (1600/1820)\n"
     ]
    },
    {
     "name": "stderr",
     "output_type": "stream",
     "text": [
      "  6%|▌         | 17/300 [00:06<01:52,  2.52it/s]"
     ]
    },
    {
     "name": "stdout",
     "output_type": "stream",
     "text": [
      "\n",
      "epoch 17: test average loss: 18.589 | acc: 98.51% (199/202)\n",
      "best test acc found\n",
      "\n",
      "epoch 18: train average loss: 9.490 | acc: 90.71% (1651/1820)\n"
     ]
    },
    {
     "name": "stderr",
     "output_type": "stream",
     "text": [
      "  6%|▌         | 18/300 [00:06<01:51,  2.54it/s]"
     ]
    },
    {
     "name": "stdout",
     "output_type": "stream",
     "text": [
      "\n",
      "epoch 18: test average loss: 19.312 | acc: 87.62% (177/202)\n",
      "EarlyStopping counter: 1/25 (best: 0.9851)\n",
      "\n",
      "epoch 19: train average loss: 8.996 | acc: 90.11% (1640/1820)\n"
     ]
    },
    {
     "name": "stderr",
     "output_type": "stream",
     "text": [
      "  6%|▋         | 19/300 [00:07<01:49,  2.56it/s]"
     ]
    },
    {
     "name": "stdout",
     "output_type": "stream",
     "text": [
      "\n",
      "epoch 19: test average loss: 16.172 | acc: 99.50% (201/202)\n",
      "best test acc found\n",
      "\n",
      "epoch 20: train average loss: 8.154 | acc: 90.99% (1656/1820)\n"
     ]
    },
    {
     "name": "stderr",
     "output_type": "stream",
     "text": [
      "  7%|▋         | 20/300 [00:07<01:50,  2.54it/s]"
     ]
    },
    {
     "name": "stdout",
     "output_type": "stream",
     "text": [
      "\n",
      "epoch 20: test average loss: 15.665 | acc: 97.52% (197/202)\n",
      "EarlyStopping counter: 1/25 (best: 0.9950)\n",
      "\n",
      "epoch 21: train average loss: 8.342 | acc: 90.38% (1645/1820)\n"
     ]
    },
    {
     "name": "stderr",
     "output_type": "stream",
     "text": [
      "  7%|▋         | 21/300 [00:08<01:49,  2.56it/s]"
     ]
    },
    {
     "name": "stdout",
     "output_type": "stream",
     "text": [
      "\n",
      "epoch 21: test average loss: 10.249 | acc: 96.04% (194/202)\n",
      "EarlyStopping counter: 2/25 (best: 0.9950)\n",
      "\n",
      "epoch 22: train average loss: 7.871 | acc: 91.59% (1667/1820)\n"
     ]
    },
    {
     "name": "stderr",
     "output_type": "stream",
     "text": [
      "  7%|▋         | 22/300 [00:08<01:47,  2.59it/s]"
     ]
    },
    {
     "name": "stdout",
     "output_type": "stream",
     "text": [
      "\n",
      "epoch 22: test average loss: 17.543 | acc: 93.56% (189/202)\n",
      "EarlyStopping counter: 3/25 (best: 0.9950)\n",
      "\n",
      "epoch 23: train average loss: 6.427 | acc: 92.09% (1676/1820)\n"
     ]
    },
    {
     "name": "stderr",
     "output_type": "stream",
     "text": [
      "  8%|▊         | 23/300 [00:08<01:46,  2.60it/s]"
     ]
    },
    {
     "name": "stdout",
     "output_type": "stream",
     "text": [
      "\n",
      "epoch 23: test average loss: 18.412 | acc: 98.51% (199/202)\n",
      "EarlyStopping counter: 4/25 (best: 0.9950)\n",
      "\n",
      "epoch 24: train average loss: 6.391 | acc: 92.75% (1688/1820)\n"
     ]
    },
    {
     "name": "stderr",
     "output_type": "stream",
     "text": [
      "  8%|▊         | 24/300 [00:09<01:44,  2.64it/s]"
     ]
    },
    {
     "name": "stdout",
     "output_type": "stream",
     "text": [
      "\n",
      "epoch 24: test average loss: 17.306 | acc: 98.02% (198/202)\n",
      "EarlyStopping counter: 5/25 (best: 0.9950)\n",
      "\n",
      "epoch 25: train average loss: 5.291 | acc: 91.65% (1668/1820)\n"
     ]
    },
    {
     "name": "stderr",
     "output_type": "stream",
     "text": [
      "  8%|▊         | 25/300 [00:09<01:44,  2.64it/s]"
     ]
    },
    {
     "name": "stdout",
     "output_type": "stream",
     "text": [
      "\n",
      "epoch 25: test average loss: 17.520 | acc: 87.62% (177/202)\n",
      "EarlyStopping counter: 6/25 (best: 0.9950)\n",
      "\n",
      "epoch 26: train average loss: 3.865 | acc: 92.97% (1692/1820)\n"
     ]
    },
    {
     "name": "stderr",
     "output_type": "stream",
     "text": [
      "  9%|▊         | 26/300 [00:09<01:41,  2.70it/s]"
     ]
    },
    {
     "name": "stdout",
     "output_type": "stream",
     "text": [
      "\n",
      "epoch 26: test average loss: 15.070 | acc: 91.58% (185/202)\n",
      "EarlyStopping counter: 7/25 (best: 0.9950)\n",
      "\n",
      "epoch 27: train average loss: 3.813 | acc: 94.29% (1716/1820)\n"
     ]
    },
    {
     "name": "stderr",
     "output_type": "stream",
     "text": [
      "  9%|▉         | 27/300 [00:10<01:41,  2.70it/s]"
     ]
    },
    {
     "name": "stdout",
     "output_type": "stream",
     "text": [
      "\n",
      "epoch 27: test average loss: 15.323 | acc: 94.55% (191/202)\n",
      "EarlyStopping counter: 8/25 (best: 0.9950)\n",
      "\n",
      "epoch 28: train average loss: 3.030 | acc: 93.46% (1701/1820)\n"
     ]
    },
    {
     "name": "stderr",
     "output_type": "stream",
     "text": [
      "  9%|▉         | 28/300 [00:10<01:40,  2.71it/s]"
     ]
    },
    {
     "name": "stdout",
     "output_type": "stream",
     "text": [
      "\n",
      "epoch 28: test average loss: 22.061 | acc: 84.65% (171/202)\n",
      "EarlyStopping counter: 9/25 (best: 0.9950)\n",
      "\n",
      "epoch 29: train average loss: 3.199 | acc: 94.51% (1720/1820)\n"
     ]
    },
    {
     "name": "stderr",
     "output_type": "stream",
     "text": [
      " 10%|▉         | 29/300 [00:11<01:39,  2.73it/s]"
     ]
    },
    {
     "name": "stdout",
     "output_type": "stream",
     "text": [
      "\n",
      "epoch 29: test average loss: 13.157 | acc: 91.58% (185/202)\n",
      "EarlyStopping counter: 10/25 (best: 0.9950)\n",
      "\n",
      "epoch 30: train average loss: 2.326 | acc: 93.96% (1710/1820)\n"
     ]
    },
    {
     "name": "stderr",
     "output_type": "stream",
     "text": [
      " 10%|█         | 30/300 [00:11<01:38,  2.73it/s]"
     ]
    },
    {
     "name": "stdout",
     "output_type": "stream",
     "text": [
      "\n",
      "epoch 30: test average loss: 18.387 | acc: 85.15% (172/202)\n",
      "EarlyStopping counter: 11/25 (best: 0.9950)\n",
      "\n",
      "epoch 31: train average loss: 2.527 | acc: 95.66% (1741/1820)\n"
     ]
    },
    {
     "name": "stderr",
     "output_type": "stream",
     "text": [
      " 10%|█         | 31/300 [00:11<01:37,  2.75it/s]"
     ]
    },
    {
     "name": "stdout",
     "output_type": "stream",
     "text": [
      "\n",
      "epoch 31: test average loss: 27.294 | acc: 79.21% (160/202)\n",
      "EarlyStopping counter: 12/25 (best: 0.9950)\n",
      "\n",
      "epoch 32: train average loss: 2.116 | acc: 94.95% (1728/1820)\n"
     ]
    },
    {
     "name": "stderr",
     "output_type": "stream",
     "text": [
      " 11%|█         | 32/300 [00:12<01:37,  2.75it/s]"
     ]
    },
    {
     "name": "stdout",
     "output_type": "stream",
     "text": [
      "\n",
      "epoch 32: test average loss: 15.670 | acc: 93.07% (188/202)\n",
      "EarlyStopping counter: 13/25 (best: 0.9950)\n",
      "\n",
      "epoch 33: train average loss: 2.392 | acc: 95.22% (1733/1820)\n"
     ]
    },
    {
     "name": "stderr",
     "output_type": "stream",
     "text": [
      " 11%|█         | 33/300 [00:12<01:36,  2.77it/s]"
     ]
    },
    {
     "name": "stdout",
     "output_type": "stream",
     "text": [
      "\n",
      "epoch 33: test average loss: 17.455 | acc: 91.58% (185/202)\n",
      "EarlyStopping counter: 14/25 (best: 0.9950)\n",
      "\n",
      "epoch 34: train average loss: 2.212 | acc: 94.56% (1721/1820)\n"
     ]
    },
    {
     "name": "stderr",
     "output_type": "stream",
     "text": [
      " 11%|█▏        | 34/300 [00:12<01:35,  2.80it/s]"
     ]
    },
    {
     "name": "stdout",
     "output_type": "stream",
     "text": [
      "\n",
      "epoch 34: test average loss: 17.225 | acc: 88.61% (179/202)\n",
      "EarlyStopping counter: 15/25 (best: 0.9950)\n",
      "\n",
      "epoch 35: train average loss: 2.050 | acc: 95.11% (1731/1820)\n"
     ]
    },
    {
     "name": "stderr",
     "output_type": "stream",
     "text": [
      " 12%|█▏        | 35/300 [00:13<01:35,  2.78it/s]"
     ]
    },
    {
     "name": "stdout",
     "output_type": "stream",
     "text": [
      "\n",
      "epoch 35: test average loss: 24.790 | acc: 87.13% (176/202)\n",
      "EarlyStopping counter: 16/25 (best: 0.9950)\n",
      "\n",
      "epoch 36: train average loss: 1.939 | acc: 94.78% (1725/1820)\n"
     ]
    },
    {
     "name": "stderr",
     "output_type": "stream",
     "text": [
      " 12%|█▏        | 36/300 [00:13<01:35,  2.77it/s]"
     ]
    },
    {
     "name": "stdout",
     "output_type": "stream",
     "text": [
      "\n",
      "epoch 36: test average loss: 13.873 | acc: 97.52% (197/202)\n",
      "EarlyStopping counter: 17/25 (best: 0.9950)\n",
      "\n",
      "epoch 37: train average loss: 1.834 | acc: 95.55% (1739/1820)\n"
     ]
    },
    {
     "name": "stderr",
     "output_type": "stream",
     "text": [
      " 12%|█▏        | 37/300 [00:13<01:37,  2.69it/s]"
     ]
    },
    {
     "name": "stdout",
     "output_type": "stream",
     "text": [
      "\n",
      "epoch 37: test average loss: 11.544 | acc: 97.03% (196/202)\n",
      "EarlyStopping counter: 18/25 (best: 0.9950)\n",
      "\n",
      "epoch 38: train average loss: 1.786 | acc: 95.16% (1732/1820)\n"
     ]
    },
    {
     "name": "stderr",
     "output_type": "stream",
     "text": [
      " 13%|█▎        | 38/300 [00:14<01:38,  2.65it/s]"
     ]
    },
    {
     "name": "stdout",
     "output_type": "stream",
     "text": [
      "\n",
      "epoch 38: test average loss: 10.478 | acc: 94.55% (191/202)\n",
      "EarlyStopping counter: 19/25 (best: 0.9950)\n",
      "\n",
      "epoch 39: train average loss: 1.724 | acc: 95.88% (1745/1820)\n"
     ]
    },
    {
     "name": "stderr",
     "output_type": "stream",
     "text": [
      " 13%|█▎        | 39/300 [00:14<01:39,  2.62it/s]"
     ]
    },
    {
     "name": "stdout",
     "output_type": "stream",
     "text": [
      "\n",
      "epoch 39: test average loss: 12.013 | acc: 93.56% (189/202)\n",
      "EarlyStopping counter: 20/25 (best: 0.9950)\n",
      "\n",
      "epoch 40: train average loss: 1.687 | acc: 95.99% (1747/1820)\n"
     ]
    },
    {
     "name": "stderr",
     "output_type": "stream",
     "text": [
      " 13%|█▎        | 40/300 [00:15<01:43,  2.52it/s]"
     ]
    },
    {
     "name": "stdout",
     "output_type": "stream",
     "text": [
      "\n",
      "epoch 40: test average loss: 10.988 | acc: 95.05% (192/202)\n",
      "EarlyStopping counter: 21/25 (best: 0.9950)\n",
      "\n",
      "epoch 41: train average loss: 1.684 | acc: 96.26% (1752/1820)\n"
     ]
    },
    {
     "name": "stderr",
     "output_type": "stream",
     "text": [
      " 14%|█▎        | 41/300 [00:15<01:41,  2.56it/s]"
     ]
    },
    {
     "name": "stdout",
     "output_type": "stream",
     "text": [
      "\n",
      "epoch 41: test average loss: 7.966 | acc: 94.55% (191/202)\n",
      "EarlyStopping counter: 22/25 (best: 0.9950)\n",
      "\n",
      "epoch 42: train average loss: 1.730 | acc: 96.43% (1755/1820)\n"
     ]
    },
    {
     "name": "stderr",
     "output_type": "stream",
     "text": [
      " 14%|█▍        | 42/300 [00:15<01:41,  2.55it/s]"
     ]
    },
    {
     "name": "stdout",
     "output_type": "stream",
     "text": [
      "\n",
      "epoch 42: test average loss: 7.941 | acc: 94.06% (190/202)\n",
      "EarlyStopping counter: 23/25 (best: 0.9950)\n",
      "\n",
      "epoch 43: train average loss: 1.676 | acc: 96.54% (1757/1820)\n"
     ]
    },
    {
     "name": "stderr",
     "output_type": "stream",
     "text": [
      " 14%|█▍        | 43/300 [00:16<01:41,  2.54it/s]"
     ]
    },
    {
     "name": "stdout",
     "output_type": "stream",
     "text": [
      "\n",
      "epoch 43: test average loss: 8.789 | acc: 94.55% (191/202)\n",
      "EarlyStopping counter: 24/25 (best: 0.9950)\n",
      "\n",
      "epoch 44: train average loss: 1.660 | acc: 96.21% (1751/1820)\n"
     ]
    },
    {
     "name": "stderr",
     "output_type": "stream",
     "text": [
      " 14%|█▍        | 43/300 [00:16<01:40,  2.57it/s]"
     ]
    },
    {
     "name": "stdout",
     "output_type": "stream",
     "text": [
      "\n",
      "epoch 44: test average loss: 8.756 | acc: 94.55% (191/202)\n",
      "EarlyStopping counter: 25/25 (best: 0.9950)\n",
      "🔴 Early stopping triggered\n",
      "load model at epoch 19, with test acc : 0.995\n"
     ]
    },
    {
     "name": "stderr",
     "output_type": "stream",
     "text": [
      "\n",
      "/tmp/ipykernel_3337346/1054042983.py:175: FutureWarning:\n",
      "\n",
      "You are using `torch.load` with `weights_only=False` (the current default value), which uses the default pickle module implicitly. It is possible to construct malicious pickle data which will execute arbitrary code during unpickling (See https://github.com/pytorch/pytorch/blob/main/SECURITY.md#untrusted-models for more details). In a future release, the default value for `weights_only` will be flipped to `True`. This limits the functions that could be executed during unpickling. Arbitrary objects will no longer be allowed to be loaded via this mode unless they are explicitly allowlisted by the user via `torch.serialization.add_safe_globals`. We recommend you start setting `weights_only=True` for any use case where you don't have full control of the loaded file. Please open an issue on GitHub for any issues related to this experimental feature.\n",
      "\n"
     ]
    },
    {
     "name": "stdout",
     "output_type": "stream",
     "text": [
      "total 0.995049504950495\n",
      "class 0 0.9615384615384616\n",
      "class 1 1.0\n",
      "                            0\n",
      "Accuracy                0.995\n",
      "Recall          [0.9615, 1.0]\n",
      "Specificity     [1.0, 0.9615]\n",
      "Precision       [1.0, 0.9944]\n",
      "F1 Score     [0.9804, 0.9972]\n",
      "5\n"
     ]
    },
    {
     "name": "stderr",
     "output_type": "stream",
     "text": [
      "  0%|          | 0/300 [00:00<?, ?it/s]"
     ]
    },
    {
     "name": "stdout",
     "output_type": "stream",
     "text": [
      "\n",
      "epoch 1: train average loss: 33.013 | acc: 64.29% (1170/1820)\n"
     ]
    },
    {
     "name": "stderr",
     "output_type": "stream",
     "text": [
      "  0%|          | 1/300 [00:00<01:54,  2.61it/s]"
     ]
    },
    {
     "name": "stdout",
     "output_type": "stream",
     "text": [
      "\n",
      "epoch 1: test average loss: 28.069 | acc: 87.13% (176/202)\n",
      "best test acc found\n",
      "\n",
      "epoch 2: train average loss: 28.220 | acc: 71.04% (1293/1820)\n"
     ]
    },
    {
     "name": "stderr",
     "output_type": "stream",
     "text": [
      "  1%|          | 2/300 [00:00<01:53,  2.63it/s]"
     ]
    },
    {
     "name": "stdout",
     "output_type": "stream",
     "text": [
      "\n",
      "epoch 2: test average loss: 24.947 | acc: 87.13% (176/202)\n",
      "EarlyStopping counter: 1/25 (best: 0.8713)\n",
      "\n",
      "epoch 3: train average loss: 24.677 | acc: 74.23% (1351/1820)\n"
     ]
    },
    {
     "name": "stderr",
     "output_type": "stream",
     "text": [
      "  1%|          | 3/300 [00:01<02:08,  2.31it/s]"
     ]
    },
    {
     "name": "stdout",
     "output_type": "stream",
     "text": [
      "\n",
      "epoch 3: test average loss: 22.559 | acc: 87.13% (176/202)\n",
      "EarlyStopping counter: 2/25 (best: 0.8713)\n",
      "\n",
      "epoch 4: train average loss: 22.008 | acc: 75.49% (1374/1820)\n"
     ]
    },
    {
     "name": "stderr",
     "output_type": "stream",
     "text": [
      "  1%|▏         | 4/300 [00:01<02:16,  2.17it/s]"
     ]
    },
    {
     "name": "stdout",
     "output_type": "stream",
     "text": [
      "\n",
      "epoch 4: test average loss: 21.346 | acc: 87.13% (176/202)\n",
      "EarlyStopping counter: 3/25 (best: 0.8713)\n",
      "\n",
      "epoch 5: train average loss: 20.606 | acc: 77.42% (1409/1820)\n"
     ]
    },
    {
     "name": "stderr",
     "output_type": "stream",
     "text": [
      "  2%|▏         | 5/300 [00:02<02:20,  2.11it/s]"
     ]
    },
    {
     "name": "stdout",
     "output_type": "stream",
     "text": [
      "\n",
      "epoch 5: test average loss: 21.162 | acc: 87.13% (176/202)\n",
      "EarlyStopping counter: 4/25 (best: 0.8713)\n",
      "\n",
      "epoch 6: train average loss: 18.962 | acc: 80.82% (1471/1820)\n"
     ]
    },
    {
     "name": "stderr",
     "output_type": "stream",
     "text": [
      "  2%|▏         | 6/300 [00:02<02:19,  2.11it/s]"
     ]
    },
    {
     "name": "stdout",
     "output_type": "stream",
     "text": [
      "\n",
      "epoch 6: test average loss: 21.474 | acc: 87.13% (176/202)\n",
      "EarlyStopping counter: 5/25 (best: 0.8713)\n",
      "\n",
      "epoch 7: train average loss: 17.803 | acc: 81.98% (1492/1820)\n"
     ]
    },
    {
     "name": "stderr",
     "output_type": "stream",
     "text": [
      "  2%|▏         | 7/300 [00:03<02:10,  2.25it/s]"
     ]
    },
    {
     "name": "stdout",
     "output_type": "stream",
     "text": [
      "\n",
      "epoch 7: test average loss: 22.024 | acc: 87.13% (176/202)\n",
      "EarlyStopping counter: 6/25 (best: 0.8713)\n",
      "\n",
      "epoch 8: train average loss: 17.642 | acc: 85.00% (1547/1820)\n"
     ]
    },
    {
     "name": "stderr",
     "output_type": "stream",
     "text": [
      "  3%|▎         | 8/300 [00:03<02:02,  2.38it/s]"
     ]
    },
    {
     "name": "stdout",
     "output_type": "stream",
     "text": [
      "\n",
      "epoch 8: test average loss: 21.556 | acc: 94.06% (190/202)\n",
      "best test acc found\n",
      "\n",
      "epoch 9: train average loss: 16.358 | acc: 83.63% (1522/1820)\n"
     ]
    },
    {
     "name": "stderr",
     "output_type": "stream",
     "text": [
      "  3%|▎         | 9/300 [00:03<01:57,  2.48it/s]"
     ]
    },
    {
     "name": "stdout",
     "output_type": "stream",
     "text": [
      "\n",
      "epoch 9: test average loss: 20.560 | acc: 95.54% (193/202)\n",
      "best test acc found\n",
      "\n",
      "epoch 10: train average loss: 14.715 | acc: 84.12% (1531/1820)\n"
     ]
    },
    {
     "name": "stderr",
     "output_type": "stream",
     "text": [
      "  3%|▎         | 10/300 [00:04<01:53,  2.56it/s]"
     ]
    },
    {
     "name": "stdout",
     "output_type": "stream",
     "text": [
      "\n",
      "epoch 10: test average loss: 20.679 | acc: 96.53% (195/202)\n",
      "best test acc found\n",
      "\n",
      "epoch 11: train average loss: 14.747 | acc: 87.86% (1599/1820)\n"
     ]
    },
    {
     "name": "stderr",
     "output_type": "stream",
     "text": [
      "  4%|▎         | 11/300 [00:04<01:49,  2.64it/s]"
     ]
    },
    {
     "name": "stdout",
     "output_type": "stream",
     "text": [
      "\n",
      "epoch 11: test average loss: 21.373 | acc: 95.54% (193/202)\n",
      "EarlyStopping counter: 1/25 (best: 0.9653)\n",
      "\n",
      "epoch 12: train average loss: 14.722 | acc: 87.53% (1593/1820)\n"
     ]
    },
    {
     "name": "stderr",
     "output_type": "stream",
     "text": [
      "  4%|▍         | 12/300 [00:04<01:48,  2.66it/s]"
     ]
    },
    {
     "name": "stdout",
     "output_type": "stream",
     "text": [
      "\n",
      "epoch 12: test average loss: 22.752 | acc: 78.71% (159/202)\n",
      "EarlyStopping counter: 2/25 (best: 0.9653)\n",
      "\n",
      "epoch 13: train average loss: 13.621 | acc: 88.41% (1609/1820)\n"
     ]
    },
    {
     "name": "stderr",
     "output_type": "stream",
     "text": [
      "  4%|▍         | 13/300 [00:05<01:46,  2.71it/s]"
     ]
    },
    {
     "name": "stdout",
     "output_type": "stream",
     "text": [
      "\n",
      "epoch 13: test average loss: 19.219 | acc: 95.05% (192/202)\n",
      "EarlyStopping counter: 3/25 (best: 0.9653)\n",
      "\n",
      "epoch 14: train average loss: 14.259 | acc: 88.57% (1612/1820)\n"
     ]
    },
    {
     "name": "stderr",
     "output_type": "stream",
     "text": [
      "  5%|▍         | 14/300 [00:05<01:44,  2.73it/s]"
     ]
    },
    {
     "name": "stdout",
     "output_type": "stream",
     "text": [
      "\n",
      "epoch 14: test average loss: 33.079 | acc: 39.60% (80/202)\n",
      "EarlyStopping counter: 4/25 (best: 0.9653)\n",
      "\n",
      "epoch 15: train average loss: 13.040 | acc: 89.51% (1629/1820)\n"
     ]
    },
    {
     "name": "stderr",
     "output_type": "stream",
     "text": [
      "  5%|▌         | 15/300 [00:06<01:44,  2.73it/s]"
     ]
    },
    {
     "name": "stdout",
     "output_type": "stream",
     "text": [
      "\n",
      "epoch 15: test average loss: 20.184 | acc: 77.72% (157/202)\n",
      "EarlyStopping counter: 5/25 (best: 0.9653)\n",
      "\n",
      "epoch 16: train average loss: 12.173 | acc: 90.05% (1639/1820)\n"
     ]
    },
    {
     "name": "stderr",
     "output_type": "stream",
     "text": [
      "  5%|▌         | 16/300 [00:06<01:43,  2.75it/s]"
     ]
    },
    {
     "name": "stdout",
     "output_type": "stream",
     "text": [
      "\n",
      "epoch 16: test average loss: 22.353 | acc: 60.89% (123/202)\n",
      "EarlyStopping counter: 6/25 (best: 0.9653)\n",
      "\n",
      "epoch 17: train average loss: 11.179 | acc: 90.88% (1654/1820)\n"
     ]
    },
    {
     "name": "stderr",
     "output_type": "stream",
     "text": [
      "  6%|▌         | 17/300 [00:06<01:42,  2.77it/s]"
     ]
    },
    {
     "name": "stdout",
     "output_type": "stream",
     "text": [
      "\n",
      "epoch 17: test average loss: 17.457 | acc: 91.09% (184/202)\n",
      "EarlyStopping counter: 7/25 (best: 0.9653)\n",
      "\n",
      "epoch 18: train average loss: 10.450 | acc: 91.65% (1668/1820)\n"
     ]
    },
    {
     "name": "stderr",
     "output_type": "stream",
     "text": [
      "  6%|▌         | 18/300 [00:07<01:43,  2.72it/s]"
     ]
    },
    {
     "name": "stdout",
     "output_type": "stream",
     "text": [
      "\n",
      "epoch 18: test average loss: 22.373 | acc: 92.57% (187/202)\n",
      "EarlyStopping counter: 8/25 (best: 0.9653)\n",
      "\n",
      "epoch 19: train average loss: 10.901 | acc: 92.42% (1682/1820)\n"
     ]
    },
    {
     "name": "stderr",
     "output_type": "stream",
     "text": [
      "  6%|▋         | 19/300 [00:07<01:45,  2.65it/s]"
     ]
    },
    {
     "name": "stdout",
     "output_type": "stream",
     "text": [
      "\n",
      "epoch 19: test average loss: 20.398 | acc: 98.02% (198/202)\n",
      "best test acc found\n",
      "\n",
      "epoch 20: train average loss: 10.010 | acc: 92.80% (1689/1820)\n"
     ]
    },
    {
     "name": "stderr",
     "output_type": "stream",
     "text": [
      "  7%|▋         | 20/300 [00:07<01:47,  2.59it/s]"
     ]
    },
    {
     "name": "stdout",
     "output_type": "stream",
     "text": [
      "\n",
      "epoch 20: test average loss: 19.914 | acc: 98.02% (198/202)\n",
      "EarlyStopping counter: 1/25 (best: 0.9802)\n",
      "\n",
      "epoch 21: train average loss: 8.879 | acc: 93.02% (1693/1820)\n"
     ]
    },
    {
     "name": "stderr",
     "output_type": "stream",
     "text": [
      "  7%|▋         | 21/300 [00:08<01:49,  2.54it/s]"
     ]
    },
    {
     "name": "stdout",
     "output_type": "stream",
     "text": [
      "\n",
      "epoch 21: test average loss: 19.661 | acc: 87.13% (176/202)\n",
      "EarlyStopping counter: 2/25 (best: 0.9802)\n",
      "\n",
      "epoch 22: train average loss: 8.055 | acc: 93.02% (1693/1820)\n"
     ]
    },
    {
     "name": "stderr",
     "output_type": "stream",
     "text": [
      "  7%|▋         | 22/300 [00:08<01:51,  2.49it/s]"
     ]
    },
    {
     "name": "stdout",
     "output_type": "stream",
     "text": [
      "\n",
      "epoch 22: test average loss: 22.155 | acc: 91.58% (185/202)\n",
      "EarlyStopping counter: 3/25 (best: 0.9802)\n",
      "\n",
      "epoch 23: train average loss: 6.390 | acc: 92.97% (1692/1820)\n"
     ]
    },
    {
     "name": "stderr",
     "output_type": "stream",
     "text": [
      "  8%|▊         | 23/300 [00:09<01:49,  2.52it/s]"
     ]
    },
    {
     "name": "stdout",
     "output_type": "stream",
     "text": [
      "\n",
      "epoch 23: test average loss: 21.085 | acc: 95.54% (193/202)\n",
      "EarlyStopping counter: 4/25 (best: 0.9802)\n",
      "\n",
      "epoch 24: train average loss: 5.909 | acc: 93.24% (1697/1820)\n"
     ]
    },
    {
     "name": "stderr",
     "output_type": "stream",
     "text": [
      "  8%|▊         | 24/300 [00:09<01:47,  2.57it/s]"
     ]
    },
    {
     "name": "stdout",
     "output_type": "stream",
     "text": [
      "\n",
      "epoch 24: test average loss: 25.654 | acc: 93.56% (189/202)\n",
      "EarlyStopping counter: 5/25 (best: 0.9802)\n",
      "\n",
      "epoch 25: train average loss: 3.854 | acc: 93.79% (1707/1820)\n"
     ]
    },
    {
     "name": "stderr",
     "output_type": "stream",
     "text": [
      "  8%|▊         | 25/300 [00:09<01:46,  2.59it/s]"
     ]
    },
    {
     "name": "stdout",
     "output_type": "stream",
     "text": [
      "\n",
      "epoch 25: test average loss: 22.590 | acc: 88.12% (178/202)\n",
      "EarlyStopping counter: 6/25 (best: 0.9802)\n",
      "\n",
      "epoch 26: train average loss: 3.784 | acc: 93.63% (1704/1820)\n"
     ]
    },
    {
     "name": "stderr",
     "output_type": "stream",
     "text": [
      "  9%|▊         | 26/300 [00:10<01:45,  2.60it/s]"
     ]
    },
    {
     "name": "stdout",
     "output_type": "stream",
     "text": [
      "\n",
      "epoch 26: test average loss: 23.770 | acc: 93.07% (188/202)\n",
      "EarlyStopping counter: 7/25 (best: 0.9802)\n",
      "\n",
      "epoch 27: train average loss: 3.777 | acc: 95.22% (1733/1820)\n"
     ]
    },
    {
     "name": "stderr",
     "output_type": "stream",
     "text": [
      "  9%|▉         | 27/300 [00:10<01:44,  2.62it/s]"
     ]
    },
    {
     "name": "stdout",
     "output_type": "stream",
     "text": [
      "\n",
      "epoch 27: test average loss: 21.727 | acc: 92.57% (187/202)\n",
      "EarlyStopping counter: 8/25 (best: 0.9802)\n",
      "\n",
      "epoch 28: train average loss: 3.029 | acc: 93.57% (1703/1820)\n"
     ]
    },
    {
     "name": "stderr",
     "output_type": "stream",
     "text": [
      "  9%|▉         | 28/300 [00:11<01:42,  2.65it/s]"
     ]
    },
    {
     "name": "stdout",
     "output_type": "stream",
     "text": [
      "\n",
      "epoch 28: test average loss: 22.118 | acc: 98.02% (198/202)\n",
      "EarlyStopping counter: 9/25 (best: 0.9802)\n",
      "\n",
      "epoch 29: train average loss: 4.788 | acc: 95.22% (1733/1820)\n"
     ]
    },
    {
     "name": "stderr",
     "output_type": "stream",
     "text": [
      " 10%|▉         | 29/300 [00:11<01:41,  2.66it/s]"
     ]
    },
    {
     "name": "stdout",
     "output_type": "stream",
     "text": [
      "\n",
      "epoch 29: test average loss: 29.487 | acc: 88.12% (178/202)\n",
      "EarlyStopping counter: 10/25 (best: 0.9802)\n",
      "\n",
      "epoch 30: train average loss: 3.425 | acc: 94.95% (1728/1820)\n"
     ]
    },
    {
     "name": "stderr",
     "output_type": "stream",
     "text": [
      " 10%|█         | 30/300 [00:11<01:40,  2.68it/s]"
     ]
    },
    {
     "name": "stdout",
     "output_type": "stream",
     "text": [
      "\n",
      "epoch 30: test average loss: 20.423 | acc: 96.53% (195/202)\n",
      "EarlyStopping counter: 11/25 (best: 0.9802)\n",
      "\n",
      "epoch 31: train average loss: 2.742 | acc: 94.95% (1728/1820)\n"
     ]
    },
    {
     "name": "stderr",
     "output_type": "stream",
     "text": [
      " 10%|█         | 31/300 [00:12<01:39,  2.69it/s]"
     ]
    },
    {
     "name": "stdout",
     "output_type": "stream",
     "text": [
      "\n",
      "epoch 31: test average loss: 38.275 | acc: 74.26% (150/202)\n",
      "EarlyStopping counter: 12/25 (best: 0.9802)\n",
      "\n",
      "epoch 32: train average loss: 2.479 | acc: 95.27% (1734/1820)\n"
     ]
    },
    {
     "name": "stderr",
     "output_type": "stream",
     "text": [
      " 11%|█         | 32/300 [00:12<01:39,  2.70it/s]"
     ]
    },
    {
     "name": "stdout",
     "output_type": "stream",
     "text": [
      "\n",
      "epoch 32: test average loss: 34.500 | acc: 87.62% (177/202)\n",
      "EarlyStopping counter: 13/25 (best: 0.9802)\n",
      "\n",
      "epoch 33: train average loss: 2.150 | acc: 95.44% (1737/1820)\n"
     ]
    },
    {
     "name": "stderr",
     "output_type": "stream",
     "text": [
      " 11%|█         | 33/300 [00:12<01:38,  2.70it/s]"
     ]
    },
    {
     "name": "stdout",
     "output_type": "stream",
     "text": [
      "\n",
      "epoch 33: test average loss: 38.674 | acc: 90.59% (183/202)\n",
      "EarlyStopping counter: 14/25 (best: 0.9802)\n",
      "\n",
      "epoch 34: train average loss: 1.994 | acc: 95.82% (1744/1820)\n"
     ]
    },
    {
     "name": "stderr",
     "output_type": "stream",
     "text": [
      " 11%|█▏        | 34/300 [00:13<01:39,  2.67it/s]"
     ]
    },
    {
     "name": "stdout",
     "output_type": "stream",
     "text": [
      "\n",
      "epoch 34: test average loss: 42.694 | acc: 90.59% (183/202)\n",
      "EarlyStopping counter: 15/25 (best: 0.9802)\n",
      "\n",
      "epoch 35: train average loss: 1.979 | acc: 96.54% (1757/1820)\n"
     ]
    },
    {
     "name": "stderr",
     "output_type": "stream",
     "text": [
      " 12%|█▏        | 35/300 [00:13<01:37,  2.71it/s]"
     ]
    },
    {
     "name": "stdout",
     "output_type": "stream",
     "text": [
      "\n",
      "epoch 35: test average loss: 25.627 | acc: 96.53% (195/202)\n",
      "EarlyStopping counter: 16/25 (best: 0.9802)\n",
      "\n",
      "epoch 36: train average loss: 1.791 | acc: 96.92% (1764/1820)\n"
     ]
    },
    {
     "name": "stderr",
     "output_type": "stream",
     "text": [
      " 12%|█▏        | 36/300 [00:13<01:36,  2.74it/s]"
     ]
    },
    {
     "name": "stdout",
     "output_type": "stream",
     "text": [
      "\n",
      "epoch 36: test average loss: 34.601 | acc: 95.05% (192/202)\n",
      "EarlyStopping counter: 17/25 (best: 0.9802)\n",
      "\n",
      "epoch 37: train average loss: 2.342 | acc: 96.76% (1761/1820)\n"
     ]
    },
    {
     "name": "stderr",
     "output_type": "stream",
     "text": [
      " 12%|█▏        | 37/300 [00:14<01:34,  2.78it/s]"
     ]
    },
    {
     "name": "stdout",
     "output_type": "stream",
     "text": [
      "\n",
      "epoch 37: test average loss: 42.625 | acc: 91.09% (184/202)\n",
      "EarlyStopping counter: 18/25 (best: 0.9802)\n",
      "\n",
      "epoch 38: train average loss: 1.747 | acc: 96.37% (1754/1820)\n"
     ]
    },
    {
     "name": "stderr",
     "output_type": "stream",
     "text": [
      " 13%|█▎        | 38/300 [00:14<01:34,  2.78it/s]"
     ]
    },
    {
     "name": "stdout",
     "output_type": "stream",
     "text": [
      "\n",
      "epoch 38: test average loss: 29.222 | acc: 97.52% (197/202)\n",
      "EarlyStopping counter: 19/25 (best: 0.9802)\n",
      "\n",
      "epoch 39: train average loss: 2.071 | acc: 96.10% (1749/1820)\n"
     ]
    },
    {
     "name": "stderr",
     "output_type": "stream",
     "text": [
      " 13%|█▎        | 39/300 [00:14<01:33,  2.80it/s]"
     ]
    },
    {
     "name": "stdout",
     "output_type": "stream",
     "text": [
      "\n",
      "epoch 39: test average loss: 48.105 | acc: 89.60% (181/202)\n",
      "EarlyStopping counter: 20/25 (best: 0.9802)\n",
      "\n",
      "epoch 40: train average loss: 1.718 | acc: 96.92% (1764/1820)\n"
     ]
    },
    {
     "name": "stderr",
     "output_type": "stream",
     "text": [
      " 13%|█▎        | 40/300 [00:15<01:32,  2.82it/s]"
     ]
    },
    {
     "name": "stdout",
     "output_type": "stream",
     "text": [
      "\n",
      "epoch 40: test average loss: 51.736 | acc: 83.66% (169/202)\n",
      "EarlyStopping counter: 21/25 (best: 0.9802)\n",
      "\n",
      "epoch 41: train average loss: 1.740 | acc: 95.88% (1745/1820)\n"
     ]
    },
    {
     "name": "stderr",
     "output_type": "stream",
     "text": [
      " 14%|█▎        | 41/300 [00:15<01:31,  2.82it/s]"
     ]
    },
    {
     "name": "stdout",
     "output_type": "stream",
     "text": [
      "\n",
      "epoch 41: test average loss: 49.584 | acc: 90.10% (182/202)\n",
      "EarlyStopping counter: 22/25 (best: 0.9802)\n",
      "\n",
      "epoch 42: train average loss: 1.740 | acc: 97.14% (1768/1820)\n"
     ]
    },
    {
     "name": "stderr",
     "output_type": "stream",
     "text": [
      " 14%|█▍        | 42/300 [00:16<01:30,  2.84it/s]"
     ]
    },
    {
     "name": "stdout",
     "output_type": "stream",
     "text": [
      "\n",
      "epoch 42: test average loss: 44.411 | acc: 93.56% (189/202)\n",
      "EarlyStopping counter: 23/25 (best: 0.9802)\n",
      "\n",
      "epoch 43: train average loss: 1.729 | acc: 96.54% (1757/1820)\n"
     ]
    },
    {
     "name": "stderr",
     "output_type": "stream",
     "text": [
      " 14%|█▍        | 43/300 [00:16<01:30,  2.85it/s]"
     ]
    },
    {
     "name": "stdout",
     "output_type": "stream",
     "text": [
      "\n",
      "epoch 43: test average loss: 36.851 | acc: 95.54% (193/202)\n",
      "EarlyStopping counter: 24/25 (best: 0.9802)\n",
      "\n",
      "epoch 44: train average loss: 1.931 | acc: 96.70% (1760/1820)\n"
     ]
    },
    {
     "name": "stderr",
     "output_type": "stream",
     "text": [
      " 14%|█▍        | 43/300 [00:16<01:40,  2.57it/s]"
     ]
    },
    {
     "name": "stdout",
     "output_type": "stream",
     "text": [
      "\n",
      "epoch 44: test average loss: 33.826 | acc: 96.04% (194/202)\n",
      "EarlyStopping counter: 25/25 (best: 0.9802)\n",
      "🔴 Early stopping triggered\n",
      "load model at epoch 19, with test acc : 0.980\n"
     ]
    },
    {
     "name": "stderr",
     "output_type": "stream",
     "text": [
      "\n",
      "/tmp/ipykernel_3337346/1054042983.py:175: FutureWarning:\n",
      "\n",
      "You are using `torch.load` with `weights_only=False` (the current default value), which uses the default pickle module implicitly. It is possible to construct malicious pickle data which will execute arbitrary code during unpickling (See https://github.com/pytorch/pytorch/blob/main/SECURITY.md#untrusted-models for more details). In a future release, the default value for `weights_only` will be flipped to `True`. This limits the functions that could be executed during unpickling. Arbitrary objects will no longer be allowed to be loaded via this mode unless they are explicitly allowlisted by the user via `torch.serialization.add_safe_globals`. We recommend you start setting `weights_only=True` for any use case where you don't have full control of the loaded file. Please open an issue on GitHub for any issues related to this experimental feature.\n",
      "\n"
     ]
    },
    {
     "name": "stdout",
     "output_type": "stream",
     "text": [
      "total 0.9801980198019802\n",
      "class 0 0.9230769230769231\n",
      "class 1 0.9886363636363636\n",
      "Train t-SNE interactive HTML saved to variant_lenet_low_test_accuracy_combined_train.html\n",
      "Test t-SNE interactive HTML saved to variant_lenet_low_test_accuracy_combined_test.html\n",
      "                            0\n",
      "Accuracy               0.9802\n",
      "Recall       [0.9231, 0.9886]\n",
      "Specificity  [0.9886, 0.9231]\n",
      "Precision    [0.9231, 0.9886]\n",
      "F1 Score     [0.9231, 0.9886]\n",
      "6\n"
     ]
    },
    {
     "name": "stderr",
     "output_type": "stream",
     "text": [
      "  0%|          | 0/300 [00:00<?, ?it/s]"
     ]
    },
    {
     "name": "stdout",
     "output_type": "stream",
     "text": [
      "\n",
      "epoch 1: train average loss: 32.998 | acc: 61.37% (1117/1820)\n"
     ]
    },
    {
     "name": "stderr",
     "output_type": "stream",
     "text": [
      "  0%|          | 1/300 [00:00<01:55,  2.60it/s]"
     ]
    },
    {
     "name": "stdout",
     "output_type": "stream",
     "text": [
      "\n",
      "epoch 1: test average loss: 28.086 | acc: 87.13% (176/202)\n",
      "best test acc found\n",
      "\n",
      "epoch 2: train average loss: 26.871 | acc: 67.97% (1237/1820)\n"
     ]
    },
    {
     "name": "stderr",
     "output_type": "stream",
     "text": [
      "  1%|          | 2/300 [00:00<01:53,  2.63it/s]"
     ]
    },
    {
     "name": "stdout",
     "output_type": "stream",
     "text": [
      "\n",
      "epoch 2: test average loss: 24.052 | acc: 87.13% (176/202)\n",
      "EarlyStopping counter: 1/25 (best: 0.8713)\n",
      "\n",
      "epoch 3: train average loss: 23.494 | acc: 72.53% (1320/1820)\n"
     ]
    },
    {
     "name": "stderr",
     "output_type": "stream",
     "text": [
      "  1%|          | 3/300 [00:01<01:51,  2.67it/s]"
     ]
    },
    {
     "name": "stdout",
     "output_type": "stream",
     "text": [
      "\n",
      "epoch 3: test average loss: 22.379 | acc: 87.13% (176/202)\n",
      "EarlyStopping counter: 2/25 (best: 0.8713)\n",
      "\n",
      "epoch 4: train average loss: 20.799 | acc: 75.82% (1380/1820)\n"
     ]
    },
    {
     "name": "stderr",
     "output_type": "stream",
     "text": [
      "  1%|▏         | 4/300 [00:01<01:50,  2.69it/s]"
     ]
    },
    {
     "name": "stdout",
     "output_type": "stream",
     "text": [
      "\n",
      "epoch 4: test average loss: 21.372 | acc: 87.13% (176/202)\n",
      "EarlyStopping counter: 3/25 (best: 0.8713)\n",
      "\n",
      "epoch 5: train average loss: 18.908 | acc: 78.13% (1422/1820)\n"
     ]
    },
    {
     "name": "stderr",
     "output_type": "stream",
     "text": [
      "  2%|▏         | 5/300 [00:01<01:50,  2.68it/s]"
     ]
    },
    {
     "name": "stdout",
     "output_type": "stream",
     "text": [
      "\n",
      "epoch 5: test average loss: 22.129 | acc: 87.13% (176/202)\n",
      "EarlyStopping counter: 4/25 (best: 0.8713)\n",
      "\n",
      "epoch 6: train average loss: 18.044 | acc: 80.77% (1470/1820)\n"
     ]
    },
    {
     "name": "stderr",
     "output_type": "stream",
     "text": [
      "  2%|▏         | 6/300 [00:02<01:49,  2.68it/s]"
     ]
    },
    {
     "name": "stdout",
     "output_type": "stream",
     "text": [
      "\n",
      "epoch 6: test average loss: 21.732 | acc: 87.13% (176/202)\n",
      "EarlyStopping counter: 5/25 (best: 0.8713)\n",
      "\n",
      "epoch 7: train average loss: 16.665 | acc: 82.97% (1510/1820)\n"
     ]
    },
    {
     "name": "stderr",
     "output_type": "stream",
     "text": [
      "  2%|▏         | 7/300 [00:02<01:49,  2.67it/s]"
     ]
    },
    {
     "name": "stdout",
     "output_type": "stream",
     "text": [
      "\n",
      "epoch 7: test average loss: 21.520 | acc: 90.59% (183/202)\n",
      "best test acc found\n",
      "\n",
      "epoch 8: train average loss: 15.996 | acc: 84.45% (1537/1820)\n"
     ]
    },
    {
     "name": "stderr",
     "output_type": "stream",
     "text": [
      "  3%|▎         | 8/300 [00:03<01:53,  2.58it/s]"
     ]
    },
    {
     "name": "stdout",
     "output_type": "stream",
     "text": [
      "\n",
      "epoch 8: test average loss: 21.493 | acc: 91.58% (185/202)\n",
      "best test acc found\n",
      "\n",
      "epoch 9: train average loss: 14.374 | acc: 86.48% (1574/1820)\n"
     ]
    },
    {
     "name": "stderr",
     "output_type": "stream",
     "text": [
      "  3%|▎         | 9/300 [00:03<01:50,  2.63it/s]"
     ]
    },
    {
     "name": "stdout",
     "output_type": "stream",
     "text": [
      "\n",
      "epoch 9: test average loss: 21.161 | acc: 95.05% (192/202)\n",
      "best test acc found\n",
      "\n",
      "epoch 10: train average loss: 13.857 | acc: 86.48% (1574/1820)\n"
     ]
    },
    {
     "name": "stderr",
     "output_type": "stream",
     "text": [
      "  3%|▎         | 10/300 [00:03<01:47,  2.69it/s]"
     ]
    },
    {
     "name": "stdout",
     "output_type": "stream",
     "text": [
      "\n",
      "epoch 10: test average loss: 20.493 | acc: 92.08% (186/202)\n",
      "EarlyStopping counter: 1/25 (best: 0.9505)\n",
      "\n",
      "epoch 11: train average loss: 13.963 | acc: 87.14% (1586/1820)\n"
     ]
    },
    {
     "name": "stderr",
     "output_type": "stream",
     "text": [
      "  4%|▎         | 11/300 [00:04<01:45,  2.74it/s]"
     ]
    },
    {
     "name": "stdout",
     "output_type": "stream",
     "text": [
      "\n",
      "epoch 11: test average loss: 20.087 | acc: 85.15% (172/202)\n",
      "EarlyStopping counter: 2/25 (best: 0.9505)\n",
      "\n",
      "epoch 12: train average loss: 13.200 | acc: 87.58% (1594/1820)\n"
     ]
    },
    {
     "name": "stderr",
     "output_type": "stream",
     "text": [
      "  4%|▍         | 12/300 [00:04<01:44,  2.75it/s]"
     ]
    },
    {
     "name": "stdout",
     "output_type": "stream",
     "text": [
      "\n",
      "epoch 12: test average loss: 18.908 | acc: 95.54% (193/202)\n",
      "best test acc found\n",
      "\n",
      "epoch 13: train average loss: 11.717 | acc: 88.79% (1616/1820)\n"
     ]
    },
    {
     "name": "stderr",
     "output_type": "stream",
     "text": [
      "  4%|▍         | 13/300 [00:04<01:43,  2.77it/s]"
     ]
    },
    {
     "name": "stdout",
     "output_type": "stream",
     "text": [
      "\n",
      "epoch 13: test average loss: 23.913 | acc: 86.63% (175/202)\n",
      "EarlyStopping counter: 1/25 (best: 0.9554)\n",
      "\n",
      "epoch 14: train average loss: 11.632 | acc: 88.79% (1616/1820)\n"
     ]
    },
    {
     "name": "stderr",
     "output_type": "stream",
     "text": [
      "  5%|▍         | 14/300 [00:05<01:43,  2.77it/s]"
     ]
    },
    {
     "name": "stdout",
     "output_type": "stream",
     "text": [
      "\n",
      "epoch 14: test average loss: 30.649 | acc: 54.95% (111/202)\n",
      "EarlyStopping counter: 2/25 (best: 0.9554)\n",
      "\n",
      "epoch 15: train average loss: 10.683 | acc: 90.11% (1640/1820)\n"
     ]
    },
    {
     "name": "stderr",
     "output_type": "stream",
     "text": [
      "  5%|▌         | 15/300 [00:05<01:42,  2.78it/s]"
     ]
    },
    {
     "name": "stdout",
     "output_type": "stream",
     "text": [
      "\n",
      "epoch 15: test average loss: 21.402 | acc: 95.05% (192/202)\n",
      "EarlyStopping counter: 3/25 (best: 0.9554)\n",
      "\n",
      "epoch 16: train average loss: 9.599 | acc: 90.93% (1655/1820)\n"
     ]
    },
    {
     "name": "stderr",
     "output_type": "stream",
     "text": [
      "  5%|▌         | 16/300 [00:05<01:42,  2.76it/s]"
     ]
    },
    {
     "name": "stdout",
     "output_type": "stream",
     "text": [
      "\n",
      "epoch 16: test average loss: 28.150 | acc: 67.33% (136/202)\n",
      "EarlyStopping counter: 4/25 (best: 0.9554)\n",
      "\n",
      "epoch 17: train average loss: 8.628 | acc: 92.36% (1681/1820)\n"
     ]
    },
    {
     "name": "stderr",
     "output_type": "stream",
     "text": [
      "  6%|▌         | 17/300 [00:06<01:42,  2.77it/s]"
     ]
    },
    {
     "name": "stdout",
     "output_type": "stream",
     "text": [
      "\n",
      "epoch 17: test average loss: 24.055 | acc: 94.55% (191/202)\n",
      "EarlyStopping counter: 5/25 (best: 0.9554)\n",
      "\n",
      "epoch 18: train average loss: 8.262 | acc: 92.36% (1681/1820)\n"
     ]
    },
    {
     "name": "stderr",
     "output_type": "stream",
     "text": [
      "  6%|▌         | 18/300 [00:06<01:42,  2.74it/s]"
     ]
    },
    {
     "name": "stdout",
     "output_type": "stream",
     "text": [
      "\n",
      "epoch 18: test average loss: 19.896 | acc: 98.51% (199/202)\n",
      "best test acc found\n",
      "\n",
      "epoch 19: train average loss: 6.334 | acc: 93.46% (1701/1820)\n"
     ]
    },
    {
     "name": "stderr",
     "output_type": "stream",
     "text": [
      "  6%|▋         | 19/300 [00:06<01:41,  2.77it/s]"
     ]
    },
    {
     "name": "stdout",
     "output_type": "stream",
     "text": [
      "\n",
      "epoch 19: test average loss: 19.455 | acc: 97.52% (197/202)\n",
      "EarlyStopping counter: 1/25 (best: 0.9851)\n",
      "\n",
      "epoch 20: train average loss: 5.585 | acc: 92.69% (1687/1820)\n"
     ]
    },
    {
     "name": "stderr",
     "output_type": "stream",
     "text": [
      "  7%|▋         | 20/300 [00:07<01:41,  2.77it/s]"
     ]
    },
    {
     "name": "stdout",
     "output_type": "stream",
     "text": [
      "\n",
      "epoch 20: test average loss: 30.502 | acc: 81.68% (165/202)\n",
      "EarlyStopping counter: 2/25 (best: 0.9851)\n",
      "\n",
      "epoch 21: train average loss: 4.904 | acc: 91.70% (1669/1820)\n"
     ]
    },
    {
     "name": "stderr",
     "output_type": "stream",
     "text": [
      "  7%|▋         | 21/300 [00:07<01:43,  2.69it/s]"
     ]
    },
    {
     "name": "stdout",
     "output_type": "stream",
     "text": [
      "\n",
      "epoch 21: test average loss: 21.454 | acc: 96.04% (194/202)\n",
      "EarlyStopping counter: 3/25 (best: 0.9851)\n",
      "\n",
      "epoch 22: train average loss: 4.854 | acc: 92.69% (1687/1820)\n"
     ]
    },
    {
     "name": "stderr",
     "output_type": "stream",
     "text": [
      "  7%|▋         | 22/300 [00:08<01:45,  2.64it/s]"
     ]
    },
    {
     "name": "stdout",
     "output_type": "stream",
     "text": [
      "\n",
      "epoch 22: test average loss: 34.879 | acc: 80.69% (163/202)\n",
      "EarlyStopping counter: 4/25 (best: 0.9851)\n",
      "\n",
      "epoch 23: train average loss: 3.430 | acc: 92.97% (1692/1820)\n"
     ]
    },
    {
     "name": "stderr",
     "output_type": "stream",
     "text": [
      "  8%|▊         | 23/300 [00:08<01:46,  2.60it/s]"
     ]
    },
    {
     "name": "stdout",
     "output_type": "stream",
     "text": [
      "\n",
      "epoch 23: test average loss: 20.737 | acc: 97.52% (197/202)\n",
      "EarlyStopping counter: 5/25 (best: 0.9851)\n",
      "\n",
      "epoch 24: train average loss: 3.159 | acc: 93.08% (1694/1820)\n"
     ]
    },
    {
     "name": "stderr",
     "output_type": "stream",
     "text": [
      "  8%|▊         | 24/300 [00:08<01:47,  2.58it/s]"
     ]
    },
    {
     "name": "stdout",
     "output_type": "stream",
     "text": [
      "\n",
      "epoch 24: test average loss: 40.458 | acc: 86.14% (174/202)\n",
      "EarlyStopping counter: 6/25 (best: 0.9851)\n",
      "\n",
      "epoch 25: train average loss: 2.937 | acc: 92.69% (1687/1820)\n"
     ]
    },
    {
     "name": "stderr",
     "output_type": "stream",
     "text": [
      "  8%|▊         | 25/300 [00:09<01:45,  2.61it/s]"
     ]
    },
    {
     "name": "stdout",
     "output_type": "stream",
     "text": [
      "\n",
      "epoch 25: test average loss: 25.259 | acc: 92.57% (187/202)\n",
      "EarlyStopping counter: 7/25 (best: 0.9851)\n",
      "\n",
      "epoch 26: train average loss: 3.647 | acc: 94.73% (1724/1820)\n"
     ]
    },
    {
     "name": "stderr",
     "output_type": "stream",
     "text": [
      "  9%|▊         | 26/300 [00:09<01:45,  2.59it/s]"
     ]
    },
    {
     "name": "stdout",
     "output_type": "stream",
     "text": [
      "\n",
      "epoch 26: test average loss: 36.215 | acc: 87.13% (176/202)\n",
      "EarlyStopping counter: 8/25 (best: 0.9851)\n",
      "\n",
      "epoch 27: train average loss: 2.637 | acc: 93.46% (1701/1820)\n"
     ]
    },
    {
     "name": "stderr",
     "output_type": "stream",
     "text": [
      "  9%|▉         | 27/300 [00:10<01:44,  2.61it/s]"
     ]
    },
    {
     "name": "stdout",
     "output_type": "stream",
     "text": [
      "\n",
      "epoch 27: test average loss: 21.102 | acc: 97.03% (196/202)\n",
      "EarlyStopping counter: 9/25 (best: 0.9851)\n",
      "\n",
      "epoch 28: train average loss: 1.867 | acc: 95.22% (1733/1820)\n"
     ]
    },
    {
     "name": "stderr",
     "output_type": "stream",
     "text": [
      "  9%|▉         | 28/300 [00:10<01:43,  2.63it/s]"
     ]
    },
    {
     "name": "stdout",
     "output_type": "stream",
     "text": [
      "\n",
      "epoch 28: test average loss: 21.314 | acc: 98.51% (199/202)\n",
      "EarlyStopping counter: 10/25 (best: 0.9851)\n",
      "\n",
      "epoch 29: train average loss: 1.956 | acc: 94.89% (1727/1820)\n"
     ]
    },
    {
     "name": "stderr",
     "output_type": "stream",
     "text": [
      " 10%|▉         | 29/300 [00:10<01:42,  2.64it/s]"
     ]
    },
    {
     "name": "stdout",
     "output_type": "stream",
     "text": [
      "\n",
      "epoch 29: test average loss: 39.475 | acc: 89.11% (180/202)\n",
      "EarlyStopping counter: 11/25 (best: 0.9851)\n",
      "\n",
      "epoch 30: train average loss: 1.886 | acc: 94.12% (1713/1820)\n"
     ]
    },
    {
     "name": "stderr",
     "output_type": "stream",
     "text": [
      " 10%|█         | 30/300 [00:11<01:43,  2.61it/s]"
     ]
    },
    {
     "name": "stdout",
     "output_type": "stream",
     "text": [
      "\n",
      "epoch 30: test average loss: 40.624 | acc: 88.12% (178/202)\n",
      "EarlyStopping counter: 12/25 (best: 0.9851)\n",
      "\n",
      "epoch 31: train average loss: 1.842 | acc: 95.05% (1730/1820)\n"
     ]
    },
    {
     "name": "stderr",
     "output_type": "stream",
     "text": [
      " 10%|█         | 31/300 [00:11<01:42,  2.63it/s]"
     ]
    },
    {
     "name": "stdout",
     "output_type": "stream",
     "text": [
      "\n",
      "epoch 31: test average loss: 29.964 | acc: 97.03% (196/202)\n",
      "EarlyStopping counter: 13/25 (best: 0.9851)\n",
      "\n",
      "epoch 32: train average loss: 1.692 | acc: 96.43% (1755/1820)\n"
     ]
    },
    {
     "name": "stderr",
     "output_type": "stream",
     "text": [
      " 11%|█         | 32/300 [00:11<01:43,  2.59it/s]"
     ]
    },
    {
     "name": "stdout",
     "output_type": "stream",
     "text": [
      "\n",
      "epoch 32: test average loss: 33.602 | acc: 97.52% (197/202)\n",
      "EarlyStopping counter: 14/25 (best: 0.9851)\n",
      "\n",
      "epoch 33: train average loss: 1.917 | acc: 95.93% (1746/1820)\n"
     ]
    },
    {
     "name": "stderr",
     "output_type": "stream",
     "text": [
      " 11%|█         | 33/300 [00:12<01:42,  2.61it/s]"
     ]
    },
    {
     "name": "stdout",
     "output_type": "stream",
     "text": [
      "\n",
      "epoch 33: test average loss: 41.413 | acc: 95.05% (192/202)\n",
      "EarlyStopping counter: 15/25 (best: 0.9851)\n",
      "\n",
      "epoch 34: train average loss: 1.655 | acc: 96.48% (1756/1820)\n"
     ]
    },
    {
     "name": "stderr",
     "output_type": "stream",
     "text": [
      " 11%|█▏        | 34/300 [00:12<01:41,  2.63it/s]"
     ]
    },
    {
     "name": "stdout",
     "output_type": "stream",
     "text": [
      "\n",
      "epoch 34: test average loss: 42.866 | acc: 94.55% (191/202)\n",
      "EarlyStopping counter: 16/25 (best: 0.9851)\n",
      "\n",
      "epoch 35: train average loss: 1.941 | acc: 95.38% (1736/1820)\n"
     ]
    },
    {
     "name": "stderr",
     "output_type": "stream",
     "text": [
      " 12%|█▏        | 35/300 [00:13<01:40,  2.64it/s]"
     ]
    },
    {
     "name": "stdout",
     "output_type": "stream",
     "text": [
      "\n",
      "epoch 35: test average loss: 40.864 | acc: 95.54% (193/202)\n",
      "EarlyStopping counter: 17/25 (best: 0.9851)\n",
      "\n",
      "epoch 36: train average loss: 1.660 | acc: 96.26% (1752/1820)\n"
     ]
    },
    {
     "name": "stderr",
     "output_type": "stream",
     "text": [
      " 12%|█▏        | 36/300 [00:13<01:39,  2.67it/s]"
     ]
    },
    {
     "name": "stdout",
     "output_type": "stream",
     "text": [
      "\n",
      "epoch 36: test average loss: 37.427 | acc: 97.03% (196/202)\n",
      "EarlyStopping counter: 18/25 (best: 0.9851)\n",
      "\n",
      "epoch 37: train average loss: 1.884 | acc: 96.37% (1754/1820)\n"
     ]
    },
    {
     "name": "stderr",
     "output_type": "stream",
     "text": [
      " 12%|█▏        | 37/300 [00:13<01:37,  2.71it/s]"
     ]
    },
    {
     "name": "stdout",
     "output_type": "stream",
     "text": [
      "\n",
      "epoch 37: test average loss: 41.303 | acc: 95.05% (192/202)\n",
      "EarlyStopping counter: 19/25 (best: 0.9851)\n",
      "\n",
      "epoch 38: train average loss: 1.633 | acc: 96.65% (1759/1820)\n"
     ]
    },
    {
     "name": "stderr",
     "output_type": "stream",
     "text": [
      " 13%|█▎        | 38/300 [00:14<01:35,  2.74it/s]"
     ]
    },
    {
     "name": "stdout",
     "output_type": "stream",
     "text": [
      "\n",
      "epoch 38: test average loss: 43.828 | acc: 92.08% (186/202)\n",
      "EarlyStopping counter: 20/25 (best: 0.9851)\n",
      "\n",
      "epoch 39: train average loss: 1.714 | acc: 96.21% (1751/1820)\n"
     ]
    },
    {
     "name": "stderr",
     "output_type": "stream",
     "text": [
      " 13%|█▎        | 39/300 [00:14<01:34,  2.76it/s]"
     ]
    },
    {
     "name": "stdout",
     "output_type": "stream",
     "text": [
      "\n",
      "epoch 39: test average loss: 39.569 | acc: 95.05% (192/202)\n",
      "EarlyStopping counter: 21/25 (best: 0.9851)\n",
      "\n",
      "epoch 40: train average loss: 1.812 | acc: 96.26% (1752/1820)\n"
     ]
    },
    {
     "name": "stderr",
     "output_type": "stream",
     "text": [
      " 13%|█▎        | 40/300 [00:14<01:33,  2.78it/s]"
     ]
    },
    {
     "name": "stdout",
     "output_type": "stream",
     "text": [
      "\n",
      "epoch 40: test average loss: 33.830 | acc: 97.52% (197/202)\n",
      "EarlyStopping counter: 22/25 (best: 0.9851)\n",
      "\n",
      "epoch 41: train average loss: 1.640 | acc: 95.88% (1745/1820)\n"
     ]
    },
    {
     "name": "stderr",
     "output_type": "stream",
     "text": [
      " 14%|█▎        | 41/300 [00:15<01:33,  2.77it/s]"
     ]
    },
    {
     "name": "stdout",
     "output_type": "stream",
     "text": [
      "\n",
      "epoch 41: test average loss: 33.632 | acc: 97.03% (196/202)\n",
      "EarlyStopping counter: 23/25 (best: 0.9851)\n",
      "\n",
      "epoch 42: train average loss: 1.640 | acc: 95.38% (1736/1820)\n"
     ]
    },
    {
     "name": "stderr",
     "output_type": "stream",
     "text": [
      " 14%|█▍        | 42/300 [00:15<01:33,  2.77it/s]"
     ]
    },
    {
     "name": "stdout",
     "output_type": "stream",
     "text": [
      "\n",
      "epoch 42: test average loss: 35.124 | acc: 97.52% (197/202)\n",
      "EarlyStopping counter: 24/25 (best: 0.9851)\n",
      "\n",
      "epoch 43: train average loss: 1.600 | acc: 96.92% (1764/1820)\n"
     ]
    },
    {
     "name": "stderr",
     "output_type": "stream",
     "text": [
      " 14%|█▍        | 42/300 [00:16<01:38,  2.62it/s]"
     ]
    },
    {
     "name": "stdout",
     "output_type": "stream",
     "text": [
      "\n",
      "epoch 43: test average loss: 37.191 | acc: 97.52% (197/202)\n",
      "EarlyStopping counter: 25/25 (best: 0.9851)\n",
      "🔴 Early stopping triggered\n",
      "load model at epoch 18, with test acc : 0.985\n"
     ]
    },
    {
     "name": "stderr",
     "output_type": "stream",
     "text": [
      "\n",
      "/tmp/ipykernel_3337346/1054042983.py:175: FutureWarning:\n",
      "\n",
      "You are using `torch.load` with `weights_only=False` (the current default value), which uses the default pickle module implicitly. It is possible to construct malicious pickle data which will execute arbitrary code during unpickling (See https://github.com/pytorch/pytorch/blob/main/SECURITY.md#untrusted-models for more details). In a future release, the default value for `weights_only` will be flipped to `True`. This limits the functions that could be executed during unpickling. Arbitrary objects will no longer be allowed to be loaded via this mode unless they are explicitly allowlisted by the user via `torch.serialization.add_safe_globals`. We recommend you start setting `weights_only=True` for any use case where you don't have full control of the loaded file. Please open an issue on GitHub for any issues related to this experimental feature.\n",
      "\n"
     ]
    },
    {
     "name": "stdout",
     "output_type": "stream",
     "text": [
      "total 0.9851485148514851\n",
      "class 0 0.9230769230769231\n",
      "class 1 0.9943181818181818\n",
      "                            0\n",
      "Accuracy               0.9851\n",
      "Recall       [0.9231, 0.9943]\n",
      "Specificity  [0.9943, 0.9231]\n",
      "Precision      [0.96, 0.9887]\n",
      "F1 Score     [0.9412, 0.9915]\n",
      "7\n"
     ]
    },
    {
     "name": "stderr",
     "output_type": "stream",
     "text": [
      "  0%|          | 0/300 [00:00<?, ?it/s]"
     ]
    },
    {
     "name": "stdout",
     "output_type": "stream",
     "text": [
      "\n",
      "epoch 1: train average loss: 31.935 | acc: 63.08% (1148/1820)\n"
     ]
    },
    {
     "name": "stderr",
     "output_type": "stream",
     "text": [
      "  0%|          | 1/300 [00:00<01:52,  2.65it/s]"
     ]
    },
    {
     "name": "stdout",
     "output_type": "stream",
     "text": [
      "\n",
      "epoch 1: test average loss: 26.883 | acc: 13.37% (27/202)\n",
      "best test acc found\n",
      "\n",
      "epoch 2: train average loss: 26.244 | acc: 68.30% (1243/1820)\n"
     ]
    },
    {
     "name": "stderr",
     "output_type": "stream",
     "text": [
      "  1%|          | 2/300 [00:00<01:48,  2.75it/s]"
     ]
    },
    {
     "name": "stdout",
     "output_type": "stream",
     "text": [
      "\n",
      "epoch 2: test average loss: 24.122 | acc: 13.37% (27/202)\n",
      "EarlyStopping counter: 1/25 (best: 0.1337)\n",
      "\n",
      "epoch 3: train average loss: 22.434 | acc: 72.80% (1325/1820)\n"
     ]
    },
    {
     "name": "stderr",
     "output_type": "stream",
     "text": [
      "  1%|          | 3/300 [00:01<01:50,  2.69it/s]"
     ]
    },
    {
     "name": "stdout",
     "output_type": "stream",
     "text": [
      "\n",
      "epoch 3: test average loss: 21.982 | acc: 13.37% (27/202)\n",
      "EarlyStopping counter: 2/25 (best: 0.1337)\n",
      "\n",
      "epoch 4: train average loss: 20.439 | acc: 76.76% (1397/1820)\n"
     ]
    },
    {
     "name": "stderr",
     "output_type": "stream",
     "text": [
      "  1%|▏         | 4/300 [00:01<01:53,  2.60it/s]"
     ]
    },
    {
     "name": "stdout",
     "output_type": "stream",
     "text": [
      "\n",
      "epoch 4: test average loss: 21.682 | acc: 86.63% (175/202)\n",
      "best test acc found\n",
      "\n",
      "epoch 5: train average loss: 19.003 | acc: 78.96% (1437/1820)\n"
     ]
    },
    {
     "name": "stderr",
     "output_type": "stream",
     "text": [
      "  2%|▏         | 5/300 [00:01<01:56,  2.54it/s]"
     ]
    },
    {
     "name": "stdout",
     "output_type": "stream",
     "text": [
      "\n",
      "epoch 5: test average loss: 22.484 | acc: 86.63% (175/202)\n",
      "EarlyStopping counter: 1/25 (best: 0.8663)\n",
      "\n",
      "epoch 6: train average loss: 17.533 | acc: 78.96% (1437/1820)\n"
     ]
    },
    {
     "name": "stderr",
     "output_type": "stream",
     "text": [
      "  2%|▏         | 6/300 [00:02<01:57,  2.51it/s]"
     ]
    },
    {
     "name": "stdout",
     "output_type": "stream",
     "text": [
      "\n",
      "epoch 6: test average loss: 22.583 | acc: 86.63% (175/202)\n",
      "EarlyStopping counter: 2/25 (best: 0.8663)\n",
      "\n",
      "epoch 7: train average loss: 16.675 | acc: 80.27% (1461/1820)\n"
     ]
    },
    {
     "name": "stderr",
     "output_type": "stream",
     "text": [
      "  2%|▏         | 7/300 [00:02<01:54,  2.55it/s]"
     ]
    },
    {
     "name": "stdout",
     "output_type": "stream",
     "text": [
      "\n",
      "epoch 7: test average loss: 22.552 | acc: 86.63% (175/202)\n",
      "EarlyStopping counter: 3/25 (best: 0.8663)\n",
      "\n",
      "epoch 8: train average loss: 16.387 | acc: 82.25% (1497/1820)\n"
     ]
    },
    {
     "name": "stderr",
     "output_type": "stream",
     "text": [
      "  3%|▎         | 8/300 [00:03<01:54,  2.55it/s]"
     ]
    },
    {
     "name": "stdout",
     "output_type": "stream",
     "text": [
      "\n",
      "epoch 8: test average loss: 21.065 | acc: 91.09% (184/202)\n",
      "best test acc found\n",
      "\n",
      "epoch 9: train average loss: 16.619 | acc: 83.63% (1522/1820)\n"
     ]
    },
    {
     "name": "stderr",
     "output_type": "stream",
     "text": [
      "  3%|▎         | 9/300 [00:03<01:53,  2.57it/s]"
     ]
    },
    {
     "name": "stdout",
     "output_type": "stream",
     "text": [
      "\n",
      "epoch 9: test average loss: 20.458 | acc: 96.53% (195/202)\n",
      "best test acc found\n",
      "\n",
      "epoch 10: train average loss: 15.487 | acc: 84.73% (1542/1820)\n"
     ]
    },
    {
     "name": "stderr",
     "output_type": "stream",
     "text": [
      "  3%|▎         | 10/300 [00:03<01:51,  2.60it/s]"
     ]
    },
    {
     "name": "stdout",
     "output_type": "stream",
     "text": [
      "\n",
      "epoch 10: test average loss: 18.682 | acc: 82.67% (167/202)\n",
      "EarlyStopping counter: 1/25 (best: 0.9653)\n",
      "\n",
      "epoch 11: train average loss: 13.872 | acc: 86.65% (1577/1820)\n"
     ]
    },
    {
     "name": "stderr",
     "output_type": "stream",
     "text": [
      "  4%|▎         | 11/300 [00:04<01:50,  2.62it/s]"
     ]
    },
    {
     "name": "stdout",
     "output_type": "stream",
     "text": [
      "\n",
      "epoch 11: test average loss: 17.388 | acc: 92.57% (187/202)\n",
      "EarlyStopping counter: 2/25 (best: 0.9653)\n",
      "\n",
      "epoch 12: train average loss: 14.409 | acc: 86.10% (1567/1820)\n"
     ]
    },
    {
     "name": "stderr",
     "output_type": "stream",
     "text": [
      "  4%|▍         | 12/300 [00:04<01:49,  2.63it/s]"
     ]
    },
    {
     "name": "stdout",
     "output_type": "stream",
     "text": [
      "\n",
      "epoch 12: test average loss: 18.874 | acc: 93.56% (189/202)\n",
      "EarlyStopping counter: 3/25 (best: 0.9653)\n",
      "\n",
      "epoch 13: train average loss: 12.448 | acc: 87.69% (1596/1820)\n"
     ]
    },
    {
     "name": "stderr",
     "output_type": "stream",
     "text": [
      "  4%|▍         | 13/300 [00:04<01:49,  2.63it/s]"
     ]
    },
    {
     "name": "stdout",
     "output_type": "stream",
     "text": [
      "\n",
      "epoch 13: test average loss: 18.151 | acc: 84.65% (171/202)\n",
      "EarlyStopping counter: 4/25 (best: 0.9653)\n",
      "\n",
      "epoch 14: train average loss: 12.438 | acc: 88.57% (1612/1820)\n"
     ]
    },
    {
     "name": "stderr",
     "output_type": "stream",
     "text": [
      "  5%|▍         | 14/300 [00:05<01:47,  2.65it/s]"
     ]
    },
    {
     "name": "stdout",
     "output_type": "stream",
     "text": [
      "\n",
      "epoch 14: test average loss: 22.042 | acc: 49.50% (100/202)\n",
      "EarlyStopping counter: 5/25 (best: 0.9653)\n",
      "\n",
      "epoch 15: train average loss: 12.029 | acc: 90.33% (1644/1820)\n"
     ]
    },
    {
     "name": "stderr",
     "output_type": "stream",
     "text": [
      "  5%|▌         | 15/300 [00:05<01:46,  2.66it/s]"
     ]
    },
    {
     "name": "stdout",
     "output_type": "stream",
     "text": [
      "\n",
      "epoch 15: test average loss: 21.642 | acc: 95.54% (193/202)\n",
      "EarlyStopping counter: 6/25 (best: 0.9653)\n",
      "\n",
      "epoch 16: train average loss: 11.951 | acc: 89.56% (1630/1820)\n"
     ]
    },
    {
     "name": "stderr",
     "output_type": "stream",
     "text": [
      "  5%|▌         | 16/300 [00:06<01:46,  2.67it/s]"
     ]
    },
    {
     "name": "stdout",
     "output_type": "stream",
     "text": [
      "\n",
      "epoch 16: test average loss: 21.446 | acc: 57.92% (117/202)\n",
      "EarlyStopping counter: 7/25 (best: 0.9653)\n",
      "\n",
      "epoch 17: train average loss: 10.465 | acc: 91.15% (1659/1820)\n"
     ]
    },
    {
     "name": "stderr",
     "output_type": "stream",
     "text": [
      "  6%|▌         | 17/300 [00:06<01:47,  2.63it/s]"
     ]
    },
    {
     "name": "stdout",
     "output_type": "stream",
     "text": [
      "\n",
      "epoch 17: test average loss: 18.117 | acc: 97.03% (196/202)\n",
      "best test acc found\n",
      "\n",
      "epoch 18: train average loss: 10.994 | acc: 91.81% (1671/1820)\n"
     ]
    },
    {
     "name": "stderr",
     "output_type": "stream",
     "text": [
      "  6%|▌         | 18/300 [00:06<01:46,  2.65it/s]"
     ]
    },
    {
     "name": "stdout",
     "output_type": "stream",
     "text": [
      "\n",
      "epoch 18: test average loss: 16.513 | acc: 74.26% (150/202)\n",
      "EarlyStopping counter: 1/25 (best: 0.9703)\n",
      "\n",
      "epoch 19: train average loss: 10.850 | acc: 90.27% (1643/1820)\n"
     ]
    },
    {
     "name": "stderr",
     "output_type": "stream",
     "text": [
      "  6%|▋         | 19/300 [00:07<01:46,  2.65it/s]"
     ]
    },
    {
     "name": "stdout",
     "output_type": "stream",
     "text": [
      "\n",
      "epoch 19: test average loss: 20.840 | acc: 90.10% (182/202)\n",
      "EarlyStopping counter: 2/25 (best: 0.9703)\n",
      "\n",
      "epoch 20: train average loss: 8.315 | acc: 91.10% (1658/1820)\n"
     ]
    },
    {
     "name": "stderr",
     "output_type": "stream",
     "text": [
      "  7%|▋         | 20/300 [00:07<01:44,  2.68it/s]"
     ]
    },
    {
     "name": "stdout",
     "output_type": "stream",
     "text": [
      "\n",
      "epoch 20: test average loss: 20.209 | acc: 97.03% (196/202)\n",
      "EarlyStopping counter: 3/25 (best: 0.9703)\n",
      "\n",
      "epoch 21: train average loss: 8.688 | acc: 92.58% (1685/1820)\n"
     ]
    },
    {
     "name": "stderr",
     "output_type": "stream",
     "text": [
      "  7%|▋         | 21/300 [00:07<01:42,  2.71it/s]"
     ]
    },
    {
     "name": "stdout",
     "output_type": "stream",
     "text": [
      "\n",
      "epoch 21: test average loss: 20.187 | acc: 97.03% (196/202)\n",
      "EarlyStopping counter: 4/25 (best: 0.9703)\n",
      "\n",
      "epoch 22: train average loss: 6.276 | acc: 92.80% (1689/1820)\n"
     ]
    },
    {
     "name": "stderr",
     "output_type": "stream",
     "text": [
      "  7%|▋         | 22/300 [00:08<01:42,  2.71it/s]"
     ]
    },
    {
     "name": "stdout",
     "output_type": "stream",
     "text": [
      "\n",
      "epoch 22: test average loss: 29.279 | acc: 92.57% (187/202)\n",
      "EarlyStopping counter: 5/25 (best: 0.9703)\n",
      "\n",
      "epoch 23: train average loss: 5.599 | acc: 93.08% (1694/1820)\n"
     ]
    },
    {
     "name": "stderr",
     "output_type": "stream",
     "text": [
      "  8%|▊         | 23/300 [00:08<01:41,  2.74it/s]"
     ]
    },
    {
     "name": "stdout",
     "output_type": "stream",
     "text": [
      "\n",
      "epoch 23: test average loss: 20.088 | acc: 95.05% (192/202)\n",
      "EarlyStopping counter: 6/25 (best: 0.9703)\n",
      "\n",
      "epoch 24: train average loss: 5.150 | acc: 93.19% (1696/1820)\n"
     ]
    },
    {
     "name": "stderr",
     "output_type": "stream",
     "text": [
      "  8%|▊         | 24/300 [00:09<01:41,  2.73it/s]"
     ]
    },
    {
     "name": "stdout",
     "output_type": "stream",
     "text": [
      "\n",
      "epoch 24: test average loss: 20.402 | acc: 97.52% (197/202)\n",
      "best test acc found\n",
      "\n",
      "epoch 25: train average loss: 4.430 | acc: 92.91% (1691/1820)\n"
     ]
    },
    {
     "name": "stderr",
     "output_type": "stream",
     "text": [
      "  8%|▊         | 25/300 [00:09<01:39,  2.75it/s]"
     ]
    },
    {
     "name": "stdout",
     "output_type": "stream",
     "text": [
      "\n",
      "epoch 25: test average loss: 30.212 | acc: 95.54% (193/202)\n",
      "EarlyStopping counter: 1/25 (best: 0.9752)\n",
      "\n",
      "epoch 26: train average loss: 3.920 | acc: 93.35% (1699/1820)\n"
     ]
    },
    {
     "name": "stderr",
     "output_type": "stream",
     "text": [
      "  9%|▊         | 26/300 [00:09<01:39,  2.76it/s]"
     ]
    },
    {
     "name": "stdout",
     "output_type": "stream",
     "text": [
      "\n",
      "epoch 26: test average loss: 28.736 | acc: 97.52% (197/202)\n",
      "EarlyStopping counter: 2/25 (best: 0.9752)\n",
      "\n",
      "epoch 27: train average loss: 3.442 | acc: 92.64% (1686/1820)\n"
     ]
    },
    {
     "name": "stderr",
     "output_type": "stream",
     "text": [
      "  9%|▉         | 27/300 [00:10<01:38,  2.76it/s]"
     ]
    },
    {
     "name": "stdout",
     "output_type": "stream",
     "text": [
      "\n",
      "epoch 27: test average loss: 26.997 | acc: 95.05% (192/202)\n",
      "EarlyStopping counter: 3/25 (best: 0.9752)\n",
      "\n",
      "epoch 28: train average loss: 2.765 | acc: 93.19% (1696/1820)\n"
     ]
    },
    {
     "name": "stderr",
     "output_type": "stream",
     "text": [
      "  9%|▉         | 28/300 [00:10<01:38,  2.76it/s]"
     ]
    },
    {
     "name": "stdout",
     "output_type": "stream",
     "text": [
      "\n",
      "epoch 28: test average loss: 29.335 | acc: 73.27% (148/202)\n",
      "EarlyStopping counter: 4/25 (best: 0.9752)\n",
      "\n",
      "epoch 29: train average loss: 2.118 | acc: 94.01% (1711/1820)\n"
     ]
    },
    {
     "name": "stderr",
     "output_type": "stream",
     "text": [
      " 10%|▉         | 29/300 [00:10<01:37,  2.77it/s]"
     ]
    },
    {
     "name": "stdout",
     "output_type": "stream",
     "text": [
      "\n",
      "epoch 29: test average loss: 26.413 | acc: 96.53% (195/202)\n",
      "EarlyStopping counter: 5/25 (best: 0.9752)\n",
      "\n",
      "epoch 30: train average loss: 2.261 | acc: 94.18% (1714/1820)\n"
     ]
    },
    {
     "name": "stderr",
     "output_type": "stream",
     "text": [
      " 10%|█         | 30/300 [00:11<01:38,  2.75it/s]"
     ]
    },
    {
     "name": "stdout",
     "output_type": "stream",
     "text": [
      "\n",
      "epoch 30: test average loss: 20.564 | acc: 97.52% (197/202)\n",
      "EarlyStopping counter: 6/25 (best: 0.9752)\n",
      "\n",
      "epoch 31: train average loss: 1.874 | acc: 94.51% (1720/1820)\n"
     ]
    },
    {
     "name": "stderr",
     "output_type": "stream",
     "text": [
      " 10%|█         | 31/300 [00:11<01:42,  2.63it/s]"
     ]
    },
    {
     "name": "stdout",
     "output_type": "stream",
     "text": [
      "\n",
      "epoch 31: test average loss: 25.597 | acc: 96.04% (194/202)\n",
      "EarlyStopping counter: 7/25 (best: 0.9752)\n",
      "\n",
      "epoch 32: train average loss: 1.708 | acc: 94.78% (1725/1820)\n"
     ]
    },
    {
     "name": "stderr",
     "output_type": "stream",
     "text": [
      " 11%|█         | 32/300 [00:12<01:43,  2.60it/s]"
     ]
    },
    {
     "name": "stdout",
     "output_type": "stream",
     "text": [
      "\n",
      "epoch 32: test average loss: 29.501 | acc: 94.55% (191/202)\n",
      "EarlyStopping counter: 8/25 (best: 0.9752)\n",
      "\n",
      "epoch 33: train average loss: 1.956 | acc: 95.49% (1738/1820)\n"
     ]
    },
    {
     "name": "stderr",
     "output_type": "stream",
     "text": [
      " 11%|█         | 33/300 [00:12<01:44,  2.55it/s]"
     ]
    },
    {
     "name": "stdout",
     "output_type": "stream",
     "text": [
      "\n",
      "epoch 33: test average loss: 25.964 | acc: 96.53% (195/202)\n",
      "EarlyStopping counter: 9/25 (best: 0.9752)\n",
      "\n",
      "epoch 34: train average loss: 1.972 | acc: 95.00% (1729/1820)\n"
     ]
    },
    {
     "name": "stderr",
     "output_type": "stream",
     "text": [
      " 11%|█▏        | 34/300 [00:12<01:43,  2.56it/s]"
     ]
    },
    {
     "name": "stdout",
     "output_type": "stream",
     "text": [
      "\n",
      "epoch 34: test average loss: 24.641 | acc: 97.52% (197/202)\n",
      "EarlyStopping counter: 10/25 (best: 0.9752)\n",
      "\n",
      "epoch 35: train average loss: 1.724 | acc: 95.88% (1745/1820)\n"
     ]
    },
    {
     "name": "stderr",
     "output_type": "stream",
     "text": [
      " 12%|█▏        | 35/300 [00:13<01:41,  2.60it/s]"
     ]
    },
    {
     "name": "stdout",
     "output_type": "stream",
     "text": [
      "\n",
      "epoch 35: test average loss: 27.230 | acc: 95.54% (193/202)\n",
      "EarlyStopping counter: 11/25 (best: 0.9752)\n",
      "\n",
      "epoch 36: train average loss: 1.757 | acc: 95.38% (1736/1820)\n"
     ]
    },
    {
     "name": "stderr",
     "output_type": "stream",
     "text": [
      " 12%|█▏        | 36/300 [00:13<01:41,  2.61it/s]"
     ]
    },
    {
     "name": "stdout",
     "output_type": "stream",
     "text": [
      "\n",
      "epoch 36: test average loss: 26.860 | acc: 92.57% (187/202)\n",
      "EarlyStopping counter: 12/25 (best: 0.9752)\n",
      "\n",
      "epoch 37: train average loss: 1.644 | acc: 96.10% (1749/1820)\n"
     ]
    },
    {
     "name": "stderr",
     "output_type": "stream",
     "text": [
      " 12%|█▏        | 37/300 [00:13<01:39,  2.63it/s]"
     ]
    },
    {
     "name": "stdout",
     "output_type": "stream",
     "text": [
      "\n",
      "epoch 37: test average loss: 24.927 | acc: 93.56% (189/202)\n",
      "EarlyStopping counter: 13/25 (best: 0.9752)\n",
      "\n",
      "epoch 38: train average loss: 1.662 | acc: 96.92% (1764/1820)\n"
     ]
    },
    {
     "name": "stderr",
     "output_type": "stream",
     "text": [
      " 13%|█▎        | 38/300 [00:14<01:39,  2.64it/s]"
     ]
    },
    {
     "name": "stdout",
     "output_type": "stream",
     "text": [
      "\n",
      "epoch 38: test average loss: 24.098 | acc: 96.04% (194/202)\n",
      "EarlyStopping counter: 14/25 (best: 0.9752)\n",
      "\n",
      "epoch 39: train average loss: 1.729 | acc: 96.26% (1752/1820)\n"
     ]
    },
    {
     "name": "stderr",
     "output_type": "stream",
     "text": [
      " 13%|█▎        | 39/300 [00:14<01:38,  2.64it/s]"
     ]
    },
    {
     "name": "stdout",
     "output_type": "stream",
     "text": [
      "\n",
      "epoch 39: test average loss: 24.634 | acc: 94.55% (191/202)\n",
      "EarlyStopping counter: 15/25 (best: 0.9752)\n",
      "\n",
      "epoch 40: train average loss: 1.623 | acc: 96.59% (1758/1820)\n"
     ]
    },
    {
     "name": "stderr",
     "output_type": "stream",
     "text": [
      " 13%|█▎        | 40/300 [00:15<01:37,  2.65it/s]"
     ]
    },
    {
     "name": "stdout",
     "output_type": "stream",
     "text": [
      "\n",
      "epoch 40: test average loss: 25.165 | acc: 94.55% (191/202)\n",
      "EarlyStopping counter: 16/25 (best: 0.9752)\n",
      "\n",
      "epoch 41: train average loss: 1.631 | acc: 96.48% (1756/1820)\n"
     ]
    },
    {
     "name": "stderr",
     "output_type": "stream",
     "text": [
      " 14%|█▎        | 41/300 [00:15<01:37,  2.66it/s]"
     ]
    },
    {
     "name": "stdout",
     "output_type": "stream",
     "text": [
      "\n",
      "epoch 41: test average loss: 22.972 | acc: 94.06% (190/202)\n",
      "EarlyStopping counter: 17/25 (best: 0.9752)\n",
      "\n",
      "epoch 42: train average loss: 1.616 | acc: 96.87% (1763/1820)\n"
     ]
    },
    {
     "name": "stderr",
     "output_type": "stream",
     "text": [
      " 14%|█▍        | 42/300 [00:15<01:37,  2.65it/s]"
     ]
    },
    {
     "name": "stdout",
     "output_type": "stream",
     "text": [
      "\n",
      "epoch 42: test average loss: 22.058 | acc: 95.54% (193/202)\n",
      "EarlyStopping counter: 18/25 (best: 0.9752)\n",
      "\n",
      "epoch 43: train average loss: 1.884 | acc: 97.53% (1775/1820)\n"
     ]
    },
    {
     "name": "stderr",
     "output_type": "stream",
     "text": [
      " 14%|█▍        | 43/300 [00:16<01:36,  2.66it/s]"
     ]
    },
    {
     "name": "stdout",
     "output_type": "stream",
     "text": [
      "\n",
      "epoch 43: test average loss: 21.490 | acc: 96.04% (194/202)\n",
      "EarlyStopping counter: 19/25 (best: 0.9752)\n",
      "\n",
      "epoch 44: train average loss: 1.656 | acc: 97.53% (1775/1820)\n"
     ]
    },
    {
     "name": "stderr",
     "output_type": "stream",
     "text": [
      " 15%|█▍        | 44/300 [00:16<01:36,  2.65it/s]"
     ]
    },
    {
     "name": "stdout",
     "output_type": "stream",
     "text": [
      "\n",
      "epoch 44: test average loss: 23.760 | acc: 97.52% (197/202)\n",
      "EarlyStopping counter: 20/25 (best: 0.9752)\n",
      "\n",
      "epoch 45: train average loss: 1.945 | acc: 96.32% (1753/1820)\n"
     ]
    },
    {
     "name": "stderr",
     "output_type": "stream",
     "text": [
      " 15%|█▌        | 45/300 [00:16<01:36,  2.65it/s]"
     ]
    },
    {
     "name": "stdout",
     "output_type": "stream",
     "text": [
      "\n",
      "epoch 45: test average loss: 23.507 | acc: 95.05% (192/202)\n",
      "EarlyStopping counter: 21/25 (best: 0.9752)\n",
      "\n",
      "epoch 46: train average loss: 1.651 | acc: 97.25% (1770/1820)\n"
     ]
    },
    {
     "name": "stderr",
     "output_type": "stream",
     "text": [
      " 15%|█▌        | 46/300 [00:17<01:35,  2.65it/s]"
     ]
    },
    {
     "name": "stdout",
     "output_type": "stream",
     "text": [
      "\n",
      "epoch 46: test average loss: 24.355 | acc: 93.56% (189/202)\n",
      "EarlyStopping counter: 22/25 (best: 0.9752)\n",
      "\n",
      "epoch 47: train average loss: 1.658 | acc: 96.81% (1762/1820)\n"
     ]
    },
    {
     "name": "stderr",
     "output_type": "stream",
     "text": [
      " 16%|█▌        | 47/300 [00:17<01:34,  2.68it/s]"
     ]
    },
    {
     "name": "stdout",
     "output_type": "stream",
     "text": [
      "\n",
      "epoch 47: test average loss: 25.241 | acc: 93.56% (189/202)\n",
      "EarlyStopping counter: 23/25 (best: 0.9752)\n",
      "\n",
      "epoch 48: train average loss: 1.664 | acc: 96.76% (1761/1820)\n"
     ]
    },
    {
     "name": "stderr",
     "output_type": "stream",
     "text": [
      " 16%|█▌        | 48/300 [00:18<01:33,  2.68it/s]"
     ]
    },
    {
     "name": "stdout",
     "output_type": "stream",
     "text": [
      "\n",
      "epoch 48: test average loss: 26.036 | acc: 92.57% (187/202)\n",
      "EarlyStopping counter: 24/25 (best: 0.9752)\n",
      "\n",
      "epoch 49: train average loss: 1.615 | acc: 97.03% (1766/1820)\n"
     ]
    },
    {
     "name": "stderr",
     "output_type": "stream",
     "text": [
      " 16%|█▌        | 48/300 [00:18<01:36,  2.60it/s]"
     ]
    },
    {
     "name": "stdout",
     "output_type": "stream",
     "text": [
      "\n",
      "epoch 49: test average loss: 25.584 | acc: 94.06% (190/202)\n",
      "EarlyStopping counter: 25/25 (best: 0.9752)\n",
      "🔴 Early stopping triggered\n",
      "load model at epoch 24, with test acc : 0.975\n"
     ]
    },
    {
     "name": "stderr",
     "output_type": "stream",
     "text": [
      "\n",
      "/tmp/ipykernel_3337346/1054042983.py:175: FutureWarning:\n",
      "\n",
      "You are using `torch.load` with `weights_only=False` (the current default value), which uses the default pickle module implicitly. It is possible to construct malicious pickle data which will execute arbitrary code during unpickling (See https://github.com/pytorch/pytorch/blob/main/SECURITY.md#untrusted-models for more details). In a future release, the default value for `weights_only` will be flipped to `True`. This limits the functions that could be executed during unpickling. Arbitrary objects will no longer be allowed to be loaded via this mode unless they are explicitly allowlisted by the user via `torch.serialization.add_safe_globals`. We recommend you start setting `weights_only=True` for any use case where you don't have full control of the loaded file. Please open an issue on GitHub for any issues related to this experimental feature.\n",
      "\n"
     ]
    },
    {
     "name": "stdout",
     "output_type": "stream",
     "text": [
      "total 0.9752475247524752\n",
      "class 0 0.8888888888888888\n",
      "class 1 0.9885714285714285\n",
      "Train t-SNE interactive HTML saved to variant_lenet_low_test_accuracy_combined_train.html\n",
      "Test t-SNE interactive HTML saved to variant_lenet_low_test_accuracy_combined_test.html\n",
      "                            0\n",
      "Accuracy               0.9752\n",
      "Recall       [0.8889, 0.9886]\n",
      "Specificity  [0.9886, 0.8889]\n",
      "Precision     [0.9231, 0.983]\n",
      "F1 Score     [0.9057, 0.9858]\n",
      "8\n"
     ]
    },
    {
     "name": "stderr",
     "output_type": "stream",
     "text": [
      "  0%|          | 0/300 [00:00<?, ?it/s]"
     ]
    },
    {
     "name": "stdout",
     "output_type": "stream",
     "text": [
      "\n",
      "epoch 1: train average loss: 32.570 | acc: 63.52% (1156/1820)\n",
      "\n",
      "epoch 1: test average loss: 28.211 | acc: 86.63% (175/202)\n",
      "best test acc found\n"
     ]
    },
    {
     "name": "stderr",
     "output_type": "stream",
     "text": [
      "  0%|          | 1/300 [00:00<02:13,  2.24it/s]"
     ]
    },
    {
     "name": "stdout",
     "output_type": "stream",
     "text": [
      "\n",
      "epoch 2: train average loss: 26.759 | acc: 68.74% (1251/1820)\n"
     ]
    },
    {
     "name": "stderr",
     "output_type": "stream",
     "text": [
      "  1%|          | 2/300 [00:00<02:03,  2.42it/s]"
     ]
    },
    {
     "name": "stdout",
     "output_type": "stream",
     "text": [
      "\n",
      "epoch 2: test average loss: 24.688 | acc: 86.63% (175/202)\n",
      "EarlyStopping counter: 1/25 (best: 0.8663)\n",
      "\n",
      "epoch 3: train average loss: 24.612 | acc: 71.32% (1298/1820)\n"
     ]
    },
    {
     "name": "stderr",
     "output_type": "stream",
     "text": [
      "  1%|          | 3/300 [00:01<02:00,  2.46it/s]"
     ]
    },
    {
     "name": "stdout",
     "output_type": "stream",
     "text": [
      "\n",
      "epoch 3: test average loss: 22.422 | acc: 86.63% (175/202)\n",
      "EarlyStopping counter: 2/25 (best: 0.8663)\n",
      "\n",
      "epoch 4: train average loss: 21.341 | acc: 74.84% (1362/1820)\n"
     ]
    },
    {
     "name": "stderr",
     "output_type": "stream",
     "text": [
      "  1%|▏         | 4/300 [00:01<01:56,  2.54it/s]"
     ]
    },
    {
     "name": "stdout",
     "output_type": "stream",
     "text": [
      "\n",
      "epoch 4: test average loss: 21.766 | acc: 86.63% (175/202)\n",
      "EarlyStopping counter: 3/25 (best: 0.8663)\n",
      "\n",
      "epoch 5: train average loss: 19.699 | acc: 77.75% (1415/1820)\n"
     ]
    },
    {
     "name": "stderr",
     "output_type": "stream",
     "text": [
      "  2%|▏         | 5/300 [00:01<01:54,  2.57it/s]"
     ]
    },
    {
     "name": "stdout",
     "output_type": "stream",
     "text": [
      "\n",
      "epoch 5: test average loss: 22.308 | acc: 86.63% (175/202)\n",
      "EarlyStopping counter: 4/25 (best: 0.8663)\n",
      "\n",
      "epoch 6: train average loss: 18.115 | acc: 79.78% (1452/1820)\n"
     ]
    },
    {
     "name": "stderr",
     "output_type": "stream",
     "text": [
      "  2%|▏         | 6/300 [00:02<01:53,  2.59it/s]"
     ]
    },
    {
     "name": "stdout",
     "output_type": "stream",
     "text": [
      "\n",
      "epoch 6: test average loss: 22.332 | acc: 86.63% (175/202)\n",
      "EarlyStopping counter: 5/25 (best: 0.8663)\n",
      "\n",
      "epoch 7: train average loss: 17.620 | acc: 83.41% (1518/1820)\n"
     ]
    },
    {
     "name": "stderr",
     "output_type": "stream",
     "text": [
      "  2%|▏         | 7/300 [00:02<01:52,  2.60it/s]"
     ]
    },
    {
     "name": "stdout",
     "output_type": "stream",
     "text": [
      "\n",
      "epoch 7: test average loss: 21.878 | acc: 86.63% (175/202)\n",
      "EarlyStopping counter: 6/25 (best: 0.8663)\n",
      "\n",
      "epoch 8: train average loss: 16.263 | acc: 83.41% (1518/1820)\n"
     ]
    },
    {
     "name": "stderr",
     "output_type": "stream",
     "text": [
      "  3%|▎         | 8/300 [00:03<01:53,  2.56it/s]"
     ]
    },
    {
     "name": "stdout",
     "output_type": "stream",
     "text": [
      "\n",
      "epoch 8: test average loss: 21.723 | acc: 86.63% (175/202)\n",
      "EarlyStopping counter: 7/25 (best: 0.8663)\n",
      "\n",
      "epoch 9: train average loss: 16.778 | acc: 83.02% (1511/1820)\n"
     ]
    },
    {
     "name": "stderr",
     "output_type": "stream",
     "text": [
      "  3%|▎         | 9/300 [00:03<01:54,  2.55it/s]"
     ]
    },
    {
     "name": "stdout",
     "output_type": "stream",
     "text": [
      "\n",
      "epoch 9: test average loss: 21.748 | acc: 92.57% (187/202)\n",
      "best test acc found\n",
      "\n",
      "epoch 10: train average loss: 16.214 | acc: 84.78% (1543/1820)\n"
     ]
    },
    {
     "name": "stderr",
     "output_type": "stream",
     "text": [
      "  3%|▎         | 10/300 [00:03<01:53,  2.55it/s]"
     ]
    },
    {
     "name": "stdout",
     "output_type": "stream",
     "text": [
      "\n",
      "epoch 10: test average loss: 21.532 | acc: 94.06% (190/202)\n",
      "best test acc found\n",
      "\n",
      "epoch 11: train average loss: 15.296 | acc: 84.84% (1544/1820)\n"
     ]
    },
    {
     "name": "stderr",
     "output_type": "stream",
     "text": [
      "  4%|▎         | 11/300 [00:04<01:57,  2.46it/s]"
     ]
    },
    {
     "name": "stdout",
     "output_type": "stream",
     "text": [
      "\n",
      "epoch 11: test average loss: 21.306 | acc: 97.52% (197/202)\n",
      "best test acc found\n",
      "\n",
      "epoch 12: train average loss: 13.614 | acc: 87.03% (1584/1820)\n"
     ]
    },
    {
     "name": "stderr",
     "output_type": "stream",
     "text": [
      "  4%|▍         | 12/300 [00:04<01:55,  2.48it/s]"
     ]
    },
    {
     "name": "stdout",
     "output_type": "stream",
     "text": [
      "\n",
      "epoch 12: test average loss: 21.155 | acc: 93.07% (188/202)\n",
      "EarlyStopping counter: 1/25 (best: 0.9752)\n",
      "\n",
      "epoch 13: train average loss: 14.523 | acc: 88.96% (1619/1820)\n"
     ]
    },
    {
     "name": "stderr",
     "output_type": "stream",
     "text": [
      "  4%|▍         | 13/300 [00:05<01:53,  2.52it/s]"
     ]
    },
    {
     "name": "stdout",
     "output_type": "stream",
     "text": [
      "\n",
      "epoch 13: test average loss: 25.093 | acc: 68.81% (139/202)\n",
      "EarlyStopping counter: 2/25 (best: 0.9752)\n",
      "\n",
      "epoch 14: train average loss: 14.063 | acc: 85.99% (1565/1820)\n"
     ]
    },
    {
     "name": "stderr",
     "output_type": "stream",
     "text": [
      "  5%|▍         | 14/300 [00:05<01:51,  2.56it/s]"
     ]
    },
    {
     "name": "stdout",
     "output_type": "stream",
     "text": [
      "\n",
      "epoch 14: test average loss: 21.458 | acc: 96.53% (195/202)\n",
      "EarlyStopping counter: 3/25 (best: 0.9752)\n",
      "\n",
      "epoch 15: train average loss: 13.224 | acc: 88.90% (1618/1820)\n"
     ]
    },
    {
     "name": "stderr",
     "output_type": "stream",
     "text": [
      "  5%|▌         | 15/300 [00:05<01:49,  2.61it/s]"
     ]
    },
    {
     "name": "stdout",
     "output_type": "stream",
     "text": [
      "\n",
      "epoch 15: test average loss: 31.078 | acc: 60.89% (123/202)\n",
      "EarlyStopping counter: 4/25 (best: 0.9752)\n",
      "\n",
      "epoch 16: train average loss: 12.484 | acc: 88.19% (1605/1820)\n"
     ]
    },
    {
     "name": "stderr",
     "output_type": "stream",
     "text": [
      "  5%|▌         | 16/300 [00:06<01:46,  2.66it/s]"
     ]
    },
    {
     "name": "stdout",
     "output_type": "stream",
     "text": [
      "\n",
      "epoch 16: test average loss: 20.997 | acc: 95.54% (193/202)\n",
      "EarlyStopping counter: 5/25 (best: 0.9752)\n",
      "\n",
      "epoch 17: train average loss: 12.176 | acc: 91.15% (1659/1820)\n"
     ]
    },
    {
     "name": "stderr",
     "output_type": "stream",
     "text": [
      "  6%|▌         | 17/300 [00:06<01:45,  2.69it/s]"
     ]
    },
    {
     "name": "stdout",
     "output_type": "stream",
     "text": [
      "\n",
      "epoch 17: test average loss: 44.651 | acc: 36.14% (73/202)\n",
      "EarlyStopping counter: 6/25 (best: 0.9752)\n",
      "\n",
      "epoch 18: train average loss: 11.434 | acc: 92.03% (1675/1820)\n"
     ]
    },
    {
     "name": "stderr",
     "output_type": "stream",
     "text": [
      "  6%|▌         | 18/300 [00:06<01:44,  2.70it/s]"
     ]
    },
    {
     "name": "stdout",
     "output_type": "stream",
     "text": [
      "\n",
      "epoch 18: test average loss: 21.424 | acc: 96.04% (194/202)\n",
      "EarlyStopping counter: 7/25 (best: 0.9752)\n",
      "\n",
      "epoch 19: train average loss: 10.637 | acc: 90.82% (1653/1820)\n"
     ]
    },
    {
     "name": "stderr",
     "output_type": "stream",
     "text": [
      "  6%|▋         | 19/300 [00:07<01:42,  2.73it/s]"
     ]
    },
    {
     "name": "stdout",
     "output_type": "stream",
     "text": [
      "\n",
      "epoch 19: test average loss: 23.622 | acc: 90.59% (183/202)\n",
      "EarlyStopping counter: 8/25 (best: 0.9752)\n",
      "\n",
      "epoch 20: train average loss: 10.267 | acc: 92.47% (1683/1820)\n"
     ]
    },
    {
     "name": "stderr",
     "output_type": "stream",
     "text": [
      "  7%|▋         | 20/300 [00:07<01:42,  2.74it/s]"
     ]
    },
    {
     "name": "stdout",
     "output_type": "stream",
     "text": [
      "\n",
      "epoch 20: test average loss: 21.596 | acc: 97.52% (197/202)\n",
      "EarlyStopping counter: 9/25 (best: 0.9752)\n",
      "\n",
      "epoch 21: train average loss: 8.229 | acc: 91.76% (1670/1820)\n"
     ]
    },
    {
     "name": "stderr",
     "output_type": "stream",
     "text": [
      "  7%|▋         | 21/300 [00:08<01:41,  2.75it/s]"
     ]
    },
    {
     "name": "stdout",
     "output_type": "stream",
     "text": [
      "\n",
      "epoch 21: test average loss: 24.947 | acc: 77.23% (156/202)\n",
      "EarlyStopping counter: 10/25 (best: 0.9752)\n",
      "\n",
      "epoch 22: train average loss: 7.542 | acc: 93.02% (1693/1820)\n"
     ]
    },
    {
     "name": "stderr",
     "output_type": "stream",
     "text": [
      "  7%|▋         | 22/300 [00:08<01:41,  2.75it/s]"
     ]
    },
    {
     "name": "stdout",
     "output_type": "stream",
     "text": [
      "\n",
      "epoch 22: test average loss: 22.566 | acc: 80.69% (163/202)\n",
      "EarlyStopping counter: 11/25 (best: 0.9752)\n",
      "\n",
      "epoch 23: train average loss: 6.501 | acc: 93.57% (1703/1820)\n"
     ]
    },
    {
     "name": "stderr",
     "output_type": "stream",
     "text": [
      "  8%|▊         | 23/300 [00:08<01:40,  2.74it/s]"
     ]
    },
    {
     "name": "stdout",
     "output_type": "stream",
     "text": [
      "\n",
      "epoch 23: test average loss: 27.676 | acc: 79.21% (160/202)\n",
      "EarlyStopping counter: 12/25 (best: 0.9752)\n",
      "\n",
      "epoch 24: train average loss: 6.315 | acc: 94.89% (1727/1820)\n"
     ]
    },
    {
     "name": "stderr",
     "output_type": "stream",
     "text": [
      "  8%|▊         | 24/300 [00:09<01:41,  2.71it/s]"
     ]
    },
    {
     "name": "stdout",
     "output_type": "stream",
     "text": [
      "\n",
      "epoch 24: test average loss: 26.470 | acc: 82.18% (166/202)\n",
      "EarlyStopping counter: 13/25 (best: 0.9752)\n",
      "\n",
      "epoch 25: train average loss: 5.055 | acc: 93.35% (1699/1820)\n"
     ]
    },
    {
     "name": "stderr",
     "output_type": "stream",
     "text": [
      "  8%|▊         | 25/300 [00:09<01:41,  2.70it/s]"
     ]
    },
    {
     "name": "stdout",
     "output_type": "stream",
     "text": [
      "\n",
      "epoch 25: test average loss: 21.011 | acc: 98.51% (199/202)\n",
      "best test acc found\n",
      "\n",
      "epoch 26: train average loss: 5.761 | acc: 93.24% (1697/1820)\n"
     ]
    },
    {
     "name": "stderr",
     "output_type": "stream",
     "text": [
      "  9%|▊         | 26/300 [00:09<01:42,  2.67it/s]"
     ]
    },
    {
     "name": "stdout",
     "output_type": "stream",
     "text": [
      "\n",
      "epoch 26: test average loss: 36.244 | acc: 84.65% (171/202)\n",
      "EarlyStopping counter: 1/25 (best: 0.9851)\n",
      "\n",
      "epoch 27: train average loss: 6.649 | acc: 93.08% (1694/1820)\n"
     ]
    },
    {
     "name": "stderr",
     "output_type": "stream",
     "text": [
      "  9%|▉         | 27/300 [00:10<01:52,  2.44it/s]"
     ]
    },
    {
     "name": "stdout",
     "output_type": "stream",
     "text": [
      "\n",
      "epoch 27: test average loss: 21.247 | acc: 97.03% (196/202)\n",
      "EarlyStopping counter: 2/25 (best: 0.9851)\n",
      "\n",
      "epoch 28: train average loss: 5.550 | acc: 93.46% (1701/1820)\n"
     ]
    },
    {
     "name": "stderr",
     "output_type": "stream",
     "text": [
      "  9%|▉         | 28/300 [00:10<01:55,  2.35it/s]"
     ]
    },
    {
     "name": "stdout",
     "output_type": "stream",
     "text": [
      "\n",
      "epoch 28: test average loss: 29.095 | acc: 80.69% (163/202)\n",
      "EarlyStopping counter: 3/25 (best: 0.9851)\n",
      "\n",
      "epoch 29: train average loss: 3.965 | acc: 94.12% (1713/1820)\n"
     ]
    },
    {
     "name": "stderr",
     "output_type": "stream",
     "text": [
      " 10%|▉         | 29/300 [00:11<01:55,  2.35it/s]"
     ]
    },
    {
     "name": "stdout",
     "output_type": "stream",
     "text": [
      "\n",
      "epoch 29: test average loss: 20.533 | acc: 98.51% (199/202)\n",
      "EarlyStopping counter: 4/25 (best: 0.9851)\n",
      "\n",
      "epoch 30: train average loss: 3.159 | acc: 94.95% (1728/1820)\n"
     ]
    },
    {
     "name": "stderr",
     "output_type": "stream",
     "text": [
      " 10%|█         | 30/300 [00:11<01:51,  2.43it/s]"
     ]
    },
    {
     "name": "stdout",
     "output_type": "stream",
     "text": [
      "\n",
      "epoch 30: test average loss: 20.496 | acc: 96.53% (195/202)\n",
      "EarlyStopping counter: 5/25 (best: 0.9851)\n",
      "\n",
      "epoch 31: train average loss: 3.499 | acc: 94.95% (1728/1820)\n"
     ]
    },
    {
     "name": "stderr",
     "output_type": "stream",
     "text": [
      " 10%|█         | 31/300 [00:12<01:48,  2.49it/s]"
     ]
    },
    {
     "name": "stdout",
     "output_type": "stream",
     "text": [
      "\n",
      "epoch 31: test average loss: 32.605 | acc: 82.67% (167/202)\n",
      "EarlyStopping counter: 6/25 (best: 0.9851)\n",
      "\n",
      "epoch 32: train average loss: 2.393 | acc: 95.00% (1729/1820)\n"
     ]
    },
    {
     "name": "stderr",
     "output_type": "stream",
     "text": [
      " 11%|█         | 32/300 [00:12<01:46,  2.52it/s]"
     ]
    },
    {
     "name": "stdout",
     "output_type": "stream",
     "text": [
      "\n",
      "epoch 32: test average loss: 21.720 | acc: 88.61% (179/202)\n",
      "EarlyStopping counter: 7/25 (best: 0.9851)\n",
      "\n",
      "epoch 33: train average loss: 1.948 | acc: 95.16% (1732/1820)\n"
     ]
    },
    {
     "name": "stderr",
     "output_type": "stream",
     "text": [
      " 11%|█         | 33/300 [00:12<01:44,  2.56it/s]"
     ]
    },
    {
     "name": "stdout",
     "output_type": "stream",
     "text": [
      "\n",
      "epoch 33: test average loss: 20.832 | acc: 91.58% (185/202)\n",
      "EarlyStopping counter: 8/25 (best: 0.9851)\n",
      "\n",
      "epoch 34: train average loss: 1.806 | acc: 95.55% (1739/1820)\n"
     ]
    },
    {
     "name": "stderr",
     "output_type": "stream",
     "text": [
      " 11%|█▏        | 34/300 [00:13<01:42,  2.59it/s]"
     ]
    },
    {
     "name": "stdout",
     "output_type": "stream",
     "text": [
      "\n",
      "epoch 34: test average loss: 20.963 | acc: 91.58% (185/202)\n",
      "EarlyStopping counter: 9/25 (best: 0.9851)\n",
      "\n",
      "epoch 35: train average loss: 1.797 | acc: 96.54% (1757/1820)\n"
     ]
    },
    {
     "name": "stderr",
     "output_type": "stream",
     "text": [
      " 12%|█▏        | 35/300 [00:13<01:42,  2.59it/s]"
     ]
    },
    {
     "name": "stdout",
     "output_type": "stream",
     "text": [
      "\n",
      "epoch 35: test average loss: 20.985 | acc: 94.06% (190/202)\n",
      "EarlyStopping counter: 10/25 (best: 0.9851)\n",
      "\n",
      "epoch 36: train average loss: 1.736 | acc: 96.21% (1751/1820)\n"
     ]
    },
    {
     "name": "stderr",
     "output_type": "stream",
     "text": [
      " 12%|█▏        | 36/300 [00:13<01:41,  2.61it/s]"
     ]
    },
    {
     "name": "stdout",
     "output_type": "stream",
     "text": [
      "\n",
      "epoch 36: test average loss: 20.929 | acc: 93.07% (188/202)\n",
      "EarlyStopping counter: 11/25 (best: 0.9851)\n",
      "\n",
      "epoch 37: train average loss: 1.712 | acc: 96.59% (1758/1820)\n"
     ]
    },
    {
     "name": "stderr",
     "output_type": "stream",
     "text": [
      " 12%|█▏        | 37/300 [00:14<01:40,  2.62it/s]"
     ]
    },
    {
     "name": "stdout",
     "output_type": "stream",
     "text": [
      "\n",
      "epoch 37: test average loss: 20.974 | acc: 93.07% (188/202)\n",
      "EarlyStopping counter: 12/25 (best: 0.9851)\n",
      "\n",
      "epoch 38: train average loss: 1.865 | acc: 95.22% (1733/1820)\n"
     ]
    },
    {
     "name": "stderr",
     "output_type": "stream",
     "text": [
      " 13%|█▎        | 38/300 [00:14<01:40,  2.62it/s]"
     ]
    },
    {
     "name": "stdout",
     "output_type": "stream",
     "text": [
      "\n",
      "epoch 38: test average loss: 21.988 | acc: 91.09% (184/202)\n",
      "EarlyStopping counter: 13/25 (best: 0.9851)\n",
      "\n",
      "epoch 39: train average loss: 1.717 | acc: 96.65% (1759/1820)\n"
     ]
    },
    {
     "name": "stderr",
     "output_type": "stream",
     "text": [
      " 13%|█▎        | 39/300 [00:15<01:39,  2.62it/s]"
     ]
    },
    {
     "name": "stdout",
     "output_type": "stream",
     "text": [
      "\n",
      "epoch 39: test average loss: 22.958 | acc: 90.59% (183/202)\n",
      "EarlyStopping counter: 14/25 (best: 0.9851)\n",
      "\n",
      "epoch 40: train average loss: 1.724 | acc: 96.70% (1760/1820)\n"
     ]
    },
    {
     "name": "stderr",
     "output_type": "stream",
     "text": [
      " 13%|█▎        | 40/300 [00:15<01:39,  2.60it/s]"
     ]
    },
    {
     "name": "stdout",
     "output_type": "stream",
     "text": [
      "\n",
      "epoch 40: test average loss: 23.407 | acc: 90.10% (182/202)\n",
      "EarlyStopping counter: 15/25 (best: 0.9851)\n",
      "\n",
      "epoch 41: train average loss: 1.668 | acc: 96.81% (1762/1820)\n"
     ]
    },
    {
     "name": "stderr",
     "output_type": "stream",
     "text": [
      " 14%|█▎        | 41/300 [00:15<01:39,  2.61it/s]"
     ]
    },
    {
     "name": "stdout",
     "output_type": "stream",
     "text": [
      "\n",
      "epoch 41: test average loss: 21.472 | acc: 92.57% (187/202)\n",
      "EarlyStopping counter: 16/25 (best: 0.9851)\n",
      "\n",
      "epoch 42: train average loss: 1.774 | acc: 96.59% (1758/1820)\n"
     ]
    },
    {
     "name": "stderr",
     "output_type": "stream",
     "text": [
      " 14%|█▍        | 42/300 [00:16<01:37,  2.63it/s]"
     ]
    },
    {
     "name": "stdout",
     "output_type": "stream",
     "text": [
      "\n",
      "epoch 42: test average loss: 21.492 | acc: 93.07% (188/202)\n",
      "EarlyStopping counter: 17/25 (best: 0.9851)\n",
      "\n",
      "epoch 43: train average loss: 1.733 | acc: 96.54% (1757/1820)\n"
     ]
    },
    {
     "name": "stderr",
     "output_type": "stream",
     "text": [
      " 14%|█▍        | 43/300 [00:16<01:37,  2.64it/s]"
     ]
    },
    {
     "name": "stdout",
     "output_type": "stream",
     "text": [
      "\n",
      "epoch 43: test average loss: 25.551 | acc: 90.10% (182/202)\n",
      "EarlyStopping counter: 18/25 (best: 0.9851)\n",
      "\n",
      "epoch 44: train average loss: 1.743 | acc: 96.15% (1750/1820)\n"
     ]
    },
    {
     "name": "stderr",
     "output_type": "stream",
     "text": [
      " 15%|█▍        | 44/300 [00:17<01:35,  2.67it/s]"
     ]
    },
    {
     "name": "stdout",
     "output_type": "stream",
     "text": [
      "\n",
      "epoch 44: test average loss: 24.102 | acc: 91.58% (185/202)\n",
      "EarlyStopping counter: 19/25 (best: 0.9851)\n",
      "\n",
      "epoch 45: train average loss: 1.675 | acc: 95.55% (1739/1820)\n"
     ]
    },
    {
     "name": "stderr",
     "output_type": "stream",
     "text": [
      " 15%|█▌        | 45/300 [00:17<01:34,  2.69it/s]"
     ]
    },
    {
     "name": "stdout",
     "output_type": "stream",
     "text": [
      "\n",
      "epoch 45: test average loss: 28.230 | acc: 90.59% (183/202)\n",
      "EarlyStopping counter: 20/25 (best: 0.9851)\n",
      "\n",
      "epoch 46: train average loss: 1.716 | acc: 95.82% (1744/1820)\n"
     ]
    },
    {
     "name": "stderr",
     "output_type": "stream",
     "text": [
      " 15%|█▌        | 46/300 [00:17<01:33,  2.71it/s]"
     ]
    },
    {
     "name": "stdout",
     "output_type": "stream",
     "text": [
      "\n",
      "epoch 46: test average loss: 26.272 | acc: 92.57% (187/202)\n",
      "EarlyStopping counter: 21/25 (best: 0.9851)\n",
      "\n",
      "epoch 47: train average loss: 1.673 | acc: 96.81% (1762/1820)\n"
     ]
    },
    {
     "name": "stderr",
     "output_type": "stream",
     "text": [
      " 16%|█▌        | 47/300 [00:18<01:33,  2.71it/s]"
     ]
    },
    {
     "name": "stdout",
     "output_type": "stream",
     "text": [
      "\n",
      "epoch 47: test average loss: 24.877 | acc: 93.56% (189/202)\n",
      "EarlyStopping counter: 22/25 (best: 0.9851)\n",
      "\n",
      "epoch 48: train average loss: 1.676 | acc: 97.20% (1769/1820)\n"
     ]
    },
    {
     "name": "stderr",
     "output_type": "stream",
     "text": [
      " 16%|█▌        | 48/300 [00:18<01:32,  2.72it/s]"
     ]
    },
    {
     "name": "stdout",
     "output_type": "stream",
     "text": [
      "\n",
      "epoch 48: test average loss: 25.182 | acc: 93.56% (189/202)\n",
      "EarlyStopping counter: 23/25 (best: 0.9851)\n",
      "\n",
      "epoch 49: train average loss: 1.661 | acc: 96.65% (1759/1820)\n"
     ]
    },
    {
     "name": "stderr",
     "output_type": "stream",
     "text": [
      " 16%|█▋        | 49/300 [00:18<01:31,  2.75it/s]"
     ]
    },
    {
     "name": "stdout",
     "output_type": "stream",
     "text": [
      "\n",
      "epoch 49: test average loss: 25.228 | acc: 93.56% (189/202)\n",
      "EarlyStopping counter: 24/25 (best: 0.9851)\n",
      "\n",
      "epoch 50: train average loss: 1.660 | acc: 97.03% (1766/1820)\n"
     ]
    },
    {
     "name": "stderr",
     "output_type": "stream",
     "text": [
      " 16%|█▋        | 49/300 [00:19<01:38,  2.55it/s]"
     ]
    },
    {
     "name": "stdout",
     "output_type": "stream",
     "text": [
      "\n",
      "epoch 50: test average loss: 25.010 | acc: 92.57% (187/202)\n",
      "EarlyStopping counter: 25/25 (best: 0.9851)\n",
      "🔴 Early stopping triggered\n",
      "load model at epoch 25, with test acc : 0.985\n"
     ]
    },
    {
     "name": "stderr",
     "output_type": "stream",
     "text": [
      "\n",
      "/tmp/ipykernel_3337346/1054042983.py:175: FutureWarning:\n",
      "\n",
      "You are using `torch.load` with `weights_only=False` (the current default value), which uses the default pickle module implicitly. It is possible to construct malicious pickle data which will execute arbitrary code during unpickling (See https://github.com/pytorch/pytorch/blob/main/SECURITY.md#untrusted-models for more details). In a future release, the default value for `weights_only` will be flipped to `True`. This limits the functions that could be executed during unpickling. Arbitrary objects will no longer be allowed to be loaded via this mode unless they are explicitly allowlisted by the user via `torch.serialization.add_safe_globals`. We recommend you start setting `weights_only=True` for any use case where you don't have full control of the loaded file. Please open an issue on GitHub for any issues related to this experimental feature.\n",
      "\n"
     ]
    },
    {
     "name": "stdout",
     "output_type": "stream",
     "text": [
      "total 0.9851485148514851\n",
      "class 0 0.8888888888888888\n",
      "class 1 1.0\n",
      "                            0\n",
      "Accuracy               0.9851\n",
      "Recall          [0.8889, 1.0]\n",
      "Specificity     [1.0, 0.8889]\n",
      "Precision       [1.0, 0.9831]\n",
      "F1 Score     [0.9412, 0.9915]\n",
      "9\n"
     ]
    },
    {
     "name": "stderr",
     "output_type": "stream",
     "text": [
      "  0%|          | 0/300 [00:00<?, ?it/s]"
     ]
    },
    {
     "name": "stdout",
     "output_type": "stream",
     "text": [
      "\n",
      "epoch 1: train average loss: 33.309 | acc: 63.46% (1155/1820)\n"
     ]
    },
    {
     "name": "stderr",
     "output_type": "stream",
     "text": [
      "  0%|          | 1/300 [00:00<01:55,  2.59it/s]"
     ]
    },
    {
     "name": "stdout",
     "output_type": "stream",
     "text": [
      "\n",
      "epoch 1: test average loss: 28.220 | acc: 13.37% (27/202)\n",
      "best test acc found\n",
      "\n",
      "epoch 2: train average loss: 28.298 | acc: 68.63% (1249/1820)\n"
     ]
    },
    {
     "name": "stderr",
     "output_type": "stream",
     "text": [
      "  1%|          | 2/300 [00:00<01:59,  2.48it/s]"
     ]
    },
    {
     "name": "stdout",
     "output_type": "stream",
     "text": [
      "\n",
      "epoch 2: test average loss: 24.850 | acc: 86.63% (175/202)\n",
      "best test acc found\n",
      "\n",
      "epoch 3: train average loss: 24.567 | acc: 70.66% (1286/1820)\n"
     ]
    },
    {
     "name": "stderr",
     "output_type": "stream",
     "text": [
      "  1%|          | 3/300 [00:01<02:01,  2.45it/s]"
     ]
    },
    {
     "name": "stdout",
     "output_type": "stream",
     "text": [
      "\n",
      "epoch 3: test average loss: 22.145 | acc: 86.63% (175/202)\n",
      "EarlyStopping counter: 1/25 (best: 0.8663)\n",
      "\n",
      "epoch 4: train average loss: 21.939 | acc: 72.58% (1321/1820)\n"
     ]
    },
    {
     "name": "stderr",
     "output_type": "stream",
     "text": [
      "  1%|▏         | 4/300 [00:01<01:59,  2.48it/s]"
     ]
    },
    {
     "name": "stdout",
     "output_type": "stream",
     "text": [
      "\n",
      "epoch 4: test average loss: 21.863 | acc: 86.63% (175/202)\n",
      "EarlyStopping counter: 2/25 (best: 0.8663)\n",
      "\n",
      "epoch 5: train average loss: 20.039 | acc: 78.30% (1425/1820)\n"
     ]
    },
    {
     "name": "stderr",
     "output_type": "stream",
     "text": [
      "  2%|▏         | 5/300 [00:02<02:00,  2.46it/s]"
     ]
    },
    {
     "name": "stdout",
     "output_type": "stream",
     "text": [
      "\n",
      "epoch 5: test average loss: 22.360 | acc: 86.63% (175/202)\n",
      "EarlyStopping counter: 3/25 (best: 0.8663)\n",
      "\n",
      "epoch 6: train average loss: 19.147 | acc: 78.63% (1431/1820)\n"
     ]
    },
    {
     "name": "stderr",
     "output_type": "stream",
     "text": [
      "  2%|▏         | 6/300 [00:02<01:58,  2.47it/s]"
     ]
    },
    {
     "name": "stdout",
     "output_type": "stream",
     "text": [
      "\n",
      "epoch 6: test average loss: 22.183 | acc: 86.63% (175/202)\n",
      "EarlyStopping counter: 4/25 (best: 0.8663)\n",
      "\n",
      "epoch 7: train average loss: 17.689 | acc: 82.47% (1501/1820)\n"
     ]
    },
    {
     "name": "stderr",
     "output_type": "stream",
     "text": [
      "  2%|▏         | 7/300 [00:02<01:56,  2.51it/s]"
     ]
    },
    {
     "name": "stdout",
     "output_type": "stream",
     "text": [
      "\n",
      "epoch 7: test average loss: 21.731 | acc: 86.63% (175/202)\n",
      "EarlyStopping counter: 5/25 (best: 0.8663)\n",
      "\n",
      "epoch 8: train average loss: 16.352 | acc: 82.91% (1509/1820)\n"
     ]
    },
    {
     "name": "stderr",
     "output_type": "stream",
     "text": [
      "  3%|▎         | 8/300 [00:03<01:56,  2.51it/s]"
     ]
    },
    {
     "name": "stdout",
     "output_type": "stream",
     "text": [
      "\n",
      "epoch 8: test average loss: 21.845 | acc: 88.12% (178/202)\n",
      "best test acc found\n",
      "\n",
      "epoch 9: train average loss: 14.948 | acc: 85.05% (1548/1820)\n"
     ]
    },
    {
     "name": "stderr",
     "output_type": "stream",
     "text": [
      "  3%|▎         | 9/300 [00:03<01:55,  2.51it/s]"
     ]
    },
    {
     "name": "stdout",
     "output_type": "stream",
     "text": [
      "\n",
      "epoch 9: test average loss: 19.108 | acc: 76.73% (155/202)\n",
      "EarlyStopping counter: 1/25 (best: 0.8812)\n",
      "\n",
      "epoch 10: train average loss: 14.339 | acc: 85.77% (1561/1820)\n"
     ]
    },
    {
     "name": "stderr",
     "output_type": "stream",
     "text": [
      "  3%|▎         | 10/300 [00:04<01:55,  2.52it/s]"
     ]
    },
    {
     "name": "stdout",
     "output_type": "stream",
     "text": [
      "\n",
      "epoch 10: test average loss: 22.183 | acc: 93.56% (189/202)\n",
      "best test acc found\n",
      "\n",
      "epoch 11: train average loss: 14.368 | acc: 86.37% (1572/1820)\n"
     ]
    },
    {
     "name": "stderr",
     "output_type": "stream",
     "text": [
      "  4%|▎         | 11/300 [00:04<01:54,  2.52it/s]"
     ]
    },
    {
     "name": "stdout",
     "output_type": "stream",
     "text": [
      "\n",
      "epoch 11: test average loss: 21.380 | acc: 89.11% (180/202)\n",
      "EarlyStopping counter: 1/25 (best: 0.9356)\n",
      "\n",
      "epoch 12: train average loss: 14.436 | acc: 88.24% (1606/1820)\n"
     ]
    },
    {
     "name": "stderr",
     "output_type": "stream",
     "text": [
      "  4%|▍         | 12/300 [00:04<01:53,  2.53it/s]"
     ]
    },
    {
     "name": "stdout",
     "output_type": "stream",
     "text": [
      "\n",
      "epoch 12: test average loss: 17.513 | acc: 94.55% (191/202)\n",
      "best test acc found\n",
      "\n",
      "epoch 13: train average loss: 14.721 | acc: 86.98% (1583/1820)\n"
     ]
    },
    {
     "name": "stderr",
     "output_type": "stream",
     "text": [
      "  4%|▍         | 13/300 [00:05<01:52,  2.56it/s]"
     ]
    },
    {
     "name": "stdout",
     "output_type": "stream",
     "text": [
      "\n",
      "epoch 13: test average loss: 24.234 | acc: 48.02% (97/202)\n",
      "EarlyStopping counter: 1/25 (best: 0.9455)\n",
      "\n",
      "epoch 14: train average loss: 13.244 | acc: 87.64% (1595/1820)\n"
     ]
    },
    {
     "name": "stderr",
     "output_type": "stream",
     "text": [
      "  5%|▍         | 14/300 [00:05<01:52,  2.55it/s]"
     ]
    },
    {
     "name": "stdout",
     "output_type": "stream",
     "text": [
      "\n",
      "epoch 14: test average loss: 22.142 | acc: 96.04% (194/202)\n",
      "best test acc found\n",
      "\n",
      "epoch 15: train average loss: 13.253 | acc: 87.47% (1592/1820)\n"
     ]
    },
    {
     "name": "stderr",
     "output_type": "stream",
     "text": [
      "  5%|▌         | 15/300 [00:05<01:50,  2.58it/s]"
     ]
    },
    {
     "name": "stdout",
     "output_type": "stream",
     "text": [
      "\n",
      "epoch 15: test average loss: 24.661 | acc: 34.16% (69/202)\n",
      "EarlyStopping counter: 1/25 (best: 0.9604)\n",
      "\n",
      "epoch 16: train average loss: 13.744 | acc: 87.58% (1594/1820)\n"
     ]
    },
    {
     "name": "stderr",
     "output_type": "stream",
     "text": [
      "  5%|▌         | 16/300 [00:06<01:49,  2.59it/s]"
     ]
    },
    {
     "name": "stdout",
     "output_type": "stream",
     "text": [
      "\n",
      "epoch 16: test average loss: 22.499 | acc: 94.55% (191/202)\n",
      "EarlyStopping counter: 2/25 (best: 0.9604)\n",
      "\n",
      "epoch 17: train average loss: 12.176 | acc: 90.33% (1644/1820)\n"
     ]
    },
    {
     "name": "stderr",
     "output_type": "stream",
     "text": [
      "  6%|▌         | 17/300 [00:06<01:48,  2.61it/s]"
     ]
    },
    {
     "name": "stdout",
     "output_type": "stream",
     "text": [
      "\n",
      "epoch 17: test average loss: 14.733 | acc: 88.12% (178/202)\n",
      "EarlyStopping counter: 3/25 (best: 0.9604)\n",
      "\n",
      "epoch 18: train average loss: 11.429 | acc: 90.22% (1642/1820)\n"
     ]
    },
    {
     "name": "stderr",
     "output_type": "stream",
     "text": [
      "  6%|▌         | 18/300 [00:07<01:46,  2.64it/s]"
     ]
    },
    {
     "name": "stdout",
     "output_type": "stream",
     "text": [
      "\n",
      "epoch 18: test average loss: 21.507 | acc: 97.52% (197/202)\n",
      "best test acc found\n",
      "\n",
      "epoch 19: train average loss: 10.615 | acc: 91.37% (1663/1820)\n"
     ]
    },
    {
     "name": "stderr",
     "output_type": "stream",
     "text": [
      "  6%|▋         | 19/300 [00:07<01:45,  2.65it/s]"
     ]
    },
    {
     "name": "stdout",
     "output_type": "stream",
     "text": [
      "\n",
      "epoch 19: test average loss: 16.671 | acc: 83.66% (169/202)\n",
      "EarlyStopping counter: 1/25 (best: 0.9752)\n",
      "\n",
      "epoch 20: train average loss: 9.026 | acc: 91.81% (1671/1820)\n"
     ]
    },
    {
     "name": "stderr",
     "output_type": "stream",
     "text": [
      "  7%|▋         | 20/300 [00:07<01:44,  2.67it/s]"
     ]
    },
    {
     "name": "stdout",
     "output_type": "stream",
     "text": [
      "\n",
      "epoch 20: test average loss: 18.865 | acc: 96.04% (194/202)\n",
      "EarlyStopping counter: 2/25 (best: 0.9752)\n",
      "\n",
      "epoch 21: train average loss: 7.916 | acc: 92.42% (1682/1820)\n"
     ]
    },
    {
     "name": "stderr",
     "output_type": "stream",
     "text": [
      "  7%|▋         | 21/300 [00:08<01:43,  2.68it/s]"
     ]
    },
    {
     "name": "stdout",
     "output_type": "stream",
     "text": [
      "\n",
      "epoch 21: test average loss: 17.960 | acc: 94.06% (190/202)\n",
      "EarlyStopping counter: 3/25 (best: 0.9752)\n",
      "\n",
      "epoch 22: train average loss: 6.006 | acc: 92.53% (1684/1820)\n"
     ]
    },
    {
     "name": "stderr",
     "output_type": "stream",
     "text": [
      "  7%|▋         | 22/300 [00:08<01:43,  2.69it/s]"
     ]
    },
    {
     "name": "stdout",
     "output_type": "stream",
     "text": [
      "\n",
      "epoch 22: test average loss: 20.430 | acc: 74.26% (150/202)\n",
      "EarlyStopping counter: 4/25 (best: 0.9752)\n",
      "\n",
      "epoch 23: train average loss: 5.725 | acc: 91.70% (1669/1820)\n"
     ]
    },
    {
     "name": "stderr",
     "output_type": "stream",
     "text": [
      "  8%|▊         | 23/300 [00:08<01:42,  2.71it/s]"
     ]
    },
    {
     "name": "stdout",
     "output_type": "stream",
     "text": [
      "\n",
      "epoch 23: test average loss: 30.125 | acc: 81.19% (164/202)\n",
      "EarlyStopping counter: 5/25 (best: 0.9752)\n",
      "\n",
      "epoch 24: train average loss: 5.834 | acc: 92.86% (1690/1820)\n"
     ]
    },
    {
     "name": "stderr",
     "output_type": "stream",
     "text": [
      "  8%|▊         | 24/300 [00:09<01:41,  2.72it/s]"
     ]
    },
    {
     "name": "stdout",
     "output_type": "stream",
     "text": [
      "\n",
      "epoch 24: test average loss: 25.142 | acc: 80.20% (162/202)\n",
      "EarlyStopping counter: 6/25 (best: 0.9752)\n",
      "\n",
      "epoch 25: train average loss: 4.774 | acc: 94.01% (1711/1820)\n"
     ]
    },
    {
     "name": "stderr",
     "output_type": "stream",
     "text": [
      "  8%|▊         | 25/300 [00:09<01:40,  2.73it/s]"
     ]
    },
    {
     "name": "stdout",
     "output_type": "stream",
     "text": [
      "\n",
      "epoch 25: test average loss: 21.221 | acc: 80.20% (162/202)\n",
      "EarlyStopping counter: 7/25 (best: 0.9752)\n",
      "\n",
      "epoch 26: train average loss: 4.944 | acc: 94.12% (1713/1820)\n"
     ]
    },
    {
     "name": "stderr",
     "output_type": "stream",
     "text": [
      "  9%|▊         | 26/300 [00:09<01:39,  2.74it/s]"
     ]
    },
    {
     "name": "stdout",
     "output_type": "stream",
     "text": [
      "\n",
      "epoch 26: test average loss: 29.751 | acc: 61.88% (125/202)\n",
      "EarlyStopping counter: 8/25 (best: 0.9752)\n",
      "\n",
      "epoch 27: train average loss: 3.414 | acc: 95.00% (1729/1820)\n"
     ]
    },
    {
     "name": "stderr",
     "output_type": "stream",
     "text": [
      "  9%|▉         | 27/300 [00:10<01:39,  2.75it/s]"
     ]
    },
    {
     "name": "stdout",
     "output_type": "stream",
     "text": [
      "\n",
      "epoch 27: test average loss: 24.454 | acc: 95.05% (192/202)\n",
      "EarlyStopping counter: 9/25 (best: 0.9752)\n",
      "\n",
      "epoch 28: train average loss: 3.835 | acc: 93.96% (1710/1820)\n"
     ]
    },
    {
     "name": "stderr",
     "output_type": "stream",
     "text": [
      "  9%|▉         | 28/300 [00:10<01:39,  2.73it/s]"
     ]
    },
    {
     "name": "stdout",
     "output_type": "stream",
     "text": [
      "\n",
      "epoch 28: test average loss: 22.195 | acc: 93.56% (189/202)\n",
      "EarlyStopping counter: 10/25 (best: 0.9752)\n",
      "\n",
      "epoch 29: train average loss: 2.319 | acc: 94.01% (1711/1820)\n"
     ]
    },
    {
     "name": "stderr",
     "output_type": "stream",
     "text": [
      " 10%|▉         | 29/300 [00:11<01:42,  2.64it/s]"
     ]
    },
    {
     "name": "stdout",
     "output_type": "stream",
     "text": [
      "\n",
      "epoch 29: test average loss: 16.357 | acc: 98.02% (198/202)\n",
      "best test acc found\n",
      "\n",
      "epoch 30: train average loss: 2.565 | acc: 94.40% (1718/1820)\n"
     ]
    },
    {
     "name": "stderr",
     "output_type": "stream",
     "text": [
      " 10%|█         | 30/300 [00:11<01:44,  2.59it/s]"
     ]
    },
    {
     "name": "stdout",
     "output_type": "stream",
     "text": [
      "\n",
      "epoch 30: test average loss: 11.582 | acc: 93.56% (189/202)\n",
      "EarlyStopping counter: 1/25 (best: 0.9802)\n",
      "\n",
      "epoch 31: train average loss: 2.495 | acc: 94.89% (1727/1820)\n"
     ]
    },
    {
     "name": "stderr",
     "output_type": "stream",
     "text": [
      " 10%|█         | 31/300 [00:11<01:45,  2.56it/s]"
     ]
    },
    {
     "name": "stdout",
     "output_type": "stream",
     "text": [
      "\n",
      "epoch 31: test average loss: 11.944 | acc: 86.14% (174/202)\n",
      "EarlyStopping counter: 2/25 (best: 0.9802)\n",
      "\n",
      "epoch 32: train average loss: 2.191 | acc: 94.78% (1725/1820)\n"
     ]
    },
    {
     "name": "stderr",
     "output_type": "stream",
     "text": [
      " 11%|█         | 32/300 [00:12<01:45,  2.54it/s]"
     ]
    },
    {
     "name": "stdout",
     "output_type": "stream",
     "text": [
      "\n",
      "epoch 32: test average loss: 18.592 | acc: 98.02% (198/202)\n",
      "EarlyStopping counter: 3/25 (best: 0.9802)\n",
      "\n",
      "epoch 33: train average loss: 2.272 | acc: 95.22% (1733/1820)\n"
     ]
    },
    {
     "name": "stderr",
     "output_type": "stream",
     "text": [
      " 11%|█         | 33/300 [00:12<01:45,  2.54it/s]"
     ]
    },
    {
     "name": "stdout",
     "output_type": "stream",
     "text": [
      "\n",
      "epoch 33: test average loss: 18.247 | acc: 96.04% (194/202)\n",
      "EarlyStopping counter: 4/25 (best: 0.9802)\n",
      "\n",
      "epoch 34: train average loss: 1.922 | acc: 95.38% (1736/1820)\n"
     ]
    },
    {
     "name": "stderr",
     "output_type": "stream",
     "text": [
      " 11%|█▏        | 34/300 [00:13<01:43,  2.56it/s]"
     ]
    },
    {
     "name": "stdout",
     "output_type": "stream",
     "text": [
      "\n",
      "epoch 34: test average loss: 11.778 | acc: 95.05% (192/202)\n",
      "EarlyStopping counter: 5/25 (best: 0.9802)\n",
      "\n",
      "epoch 35: train average loss: 1.990 | acc: 94.84% (1726/1820)\n"
     ]
    },
    {
     "name": "stderr",
     "output_type": "stream",
     "text": [
      " 12%|█▏        | 35/300 [00:13<01:45,  2.51it/s]"
     ]
    },
    {
     "name": "stdout",
     "output_type": "stream",
     "text": [
      "\n",
      "epoch 35: test average loss: 12.437 | acc: 89.11% (180/202)\n",
      "EarlyStopping counter: 6/25 (best: 0.9802)\n",
      "\n",
      "epoch 36: train average loss: 1.732 | acc: 96.43% (1755/1820)\n"
     ]
    },
    {
     "name": "stderr",
     "output_type": "stream",
     "text": [
      " 12%|█▏        | 36/300 [00:13<01:44,  2.54it/s]"
     ]
    },
    {
     "name": "stdout",
     "output_type": "stream",
     "text": [
      "\n",
      "epoch 36: test average loss: 10.907 | acc: 88.61% (179/202)\n",
      "EarlyStopping counter: 7/25 (best: 0.9802)\n",
      "\n",
      "epoch 37: train average loss: 1.785 | acc: 95.22% (1733/1820)\n"
     ]
    },
    {
     "name": "stderr",
     "output_type": "stream",
     "text": [
      " 12%|█▏        | 37/300 [00:14<01:42,  2.56it/s]"
     ]
    },
    {
     "name": "stdout",
     "output_type": "stream",
     "text": [
      "\n",
      "epoch 37: test average loss: 7.006 | acc: 90.59% (183/202)\n",
      "EarlyStopping counter: 8/25 (best: 0.9802)\n",
      "\n",
      "epoch 38: train average loss: 1.732 | acc: 95.82% (1744/1820)\n"
     ]
    },
    {
     "name": "stderr",
     "output_type": "stream",
     "text": [
      " 13%|█▎        | 38/300 [00:14<01:41,  2.58it/s]"
     ]
    },
    {
     "name": "stdout",
     "output_type": "stream",
     "text": [
      "\n",
      "epoch 38: test average loss: 6.681 | acc: 93.56% (189/202)\n",
      "EarlyStopping counter: 9/25 (best: 0.9802)\n",
      "\n",
      "epoch 39: train average loss: 1.683 | acc: 96.04% (1748/1820)\n"
     ]
    },
    {
     "name": "stderr",
     "output_type": "stream",
     "text": [
      " 13%|█▎        | 39/300 [00:15<01:41,  2.57it/s]"
     ]
    },
    {
     "name": "stdout",
     "output_type": "stream",
     "text": [
      "\n",
      "epoch 39: test average loss: 6.603 | acc: 94.55% (191/202)\n",
      "EarlyStopping counter: 10/25 (best: 0.9802)\n",
      "\n",
      "epoch 40: train average loss: 1.704 | acc: 96.81% (1762/1820)\n"
     ]
    },
    {
     "name": "stderr",
     "output_type": "stream",
     "text": [
      " 13%|█▎        | 40/300 [00:15<01:42,  2.53it/s]"
     ]
    },
    {
     "name": "stdout",
     "output_type": "stream",
     "text": [
      "\n",
      "epoch 40: test average loss: 8.181 | acc: 91.58% (185/202)\n",
      "EarlyStopping counter: 11/25 (best: 0.9802)\n",
      "\n",
      "epoch 41: train average loss: 1.661 | acc: 96.37% (1754/1820)\n"
     ]
    },
    {
     "name": "stderr",
     "output_type": "stream",
     "text": [
      " 14%|█▎        | 41/300 [00:15<01:41,  2.55it/s]"
     ]
    },
    {
     "name": "stdout",
     "output_type": "stream",
     "text": [
      "\n",
      "epoch 41: test average loss: 8.677 | acc: 93.07% (188/202)\n",
      "EarlyStopping counter: 12/25 (best: 0.9802)\n",
      "\n",
      "epoch 42: train average loss: 1.662 | acc: 96.76% (1761/1820)\n"
     ]
    },
    {
     "name": "stderr",
     "output_type": "stream",
     "text": [
      " 14%|█▍        | 42/300 [00:16<01:40,  2.57it/s]"
     ]
    },
    {
     "name": "stdout",
     "output_type": "stream",
     "text": [
      "\n",
      "epoch 42: test average loss: 9.161 | acc: 93.56% (189/202)\n",
      "EarlyStopping counter: 13/25 (best: 0.9802)\n",
      "\n",
      "epoch 43: train average loss: 1.678 | acc: 96.48% (1756/1820)\n"
     ]
    },
    {
     "name": "stderr",
     "output_type": "stream",
     "text": [
      " 14%|█▍        | 43/300 [00:16<01:40,  2.56it/s]"
     ]
    },
    {
     "name": "stdout",
     "output_type": "stream",
     "text": [
      "\n",
      "epoch 43: test average loss: 8.677 | acc: 94.55% (191/202)\n",
      "EarlyStopping counter: 14/25 (best: 0.9802)\n",
      "\n",
      "epoch 44: train average loss: 1.654 | acc: 96.87% (1763/1820)\n"
     ]
    },
    {
     "name": "stderr",
     "output_type": "stream",
     "text": [
      " 15%|█▍        | 44/300 [00:17<01:39,  2.58it/s]"
     ]
    },
    {
     "name": "stdout",
     "output_type": "stream",
     "text": [
      "\n",
      "epoch 44: test average loss: 8.382 | acc: 94.55% (191/202)\n",
      "EarlyStopping counter: 15/25 (best: 0.9802)\n",
      "\n",
      "epoch 45: train average loss: 1.653 | acc: 97.14% (1768/1820)\n"
     ]
    },
    {
     "name": "stderr",
     "output_type": "stream",
     "text": [
      " 15%|█▌        | 45/300 [00:17<01:37,  2.62it/s]"
     ]
    },
    {
     "name": "stdout",
     "output_type": "stream",
     "text": [
      "\n",
      "epoch 45: test average loss: 8.628 | acc: 94.06% (190/202)\n",
      "EarlyStopping counter: 16/25 (best: 0.9802)\n",
      "\n",
      "epoch 46: train average loss: 1.646 | acc: 96.32% (1753/1820)\n"
     ]
    },
    {
     "name": "stderr",
     "output_type": "stream",
     "text": [
      " 15%|█▌        | 46/300 [00:17<01:35,  2.66it/s]"
     ]
    },
    {
     "name": "stdout",
     "output_type": "stream",
     "text": [
      "\n",
      "epoch 46: test average loss: 8.352 | acc: 94.55% (191/202)\n",
      "EarlyStopping counter: 17/25 (best: 0.9802)\n",
      "\n",
      "epoch 47: train average loss: 1.650 | acc: 97.20% (1769/1820)\n"
     ]
    },
    {
     "name": "stderr",
     "output_type": "stream",
     "text": [
      " 16%|█▌        | 47/300 [00:18<01:34,  2.69it/s]"
     ]
    },
    {
     "name": "stdout",
     "output_type": "stream",
     "text": [
      "\n",
      "epoch 47: test average loss: 8.447 | acc: 94.55% (191/202)\n",
      "EarlyStopping counter: 18/25 (best: 0.9802)\n",
      "\n",
      "epoch 48: train average loss: 1.663 | acc: 96.59% (1758/1820)\n"
     ]
    },
    {
     "name": "stderr",
     "output_type": "stream",
     "text": [
      " 16%|█▌        | 48/300 [00:18<01:32,  2.71it/s]"
     ]
    },
    {
     "name": "stdout",
     "output_type": "stream",
     "text": [
      "\n",
      "epoch 48: test average loss: 8.938 | acc: 93.07% (188/202)\n",
      "EarlyStopping counter: 19/25 (best: 0.9802)\n",
      "\n",
      "epoch 49: train average loss: 1.641 | acc: 96.81% (1762/1820)\n"
     ]
    },
    {
     "name": "stderr",
     "output_type": "stream",
     "text": [
      " 16%|█▋        | 49/300 [00:18<01:32,  2.72it/s]"
     ]
    },
    {
     "name": "stdout",
     "output_type": "stream",
     "text": [
      "\n",
      "epoch 49: test average loss: 9.208 | acc: 93.07% (188/202)\n",
      "EarlyStopping counter: 20/25 (best: 0.9802)\n",
      "\n",
      "epoch 50: train average loss: 1.644 | acc: 96.65% (1759/1820)\n"
     ]
    },
    {
     "name": "stderr",
     "output_type": "stream",
     "text": [
      " 17%|█▋        | 50/300 [00:19<01:32,  2.71it/s]"
     ]
    },
    {
     "name": "stdout",
     "output_type": "stream",
     "text": [
      "\n",
      "epoch 50: test average loss: 9.347 | acc: 94.06% (190/202)\n",
      "EarlyStopping counter: 21/25 (best: 0.9802)\n",
      "\n",
      "epoch 51: train average loss: 1.664 | acc: 96.76% (1761/1820)\n"
     ]
    },
    {
     "name": "stderr",
     "output_type": "stream",
     "text": [
      " 17%|█▋        | 51/300 [00:19<01:32,  2.69it/s]"
     ]
    },
    {
     "name": "stdout",
     "output_type": "stream",
     "text": [
      "\n",
      "epoch 51: test average loss: 8.140 | acc: 94.55% (191/202)\n",
      "EarlyStopping counter: 22/25 (best: 0.9802)\n",
      "\n",
      "epoch 52: train average loss: 1.649 | acc: 97.53% (1775/1820)\n"
     ]
    },
    {
     "name": "stderr",
     "output_type": "stream",
     "text": [
      " 17%|█▋        | 52/300 [00:19<01:31,  2.71it/s]"
     ]
    },
    {
     "name": "stdout",
     "output_type": "stream",
     "text": [
      "\n",
      "epoch 52: test average loss: 8.453 | acc: 94.55% (191/202)\n",
      "EarlyStopping counter: 23/25 (best: 0.9802)\n",
      "\n",
      "epoch 53: train average loss: 1.666 | acc: 96.98% (1765/1820)\n"
     ]
    },
    {
     "name": "stderr",
     "output_type": "stream",
     "text": [
      " 18%|█▊        | 53/300 [00:20<01:30,  2.73it/s]"
     ]
    },
    {
     "name": "stdout",
     "output_type": "stream",
     "text": [
      "\n",
      "epoch 53: test average loss: 8.687 | acc: 95.05% (192/202)\n",
      "EarlyStopping counter: 24/25 (best: 0.9802)\n",
      "\n",
      "epoch 54: train average loss: 1.650 | acc: 97.03% (1766/1820)\n"
     ]
    },
    {
     "name": "stderr",
     "output_type": "stream",
     "text": [
      " 18%|█▊        | 53/300 [00:20<01:36,  2.56it/s]"
     ]
    },
    {
     "name": "stdout",
     "output_type": "stream",
     "text": [
      "\n",
      "epoch 54: test average loss: 8.788 | acc: 94.55% (191/202)\n",
      "EarlyStopping counter: 25/25 (best: 0.9802)\n",
      "🔴 Early stopping triggered\n",
      "load model at epoch 29, with test acc : 0.980\n"
     ]
    },
    {
     "name": "stderr",
     "output_type": "stream",
     "text": [
      "\n",
      "/tmp/ipykernel_3337346/1054042983.py:175: FutureWarning:\n",
      "\n",
      "You are using `torch.load` with `weights_only=False` (the current default value), which uses the default pickle module implicitly. It is possible to construct malicious pickle data which will execute arbitrary code during unpickling (See https://github.com/pytorch/pytorch/blob/main/SECURITY.md#untrusted-models for more details). In a future release, the default value for `weights_only` will be flipped to `True`. This limits the functions that could be executed during unpickling. Arbitrary objects will no longer be allowed to be loaded via this mode unless they are explicitly allowlisted by the user via `torch.serialization.add_safe_globals`. We recommend you start setting `weights_only=True` for any use case where you don't have full control of the loaded file. Please open an issue on GitHub for any issues related to this experimental feature.\n",
      "\n"
     ]
    },
    {
     "name": "stdout",
     "output_type": "stream",
     "text": [
      "total 0.9801980198019802\n",
      "class 0 1.0\n",
      "class 1 0.9771428571428571\n",
      "                           0\n",
      "Accuracy              0.9802\n",
      "Recall         [1.0, 0.9771]\n",
      "Specificity    [0.9771, 1.0]\n",
      "Precision       [0.871, 1.0]\n",
      "F1 Score     [0.931, 0.9884]\n",
      "10\n"
     ]
    },
    {
     "name": "stderr",
     "output_type": "stream",
     "text": [
      "  0%|          | 0/300 [00:00<?, ?it/s]"
     ]
    },
    {
     "name": "stdout",
     "output_type": "stream",
     "text": [
      "\n",
      "epoch 1: train average loss: 32.225 | acc: 64.07% (1166/1820)\n"
     ]
    },
    {
     "name": "stderr",
     "output_type": "stream",
     "text": [
      "  0%|          | 1/300 [00:00<02:04,  2.39it/s]"
     ]
    },
    {
     "name": "stdout",
     "output_type": "stream",
     "text": [
      "\n",
      "epoch 1: test average loss: 27.676 | acc: 86.63% (175/202)\n",
      "best test acc found\n",
      "\n",
      "epoch 2: train average loss: 26.810 | acc: 68.79% (1252/1820)\n"
     ]
    },
    {
     "name": "stderr",
     "output_type": "stream",
     "text": [
      "  1%|          | 2/300 [00:00<02:00,  2.48it/s]"
     ]
    },
    {
     "name": "stdout",
     "output_type": "stream",
     "text": [
      "\n",
      "epoch 2: test average loss: 25.054 | acc: 86.63% (175/202)\n",
      "EarlyStopping counter: 1/25 (best: 0.8663)\n",
      "\n",
      "epoch 3: train average loss: 23.465 | acc: 71.76% (1306/1820)\n"
     ]
    },
    {
     "name": "stderr",
     "output_type": "stream",
     "text": [
      "  1%|          | 3/300 [00:01<01:59,  2.49it/s]"
     ]
    },
    {
     "name": "stdout",
     "output_type": "stream",
     "text": [
      "\n",
      "epoch 3: test average loss: 23.048 | acc: 86.63% (175/202)\n",
      "EarlyStopping counter: 2/25 (best: 0.8663)\n",
      "\n",
      "epoch 4: train average loss: 22.011 | acc: 76.10% (1385/1820)\n"
     ]
    },
    {
     "name": "stderr",
     "output_type": "stream",
     "text": [
      "  1%|▏         | 4/300 [00:01<01:57,  2.52it/s]"
     ]
    },
    {
     "name": "stdout",
     "output_type": "stream",
     "text": [
      "\n",
      "epoch 4: test average loss: 21.761 | acc: 86.63% (175/202)\n",
      "EarlyStopping counter: 3/25 (best: 0.8663)\n",
      "\n",
      "epoch 5: train average loss: 20.159 | acc: 76.87% (1399/1820)\n"
     ]
    },
    {
     "name": "stderr",
     "output_type": "stream",
     "text": [
      "  2%|▏         | 5/300 [00:01<01:56,  2.54it/s]"
     ]
    },
    {
     "name": "stdout",
     "output_type": "stream",
     "text": [
      "\n",
      "epoch 5: test average loss: 21.484 | acc: 86.63% (175/202)\n",
      "EarlyStopping counter: 4/25 (best: 0.8663)\n",
      "\n",
      "epoch 6: train average loss: 18.626 | acc: 80.44% (1464/1820)\n"
     ]
    },
    {
     "name": "stderr",
     "output_type": "stream",
     "text": [
      "  2%|▏         | 6/300 [00:02<01:55,  2.56it/s]"
     ]
    },
    {
     "name": "stdout",
     "output_type": "stream",
     "text": [
      "\n",
      "epoch 6: test average loss: 21.106 | acc: 86.63% (175/202)\n",
      "EarlyStopping counter: 5/25 (best: 0.8663)\n",
      "\n",
      "epoch 7: train average loss: 17.152 | acc: 82.25% (1497/1820)\n"
     ]
    },
    {
     "name": "stderr",
     "output_type": "stream",
     "text": [
      "  2%|▏         | 7/300 [00:02<01:53,  2.57it/s]"
     ]
    },
    {
     "name": "stdout",
     "output_type": "stream",
     "text": [
      "\n",
      "epoch 7: test average loss: 21.041 | acc: 86.63% (175/202)\n",
      "EarlyStopping counter: 6/25 (best: 0.8663)\n",
      "\n",
      "epoch 8: train average loss: 15.614 | acc: 83.35% (1517/1820)\n"
     ]
    },
    {
     "name": "stderr",
     "output_type": "stream",
     "text": [
      "  3%|▎         | 8/300 [00:03<01:54,  2.55it/s]"
     ]
    },
    {
     "name": "stdout",
     "output_type": "stream",
     "text": [
      "\n",
      "epoch 8: test average loss: 20.256 | acc: 92.57% (187/202)\n",
      "best test acc found\n",
      "\n",
      "epoch 9: train average loss: 15.518 | acc: 86.81% (1580/1820)\n"
     ]
    },
    {
     "name": "stderr",
     "output_type": "stream",
     "text": [
      "  3%|▎         | 9/300 [00:03<01:56,  2.51it/s]"
     ]
    },
    {
     "name": "stdout",
     "output_type": "stream",
     "text": [
      "\n",
      "epoch 9: test average loss: 19.374 | acc: 95.05% (192/202)\n",
      "best test acc found\n",
      "\n",
      "epoch 10: train average loss: 15.299 | acc: 86.37% (1572/1820)\n"
     ]
    },
    {
     "name": "stderr",
     "output_type": "stream",
     "text": [
      "  3%|▎         | 10/300 [00:03<01:54,  2.54it/s]"
     ]
    },
    {
     "name": "stdout",
     "output_type": "stream",
     "text": [
      "\n",
      "epoch 10: test average loss: 20.834 | acc: 94.55% (191/202)\n",
      "EarlyStopping counter: 1/25 (best: 0.9505)\n",
      "\n",
      "epoch 11: train average loss: 15.250 | acc: 86.15% (1568/1820)\n"
     ]
    },
    {
     "name": "stderr",
     "output_type": "stream",
     "text": [
      "  4%|▎         | 11/300 [00:04<01:55,  2.50it/s]"
     ]
    },
    {
     "name": "stdout",
     "output_type": "stream",
     "text": [
      "\n",
      "epoch 11: test average loss: 20.820 | acc: 98.02% (198/202)\n",
      "best test acc found\n",
      "\n",
      "epoch 12: train average loss: 14.747 | acc: 87.31% (1589/1820)\n"
     ]
    },
    {
     "name": "stderr",
     "output_type": "stream",
     "text": [
      "  4%|▍         | 12/300 [00:04<01:53,  2.53it/s]"
     ]
    },
    {
     "name": "stdout",
     "output_type": "stream",
     "text": [
      "\n",
      "epoch 12: test average loss: 17.495 | acc: 74.75% (151/202)\n",
      "EarlyStopping counter: 1/25 (best: 0.9802)\n",
      "\n",
      "epoch 13: train average loss: 13.701 | acc: 87.25% (1588/1820)\n"
     ]
    },
    {
     "name": "stderr",
     "output_type": "stream",
     "text": [
      "  4%|▍         | 13/300 [00:05<01:52,  2.54it/s]"
     ]
    },
    {
     "name": "stdout",
     "output_type": "stream",
     "text": [
      "\n",
      "epoch 13: test average loss: 20.190 | acc: 89.11% (180/202)\n",
      "EarlyStopping counter: 2/25 (best: 0.9802)\n",
      "\n",
      "epoch 14: train average loss: 12.911 | acc: 90.22% (1642/1820)\n"
     ]
    },
    {
     "name": "stderr",
     "output_type": "stream",
     "text": [
      "  5%|▍         | 14/300 [00:05<01:52,  2.55it/s]"
     ]
    },
    {
     "name": "stdout",
     "output_type": "stream",
     "text": [
      "\n",
      "epoch 14: test average loss: 18.648 | acc: 84.16% (170/202)\n",
      "EarlyStopping counter: 3/25 (best: 0.9802)\n",
      "\n",
      "epoch 15: train average loss: 11.868 | acc: 89.29% (1625/1820)\n"
     ]
    },
    {
     "name": "stderr",
     "output_type": "stream",
     "text": [
      "  5%|▌         | 15/300 [00:05<01:50,  2.59it/s]"
     ]
    },
    {
     "name": "stdout",
     "output_type": "stream",
     "text": [
      "\n",
      "epoch 15: test average loss: 19.597 | acc: 98.02% (198/202)\n",
      "EarlyStopping counter: 4/25 (best: 0.9802)\n",
      "\n",
      "epoch 16: train average loss: 10.903 | acc: 90.00% (1638/1820)\n"
     ]
    },
    {
     "name": "stderr",
     "output_type": "stream",
     "text": [
      "  5%|▌         | 16/300 [00:06<01:48,  2.63it/s]"
     ]
    },
    {
     "name": "stdout",
     "output_type": "stream",
     "text": [
      "\n",
      "epoch 16: test average loss: 24.895 | acc: 73.27% (148/202)\n",
      "EarlyStopping counter: 5/25 (best: 0.9802)\n",
      "\n",
      "epoch 17: train average loss: 11.680 | acc: 89.89% (1636/1820)\n"
     ]
    },
    {
     "name": "stderr",
     "output_type": "stream",
     "text": [
      "  6%|▌         | 17/300 [00:06<01:46,  2.66it/s]"
     ]
    },
    {
     "name": "stdout",
     "output_type": "stream",
     "text": [
      "\n",
      "epoch 17: test average loss: 18.710 | acc: 93.56% (189/202)\n",
      "EarlyStopping counter: 6/25 (best: 0.9802)\n",
      "\n",
      "epoch 18: train average loss: 10.020 | acc: 91.43% (1664/1820)\n"
     ]
    },
    {
     "name": "stderr",
     "output_type": "stream",
     "text": [
      "  6%|▌         | 18/300 [00:07<01:45,  2.67it/s]"
     ]
    },
    {
     "name": "stdout",
     "output_type": "stream",
     "text": [
      "\n",
      "epoch 18: test average loss: 20.362 | acc: 96.53% (195/202)\n",
      "EarlyStopping counter: 7/25 (best: 0.9802)\n",
      "\n",
      "epoch 19: train average loss: 9.883 | acc: 90.44% (1646/1820)\n"
     ]
    },
    {
     "name": "stderr",
     "output_type": "stream",
     "text": [
      "  6%|▋         | 19/300 [00:07<01:45,  2.67it/s]"
     ]
    },
    {
     "name": "stdout",
     "output_type": "stream",
     "text": [
      "\n",
      "epoch 19: test average loss: 19.245 | acc: 99.01% (200/202)\n",
      "best test acc found\n",
      "\n",
      "epoch 20: train average loss: 8.872 | acc: 92.09% (1676/1820)\n"
     ]
    },
    {
     "name": "stderr",
     "output_type": "stream",
     "text": [
      "  7%|▋         | 20/300 [00:07<01:44,  2.68it/s]"
     ]
    },
    {
     "name": "stdout",
     "output_type": "stream",
     "text": [
      "\n",
      "epoch 20: test average loss: 18.869 | acc: 98.51% (199/202)\n",
      "EarlyStopping counter: 1/25 (best: 0.9901)\n",
      "\n",
      "epoch 21: train average loss: 8.039 | acc: 90.22% (1642/1820)\n"
     ]
    },
    {
     "name": "stderr",
     "output_type": "stream",
     "text": [
      "  7%|▋         | 21/300 [00:08<01:44,  2.67it/s]"
     ]
    },
    {
     "name": "stdout",
     "output_type": "stream",
     "text": [
      "\n",
      "epoch 21: test average loss: 23.420 | acc: 71.78% (145/202)\n",
      "EarlyStopping counter: 2/25 (best: 0.9901)\n",
      "\n",
      "epoch 22: train average loss: 8.246 | acc: 91.32% (1662/1820)\n"
     ]
    },
    {
     "name": "stderr",
     "output_type": "stream",
     "text": [
      "  7%|▋         | 22/300 [00:08<01:45,  2.64it/s]"
     ]
    },
    {
     "name": "stdout",
     "output_type": "stream",
     "text": [
      "\n",
      "epoch 22: test average loss: 31.725 | acc: 71.78% (145/202)\n",
      "EarlyStopping counter: 3/25 (best: 0.9901)\n",
      "\n",
      "epoch 23: train average loss: 7.953 | acc: 92.14% (1677/1820)\n"
     ]
    },
    {
     "name": "stderr",
     "output_type": "stream",
     "text": [
      "  8%|▊         | 23/300 [00:08<01:43,  2.67it/s]"
     ]
    },
    {
     "name": "stdout",
     "output_type": "stream",
     "text": [
      "\n",
      "epoch 23: test average loss: 26.540 | acc: 93.07% (188/202)\n",
      "EarlyStopping counter: 4/25 (best: 0.9901)\n",
      "\n",
      "epoch 24: train average loss: 6.184 | acc: 93.46% (1701/1820)\n"
     ]
    },
    {
     "name": "stderr",
     "output_type": "stream",
     "text": [
      "  8%|▊         | 24/300 [00:09<01:42,  2.68it/s]"
     ]
    },
    {
     "name": "stdout",
     "output_type": "stream",
     "text": [
      "\n",
      "epoch 24: test average loss: 25.815 | acc: 93.56% (189/202)\n",
      "EarlyStopping counter: 5/25 (best: 0.9901)\n",
      "\n",
      "epoch 25: train average loss: 5.448 | acc: 93.79% (1707/1820)\n"
     ]
    },
    {
     "name": "stderr",
     "output_type": "stream",
     "text": [
      "  8%|▊         | 25/300 [00:09<01:41,  2.71it/s]"
     ]
    },
    {
     "name": "stdout",
     "output_type": "stream",
     "text": [
      "\n",
      "epoch 25: test average loss: 32.914 | acc: 89.11% (180/202)\n",
      "EarlyStopping counter: 6/25 (best: 0.9901)\n",
      "\n",
      "epoch 26: train average loss: 4.710 | acc: 93.24% (1697/1820)\n"
     ]
    },
    {
     "name": "stderr",
     "output_type": "stream",
     "text": [
      "  9%|▊         | 26/300 [00:09<01:41,  2.69it/s]"
     ]
    },
    {
     "name": "stdout",
     "output_type": "stream",
     "text": [
      "\n",
      "epoch 26: test average loss: 21.057 | acc: 98.02% (198/202)\n",
      "EarlyStopping counter: 7/25 (best: 0.9901)\n",
      "\n",
      "epoch 27: train average loss: 4.715 | acc: 94.45% (1719/1820)\n"
     ]
    },
    {
     "name": "stderr",
     "output_type": "stream",
     "text": [
      "  9%|▉         | 27/300 [00:10<01:45,  2.58it/s]"
     ]
    },
    {
     "name": "stdout",
     "output_type": "stream",
     "text": [
      "\n",
      "epoch 27: test average loss: 30.720 | acc: 87.13% (176/202)\n",
      "EarlyStopping counter: 8/25 (best: 0.9901)\n",
      "\n",
      "epoch 28: train average loss: 4.405 | acc: 93.68% (1705/1820)\n"
     ]
    },
    {
     "name": "stderr",
     "output_type": "stream",
     "text": [
      "  9%|▉         | 28/300 [00:10<01:47,  2.52it/s]"
     ]
    },
    {
     "name": "stdout",
     "output_type": "stream",
     "text": [
      "\n",
      "epoch 28: test average loss: 28.901 | acc: 93.56% (189/202)\n",
      "EarlyStopping counter: 9/25 (best: 0.9901)\n",
      "\n",
      "epoch 29: train average loss: 2.766 | acc: 94.84% (1726/1820)\n"
     ]
    },
    {
     "name": "stderr",
     "output_type": "stream",
     "text": [
      " 10%|▉         | 29/300 [00:11<01:47,  2.52it/s]"
     ]
    },
    {
     "name": "stdout",
     "output_type": "stream",
     "text": [
      "\n",
      "epoch 29: test average loss: 34.236 | acc: 92.08% (186/202)\n",
      "EarlyStopping counter: 10/25 (best: 0.9901)\n",
      "\n",
      "epoch 30: train average loss: 3.670 | acc: 94.34% (1717/1820)\n"
     ]
    },
    {
     "name": "stderr",
     "output_type": "stream",
     "text": [
      " 10%|█         | 30/300 [00:11<01:47,  2.52it/s]"
     ]
    },
    {
     "name": "stdout",
     "output_type": "stream",
     "text": [
      "\n",
      "epoch 30: test average loss: 28.568 | acc: 96.04% (194/202)\n",
      "EarlyStopping counter: 11/25 (best: 0.9901)\n",
      "\n",
      "epoch 31: train average loss: 2.258 | acc: 94.95% (1728/1820)\n"
     ]
    },
    {
     "name": "stderr",
     "output_type": "stream",
     "text": [
      " 10%|█         | 31/300 [00:12<01:45,  2.55it/s]"
     ]
    },
    {
     "name": "stdout",
     "output_type": "stream",
     "text": [
      "\n",
      "epoch 31: test average loss: 30.504 | acc: 96.04% (194/202)\n",
      "EarlyStopping counter: 12/25 (best: 0.9901)\n",
      "\n",
      "epoch 32: train average loss: 2.080 | acc: 94.62% (1722/1820)\n"
     ]
    },
    {
     "name": "stderr",
     "output_type": "stream",
     "text": [
      " 11%|█         | 32/300 [00:12<01:44,  2.56it/s]"
     ]
    },
    {
     "name": "stdout",
     "output_type": "stream",
     "text": [
      "\n",
      "epoch 32: test average loss: 30.289 | acc: 93.07% (188/202)\n",
      "EarlyStopping counter: 13/25 (best: 0.9901)\n",
      "\n",
      "epoch 33: train average loss: 2.208 | acc: 93.24% (1697/1820)\n"
     ]
    },
    {
     "name": "stderr",
     "output_type": "stream",
     "text": [
      " 11%|█         | 33/300 [00:12<01:44,  2.56it/s]"
     ]
    },
    {
     "name": "stdout",
     "output_type": "stream",
     "text": [
      "\n",
      "epoch 33: test average loss: 25.404 | acc: 95.05% (192/202)\n",
      "EarlyStopping counter: 14/25 (best: 0.9901)\n",
      "\n",
      "epoch 34: train average loss: 2.063 | acc: 96.04% (1748/1820)\n"
     ]
    },
    {
     "name": "stderr",
     "output_type": "stream",
     "text": [
      " 11%|█▏        | 34/300 [00:13<01:43,  2.58it/s]"
     ]
    },
    {
     "name": "stdout",
     "output_type": "stream",
     "text": [
      "\n",
      "epoch 34: test average loss: 21.395 | acc: 97.52% (197/202)\n",
      "EarlyStopping counter: 15/25 (best: 0.9901)\n",
      "\n",
      "epoch 35: train average loss: 1.767 | acc: 95.82% (1744/1820)\n"
     ]
    },
    {
     "name": "stderr",
     "output_type": "stream",
     "text": [
      " 12%|█▏        | 35/300 [00:13<01:42,  2.57it/s]"
     ]
    },
    {
     "name": "stdout",
     "output_type": "stream",
     "text": [
      "\n",
      "epoch 35: test average loss: 27.897 | acc: 95.54% (193/202)\n",
      "EarlyStopping counter: 16/25 (best: 0.9901)\n",
      "\n",
      "epoch 36: train average loss: 1.913 | acc: 95.33% (1735/1820)\n"
     ]
    },
    {
     "name": "stderr",
     "output_type": "stream",
     "text": [
      " 12%|█▏        | 36/300 [00:13<01:43,  2.55it/s]"
     ]
    },
    {
     "name": "stdout",
     "output_type": "stream",
     "text": [
      "\n",
      "epoch 36: test average loss: 30.205 | acc: 95.54% (193/202)\n",
      "EarlyStopping counter: 17/25 (best: 0.9901)\n",
      "\n",
      "epoch 37: train average loss: 1.810 | acc: 95.38% (1736/1820)\n"
     ]
    },
    {
     "name": "stderr",
     "output_type": "stream",
     "text": [
      " 12%|█▏        | 37/300 [00:14<01:45,  2.49it/s]"
     ]
    },
    {
     "name": "stdout",
     "output_type": "stream",
     "text": [
      "\n",
      "epoch 37: test average loss: 32.272 | acc: 95.54% (193/202)\n",
      "EarlyStopping counter: 18/25 (best: 0.9901)\n",
      "\n",
      "epoch 38: train average loss: 1.715 | acc: 96.32% (1753/1820)\n"
     ]
    },
    {
     "name": "stderr",
     "output_type": "stream",
     "text": [
      " 13%|█▎        | 38/300 [00:14<01:44,  2.50it/s]"
     ]
    },
    {
     "name": "stdout",
     "output_type": "stream",
     "text": [
      "\n",
      "epoch 38: test average loss: 32.393 | acc: 95.54% (193/202)\n",
      "EarlyStopping counter: 19/25 (best: 0.9901)\n",
      "\n",
      "epoch 39: train average loss: 1.708 | acc: 95.55% (1739/1820)\n"
     ]
    },
    {
     "name": "stderr",
     "output_type": "stream",
     "text": [
      " 13%|█▎        | 39/300 [00:15<01:43,  2.52it/s]"
     ]
    },
    {
     "name": "stdout",
     "output_type": "stream",
     "text": [
      "\n",
      "epoch 39: test average loss: 31.757 | acc: 96.53% (195/202)\n",
      "EarlyStopping counter: 20/25 (best: 0.9901)\n",
      "\n",
      "epoch 40: train average loss: 1.688 | acc: 96.26% (1752/1820)\n"
     ]
    },
    {
     "name": "stderr",
     "output_type": "stream",
     "text": [
      " 13%|█▎        | 40/300 [00:15<01:42,  2.54it/s]"
     ]
    },
    {
     "name": "stdout",
     "output_type": "stream",
     "text": [
      "\n",
      "epoch 40: test average loss: 31.691 | acc: 96.04% (194/202)\n",
      "EarlyStopping counter: 21/25 (best: 0.9901)\n",
      "\n",
      "epoch 41: train average loss: 1.705 | acc: 96.32% (1753/1820)\n"
     ]
    },
    {
     "name": "stderr",
     "output_type": "stream",
     "text": [
      " 14%|█▎        | 41/300 [00:15<01:41,  2.55it/s]"
     ]
    },
    {
     "name": "stdout",
     "output_type": "stream",
     "text": [
      "\n",
      "epoch 41: test average loss: 33.214 | acc: 95.54% (193/202)\n",
      "EarlyStopping counter: 22/25 (best: 0.9901)\n",
      "\n",
      "epoch 42: train average loss: 1.779 | acc: 96.87% (1763/1820)\n"
     ]
    },
    {
     "name": "stderr",
     "output_type": "stream",
     "text": [
      " 14%|█▍        | 42/300 [00:16<01:40,  2.58it/s]"
     ]
    },
    {
     "name": "stdout",
     "output_type": "stream",
     "text": [
      "\n",
      "epoch 42: test average loss: 32.907 | acc: 95.54% (193/202)\n",
      "EarlyStopping counter: 23/25 (best: 0.9901)\n",
      "\n",
      "epoch 43: train average loss: 1.667 | acc: 97.25% (1770/1820)\n"
     ]
    },
    {
     "name": "stderr",
     "output_type": "stream",
     "text": [
      " 14%|█▍        | 43/300 [00:16<01:38,  2.62it/s]"
     ]
    },
    {
     "name": "stdout",
     "output_type": "stream",
     "text": [
      "\n",
      "epoch 43: test average loss: 35.902 | acc: 95.54% (193/202)\n",
      "EarlyStopping counter: 24/25 (best: 0.9901)\n",
      "\n",
      "epoch 44: train average loss: 1.679 | acc: 95.55% (1739/1820)\n"
     ]
    },
    {
     "name": "stderr",
     "output_type": "stream",
     "text": [
      " 14%|█▍        | 43/300 [00:17<01:41,  2.52it/s]"
     ]
    },
    {
     "name": "stdout",
     "output_type": "stream",
     "text": [
      "\n",
      "epoch 44: test average loss: 36.249 | acc: 95.54% (193/202)\n",
      "EarlyStopping counter: 25/25 (best: 0.9901)\n",
      "🔴 Early stopping triggered\n",
      "load model at epoch 19, with test acc : 0.990\n"
     ]
    },
    {
     "name": "stderr",
     "output_type": "stream",
     "text": [
      "\n",
      "/tmp/ipykernel_3337346/1054042983.py:175: FutureWarning:\n",
      "\n",
      "You are using `torch.load` with `weights_only=False` (the current default value), which uses the default pickle module implicitly. It is possible to construct malicious pickle data which will execute arbitrary code during unpickling (See https://github.com/pytorch/pytorch/blob/main/SECURITY.md#untrusted-models for more details). In a future release, the default value for `weights_only` will be flipped to `True`. This limits the functions that could be executed during unpickling. Arbitrary objects will no longer be allowed to be loaded via this mode unless they are explicitly allowlisted by the user via `torch.serialization.add_safe_globals`. We recommend you start setting `weights_only=True` for any use case where you don't have full control of the loaded file. Please open an issue on GitHub for any issues related to this experimental feature.\n",
      "\n"
     ]
    },
    {
     "name": "stdout",
     "output_type": "stream",
     "text": [
      "total 0.9900990099009901\n",
      "class 0 0.9629629629629629\n",
      "class 1 0.9942857142857143\n",
      "                           0\n",
      "Accuracy              0.9901\n",
      "Recall       [0.963, 0.9943]\n",
      "Specificity  [0.9943, 0.963]\n",
      "Precision    [0.963, 0.9943]\n",
      "F1 Score     [0.963, 0.9943]\n"
     ]
    }
   ],
   "source": [
    "\n",
    "from datasets_spectrum import spectral_dataloader\n",
    "from sklearn.model_selection import StratifiedKFold\n",
    "best_test_accuracy = 0\n",
    "low_test_accuracy = 1\n",
    "\n",
    "sss = StratifiedKFold(n_splits=10, shuffle=True,random_state=1)\n",
    "for fold, (train_index, test_index) in enumerate(sss.split(X_train_raw, y_train_raw)):\n",
    "    X_train, X_test = X_train_raw[train_index], X_train_raw[test_index]\n",
    "    y_train, y_test = y_train_raw[train_index], y_train_raw[test_index]\n",
    "    patient_train ,patient_test = patient_train_raw[train_index],patient_train_raw[test_index]\n",
    "\n",
    "    dl_tr = spectral_dataloader(\n",
    "                        X_train, y_train,patient_train, idxs=None, batch_size=batch_size, shuffle=True\n",
    "                    )\n",
    "    dl_test = spectral_dataloader(X_test, y_test,patient_test,idxs=None, batch_size=batch_size, shuffle=False)\n",
    "    values, counts = np.unique(np.asarray(y_test), return_counts=True)\n",
    "    dataloaders = {\"train\": dl_tr, \"test\": dl_test}\n",
    "\n",
    "    model = Variant_LeNet(in_channels=1, out_channels=n_classes)\n",
    "\n",
    "    model_path = f\"best_variant_lenet_model_{fold}.pth\"\n",
    "\n",
    "    class_counts = np.bincount(y_train)\n",
    "    num_classes = len(class_counts)\n",
    "    total_samples = len(y_train)\n",
    "\n",
    "    class_weights = []\n",
    "    for count in class_counts:\n",
    "        weight = 1 / (count / total_samples)\n",
    "        class_weights.append(weight)\n",
    "    class_weights = torch.FloatTensor(class_weights)\n",
    "    alpha = class_weights\n",
    "    solver = Solver(\n",
    "                fold,dataloaders, model, model_path, 'cuda', n_classes, alpha\n",
    "            )\n",
    "    print(fold + 1)\n",
    "    solver.train(epochs)\n",
    "    C, y_true, y_pred, test_accuracy , y_pred_prob,train_acc,train_targets,targets,train_combined,combined ,train_patient_ids, test_patient_ids= solver.test()\n",
    "    C_total += C  # 將每次迭代的 C 加總到 C_total\n",
    "    train_avg_accuracy.append(train_acc)\n",
    "    avg_accuracy.append(test_accuracy)\n",
    "\n",
    "    if test_accuracy > best_test_accuracy:\n",
    "\n",
    "        best_test_accuracy = test_accuracy\n",
    "            \n",
    "        plot_tsne_interactive_html(f\"variant_lenet_best_test_accuracy_combined_train\",f\"variant_lenet_best_test_accuracy_combined_test\",train_combined,combined,train_targets,targets, train_patient_ids, test_patient_ids,classnames )\n",
    "      \n",
    "        plot_heatmap(f\"variant_lenet_best_test_accuracy_heatmap\", C,class_names=classnames)\n",
    "        \n",
    "    if test_accuracy < low_test_accuracy:\n",
    "\n",
    "        low_test_accuracy = test_accuracy\n",
    "        \n",
    "        plot_tsne_interactive_html(f\"variant_lenet_low_test_accuracy_combined_train\",f\"variant_lenet_low_test_accuracy_combined_test\",train_combined,combined,train_targets,targets,train_patient_ids, test_patient_ids, classnames )\n",
    "            \n",
    "        plot_heatmap(f\"variant_lenet_low_test_accuracy_heatmap\", C,class_names=classnames)\n",
    "        \n",
    "    fpr = dict()\n",
    "    tpr = dict()\n",
    "    roc_auc = dict()\n",
    "    for i in range(np.unique(y_true).shape[0]):\n",
    "        fpr[i], tpr[i], _ = roc_curve(y_test == i, y_pred_prob[:, i])\n",
    "        roc_auc[i] = auc(fpr[i], tpr[i])\n",
    "    values = [\n",
    "            v\n",
    "            for v in roc_auc.values()\n",
    "            if isinstance(v, (int, float)) and not math.isnan(v)\n",
    "    ]\n",
    "    if values:\n",
    "        auc_score = sum(values) / len(values)\n",
    "    avg_roc.append(auc_score)\n",
    "\n",
    "    for i in range(n_classes):\n",
    "        C_new[i] = np.round((C[i] / (counts[i] * num)), 2)\n",
    "\n",
    "        # Plot confusion matrix\n",
    "    sns.set_context(\"talk\", rc={\"font\": \"Helvetica\", \"font.size\": 12})\n",
    "    label = [STRAINS[i] for i in ORDER]\n",
    "    cm = 100 * C_new / C_new.sum(axis=1)[:, np.newaxis]\n",
    "\n",
    "        # calculate comfusion matrix\n",
    "    accuracy = accuracy_score(y_true, y_pred)\n",
    "    sensitivity = recall_score(y_true, y_pred, average=\"micro\", zero_division=0)\n",
    "    specificity = cm[1, 1] / (cm[1, 0] + cm[1, 1])\n",
    "    f1 = f1_score(y_true, y_pred, average=\"micro\", zero_division=0)\n",
    "\n",
    "    # metrices result\n",
    "    df = pd.DataFrame(\n",
    "        {\n",
    "            \"Accuracy\": [np.round(accuracy_score(y_true, y_pred), 4)],\n",
    "            \"Recall\": [\n",
    "                    recall_score(y_true, y_pred, average=None, zero_division=0).round(4)\n",
    "                ],\n",
    "            \"Specificity\": [specificity_score(y_true, y_pred, average=None).round(4)],\n",
    "            \"Precision\": [\n",
    "                    precision_score(y_true, y_pred, average=None, zero_division=0).round(4)\n",
    "                ],\n",
    "            \"F1 Score\": [\n",
    "                    f1_score(y_true, y_pred, average=None, zero_division=0).round(4)\n",
    "                ],\n",
    "            }\n",
    "    )\n",
    "    print(df.transpose())\n",
    "\n",
    "    plot_E_cloacae_CS_E_cloacae_ROC_curve(f\"variant_lenet_{fold}_roc_curve\", y_true, y_test, y_pred_prob)\n",
    "\n",
    "    plot_heatmap(f\"variant_lenet_{fold}_heatmap\", cm,class_names=classnames)\n",
    "\n",
    "plot_heatmap(f\"variant_lenet_average_heatmap\", C_total,class_names=classnames)\n"
   ]
  },
  {
   "cell_type": "code",
   "execution_count": null,
   "id": "9f161583",
   "metadata": {},
   "outputs": [
    {
     "name": "stdout",
     "output_type": "stream",
     "text": [
      "max test acc: 0.9950738916256158\n",
      "min test acc: 0.9752475247524752\n",
      "test acc: [0.9901477832512315, 0.9950738916256158, 0.9900990099009901, 0.995049504950495, 0.9801980198019802, 0.9851485148514851, 0.9752475247524752, 0.9851485148514851, 0.9801980198019802, 0.9900990099009901]\n",
      "test auc: [0.984006734006734, 0.994949494949495, 0.9980332167832167, 0.9991258741258742, 0.9923513986013985, 0.9886363636363638, 0.9980952380952381, 0.9663492063492063, 0.9993650793650795, 0.9938624338624338]\n",
      "train mean: 0.9309830603700862\n",
      "train std: 0.01774047742863421\n",
      "mean: 0.9866409793688729\n",
      "std: 0.006287448608987739\n",
      "auc mean: 0.9914775039775041\n",
      "auc std: 0.009598465056637907\n"
     ]
    }
   ],
   "source": [
    "print(\"max test acc:\", np.max(avg_accuracy))\n",
    "print(\"min test acc:\", np.min(avg_accuracy))\n",
    "\n",
    "print(\"train mean:\", np.mean(train_avg_accuracy))\n",
    "print(\"train std:\", np.std(train_avg_accuracy))\n",
    "\n",
    "    \n",
    "print(\"mean:\", np.mean(avg_accuracy))\n",
    "print(\"std:\", np.std(avg_accuracy))\n",
    "\n",
    "    \n",
    "print(\"auc mean:\", np.mean(avg_roc))\n",
    "print(\"auc std:\", np.std(avg_roc))\n",
    "    "
   ]
  }
 ],
 "metadata": {
  "kernelspec": {
   "display_name": "Python 3",
   "language": "python",
   "name": "python3"
  },
  "language_info": {
   "codemirror_mode": {
    "name": "ipython",
    "version": 3
   },
   "file_extension": ".py",
   "mimetype": "text/x-python",
   "name": "python",
   "nbconvert_exporter": "python",
   "pygments_lexer": "ipython3",
   "version": "3.10.12"
  }
 },
 "nbformat": 4,
 "nbformat_minor": 5
}
