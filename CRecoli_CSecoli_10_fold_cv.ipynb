{
 "cells": [
  {
   "cell_type": "markdown",
   "id": "637ab6e7",
   "metadata": {},
   "source": [
    "## Loading Dataset"
   ]
  },
  {
   "cell_type": "code",
   "execution_count": 1,
   "id": "ae8984c7",
   "metadata": {},
   "outputs": [],
   "source": [
    "import numpy as np"
   ]
  },
  {
   "cell_type": "code",
   "execution_count": 2,
   "id": "92288fb8",
   "metadata": {},
   "outputs": [],
   "source": [
    "X_fn = \"./data/combine_astii_astiii_filter_all_smoothing_ipm_ecoli_norm.npy\"\n",
    "y_fn = \"./data/y_astii_astiii_filter_all_ipm_ecoli.npy\"\n",
    "patient_fn = \"./data/patient_astii_astiii_filter_all_ipm_ecoli.npy\"\n",
    "X_train_raw = np.load(X_fn,allow_pickle=True)\n",
    "y_train_raw = np.load(y_fn,allow_pickle=True)\n",
    "patient_train_raw = np.load(patient_fn,allow_pickle=True)\n",
    "\n",
    "classnames=['CR Ecoli','CS Ecoli']\n",
    "\n"
   ]
  },
  {
   "cell_type": "code",
   "execution_count": 3,
   "id": "fa1db3d8",
   "metadata": {},
   "outputs": [],
   "source": [
    "if not isinstance(X_train_raw, np.ndarray):\n",
    "    X_train_raw = np.array(X_train_raw, dtype=np.float32)\n",
    "elif X_train_raw.dtype != np.float32:\n",
    "    X_train_raw = X_train_raw.astype(np.float32)"
   ]
  },
  {
   "cell_type": "markdown",
   "id": "7152edc6",
   "metadata": {},
   "source": [
    "## Model Setting"
   ]
  },
  {
   "cell_type": "code",
   "execution_count": null,
   "id": "5425f364",
   "metadata": {},
   "outputs": [
    {
     "name": "stderr",
     "output_type": "stream",
     "text": [
      "2025-07-18 10:02:35.526849: E external/local_xla/xla/stream_executor/cuda/cuda_dnn.cc:9261] Unable to register cuDNN factory: Attempting to register factory for plugin cuDNN when one has already been registered\n",
      "2025-07-18 10:02:35.526893: E external/local_xla/xla/stream_executor/cuda/cuda_fft.cc:607] Unable to register cuFFT factory: Attempting to register factory for plugin cuFFT when one has already been registered\n",
      "2025-07-18 10:02:35.528025: E external/local_xla/xla/stream_executor/cuda/cuda_blas.cc:1515] Unable to register cuBLAS factory: Attempting to register factory for plugin cuBLAS when one has already been registered\n"
     ]
    }
   ],
   "source": [
    "# model\n",
    "from Variant_LeNet import Variant_LeNet\n",
    "from tqdm import tqdm\n",
    "import torch\n",
    "import pandas as pd\n",
    "import torch.nn as nn\n",
    "from torch.autograd import Variable\n",
    "from FocalLoss import FocalLoss\n",
    "from losses import AdaptiveProxyAnchorLoss\n",
    "from imblearn.metrics import specificity_score\n",
    "from sklearn.metrics import (\n",
    "    confusion_matrix,\n",
    "    accuracy_score,\n",
    "    precision_score,\n",
    "    recall_score,\n",
    "    f1_score,\n",
    "    auc,\n",
    "    roc_curve,\n",
    ")\n",
    "from pytorchtools import EarlyStopping\n",
    "# Plot\n",
    "from plot import plot_CR_Ecoli_CS_Ecoli_ROC_curve, plot_heatmap,plot_tsne_interactive_html\n",
    "import matplotlib.pyplot as plt\n",
    "\n",
    "import seaborn as sns\n",
    "from sklearn.metrics import confusion_matrix\n",
    "from config import ORDER, STRAINS\n",
    "import math\n",
    "\n",
    "# Training setting\n",
    "n_classes = 2\n",
    "epochs = 300 \n",
    "batch_size = 256\n",
    "num = 10\n",
    "num_workers = 7\n",
    "\n",
    "# metrics\n",
    "train_avg_accuracy = []\n",
    "avg_accuracy = []\n",
    "avg_roc = []\n",
    "C_total = np.zeros((n_classes, n_classes))\n",
    "C = np.zeros((n_classes, n_classes))\n",
    "C_new = np.zeros((n_classes, n_classes))"
   ]
  },
  {
   "cell_type": "code",
   "execution_count": 5,
   "id": "e2a64d2c",
   "metadata": {},
   "outputs": [],
   "source": [
    "class Solver:\n",
    "    def __init__(\n",
    "        self,\n",
    "        i,\n",
    "        dataloaders,\n",
    "        model,\n",
    "        model_path,\n",
    "        device,\n",
    "        n_classes,\n",
    "        alpha,\n",
    "        gpu=-1,\n",
    "    ):\n",
    "        self.i = i\n",
    "        self.dataloaders = dataloaders\n",
    "        self.device = device\n",
    "        self.net = model\n",
    "        self.net = self.net.to(self.device)\n",
    "        self.n_classes = n_classes\n",
    "        self.criterion_proxy =AdaptiveProxyAnchorLoss(nb_classes=n_classes, sz_embed=256, mrg=0.5, alpha=32,\\\n",
    "                                             nb_proxies=1, scale_margin=1).cuda()\n",
    "        self.criterion = FocalLoss(alpha=alpha, gamma=2).cuda()\n",
    "        self.get_num_labeled_class = 2\n",
    "        self.param_groups = [\n",
    "            {'params': list(set(model.parameters()).difference(set(model.embedding.parameters())))},\n",
    "            {'params': model.embedding.parameters() , 'lr':float(0.001) * 1},\n",
    "            {'params': self.criterion_proxy.mrg,'lr':float(0.001) },\n",
    "            {'params': self.criterion_proxy.proxies, 'lr':float(0.001) * 100}\n",
    "        ]\n",
    "        self.optimizer =torch.optim.AdamW(self.param_groups, lr=0.001, weight_decay = 0.001)\n",
    "        self.model_path = model_path\n",
    "\n",
    "\n",
    "    def iterate(self, epoch, phase):\n",
    "        if phase == \"train\":\n",
    "            self.net.train()\n",
    "        else:\n",
    "            self.net.eval()\n",
    "\n",
    "            \n",
    "        dataloader = self.dataloaders[phase]\n",
    "        total_loss = 0\n",
    "        correct = 0\n",
    "        total = 0\n",
    "        total_proxy_loss = 0\n",
    "        total_crossentropy_loss = 0\n",
    "            \n",
    "        for batch_idx, (inputs, targets,patients) in enumerate(dataloader):\n",
    "            inputs, targets,patients = Variable(inputs).to(self.device), Variable(targets.long()).to(self.device), patients\n",
    "            #print(inputs.shape)\n",
    "            out,emb= self.net(inputs)\n",
    "            \n",
    "            loss1 = self.criterion(out, targets)\n",
    "            loss2 = self.criterion_proxy(emb, targets)\n",
    "            loss = loss1 + 0.5 * loss2\n",
    "            outputs = torch.argmax(out.detach(), dim=1)\n",
    "            \n",
    "            if phase == \"train\":\n",
    "                self.optimizer.zero_grad()\n",
    "                loss.backward()\n",
    "                self.optimizer.step()\n",
    "                torch.nn.utils.clip_grad_value_(self.net.parameters(), 10)\n",
    "                torch.nn.utils.clip_grad_value_(self.criterion_proxy.parameters(), 10)\n",
    "\n",
    "\n",
    "            total_loss += loss.item()\n",
    "            total_proxy_loss += loss2.item()\n",
    "            total_crossentropy_loss += loss1.item()\n",
    "            total += targets.size(0)\n",
    "            correct += outputs.eq(targets).cpu().sum().item()\n",
    "\n",
    "        total_loss /= (batch_idx + 1)\n",
    "        total_acc = correct / total\n",
    "\n",
    "                \n",
    "        print(\"\\nepoch %d: %s average loss: %.3f | acc: %.2f%% (%d/%d)\"\n",
    "                % (epoch + 1, phase, total_loss, 100.0 * total_acc, correct, total))\n",
    "\n",
    "        return total_loss,total_acc,out,targets\n",
    "            \n",
    "\n",
    "    def train(self, epochs):\n",
    "        best_loss = float(\"inf\")\n",
    "        best_acc = 0\n",
    "        epoch_breaks_classifer = 0\n",
    "        train_losses = []\n",
    "        train_acces = [] \n",
    "        test_losses = []\n",
    "        test_acces = [] \n",
    "\n",
    "        self.scheduler = torch.optim.lr_scheduler.CosineAnnealingLR(self.optimizer, T_max=60)\n",
    "\n",
    "        early_stopping_classifier = EarlyStopping(patience=25, mode='acc', verbose=True)\n",
    "\n",
    "        for epoch in tqdm(range(epochs)):\n",
    "            train_loss,train_acc,out,targets =self.iterate(epoch, \"train\")\n",
    "\n",
    "            train_losses.append(train_loss)\n",
    "            train_acces.append(train_acc)\n",
    "\n",
    "            with torch.no_grad():\n",
    "                \n",
    "                test_loss,test_acc,out,targets= self.iterate(epoch, \"test\")\n",
    "                    \n",
    "                test_losses.append(test_loss)\n",
    "                test_acces.append(test_acc)\n",
    "\n",
    "                if test_acc > best_acc:\n",
    "                    best_acc = test_acc\n",
    "                    checkpoint = {\n",
    "                        \"epoch\": epoch,\n",
    "                         \"train_acc\":train_acc,\n",
    "                        \"test_acc\":test_acc,\n",
    "                        \"test_loss\": test_loss,\n",
    "                        \"state_dict\": self.net.state_dict(),\n",
    "                    }\n",
    "                    print(\"best test acc found\")\n",
    "                    torch.save(checkpoint, self.model_path)\n",
    "                \n",
    "                self.scheduler.step()\n",
    "\n",
    "                early_stopping_classifier(test_acc)\n",
    "\n",
    "                epoch_breaks_classifer+= 1\n",
    "\n",
    "                if early_stopping_classifier.early_stop:\n",
    "                    break  # 停止訓練\n",
    "        \n",
    "        if not early_stopping_classifier.early_stop:\n",
    "            epoch_breaks_classifer = epochs\n",
    "        \n",
    "\n",
    "    def test_iterate(self, phase):\n",
    "        self.net.eval()\n",
    "        dataloader = self.dataloaders[phase]\n",
    "        y_pred = []\n",
    "        y_true = []\n",
    "        y_pred_prob = []\n",
    "        \n",
    "        features_out = []\n",
    "        features_combine = []\n",
    "        targets_combine = []\n",
    "        patient_ids = []\n",
    "        \n",
    "        with torch.no_grad():\n",
    "            for batch_idx, (inputs, targets,patients) in enumerate(dataloader):\n",
    "                inputs, targets ,patients = Variable(inputs).to('cuda'), Variable(targets.long()).to('cuda'), patients\n",
    "                out,emb = self.net(inputs)\n",
    "                outputs = torch.argmax(out.detach(), dim=1)\n",
    "                outputs_prob = nn.functional.softmax(out.detach(), dim=1)\n",
    "                y_pred.append(outputs.cpu().numpy())\n",
    "                y_pred_prob.append(outputs_prob.cpu().numpy())\n",
    "            \n",
    "                y_true.append(targets.cpu().numpy())\n",
    "                \n",
    "                targets_combine.append(targets.detach().cpu().numpy())\n",
    "                patient_ids.append(patients)\n",
    "                features_out.append(out.cpu().numpy())\n",
    "                features_combine.append(emb.detach().cpu().numpy())\n",
    "\n",
    "            targets_combine = np.concatenate(targets_combine, axis=0) \n",
    "            patient_ids = np.concatenate( patient_ids, axis=0) \n",
    "            features_out = np.concatenate(features_out, axis=0)\n",
    "            features_combine = np.concatenate(features_combine, axis=0)\n",
    "        \n",
    "        return (\n",
    "                np.hstack(y_pred),\n",
    "                np.hstack(y_true),\n",
    "                np.vstack(y_pred_prob),\n",
    "                features_out,\n",
    "                features_combine,\n",
    "                targets_combine,\n",
    "                patient_ids,\n",
    "            )\n",
    "    def test(self):\n",
    "        checkpoint = torch.load(self.model_path)\n",
    "        epoch = checkpoint[\"epoch\"]\n",
    "        train_acc = checkpoint[\"train_acc\"]\n",
    "        test_acc = checkpoint[\"test_acc\"]\n",
    "        self.net.load_state_dict(checkpoint[\"state_dict\"])\n",
    "        print(\"load model at epoch {}, with test acc : {:.3f}\".format(epoch+1, test_acc))\n",
    "\n",
    "        \n",
    "        _, _ ,_,train_out,train_combined,train_targets,train_patient_ids = self.test_iterate(\"train\")\n",
    "        y_pred, y_true ,y_pred_prob,out,combined,targets, test_patient_ids,= self.test_iterate(\"test\")\n",
    "        \n",
    "        print(\"total\", accuracy_score(y_true, y_pred))\n",
    "        for i in range(self.n_classes):\n",
    "            idx = y_true == i\n",
    "            print(\"class\", i, accuracy_score(y_true[idx], y_pred[idx]))\n",
    "\n",
    "        return (\n",
    "            confusion_matrix(y_true, y_pred),\n",
    "            y_true,\n",
    "            y_pred,\n",
    "            accuracy_score(y_true, y_pred),\n",
    "            y_pred_prob,\n",
    "            train_acc,\n",
    "            train_targets,\n",
    "            targets,\n",
    "            train_combined,\n",
    "            combined,\n",
    "            train_patient_ids,\n",
    "            test_patient_ids\n",
    "        )"
   ]
  },
  {
   "cell_type": "code",
   "execution_count": 6,
   "id": "77d2e6c5",
   "metadata": {},
   "outputs": [
    {
     "name": "stdout",
     "output_type": "stream",
     "text": [
      "1\n"
     ]
    },
    {
     "name": "stderr",
     "output_type": "stream",
     "text": [
      "  0%|          | 0/300 [00:00<?, ?it/s]"
     ]
    },
    {
     "name": "stdout",
     "output_type": "stream",
     "text": [
      "\n",
      "epoch 1: train average loss: 29.807 | acc: 58.49% (2507/4286)\n"
     ]
    },
    {
     "name": "stderr",
     "output_type": "stream",
     "text": [
      "  0%|          | 1/300 [00:00<03:25,  1.46it/s]"
     ]
    },
    {
     "name": "stdout",
     "output_type": "stream",
     "text": [
      "\n",
      "epoch 1: test average loss: 24.238 | acc: 96.02% (458/477)\n",
      "best test acc found\n",
      "\n",
      "epoch 2: train average loss: 22.517 | acc: 62.11% (2662/4286)\n"
     ]
    },
    {
     "name": "stderr",
     "output_type": "stream",
     "text": [
      "  1%|          | 2/300 [00:01<02:29,  1.99it/s]"
     ]
    },
    {
     "name": "stdout",
     "output_type": "stream",
     "text": [
      "\n",
      "epoch 2: test average loss: 20.985 | acc: 96.02% (458/477)\n",
      "EarlyStopping counter: 1/25 (best: 0.9602)\n",
      "\n",
      "epoch 3: train average loss: 18.468 | acc: 64.23% (2753/4286)\n"
     ]
    },
    {
     "name": "stderr",
     "output_type": "stream",
     "text": [
      "  1%|          | 3/300 [00:01<02:12,  2.25it/s]"
     ]
    },
    {
     "name": "stdout",
     "output_type": "stream",
     "text": [
      "\n",
      "epoch 3: test average loss: 20.822 | acc: 96.02% (458/477)\n",
      "EarlyStopping counter: 2/25 (best: 0.9602)\n",
      "\n",
      "epoch 4: train average loss: 16.283 | acc: 66.78% (2862/4286)\n"
     ]
    },
    {
     "name": "stderr",
     "output_type": "stream",
     "text": [
      "  1%|▏         | 4/300 [00:01<02:05,  2.36it/s]"
     ]
    },
    {
     "name": "stdout",
     "output_type": "stream",
     "text": [
      "\n",
      "epoch 4: test average loss: 20.631 | acc: 97.06% (463/477)\n",
      "best test acc found\n",
      "\n",
      "epoch 5: train average loss: 14.874 | acc: 69.86% (2994/4286)\n"
     ]
    },
    {
     "name": "stderr",
     "output_type": "stream",
     "text": [
      "  2%|▏         | 5/300 [00:02<02:00,  2.45it/s]"
     ]
    },
    {
     "name": "stdout",
     "output_type": "stream",
     "text": [
      "\n",
      "epoch 5: test average loss: 14.360 | acc: 90.15% (430/477)\n",
      "EarlyStopping counter: 1/25 (best: 0.9706)\n",
      "\n",
      "epoch 6: train average loss: 12.462 | acc: 74.17% (3179/4286)\n"
     ]
    },
    {
     "name": "stderr",
     "output_type": "stream",
     "text": [
      "  2%|▏         | 6/300 [00:02<01:57,  2.50it/s]"
     ]
    },
    {
     "name": "stdout",
     "output_type": "stream",
     "text": [
      "\n",
      "epoch 6: test average loss: 13.617 | acc: 94.34% (450/477)\n",
      "EarlyStopping counter: 2/25 (best: 0.9706)\n",
      "\n",
      "epoch 7: train average loss: 11.407 | acc: 74.99% (3214/4286)\n"
     ]
    },
    {
     "name": "stderr",
     "output_type": "stream",
     "text": [
      "  2%|▏         | 7/300 [00:02<01:56,  2.51it/s]"
     ]
    },
    {
     "name": "stdout",
     "output_type": "stream",
     "text": [
      "\n",
      "epoch 7: test average loss: 20.047 | acc: 15.93% (76/477)\n",
      "EarlyStopping counter: 3/25 (best: 0.9706)\n",
      "\n",
      "epoch 8: train average loss: 9.069 | acc: 77.04% (3302/4286)\n"
     ]
    },
    {
     "name": "stderr",
     "output_type": "stream",
     "text": [
      "  3%|▎         | 8/300 [00:03<01:55,  2.53it/s]"
     ]
    },
    {
     "name": "stdout",
     "output_type": "stream",
     "text": [
      "\n",
      "epoch 8: test average loss: 10.142 | acc: 90.99% (434/477)\n",
      "EarlyStopping counter: 4/25 (best: 0.9706)\n",
      "\n",
      "epoch 9: train average loss: 8.586 | acc: 80.35% (3444/4286)\n"
     ]
    },
    {
     "name": "stderr",
     "output_type": "stream",
     "text": [
      "  3%|▎         | 9/300 [00:03<01:56,  2.50it/s]"
     ]
    },
    {
     "name": "stdout",
     "output_type": "stream",
     "text": [
      "\n",
      "epoch 9: test average loss: 21.318 | acc: 77.57% (370/477)\n",
      "EarlyStopping counter: 5/25 (best: 0.9706)\n",
      "\n",
      "epoch 10: train average loss: 7.430 | acc: 81.71% (3502/4286)\n"
     ]
    },
    {
     "name": "stderr",
     "output_type": "stream",
     "text": [
      "  3%|▎         | 10/300 [00:04<01:59,  2.43it/s]"
     ]
    },
    {
     "name": "stdout",
     "output_type": "stream",
     "text": [
      "\n",
      "epoch 10: test average loss: 12.258 | acc: 100.00% (477/477)\n",
      "best test acc found\n",
      "\n",
      "epoch 11: train average loss: 4.355 | acc: 85.60% (3669/4286)\n"
     ]
    },
    {
     "name": "stderr",
     "output_type": "stream",
     "text": [
      "  4%|▎         | 11/300 [00:04<01:56,  2.48it/s]"
     ]
    },
    {
     "name": "stdout",
     "output_type": "stream",
     "text": [
      "\n",
      "epoch 11: test average loss: 8.307 | acc: 97.69% (466/477)\n",
      "EarlyStopping counter: 1/25 (best: 1.0000)\n",
      "\n",
      "epoch 12: train average loss: 3.288 | acc: 88.61% (3798/4286)\n"
     ]
    },
    {
     "name": "stderr",
     "output_type": "stream",
     "text": [
      "  4%|▍         | 12/300 [00:04<01:53,  2.53it/s]"
     ]
    },
    {
     "name": "stdout",
     "output_type": "stream",
     "text": [
      "\n",
      "epoch 12: test average loss: 19.596 | acc: 80.92% (386/477)\n",
      "EarlyStopping counter: 2/25 (best: 1.0000)\n",
      "\n",
      "epoch 13: train average loss: 2.863 | acc: 89.80% (3849/4286)\n"
     ]
    },
    {
     "name": "stderr",
     "output_type": "stream",
     "text": [
      "  4%|▍         | 13/300 [00:05<01:52,  2.55it/s]"
     ]
    },
    {
     "name": "stdout",
     "output_type": "stream",
     "text": [
      "\n",
      "epoch 13: test average loss: 22.233 | acc: 84.91% (405/477)\n",
      "EarlyStopping counter: 3/25 (best: 1.0000)\n",
      "\n",
      "epoch 14: train average loss: 2.113 | acc: 91.72% (3931/4286)\n"
     ]
    },
    {
     "name": "stderr",
     "output_type": "stream",
     "text": [
      "  5%|▍         | 14/300 [00:05<01:49,  2.61it/s]"
     ]
    },
    {
     "name": "stdout",
     "output_type": "stream",
     "text": [
      "\n",
      "epoch 14: test average loss: 4.421 | acc: 96.44% (460/477)\n",
      "EarlyStopping counter: 4/25 (best: 1.0000)\n",
      "\n",
      "epoch 15: train average loss: 2.305 | acc: 94.54% (4052/4286)\n"
     ]
    },
    {
     "name": "stderr",
     "output_type": "stream",
     "text": [
      "  5%|▌         | 15/300 [00:06<01:47,  2.66it/s]"
     ]
    },
    {
     "name": "stdout",
     "output_type": "stream",
     "text": [
      "\n",
      "epoch 15: test average loss: 22.351 | acc: 90.57% (432/477)\n",
      "EarlyStopping counter: 5/25 (best: 1.0000)\n",
      "\n",
      "epoch 16: train average loss: 2.273 | acc: 93.70% (4016/4286)\n"
     ]
    },
    {
     "name": "stderr",
     "output_type": "stream",
     "text": [
      "  5%|▌         | 16/300 [00:06<01:45,  2.69it/s]"
     ]
    },
    {
     "name": "stdout",
     "output_type": "stream",
     "text": [
      "\n",
      "epoch 16: test average loss: 4.179 | acc: 94.97% (453/477)\n",
      "EarlyStopping counter: 6/25 (best: 1.0000)\n",
      "\n",
      "epoch 17: train average loss: 1.776 | acc: 96.08% (4118/4286)\n"
     ]
    },
    {
     "name": "stderr",
     "output_type": "stream",
     "text": [
      "  6%|▌         | 17/300 [00:06<01:43,  2.73it/s]"
     ]
    },
    {
     "name": "stdout",
     "output_type": "stream",
     "text": [
      "\n",
      "epoch 17: test average loss: 2.461 | acc: 98.11% (468/477)\n",
      "EarlyStopping counter: 7/25 (best: 1.0000)\n",
      "\n",
      "epoch 18: train average loss: 1.771 | acc: 95.99% (4114/4286)\n"
     ]
    },
    {
     "name": "stderr",
     "output_type": "stream",
     "text": [
      "  6%|▌         | 18/300 [00:07<01:42,  2.74it/s]"
     ]
    },
    {
     "name": "stdout",
     "output_type": "stream",
     "text": [
      "\n",
      "epoch 18: test average loss: 10.077 | acc: 94.76% (452/477)\n",
      "EarlyStopping counter: 8/25 (best: 1.0000)\n",
      "\n",
      "epoch 19: train average loss: 1.739 | acc: 96.52% (4137/4286)\n"
     ]
    },
    {
     "name": "stderr",
     "output_type": "stream",
     "text": [
      "  6%|▋         | 19/300 [00:07<01:42,  2.75it/s]"
     ]
    },
    {
     "name": "stdout",
     "output_type": "stream",
     "text": [
      "\n",
      "epoch 19: test average loss: 11.783 | acc: 94.97% (453/477)\n",
      "EarlyStopping counter: 9/25 (best: 1.0000)\n",
      "\n",
      "epoch 20: train average loss: 1.714 | acc: 97.18% (4165/4286)\n"
     ]
    },
    {
     "name": "stderr",
     "output_type": "stream",
     "text": [
      "  7%|▋         | 20/300 [00:07<01:45,  2.65it/s]"
     ]
    },
    {
     "name": "stdout",
     "output_type": "stream",
     "text": [
      "\n",
      "epoch 20: test average loss: 13.064 | acc: 95.39% (455/477)\n",
      "EarlyStopping counter: 10/25 (best: 1.0000)\n",
      "\n",
      "epoch 21: train average loss: 1.712 | acc: 97.55% (4181/4286)\n"
     ]
    },
    {
     "name": "stderr",
     "output_type": "stream",
     "text": [
      "  7%|▋         | 21/300 [00:08<01:47,  2.61it/s]"
     ]
    },
    {
     "name": "stdout",
     "output_type": "stream",
     "text": [
      "\n",
      "epoch 21: test average loss: 10.380 | acc: 97.27% (464/477)\n",
      "EarlyStopping counter: 11/25 (best: 1.0000)\n",
      "\n",
      "epoch 22: train average loss: 1.690 | acc: 97.74% (4189/4286)\n"
     ]
    },
    {
     "name": "stderr",
     "output_type": "stream",
     "text": [
      "  7%|▋         | 22/300 [00:08<01:45,  2.63it/s]"
     ]
    },
    {
     "name": "stdout",
     "output_type": "stream",
     "text": [
      "\n",
      "epoch 22: test average loss: 10.769 | acc: 96.86% (462/477)\n",
      "EarlyStopping counter: 12/25 (best: 1.0000)\n",
      "\n",
      "epoch 23: train average loss: 1.679 | acc: 98.25% (4211/4286)\n"
     ]
    },
    {
     "name": "stderr",
     "output_type": "stream",
     "text": [
      "  8%|▊         | 23/300 [00:09<01:43,  2.68it/s]"
     ]
    },
    {
     "name": "stdout",
     "output_type": "stream",
     "text": [
      "\n",
      "epoch 23: test average loss: 9.382 | acc: 96.86% (462/477)\n",
      "EarlyStopping counter: 13/25 (best: 1.0000)\n",
      "\n",
      "epoch 24: train average loss: 1.663 | acc: 98.20% (4209/4286)\n"
     ]
    },
    {
     "name": "stderr",
     "output_type": "stream",
     "text": [
      "  8%|▊         | 24/300 [00:09<01:42,  2.69it/s]"
     ]
    },
    {
     "name": "stdout",
     "output_type": "stream",
     "text": [
      "\n",
      "epoch 24: test average loss: 8.989 | acc: 97.06% (463/477)\n",
      "EarlyStopping counter: 14/25 (best: 1.0000)\n",
      "\n",
      "epoch 25: train average loss: 1.656 | acc: 98.58% (4225/4286)\n"
     ]
    },
    {
     "name": "stderr",
     "output_type": "stream",
     "text": [
      "  8%|▊         | 25/300 [00:09<01:45,  2.61it/s]"
     ]
    },
    {
     "name": "stdout",
     "output_type": "stream",
     "text": [
      "\n",
      "epoch 25: test average loss: 10.587 | acc: 97.90% (467/477)\n",
      "EarlyStopping counter: 15/25 (best: 1.0000)\n",
      "\n",
      "epoch 26: train average loss: 1.650 | acc: 98.55% (4224/4286)\n"
     ]
    },
    {
     "name": "stderr",
     "output_type": "stream",
     "text": [
      "  9%|▊         | 26/300 [00:10<01:49,  2.51it/s]"
     ]
    },
    {
     "name": "stdout",
     "output_type": "stream",
     "text": [
      "\n",
      "epoch 26: test average loss: 10.240 | acc: 97.27% (464/477)\n",
      "EarlyStopping counter: 16/25 (best: 1.0000)\n",
      "\n",
      "epoch 27: train average loss: 1.650 | acc: 98.97% (4242/4286)\n"
     ]
    },
    {
     "name": "stderr",
     "output_type": "stream",
     "text": [
      "  9%|▉         | 27/300 [00:10<01:51,  2.45it/s]"
     ]
    },
    {
     "name": "stdout",
     "output_type": "stream",
     "text": [
      "\n",
      "epoch 27: test average loss: 9.847 | acc: 97.69% (466/477)\n",
      "EarlyStopping counter: 17/25 (best: 1.0000)\n",
      "\n",
      "epoch 28: train average loss: 1.635 | acc: 98.60% (4226/4286)\n"
     ]
    },
    {
     "name": "stderr",
     "output_type": "stream",
     "text": [
      "  9%|▉         | 28/300 [00:11<01:50,  2.45it/s]"
     ]
    },
    {
     "name": "stdout",
     "output_type": "stream",
     "text": [
      "\n",
      "epoch 28: test average loss: 10.087 | acc: 97.69% (466/477)\n",
      "EarlyStopping counter: 18/25 (best: 1.0000)\n",
      "\n",
      "epoch 29: train average loss: 1.632 | acc: 98.90% (4239/4286)\n"
     ]
    },
    {
     "name": "stderr",
     "output_type": "stream",
     "text": [
      " 10%|▉         | 29/300 [00:11<01:49,  2.47it/s]"
     ]
    },
    {
     "name": "stdout",
     "output_type": "stream",
     "text": [
      "\n",
      "epoch 29: test average loss: 7.986 | acc: 98.74% (471/477)\n",
      "EarlyStopping counter: 19/25 (best: 1.0000)\n",
      "\n",
      "epoch 30: train average loss: 1.619 | acc: 99.21% (4252/4286)\n"
     ]
    },
    {
     "name": "stderr",
     "output_type": "stream",
     "text": [
      " 10%|█         | 30/300 [00:11<01:49,  2.47it/s]"
     ]
    },
    {
     "name": "stdout",
     "output_type": "stream",
     "text": [
      "\n",
      "epoch 30: test average loss: 8.399 | acc: 98.32% (469/477)\n",
      "EarlyStopping counter: 20/25 (best: 1.0000)\n",
      "\n",
      "epoch 31: train average loss: 1.611 | acc: 99.14% (4249/4286)\n"
     ]
    },
    {
     "name": "stderr",
     "output_type": "stream",
     "text": [
      " 10%|█         | 31/300 [00:12<01:48,  2.48it/s]"
     ]
    },
    {
     "name": "stdout",
     "output_type": "stream",
     "text": [
      "\n",
      "epoch 31: test average loss: 8.987 | acc: 98.32% (469/477)\n",
      "EarlyStopping counter: 21/25 (best: 1.0000)\n",
      "\n",
      "epoch 32: train average loss: 1.610 | acc: 98.86% (4237/4286)\n"
     ]
    },
    {
     "name": "stderr",
     "output_type": "stream",
     "text": [
      " 11%|█         | 32/300 [00:12<01:49,  2.46it/s]"
     ]
    },
    {
     "name": "stdout",
     "output_type": "stream",
     "text": [
      "\n",
      "epoch 32: test average loss: 8.316 | acc: 98.32% (469/477)\n",
      "EarlyStopping counter: 22/25 (best: 1.0000)\n",
      "\n",
      "epoch 33: train average loss: 1.603 | acc: 99.23% (4253/4286)\n"
     ]
    },
    {
     "name": "stderr",
     "output_type": "stream",
     "text": [
      " 11%|█         | 33/300 [00:13<01:45,  2.52it/s]"
     ]
    },
    {
     "name": "stdout",
     "output_type": "stream",
     "text": [
      "\n",
      "epoch 33: test average loss: 9.627 | acc: 98.32% (469/477)\n",
      "EarlyStopping counter: 23/25 (best: 1.0000)\n",
      "\n",
      "epoch 34: train average loss: 1.593 | acc: 99.21% (4252/4286)\n"
     ]
    },
    {
     "name": "stderr",
     "output_type": "stream",
     "text": [
      " 11%|█▏        | 34/300 [00:13<01:46,  2.51it/s]"
     ]
    },
    {
     "name": "stdout",
     "output_type": "stream",
     "text": [
      "\n",
      "epoch 34: test average loss: 8.752 | acc: 98.74% (471/477)\n",
      "EarlyStopping counter: 24/25 (best: 1.0000)\n",
      "\n",
      "epoch 35: train average loss: 1.585 | acc: 99.44% (4262/4286)\n"
     ]
    },
    {
     "name": "stderr",
     "output_type": "stream",
     "text": [
      " 11%|█▏        | 34/300 [00:13<01:48,  2.45it/s]"
     ]
    },
    {
     "name": "stdout",
     "output_type": "stream",
     "text": [
      "\n",
      "epoch 35: test average loss: 7.765 | acc: 98.74% (471/477)\n",
      "EarlyStopping counter: 25/25 (best: 1.0000)\n",
      "🔴 Early stopping triggered\n",
      "load model at epoch 10, with test acc : 1.000\n"
     ]
    },
    {
     "name": "stderr",
     "output_type": "stream",
     "text": [
      "\n",
      "/tmp/ipykernel_3428831/1054042983.py:175: FutureWarning: You are using `torch.load` with `weights_only=False` (the current default value), which uses the default pickle module implicitly. It is possible to construct malicious pickle data which will execute arbitrary code during unpickling (See https://github.com/pytorch/pytorch/blob/main/SECURITY.md#untrusted-models for more details). In a future release, the default value for `weights_only` will be flipped to `True`. This limits the functions that could be executed during unpickling. Arbitrary objects will no longer be allowed to be loaded via this mode unless they are explicitly allowlisted by the user via `torch.serialization.add_safe_globals`. We recommend you start setting `weights_only=True` for any use case where you don't have full control of the loaded file. Please open an issue on GitHub for any issues related to this experimental feature.\n",
      "  checkpoint = torch.load(self.model_path)\n"
     ]
    },
    {
     "name": "stdout",
     "output_type": "stream",
     "text": [
      "total 1.0\n",
      "class 0 1.0\n",
      "class 1 1.0\n",
      "Train t-SNE interactive HTML saved to variant_lenet_best_test_accuracy_combined_train.html\n",
      "Test t-SNE interactive HTML saved to variant_lenet_best_test_accuracy_combined_test.html\n",
      "                      0\n",
      "Accuracy            1.0\n",
      "Recall       [1.0, 1.0]\n",
      "Specificity  [1.0, 1.0]\n",
      "Precision    [1.0, 1.0]\n",
      "F1 Score     [1.0, 1.0]\n",
      "2\n"
     ]
    },
    {
     "name": "stderr",
     "output_type": "stream",
     "text": [
      "  0%|          | 0/300 [00:00<?, ?it/s]"
     ]
    },
    {
     "name": "stdout",
     "output_type": "stream",
     "text": [
      "\n",
      "epoch 1: train average loss: 29.580 | acc: 54.76% (2347/4286)\n"
     ]
    },
    {
     "name": "stderr",
     "output_type": "stream",
     "text": [
      "  0%|          | 1/300 [00:00<02:08,  2.33it/s]"
     ]
    },
    {
     "name": "stdout",
     "output_type": "stream",
     "text": [
      "\n",
      "epoch 1: test average loss: 23.301 | acc: 96.02% (458/477)\n",
      "best test acc found\n",
      "\n",
      "epoch 2: train average loss: 21.744 | acc: 60.69% (2601/4286)\n"
     ]
    },
    {
     "name": "stderr",
     "output_type": "stream",
     "text": [
      "  1%|          | 2/300 [00:00<02:01,  2.44it/s]"
     ]
    },
    {
     "name": "stdout",
     "output_type": "stream",
     "text": [
      "\n",
      "epoch 2: test average loss: 21.024 | acc: 96.02% (458/477)\n",
      "EarlyStopping counter: 1/25 (best: 0.9602)\n",
      "\n",
      "epoch 3: train average loss: 17.959 | acc: 63.93% (2740/4286)\n"
     ]
    },
    {
     "name": "stderr",
     "output_type": "stream",
     "text": [
      "  1%|          | 3/300 [00:01<02:00,  2.47it/s]"
     ]
    },
    {
     "name": "stdout",
     "output_type": "stream",
     "text": [
      "\n",
      "epoch 3: test average loss: 21.279 | acc: 96.02% (458/477)\n",
      "EarlyStopping counter: 2/25 (best: 0.9602)\n",
      "\n",
      "epoch 4: train average loss: 16.343 | acc: 66.08% (2832/4286)\n"
     ]
    },
    {
     "name": "stderr",
     "output_type": "stream",
     "text": [
      "  1%|▏         | 4/300 [00:01<02:00,  2.46it/s]"
     ]
    },
    {
     "name": "stdout",
     "output_type": "stream",
     "text": [
      "\n",
      "epoch 4: test average loss: 20.253 | acc: 97.27% (464/477)\n",
      "best test acc found\n",
      "\n",
      "epoch 5: train average loss: 14.146 | acc: 69.48% (2978/4286)\n"
     ]
    },
    {
     "name": "stderr",
     "output_type": "stream",
     "text": [
      "  2%|▏         | 5/300 [00:02<02:01,  2.44it/s]"
     ]
    },
    {
     "name": "stdout",
     "output_type": "stream",
     "text": [
      "\n",
      "epoch 5: test average loss: 17.577 | acc: 97.90% (467/477)\n",
      "best test acc found\n",
      "\n",
      "epoch 6: train average loss: 11.712 | acc: 72.59% (3111/4286)\n"
     ]
    },
    {
     "name": "stderr",
     "output_type": "stream",
     "text": [
      "  2%|▏         | 6/300 [00:02<02:00,  2.45it/s]"
     ]
    },
    {
     "name": "stdout",
     "output_type": "stream",
     "text": [
      "\n",
      "epoch 6: test average loss: 11.828 | acc: 67.51% (322/477)\n",
      "EarlyStopping counter: 1/25 (best: 0.9790)\n",
      "\n",
      "epoch 7: train average loss: 9.635 | acc: 75.03% (3216/4286)\n"
     ]
    },
    {
     "name": "stderr",
     "output_type": "stream",
     "text": [
      "  2%|▏         | 7/300 [00:02<02:04,  2.36it/s]"
     ]
    },
    {
     "name": "stdout",
     "output_type": "stream",
     "text": [
      "\n",
      "epoch 7: test average loss: 12.875 | acc: 92.03% (439/477)\n",
      "EarlyStopping counter: 2/25 (best: 0.9790)\n",
      "\n",
      "epoch 8: train average loss: 7.755 | acc: 77.11% (3305/4286)\n"
     ]
    },
    {
     "name": "stderr",
     "output_type": "stream",
     "text": [
      "  3%|▎         | 8/300 [00:03<02:01,  2.40it/s]"
     ]
    },
    {
     "name": "stdout",
     "output_type": "stream",
     "text": [
      "\n",
      "epoch 8: test average loss: 12.563 | acc: 84.07% (401/477)\n",
      "EarlyStopping counter: 3/25 (best: 0.9790)\n",
      "\n",
      "epoch 9: train average loss: 5.428 | acc: 82.41% (3532/4286)\n"
     ]
    },
    {
     "name": "stderr",
     "output_type": "stream",
     "text": [
      "  3%|▎         | 9/300 [00:03<02:01,  2.39it/s]"
     ]
    },
    {
     "name": "stdout",
     "output_type": "stream",
     "text": [
      "\n",
      "epoch 9: test average loss: 14.030 | acc: 96.44% (460/477)\n",
      "EarlyStopping counter: 4/25 (best: 0.9790)\n",
      "\n",
      "epoch 10: train average loss: 4.038 | acc: 85.53% (3666/4286)\n"
     ]
    },
    {
     "name": "stderr",
     "output_type": "stream",
     "text": [
      "  3%|▎         | 10/300 [00:04<02:01,  2.39it/s]"
     ]
    },
    {
     "name": "stdout",
     "output_type": "stream",
     "text": [
      "\n",
      "epoch 10: test average loss: 8.296 | acc: 90.15% (430/477)\n",
      "EarlyStopping counter: 5/25 (best: 0.9790)\n",
      "\n",
      "epoch 11: train average loss: 3.135 | acc: 87.28% (3741/4286)\n"
     ]
    },
    {
     "name": "stderr",
     "output_type": "stream",
     "text": [
      "  4%|▎         | 11/300 [00:04<01:57,  2.45it/s]"
     ]
    },
    {
     "name": "stdout",
     "output_type": "stream",
     "text": [
      "\n",
      "epoch 11: test average loss: 17.219 | acc: 73.58% (351/477)\n",
      "EarlyStopping counter: 6/25 (best: 0.9790)\n",
      "\n",
      "epoch 12: train average loss: 3.666 | acc: 88.19% (3780/4286)\n"
     ]
    },
    {
     "name": "stderr",
     "output_type": "stream",
     "text": [
      "  4%|▍         | 12/300 [00:04<01:54,  2.51it/s]"
     ]
    },
    {
     "name": "stdout",
     "output_type": "stream",
     "text": [
      "\n",
      "epoch 12: test average loss: 10.174 | acc: 94.97% (453/477)\n",
      "EarlyStopping counter: 7/25 (best: 0.9790)\n",
      "\n",
      "epoch 13: train average loss: 2.059 | acc: 90.85% (3894/4286)\n"
     ]
    },
    {
     "name": "stderr",
     "output_type": "stream",
     "text": [
      "  4%|▍         | 13/300 [00:05<01:53,  2.54it/s]"
     ]
    },
    {
     "name": "stdout",
     "output_type": "stream",
     "text": [
      "\n",
      "epoch 13: test average loss: 7.682 | acc: 92.66% (442/477)\n",
      "EarlyStopping counter: 8/25 (best: 0.9790)\n",
      "\n",
      "epoch 14: train average loss: 2.177 | acc: 92.02% (3944/4286)\n"
     ]
    },
    {
     "name": "stderr",
     "output_type": "stream",
     "text": [
      "  5%|▍         | 14/300 [00:05<01:51,  2.57it/s]"
     ]
    },
    {
     "name": "stdout",
     "output_type": "stream",
     "text": [
      "\n",
      "epoch 14: test average loss: 8.916 | acc: 99.16% (473/477)\n",
      "best test acc found\n",
      "\n",
      "epoch 15: train average loss: 2.177 | acc: 93.42% (4004/4286)\n"
     ]
    },
    {
     "name": "stderr",
     "output_type": "stream",
     "text": [
      "  5%|▌         | 15/300 [00:06<01:49,  2.60it/s]"
     ]
    },
    {
     "name": "stdout",
     "output_type": "stream",
     "text": [
      "\n",
      "epoch 15: test average loss: 13.104 | acc: 96.23% (459/477)\n",
      "EarlyStopping counter: 1/25 (best: 0.9916)\n",
      "\n",
      "epoch 16: train average loss: 2.077 | acc: 94.96% (4070/4286)\n"
     ]
    },
    {
     "name": "stderr",
     "output_type": "stream",
     "text": [
      "  5%|▌         | 16/300 [00:06<01:49,  2.59it/s]"
     ]
    },
    {
     "name": "stdout",
     "output_type": "stream",
     "text": [
      "\n",
      "epoch 16: test average loss: 13.726 | acc: 81.76% (390/477)\n",
      "EarlyStopping counter: 2/25 (best: 0.9916)\n",
      "\n",
      "epoch 17: train average loss: 1.874 | acc: 95.71% (4102/4286)\n"
     ]
    },
    {
     "name": "stderr",
     "output_type": "stream",
     "text": [
      "  6%|▌         | 17/300 [00:06<01:49,  2.58it/s]"
     ]
    },
    {
     "name": "stdout",
     "output_type": "stream",
     "text": [
      "\n",
      "epoch 17: test average loss: 7.288 | acc: 96.23% (459/477)\n",
      "EarlyStopping counter: 3/25 (best: 0.9916)\n",
      "\n",
      "epoch 18: train average loss: 1.761 | acc: 95.66% (4100/4286)\n"
     ]
    },
    {
     "name": "stderr",
     "output_type": "stream",
     "text": [
      "  6%|▌         | 18/300 [00:07<01:48,  2.60it/s]"
     ]
    },
    {
     "name": "stdout",
     "output_type": "stream",
     "text": [
      "\n",
      "epoch 18: test average loss: 10.746 | acc: 91.82% (438/477)\n",
      "EarlyStopping counter: 4/25 (best: 0.9916)\n",
      "\n",
      "epoch 19: train average loss: 1.712 | acc: 97.22% (4167/4286)\n"
     ]
    },
    {
     "name": "stderr",
     "output_type": "stream",
     "text": [
      "  6%|▋         | 19/300 [00:07<01:47,  2.61it/s]"
     ]
    },
    {
     "name": "stdout",
     "output_type": "stream",
     "text": [
      "\n",
      "epoch 19: test average loss: 4.878 | acc: 95.81% (457/477)\n",
      "EarlyStopping counter: 5/25 (best: 0.9916)\n",
      "\n",
      "epoch 20: train average loss: 1.701 | acc: 97.29% (4170/4286)\n"
     ]
    },
    {
     "name": "stderr",
     "output_type": "stream",
     "text": [
      "  7%|▋         | 20/300 [00:07<01:46,  2.63it/s]"
     ]
    },
    {
     "name": "stdout",
     "output_type": "stream",
     "text": [
      "\n",
      "epoch 20: test average loss: 3.313 | acc: 96.65% (461/477)\n",
      "EarlyStopping counter: 6/25 (best: 0.9916)\n",
      "\n",
      "epoch 21: train average loss: 1.676 | acc: 97.08% (4161/4286)\n"
     ]
    },
    {
     "name": "stderr",
     "output_type": "stream",
     "text": [
      "  7%|▋         | 21/300 [00:08<01:46,  2.61it/s]"
     ]
    },
    {
     "name": "stdout",
     "output_type": "stream",
     "text": [
      "\n",
      "epoch 21: test average loss: 2.983 | acc: 95.81% (457/477)\n",
      "EarlyStopping counter: 7/25 (best: 0.9916)\n",
      "\n",
      "epoch 22: train average loss: 1.664 | acc: 98.25% (4211/4286)\n"
     ]
    },
    {
     "name": "stderr",
     "output_type": "stream",
     "text": [
      "  7%|▋         | 22/300 [00:08<01:50,  2.53it/s]"
     ]
    },
    {
     "name": "stdout",
     "output_type": "stream",
     "text": [
      "\n",
      "epoch 22: test average loss: 2.011 | acc: 97.69% (466/477)\n",
      "EarlyStopping counter: 8/25 (best: 0.9916)\n",
      "\n",
      "epoch 23: train average loss: 1.652 | acc: 98.44% (4219/4286)\n"
     ]
    },
    {
     "name": "stderr",
     "output_type": "stream",
     "text": [
      "  8%|▊         | 23/300 [00:09<01:54,  2.43it/s]"
     ]
    },
    {
     "name": "stdout",
     "output_type": "stream",
     "text": [
      "\n",
      "epoch 23: test average loss: 2.088 | acc: 98.11% (468/477)\n",
      "EarlyStopping counter: 9/25 (best: 0.9916)\n",
      "\n",
      "epoch 24: train average loss: 1.643 | acc: 97.83% (4193/4286)\n"
     ]
    },
    {
     "name": "stderr",
     "output_type": "stream",
     "text": [
      "  8%|▊         | 24/300 [00:09<01:55,  2.39it/s]"
     ]
    },
    {
     "name": "stdout",
     "output_type": "stream",
     "text": [
      "\n",
      "epoch 24: test average loss: 2.004 | acc: 96.86% (462/477)\n",
      "EarlyStopping counter: 10/25 (best: 0.9916)\n",
      "\n",
      "epoch 25: train average loss: 1.630 | acc: 98.41% (4218/4286)\n"
     ]
    },
    {
     "name": "stderr",
     "output_type": "stream",
     "text": [
      "  8%|▊         | 25/300 [00:10<01:53,  2.42it/s]"
     ]
    },
    {
     "name": "stdout",
     "output_type": "stream",
     "text": [
      "\n",
      "epoch 25: test average loss: 2.008 | acc: 97.27% (464/477)\n",
      "EarlyStopping counter: 11/25 (best: 0.9916)\n",
      "\n",
      "epoch 26: train average loss: 1.622 | acc: 98.74% (4232/4286)\n"
     ]
    },
    {
     "name": "stderr",
     "output_type": "stream",
     "text": [
      "  9%|▊         | 26/300 [00:10<01:51,  2.45it/s]"
     ]
    },
    {
     "name": "stdout",
     "output_type": "stream",
     "text": [
      "\n",
      "epoch 26: test average loss: 1.909 | acc: 97.27% (464/477)\n",
      "EarlyStopping counter: 12/25 (best: 0.9916)\n",
      "\n",
      "epoch 27: train average loss: 1.625 | acc: 98.86% (4237/4286)\n"
     ]
    },
    {
     "name": "stderr",
     "output_type": "stream",
     "text": [
      "  9%|▉         | 27/300 [00:10<01:50,  2.48it/s]"
     ]
    },
    {
     "name": "stdout",
     "output_type": "stream",
     "text": [
      "\n",
      "epoch 27: test average loss: 1.946 | acc: 97.48% (465/477)\n",
      "EarlyStopping counter: 13/25 (best: 0.9916)\n",
      "\n",
      "epoch 28: train average loss: 1.606 | acc: 99.14% (4249/4286)\n"
     ]
    },
    {
     "name": "stderr",
     "output_type": "stream",
     "text": [
      "  9%|▉         | 28/300 [00:11<01:49,  2.48it/s]"
     ]
    },
    {
     "name": "stdout",
     "output_type": "stream",
     "text": [
      "\n",
      "epoch 28: test average loss: 2.017 | acc: 97.48% (465/477)\n",
      "EarlyStopping counter: 14/25 (best: 0.9916)\n",
      "\n",
      "epoch 29: train average loss: 1.596 | acc: 99.14% (4249/4286)\n"
     ]
    },
    {
     "name": "stderr",
     "output_type": "stream",
     "text": [
      " 10%|▉         | 29/300 [00:11<01:48,  2.50it/s]"
     ]
    },
    {
     "name": "stdout",
     "output_type": "stream",
     "text": [
      "\n",
      "epoch 29: test average loss: 2.045 | acc: 97.48% (465/477)\n",
      "EarlyStopping counter: 15/25 (best: 0.9916)\n",
      "\n",
      "epoch 30: train average loss: 1.591 | acc: 98.93% (4240/4286)\n"
     ]
    },
    {
     "name": "stderr",
     "output_type": "stream",
     "text": [
      " 10%|█         | 30/300 [00:12<01:48,  2.50it/s]"
     ]
    },
    {
     "name": "stdout",
     "output_type": "stream",
     "text": [
      "\n",
      "epoch 30: test average loss: 2.070 | acc: 97.90% (467/477)\n",
      "EarlyStopping counter: 16/25 (best: 0.9916)\n",
      "\n",
      "epoch 31: train average loss: 1.581 | acc: 99.32% (4257/4286)\n"
     ]
    },
    {
     "name": "stderr",
     "output_type": "stream",
     "text": [
      " 10%|█         | 31/300 [00:12<01:46,  2.51it/s]"
     ]
    },
    {
     "name": "stdout",
     "output_type": "stream",
     "text": [
      "\n",
      "epoch 31: test average loss: 1.880 | acc: 97.48% (465/477)\n",
      "EarlyStopping counter: 17/25 (best: 0.9916)\n",
      "\n",
      "epoch 32: train average loss: 1.583 | acc: 99.04% (4245/4286)\n"
     ]
    },
    {
     "name": "stderr",
     "output_type": "stream",
     "text": [
      " 11%|█         | 32/300 [00:12<01:46,  2.51it/s]"
     ]
    },
    {
     "name": "stdout",
     "output_type": "stream",
     "text": [
      "\n",
      "epoch 32: test average loss: 1.894 | acc: 98.11% (468/477)\n",
      "EarlyStopping counter: 18/25 (best: 0.9916)\n",
      "\n",
      "epoch 33: train average loss: 1.577 | acc: 99.49% (4264/4286)\n"
     ]
    },
    {
     "name": "stderr",
     "output_type": "stream",
     "text": [
      " 11%|█         | 33/300 [00:13<01:45,  2.52it/s]"
     ]
    },
    {
     "name": "stdout",
     "output_type": "stream",
     "text": [
      "\n",
      "epoch 33: test average loss: 1.849 | acc: 97.90% (467/477)\n",
      "EarlyStopping counter: 19/25 (best: 0.9916)\n",
      "\n",
      "epoch 34: train average loss: 1.567 | acc: 99.23% (4253/4286)\n"
     ]
    },
    {
     "name": "stderr",
     "output_type": "stream",
     "text": [
      " 11%|█▏        | 34/300 [00:13<01:45,  2.51it/s]"
     ]
    },
    {
     "name": "stdout",
     "output_type": "stream",
     "text": [
      "\n",
      "epoch 34: test average loss: 1.875 | acc: 98.11% (468/477)\n",
      "EarlyStopping counter: 20/25 (best: 0.9916)\n",
      "\n",
      "epoch 35: train average loss: 1.563 | acc: 99.44% (4262/4286)\n"
     ]
    },
    {
     "name": "stderr",
     "output_type": "stream",
     "text": [
      " 12%|█▏        | 35/300 [00:14<01:45,  2.51it/s]"
     ]
    },
    {
     "name": "stdout",
     "output_type": "stream",
     "text": [
      "\n",
      "epoch 35: test average loss: 1.866 | acc: 98.11% (468/477)\n",
      "EarlyStopping counter: 21/25 (best: 0.9916)\n",
      "\n",
      "epoch 36: train average loss: 1.556 | acc: 99.63% (4270/4286)\n"
     ]
    },
    {
     "name": "stderr",
     "output_type": "stream",
     "text": [
      " 12%|█▏        | 36/300 [00:14<01:44,  2.54it/s]"
     ]
    },
    {
     "name": "stdout",
     "output_type": "stream",
     "text": [
      "\n",
      "epoch 36: test average loss: 1.865 | acc: 98.11% (468/477)\n",
      "EarlyStopping counter: 22/25 (best: 0.9916)\n",
      "\n",
      "epoch 37: train average loss: 1.552 | acc: 99.42% (4261/4286)\n"
     ]
    },
    {
     "name": "stderr",
     "output_type": "stream",
     "text": [
      " 12%|█▏        | 37/300 [00:14<01:42,  2.55it/s]"
     ]
    },
    {
     "name": "stdout",
     "output_type": "stream",
     "text": [
      "\n",
      "epoch 37: test average loss: 1.919 | acc: 97.90% (467/477)\n",
      "EarlyStopping counter: 23/25 (best: 0.9916)\n",
      "\n",
      "epoch 38: train average loss: 1.547 | acc: 99.56% (4267/4286)\n"
     ]
    },
    {
     "name": "stderr",
     "output_type": "stream",
     "text": [
      " 13%|█▎        | 38/300 [00:15<01:41,  2.57it/s]"
     ]
    },
    {
     "name": "stdout",
     "output_type": "stream",
     "text": [
      "\n",
      "epoch 38: test average loss: 1.943 | acc: 97.69% (466/477)\n",
      "EarlyStopping counter: 24/25 (best: 0.9916)\n",
      "\n",
      "epoch 39: train average loss: 1.544 | acc: 99.49% (4264/4286)\n"
     ]
    },
    {
     "name": "stderr",
     "output_type": "stream",
     "text": [
      " 13%|█▎        | 38/300 [00:15<01:47,  2.44it/s]"
     ]
    },
    {
     "name": "stdout",
     "output_type": "stream",
     "text": [
      "\n",
      "epoch 39: test average loss: 1.914 | acc: 98.11% (468/477)\n",
      "EarlyStopping counter: 25/25 (best: 0.9916)\n",
      "🔴 Early stopping triggered\n",
      "load model at epoch 14, with test acc : 0.992\n"
     ]
    },
    {
     "name": "stderr",
     "output_type": "stream",
     "text": [
      "\n",
      "/tmp/ipykernel_3428831/1054042983.py:175: FutureWarning:\n",
      "\n",
      "You are using `torch.load` with `weights_only=False` (the current default value), which uses the default pickle module implicitly. It is possible to construct malicious pickle data which will execute arbitrary code during unpickling (See https://github.com/pytorch/pytorch/blob/main/SECURITY.md#untrusted-models for more details). In a future release, the default value for `weights_only` will be flipped to `True`. This limits the functions that could be executed during unpickling. Arbitrary objects will no longer be allowed to be loaded via this mode unless they are explicitly allowlisted by the user via `torch.serialization.add_safe_globals`. We recommend you start setting `weights_only=True` for any use case where you don't have full control of the loaded file. Please open an issue on GitHub for any issues related to this experimental feature.\n",
      "\n"
     ]
    },
    {
     "name": "stdout",
     "output_type": "stream",
     "text": [
      "total 0.9916142557651991\n",
      "class 0 1.0\n",
      "class 1 0.9912663755458515\n",
      "Train t-SNE interactive HTML saved to variant_lenet_low_test_accuracy_combined_train.html\n",
      "Test t-SNE interactive HTML saved to variant_lenet_low_test_accuracy_combined_test.html\n",
      "                            0\n",
      "Accuracy               0.9916\n",
      "Recall          [1.0, 0.9913]\n",
      "Specificity     [0.9913, 1.0]\n",
      "Precision       [0.8261, 1.0]\n",
      "F1 Score     [0.9048, 0.9956]\n",
      "3\n"
     ]
    },
    {
     "name": "stderr",
     "output_type": "stream",
     "text": [
      "  0%|          | 0/300 [00:00<?, ?it/s]"
     ]
    },
    {
     "name": "stdout",
     "output_type": "stream",
     "text": [
      "\n",
      "epoch 1: train average loss: 30.432 | acc: 51.49% (2207/4286)\n"
     ]
    },
    {
     "name": "stderr",
     "output_type": "stream",
     "text": [
      "  0%|          | 1/300 [00:00<02:03,  2.43it/s]"
     ]
    },
    {
     "name": "stdout",
     "output_type": "stream",
     "text": [
      "\n",
      "epoch 1: test average loss: 25.931 | acc: 96.02% (458/477)\n",
      "best test acc found\n",
      "\n",
      "epoch 2: train average loss: 23.194 | acc: 53.97% (2313/4286)\n"
     ]
    },
    {
     "name": "stderr",
     "output_type": "stream",
     "text": [
      "  1%|          | 2/300 [00:00<02:01,  2.45it/s]"
     ]
    },
    {
     "name": "stdout",
     "output_type": "stream",
     "text": [
      "\n",
      "epoch 2: test average loss: 21.176 | acc: 96.02% (458/477)\n",
      "EarlyStopping counter: 1/25 (best: 0.9602)\n",
      "\n",
      "epoch 3: train average loss: 19.710 | acc: 59.87% (2566/4286)\n"
     ]
    },
    {
     "name": "stderr",
     "output_type": "stream",
     "text": [
      "  1%|          | 3/300 [00:01<02:04,  2.39it/s]"
     ]
    },
    {
     "name": "stdout",
     "output_type": "stream",
     "text": [
      "\n",
      "epoch 3: test average loss: 21.494 | acc: 96.02% (458/477)\n",
      "EarlyStopping counter: 2/25 (best: 0.9602)\n",
      "\n",
      "epoch 4: train average loss: 16.532 | acc: 64.68% (2772/4286)\n"
     ]
    },
    {
     "name": "stderr",
     "output_type": "stream",
     "text": [
      "  1%|▏         | 4/300 [00:01<02:01,  2.43it/s]"
     ]
    },
    {
     "name": "stdout",
     "output_type": "stream",
     "text": [
      "\n",
      "epoch 4: test average loss: 20.225 | acc: 97.48% (465/477)\n",
      "best test acc found\n",
      "\n",
      "epoch 5: train average loss: 14.399 | acc: 67.59% (2897/4286)\n"
     ]
    },
    {
     "name": "stderr",
     "output_type": "stream",
     "text": [
      "  2%|▏         | 5/300 [00:02<01:59,  2.47it/s]"
     ]
    },
    {
     "name": "stdout",
     "output_type": "stream",
     "text": [
      "\n",
      "epoch 5: test average loss: 18.619 | acc: 85.95% (410/477)\n",
      "EarlyStopping counter: 1/25 (best: 0.9748)\n",
      "\n",
      "epoch 6: train average loss: 12.815 | acc: 69.69% (2987/4286)\n"
     ]
    },
    {
     "name": "stderr",
     "output_type": "stream",
     "text": [
      "  2%|▏         | 6/300 [00:02<01:56,  2.53it/s]"
     ]
    },
    {
     "name": "stdout",
     "output_type": "stream",
     "text": [
      "\n",
      "epoch 6: test average loss: 26.123 | acc: 33.54% (160/477)\n",
      "EarlyStopping counter: 2/25 (best: 0.9748)\n",
      "\n",
      "epoch 7: train average loss: 12.532 | acc: 72.00% (3086/4286)\n"
     ]
    },
    {
     "name": "stderr",
     "output_type": "stream",
     "text": [
      "  2%|▏         | 7/300 [00:02<01:54,  2.56it/s]"
     ]
    },
    {
     "name": "stdout",
     "output_type": "stream",
     "text": [
      "\n",
      "epoch 7: test average loss: 15.815 | acc: 96.65% (461/477)\n",
      "EarlyStopping counter: 3/25 (best: 0.9748)\n",
      "\n",
      "epoch 8: train average loss: 11.429 | acc: 75.43% (3233/4286)\n"
     ]
    },
    {
     "name": "stderr",
     "output_type": "stream",
     "text": [
      "  3%|▎         | 8/300 [00:03<01:52,  2.60it/s]"
     ]
    },
    {
     "name": "stdout",
     "output_type": "stream",
     "text": [
      "\n",
      "epoch 8: test average loss: 12.894 | acc: 79.25% (378/477)\n",
      "EarlyStopping counter: 4/25 (best: 0.9748)\n",
      "\n",
      "epoch 9: train average loss: 7.826 | acc: 78.28% (3355/4286)\n"
     ]
    },
    {
     "name": "stderr",
     "output_type": "stream",
     "text": [
      "  3%|▎         | 9/300 [00:03<01:51,  2.61it/s]"
     ]
    },
    {
     "name": "stdout",
     "output_type": "stream",
     "text": [
      "\n",
      "epoch 9: test average loss: 12.496 | acc: 94.55% (451/477)\n",
      "EarlyStopping counter: 5/25 (best: 0.9748)\n",
      "\n",
      "epoch 10: train average loss: 5.703 | acc: 79.79% (3420/4286)\n"
     ]
    },
    {
     "name": "stderr",
     "output_type": "stream",
     "text": [
      "  3%|▎         | 10/300 [00:03<01:50,  2.63it/s]"
     ]
    },
    {
     "name": "stdout",
     "output_type": "stream",
     "text": [
      "\n",
      "epoch 10: test average loss: 8.626 | acc: 83.02% (396/477)\n",
      "EarlyStopping counter: 6/25 (best: 0.9748)\n",
      "\n",
      "epoch 11: train average loss: 4.096 | acc: 84.67% (3629/4286)\n"
     ]
    },
    {
     "name": "stderr",
     "output_type": "stream",
     "text": [
      "  4%|▎         | 11/300 [00:04<01:51,  2.59it/s]"
     ]
    },
    {
     "name": "stdout",
     "output_type": "stream",
     "text": [
      "\n",
      "epoch 11: test average loss: 9.534 | acc: 90.99% (434/477)\n",
      "EarlyStopping counter: 7/25 (best: 0.9748)\n",
      "\n",
      "epoch 12: train average loss: 2.944 | acc: 86.42% (3704/4286)\n"
     ]
    },
    {
     "name": "stderr",
     "output_type": "stream",
     "text": [
      "  4%|▍         | 12/300 [00:04<01:50,  2.60it/s]"
     ]
    },
    {
     "name": "stdout",
     "output_type": "stream",
     "text": [
      "\n",
      "epoch 12: test average loss: 11.586 | acc: 96.23% (459/477)\n",
      "EarlyStopping counter: 8/25 (best: 0.9748)\n",
      "\n",
      "epoch 13: train average loss: 2.371 | acc: 89.31% (3828/4286)\n"
     ]
    },
    {
     "name": "stderr",
     "output_type": "stream",
     "text": [
      "  4%|▍         | 13/300 [00:05<01:51,  2.58it/s]"
     ]
    },
    {
     "name": "stdout",
     "output_type": "stream",
     "text": [
      "\n",
      "epoch 13: test average loss: 10.964 | acc: 95.81% (457/477)\n",
      "EarlyStopping counter: 9/25 (best: 0.9748)\n",
      "\n",
      "epoch 14: train average loss: 1.994 | acc: 91.69% (3930/4286)\n"
     ]
    },
    {
     "name": "stderr",
     "output_type": "stream",
     "text": [
      "  5%|▍         | 14/300 [00:05<01:51,  2.56it/s]"
     ]
    },
    {
     "name": "stdout",
     "output_type": "stream",
     "text": [
      "\n",
      "epoch 14: test average loss: 13.612 | acc: 99.16% (473/477)\n",
      "best test acc found\n",
      "\n",
      "epoch 15: train average loss: 2.193 | acc: 91.34% (3915/4286)\n"
     ]
    },
    {
     "name": "stderr",
     "output_type": "stream",
     "text": [
      "  5%|▌         | 15/300 [00:05<01:50,  2.59it/s]"
     ]
    },
    {
     "name": "stdout",
     "output_type": "stream",
     "text": [
      "\n",
      "epoch 15: test average loss: 10.765 | acc: 81.55% (389/477)\n",
      "EarlyStopping counter: 1/25 (best: 0.9916)\n",
      "\n",
      "epoch 16: train average loss: 2.358 | acc: 94.56% (4053/4286)\n"
     ]
    },
    {
     "name": "stderr",
     "output_type": "stream",
     "text": [
      "  5%|▌         | 16/300 [00:06<01:51,  2.55it/s]"
     ]
    },
    {
     "name": "stdout",
     "output_type": "stream",
     "text": [
      "\n",
      "epoch 16: test average loss: 14.555 | acc: 96.65% (461/477)\n",
      "EarlyStopping counter: 2/25 (best: 0.9916)\n",
      "\n",
      "epoch 17: train average loss: 2.982 | acc: 91.97% (3942/4286)\n"
     ]
    },
    {
     "name": "stderr",
     "output_type": "stream",
     "text": [
      "  6%|▌         | 17/300 [00:06<01:54,  2.46it/s]"
     ]
    },
    {
     "name": "stdout",
     "output_type": "stream",
     "text": [
      "\n",
      "epoch 17: test average loss: 13.863 | acc: 97.06% (463/477)\n",
      "EarlyStopping counter: 3/25 (best: 0.9916)\n",
      "\n",
      "epoch 18: train average loss: 2.812 | acc: 95.01% (4072/4286)\n"
     ]
    },
    {
     "name": "stderr",
     "output_type": "stream",
     "text": [
      "  6%|▌         | 18/300 [00:07<01:54,  2.46it/s]"
     ]
    },
    {
     "name": "stdout",
     "output_type": "stream",
     "text": [
      "\n",
      "epoch 18: test average loss: 15.569 | acc: 99.16% (473/477)\n",
      "EarlyStopping counter: 4/25 (best: 0.9916)\n",
      "\n",
      "epoch 19: train average loss: 2.083 | acc: 94.59% (4054/4286)\n"
     ]
    },
    {
     "name": "stderr",
     "output_type": "stream",
     "text": [
      "  6%|▋         | 19/300 [00:07<01:59,  2.34it/s]"
     ]
    },
    {
     "name": "stdout",
     "output_type": "stream",
     "text": [
      "\n",
      "epoch 19: test average loss: 11.143 | acc: 88.68% (423/477)\n",
      "EarlyStopping counter: 5/25 (best: 0.9916)\n",
      "\n",
      "epoch 20: train average loss: 1.917 | acc: 96.10% (4119/4286)\n"
     ]
    },
    {
     "name": "stderr",
     "output_type": "stream",
     "text": [
      "  7%|▋         | 20/300 [00:08<01:58,  2.37it/s]"
     ]
    },
    {
     "name": "stdout",
     "output_type": "stream",
     "text": [
      "\n",
      "epoch 20: test average loss: 12.789 | acc: 99.16% (473/477)\n",
      "EarlyStopping counter: 6/25 (best: 0.9916)\n",
      "\n",
      "epoch 21: train average loss: 1.831 | acc: 95.99% (4114/4286)\n"
     ]
    },
    {
     "name": "stderr",
     "output_type": "stream",
     "text": [
      "  7%|▋         | 21/300 [00:08<01:57,  2.38it/s]"
     ]
    },
    {
     "name": "stdout",
     "output_type": "stream",
     "text": [
      "\n",
      "epoch 21: test average loss: 5.904 | acc: 91.40% (436/477)\n",
      "EarlyStopping counter: 7/25 (best: 0.9916)\n",
      "\n",
      "epoch 22: train average loss: 1.778 | acc: 96.80% (4149/4286)\n"
     ]
    },
    {
     "name": "stderr",
     "output_type": "stream",
     "text": [
      "  7%|▋         | 22/300 [00:08<02:07,  2.18it/s]"
     ]
    },
    {
     "name": "stdout",
     "output_type": "stream",
     "text": [
      "\n",
      "epoch 22: test average loss: 7.189 | acc: 96.86% (462/477)\n",
      "EarlyStopping counter: 8/25 (best: 0.9916)\n",
      "\n",
      "epoch 23: train average loss: 1.743 | acc: 97.27% (4169/4286)\n"
     ]
    },
    {
     "name": "stderr",
     "output_type": "stream",
     "text": [
      "  8%|▊         | 23/300 [00:09<02:13,  2.07it/s]"
     ]
    },
    {
     "name": "stdout",
     "output_type": "stream",
     "text": [
      "\n",
      "epoch 23: test average loss: 7.813 | acc: 98.53% (470/477)\n",
      "EarlyStopping counter: 9/25 (best: 0.9916)\n",
      "\n",
      "epoch 24: train average loss: 1.723 | acc: 97.11% (4162/4286)\n"
     ]
    },
    {
     "name": "stderr",
     "output_type": "stream",
     "text": [
      "  8%|▊         | 24/300 [00:10<02:16,  2.03it/s]"
     ]
    },
    {
     "name": "stdout",
     "output_type": "stream",
     "text": [
      "\n",
      "epoch 24: test average loss: 8.269 | acc: 97.27% (464/477)\n",
      "EarlyStopping counter: 10/25 (best: 0.9916)\n",
      "\n",
      "epoch 25: train average loss: 1.717 | acc: 97.78% (4191/4286)\n"
     ]
    },
    {
     "name": "stderr",
     "output_type": "stream",
     "text": [
      "  8%|▊         | 25/300 [00:10<02:11,  2.10it/s]"
     ]
    },
    {
     "name": "stdout",
     "output_type": "stream",
     "text": [
      "\n",
      "epoch 25: test average loss: 8.372 | acc: 98.32% (469/477)\n",
      "EarlyStopping counter: 11/25 (best: 0.9916)\n",
      "\n",
      "epoch 26: train average loss: 1.698 | acc: 98.09% (4204/4286)\n"
     ]
    },
    {
     "name": "stderr",
     "output_type": "stream",
     "text": [
      "  9%|▊         | 26/300 [00:10<02:04,  2.19it/s]"
     ]
    },
    {
     "name": "stdout",
     "output_type": "stream",
     "text": [
      "\n",
      "epoch 26: test average loss: 8.330 | acc: 98.11% (468/477)\n",
      "EarlyStopping counter: 12/25 (best: 0.9916)\n",
      "\n",
      "epoch 27: train average loss: 1.692 | acc: 98.44% (4219/4286)\n"
     ]
    },
    {
     "name": "stderr",
     "output_type": "stream",
     "text": [
      "  9%|▉         | 27/300 [00:11<02:00,  2.27it/s]"
     ]
    },
    {
     "name": "stdout",
     "output_type": "stream",
     "text": [
      "\n",
      "epoch 27: test average loss: 8.283 | acc: 98.11% (468/477)\n",
      "EarlyStopping counter: 13/25 (best: 0.9916)\n",
      "\n",
      "epoch 28: train average loss: 1.681 | acc: 98.34% (4215/4286)\n"
     ]
    },
    {
     "name": "stderr",
     "output_type": "stream",
     "text": [
      "  9%|▉         | 28/300 [00:11<01:59,  2.27it/s]"
     ]
    },
    {
     "name": "stdout",
     "output_type": "stream",
     "text": [
      "\n",
      "epoch 28: test average loss: 8.303 | acc: 97.90% (467/477)\n",
      "EarlyStopping counter: 14/25 (best: 0.9916)\n",
      "\n",
      "epoch 29: train average loss: 1.676 | acc: 98.13% (4206/4286)\n"
     ]
    },
    {
     "name": "stderr",
     "output_type": "stream",
     "text": [
      " 10%|▉         | 29/300 [00:12<01:55,  2.34it/s]"
     ]
    },
    {
     "name": "stdout",
     "output_type": "stream",
     "text": [
      "\n",
      "epoch 29: test average loss: 8.542 | acc: 98.32% (469/477)\n",
      "EarlyStopping counter: 15/25 (best: 0.9916)\n",
      "\n",
      "epoch 30: train average loss: 1.664 | acc: 98.58% (4225/4286)\n"
     ]
    },
    {
     "name": "stderr",
     "output_type": "stream",
     "text": [
      " 10%|█         | 30/300 [00:12<01:53,  2.38it/s]"
     ]
    },
    {
     "name": "stdout",
     "output_type": "stream",
     "text": [
      "\n",
      "epoch 30: test average loss: 8.545 | acc: 98.32% (469/477)\n",
      "EarlyStopping counter: 16/25 (best: 0.9916)\n",
      "\n",
      "epoch 31: train average loss: 1.651 | acc: 98.86% (4237/4286)\n"
     ]
    },
    {
     "name": "stderr",
     "output_type": "stream",
     "text": [
      " 10%|█         | 31/300 [00:12<01:52,  2.40it/s]"
     ]
    },
    {
     "name": "stdout",
     "output_type": "stream",
     "text": [
      "\n",
      "epoch 31: test average loss: 8.679 | acc: 99.37% (474/477)\n",
      "best test acc found\n",
      "\n",
      "epoch 32: train average loss: 1.651 | acc: 98.69% (4230/4286)\n"
     ]
    },
    {
     "name": "stderr",
     "output_type": "stream",
     "text": [
      " 11%|█         | 32/300 [00:13<01:49,  2.46it/s]"
     ]
    },
    {
     "name": "stdout",
     "output_type": "stream",
     "text": [
      "\n",
      "epoch 32: test average loss: 8.685 | acc: 98.32% (469/477)\n",
      "EarlyStopping counter: 1/25 (best: 0.9937)\n",
      "\n",
      "epoch 33: train average loss: 1.642 | acc: 98.53% (4223/4286)\n"
     ]
    },
    {
     "name": "stderr",
     "output_type": "stream",
     "text": [
      " 11%|█         | 33/300 [00:13<01:46,  2.51it/s]"
     ]
    },
    {
     "name": "stdout",
     "output_type": "stream",
     "text": [
      "\n",
      "epoch 33: test average loss: 8.487 | acc: 98.11% (468/477)\n",
      "EarlyStopping counter: 2/25 (best: 0.9937)\n",
      "\n",
      "epoch 34: train average loss: 1.631 | acc: 99.25% (4254/4286)\n"
     ]
    },
    {
     "name": "stderr",
     "output_type": "stream",
     "text": [
      " 11%|█▏        | 34/300 [00:14<01:45,  2.51it/s]"
     ]
    },
    {
     "name": "stdout",
     "output_type": "stream",
     "text": [
      "\n",
      "epoch 34: test average loss: 8.703 | acc: 99.16% (473/477)\n",
      "EarlyStopping counter: 3/25 (best: 0.9937)\n",
      "\n",
      "epoch 35: train average loss: 1.624 | acc: 99.14% (4249/4286)\n"
     ]
    },
    {
     "name": "stderr",
     "output_type": "stream",
     "text": [
      " 12%|█▏        | 35/300 [00:14<01:43,  2.55it/s]"
     ]
    },
    {
     "name": "stdout",
     "output_type": "stream",
     "text": [
      "\n",
      "epoch 35: test average loss: 8.790 | acc: 99.16% (473/477)\n",
      "EarlyStopping counter: 4/25 (best: 0.9937)\n",
      "\n",
      "epoch 36: train average loss: 1.618 | acc: 99.00% (4243/4286)\n"
     ]
    },
    {
     "name": "stderr",
     "output_type": "stream",
     "text": [
      " 12%|█▏        | 36/300 [00:14<01:42,  2.58it/s]"
     ]
    },
    {
     "name": "stdout",
     "output_type": "stream",
     "text": [
      "\n",
      "epoch 36: test average loss: 8.892 | acc: 99.58% (475/477)\n",
      "best test acc found\n",
      "\n",
      "epoch 37: train average loss: 1.615 | acc: 99.11% (4248/4286)\n"
     ]
    },
    {
     "name": "stderr",
     "output_type": "stream",
     "text": [
      " 12%|█▏        | 37/300 [00:15<01:41,  2.60it/s]"
     ]
    },
    {
     "name": "stdout",
     "output_type": "stream",
     "text": [
      "\n",
      "epoch 37: test average loss: 8.754 | acc: 99.16% (473/477)\n",
      "EarlyStopping counter: 1/25 (best: 0.9958)\n",
      "\n",
      "epoch 38: train average loss: 1.613 | acc: 99.39% (4260/4286)\n"
     ]
    },
    {
     "name": "stderr",
     "output_type": "stream",
     "text": [
      " 13%|█▎        | 38/300 [00:15<01:40,  2.60it/s]"
     ]
    },
    {
     "name": "stdout",
     "output_type": "stream",
     "text": [
      "\n",
      "epoch 38: test average loss: 8.985 | acc: 99.37% (474/477)\n",
      "EarlyStopping counter: 2/25 (best: 0.9958)\n",
      "\n",
      "epoch 39: train average loss: 1.606 | acc: 99.18% (4251/4286)\n"
     ]
    },
    {
     "name": "stderr",
     "output_type": "stream",
     "text": [
      " 13%|█▎        | 39/300 [00:15<01:40,  2.60it/s]"
     ]
    },
    {
     "name": "stdout",
     "output_type": "stream",
     "text": [
      "\n",
      "epoch 39: test average loss: 8.692 | acc: 99.16% (473/477)\n",
      "EarlyStopping counter: 3/25 (best: 0.9958)\n",
      "\n",
      "epoch 40: train average loss: 1.599 | acc: 99.32% (4257/4286)\n"
     ]
    },
    {
     "name": "stderr",
     "output_type": "stream",
     "text": [
      " 13%|█▎        | 40/300 [00:16<01:39,  2.62it/s]"
     ]
    },
    {
     "name": "stdout",
     "output_type": "stream",
     "text": [
      "\n",
      "epoch 40: test average loss: 8.800 | acc: 99.37% (474/477)\n",
      "EarlyStopping counter: 4/25 (best: 0.9958)\n",
      "\n",
      "epoch 41: train average loss: 1.594 | acc: 99.42% (4261/4286)\n"
     ]
    },
    {
     "name": "stderr",
     "output_type": "stream",
     "text": [
      " 14%|█▎        | 41/300 [00:16<01:40,  2.58it/s]"
     ]
    },
    {
     "name": "stdout",
     "output_type": "stream",
     "text": [
      "\n",
      "epoch 41: test average loss: 9.071 | acc: 99.37% (474/477)\n",
      "EarlyStopping counter: 5/25 (best: 0.9958)\n",
      "\n",
      "epoch 42: train average loss: 1.597 | acc: 99.46% (4263/4286)\n"
     ]
    },
    {
     "name": "stderr",
     "output_type": "stream",
     "text": [
      " 14%|█▍        | 42/300 [00:17<01:43,  2.50it/s]"
     ]
    },
    {
     "name": "stdout",
     "output_type": "stream",
     "text": [
      "\n",
      "epoch 42: test average loss: 8.895 | acc: 99.58% (475/477)\n",
      "EarlyStopping counter: 6/25 (best: 0.9958)\n",
      "\n",
      "epoch 43: train average loss: 1.592 | acc: 99.16% (4250/4286)\n"
     ]
    },
    {
     "name": "stderr",
     "output_type": "stream",
     "text": [
      " 14%|█▍        | 43/300 [00:17<01:45,  2.45it/s]"
     ]
    },
    {
     "name": "stdout",
     "output_type": "stream",
     "text": [
      "\n",
      "epoch 43: test average loss: 8.700 | acc: 98.95% (472/477)\n",
      "EarlyStopping counter: 7/25 (best: 0.9958)\n",
      "\n",
      "epoch 44: train average loss: 1.584 | acc: 99.44% (4262/4286)\n"
     ]
    },
    {
     "name": "stderr",
     "output_type": "stream",
     "text": [
      " 15%|█▍        | 44/300 [00:18<01:44,  2.44it/s]"
     ]
    },
    {
     "name": "stdout",
     "output_type": "stream",
     "text": [
      "\n",
      "epoch 44: test average loss: 8.997 | acc: 99.58% (475/477)\n",
      "EarlyStopping counter: 8/25 (best: 0.9958)\n",
      "\n",
      "epoch 45: train average loss: 1.584 | acc: 99.39% (4260/4286)\n"
     ]
    },
    {
     "name": "stderr",
     "output_type": "stream",
     "text": [
      " 15%|█▌        | 45/300 [00:18<01:47,  2.38it/s]"
     ]
    },
    {
     "name": "stdout",
     "output_type": "stream",
     "text": [
      "\n",
      "epoch 45: test average loss: 9.023 | acc: 99.58% (475/477)\n",
      "EarlyStopping counter: 9/25 (best: 0.9958)\n",
      "\n",
      "epoch 46: train average loss: 1.584 | acc: 99.53% (4266/4286)\n"
     ]
    },
    {
     "name": "stderr",
     "output_type": "stream",
     "text": [
      " 15%|█▌        | 46/300 [00:19<01:56,  2.17it/s]"
     ]
    },
    {
     "name": "stdout",
     "output_type": "stream",
     "text": [
      "\n",
      "epoch 46: test average loss: 8.941 | acc: 99.58% (475/477)\n",
      "EarlyStopping counter: 10/25 (best: 0.9958)\n",
      "\n",
      "epoch 47: train average loss: 1.579 | acc: 99.14% (4249/4286)\n"
     ]
    },
    {
     "name": "stderr",
     "output_type": "stream",
     "text": [
      " 16%|█▌        | 47/300 [00:19<02:02,  2.07it/s]"
     ]
    },
    {
     "name": "stdout",
     "output_type": "stream",
     "text": [
      "\n",
      "epoch 47: test average loss: 8.941 | acc: 99.37% (474/477)\n",
      "EarlyStopping counter: 11/25 (best: 0.9958)\n",
      "\n",
      "epoch 48: train average loss: 1.577 | acc: 99.30% (4256/4286)\n"
     ]
    },
    {
     "name": "stderr",
     "output_type": "stream",
     "text": [
      " 16%|█▌        | 48/300 [00:19<01:57,  2.14it/s]"
     ]
    },
    {
     "name": "stdout",
     "output_type": "stream",
     "text": [
      "\n",
      "epoch 48: test average loss: 8.999 | acc: 99.37% (474/477)\n",
      "EarlyStopping counter: 12/25 (best: 0.9958)\n",
      "\n",
      "epoch 49: train average loss: 1.572 | acc: 99.56% (4267/4286)\n"
     ]
    },
    {
     "name": "stderr",
     "output_type": "stream",
     "text": [
      " 16%|█▋        | 49/300 [00:20<01:51,  2.24it/s]"
     ]
    },
    {
     "name": "stdout",
     "output_type": "stream",
     "text": [
      "\n",
      "epoch 49: test average loss: 9.085 | acc: 99.58% (475/477)\n",
      "EarlyStopping counter: 13/25 (best: 0.9958)\n",
      "\n",
      "epoch 50: train average loss: 1.575 | acc: 99.35% (4258/4286)\n"
     ]
    },
    {
     "name": "stderr",
     "output_type": "stream",
     "text": [
      " 17%|█▋        | 50/300 [00:20<01:47,  2.32it/s]"
     ]
    },
    {
     "name": "stdout",
     "output_type": "stream",
     "text": [
      "\n",
      "epoch 50: test average loss: 9.017 | acc: 99.58% (475/477)\n",
      "EarlyStopping counter: 14/25 (best: 0.9958)\n",
      "\n",
      "epoch 51: train average loss: 1.572 | acc: 99.30% (4256/4286)\n"
     ]
    },
    {
     "name": "stderr",
     "output_type": "stream",
     "text": [
      " 17%|█▋        | 51/300 [00:21<01:43,  2.40it/s]"
     ]
    },
    {
     "name": "stdout",
     "output_type": "stream",
     "text": [
      "\n",
      "epoch 51: test average loss: 9.021 | acc: 99.58% (475/477)\n",
      "EarlyStopping counter: 15/25 (best: 0.9958)\n",
      "\n",
      "epoch 52: train average loss: 1.573 | acc: 99.77% (4276/4286)\n"
     ]
    },
    {
     "name": "stderr",
     "output_type": "stream",
     "text": [
      " 17%|█▋        | 52/300 [00:21<01:43,  2.41it/s]"
     ]
    },
    {
     "name": "stdout",
     "output_type": "stream",
     "text": [
      "\n",
      "epoch 52: test average loss: 9.067 | acc: 99.58% (475/477)\n",
      "EarlyStopping counter: 16/25 (best: 0.9958)\n",
      "\n",
      "epoch 53: train average loss: 1.572 | acc: 99.30% (4256/4286)\n"
     ]
    },
    {
     "name": "stderr",
     "output_type": "stream",
     "text": [
      " 18%|█▊        | 53/300 [00:21<01:41,  2.44it/s]"
     ]
    },
    {
     "name": "stdout",
     "output_type": "stream",
     "text": [
      "\n",
      "epoch 53: test average loss: 9.116 | acc: 99.58% (475/477)\n",
      "EarlyStopping counter: 17/25 (best: 0.9958)\n",
      "\n",
      "epoch 54: train average loss: 1.568 | acc: 99.42% (4261/4286)\n"
     ]
    },
    {
     "name": "stderr",
     "output_type": "stream",
     "text": [
      " 18%|█▊        | 54/300 [00:22<01:40,  2.45it/s]"
     ]
    },
    {
     "name": "stdout",
     "output_type": "stream",
     "text": [
      "\n",
      "epoch 54: test average loss: 9.173 | acc: 99.58% (475/477)\n",
      "EarlyStopping counter: 18/25 (best: 0.9958)\n",
      "\n",
      "epoch 55: train average loss: 1.569 | acc: 99.58% (4268/4286)\n"
     ]
    },
    {
     "name": "stderr",
     "output_type": "stream",
     "text": [
      " 18%|█▊        | 55/300 [00:22<01:48,  2.26it/s]"
     ]
    },
    {
     "name": "stdout",
     "output_type": "stream",
     "text": [
      "\n",
      "epoch 55: test average loss: 9.095 | acc: 99.58% (475/477)\n",
      "EarlyStopping counter: 19/25 (best: 0.9958)\n",
      "\n",
      "epoch 56: train average loss: 1.568 | acc: 99.51% (4265/4286)\n"
     ]
    },
    {
     "name": "stderr",
     "output_type": "stream",
     "text": [
      " 19%|█▊        | 56/300 [00:23<01:52,  2.16it/s]"
     ]
    },
    {
     "name": "stdout",
     "output_type": "stream",
     "text": [
      "\n",
      "epoch 56: test average loss: 9.045 | acc: 99.58% (475/477)\n",
      "EarlyStopping counter: 20/25 (best: 0.9958)\n",
      "\n",
      "epoch 57: train average loss: 1.567 | acc: 99.39% (4260/4286)\n"
     ]
    },
    {
     "name": "stderr",
     "output_type": "stream",
     "text": [
      " 19%|█▉        | 57/300 [00:23<01:49,  2.23it/s]"
     ]
    },
    {
     "name": "stdout",
     "output_type": "stream",
     "text": [
      "\n",
      "epoch 57: test average loss: 9.174 | acc: 99.58% (475/477)\n",
      "EarlyStopping counter: 21/25 (best: 0.9958)\n",
      "\n",
      "epoch 58: train average loss: 1.566 | acc: 99.35% (4258/4286)\n"
     ]
    },
    {
     "name": "stderr",
     "output_type": "stream",
     "text": [
      " 19%|█▉        | 58/300 [00:24<01:42,  2.35it/s]"
     ]
    },
    {
     "name": "stdout",
     "output_type": "stream",
     "text": [
      "\n",
      "epoch 58: test average loss: 9.145 | acc: 99.58% (475/477)\n",
      "EarlyStopping counter: 22/25 (best: 0.9958)\n",
      "\n",
      "epoch 59: train average loss: 1.568 | acc: 99.70% (4273/4286)\n"
     ]
    },
    {
     "name": "stderr",
     "output_type": "stream",
     "text": [
      " 20%|█▉        | 59/300 [00:24<01:38,  2.44it/s]"
     ]
    },
    {
     "name": "stdout",
     "output_type": "stream",
     "text": [
      "\n",
      "epoch 59: test average loss: 9.162 | acc: 99.58% (475/477)\n",
      "EarlyStopping counter: 23/25 (best: 0.9958)\n",
      "\n",
      "epoch 60: train average loss: 1.569 | acc: 99.25% (4254/4286)\n"
     ]
    },
    {
     "name": "stderr",
     "output_type": "stream",
     "text": [
      " 20%|██        | 60/300 [00:24<01:35,  2.51it/s]"
     ]
    },
    {
     "name": "stdout",
     "output_type": "stream",
     "text": [
      "\n",
      "epoch 60: test average loss: 9.087 | acc: 99.58% (475/477)\n",
      "EarlyStopping counter: 24/25 (best: 0.9958)\n",
      "\n",
      "epoch 61: train average loss: 1.567 | acc: 99.53% (4266/4286)\n"
     ]
    },
    {
     "name": "stderr",
     "output_type": "stream",
     "text": [
      " 20%|██        | 60/300 [00:25<01:41,  2.36it/s]"
     ]
    },
    {
     "name": "stdout",
     "output_type": "stream",
     "text": [
      "\n",
      "epoch 61: test average loss: 9.108 | acc: 99.58% (475/477)\n",
      "EarlyStopping counter: 25/25 (best: 0.9958)\n",
      "🔴 Early stopping triggered\n",
      "load model at epoch 36, with test acc : 0.996\n"
     ]
    },
    {
     "name": "stderr",
     "output_type": "stream",
     "text": [
      "\n",
      "/tmp/ipykernel_3428831/1054042983.py:175: FutureWarning:\n",
      "\n",
      "You are using `torch.load` with `weights_only=False` (the current default value), which uses the default pickle module implicitly. It is possible to construct malicious pickle data which will execute arbitrary code during unpickling (See https://github.com/pytorch/pytorch/blob/main/SECURITY.md#untrusted-models for more details). In a future release, the default value for `weights_only` will be flipped to `True`. This limits the functions that could be executed during unpickling. Arbitrary objects will no longer be allowed to be loaded via this mode unless they are explicitly allowlisted by the user via `torch.serialization.add_safe_globals`. We recommend you start setting `weights_only=True` for any use case where you don't have full control of the loaded file. Please open an issue on GitHub for any issues related to this experimental feature.\n",
      "\n"
     ]
    },
    {
     "name": "stdout",
     "output_type": "stream",
     "text": [
      "total 0.9958071278825996\n",
      "class 0 1.0\n",
      "class 1 0.9956331877729258\n",
      "                          0\n",
      "Accuracy             0.9958\n",
      "Recall        [1.0, 0.9956]\n",
      "Specificity   [0.9956, 1.0]\n",
      "Precision     [0.9048, 1.0]\n",
      "F1 Score     [0.95, 0.9978]\n",
      "4\n"
     ]
    },
    {
     "name": "stderr",
     "output_type": "stream",
     "text": [
      "  0%|          | 0/300 [00:00<?, ?it/s]"
     ]
    },
    {
     "name": "stdout",
     "output_type": "stream",
     "text": [
      "\n",
      "epoch 1: train average loss: 29.677 | acc: 52.13% (2235/4287)\n"
     ]
    },
    {
     "name": "stderr",
     "output_type": "stream",
     "text": [
      "  0%|          | 1/300 [00:00<02:11,  2.27it/s]"
     ]
    },
    {
     "name": "stdout",
     "output_type": "stream",
     "text": [
      "\n",
      "epoch 1: test average loss: 25.345 | acc: 96.01% (457/476)\n",
      "best test acc found\n",
      "\n",
      "epoch 2: train average loss: 22.387 | acc: 57.36% (2459/4287)\n"
     ]
    },
    {
     "name": "stderr",
     "output_type": "stream",
     "text": [
      "  1%|          | 2/300 [00:00<01:57,  2.53it/s]"
     ]
    },
    {
     "name": "stdout",
     "output_type": "stream",
     "text": [
      "\n",
      "epoch 2: test average loss: 21.389 | acc: 96.01% (457/476)\n",
      "EarlyStopping counter: 1/25 (best: 0.9601)\n",
      "\n",
      "epoch 3: train average loss: 18.630 | acc: 62.23% (2668/4287)\n"
     ]
    },
    {
     "name": "stderr",
     "output_type": "stream",
     "text": [
      "  1%|          | 3/300 [00:01<01:53,  2.61it/s]"
     ]
    },
    {
     "name": "stdout",
     "output_type": "stream",
     "text": [
      "\n",
      "epoch 3: test average loss: 21.962 | acc: 96.01% (457/476)\n",
      "EarlyStopping counter: 2/25 (best: 0.9601)\n",
      "\n",
      "epoch 4: train average loss: 16.727 | acc: 64.96% (2785/4287)\n"
     ]
    },
    {
     "name": "stderr",
     "output_type": "stream",
     "text": [
      "  1%|▏         | 4/300 [00:01<01:54,  2.59it/s]"
     ]
    },
    {
     "name": "stdout",
     "output_type": "stream",
     "text": [
      "\n",
      "epoch 4: test average loss: 21.079 | acc: 96.85% (461/476)\n",
      "best test acc found\n",
      "\n",
      "epoch 5: train average loss: 14.950 | acc: 66.78% (2863/4287)\n"
     ]
    },
    {
     "name": "stderr",
     "output_type": "stream",
     "text": [
      "  2%|▏         | 5/300 [00:01<01:58,  2.50it/s]"
     ]
    },
    {
     "name": "stdout",
     "output_type": "stream",
     "text": [
      "\n",
      "epoch 5: test average loss: 14.027 | acc: 97.90% (466/476)\n",
      "best test acc found\n",
      "\n",
      "epoch 6: train average loss: 13.658 | acc: 70.05% (3003/4287)\n"
     ]
    },
    {
     "name": "stderr",
     "output_type": "stream",
     "text": [
      "  2%|▏         | 6/300 [00:02<01:59,  2.46it/s]"
     ]
    },
    {
     "name": "stdout",
     "output_type": "stream",
     "text": [
      "\n",
      "epoch 6: test average loss: 20.841 | acc: 72.69% (346/476)\n",
      "EarlyStopping counter: 1/25 (best: 0.9790)\n",
      "\n",
      "epoch 7: train average loss: 12.679 | acc: 72.59% (3112/4287)\n"
     ]
    },
    {
     "name": "stderr",
     "output_type": "stream",
     "text": [
      "  2%|▏         | 7/300 [00:02<02:03,  2.37it/s]"
     ]
    },
    {
     "name": "stdout",
     "output_type": "stream",
     "text": [
      "\n",
      "epoch 7: test average loss: 18.239 | acc: 41.18% (196/476)\n",
      "EarlyStopping counter: 2/25 (best: 0.9790)\n",
      "\n",
      "epoch 8: train average loss: 10.429 | acc: 75.48% (3236/4287)\n"
     ]
    },
    {
     "name": "stderr",
     "output_type": "stream",
     "text": [
      "  3%|▎         | 8/300 [00:03<02:10,  2.23it/s]"
     ]
    },
    {
     "name": "stdout",
     "output_type": "stream",
     "text": [
      "\n",
      "epoch 8: test average loss: 15.939 | acc: 45.59% (217/476)\n",
      "EarlyStopping counter: 3/25 (best: 0.9790)\n",
      "\n",
      "epoch 9: train average loss: 7.848 | acc: 77.77% (3334/4287)\n"
     ]
    },
    {
     "name": "stderr",
     "output_type": "stream",
     "text": [
      "  3%|▎         | 9/300 [00:03<02:12,  2.20it/s]"
     ]
    },
    {
     "name": "stdout",
     "output_type": "stream",
     "text": [
      "\n",
      "epoch 9: test average loss: 16.289 | acc: 72.90% (347/476)\n",
      "EarlyStopping counter: 4/25 (best: 0.9790)\n",
      "\n",
      "epoch 10: train average loss: 5.913 | acc: 80.50% (3451/4287)\n"
     ]
    },
    {
     "name": "stderr",
     "output_type": "stream",
     "text": [
      "  3%|▎         | 10/300 [00:04<02:09,  2.24it/s]"
     ]
    },
    {
     "name": "stdout",
     "output_type": "stream",
     "text": [
      "\n",
      "epoch 10: test average loss: 15.894 | acc: 90.13% (429/476)\n",
      "EarlyStopping counter: 5/25 (best: 0.9790)\n",
      "\n",
      "epoch 11: train average loss: 4.470 | acc: 83.11% (3563/4287)\n"
     ]
    },
    {
     "name": "stderr",
     "output_type": "stream",
     "text": [
      "  4%|▎         | 11/300 [00:04<02:05,  2.30it/s]"
     ]
    },
    {
     "name": "stdout",
     "output_type": "stream",
     "text": [
      "\n",
      "epoch 11: test average loss: 11.320 | acc: 79.83% (380/476)\n",
      "EarlyStopping counter: 6/25 (best: 0.9790)\n",
      "\n",
      "epoch 12: train average loss: 4.868 | acc: 84.00% (3601/4287)\n"
     ]
    },
    {
     "name": "stderr",
     "output_type": "stream",
     "text": [
      "  4%|▍         | 12/300 [00:05<02:03,  2.34it/s]"
     ]
    },
    {
     "name": "stdout",
     "output_type": "stream",
     "text": [
      "\n",
      "epoch 12: test average loss: 9.984 | acc: 97.27% (463/476)\n",
      "EarlyStopping counter: 7/25 (best: 0.9790)\n",
      "\n",
      "epoch 13: train average loss: 3.551 | acc: 87.64% (3757/4287)\n"
     ]
    },
    {
     "name": "stderr",
     "output_type": "stream",
     "text": [
      "  4%|▍         | 13/300 [00:05<02:00,  2.38it/s]"
     ]
    },
    {
     "name": "stdout",
     "output_type": "stream",
     "text": [
      "\n",
      "epoch 13: test average loss: 13.797 | acc: 78.36% (373/476)\n",
      "EarlyStopping counter: 8/25 (best: 0.9790)\n",
      "\n",
      "epoch 14: train average loss: 2.468 | acc: 88.78% (3806/4287)\n"
     ]
    },
    {
     "name": "stderr",
     "output_type": "stream",
     "text": [
      "  5%|▍         | 14/300 [00:05<01:59,  2.40it/s]"
     ]
    },
    {
     "name": "stdout",
     "output_type": "stream",
     "text": [
      "\n",
      "epoch 14: test average loss: 9.249 | acc: 95.59% (455/476)\n",
      "EarlyStopping counter: 9/25 (best: 0.9790)\n",
      "\n",
      "epoch 15: train average loss: 2.481 | acc: 89.99% (3858/4287)\n"
     ]
    },
    {
     "name": "stderr",
     "output_type": "stream",
     "text": [
      "  5%|▌         | 15/300 [00:06<01:57,  2.43it/s]"
     ]
    },
    {
     "name": "stdout",
     "output_type": "stream",
     "text": [
      "\n",
      "epoch 15: test average loss: 15.786 | acc: 83.40% (397/476)\n",
      "EarlyStopping counter: 10/25 (best: 0.9790)\n",
      "\n",
      "epoch 16: train average loss: 2.638 | acc: 92.49% (3965/4287)\n"
     ]
    },
    {
     "name": "stderr",
     "output_type": "stream",
     "text": [
      "  5%|▌         | 16/300 [00:06<01:57,  2.42it/s]"
     ]
    },
    {
     "name": "stdout",
     "output_type": "stream",
     "text": [
      "\n",
      "epoch 16: test average loss: 7.813 | acc: 89.92% (428/476)\n",
      "EarlyStopping counter: 11/25 (best: 0.9790)\n",
      "\n",
      "epoch 17: train average loss: 2.255 | acc: 92.93% (3984/4287)\n"
     ]
    },
    {
     "name": "stderr",
     "output_type": "stream",
     "text": [
      "  6%|▌         | 17/300 [00:07<01:58,  2.39it/s]"
     ]
    },
    {
     "name": "stdout",
     "output_type": "stream",
     "text": [
      "\n",
      "epoch 17: test average loss: 4.866 | acc: 96.22% (458/476)\n",
      "EarlyStopping counter: 12/25 (best: 0.9790)\n",
      "\n",
      "epoch 18: train average loss: 1.931 | acc: 93.73% (4018/4287)\n"
     ]
    },
    {
     "name": "stderr",
     "output_type": "stream",
     "text": [
      "  6%|▌         | 18/300 [00:07<01:57,  2.40it/s]"
     ]
    },
    {
     "name": "stdout",
     "output_type": "stream",
     "text": [
      "\n",
      "epoch 18: test average loss: 3.328 | acc: 97.06% (462/476)\n",
      "EarlyStopping counter: 13/25 (best: 0.9790)\n",
      "\n",
      "epoch 19: train average loss: 1.834 | acc: 95.78% (4106/4287)\n"
     ]
    },
    {
     "name": "stderr",
     "output_type": "stream",
     "text": [
      "  6%|▋         | 19/300 [00:07<01:57,  2.40it/s]"
     ]
    },
    {
     "name": "stdout",
     "output_type": "stream",
     "text": [
      "\n",
      "epoch 19: test average loss: 3.939 | acc: 96.22% (458/476)\n",
      "EarlyStopping counter: 14/25 (best: 0.9790)\n",
      "\n",
      "epoch 20: train average loss: 1.788 | acc: 95.24% (4083/4287)\n"
     ]
    },
    {
     "name": "stderr",
     "output_type": "stream",
     "text": [
      "  7%|▋         | 20/300 [00:08<01:55,  2.42it/s]"
     ]
    },
    {
     "name": "stdout",
     "output_type": "stream",
     "text": [
      "\n",
      "epoch 20: test average loss: 3.181 | acc: 94.96% (452/476)\n",
      "EarlyStopping counter: 15/25 (best: 0.9790)\n",
      "\n",
      "epoch 21: train average loss: 1.775 | acc: 96.85% (4152/4287)\n"
     ]
    },
    {
     "name": "stderr",
     "output_type": "stream",
     "text": [
      "  7%|▋         | 21/300 [00:08<01:52,  2.48it/s]"
     ]
    },
    {
     "name": "stdout",
     "output_type": "stream",
     "text": [
      "\n",
      "epoch 21: test average loss: 2.787 | acc: 97.48% (464/476)\n",
      "EarlyStopping counter: 16/25 (best: 0.9790)\n",
      "\n",
      "epoch 22: train average loss: 1.767 | acc: 96.62% (4142/4287)\n"
     ]
    },
    {
     "name": "stderr",
     "output_type": "stream",
     "text": [
      "  7%|▋         | 22/300 [00:09<01:50,  2.52it/s]"
     ]
    },
    {
     "name": "stdout",
     "output_type": "stream",
     "text": [
      "\n",
      "epoch 22: test average loss: 2.590 | acc: 96.85% (461/476)\n",
      "EarlyStopping counter: 17/25 (best: 0.9790)\n",
      "\n",
      "epoch 23: train average loss: 1.748 | acc: 97.46% (4178/4287)\n"
     ]
    },
    {
     "name": "stderr",
     "output_type": "stream",
     "text": [
      "  8%|▊         | 23/300 [00:09<01:49,  2.54it/s]"
     ]
    },
    {
     "name": "stdout",
     "output_type": "stream",
     "text": [
      "\n",
      "epoch 23: test average loss: 2.524 | acc: 96.64% (460/476)\n",
      "EarlyStopping counter: 18/25 (best: 0.9790)\n",
      "\n",
      "epoch 24: train average loss: 1.739 | acc: 97.67% (4187/4287)\n"
     ]
    },
    {
     "name": "stderr",
     "output_type": "stream",
     "text": [
      "  8%|▊         | 24/300 [00:09<01:48,  2.55it/s]"
     ]
    },
    {
     "name": "stdout",
     "output_type": "stream",
     "text": [
      "\n",
      "epoch 24: test average loss: 2.641 | acc: 97.06% (462/476)\n",
      "EarlyStopping counter: 19/25 (best: 0.9790)\n",
      "\n",
      "epoch 25: train average loss: 1.726 | acc: 97.32% (4172/4287)\n"
     ]
    },
    {
     "name": "stderr",
     "output_type": "stream",
     "text": [
      "  8%|▊         | 25/300 [00:10<01:47,  2.57it/s]"
     ]
    },
    {
     "name": "stdout",
     "output_type": "stream",
     "text": [
      "\n",
      "epoch 25: test average loss: 2.718 | acc: 96.43% (459/476)\n",
      "EarlyStopping counter: 20/25 (best: 0.9790)\n",
      "\n",
      "epoch 26: train average loss: 1.718 | acc: 97.76% (4191/4287)\n"
     ]
    },
    {
     "name": "stderr",
     "output_type": "stream",
     "text": [
      "  9%|▊         | 26/300 [00:10<01:47,  2.55it/s]"
     ]
    },
    {
     "name": "stdout",
     "output_type": "stream",
     "text": [
      "\n",
      "epoch 26: test average loss: 2.634 | acc: 97.48% (464/476)\n",
      "EarlyStopping counter: 21/25 (best: 0.9790)\n",
      "\n",
      "epoch 27: train average loss: 1.702 | acc: 97.57% (4183/4287)\n"
     ]
    },
    {
     "name": "stderr",
     "output_type": "stream",
     "text": [
      "  9%|▉         | 27/300 [00:11<01:46,  2.56it/s]"
     ]
    },
    {
     "name": "stdout",
     "output_type": "stream",
     "text": [
      "\n",
      "epoch 27: test average loss: 2.636 | acc: 97.06% (462/476)\n",
      "EarlyStopping counter: 22/25 (best: 0.9790)\n",
      "\n",
      "epoch 28: train average loss: 1.691 | acc: 98.60% (4227/4287)\n"
     ]
    },
    {
     "name": "stderr",
     "output_type": "stream",
     "text": [
      "  9%|▉         | 28/300 [00:11<01:46,  2.55it/s]"
     ]
    },
    {
     "name": "stdout",
     "output_type": "stream",
     "text": [
      "\n",
      "epoch 28: test average loss: 2.534 | acc: 98.53% (469/476)\n",
      "best test acc found\n",
      "\n",
      "epoch 29: train average loss: 1.680 | acc: 98.51% (4223/4287)\n"
     ]
    },
    {
     "name": "stderr",
     "output_type": "stream",
     "text": [
      " 10%|▉         | 29/300 [00:11<01:46,  2.55it/s]"
     ]
    },
    {
     "name": "stdout",
     "output_type": "stream",
     "text": [
      "\n",
      "epoch 29: test average loss: 2.473 | acc: 97.27% (463/476)\n",
      "EarlyStopping counter: 1/25 (best: 0.9853)\n",
      "\n",
      "epoch 30: train average loss: 1.674 | acc: 98.58% (4226/4287)\n"
     ]
    },
    {
     "name": "stderr",
     "output_type": "stream",
     "text": [
      " 10%|█         | 30/300 [00:12<01:47,  2.50it/s]"
     ]
    },
    {
     "name": "stdout",
     "output_type": "stream",
     "text": [
      "\n",
      "epoch 30: test average loss: 2.353 | acc: 98.32% (468/476)\n",
      "EarlyStopping counter: 2/25 (best: 0.9853)\n",
      "\n",
      "epoch 31: train average loss: 1.664 | acc: 98.37% (4217/4287)\n"
     ]
    },
    {
     "name": "stderr",
     "output_type": "stream",
     "text": [
      " 10%|█         | 31/300 [00:12<01:49,  2.45it/s]"
     ]
    },
    {
     "name": "stdout",
     "output_type": "stream",
     "text": [
      "\n",
      "epoch 31: test average loss: 2.410 | acc: 97.06% (462/476)\n",
      "EarlyStopping counter: 3/25 (best: 0.9853)\n",
      "\n",
      "epoch 32: train average loss: 1.660 | acc: 98.81% (4236/4287)\n"
     ]
    },
    {
     "name": "stderr",
     "output_type": "stream",
     "text": [
      " 11%|█         | 32/300 [00:13<01:51,  2.41it/s]"
     ]
    },
    {
     "name": "stdout",
     "output_type": "stream",
     "text": [
      "\n",
      "epoch 32: test average loss: 2.411 | acc: 97.90% (466/476)\n",
      "EarlyStopping counter: 4/25 (best: 0.9853)\n",
      "\n",
      "epoch 33: train average loss: 1.645 | acc: 99.16% (4251/4287)\n"
     ]
    },
    {
     "name": "stderr",
     "output_type": "stream",
     "text": [
      " 11%|█         | 33/300 [00:13<01:55,  2.31it/s]"
     ]
    },
    {
     "name": "stdout",
     "output_type": "stream",
     "text": [
      "\n",
      "epoch 33: test average loss: 2.344 | acc: 98.95% (471/476)\n",
      "best test acc found\n",
      "\n",
      "epoch 34: train average loss: 1.641 | acc: 98.65% (4229/4287)\n"
     ]
    },
    {
     "name": "stderr",
     "output_type": "stream",
     "text": [
      " 11%|█▏        | 34/300 [00:14<01:54,  2.32it/s]"
     ]
    },
    {
     "name": "stdout",
     "output_type": "stream",
     "text": [
      "\n",
      "epoch 34: test average loss: 2.234 | acc: 98.53% (469/476)\n",
      "EarlyStopping counter: 1/25 (best: 0.9895)\n",
      "\n",
      "epoch 35: train average loss: 1.634 | acc: 99.02% (4245/4287)\n"
     ]
    },
    {
     "name": "stderr",
     "output_type": "stream",
     "text": [
      " 12%|█▏        | 35/300 [00:14<01:51,  2.37it/s]"
     ]
    },
    {
     "name": "stdout",
     "output_type": "stream",
     "text": [
      "\n",
      "epoch 35: test average loss: 2.339 | acc: 98.32% (468/476)\n",
      "EarlyStopping counter: 2/25 (best: 0.9895)\n",
      "\n",
      "epoch 36: train average loss: 1.643 | acc: 98.86% (4238/4287)\n"
     ]
    },
    {
     "name": "stderr",
     "output_type": "stream",
     "text": [
      " 12%|█▏        | 36/300 [00:14<01:48,  2.43it/s]"
     ]
    },
    {
     "name": "stdout",
     "output_type": "stream",
     "text": [
      "\n",
      "epoch 36: test average loss: 2.307 | acc: 98.32% (468/476)\n",
      "EarlyStopping counter: 3/25 (best: 0.9895)\n",
      "\n",
      "epoch 37: train average loss: 1.627 | acc: 99.02% (4245/4287)\n"
     ]
    },
    {
     "name": "stderr",
     "output_type": "stream",
     "text": [
      " 12%|█▏        | 37/300 [00:15<01:54,  2.30it/s]"
     ]
    },
    {
     "name": "stdout",
     "output_type": "stream",
     "text": [
      "\n",
      "epoch 37: test average loss: 2.267 | acc: 98.32% (468/476)\n",
      "EarlyStopping counter: 4/25 (best: 0.9895)\n",
      "\n",
      "epoch 38: train average loss: 1.627 | acc: 98.97% (4243/4287)\n"
     ]
    },
    {
     "name": "stderr",
     "output_type": "stream",
     "text": [
      " 13%|█▎        | 38/300 [00:15<01:52,  2.33it/s]"
     ]
    },
    {
     "name": "stdout",
     "output_type": "stream",
     "text": [
      "\n",
      "epoch 38: test average loss: 2.408 | acc: 98.32% (468/476)\n",
      "EarlyStopping counter: 5/25 (best: 0.9895)\n",
      "\n",
      "epoch 39: train average loss: 1.616 | acc: 99.18% (4252/4287)\n"
     ]
    },
    {
     "name": "stderr",
     "output_type": "stream",
     "text": [
      " 13%|█▎        | 39/300 [00:16<01:52,  2.32it/s]"
     ]
    },
    {
     "name": "stdout",
     "output_type": "stream",
     "text": [
      "\n",
      "epoch 39: test average loss: 2.260 | acc: 98.53% (469/476)\n",
      "EarlyStopping counter: 6/25 (best: 0.9895)\n",
      "\n",
      "epoch 40: train average loss: 1.609 | acc: 99.32% (4258/4287)\n"
     ]
    },
    {
     "name": "stderr",
     "output_type": "stream",
     "text": [
      " 13%|█▎        | 40/300 [00:16<01:51,  2.34it/s]"
     ]
    },
    {
     "name": "stdout",
     "output_type": "stream",
     "text": [
      "\n",
      "epoch 40: test average loss: 2.133 | acc: 98.74% (470/476)\n",
      "EarlyStopping counter: 7/25 (best: 0.9895)\n",
      "\n",
      "epoch 41: train average loss: 1.607 | acc: 99.30% (4257/4287)\n"
     ]
    },
    {
     "name": "stderr",
     "output_type": "stream",
     "text": [
      " 14%|█▎        | 41/300 [00:17<01:51,  2.32it/s]"
     ]
    },
    {
     "name": "stdout",
     "output_type": "stream",
     "text": [
      "\n",
      "epoch 41: test average loss: 2.152 | acc: 98.74% (470/476)\n",
      "EarlyStopping counter: 8/25 (best: 0.9895)\n",
      "\n",
      "epoch 42: train average loss: 1.604 | acc: 99.35% (4259/4287)\n"
     ]
    },
    {
     "name": "stderr",
     "output_type": "stream",
     "text": [
      " 14%|█▍        | 42/300 [00:17<01:49,  2.35it/s]"
     ]
    },
    {
     "name": "stdout",
     "output_type": "stream",
     "text": [
      "\n",
      "epoch 42: test average loss: 2.045 | acc: 98.95% (471/476)\n",
      "EarlyStopping counter: 9/25 (best: 0.9895)\n",
      "\n",
      "epoch 43: train average loss: 1.597 | acc: 99.46% (4264/4287)\n"
     ]
    },
    {
     "name": "stderr",
     "output_type": "stream",
     "text": [
      " 14%|█▍        | 43/300 [00:17<01:54,  2.24it/s]"
     ]
    },
    {
     "name": "stdout",
     "output_type": "stream",
     "text": [
      "\n",
      "epoch 43: test average loss: 2.080 | acc: 98.95% (471/476)\n",
      "EarlyStopping counter: 10/25 (best: 0.9895)\n",
      "\n",
      "epoch 44: train average loss: 1.596 | acc: 99.32% (4258/4287)\n"
     ]
    },
    {
     "name": "stderr",
     "output_type": "stream",
     "text": [
      " 15%|█▍        | 44/300 [00:18<01:53,  2.26it/s]"
     ]
    },
    {
     "name": "stdout",
     "output_type": "stream",
     "text": [
      "\n",
      "epoch 44: test average loss: 2.051 | acc: 98.95% (471/476)\n",
      "EarlyStopping counter: 11/25 (best: 0.9895)\n",
      "\n",
      "epoch 45: train average loss: 1.595 | acc: 99.49% (4265/4287)\n"
     ]
    },
    {
     "name": "stderr",
     "output_type": "stream",
     "text": [
      " 15%|█▌        | 45/300 [00:18<01:49,  2.33it/s]"
     ]
    },
    {
     "name": "stdout",
     "output_type": "stream",
     "text": [
      "\n",
      "epoch 45: test average loss: 1.996 | acc: 98.95% (471/476)\n",
      "EarlyStopping counter: 12/25 (best: 0.9895)\n",
      "\n",
      "epoch 46: train average loss: 1.592 | acc: 99.39% (4261/4287)\n"
     ]
    },
    {
     "name": "stderr",
     "output_type": "stream",
     "text": [
      " 15%|█▌        | 46/300 [00:19<01:45,  2.40it/s]"
     ]
    },
    {
     "name": "stdout",
     "output_type": "stream",
     "text": [
      "\n",
      "epoch 46: test average loss: 2.007 | acc: 98.95% (471/476)\n",
      "EarlyStopping counter: 13/25 (best: 0.9895)\n",
      "\n",
      "epoch 47: train average loss: 1.587 | acc: 99.42% (4262/4287)\n"
     ]
    },
    {
     "name": "stderr",
     "output_type": "stream",
     "text": [
      " 16%|█▌        | 47/300 [00:19<01:41,  2.50it/s]"
     ]
    },
    {
     "name": "stdout",
     "output_type": "stream",
     "text": [
      "\n",
      "epoch 47: test average loss: 1.989 | acc: 98.74% (470/476)\n",
      "EarlyStopping counter: 14/25 (best: 0.9895)\n",
      "\n",
      "epoch 48: train average loss: 1.586 | acc: 99.44% (4263/4287)\n"
     ]
    },
    {
     "name": "stderr",
     "output_type": "stream",
     "text": [
      " 16%|█▌        | 48/300 [00:19<01:38,  2.56it/s]"
     ]
    },
    {
     "name": "stdout",
     "output_type": "stream",
     "text": [
      "\n",
      "epoch 48: test average loss: 2.056 | acc: 98.95% (471/476)\n",
      "EarlyStopping counter: 15/25 (best: 0.9895)\n",
      "\n",
      "epoch 49: train average loss: 1.585 | acc: 99.58% (4269/4287)\n"
     ]
    },
    {
     "name": "stderr",
     "output_type": "stream",
     "text": [
      " 16%|█▋        | 49/300 [00:20<01:36,  2.61it/s]"
     ]
    },
    {
     "name": "stdout",
     "output_type": "stream",
     "text": [
      "\n",
      "epoch 49: test average loss: 1.978 | acc: 98.95% (471/476)\n",
      "EarlyStopping counter: 16/25 (best: 0.9895)\n",
      "\n",
      "epoch 50: train average loss: 1.585 | acc: 99.49% (4265/4287)\n"
     ]
    },
    {
     "name": "stderr",
     "output_type": "stream",
     "text": [
      " 17%|█▋        | 50/300 [00:20<01:34,  2.64it/s]"
     ]
    },
    {
     "name": "stdout",
     "output_type": "stream",
     "text": [
      "\n",
      "epoch 50: test average loss: 1.982 | acc: 98.95% (471/476)\n",
      "EarlyStopping counter: 17/25 (best: 0.9895)\n",
      "\n",
      "epoch 51: train average loss: 1.581 | acc: 99.37% (4260/4287)\n"
     ]
    },
    {
     "name": "stderr",
     "output_type": "stream",
     "text": [
      " 17%|█▋        | 51/300 [00:21<01:35,  2.61it/s]"
     ]
    },
    {
     "name": "stdout",
     "output_type": "stream",
     "text": [
      "\n",
      "epoch 51: test average loss: 2.019 | acc: 98.95% (471/476)\n",
      "EarlyStopping counter: 18/25 (best: 0.9895)\n",
      "\n",
      "epoch 52: train average loss: 1.580 | acc: 99.35% (4259/4287)\n"
     ]
    },
    {
     "name": "stderr",
     "output_type": "stream",
     "text": [
      " 17%|█▋        | 52/300 [00:21<01:33,  2.64it/s]"
     ]
    },
    {
     "name": "stdout",
     "output_type": "stream",
     "text": [
      "\n",
      "epoch 52: test average loss: 1.982 | acc: 98.95% (471/476)\n",
      "EarlyStopping counter: 19/25 (best: 0.9895)\n",
      "\n",
      "epoch 53: train average loss: 1.581 | acc: 99.25% (4255/4287)\n"
     ]
    },
    {
     "name": "stderr",
     "output_type": "stream",
     "text": [
      " 18%|█▊        | 53/300 [00:21<01:32,  2.66it/s]"
     ]
    },
    {
     "name": "stdout",
     "output_type": "stream",
     "text": [
      "\n",
      "epoch 53: test average loss: 1.950 | acc: 98.95% (471/476)\n",
      "EarlyStopping counter: 20/25 (best: 0.9895)\n",
      "\n",
      "epoch 54: train average loss: 1.577 | acc: 99.49% (4265/4287)\n"
     ]
    },
    {
     "name": "stderr",
     "output_type": "stream",
     "text": [
      " 18%|█▊        | 54/300 [00:22<01:33,  2.64it/s]"
     ]
    },
    {
     "name": "stdout",
     "output_type": "stream",
     "text": [
      "\n",
      "epoch 54: test average loss: 1.942 | acc: 98.95% (471/476)\n",
      "EarlyStopping counter: 21/25 (best: 0.9895)\n",
      "\n",
      "epoch 55: train average loss: 1.584 | acc: 99.16% (4251/4287)\n"
     ]
    },
    {
     "name": "stderr",
     "output_type": "stream",
     "text": [
      " 18%|█▊        | 55/300 [00:22<01:33,  2.61it/s]"
     ]
    },
    {
     "name": "stdout",
     "output_type": "stream",
     "text": [
      "\n",
      "epoch 55: test average loss: 1.918 | acc: 98.95% (471/476)\n",
      "EarlyStopping counter: 22/25 (best: 0.9895)\n",
      "\n",
      "epoch 56: train average loss: 1.578 | acc: 99.39% (4261/4287)\n"
     ]
    },
    {
     "name": "stderr",
     "output_type": "stream",
     "text": [
      " 19%|█▊        | 56/300 [00:22<01:33,  2.61it/s]"
     ]
    },
    {
     "name": "stdout",
     "output_type": "stream",
     "text": [
      "\n",
      "epoch 56: test average loss: 2.032 | acc: 98.95% (471/476)\n",
      "EarlyStopping counter: 23/25 (best: 0.9895)\n",
      "\n",
      "epoch 57: train average loss: 1.579 | acc: 99.58% (4269/4287)\n"
     ]
    },
    {
     "name": "stderr",
     "output_type": "stream",
     "text": [
      " 19%|█▉        | 57/300 [00:23<01:35,  2.54it/s]"
     ]
    },
    {
     "name": "stdout",
     "output_type": "stream",
     "text": [
      "\n",
      "epoch 57: test average loss: 1.943 | acc: 98.95% (471/476)\n",
      "EarlyStopping counter: 24/25 (best: 0.9895)\n",
      "\n",
      "epoch 58: train average loss: 1.582 | acc: 99.30% (4257/4287)\n"
     ]
    },
    {
     "name": "stderr",
     "output_type": "stream",
     "text": [
      " 19%|█▉        | 57/300 [00:23<01:41,  2.39it/s]"
     ]
    },
    {
     "name": "stdout",
     "output_type": "stream",
     "text": [
      "\n",
      "epoch 58: test average loss: 1.970 | acc: 98.95% (471/476)\n",
      "EarlyStopping counter: 25/25 (best: 0.9895)\n",
      "🔴 Early stopping triggered\n",
      "load model at epoch 33, with test acc : 0.989\n"
     ]
    },
    {
     "name": "stderr",
     "output_type": "stream",
     "text": [
      "\n",
      "/tmp/ipykernel_3428831/1054042983.py:175: FutureWarning:\n",
      "\n",
      "You are using `torch.load` with `weights_only=False` (the current default value), which uses the default pickle module implicitly. It is possible to construct malicious pickle data which will execute arbitrary code during unpickling (See https://github.com/pytorch/pytorch/blob/main/SECURITY.md#untrusted-models for more details). In a future release, the default value for `weights_only` will be flipped to `True`. This limits the functions that could be executed during unpickling. Arbitrary objects will no longer be allowed to be loaded via this mode unless they are explicitly allowlisted by the user via `torch.serialization.add_safe_globals`. We recommend you start setting `weights_only=True` for any use case where you don't have full control of the loaded file. Please open an issue on GitHub for any issues related to this experimental feature.\n",
      "\n"
     ]
    },
    {
     "name": "stdout",
     "output_type": "stream",
     "text": [
      "total 0.9894957983193278\n",
      "class 0 1.0\n",
      "class 1 0.9890590809628009\n",
      "Train t-SNE interactive HTML saved to variant_lenet_low_test_accuracy_combined_train.html\n",
      "Test t-SNE interactive HTML saved to variant_lenet_low_test_accuracy_combined_test.html\n",
      "                            0\n",
      "Accuracy               0.9895\n",
      "Recall          [1.0, 0.9891]\n",
      "Specificity     [0.9891, 1.0]\n",
      "Precision       [0.7917, 1.0]\n",
      "F1 Score     [0.8837, 0.9945]\n",
      "5\n"
     ]
    },
    {
     "name": "stderr",
     "output_type": "stream",
     "text": [
      "  0%|          | 0/300 [00:00<?, ?it/s]"
     ]
    },
    {
     "name": "stdout",
     "output_type": "stream",
     "text": [
      "\n",
      "epoch 1: train average loss: 29.229 | acc: 55.94% (2398/4287)\n"
     ]
    },
    {
     "name": "stderr",
     "output_type": "stream",
     "text": [
      "  0%|          | 1/300 [00:00<01:54,  2.62it/s]"
     ]
    },
    {
     "name": "stdout",
     "output_type": "stream",
     "text": [
      "\n",
      "epoch 1: test average loss: 24.315 | acc: 96.01% (457/476)\n",
      "best test acc found\n",
      "\n",
      "epoch 2: train average loss: 21.748 | acc: 60.72% (2603/4287)\n"
     ]
    },
    {
     "name": "stderr",
     "output_type": "stream",
     "text": [
      "  1%|          | 2/300 [00:00<01:52,  2.66it/s]"
     ]
    },
    {
     "name": "stdout",
     "output_type": "stream",
     "text": [
      "\n",
      "epoch 2: test average loss: 20.736 | acc: 96.01% (457/476)\n",
      "EarlyStopping counter: 1/25 (best: 0.9601)\n",
      "\n",
      "epoch 3: train average loss: 18.052 | acc: 63.84% (2737/4287)\n"
     ]
    },
    {
     "name": "stderr",
     "output_type": "stream",
     "text": [
      "  1%|          | 3/300 [00:01<01:55,  2.56it/s]"
     ]
    },
    {
     "name": "stdout",
     "output_type": "stream",
     "text": [
      "\n",
      "epoch 3: test average loss: 20.924 | acc: 96.01% (457/476)\n",
      "EarlyStopping counter: 2/25 (best: 0.9601)\n",
      "\n",
      "epoch 4: train average loss: 15.697 | acc: 66.11% (2834/4287)\n"
     ]
    },
    {
     "name": "stderr",
     "output_type": "stream",
     "text": [
      "  1%|▏         | 4/300 [00:01<02:03,  2.40it/s]"
     ]
    },
    {
     "name": "stdout",
     "output_type": "stream",
     "text": [
      "\n",
      "epoch 4: test average loss: 18.939 | acc: 98.74% (470/476)\n",
      "best test acc found\n",
      "\n",
      "epoch 5: train average loss: 13.714 | acc: 68.65% (2943/4287)\n"
     ]
    },
    {
     "name": "stderr",
     "output_type": "stream",
     "text": [
      "  2%|▏         | 5/300 [00:02<02:05,  2.36it/s]"
     ]
    },
    {
     "name": "stdout",
     "output_type": "stream",
     "text": [
      "\n",
      "epoch 5: test average loss: 13.552 | acc: 77.31% (368/476)\n",
      "EarlyStopping counter: 1/25 (best: 0.9874)\n",
      "\n",
      "epoch 6: train average loss: 10.999 | acc: 71.85% (3080/4287)\n"
     ]
    },
    {
     "name": "stderr",
     "output_type": "stream",
     "text": [
      "  2%|▏         | 6/300 [00:02<02:06,  2.32it/s]"
     ]
    },
    {
     "name": "stdout",
     "output_type": "stream",
     "text": [
      "\n",
      "epoch 6: test average loss: 14.376 | acc: 97.69% (465/476)\n",
      "EarlyStopping counter: 2/25 (best: 0.9874)\n",
      "\n",
      "epoch 7: train average loss: 10.721 | acc: 74.99% (3215/4287)\n"
     ]
    },
    {
     "name": "stderr",
     "output_type": "stream",
     "text": [
      "  2%|▏         | 7/300 [00:02<02:05,  2.34it/s]"
     ]
    },
    {
     "name": "stdout",
     "output_type": "stream",
     "text": [
      "\n",
      "epoch 7: test average loss: 9.978 | acc: 84.66% (403/476)\n",
      "EarlyStopping counter: 3/25 (best: 0.9874)\n",
      "\n",
      "epoch 8: train average loss: 9.214 | acc: 75.20% (3224/4287)\n"
     ]
    },
    {
     "name": "stderr",
     "output_type": "stream",
     "text": [
      "  3%|▎         | 8/300 [00:03<02:02,  2.39it/s]"
     ]
    },
    {
     "name": "stdout",
     "output_type": "stream",
     "text": [
      "\n",
      "epoch 8: test average loss: 19.101 | acc: 45.17% (215/476)\n",
      "EarlyStopping counter: 4/25 (best: 0.9874)\n",
      "\n",
      "epoch 9: train average loss: 7.266 | acc: 80.31% (3443/4287)\n"
     ]
    },
    {
     "name": "stderr",
     "output_type": "stream",
     "text": [
      "  3%|▎         | 9/300 [00:03<02:01,  2.40it/s]"
     ]
    },
    {
     "name": "stdout",
     "output_type": "stream",
     "text": [
      "\n",
      "epoch 9: test average loss: 14.997 | acc: 98.53% (469/476)\n",
      "EarlyStopping counter: 5/25 (best: 0.9874)\n",
      "\n",
      "epoch 10: train average loss: 5.135 | acc: 83.90% (3597/4287)\n"
     ]
    },
    {
     "name": "stderr",
     "output_type": "stream",
     "text": [
      "  3%|▎         | 10/300 [00:04<01:59,  2.42it/s]"
     ]
    },
    {
     "name": "stdout",
     "output_type": "stream",
     "text": [
      "\n",
      "epoch 10: test average loss: 10.624 | acc: 96.01% (457/476)\n",
      "EarlyStopping counter: 6/25 (best: 0.9874)\n",
      "\n",
      "epoch 11: train average loss: 3.552 | acc: 87.19% (3738/4287)\n"
     ]
    },
    {
     "name": "stderr",
     "output_type": "stream",
     "text": [
      "  4%|▎         | 11/300 [00:04<01:58,  2.44it/s]"
     ]
    },
    {
     "name": "stdout",
     "output_type": "stream",
     "text": [
      "\n",
      "epoch 11: test average loss: 10.431 | acc: 81.72% (389/476)\n",
      "EarlyStopping counter: 7/25 (best: 0.9874)\n",
      "\n",
      "epoch 12: train average loss: 2.217 | acc: 88.66% (3801/4287)\n"
     ]
    },
    {
     "name": "stderr",
     "output_type": "stream",
     "text": [
      "  4%|▍         | 12/300 [00:04<01:57,  2.45it/s]"
     ]
    },
    {
     "name": "stdout",
     "output_type": "stream",
     "text": [
      "\n",
      "epoch 12: test average loss: 17.695 | acc: 67.23% (320/476)\n",
      "EarlyStopping counter: 8/25 (best: 0.9874)\n",
      "\n",
      "epoch 13: train average loss: 2.415 | acc: 90.27% (3870/4287)\n"
     ]
    },
    {
     "name": "stderr",
     "output_type": "stream",
     "text": [
      "  4%|▍         | 13/300 [00:05<01:58,  2.42it/s]"
     ]
    },
    {
     "name": "stdout",
     "output_type": "stream",
     "text": [
      "\n",
      "epoch 13: test average loss: 8.152 | acc: 96.85% (461/476)\n",
      "EarlyStopping counter: 9/25 (best: 0.9874)\n",
      "\n",
      "epoch 14: train average loss: 2.075 | acc: 92.26% (3955/4287)\n"
     ]
    },
    {
     "name": "stderr",
     "output_type": "stream",
     "text": [
      "  5%|▍         | 14/300 [00:05<01:57,  2.43it/s]"
     ]
    },
    {
     "name": "stdout",
     "output_type": "stream",
     "text": [
      "\n",
      "epoch 14: test average loss: 7.198 | acc: 85.92% (409/476)\n",
      "EarlyStopping counter: 10/25 (best: 0.9874)\n",
      "\n",
      "epoch 15: train average loss: 1.967 | acc: 93.42% (4005/4287)\n"
     ]
    },
    {
     "name": "stderr",
     "output_type": "stream",
     "text": [
      "  5%|▌         | 15/300 [00:06<02:00,  2.37it/s]"
     ]
    },
    {
     "name": "stdout",
     "output_type": "stream",
     "text": [
      "\n",
      "epoch 15: test average loss: 6.816 | acc: 97.48% (464/476)\n",
      "EarlyStopping counter: 11/25 (best: 0.9874)\n",
      "\n",
      "epoch 16: train average loss: 1.887 | acc: 93.26% (3998/4287)\n"
     ]
    },
    {
     "name": "stderr",
     "output_type": "stream",
     "text": [
      "  5%|▌         | 16/300 [00:06<02:01,  2.34it/s]"
     ]
    },
    {
     "name": "stdout",
     "output_type": "stream",
     "text": [
      "\n",
      "epoch 16: test average loss: 8.802 | acc: 82.77% (394/476)\n",
      "EarlyStopping counter: 12/25 (best: 0.9874)\n",
      "\n",
      "epoch 17: train average loss: 1.856 | acc: 95.64% (4100/4287)\n"
     ]
    },
    {
     "name": "stderr",
     "output_type": "stream",
     "text": [
      "  6%|▌         | 17/300 [00:07<02:00,  2.35it/s]"
     ]
    },
    {
     "name": "stdout",
     "output_type": "stream",
     "text": [
      "\n",
      "epoch 17: test average loss: 7.400 | acc: 98.32% (468/476)\n",
      "EarlyStopping counter: 13/25 (best: 0.9874)\n",
      "\n",
      "epoch 18: train average loss: 1.935 | acc: 92.86% (3981/4287)\n"
     ]
    },
    {
     "name": "stderr",
     "output_type": "stream",
     "text": [
      "  6%|▌         | 18/300 [00:07<01:59,  2.36it/s]"
     ]
    },
    {
     "name": "stdout",
     "output_type": "stream",
     "text": [
      "\n",
      "epoch 18: test average loss: 6.824 | acc: 96.22% (458/476)\n",
      "EarlyStopping counter: 14/25 (best: 0.9874)\n",
      "\n",
      "epoch 19: train average loss: 1.801 | acc: 96.90% (4154/4287)\n"
     ]
    },
    {
     "name": "stderr",
     "output_type": "stream",
     "text": [
      "  6%|▋         | 19/300 [00:07<01:55,  2.44it/s]"
     ]
    },
    {
     "name": "stdout",
     "output_type": "stream",
     "text": [
      "\n",
      "epoch 19: test average loss: 5.547 | acc: 91.81% (437/476)\n",
      "EarlyStopping counter: 15/25 (best: 0.9874)\n",
      "\n",
      "epoch 20: train average loss: 1.714 | acc: 95.29% (4085/4287)\n"
     ]
    },
    {
     "name": "stderr",
     "output_type": "stream",
     "text": [
      "  7%|▋         | 20/300 [00:08<01:51,  2.50it/s]"
     ]
    },
    {
     "name": "stdout",
     "output_type": "stream",
     "text": [
      "\n",
      "epoch 20: test average loss: 6.541 | acc: 92.65% (441/476)\n",
      "EarlyStopping counter: 16/25 (best: 0.9874)\n",
      "\n",
      "epoch 21: train average loss: 1.713 | acc: 97.81% (4193/4287)\n"
     ]
    },
    {
     "name": "stderr",
     "output_type": "stream",
     "text": [
      "  7%|▋         | 21/300 [00:08<01:50,  2.51it/s]"
     ]
    },
    {
     "name": "stdout",
     "output_type": "stream",
     "text": [
      "\n",
      "epoch 21: test average loss: 6.764 | acc: 97.48% (464/476)\n",
      "EarlyStopping counter: 17/25 (best: 0.9874)\n",
      "\n",
      "epoch 22: train average loss: 1.711 | acc: 96.92% (4155/4287)\n"
     ]
    },
    {
     "name": "stderr",
     "output_type": "stream",
     "text": [
      "  7%|▋         | 22/300 [00:09<01:49,  2.54it/s]"
     ]
    },
    {
     "name": "stdout",
     "output_type": "stream",
     "text": [
      "\n",
      "epoch 22: test average loss: 7.523 | acc: 96.85% (461/476)\n",
      "EarlyStopping counter: 18/25 (best: 0.9874)\n",
      "\n",
      "epoch 23: train average loss: 1.671 | acc: 98.37% (4217/4287)\n"
     ]
    },
    {
     "name": "stderr",
     "output_type": "stream",
     "text": [
      "  8%|▊         | 23/300 [00:09<01:48,  2.55it/s]"
     ]
    },
    {
     "name": "stdout",
     "output_type": "stream",
     "text": [
      "\n",
      "epoch 23: test average loss: 7.558 | acc: 99.79% (475/476)\n",
      "best test acc found\n",
      "\n",
      "epoch 24: train average loss: 1.661 | acc: 97.48% (4179/4287)\n"
     ]
    },
    {
     "name": "stderr",
     "output_type": "stream",
     "text": [
      "  8%|▊         | 24/300 [00:09<01:46,  2.59it/s]"
     ]
    },
    {
     "name": "stdout",
     "output_type": "stream",
     "text": [
      "\n",
      "epoch 24: test average loss: 7.216 | acc: 96.43% (459/476)\n",
      "EarlyStopping counter: 1/25 (best: 0.9979)\n",
      "\n",
      "epoch 25: train average loss: 1.641 | acc: 98.16% (4208/4287)\n"
     ]
    },
    {
     "name": "stderr",
     "output_type": "stream",
     "text": [
      "  8%|▊         | 25/300 [00:10<01:45,  2.60it/s]"
     ]
    },
    {
     "name": "stdout",
     "output_type": "stream",
     "text": [
      "\n",
      "epoch 25: test average loss: 7.218 | acc: 97.06% (462/476)\n",
      "EarlyStopping counter: 2/25 (best: 0.9979)\n",
      "\n",
      "epoch 26: train average loss: 1.686 | acc: 98.37% (4217/4287)\n"
     ]
    },
    {
     "name": "stderr",
     "output_type": "stream",
     "text": [
      "  9%|▊         | 26/300 [00:10<01:47,  2.55it/s]"
     ]
    },
    {
     "name": "stdout",
     "output_type": "stream",
     "text": [
      "\n",
      "epoch 26: test average loss: 6.894 | acc: 97.27% (463/476)\n",
      "EarlyStopping counter: 3/25 (best: 0.9979)\n",
      "\n",
      "epoch 27: train average loss: 1.635 | acc: 98.58% (4226/4287)\n"
     ]
    },
    {
     "name": "stderr",
     "output_type": "stream",
     "text": [
      "  9%|▉         | 27/300 [00:10<01:47,  2.54it/s]"
     ]
    },
    {
     "name": "stdout",
     "output_type": "stream",
     "text": [
      "\n",
      "epoch 27: test average loss: 6.409 | acc: 96.22% (458/476)\n",
      "EarlyStopping counter: 4/25 (best: 0.9979)\n",
      "\n",
      "epoch 28: train average loss: 1.623 | acc: 99.07% (4247/4287)\n"
     ]
    },
    {
     "name": "stderr",
     "output_type": "stream",
     "text": [
      "  9%|▉         | 28/300 [00:11<01:46,  2.55it/s]"
     ]
    },
    {
     "name": "stdout",
     "output_type": "stream",
     "text": [
      "\n",
      "epoch 28: test average loss: 6.498 | acc: 98.11% (467/476)\n",
      "EarlyStopping counter: 5/25 (best: 0.9979)\n",
      "\n",
      "epoch 29: train average loss: 1.618 | acc: 99.09% (4248/4287)\n"
     ]
    },
    {
     "name": "stderr",
     "output_type": "stream",
     "text": [
      " 10%|▉         | 29/300 [00:11<01:49,  2.49it/s]"
     ]
    },
    {
     "name": "stdout",
     "output_type": "stream",
     "text": [
      "\n",
      "epoch 29: test average loss: 6.733 | acc: 97.90% (466/476)\n",
      "EarlyStopping counter: 6/25 (best: 0.9979)\n",
      "\n",
      "epoch 30: train average loss: 1.603 | acc: 99.07% (4247/4287)\n"
     ]
    },
    {
     "name": "stderr",
     "output_type": "stream",
     "text": [
      " 10%|█         | 30/300 [00:12<01:50,  2.44it/s]"
     ]
    },
    {
     "name": "stdout",
     "output_type": "stream",
     "text": [
      "\n",
      "epoch 30: test average loss: 6.957 | acc: 98.74% (470/476)\n",
      "EarlyStopping counter: 7/25 (best: 0.9979)\n",
      "\n",
      "epoch 31: train average loss: 1.599 | acc: 99.09% (4248/4287)\n"
     ]
    },
    {
     "name": "stderr",
     "output_type": "stream",
     "text": [
      " 10%|█         | 31/300 [00:12<01:51,  2.42it/s]"
     ]
    },
    {
     "name": "stdout",
     "output_type": "stream",
     "text": [
      "\n",
      "epoch 31: test average loss: 7.137 | acc: 98.74% (470/476)\n",
      "EarlyStopping counter: 8/25 (best: 0.9979)\n",
      "\n",
      "epoch 32: train average loss: 1.589 | acc: 99.30% (4257/4287)\n"
     ]
    },
    {
     "name": "stderr",
     "output_type": "stream",
     "text": [
      " 11%|█         | 32/300 [00:13<01:53,  2.36it/s]"
     ]
    },
    {
     "name": "stdout",
     "output_type": "stream",
     "text": [
      "\n",
      "epoch 32: test average loss: 7.205 | acc: 97.90% (466/476)\n",
      "EarlyStopping counter: 9/25 (best: 0.9979)\n",
      "\n",
      "epoch 33: train average loss: 1.585 | acc: 99.14% (4250/4287)\n"
     ]
    },
    {
     "name": "stderr",
     "output_type": "stream",
     "text": [
      " 11%|█         | 33/300 [00:13<01:52,  2.36it/s]"
     ]
    },
    {
     "name": "stdout",
     "output_type": "stream",
     "text": [
      "\n",
      "epoch 33: test average loss: 7.237 | acc: 98.11% (467/476)\n",
      "EarlyStopping counter: 10/25 (best: 0.9979)\n",
      "\n",
      "epoch 34: train average loss: 1.578 | acc: 99.18% (4252/4287)\n"
     ]
    },
    {
     "name": "stderr",
     "output_type": "stream",
     "text": [
      " 11%|█▏        | 34/300 [00:13<01:51,  2.38it/s]"
     ]
    },
    {
     "name": "stdout",
     "output_type": "stream",
     "text": [
      "\n",
      "epoch 34: test average loss: 7.374 | acc: 98.74% (470/476)\n",
      "EarlyStopping counter: 11/25 (best: 0.9979)\n",
      "\n",
      "epoch 35: train average loss: 1.572 | acc: 99.42% (4262/4287)\n"
     ]
    },
    {
     "name": "stderr",
     "output_type": "stream",
     "text": [
      " 12%|█▏        | 35/300 [00:14<01:51,  2.37it/s]"
     ]
    },
    {
     "name": "stdout",
     "output_type": "stream",
     "text": [
      "\n",
      "epoch 35: test average loss: 7.341 | acc: 98.95% (471/476)\n",
      "EarlyStopping counter: 12/25 (best: 0.9979)\n",
      "\n",
      "epoch 36: train average loss: 1.564 | acc: 99.11% (4249/4287)\n"
     ]
    },
    {
     "name": "stderr",
     "output_type": "stream",
     "text": [
      " 12%|█▏        | 36/300 [00:14<01:51,  2.36it/s]"
     ]
    },
    {
     "name": "stdout",
     "output_type": "stream",
     "text": [
      "\n",
      "epoch 36: test average loss: 7.415 | acc: 98.95% (471/476)\n",
      "EarlyStopping counter: 13/25 (best: 0.9979)\n",
      "\n",
      "epoch 37: train average loss: 1.561 | acc: 99.53% (4267/4287)\n"
     ]
    },
    {
     "name": "stderr",
     "output_type": "stream",
     "text": [
      " 12%|█▏        | 37/300 [00:15<01:54,  2.29it/s]"
     ]
    },
    {
     "name": "stdout",
     "output_type": "stream",
     "text": [
      "\n",
      "epoch 37: test average loss: 7.401 | acc: 98.95% (471/476)\n",
      "EarlyStopping counter: 14/25 (best: 0.9979)\n",
      "\n",
      "epoch 38: train average loss: 1.559 | acc: 99.46% (4264/4287)\n"
     ]
    },
    {
     "name": "stderr",
     "output_type": "stream",
     "text": [
      " 13%|█▎        | 38/300 [00:15<01:54,  2.29it/s]"
     ]
    },
    {
     "name": "stdout",
     "output_type": "stream",
     "text": [
      "\n",
      "epoch 38: test average loss: 7.449 | acc: 98.95% (471/476)\n",
      "EarlyStopping counter: 15/25 (best: 0.9979)\n",
      "\n",
      "epoch 39: train average loss: 1.553 | acc: 99.51% (4266/4287)\n"
     ]
    },
    {
     "name": "stderr",
     "output_type": "stream",
     "text": [
      " 13%|█▎        | 39/300 [00:16<01:50,  2.35it/s]"
     ]
    },
    {
     "name": "stdout",
     "output_type": "stream",
     "text": [
      "\n",
      "epoch 39: test average loss: 7.579 | acc: 98.95% (471/476)\n",
      "EarlyStopping counter: 16/25 (best: 0.9979)\n",
      "\n",
      "epoch 40: train average loss: 1.550 | acc: 99.30% (4257/4287)\n"
     ]
    },
    {
     "name": "stderr",
     "output_type": "stream",
     "text": [
      " 13%|█▎        | 40/300 [00:16<01:48,  2.39it/s]"
     ]
    },
    {
     "name": "stdout",
     "output_type": "stream",
     "text": [
      "\n",
      "epoch 40: test average loss: 7.562 | acc: 98.95% (471/476)\n",
      "EarlyStopping counter: 17/25 (best: 0.9979)\n",
      "\n",
      "epoch 41: train average loss: 1.550 | acc: 99.30% (4257/4287)\n"
     ]
    },
    {
     "name": "stderr",
     "output_type": "stream",
     "text": [
      " 14%|█▎        | 41/300 [00:16<01:50,  2.33it/s]"
     ]
    },
    {
     "name": "stdout",
     "output_type": "stream",
     "text": [
      "\n",
      "epoch 41: test average loss: 7.570 | acc: 98.95% (471/476)\n",
      "EarlyStopping counter: 18/25 (best: 0.9979)\n",
      "\n",
      "epoch 42: train average loss: 1.542 | acc: 99.58% (4269/4287)\n"
     ]
    },
    {
     "name": "stderr",
     "output_type": "stream",
     "text": [
      " 14%|█▍        | 42/300 [00:17<01:48,  2.37it/s]"
     ]
    },
    {
     "name": "stdout",
     "output_type": "stream",
     "text": [
      "\n",
      "epoch 42: test average loss: 7.643 | acc: 98.95% (471/476)\n",
      "EarlyStopping counter: 19/25 (best: 0.9979)\n",
      "\n",
      "epoch 43: train average loss: 1.540 | acc: 99.63% (4271/4287)\n"
     ]
    },
    {
     "name": "stderr",
     "output_type": "stream",
     "text": [
      " 14%|█▍        | 43/300 [00:17<01:50,  2.33it/s]"
     ]
    },
    {
     "name": "stdout",
     "output_type": "stream",
     "text": [
      "\n",
      "epoch 43: test average loss: 7.701 | acc: 98.95% (471/476)\n",
      "EarlyStopping counter: 20/25 (best: 0.9979)\n",
      "\n",
      "epoch 44: train average loss: 1.536 | acc: 99.72% (4275/4287)\n"
     ]
    },
    {
     "name": "stderr",
     "output_type": "stream",
     "text": [
      " 15%|█▍        | 44/300 [00:18<01:46,  2.39it/s]"
     ]
    },
    {
     "name": "stdout",
     "output_type": "stream",
     "text": [
      "\n",
      "epoch 44: test average loss: 7.722 | acc: 98.95% (471/476)\n",
      "EarlyStopping counter: 21/25 (best: 0.9979)\n",
      "\n",
      "epoch 45: train average loss: 1.541 | acc: 99.42% (4262/4287)\n"
     ]
    },
    {
     "name": "stderr",
     "output_type": "stream",
     "text": [
      " 15%|█▌        | 45/300 [00:18<01:43,  2.46it/s]"
     ]
    },
    {
     "name": "stdout",
     "output_type": "stream",
     "text": [
      "\n",
      "epoch 45: test average loss: 7.649 | acc: 98.95% (471/476)\n",
      "EarlyStopping counter: 22/25 (best: 0.9979)\n",
      "\n",
      "epoch 46: train average loss: 1.535 | acc: 99.67% (4273/4287)\n"
     ]
    },
    {
     "name": "stderr",
     "output_type": "stream",
     "text": [
      " 15%|█▌        | 46/300 [00:18<01:42,  2.47it/s]"
     ]
    },
    {
     "name": "stdout",
     "output_type": "stream",
     "text": [
      "\n",
      "epoch 46: test average loss: 7.689 | acc: 98.95% (471/476)\n",
      "EarlyStopping counter: 23/25 (best: 0.9979)\n",
      "\n",
      "epoch 47: train average loss: 1.533 | acc: 99.32% (4258/4287)\n"
     ]
    },
    {
     "name": "stderr",
     "output_type": "stream",
     "text": [
      " 16%|█▌        | 47/300 [00:19<01:40,  2.52it/s]"
     ]
    },
    {
     "name": "stdout",
     "output_type": "stream",
     "text": [
      "\n",
      "epoch 47: test average loss: 7.710 | acc: 99.16% (472/476)\n",
      "EarlyStopping counter: 24/25 (best: 0.9979)\n",
      "\n",
      "epoch 48: train average loss: 1.541 | acc: 99.58% (4269/4287)\n"
     ]
    },
    {
     "name": "stderr",
     "output_type": "stream",
     "text": [
      " 16%|█▌        | 47/300 [00:19<01:46,  2.38it/s]"
     ]
    },
    {
     "name": "stdout",
     "output_type": "stream",
     "text": [
      "\n",
      "epoch 48: test average loss: 7.704 | acc: 98.74% (470/476)\n",
      "EarlyStopping counter: 25/25 (best: 0.9979)\n",
      "🔴 Early stopping triggered\n",
      "load model at epoch 23, with test acc : 0.998\n"
     ]
    },
    {
     "name": "stderr",
     "output_type": "stream",
     "text": [
      "\n",
      "/tmp/ipykernel_3428831/1054042983.py:175: FutureWarning:\n",
      "\n",
      "You are using `torch.load` with `weights_only=False` (the current default value), which uses the default pickle module implicitly. It is possible to construct malicious pickle data which will execute arbitrary code during unpickling (See https://github.com/pytorch/pytorch/blob/main/SECURITY.md#untrusted-models for more details). In a future release, the default value for `weights_only` will be flipped to `True`. This limits the functions that could be executed during unpickling. Arbitrary objects will no longer be allowed to be loaded via this mode unless they are explicitly allowlisted by the user via `torch.serialization.add_safe_globals`. We recommend you start setting `weights_only=True` for any use case where you don't have full control of the loaded file. Please open an issue on GitHub for any issues related to this experimental feature.\n",
      "\n"
     ]
    },
    {
     "name": "stdout",
     "output_type": "stream",
     "text": [
      "total 0.9978991596638656\n",
      "class 0 1.0\n",
      "class 1 0.9978118161925602\n",
      "                            0\n",
      "Accuracy               0.9979\n",
      "Recall          [1.0, 0.9978]\n",
      "Specificity     [0.9978, 1.0]\n",
      "Precision         [0.95, 1.0]\n",
      "F1 Score     [0.9744, 0.9989]\n",
      "6\n"
     ]
    },
    {
     "name": "stderr",
     "output_type": "stream",
     "text": [
      "  0%|          | 0/300 [00:00<?, ?it/s]"
     ]
    },
    {
     "name": "stdout",
     "output_type": "stream",
     "text": [
      "\n",
      "epoch 1: train average loss: 30.099 | acc: 51.11% (2191/4287)\n"
     ]
    },
    {
     "name": "stderr",
     "output_type": "stream",
     "text": [
      "  0%|          | 1/300 [00:00<01:53,  2.63it/s]"
     ]
    },
    {
     "name": "stdout",
     "output_type": "stream",
     "text": [
      "\n",
      "epoch 1: test average loss: 26.802 | acc: 96.01% (457/476)\n",
      "best test acc found\n",
      "\n",
      "epoch 2: train average loss: 23.007 | acc: 54.40% (2332/4287)\n"
     ]
    },
    {
     "name": "stderr",
     "output_type": "stream",
     "text": [
      "  1%|          | 2/300 [00:00<01:52,  2.64it/s]"
     ]
    },
    {
     "name": "stdout",
     "output_type": "stream",
     "text": [
      "\n",
      "epoch 2: test average loss: 22.827 | acc: 96.01% (457/476)\n",
      "EarlyStopping counter: 1/25 (best: 0.9601)\n",
      "\n",
      "epoch 3: train average loss: 18.701 | acc: 61.74% (2647/4287)\n"
     ]
    },
    {
     "name": "stderr",
     "output_type": "stream",
     "text": [
      "  1%|          | 3/300 [00:01<01:53,  2.63it/s]"
     ]
    },
    {
     "name": "stdout",
     "output_type": "stream",
     "text": [
      "\n",
      "epoch 3: test average loss: 21.162 | acc: 96.01% (457/476)\n",
      "EarlyStopping counter: 2/25 (best: 0.9601)\n",
      "\n",
      "epoch 4: train average loss: 15.725 | acc: 64.36% (2759/4287)\n"
     ]
    },
    {
     "name": "stderr",
     "output_type": "stream",
     "text": [
      "  1%|▏         | 4/300 [00:01<01:54,  2.58it/s]"
     ]
    },
    {
     "name": "stdout",
     "output_type": "stream",
     "text": [
      "\n",
      "epoch 4: test average loss: 20.601 | acc: 97.48% (464/476)\n",
      "best test acc found\n",
      "\n",
      "epoch 5: train average loss: 13.563 | acc: 66.50% (2851/4287)\n"
     ]
    },
    {
     "name": "stderr",
     "output_type": "stream",
     "text": [
      "  2%|▏         | 5/300 [00:01<01:59,  2.48it/s]"
     ]
    },
    {
     "name": "stdout",
     "output_type": "stream",
     "text": [
      "\n",
      "epoch 5: test average loss: 19.044 | acc: 38.03% (181/476)\n",
      "EarlyStopping counter: 1/25 (best: 0.9748)\n",
      "\n",
      "epoch 6: train average loss: 11.678 | acc: 68.32% (2929/4287)\n"
     ]
    },
    {
     "name": "stderr",
     "output_type": "stream",
     "text": [
      "  2%|▏         | 6/300 [00:02<02:03,  2.38it/s]"
     ]
    },
    {
     "name": "stdout",
     "output_type": "stream",
     "text": [
      "\n",
      "epoch 6: test average loss: 14.744 | acc: 97.06% (462/476)\n",
      "EarlyStopping counter: 2/25 (best: 0.9748)\n",
      "\n",
      "epoch 7: train average loss: 10.114 | acc: 71.73% (3075/4287)\n"
     ]
    },
    {
     "name": "stderr",
     "output_type": "stream",
     "text": [
      "  2%|▏         | 7/300 [00:02<02:02,  2.40it/s]"
     ]
    },
    {
     "name": "stdout",
     "output_type": "stream",
     "text": [
      "\n",
      "epoch 7: test average loss: 14.227 | acc: 39.92% (190/476)\n",
      "EarlyStopping counter: 3/25 (best: 0.9748)\n",
      "\n",
      "epoch 8: train average loss: 6.974 | acc: 73.22% (3139/4287)\n"
     ]
    },
    {
     "name": "stderr",
     "output_type": "stream",
     "text": [
      "  3%|▎         | 8/300 [00:03<02:02,  2.38it/s]"
     ]
    },
    {
     "name": "stdout",
     "output_type": "stream",
     "text": [
      "\n",
      "epoch 8: test average loss: 13.085 | acc: 81.09% (386/476)\n",
      "EarlyStopping counter: 4/25 (best: 0.9748)\n",
      "\n",
      "epoch 9: train average loss: 5.595 | acc: 73.73% (3161/4287)\n"
     ]
    },
    {
     "name": "stderr",
     "output_type": "stream",
     "text": [
      "  3%|▎         | 9/300 [00:03<02:01,  2.39it/s]"
     ]
    },
    {
     "name": "stdout",
     "output_type": "stream",
     "text": [
      "\n",
      "epoch 9: test average loss: 24.820 | acc: 34.03% (162/476)\n",
      "EarlyStopping counter: 5/25 (best: 0.9748)\n",
      "\n",
      "epoch 10: train average loss: 5.705 | acc: 77.51% (3323/4287)\n"
     ]
    },
    {
     "name": "stderr",
     "output_type": "stream",
     "text": [
      "  3%|▎         | 10/300 [00:04<01:59,  2.43it/s]"
     ]
    },
    {
     "name": "stdout",
     "output_type": "stream",
     "text": [
      "\n",
      "epoch 10: test average loss: 10.348 | acc: 77.31% (368/476)\n",
      "EarlyStopping counter: 6/25 (best: 0.9748)\n",
      "\n",
      "epoch 11: train average loss: 3.997 | acc: 80.36% (3445/4287)\n"
     ]
    },
    {
     "name": "stderr",
     "output_type": "stream",
     "text": [
      "  4%|▎         | 11/300 [00:04<01:58,  2.43it/s]"
     ]
    },
    {
     "name": "stdout",
     "output_type": "stream",
     "text": [
      "\n",
      "epoch 11: test average loss: 9.284 | acc: 93.91% (447/476)\n",
      "EarlyStopping counter: 7/25 (best: 0.9748)\n",
      "\n",
      "epoch 12: train average loss: 3.432 | acc: 82.95% (3556/4287)\n"
     ]
    },
    {
     "name": "stderr",
     "output_type": "stream",
     "text": [
      "  4%|▍         | 12/300 [00:04<01:58,  2.43it/s]"
     ]
    },
    {
     "name": "stdout",
     "output_type": "stream",
     "text": [
      "\n",
      "epoch 12: test average loss: 5.389 | acc: 86.34% (411/476)\n",
      "EarlyStopping counter: 8/25 (best: 0.9748)\n",
      "\n",
      "epoch 13: train average loss: 2.474 | acc: 84.60% (3627/4287)\n"
     ]
    },
    {
     "name": "stderr",
     "output_type": "stream",
     "text": [
      "  4%|▍         | 13/300 [00:05<01:57,  2.45it/s]"
     ]
    },
    {
     "name": "stdout",
     "output_type": "stream",
     "text": [
      "\n",
      "epoch 13: test average loss: 5.400 | acc: 94.75% (451/476)\n",
      "EarlyStopping counter: 9/25 (best: 0.9748)\n",
      "\n",
      "epoch 14: train average loss: 1.929 | acc: 88.90% (3811/4287)\n"
     ]
    },
    {
     "name": "stderr",
     "output_type": "stream",
     "text": [
      "  5%|▍         | 14/300 [00:05<01:56,  2.46it/s]"
     ]
    },
    {
     "name": "stdout",
     "output_type": "stream",
     "text": [
      "\n",
      "epoch 14: test average loss: 4.730 | acc: 95.80% (456/476)\n",
      "EarlyStopping counter: 10/25 (best: 0.9748)\n",
      "\n",
      "epoch 15: train average loss: 1.755 | acc: 89.64% (3843/4287)\n"
     ]
    },
    {
     "name": "stderr",
     "output_type": "stream",
     "text": [
      "  5%|▌         | 15/300 [00:06<01:56,  2.45it/s]"
     ]
    },
    {
     "name": "stdout",
     "output_type": "stream",
     "text": [
      "\n",
      "epoch 15: test average loss: 4.132 | acc: 96.43% (459/476)\n",
      "EarlyStopping counter: 11/25 (best: 0.9748)\n",
      "\n",
      "epoch 16: train average loss: 1.730 | acc: 92.42% (3962/4287)\n"
     ]
    },
    {
     "name": "stderr",
     "output_type": "stream",
     "text": [
      "  5%|▌         | 16/300 [00:06<01:56,  2.45it/s]"
     ]
    },
    {
     "name": "stdout",
     "output_type": "stream",
     "text": [
      "\n",
      "epoch 16: test average loss: 3.820 | acc: 97.06% (462/476)\n",
      "EarlyStopping counter: 12/25 (best: 0.9748)\n",
      "\n",
      "epoch 17: train average loss: 1.709 | acc: 92.65% (3972/4287)\n"
     ]
    },
    {
     "name": "stderr",
     "output_type": "stream",
     "text": [
      "  6%|▌         | 17/300 [00:06<01:57,  2.40it/s]"
     ]
    },
    {
     "name": "stdout",
     "output_type": "stream",
     "text": [
      "\n",
      "epoch 17: test average loss: 2.754 | acc: 95.38% (454/476)\n",
      "EarlyStopping counter: 13/25 (best: 0.9748)\n",
      "\n",
      "epoch 18: train average loss: 1.692 | acc: 93.21% (3996/4287)\n"
     ]
    },
    {
     "name": "stderr",
     "output_type": "stream",
     "text": [
      "  6%|▌         | 18/300 [00:07<01:56,  2.41it/s]"
     ]
    },
    {
     "name": "stdout",
     "output_type": "stream",
     "text": [
      "\n",
      "epoch 18: test average loss: 3.041 | acc: 95.80% (456/476)\n",
      "EarlyStopping counter: 14/25 (best: 0.9748)\n",
      "\n",
      "epoch 19: train average loss: 1.676 | acc: 95.08% (4076/4287)\n"
     ]
    },
    {
     "name": "stderr",
     "output_type": "stream",
     "text": [
      "  6%|▋         | 19/300 [00:07<01:56,  2.40it/s]"
     ]
    },
    {
     "name": "stdout",
     "output_type": "stream",
     "text": [
      "\n",
      "epoch 19: test average loss: 3.954 | acc: 98.11% (467/476)\n",
      "best test acc found\n",
      "\n",
      "epoch 20: train average loss: 1.671 | acc: 95.99% (4115/4287)\n"
     ]
    },
    {
     "name": "stderr",
     "output_type": "stream",
     "text": [
      "  7%|▋         | 20/300 [00:08<01:59,  2.35it/s]"
     ]
    },
    {
     "name": "stdout",
     "output_type": "stream",
     "text": [
      "\n",
      "epoch 20: test average loss: 4.558 | acc: 98.53% (469/476)\n",
      "best test acc found\n",
      "\n",
      "epoch 21: train average loss: 1.659 | acc: 95.71% (4103/4287)\n"
     ]
    },
    {
     "name": "stderr",
     "output_type": "stream",
     "text": [
      "  7%|▋         | 21/300 [00:08<01:55,  2.42it/s]"
     ]
    },
    {
     "name": "stdout",
     "output_type": "stream",
     "text": [
      "\n",
      "epoch 21: test average loss: 4.686 | acc: 98.32% (468/476)\n",
      "EarlyStopping counter: 1/25 (best: 0.9853)\n",
      "\n",
      "epoch 22: train average loss: 1.641 | acc: 96.43% (4134/4287)\n"
     ]
    },
    {
     "name": "stderr",
     "output_type": "stream",
     "text": [
      "  7%|▋         | 22/300 [00:09<01:52,  2.46it/s]"
     ]
    },
    {
     "name": "stdout",
     "output_type": "stream",
     "text": [
      "\n",
      "epoch 22: test average loss: 4.504 | acc: 98.11% (467/476)\n",
      "EarlyStopping counter: 2/25 (best: 0.9853)\n",
      "\n",
      "epoch 23: train average loss: 1.634 | acc: 96.87% (4153/4287)\n"
     ]
    },
    {
     "name": "stderr",
     "output_type": "stream",
     "text": [
      "  8%|▊         | 23/300 [00:09<01:51,  2.49it/s]"
     ]
    },
    {
     "name": "stdout",
     "output_type": "stream",
     "text": [
      "\n",
      "epoch 23: test average loss: 4.830 | acc: 98.11% (467/476)\n",
      "EarlyStopping counter: 3/25 (best: 0.9853)\n",
      "\n",
      "epoch 24: train average loss: 1.629 | acc: 97.34% (4173/4287)\n"
     ]
    },
    {
     "name": "stderr",
     "output_type": "stream",
     "text": [
      "  8%|▊         | 24/300 [00:09<01:50,  2.50it/s]"
     ]
    },
    {
     "name": "stdout",
     "output_type": "stream",
     "text": [
      "\n",
      "epoch 24: test average loss: 4.892 | acc: 98.95% (471/476)\n",
      "best test acc found\n",
      "\n",
      "epoch 25: train average loss: 1.622 | acc: 97.27% (4170/4287)\n"
     ]
    },
    {
     "name": "stderr",
     "output_type": "stream",
     "text": [
      "  8%|▊         | 25/300 [00:10<01:48,  2.53it/s]"
     ]
    },
    {
     "name": "stdout",
     "output_type": "stream",
     "text": [
      "\n",
      "epoch 25: test average loss: 4.600 | acc: 98.53% (469/476)\n",
      "EarlyStopping counter: 1/25 (best: 0.9895)\n",
      "\n",
      "epoch 26: train average loss: 1.613 | acc: 97.13% (4164/4287)\n"
     ]
    },
    {
     "name": "stderr",
     "output_type": "stream",
     "text": [
      "  9%|▊         | 26/300 [00:10<01:49,  2.51it/s]"
     ]
    },
    {
     "name": "stdout",
     "output_type": "stream",
     "text": [
      "\n",
      "epoch 26: test average loss: 4.257 | acc: 98.74% (470/476)\n",
      "EarlyStopping counter: 2/25 (best: 0.9895)\n",
      "\n",
      "epoch 27: train average loss: 1.604 | acc: 97.74% (4190/4287)\n"
     ]
    },
    {
     "name": "stderr",
     "output_type": "stream",
     "text": [
      "  9%|▉         | 27/300 [00:10<01:47,  2.55it/s]"
     ]
    },
    {
     "name": "stdout",
     "output_type": "stream",
     "text": [
      "\n",
      "epoch 27: test average loss: 4.076 | acc: 98.53% (469/476)\n",
      "EarlyStopping counter: 3/25 (best: 0.9895)\n",
      "\n",
      "epoch 28: train average loss: 1.593 | acc: 98.13% (4207/4287)\n"
     ]
    },
    {
     "name": "stderr",
     "output_type": "stream",
     "text": [
      "  9%|▉         | 28/300 [00:11<01:47,  2.54it/s]"
     ]
    },
    {
     "name": "stdout",
     "output_type": "stream",
     "text": [
      "\n",
      "epoch 28: test average loss: 4.327 | acc: 98.95% (471/476)\n",
      "EarlyStopping counter: 4/25 (best: 0.9895)\n",
      "\n",
      "epoch 29: train average loss: 1.589 | acc: 98.25% (4212/4287)\n"
     ]
    },
    {
     "name": "stderr",
     "output_type": "stream",
     "text": [
      " 10%|▉         | 29/300 [00:11<01:46,  2.55it/s]"
     ]
    },
    {
     "name": "stdout",
     "output_type": "stream",
     "text": [
      "\n",
      "epoch 29: test average loss: 4.701 | acc: 98.95% (471/476)\n",
      "EarlyStopping counter: 5/25 (best: 0.9895)\n",
      "\n",
      "epoch 30: train average loss: 1.583 | acc: 97.92% (4198/4287)\n"
     ]
    },
    {
     "name": "stderr",
     "output_type": "stream",
     "text": [
      " 10%|█         | 30/300 [00:12<01:45,  2.57it/s]"
     ]
    },
    {
     "name": "stdout",
     "output_type": "stream",
     "text": [
      "\n",
      "epoch 30: test average loss: 4.524 | acc: 98.95% (471/476)\n",
      "EarlyStopping counter: 6/25 (best: 0.9895)\n",
      "\n",
      "epoch 31: train average loss: 1.577 | acc: 98.58% (4226/4287)\n"
     ]
    },
    {
     "name": "stderr",
     "output_type": "stream",
     "text": [
      " 10%|█         | 31/300 [00:12<01:48,  2.47it/s]"
     ]
    },
    {
     "name": "stdout",
     "output_type": "stream",
     "text": [
      "\n",
      "epoch 31: test average loss: 4.904 | acc: 98.95% (471/476)\n",
      "EarlyStopping counter: 7/25 (best: 0.9895)\n",
      "\n",
      "epoch 32: train average loss: 1.566 | acc: 98.76% (4234/4287)\n"
     ]
    },
    {
     "name": "stderr",
     "output_type": "stream",
     "text": [
      " 11%|█         | 32/300 [00:12<01:50,  2.43it/s]"
     ]
    },
    {
     "name": "stdout",
     "output_type": "stream",
     "text": [
      "\n",
      "epoch 32: test average loss: 5.092 | acc: 98.95% (471/476)\n",
      "EarlyStopping counter: 8/25 (best: 0.9895)\n",
      "\n",
      "epoch 33: train average loss: 1.570 | acc: 98.86% (4238/4287)\n"
     ]
    },
    {
     "name": "stderr",
     "output_type": "stream",
     "text": [
      " 11%|█         | 33/300 [00:13<01:54,  2.34it/s]"
     ]
    },
    {
     "name": "stdout",
     "output_type": "stream",
     "text": [
      "\n",
      "epoch 33: test average loss: 5.183 | acc: 98.95% (471/476)\n",
      "EarlyStopping counter: 9/25 (best: 0.9895)\n",
      "\n",
      "epoch 34: train average loss: 1.563 | acc: 99.09% (4248/4287)\n"
     ]
    },
    {
     "name": "stderr",
     "output_type": "stream",
     "text": [
      " 11%|█▏        | 34/300 [00:13<01:53,  2.33it/s]"
     ]
    },
    {
     "name": "stdout",
     "output_type": "stream",
     "text": [
      "\n",
      "epoch 34: test average loss: 4.391 | acc: 98.95% (471/476)\n",
      "EarlyStopping counter: 10/25 (best: 0.9895)\n",
      "\n",
      "epoch 35: train average loss: 1.553 | acc: 98.97% (4243/4287)\n"
     ]
    },
    {
     "name": "stderr",
     "output_type": "stream",
     "text": [
      " 12%|█▏        | 35/300 [00:14<01:53,  2.34it/s]"
     ]
    },
    {
     "name": "stdout",
     "output_type": "stream",
     "text": [
      "\n",
      "epoch 35: test average loss: 4.207 | acc: 98.95% (471/476)\n",
      "EarlyStopping counter: 11/25 (best: 0.9895)\n",
      "\n",
      "epoch 36: train average loss: 1.550 | acc: 98.97% (4243/4287)\n"
     ]
    },
    {
     "name": "stderr",
     "output_type": "stream",
     "text": [
      " 12%|█▏        | 36/300 [00:14<01:52,  2.35it/s]"
     ]
    },
    {
     "name": "stdout",
     "output_type": "stream",
     "text": [
      "\n",
      "epoch 36: test average loss: 4.357 | acc: 98.95% (471/476)\n",
      "EarlyStopping counter: 12/25 (best: 0.9895)\n",
      "\n",
      "epoch 37: train average loss: 1.552 | acc: 98.76% (4234/4287)\n"
     ]
    },
    {
     "name": "stderr",
     "output_type": "stream",
     "text": [
      " 12%|█▏        | 37/300 [00:15<01:50,  2.38it/s]"
     ]
    },
    {
     "name": "stdout",
     "output_type": "stream",
     "text": [
      "\n",
      "epoch 37: test average loss: 4.017 | acc: 99.16% (472/476)\n",
      "best test acc found\n",
      "\n",
      "epoch 38: train average loss: 1.552 | acc: 98.76% (4234/4287)\n"
     ]
    },
    {
     "name": "stderr",
     "output_type": "stream",
     "text": [
      " 13%|█▎        | 38/300 [00:15<01:47,  2.43it/s]"
     ]
    },
    {
     "name": "stdout",
     "output_type": "stream",
     "text": [
      "\n",
      "epoch 38: test average loss: 4.930 | acc: 99.16% (472/476)\n",
      "EarlyStopping counter: 1/25 (best: 0.9916)\n",
      "\n",
      "epoch 39: train average loss: 1.537 | acc: 99.21% (4253/4287)\n"
     ]
    },
    {
     "name": "stderr",
     "output_type": "stream",
     "text": [
      " 13%|█▎        | 39/300 [00:16<01:56,  2.24it/s]"
     ]
    },
    {
     "name": "stdout",
     "output_type": "stream",
     "text": [
      "\n",
      "epoch 39: test average loss: 5.221 | acc: 99.37% (473/476)\n",
      "best test acc found\n",
      "\n",
      "epoch 40: train average loss: 1.537 | acc: 99.18% (4252/4287)\n"
     ]
    },
    {
     "name": "stderr",
     "output_type": "stream",
     "text": [
      " 13%|█▎        | 40/300 [00:16<01:54,  2.27it/s]"
     ]
    },
    {
     "name": "stdout",
     "output_type": "stream",
     "text": [
      "\n",
      "epoch 40: test average loss: 5.318 | acc: 99.37% (473/476)\n",
      "EarlyStopping counter: 1/25 (best: 0.9937)\n",
      "\n",
      "epoch 41: train average loss: 1.549 | acc: 98.88% (4239/4287)\n"
     ]
    },
    {
     "name": "stderr",
     "output_type": "stream",
     "text": [
      " 14%|█▎        | 41/300 [00:16<01:51,  2.31it/s]"
     ]
    },
    {
     "name": "stdout",
     "output_type": "stream",
     "text": [
      "\n",
      "epoch 41: test average loss: 4.655 | acc: 99.16% (472/476)\n",
      "EarlyStopping counter: 2/25 (best: 0.9937)\n",
      "\n",
      "epoch 42: train average loss: 1.537 | acc: 99.14% (4250/4287)\n"
     ]
    },
    {
     "name": "stderr",
     "output_type": "stream",
     "text": [
      " 14%|█▍        | 42/300 [00:17<01:49,  2.36it/s]"
     ]
    },
    {
     "name": "stdout",
     "output_type": "stream",
     "text": [
      "\n",
      "epoch 42: test average loss: 4.544 | acc: 99.16% (472/476)\n",
      "EarlyStopping counter: 3/25 (best: 0.9937)\n",
      "\n",
      "epoch 43: train average loss: 1.532 | acc: 99.23% (4254/4287)\n"
     ]
    },
    {
     "name": "stderr",
     "output_type": "stream",
     "text": [
      " 14%|█▍        | 43/300 [00:17<01:48,  2.38it/s]"
     ]
    },
    {
     "name": "stdout",
     "output_type": "stream",
     "text": [
      "\n",
      "epoch 43: test average loss: 4.750 | acc: 99.37% (473/476)\n",
      "EarlyStopping counter: 4/25 (best: 0.9937)\n",
      "\n",
      "epoch 44: train average loss: 1.529 | acc: 99.28% (4256/4287)\n"
     ]
    },
    {
     "name": "stderr",
     "output_type": "stream",
     "text": [
      " 15%|█▍        | 44/300 [00:18<01:47,  2.39it/s]"
     ]
    },
    {
     "name": "stdout",
     "output_type": "stream",
     "text": [
      "\n",
      "epoch 44: test average loss: 5.068 | acc: 99.37% (473/476)\n",
      "EarlyStopping counter: 5/25 (best: 0.9937)\n",
      "\n",
      "epoch 45: train average loss: 1.526 | acc: 99.39% (4261/4287)\n"
     ]
    },
    {
     "name": "stderr",
     "output_type": "stream",
     "text": [
      " 15%|█▌        | 45/300 [00:18<01:44,  2.45it/s]"
     ]
    },
    {
     "name": "stdout",
     "output_type": "stream",
     "text": [
      "\n",
      "epoch 45: test average loss: 5.260 | acc: 99.37% (473/476)\n",
      "EarlyStopping counter: 6/25 (best: 0.9937)\n",
      "\n",
      "epoch 46: train average loss: 1.525 | acc: 99.37% (4260/4287)\n"
     ]
    },
    {
     "name": "stderr",
     "output_type": "stream",
     "text": [
      " 15%|█▌        | 46/300 [00:18<01:40,  2.52it/s]"
     ]
    },
    {
     "name": "stdout",
     "output_type": "stream",
     "text": [
      "\n",
      "epoch 46: test average loss: 5.153 | acc: 99.37% (473/476)\n",
      "EarlyStopping counter: 7/25 (best: 0.9937)\n",
      "\n",
      "epoch 47: train average loss: 1.524 | acc: 99.30% (4257/4287)\n"
     ]
    },
    {
     "name": "stderr",
     "output_type": "stream",
     "text": [
      " 16%|█▌        | 47/300 [00:19<01:39,  2.54it/s]"
     ]
    },
    {
     "name": "stdout",
     "output_type": "stream",
     "text": [
      "\n",
      "epoch 47: test average loss: 5.157 | acc: 99.37% (473/476)\n",
      "EarlyStopping counter: 8/25 (best: 0.9937)\n",
      "\n",
      "epoch 48: train average loss: 1.520 | acc: 99.49% (4265/4287)\n"
     ]
    },
    {
     "name": "stderr",
     "output_type": "stream",
     "text": [
      " 16%|█▌        | 48/300 [00:19<01:37,  2.58it/s]"
     ]
    },
    {
     "name": "stdout",
     "output_type": "stream",
     "text": [
      "\n",
      "epoch 48: test average loss: 5.292 | acc: 99.37% (473/476)\n",
      "EarlyStopping counter: 9/25 (best: 0.9937)\n",
      "\n",
      "epoch 49: train average loss: 1.518 | acc: 99.21% (4253/4287)\n"
     ]
    },
    {
     "name": "stderr",
     "output_type": "stream",
     "text": [
      " 16%|█▋        | 49/300 [00:20<01:35,  2.62it/s]"
     ]
    },
    {
     "name": "stdout",
     "output_type": "stream",
     "text": [
      "\n",
      "epoch 49: test average loss: 5.449 | acc: 99.37% (473/476)\n",
      "EarlyStopping counter: 10/25 (best: 0.9937)\n",
      "\n",
      "epoch 50: train average loss: 1.521 | acc: 99.09% (4248/4287)\n"
     ]
    },
    {
     "name": "stderr",
     "output_type": "stream",
     "text": [
      " 17%|█▋        | 50/300 [00:20<01:35,  2.63it/s]"
     ]
    },
    {
     "name": "stdout",
     "output_type": "stream",
     "text": [
      "\n",
      "epoch 50: test average loss: 5.167 | acc: 99.37% (473/476)\n",
      "EarlyStopping counter: 11/25 (best: 0.9937)\n",
      "\n",
      "epoch 51: train average loss: 1.515 | acc: 99.53% (4267/4287)\n"
     ]
    },
    {
     "name": "stderr",
     "output_type": "stream",
     "text": [
      " 17%|█▋        | 51/300 [00:20<01:34,  2.64it/s]"
     ]
    },
    {
     "name": "stdout",
     "output_type": "stream",
     "text": [
      "\n",
      "epoch 51: test average loss: 5.188 | acc: 99.37% (473/476)\n",
      "EarlyStopping counter: 12/25 (best: 0.9937)\n",
      "\n",
      "epoch 52: train average loss: 1.517 | acc: 99.60% (4270/4287)\n"
     ]
    },
    {
     "name": "stderr",
     "output_type": "stream",
     "text": [
      " 17%|█▋        | 52/300 [00:21<01:34,  2.63it/s]"
     ]
    },
    {
     "name": "stdout",
     "output_type": "stream",
     "text": [
      "\n",
      "epoch 52: test average loss: 5.478 | acc: 99.37% (473/476)\n",
      "EarlyStopping counter: 13/25 (best: 0.9937)\n",
      "\n",
      "epoch 53: train average loss: 1.522 | acc: 99.25% (4255/4287)\n"
     ]
    },
    {
     "name": "stderr",
     "output_type": "stream",
     "text": [
      " 18%|█▊        | 53/300 [00:21<01:33,  2.64it/s]"
     ]
    },
    {
     "name": "stdout",
     "output_type": "stream",
     "text": [
      "\n",
      "epoch 53: test average loss: 5.448 | acc: 99.37% (473/476)\n",
      "EarlyStopping counter: 14/25 (best: 0.9937)\n",
      "\n",
      "epoch 54: train average loss: 1.515 | acc: 99.63% (4271/4287)\n"
     ]
    },
    {
     "name": "stderr",
     "output_type": "stream",
     "text": [
      " 18%|█▊        | 54/300 [00:21<01:32,  2.65it/s]"
     ]
    },
    {
     "name": "stdout",
     "output_type": "stream",
     "text": [
      "\n",
      "epoch 54: test average loss: 5.319 | acc: 99.37% (473/476)\n",
      "EarlyStopping counter: 15/25 (best: 0.9937)\n",
      "\n",
      "epoch 55: train average loss: 1.515 | acc: 99.46% (4264/4287)\n"
     ]
    },
    {
     "name": "stderr",
     "output_type": "stream",
     "text": [
      " 18%|█▊        | 55/300 [00:22<01:33,  2.61it/s]"
     ]
    },
    {
     "name": "stdout",
     "output_type": "stream",
     "text": [
      "\n",
      "epoch 55: test average loss: 5.072 | acc: 99.37% (473/476)\n",
      "EarlyStopping counter: 16/25 (best: 0.9937)\n",
      "\n",
      "epoch 56: train average loss: 1.514 | acc: 99.63% (4271/4287)\n"
     ]
    },
    {
     "name": "stderr",
     "output_type": "stream",
     "text": [
      " 19%|█▊        | 56/300 [00:22<01:35,  2.56it/s]"
     ]
    },
    {
     "name": "stdout",
     "output_type": "stream",
     "text": [
      "\n",
      "epoch 56: test average loss: 5.477 | acc: 99.37% (473/476)\n",
      "EarlyStopping counter: 17/25 (best: 0.9937)\n",
      "\n",
      "epoch 57: train average loss: 1.515 | acc: 99.39% (4261/4287)\n"
     ]
    },
    {
     "name": "stderr",
     "output_type": "stream",
     "text": [
      " 19%|█▉        | 57/300 [00:23<01:36,  2.51it/s]"
     ]
    },
    {
     "name": "stdout",
     "output_type": "stream",
     "text": [
      "\n",
      "epoch 57: test average loss: 5.186 | acc: 99.37% (473/476)\n",
      "EarlyStopping counter: 18/25 (best: 0.9937)\n",
      "\n",
      "epoch 58: train average loss: 1.515 | acc: 99.46% (4264/4287)\n"
     ]
    },
    {
     "name": "stderr",
     "output_type": "stream",
     "text": [
      " 19%|█▉        | 58/300 [00:23<01:37,  2.48it/s]"
     ]
    },
    {
     "name": "stdout",
     "output_type": "stream",
     "text": [
      "\n",
      "epoch 58: test average loss: 5.330 | acc: 99.37% (473/476)\n",
      "EarlyStopping counter: 19/25 (best: 0.9937)\n",
      "\n",
      "epoch 59: train average loss: 1.513 | acc: 99.60% (4270/4287)\n"
     ]
    },
    {
     "name": "stderr",
     "output_type": "stream",
     "text": [
      " 20%|█▉        | 59/300 [00:24<01:44,  2.31it/s]"
     ]
    },
    {
     "name": "stdout",
     "output_type": "stream",
     "text": [
      "\n",
      "epoch 59: test average loss: 5.626 | acc: 99.37% (473/476)\n",
      "EarlyStopping counter: 20/25 (best: 0.9937)\n",
      "\n",
      "epoch 60: train average loss: 1.512 | acc: 99.35% (4259/4287)\n"
     ]
    },
    {
     "name": "stderr",
     "output_type": "stream",
     "text": [
      " 20%|██        | 60/300 [00:24<01:41,  2.36it/s]"
     ]
    },
    {
     "name": "stdout",
     "output_type": "stream",
     "text": [
      "\n",
      "epoch 60: test average loss: 5.172 | acc: 99.37% (473/476)\n",
      "EarlyStopping counter: 21/25 (best: 0.9937)\n",
      "\n",
      "epoch 61: train average loss: 1.514 | acc: 99.58% (4269/4287)\n"
     ]
    },
    {
     "name": "stderr",
     "output_type": "stream",
     "text": [
      " 20%|██        | 61/300 [00:24<01:39,  2.41it/s]"
     ]
    },
    {
     "name": "stdout",
     "output_type": "stream",
     "text": [
      "\n",
      "epoch 61: test average loss: 5.277 | acc: 99.37% (473/476)\n",
      "EarlyStopping counter: 22/25 (best: 0.9937)\n",
      "\n",
      "epoch 62: train average loss: 1.515 | acc: 99.35% (4259/4287)\n"
     ]
    },
    {
     "name": "stderr",
     "output_type": "stream",
     "text": [
      " 21%|██        | 62/300 [00:25<01:37,  2.44it/s]"
     ]
    },
    {
     "name": "stdout",
     "output_type": "stream",
     "text": [
      "\n",
      "epoch 62: test average loss: 5.473 | acc: 99.37% (473/476)\n",
      "EarlyStopping counter: 23/25 (best: 0.9937)\n",
      "\n",
      "epoch 63: train average loss: 1.515 | acc: 99.58% (4269/4287)\n"
     ]
    },
    {
     "name": "stderr",
     "output_type": "stream",
     "text": [
      " 21%|██        | 63/300 [00:25<01:36,  2.45it/s]"
     ]
    },
    {
     "name": "stdout",
     "output_type": "stream",
     "text": [
      "\n",
      "epoch 63: test average loss: 5.195 | acc: 99.37% (473/476)\n",
      "EarlyStopping counter: 24/25 (best: 0.9937)\n",
      "\n",
      "epoch 64: train average loss: 1.514 | acc: 99.37% (4260/4287)\n"
     ]
    },
    {
     "name": "stderr",
     "output_type": "stream",
     "text": [
      " 21%|██        | 63/300 [00:26<01:37,  2.42it/s]"
     ]
    },
    {
     "name": "stdout",
     "output_type": "stream",
     "text": [
      "\n",
      "epoch 64: test average loss: 5.337 | acc: 99.37% (473/476)\n",
      "EarlyStopping counter: 25/25 (best: 0.9937)\n",
      "🔴 Early stopping triggered\n",
      "load model at epoch 39, with test acc : 0.994\n"
     ]
    },
    {
     "name": "stderr",
     "output_type": "stream",
     "text": [
      "\n",
      "/tmp/ipykernel_3428831/1054042983.py:175: FutureWarning:\n",
      "\n",
      "You are using `torch.load` with `weights_only=False` (the current default value), which uses the default pickle module implicitly. It is possible to construct malicious pickle data which will execute arbitrary code during unpickling (See https://github.com/pytorch/pytorch/blob/main/SECURITY.md#untrusted-models for more details). In a future release, the default value for `weights_only` will be flipped to `True`. This limits the functions that could be executed during unpickling. Arbitrary objects will no longer be allowed to be loaded via this mode unless they are explicitly allowlisted by the user via `torch.serialization.add_safe_globals`. We recommend you start setting `weights_only=True` for any use case where you don't have full control of the loaded file. Please open an issue on GitHub for any issues related to this experimental feature.\n",
      "\n"
     ]
    },
    {
     "name": "stdout",
     "output_type": "stream",
     "text": [
      "total 0.9936974789915967\n",
      "class 0 1.0\n",
      "class 1 0.9934354485776805\n",
      "                            0\n",
      "Accuracy               0.9937\n",
      "Recall          [1.0, 0.9934]\n",
      "Specificity     [0.9934, 1.0]\n",
      "Precision       [0.8636, 1.0]\n",
      "F1 Score     [0.9268, 0.9967]\n",
      "7\n"
     ]
    },
    {
     "name": "stderr",
     "output_type": "stream",
     "text": [
      "  0%|          | 0/300 [00:00<?, ?it/s]"
     ]
    },
    {
     "name": "stdout",
     "output_type": "stream",
     "text": [
      "\n",
      "epoch 1: train average loss: 30.161 | acc: 56.89% (2439/4287)\n"
     ]
    },
    {
     "name": "stderr",
     "output_type": "stream",
     "text": [
      "  0%|          | 1/300 [00:00<02:04,  2.41it/s]"
     ]
    },
    {
     "name": "stdout",
     "output_type": "stream",
     "text": [
      "\n",
      "epoch 1: test average loss: 25.503 | acc: 3.99% (19/476)\n",
      "best test acc found\n",
      "\n",
      "epoch 2: train average loss: 22.870 | acc: 60.30% (2585/4287)\n"
     ]
    },
    {
     "name": "stderr",
     "output_type": "stream",
     "text": [
      "  1%|          | 2/300 [00:00<02:07,  2.33it/s]"
     ]
    },
    {
     "name": "stdout",
     "output_type": "stream",
     "text": [
      "\n",
      "epoch 2: test average loss: 20.951 | acc: 96.01% (457/476)\n",
      "best test acc found\n",
      "\n",
      "epoch 3: train average loss: 18.859 | acc: 64.33% (2758/4287)\n"
     ]
    },
    {
     "name": "stderr",
     "output_type": "stream",
     "text": [
      "  1%|          | 3/300 [00:01<02:06,  2.34it/s]"
     ]
    },
    {
     "name": "stdout",
     "output_type": "stream",
     "text": [
      "\n",
      "epoch 3: test average loss: 21.194 | acc: 96.01% (457/476)\n",
      "EarlyStopping counter: 1/25 (best: 0.9601)\n",
      "\n",
      "epoch 4: train average loss: 15.784 | acc: 66.76% (2862/4287)\n"
     ]
    },
    {
     "name": "stderr",
     "output_type": "stream",
     "text": [
      "  1%|▏         | 4/300 [00:01<02:06,  2.34it/s]"
     ]
    },
    {
     "name": "stdout",
     "output_type": "stream",
     "text": [
      "\n",
      "epoch 4: test average loss: 19.613 | acc: 97.90% (466/476)\n",
      "best test acc found\n",
      "\n",
      "epoch 5: train average loss: 13.915 | acc: 68.79% (2949/4287)\n"
     ]
    },
    {
     "name": "stderr",
     "output_type": "stream",
     "text": [
      "  2%|▏         | 5/300 [00:02<02:06,  2.33it/s]"
     ]
    },
    {
     "name": "stdout",
     "output_type": "stream",
     "text": [
      "\n",
      "epoch 5: test average loss: 14.096 | acc: 98.32% (468/476)\n",
      "best test acc found\n",
      "\n",
      "epoch 6: train average loss: 13.834 | acc: 71.89% (3082/4287)\n"
     ]
    },
    {
     "name": "stderr",
     "output_type": "stream",
     "text": [
      "  2%|▏         | 6/300 [00:02<02:02,  2.39it/s]"
     ]
    },
    {
     "name": "stdout",
     "output_type": "stream",
     "text": [
      "\n",
      "epoch 6: test average loss: 25.409 | acc: 26.05% (124/476)\n",
      "EarlyStopping counter: 1/25 (best: 0.9832)\n",
      "\n",
      "epoch 7: train average loss: 11.202 | acc: 75.65% (3243/4287)\n"
     ]
    },
    {
     "name": "stderr",
     "output_type": "stream",
     "text": [
      "  2%|▏         | 7/300 [00:02<01:58,  2.47it/s]"
     ]
    },
    {
     "name": "stdout",
     "output_type": "stream",
     "text": [
      "\n",
      "epoch 7: test average loss: 11.664 | acc: 96.85% (461/476)\n",
      "EarlyStopping counter: 2/25 (best: 0.9832)\n",
      "\n",
      "epoch 8: train average loss: 8.574 | acc: 77.63% (3328/4287)\n"
     ]
    },
    {
     "name": "stderr",
     "output_type": "stream",
     "text": [
      "  3%|▎         | 8/300 [00:03<01:55,  2.52it/s]"
     ]
    },
    {
     "name": "stdout",
     "output_type": "stream",
     "text": [
      "\n",
      "epoch 8: test average loss: 11.115 | acc: 90.34% (430/476)\n",
      "EarlyStopping counter: 3/25 (best: 0.9832)\n",
      "\n",
      "epoch 9: train average loss: 4.229 | acc: 80.52% (3452/4287)\n"
     ]
    },
    {
     "name": "stderr",
     "output_type": "stream",
     "text": [
      "  3%|▎         | 9/300 [00:03<01:53,  2.57it/s]"
     ]
    },
    {
     "name": "stdout",
     "output_type": "stream",
     "text": [
      "\n",
      "epoch 9: test average loss: 12.597 | acc: 63.87% (304/476)\n",
      "EarlyStopping counter: 4/25 (best: 0.9832)\n",
      "\n",
      "epoch 10: train average loss: 3.262 | acc: 82.32% (3529/4287)\n"
     ]
    },
    {
     "name": "stderr",
     "output_type": "stream",
     "text": [
      "  3%|▎         | 10/300 [00:04<01:51,  2.60it/s]"
     ]
    },
    {
     "name": "stdout",
     "output_type": "stream",
     "text": [
      "\n",
      "epoch 10: test average loss: 10.684 | acc: 88.45% (421/476)\n",
      "EarlyStopping counter: 5/25 (best: 0.9832)\n",
      "\n",
      "epoch 11: train average loss: 2.596 | acc: 85.58% (3669/4287)\n"
     ]
    },
    {
     "name": "stderr",
     "output_type": "stream",
     "text": [
      "  4%|▎         | 11/300 [00:04<01:50,  2.61it/s]"
     ]
    },
    {
     "name": "stdout",
     "output_type": "stream",
     "text": [
      "\n",
      "epoch 11: test average loss: 12.298 | acc: 91.18% (434/476)\n",
      "EarlyStopping counter: 6/25 (best: 0.9832)\n",
      "\n",
      "epoch 12: train average loss: 2.167 | acc: 87.99% (3772/4287)\n"
     ]
    },
    {
     "name": "stderr",
     "output_type": "stream",
     "text": [
      "  4%|▍         | 12/300 [00:04<01:49,  2.62it/s]"
     ]
    },
    {
     "name": "stdout",
     "output_type": "stream",
     "text": [
      "\n",
      "epoch 12: test average loss: 10.755 | acc: 97.69% (465/476)\n",
      "EarlyStopping counter: 7/25 (best: 0.9832)\n",
      "\n",
      "epoch 13: train average loss: 1.793 | acc: 90.09% (3862/4287)\n"
     ]
    },
    {
     "name": "stderr",
     "output_type": "stream",
     "text": [
      "  4%|▍         | 13/300 [00:05<01:53,  2.53it/s]"
     ]
    },
    {
     "name": "stdout",
     "output_type": "stream",
     "text": [
      "\n",
      "epoch 13: test average loss: 9.931 | acc: 95.80% (456/476)\n",
      "EarlyStopping counter: 8/25 (best: 0.9832)\n",
      "\n",
      "epoch 14: train average loss: 1.913 | acc: 92.77% (3977/4287)\n"
     ]
    },
    {
     "name": "stderr",
     "output_type": "stream",
     "text": [
      "  5%|▍         | 14/300 [00:05<01:52,  2.54it/s]"
     ]
    },
    {
     "name": "stdout",
     "output_type": "stream",
     "text": [
      "\n",
      "epoch 14: test average loss: 10.414 | acc: 96.64% (460/476)\n",
      "EarlyStopping counter: 9/25 (best: 0.9832)\n",
      "\n",
      "epoch 15: train average loss: 1.698 | acc: 94.49% (4051/4287)\n"
     ]
    },
    {
     "name": "stderr",
     "output_type": "stream",
     "text": [
      "  5%|▌         | 15/300 [00:06<01:53,  2.51it/s]"
     ]
    },
    {
     "name": "stdout",
     "output_type": "stream",
     "text": [
      "\n",
      "epoch 15: test average loss: 10.147 | acc: 95.59% (455/476)\n",
      "EarlyStopping counter: 10/25 (best: 0.9832)\n",
      "\n",
      "epoch 16: train average loss: 1.668 | acc: 95.15% (4079/4287)\n"
     ]
    },
    {
     "name": "stderr",
     "output_type": "stream",
     "text": [
      "  5%|▌         | 16/300 [00:06<01:55,  2.46it/s]"
     ]
    },
    {
     "name": "stdout",
     "output_type": "stream",
     "text": [
      "\n",
      "epoch 16: test average loss: 10.154 | acc: 96.43% (459/476)\n",
      "EarlyStopping counter: 11/25 (best: 0.9832)\n",
      "\n",
      "epoch 17: train average loss: 1.638 | acc: 96.43% (4134/4287)\n"
     ]
    },
    {
     "name": "stderr",
     "output_type": "stream",
     "text": [
      "  6%|▌         | 17/300 [00:06<01:57,  2.42it/s]"
     ]
    },
    {
     "name": "stdout",
     "output_type": "stream",
     "text": [
      "\n",
      "epoch 17: test average loss: 10.425 | acc: 97.06% (462/476)\n",
      "EarlyStopping counter: 12/25 (best: 0.9832)\n",
      "\n",
      "epoch 18: train average loss: 1.622 | acc: 96.62% (4142/4287)\n"
     ]
    },
    {
     "name": "stderr",
     "output_type": "stream",
     "text": [
      "  6%|▌         | 18/300 [00:07<02:01,  2.33it/s]"
     ]
    },
    {
     "name": "stdout",
     "output_type": "stream",
     "text": [
      "\n",
      "epoch 18: test average loss: 10.406 | acc: 97.27% (463/476)\n",
      "EarlyStopping counter: 13/25 (best: 0.9832)\n",
      "\n",
      "epoch 19: train average loss: 1.611 | acc: 96.78% (4149/4287)\n"
     ]
    },
    {
     "name": "stderr",
     "output_type": "stream",
     "text": [
      "  6%|▋         | 19/300 [00:07<02:04,  2.25it/s]"
     ]
    },
    {
     "name": "stdout",
     "output_type": "stream",
     "text": [
      "\n",
      "epoch 19: test average loss: 10.265 | acc: 97.48% (464/476)\n",
      "EarlyStopping counter: 14/25 (best: 0.9832)\n",
      "\n",
      "epoch 20: train average loss: 1.596 | acc: 97.41% (4176/4287)\n"
     ]
    },
    {
     "name": "stderr",
     "output_type": "stream",
     "text": [
      "  7%|▋         | 20/300 [00:08<02:01,  2.30it/s]"
     ]
    },
    {
     "name": "stdout",
     "output_type": "stream",
     "text": [
      "\n",
      "epoch 20: test average loss: 10.396 | acc: 97.90% (466/476)\n",
      "EarlyStopping counter: 15/25 (best: 0.9832)\n",
      "\n",
      "epoch 21: train average loss: 1.593 | acc: 97.60% (4184/4287)\n"
     ]
    },
    {
     "name": "stderr",
     "output_type": "stream",
     "text": [
      "  7%|▋         | 21/300 [00:08<02:00,  2.31it/s]"
     ]
    },
    {
     "name": "stdout",
     "output_type": "stream",
     "text": [
      "\n",
      "epoch 21: test average loss: 10.305 | acc: 97.90% (466/476)\n",
      "EarlyStopping counter: 16/25 (best: 0.9832)\n",
      "\n",
      "epoch 22: train average loss: 1.581 | acc: 97.97% (4200/4287)\n"
     ]
    },
    {
     "name": "stderr",
     "output_type": "stream",
     "text": [
      "  7%|▋         | 22/300 [00:09<01:59,  2.33it/s]"
     ]
    },
    {
     "name": "stdout",
     "output_type": "stream",
     "text": [
      "\n",
      "epoch 22: test average loss: 10.395 | acc: 98.11% (467/476)\n",
      "EarlyStopping counter: 17/25 (best: 0.9832)\n",
      "\n",
      "epoch 23: train average loss: 1.571 | acc: 98.55% (4225/4287)\n"
     ]
    },
    {
     "name": "stderr",
     "output_type": "stream",
     "text": [
      "  8%|▊         | 23/300 [00:09<02:00,  2.29it/s]"
     ]
    },
    {
     "name": "stdout",
     "output_type": "stream",
     "text": [
      "\n",
      "epoch 23: test average loss: 10.408 | acc: 98.95% (471/476)\n",
      "best test acc found\n",
      "\n",
      "epoch 24: train average loss: 1.567 | acc: 98.20% (4210/4287)\n"
     ]
    },
    {
     "name": "stderr",
     "output_type": "stream",
     "text": [
      "  8%|▊         | 24/300 [00:09<02:00,  2.29it/s]"
     ]
    },
    {
     "name": "stdout",
     "output_type": "stream",
     "text": [
      "\n",
      "epoch 24: test average loss: 10.427 | acc: 98.95% (471/476)\n",
      "EarlyStopping counter: 1/25 (best: 0.9895)\n",
      "\n",
      "epoch 25: train average loss: 1.559 | acc: 98.51% (4223/4287)\n"
     ]
    },
    {
     "name": "stderr",
     "output_type": "stream",
     "text": [
      "  8%|▊         | 25/300 [00:10<01:58,  2.32it/s]"
     ]
    },
    {
     "name": "stdout",
     "output_type": "stream",
     "text": [
      "\n",
      "epoch 25: test average loss: 10.438 | acc: 98.53% (469/476)\n",
      "EarlyStopping counter: 2/25 (best: 0.9895)\n",
      "\n",
      "epoch 26: train average loss: 1.555 | acc: 98.65% (4229/4287)\n"
     ]
    },
    {
     "name": "stderr",
     "output_type": "stream",
     "text": [
      "  9%|▊         | 26/300 [00:10<01:58,  2.30it/s]"
     ]
    },
    {
     "name": "stdout",
     "output_type": "stream",
     "text": [
      "\n",
      "epoch 26: test average loss: 10.377 | acc: 98.53% (469/476)\n",
      "EarlyStopping counter: 3/25 (best: 0.9895)\n",
      "\n",
      "epoch 27: train average loss: 1.547 | acc: 98.88% (4239/4287)\n"
     ]
    },
    {
     "name": "stderr",
     "output_type": "stream",
     "text": [
      "  9%|▉         | 27/300 [00:11<01:58,  2.30it/s]"
     ]
    },
    {
     "name": "stdout",
     "output_type": "stream",
     "text": [
      "\n",
      "epoch 27: test average loss: 10.459 | acc: 99.16% (472/476)\n",
      "best test acc found\n",
      "\n",
      "epoch 28: train average loss: 1.539 | acc: 98.72% (4232/4287)\n"
     ]
    },
    {
     "name": "stderr",
     "output_type": "stream",
     "text": [
      "  9%|▉         | 28/300 [00:11<01:57,  2.32it/s]"
     ]
    },
    {
     "name": "stdout",
     "output_type": "stream",
     "text": [
      "\n",
      "epoch 28: test average loss: 10.461 | acc: 98.95% (471/476)\n",
      "EarlyStopping counter: 1/25 (best: 0.9916)\n",
      "\n",
      "epoch 29: train average loss: 1.532 | acc: 99.04% (4246/4287)\n"
     ]
    },
    {
     "name": "stderr",
     "output_type": "stream",
     "text": [
      " 10%|▉         | 29/300 [00:12<02:08,  2.10it/s]"
     ]
    },
    {
     "name": "stdout",
     "output_type": "stream",
     "text": [
      "\n",
      "epoch 29: test average loss: 10.468 | acc: 99.16% (472/476)\n",
      "EarlyStopping counter: 2/25 (best: 0.9916)\n",
      "\n",
      "epoch 30: train average loss: 1.530 | acc: 99.14% (4250/4287)\n"
     ]
    },
    {
     "name": "stderr",
     "output_type": "stream",
     "text": [
      " 10%|█         | 30/300 [00:12<02:15,  2.00it/s]"
     ]
    },
    {
     "name": "stdout",
     "output_type": "stream",
     "text": [
      "\n",
      "epoch 30: test average loss: 10.530 | acc: 99.16% (472/476)\n",
      "EarlyStopping counter: 3/25 (best: 0.9916)\n",
      "\n",
      "epoch 31: train average loss: 1.520 | acc: 99.11% (4249/4287)\n"
     ]
    },
    {
     "name": "stderr",
     "output_type": "stream",
     "text": [
      " 10%|█         | 31/300 [00:13<02:09,  2.07it/s]"
     ]
    },
    {
     "name": "stdout",
     "output_type": "stream",
     "text": [
      "\n",
      "epoch 31: test average loss: 10.471 | acc: 99.16% (472/476)\n",
      "EarlyStopping counter: 4/25 (best: 0.9916)\n",
      "\n",
      "epoch 32: train average loss: 1.517 | acc: 99.35% (4259/4287)\n"
     ]
    },
    {
     "name": "stderr",
     "output_type": "stream",
     "text": [
      " 11%|█         | 32/300 [00:13<02:05,  2.13it/s]"
     ]
    },
    {
     "name": "stdout",
     "output_type": "stream",
     "text": [
      "\n",
      "epoch 32: test average loss: 10.498 | acc: 99.16% (472/476)\n",
      "EarlyStopping counter: 5/25 (best: 0.9916)\n",
      "\n",
      "epoch 33: train average loss: 1.512 | acc: 99.49% (4265/4287)\n"
     ]
    },
    {
     "name": "stderr",
     "output_type": "stream",
     "text": [
      " 11%|█         | 33/300 [00:14<02:02,  2.18it/s]"
     ]
    },
    {
     "name": "stdout",
     "output_type": "stream",
     "text": [
      "\n",
      "epoch 33: test average loss: 10.528 | acc: 99.16% (472/476)\n",
      "EarlyStopping counter: 6/25 (best: 0.9916)\n",
      "\n",
      "epoch 34: train average loss: 1.506 | acc: 99.37% (4260/4287)\n"
     ]
    },
    {
     "name": "stderr",
     "output_type": "stream",
     "text": [
      " 11%|█▏        | 34/300 [00:14<02:00,  2.21it/s]"
     ]
    },
    {
     "name": "stdout",
     "output_type": "stream",
     "text": [
      "\n",
      "epoch 34: test average loss: 10.537 | acc: 99.16% (472/476)\n",
      "EarlyStopping counter: 7/25 (best: 0.9916)\n",
      "\n",
      "epoch 35: train average loss: 1.501 | acc: 99.63% (4271/4287)\n"
     ]
    },
    {
     "name": "stderr",
     "output_type": "stream",
     "text": [
      " 12%|█▏        | 35/300 [00:15<01:58,  2.24it/s]"
     ]
    },
    {
     "name": "stdout",
     "output_type": "stream",
     "text": [
      "\n",
      "epoch 35: test average loss: 10.426 | acc: 99.16% (472/476)\n",
      "EarlyStopping counter: 8/25 (best: 0.9916)\n",
      "\n",
      "epoch 36: train average loss: 1.502 | acc: 99.35% (4259/4287)\n"
     ]
    },
    {
     "name": "stderr",
     "output_type": "stream",
     "text": [
      " 12%|█▏        | 36/300 [00:15<01:56,  2.27it/s]"
     ]
    },
    {
     "name": "stdout",
     "output_type": "stream",
     "text": [
      "\n",
      "epoch 36: test average loss: 10.481 | acc: 99.16% (472/476)\n",
      "EarlyStopping counter: 9/25 (best: 0.9916)\n",
      "\n",
      "epoch 37: train average loss: 1.497 | acc: 99.46% (4264/4287)\n"
     ]
    },
    {
     "name": "stderr",
     "output_type": "stream",
     "text": [
      " 12%|█▏        | 37/300 [00:15<01:55,  2.28it/s]"
     ]
    },
    {
     "name": "stdout",
     "output_type": "stream",
     "text": [
      "\n",
      "epoch 37: test average loss: 10.433 | acc: 99.16% (472/476)\n",
      "EarlyStopping counter: 10/25 (best: 0.9916)\n",
      "\n",
      "epoch 38: train average loss: 1.493 | acc: 99.44% (4263/4287)\n"
     ]
    },
    {
     "name": "stderr",
     "output_type": "stream",
     "text": [
      " 13%|█▎        | 38/300 [00:16<01:54,  2.29it/s]"
     ]
    },
    {
     "name": "stdout",
     "output_type": "stream",
     "text": [
      "\n",
      "epoch 38: test average loss: 10.512 | acc: 99.16% (472/476)\n",
      "EarlyStopping counter: 11/25 (best: 0.9916)\n",
      "\n",
      "epoch 39: train average loss: 1.491 | acc: 99.65% (4272/4287)\n"
     ]
    },
    {
     "name": "stderr",
     "output_type": "stream",
     "text": [
      " 13%|█▎        | 39/300 [00:16<01:53,  2.30it/s]"
     ]
    },
    {
     "name": "stdout",
     "output_type": "stream",
     "text": [
      "\n",
      "epoch 39: test average loss: 10.533 | acc: 99.16% (472/476)\n",
      "EarlyStopping counter: 12/25 (best: 0.9916)\n",
      "\n",
      "epoch 40: train average loss: 1.491 | acc: 99.58% (4269/4287)\n"
     ]
    },
    {
     "name": "stderr",
     "output_type": "stream",
     "text": [
      " 13%|█▎        | 40/300 [00:17<01:55,  2.25it/s]"
     ]
    },
    {
     "name": "stdout",
     "output_type": "stream",
     "text": [
      "\n",
      "epoch 40: test average loss: 10.488 | acc: 99.16% (472/476)\n",
      "EarlyStopping counter: 13/25 (best: 0.9916)\n",
      "\n",
      "epoch 41: train average loss: 1.487 | acc: 99.63% (4271/4287)\n"
     ]
    },
    {
     "name": "stderr",
     "output_type": "stream",
     "text": [
      " 14%|█▎        | 41/300 [00:17<01:56,  2.23it/s]"
     ]
    },
    {
     "name": "stdout",
     "output_type": "stream",
     "text": [
      "\n",
      "epoch 41: test average loss: 10.475 | acc: 99.16% (472/476)\n",
      "EarlyStopping counter: 14/25 (best: 0.9916)\n",
      "\n",
      "epoch 42: train average loss: 1.482 | acc: 99.67% (4273/4287)\n"
     ]
    },
    {
     "name": "stderr",
     "output_type": "stream",
     "text": [
      " 14%|█▍        | 42/300 [00:18<01:56,  2.21it/s]"
     ]
    },
    {
     "name": "stdout",
     "output_type": "stream",
     "text": [
      "\n",
      "epoch 42: test average loss: 10.486 | acc: 99.16% (472/476)\n",
      "EarlyStopping counter: 15/25 (best: 0.9916)\n",
      "\n",
      "epoch 43: train average loss: 1.482 | acc: 99.56% (4268/4287)\n"
     ]
    },
    {
     "name": "stderr",
     "output_type": "stream",
     "text": [
      " 14%|█▍        | 43/300 [00:18<01:57,  2.19it/s]"
     ]
    },
    {
     "name": "stdout",
     "output_type": "stream",
     "text": [
      "\n",
      "epoch 43: test average loss: 10.495 | acc: 99.16% (472/476)\n",
      "EarlyStopping counter: 16/25 (best: 0.9916)\n",
      "\n",
      "epoch 44: train average loss: 1.479 | acc: 99.65% (4272/4287)\n"
     ]
    },
    {
     "name": "stderr",
     "output_type": "stream",
     "text": [
      " 15%|█▍        | 44/300 [00:19<01:54,  2.23it/s]"
     ]
    },
    {
     "name": "stdout",
     "output_type": "stream",
     "text": [
      "\n",
      "epoch 44: test average loss: 10.485 | acc: 99.16% (472/476)\n",
      "EarlyStopping counter: 17/25 (best: 0.9916)\n",
      "\n",
      "epoch 45: train average loss: 1.475 | acc: 99.81% (4279/4287)\n"
     ]
    },
    {
     "name": "stderr",
     "output_type": "stream",
     "text": [
      " 15%|█▌        | 45/300 [00:19<01:52,  2.26it/s]"
     ]
    },
    {
     "name": "stdout",
     "output_type": "stream",
     "text": [
      "\n",
      "epoch 45: test average loss: 10.476 | acc: 99.16% (472/476)\n",
      "EarlyStopping counter: 18/25 (best: 0.9916)\n",
      "\n",
      "epoch 46: train average loss: 1.474 | acc: 99.70% (4274/4287)\n"
     ]
    },
    {
     "name": "stderr",
     "output_type": "stream",
     "text": [
      " 15%|█▌        | 46/300 [00:19<01:51,  2.28it/s]"
     ]
    },
    {
     "name": "stdout",
     "output_type": "stream",
     "text": [
      "\n",
      "epoch 46: test average loss: 10.530 | acc: 99.16% (472/476)\n",
      "EarlyStopping counter: 19/25 (best: 0.9916)\n",
      "\n",
      "epoch 47: train average loss: 1.476 | acc: 99.74% (4276/4287)\n"
     ]
    },
    {
     "name": "stderr",
     "output_type": "stream",
     "text": [
      " 16%|█▌        | 47/300 [00:20<01:49,  2.32it/s]"
     ]
    },
    {
     "name": "stdout",
     "output_type": "stream",
     "text": [
      "\n",
      "epoch 47: test average loss: 10.521 | acc: 99.16% (472/476)\n",
      "EarlyStopping counter: 20/25 (best: 0.9916)\n",
      "\n",
      "epoch 48: train average loss: 1.473 | acc: 99.79% (4278/4287)\n"
     ]
    },
    {
     "name": "stderr",
     "output_type": "stream",
     "text": [
      " 16%|█▌        | 48/300 [00:20<01:47,  2.34it/s]"
     ]
    },
    {
     "name": "stdout",
     "output_type": "stream",
     "text": [
      "\n",
      "epoch 48: test average loss: 10.515 | acc: 99.16% (472/476)\n",
      "EarlyStopping counter: 21/25 (best: 0.9916)\n",
      "\n",
      "epoch 49: train average loss: 1.474 | acc: 99.63% (4271/4287)\n"
     ]
    },
    {
     "name": "stderr",
     "output_type": "stream",
     "text": [
      " 16%|█▋        | 49/300 [00:21<01:47,  2.34it/s]"
     ]
    },
    {
     "name": "stdout",
     "output_type": "stream",
     "text": [
      "\n",
      "epoch 49: test average loss: 10.510 | acc: 99.16% (472/476)\n",
      "EarlyStopping counter: 22/25 (best: 0.9916)\n",
      "\n",
      "epoch 50: train average loss: 1.474 | acc: 99.79% (4278/4287)\n"
     ]
    },
    {
     "name": "stderr",
     "output_type": "stream",
     "text": [
      " 17%|█▋        | 50/300 [00:21<01:47,  2.33it/s]"
     ]
    },
    {
     "name": "stdout",
     "output_type": "stream",
     "text": [
      "\n",
      "epoch 50: test average loss: 10.513 | acc: 99.16% (472/476)\n",
      "EarlyStopping counter: 23/25 (best: 0.9916)\n",
      "\n",
      "epoch 51: train average loss: 1.471 | acc: 99.60% (4270/4287)\n"
     ]
    },
    {
     "name": "stderr",
     "output_type": "stream",
     "text": [
      " 17%|█▋        | 51/300 [00:21<01:45,  2.36it/s]"
     ]
    },
    {
     "name": "stdout",
     "output_type": "stream",
     "text": [
      "\n",
      "epoch 51: test average loss: 10.498 | acc: 99.16% (472/476)\n",
      "EarlyStopping counter: 24/25 (best: 0.9916)\n",
      "\n",
      "epoch 52: train average loss: 1.472 | acc: 99.63% (4271/4287)\n"
     ]
    },
    {
     "name": "stderr",
     "output_type": "stream",
     "text": [
      " 17%|█▋        | 51/300 [00:22<01:49,  2.28it/s]"
     ]
    },
    {
     "name": "stdout",
     "output_type": "stream",
     "text": [
      "\n",
      "epoch 52: test average loss: 10.493 | acc: 99.16% (472/476)\n",
      "EarlyStopping counter: 25/25 (best: 0.9916)\n",
      "🔴 Early stopping triggered\n",
      "load model at epoch 27, with test acc : 0.992\n"
     ]
    },
    {
     "name": "stderr",
     "output_type": "stream",
     "text": [
      "\n",
      "/tmp/ipykernel_3428831/1054042983.py:175: FutureWarning:\n",
      "\n",
      "You are using `torch.load` with `weights_only=False` (the current default value), which uses the default pickle module implicitly. It is possible to construct malicious pickle data which will execute arbitrary code during unpickling (See https://github.com/pytorch/pytorch/blob/main/SECURITY.md#untrusted-models for more details). In a future release, the default value for `weights_only` will be flipped to `True`. This limits the functions that could be executed during unpickling. Arbitrary objects will no longer be allowed to be loaded via this mode unless they are explicitly allowlisted by the user via `torch.serialization.add_safe_globals`. We recommend you start setting `weights_only=True` for any use case where you don't have full control of the loaded file. Please open an issue on GitHub for any issues related to this experimental feature.\n",
      "\n"
     ]
    },
    {
     "name": "stdout",
     "output_type": "stream",
     "text": [
      "total 0.9915966386554622\n",
      "class 0 0.9473684210526315\n",
      "class 1 0.9934354485776805\n",
      "                            0\n",
      "Accuracy               0.9916\n",
      "Recall       [0.9474, 0.9934]\n",
      "Specificity  [0.9934, 0.9474]\n",
      "Precision    [0.8571, 0.9978]\n",
      "F1 Score        [0.9, 0.9956]\n",
      "8\n"
     ]
    },
    {
     "name": "stderr",
     "output_type": "stream",
     "text": [
      "  0%|          | 0/300 [00:00<?, ?it/s]"
     ]
    },
    {
     "name": "stdout",
     "output_type": "stream",
     "text": [
      "\n",
      "epoch 1: train average loss: 30.087 | acc: 56.66% (2429/4287)\n"
     ]
    },
    {
     "name": "stderr",
     "output_type": "stream",
     "text": [
      "  0%|          | 1/300 [00:00<02:56,  1.69it/s]"
     ]
    },
    {
     "name": "stdout",
     "output_type": "stream",
     "text": [
      "\n",
      "epoch 1: test average loss: 24.613 | acc: 3.99% (19/476)\n",
      "best test acc found\n",
      "\n",
      "epoch 2: train average loss: 22.297 | acc: 61.51% (2637/4287)\n",
      "\n",
      "epoch 2: test average loss: 20.858 | acc: 96.01% (457/476)\n",
      "best test acc found\n"
     ]
    },
    {
     "name": "stderr",
     "output_type": "stream",
     "text": [
      "  1%|          | 2/300 [00:01<02:55,  1.70it/s]"
     ]
    },
    {
     "name": "stdout",
     "output_type": "stream",
     "text": [
      "\n",
      "epoch 3: train average loss: 18.409 | acc: 63.77% (2734/4287)\n"
     ]
    },
    {
     "name": "stderr",
     "output_type": "stream",
     "text": [
      "  1%|          | 3/300 [00:01<02:51,  1.74it/s]"
     ]
    },
    {
     "name": "stdout",
     "output_type": "stream",
     "text": [
      "\n",
      "epoch 3: test average loss: 21.959 | acc: 96.01% (457/476)\n",
      "EarlyStopping counter: 1/25 (best: 0.9601)\n",
      "\n",
      "epoch 4: train average loss: 16.756 | acc: 66.39% (2846/4287)\n"
     ]
    },
    {
     "name": "stderr",
     "output_type": "stream",
     "text": [
      "  1%|▏         | 4/300 [00:02<02:40,  1.85it/s]"
     ]
    },
    {
     "name": "stdout",
     "output_type": "stream",
     "text": [
      "\n",
      "epoch 4: test average loss: 21.549 | acc: 96.85% (461/476)\n",
      "best test acc found\n",
      "\n",
      "epoch 5: train average loss: 15.076 | acc: 66.57% (2854/4287)\n"
     ]
    },
    {
     "name": "stderr",
     "output_type": "stream",
     "text": [
      "  2%|▏         | 5/300 [00:02<02:26,  2.02it/s]"
     ]
    },
    {
     "name": "stdout",
     "output_type": "stream",
     "text": [
      "\n",
      "epoch 5: test average loss: 17.265 | acc: 47.69% (227/476)\n",
      "EarlyStopping counter: 1/25 (best: 0.9685)\n",
      "\n",
      "epoch 6: train average loss: 14.248 | acc: 72.61% (3113/4287)\n"
     ]
    },
    {
     "name": "stderr",
     "output_type": "stream",
     "text": [
      "  2%|▏         | 6/300 [00:03<02:17,  2.14it/s]"
     ]
    },
    {
     "name": "stdout",
     "output_type": "stream",
     "text": [
      "\n",
      "epoch 6: test average loss: 15.440 | acc: 94.75% (451/476)\n",
      "EarlyStopping counter: 2/25 (best: 0.9685)\n",
      "\n",
      "epoch 7: train average loss: 11.681 | acc: 75.41% (3233/4287)\n"
     ]
    },
    {
     "name": "stderr",
     "output_type": "stream",
     "text": [
      "  2%|▏         | 7/300 [00:03<02:10,  2.25it/s]"
     ]
    },
    {
     "name": "stdout",
     "output_type": "stream",
     "text": [
      "\n",
      "epoch 7: test average loss: 15.541 | acc: 99.37% (473/476)\n",
      "best test acc found\n",
      "\n",
      "epoch 8: train average loss: 8.967 | acc: 77.02% (3302/4287)\n"
     ]
    },
    {
     "name": "stderr",
     "output_type": "stream",
     "text": [
      "  3%|▎         | 8/300 [00:03<02:06,  2.31it/s]"
     ]
    },
    {
     "name": "stdout",
     "output_type": "stream",
     "text": [
      "\n",
      "epoch 8: test average loss: 12.445 | acc: 98.95% (471/476)\n",
      "EarlyStopping counter: 1/25 (best: 0.9937)\n",
      "\n",
      "epoch 9: train average loss: 7.814 | acc: 80.80% (3464/4287)\n"
     ]
    },
    {
     "name": "stderr",
     "output_type": "stream",
     "text": [
      "  3%|▎         | 9/300 [00:04<02:11,  2.20it/s]"
     ]
    },
    {
     "name": "stdout",
     "output_type": "stream",
     "text": [
      "\n",
      "epoch 9: test average loss: 10.344 | acc: 93.91% (447/476)\n",
      "EarlyStopping counter: 2/25 (best: 0.9937)\n",
      "\n",
      "epoch 10: train average loss: 6.363 | acc: 83.00% (3558/4287)\n"
     ]
    },
    {
     "name": "stderr",
     "output_type": "stream",
     "text": [
      "  3%|▎         | 10/300 [00:04<02:11,  2.20it/s]"
     ]
    },
    {
     "name": "stdout",
     "output_type": "stream",
     "text": [
      "\n",
      "epoch 10: test average loss: 12.242 | acc: 94.75% (451/476)\n",
      "EarlyStopping counter: 3/25 (best: 0.9937)\n",
      "\n",
      "epoch 11: train average loss: 4.678 | acc: 85.98% (3686/4287)\n"
     ]
    },
    {
     "name": "stderr",
     "output_type": "stream",
     "text": [
      "  4%|▎         | 11/300 [00:05<02:12,  2.18it/s]"
     ]
    },
    {
     "name": "stdout",
     "output_type": "stream",
     "text": [
      "\n",
      "epoch 11: test average loss: 8.617 | acc: 61.97% (295/476)\n",
      "EarlyStopping counter: 4/25 (best: 0.9937)\n",
      "\n",
      "epoch 12: train average loss: 3.412 | acc: 89.71% (3846/4287)\n"
     ]
    },
    {
     "name": "stderr",
     "output_type": "stream",
     "text": [
      "  4%|▍         | 12/300 [00:05<02:14,  2.15it/s]"
     ]
    },
    {
     "name": "stdout",
     "output_type": "stream",
     "text": [
      "\n",
      "epoch 12: test average loss: 9.626 | acc: 98.53% (469/476)\n",
      "EarlyStopping counter: 5/25 (best: 0.9937)\n",
      "\n",
      "epoch 13: train average loss: 2.778 | acc: 91.77% (3934/4287)\n"
     ]
    },
    {
     "name": "stderr",
     "output_type": "stream",
     "text": [
      "  4%|▍         | 13/300 [00:06<02:10,  2.19it/s]"
     ]
    },
    {
     "name": "stdout",
     "output_type": "stream",
     "text": [
      "\n",
      "epoch 13: test average loss: 2.535 | acc: 84.87% (404/476)\n",
      "EarlyStopping counter: 6/25 (best: 0.9937)\n",
      "\n",
      "epoch 14: train average loss: 2.246 | acc: 92.98% (3986/4287)\n"
     ]
    },
    {
     "name": "stderr",
     "output_type": "stream",
     "text": [
      "  5%|▍         | 14/300 [00:06<02:07,  2.24it/s]"
     ]
    },
    {
     "name": "stdout",
     "output_type": "stream",
     "text": [
      "\n",
      "epoch 14: test average loss: 2.834 | acc: 94.33% (449/476)\n",
      "EarlyStopping counter: 7/25 (best: 0.9937)\n",
      "\n",
      "epoch 15: train average loss: 2.187 | acc: 93.68% (4016/4287)\n"
     ]
    },
    {
     "name": "stderr",
     "output_type": "stream",
     "text": [
      "  5%|▌         | 15/300 [00:07<02:05,  2.26it/s]"
     ]
    },
    {
     "name": "stdout",
     "output_type": "stream",
     "text": [
      "\n",
      "epoch 15: test average loss: 1.714 | acc: 95.59% (455/476)\n",
      "EarlyStopping counter: 8/25 (best: 0.9937)\n",
      "\n",
      "epoch 16: train average loss: 2.296 | acc: 94.54% (4053/4287)\n"
     ]
    },
    {
     "name": "stderr",
     "output_type": "stream",
     "text": [
      "  5%|▌         | 16/300 [00:07<02:04,  2.28it/s]"
     ]
    },
    {
     "name": "stdout",
     "output_type": "stream",
     "text": [
      "\n",
      "epoch 16: test average loss: 5.190 | acc: 85.29% (406/476)\n",
      "EarlyStopping counter: 9/25 (best: 0.9937)\n",
      "\n",
      "epoch 17: train average loss: 1.925 | acc: 95.31% (4086/4287)\n"
     ]
    },
    {
     "name": "stderr",
     "output_type": "stream",
     "text": [
      "  6%|▌         | 17/300 [00:07<02:06,  2.24it/s]"
     ]
    },
    {
     "name": "stdout",
     "output_type": "stream",
     "text": [
      "\n",
      "epoch 17: test average loss: 4.386 | acc: 99.58% (474/476)\n",
      "best test acc found\n",
      "\n",
      "epoch 18: train average loss: 1.888 | acc: 95.71% (4103/4287)\n"
     ]
    },
    {
     "name": "stderr",
     "output_type": "stream",
     "text": [
      "  6%|▌         | 18/300 [00:08<02:05,  2.24it/s]"
     ]
    },
    {
     "name": "stdout",
     "output_type": "stream",
     "text": [
      "\n",
      "epoch 18: test average loss: 2.506 | acc: 96.64% (460/476)\n",
      "EarlyStopping counter: 1/25 (best: 0.9958)\n",
      "\n",
      "epoch 19: train average loss: 1.761 | acc: 97.15% (4165/4287)\n"
     ]
    },
    {
     "name": "stderr",
     "output_type": "stream",
     "text": [
      "  6%|▋         | 19/300 [00:08<02:05,  2.24it/s]"
     ]
    },
    {
     "name": "stdout",
     "output_type": "stream",
     "text": [
      "\n",
      "epoch 19: test average loss: 1.688 | acc: 96.43% (459/476)\n",
      "EarlyStopping counter: 2/25 (best: 0.9958)\n",
      "\n",
      "epoch 20: train average loss: 1.727 | acc: 96.83% (4151/4287)\n"
     ]
    },
    {
     "name": "stderr",
     "output_type": "stream",
     "text": [
      "  7%|▋         | 20/300 [00:09<02:05,  2.23it/s]"
     ]
    },
    {
     "name": "stdout",
     "output_type": "stream",
     "text": [
      "\n",
      "epoch 20: test average loss: 1.699 | acc: 93.28% (444/476)\n",
      "EarlyStopping counter: 3/25 (best: 0.9958)\n",
      "\n",
      "epoch 21: train average loss: 1.719 | acc: 97.95% (4199/4287)\n"
     ]
    },
    {
     "name": "stderr",
     "output_type": "stream",
     "text": [
      "  7%|▋         | 21/300 [00:09<02:03,  2.27it/s]"
     ]
    },
    {
     "name": "stdout",
     "output_type": "stream",
     "text": [
      "\n",
      "epoch 21: test average loss: 1.675 | acc: 97.06% (462/476)\n",
      "EarlyStopping counter: 4/25 (best: 0.9958)\n",
      "\n",
      "epoch 22: train average loss: 1.708 | acc: 97.92% (4198/4287)\n"
     ]
    },
    {
     "name": "stderr",
     "output_type": "stream",
     "text": [
      "  7%|▋         | 22/300 [00:10<02:01,  2.29it/s]"
     ]
    },
    {
     "name": "stdout",
     "output_type": "stream",
     "text": [
      "\n",
      "epoch 22: test average loss: 1.792 | acc: 96.85% (461/476)\n",
      "EarlyStopping counter: 5/25 (best: 0.9958)\n",
      "\n",
      "epoch 23: train average loss: 1.698 | acc: 98.53% (4224/4287)\n"
     ]
    },
    {
     "name": "stderr",
     "output_type": "stream",
     "text": [
      "  8%|▊         | 23/300 [00:10<01:59,  2.31it/s]"
     ]
    },
    {
     "name": "stdout",
     "output_type": "stream",
     "text": [
      "\n",
      "epoch 23: test average loss: 1.682 | acc: 97.06% (462/476)\n",
      "EarlyStopping counter: 6/25 (best: 0.9958)\n",
      "\n",
      "epoch 24: train average loss: 1.682 | acc: 98.30% (4214/4287)\n"
     ]
    },
    {
     "name": "stderr",
     "output_type": "stream",
     "text": [
      "  8%|▊         | 24/300 [00:10<01:58,  2.33it/s]"
     ]
    },
    {
     "name": "stdout",
     "output_type": "stream",
     "text": [
      "\n",
      "epoch 24: test average loss: 1.675 | acc: 94.33% (449/476)\n",
      "EarlyStopping counter: 7/25 (best: 0.9958)\n",
      "\n",
      "epoch 25: train average loss: 1.679 | acc: 98.55% (4225/4287)\n"
     ]
    },
    {
     "name": "stderr",
     "output_type": "stream",
     "text": [
      "  8%|▊         | 25/300 [00:11<01:55,  2.38it/s]"
     ]
    },
    {
     "name": "stdout",
     "output_type": "stream",
     "text": [
      "\n",
      "epoch 25: test average loss: 1.635 | acc: 97.69% (465/476)\n",
      "EarlyStopping counter: 8/25 (best: 0.9958)\n",
      "\n",
      "epoch 26: train average loss: 1.659 | acc: 98.55% (4225/4287)\n"
     ]
    },
    {
     "name": "stderr",
     "output_type": "stream",
     "text": [
      "  9%|▊         | 26/300 [00:11<01:55,  2.38it/s]"
     ]
    },
    {
     "name": "stdout",
     "output_type": "stream",
     "text": [
      "\n",
      "epoch 26: test average loss: 1.622 | acc: 97.90% (466/476)\n",
      "EarlyStopping counter: 9/25 (best: 0.9958)\n",
      "\n",
      "epoch 27: train average loss: 1.655 | acc: 98.46% (4221/4287)\n"
     ]
    },
    {
     "name": "stderr",
     "output_type": "stream",
     "text": [
      "  9%|▉         | 27/300 [00:12<01:55,  2.36it/s]"
     ]
    },
    {
     "name": "stdout",
     "output_type": "stream",
     "text": [
      "\n",
      "epoch 27: test average loss: 1.618 | acc: 97.69% (465/476)\n",
      "EarlyStopping counter: 10/25 (best: 0.9958)\n",
      "\n",
      "epoch 28: train average loss: 1.659 | acc: 99.23% (4254/4287)\n"
     ]
    },
    {
     "name": "stderr",
     "output_type": "stream",
     "text": [
      "  9%|▉         | 28/300 [00:12<01:53,  2.39it/s]"
     ]
    },
    {
     "name": "stdout",
     "output_type": "stream",
     "text": [
      "\n",
      "epoch 28: test average loss: 1.612 | acc: 96.01% (457/476)\n",
      "EarlyStopping counter: 11/25 (best: 0.9958)\n",
      "\n",
      "epoch 29: train average loss: 1.639 | acc: 98.58% (4226/4287)\n"
     ]
    },
    {
     "name": "stderr",
     "output_type": "stream",
     "text": [
      " 10%|▉         | 29/300 [00:13<01:52,  2.41it/s]"
     ]
    },
    {
     "name": "stdout",
     "output_type": "stream",
     "text": [
      "\n",
      "epoch 29: test average loss: 1.614 | acc: 96.01% (457/476)\n",
      "EarlyStopping counter: 12/25 (best: 0.9958)\n",
      "\n",
      "epoch 30: train average loss: 1.643 | acc: 99.09% (4248/4287)\n"
     ]
    },
    {
     "name": "stderr",
     "output_type": "stream",
     "text": [
      " 10%|█         | 30/300 [00:13<01:50,  2.45it/s]"
     ]
    },
    {
     "name": "stdout",
     "output_type": "stream",
     "text": [
      "\n",
      "epoch 30: test average loss: 1.592 | acc: 99.16% (472/476)\n",
      "EarlyStopping counter: 13/25 (best: 0.9958)\n",
      "\n",
      "epoch 31: train average loss: 1.625 | acc: 99.02% (4245/4287)\n"
     ]
    },
    {
     "name": "stderr",
     "output_type": "stream",
     "text": [
      " 10%|█         | 31/300 [00:13<01:49,  2.45it/s]"
     ]
    },
    {
     "name": "stdout",
     "output_type": "stream",
     "text": [
      "\n",
      "epoch 31: test average loss: 1.593 | acc: 99.37% (473/476)\n",
      "EarlyStopping counter: 14/25 (best: 0.9958)\n",
      "\n",
      "epoch 32: train average loss: 1.611 | acc: 99.07% (4247/4287)\n"
     ]
    },
    {
     "name": "stderr",
     "output_type": "stream",
     "text": [
      " 11%|█         | 32/300 [00:14<01:48,  2.47it/s]"
     ]
    },
    {
     "name": "stdout",
     "output_type": "stream",
     "text": [
      "\n",
      "epoch 32: test average loss: 1.589 | acc: 98.32% (468/476)\n",
      "EarlyStopping counter: 15/25 (best: 0.9958)\n",
      "\n",
      "epoch 33: train average loss: 1.604 | acc: 99.42% (4262/4287)\n"
     ]
    },
    {
     "name": "stderr",
     "output_type": "stream",
     "text": [
      " 11%|█         | 33/300 [00:14<01:47,  2.48it/s]"
     ]
    },
    {
     "name": "stdout",
     "output_type": "stream",
     "text": [
      "\n",
      "epoch 33: test average loss: 1.578 | acc: 98.53% (469/476)\n",
      "EarlyStopping counter: 16/25 (best: 0.9958)\n",
      "\n",
      "epoch 34: train average loss: 1.599 | acc: 99.28% (4256/4287)\n"
     ]
    },
    {
     "name": "stderr",
     "output_type": "stream",
     "text": [
      " 11%|█▏        | 34/300 [00:15<01:49,  2.43it/s]"
     ]
    },
    {
     "name": "stdout",
     "output_type": "stream",
     "text": [
      "\n",
      "epoch 34: test average loss: 1.576 | acc: 98.32% (468/476)\n",
      "EarlyStopping counter: 17/25 (best: 0.9958)\n",
      "\n",
      "epoch 35: train average loss: 1.593 | acc: 99.28% (4256/4287)\n"
     ]
    },
    {
     "name": "stderr",
     "output_type": "stream",
     "text": [
      " 12%|█▏        | 35/300 [00:15<01:53,  2.35it/s]"
     ]
    },
    {
     "name": "stdout",
     "output_type": "stream",
     "text": [
      "\n",
      "epoch 35: test average loss: 1.563 | acc: 98.32% (468/476)\n",
      "EarlyStopping counter: 18/25 (best: 0.9958)\n",
      "\n",
      "epoch 36: train average loss: 1.585 | acc: 99.49% (4265/4287)\n"
     ]
    },
    {
     "name": "stderr",
     "output_type": "stream",
     "text": [
      " 12%|█▏        | 36/300 [00:16<01:55,  2.29it/s]"
     ]
    },
    {
     "name": "stdout",
     "output_type": "stream",
     "text": [
      "\n",
      "epoch 36: test average loss: 1.560 | acc: 98.32% (468/476)\n",
      "EarlyStopping counter: 19/25 (best: 0.9958)\n",
      "\n",
      "epoch 37: train average loss: 1.582 | acc: 99.49% (4265/4287)\n"
     ]
    },
    {
     "name": "stderr",
     "output_type": "stream",
     "text": [
      " 12%|█▏        | 37/300 [00:16<01:56,  2.25it/s]"
     ]
    },
    {
     "name": "stdout",
     "output_type": "stream",
     "text": [
      "\n",
      "epoch 37: test average loss: 1.561 | acc: 98.74% (470/476)\n",
      "EarlyStopping counter: 20/25 (best: 0.9958)\n",
      "\n",
      "epoch 38: train average loss: 1.579 | acc: 99.42% (4262/4287)\n"
     ]
    },
    {
     "name": "stderr",
     "output_type": "stream",
     "text": [
      " 13%|█▎        | 38/300 [00:17<02:05,  2.08it/s]"
     ]
    },
    {
     "name": "stdout",
     "output_type": "stream",
     "text": [
      "\n",
      "epoch 38: test average loss: 1.552 | acc: 98.53% (469/476)\n",
      "EarlyStopping counter: 21/25 (best: 0.9958)\n",
      "\n",
      "epoch 39: train average loss: 1.572 | acc: 99.49% (4265/4287)\n"
     ]
    },
    {
     "name": "stderr",
     "output_type": "stream",
     "text": [
      " 13%|█▎        | 39/300 [00:17<02:09,  2.02it/s]"
     ]
    },
    {
     "name": "stdout",
     "output_type": "stream",
     "text": [
      "\n",
      "epoch 39: test average loss: 1.551 | acc: 98.32% (468/476)\n",
      "EarlyStopping counter: 22/25 (best: 0.9958)\n",
      "\n",
      "epoch 40: train average loss: 1.567 | acc: 99.63% (4271/4287)\n"
     ]
    },
    {
     "name": "stderr",
     "output_type": "stream",
     "text": [
      " 13%|█▎        | 40/300 [00:17<02:03,  2.11it/s]"
     ]
    },
    {
     "name": "stdout",
     "output_type": "stream",
     "text": [
      "\n",
      "epoch 40: test average loss: 1.551 | acc: 98.95% (471/476)\n",
      "EarlyStopping counter: 23/25 (best: 0.9958)\n",
      "\n",
      "epoch 41: train average loss: 1.567 | acc: 99.53% (4267/4287)\n"
     ]
    },
    {
     "name": "stderr",
     "output_type": "stream",
     "text": [
      " 14%|█▎        | 41/300 [00:18<01:58,  2.19it/s]"
     ]
    },
    {
     "name": "stdout",
     "output_type": "stream",
     "text": [
      "\n",
      "epoch 41: test average loss: 1.542 | acc: 98.74% (470/476)\n",
      "EarlyStopping counter: 24/25 (best: 0.9958)\n",
      "\n",
      "epoch 42: train average loss: 1.561 | acc: 99.65% (4272/4287)\n"
     ]
    },
    {
     "name": "stderr",
     "output_type": "stream",
     "text": [
      " 14%|█▎        | 41/300 [00:18<01:59,  2.17it/s]"
     ]
    },
    {
     "name": "stdout",
     "output_type": "stream",
     "text": [
      "\n",
      "epoch 42: test average loss: 1.542 | acc: 98.74% (470/476)\n",
      "EarlyStopping counter: 25/25 (best: 0.9958)\n",
      "🔴 Early stopping triggered\n",
      "load model at epoch 17, with test acc : 0.996\n"
     ]
    },
    {
     "name": "stderr",
     "output_type": "stream",
     "text": [
      "\n",
      "/tmp/ipykernel_3428831/1054042983.py:175: FutureWarning:\n",
      "\n",
      "You are using `torch.load` with `weights_only=False` (the current default value), which uses the default pickle module implicitly. It is possible to construct malicious pickle data which will execute arbitrary code during unpickling (See https://github.com/pytorch/pytorch/blob/main/SECURITY.md#untrusted-models for more details). In a future release, the default value for `weights_only` will be flipped to `True`. This limits the functions that could be executed during unpickling. Arbitrary objects will no longer be allowed to be loaded via this mode unless they are explicitly allowlisted by the user via `torch.serialization.add_safe_globals`. We recommend you start setting `weights_only=True` for any use case where you don't have full control of the loaded file. Please open an issue on GitHub for any issues related to this experimental feature.\n",
      "\n"
     ]
    },
    {
     "name": "stdout",
     "output_type": "stream",
     "text": [
      "total 0.9957983193277311\n",
      "class 0 1.0\n",
      "class 1 0.9956236323851203\n",
      "                          0\n",
      "Accuracy             0.9958\n",
      "Recall        [1.0, 0.9956]\n",
      "Specificity   [0.9956, 1.0]\n",
      "Precision     [0.9048, 1.0]\n",
      "F1 Score     [0.95, 0.9978]\n",
      "9\n"
     ]
    },
    {
     "name": "stderr",
     "output_type": "stream",
     "text": [
      "  0%|          | 0/300 [00:00<?, ?it/s]"
     ]
    },
    {
     "name": "stdout",
     "output_type": "stream",
     "text": [
      "\n",
      "epoch 1: train average loss: 29.060 | acc: 56.87% (2438/4287)\n"
     ]
    },
    {
     "name": "stderr",
     "output_type": "stream",
     "text": [
      "  0%|          | 1/300 [00:00<02:11,  2.27it/s]"
     ]
    },
    {
     "name": "stdout",
     "output_type": "stream",
     "text": [
      "\n",
      "epoch 1: test average loss: 25.037 | acc: 96.01% (457/476)\n",
      "best test acc found\n",
      "\n",
      "epoch 2: train average loss: 22.165 | acc: 61.00% (2615/4287)\n"
     ]
    },
    {
     "name": "stderr",
     "output_type": "stream",
     "text": [
      "  1%|          | 2/300 [00:00<02:09,  2.30it/s]"
     ]
    },
    {
     "name": "stdout",
     "output_type": "stream",
     "text": [
      "\n",
      "epoch 2: test average loss: 20.681 | acc: 13.45% (64/476)\n",
      "EarlyStopping counter: 1/25 (best: 0.9601)\n",
      "\n",
      "epoch 3: train average loss: 17.993 | acc: 62.68% (2687/4287)\n"
     ]
    },
    {
     "name": "stderr",
     "output_type": "stream",
     "text": [
      "  1%|          | 3/300 [00:01<02:09,  2.29it/s]"
     ]
    },
    {
     "name": "stdout",
     "output_type": "stream",
     "text": [
      "\n",
      "epoch 3: test average loss: 21.048 | acc: 96.22% (458/476)\n",
      "best test acc found\n",
      "\n",
      "epoch 4: train average loss: 15.365 | acc: 65.13% (2792/4287)\n"
     ]
    },
    {
     "name": "stderr",
     "output_type": "stream",
     "text": [
      "  1%|▏         | 4/300 [00:01<02:08,  2.31it/s]"
     ]
    },
    {
     "name": "stdout",
     "output_type": "stream",
     "text": [
      "\n",
      "epoch 4: test average loss: 18.560 | acc: 98.53% (469/476)\n",
      "best test acc found\n",
      "\n",
      "epoch 5: train average loss: 13.805 | acc: 67.69% (2902/4287)\n"
     ]
    },
    {
     "name": "stderr",
     "output_type": "stream",
     "text": [
      "  2%|▏         | 5/300 [00:02<02:04,  2.37it/s]"
     ]
    },
    {
     "name": "stdout",
     "output_type": "stream",
     "text": [
      "\n",
      "epoch 5: test average loss: 14.327 | acc: 81.72% (389/476)\n",
      "EarlyStopping counter: 1/25 (best: 0.9853)\n",
      "\n",
      "epoch 6: train average loss: 13.658 | acc: 69.75% (2990/4287)\n"
     ]
    },
    {
     "name": "stderr",
     "output_type": "stream",
     "text": [
      "  2%|▏         | 6/300 [00:02<02:01,  2.43it/s]"
     ]
    },
    {
     "name": "stdout",
     "output_type": "stream",
     "text": [
      "\n",
      "epoch 6: test average loss: 15.537 | acc: 97.90% (466/476)\n",
      "EarlyStopping counter: 2/25 (best: 0.9853)\n",
      "\n",
      "epoch 7: train average loss: 9.748 | acc: 72.43% (3105/4287)\n"
     ]
    },
    {
     "name": "stderr",
     "output_type": "stream",
     "text": [
      "  2%|▏         | 7/300 [00:02<01:59,  2.45it/s]"
     ]
    },
    {
     "name": "stdout",
     "output_type": "stream",
     "text": [
      "\n",
      "epoch 7: test average loss: 8.295 | acc: 84.66% (403/476)\n",
      "EarlyStopping counter: 3/25 (best: 0.9853)\n",
      "\n",
      "epoch 8: train average loss: 9.427 | acc: 74.29% (3185/4287)\n"
     ]
    },
    {
     "name": "stderr",
     "output_type": "stream",
     "text": [
      "  3%|▎         | 8/300 [00:03<01:58,  2.47it/s]"
     ]
    },
    {
     "name": "stdout",
     "output_type": "stream",
     "text": [
      "\n",
      "epoch 8: test average loss: 10.006 | acc: 84.24% (401/476)\n",
      "EarlyStopping counter: 4/25 (best: 0.9853)\n",
      "\n",
      "epoch 9: train average loss: 7.319 | acc: 77.14% (3307/4287)\n"
     ]
    },
    {
     "name": "stderr",
     "output_type": "stream",
     "text": [
      "  3%|▎         | 9/300 [00:03<01:56,  2.50it/s]"
     ]
    },
    {
     "name": "stdout",
     "output_type": "stream",
     "text": [
      "\n",
      "epoch 9: test average loss: 7.124 | acc: 97.27% (463/476)\n",
      "EarlyStopping counter: 5/25 (best: 0.9853)\n",
      "\n",
      "epoch 10: train average loss: 5.447 | acc: 80.57% (3454/4287)\n"
     ]
    },
    {
     "name": "stderr",
     "output_type": "stream",
     "text": [
      "  3%|▎         | 10/300 [00:04<01:56,  2.50it/s]"
     ]
    },
    {
     "name": "stdout",
     "output_type": "stream",
     "text": [
      "\n",
      "epoch 10: test average loss: 8.800 | acc: 65.76% (313/476)\n",
      "EarlyStopping counter: 6/25 (best: 0.9853)\n",
      "\n",
      "epoch 11: train average loss: 4.802 | acc: 82.46% (3535/4287)\n"
     ]
    },
    {
     "name": "stderr",
     "output_type": "stream",
     "text": [
      "  4%|▎         | 11/300 [00:04<01:55,  2.49it/s]"
     ]
    },
    {
     "name": "stdout",
     "output_type": "stream",
     "text": [
      "\n",
      "epoch 11: test average loss: 9.450 | acc: 98.11% (467/476)\n",
      "EarlyStopping counter: 7/25 (best: 0.9853)\n",
      "\n",
      "epoch 12: train average loss: 3.174 | acc: 84.95% (3642/4287)\n"
     ]
    },
    {
     "name": "stderr",
     "output_type": "stream",
     "text": [
      "  4%|▍         | 12/300 [00:04<01:55,  2.49it/s]"
     ]
    },
    {
     "name": "stdout",
     "output_type": "stream",
     "text": [
      "\n",
      "epoch 12: test average loss: 13.582 | acc: 99.16% (472/476)\n",
      "best test acc found\n",
      "\n",
      "epoch 13: train average loss: 2.961 | acc: 87.12% (3735/4287)\n"
     ]
    },
    {
     "name": "stderr",
     "output_type": "stream",
     "text": [
      "  4%|▍         | 13/300 [00:05<01:53,  2.52it/s]"
     ]
    },
    {
     "name": "stdout",
     "output_type": "stream",
     "text": [
      "\n",
      "epoch 13: test average loss: 5.326 | acc: 85.50% (407/476)\n",
      "EarlyStopping counter: 1/25 (best: 0.9916)\n",
      "\n",
      "epoch 14: train average loss: 3.034 | acc: 90.20% (3867/4287)\n"
     ]
    },
    {
     "name": "stderr",
     "output_type": "stream",
     "text": [
      "  5%|▍         | 14/300 [00:05<01:56,  2.46it/s]"
     ]
    },
    {
     "name": "stdout",
     "output_type": "stream",
     "text": [
      "\n",
      "epoch 14: test average loss: 7.576 | acc: 96.85% (461/476)\n",
      "EarlyStopping counter: 2/25 (best: 0.9916)\n",
      "\n",
      "epoch 15: train average loss: 2.239 | acc: 91.49% (3922/4287)\n"
     ]
    },
    {
     "name": "stderr",
     "output_type": "stream",
     "text": [
      "  5%|▌         | 15/300 [00:06<01:58,  2.41it/s]"
     ]
    },
    {
     "name": "stdout",
     "output_type": "stream",
     "text": [
      "\n",
      "epoch 15: test average loss: 7.405 | acc: 81.30% (387/476)\n",
      "EarlyStopping counter: 3/25 (best: 0.9916)\n",
      "\n",
      "epoch 16: train average loss: 2.629 | acc: 93.03% (3988/4287)\n"
     ]
    },
    {
     "name": "stderr",
     "output_type": "stream",
     "text": [
      "  5%|▌         | 16/300 [00:06<02:00,  2.35it/s]"
     ]
    },
    {
     "name": "stdout",
     "output_type": "stream",
     "text": [
      "\n",
      "epoch 16: test average loss: 8.482 | acc: 100.00% (476/476)\n",
      "best test acc found\n",
      "\n",
      "epoch 17: train average loss: 2.248 | acc: 93.59% (4012/4287)\n"
     ]
    },
    {
     "name": "stderr",
     "output_type": "stream",
     "text": [
      "  6%|▌         | 17/300 [00:07<02:00,  2.35it/s]"
     ]
    },
    {
     "name": "stdout",
     "output_type": "stream",
     "text": [
      "\n",
      "epoch 17: test average loss: 1.935 | acc: 98.32% (468/476)\n",
      "EarlyStopping counter: 1/25 (best: 1.0000)\n",
      "\n",
      "epoch 18: train average loss: 2.406 | acc: 94.82% (4065/4287)\n"
     ]
    },
    {
     "name": "stderr",
     "output_type": "stream",
     "text": [
      "  6%|▌         | 18/300 [00:07<02:01,  2.32it/s]"
     ]
    },
    {
     "name": "stdout",
     "output_type": "stream",
     "text": [
      "\n",
      "epoch 18: test average loss: 8.625 | acc: 99.16% (472/476)\n",
      "EarlyStopping counter: 2/25 (best: 1.0000)\n",
      "\n",
      "epoch 19: train average loss: 2.117 | acc: 93.38% (4003/4287)\n"
     ]
    },
    {
     "name": "stderr",
     "output_type": "stream",
     "text": [
      "  6%|▋         | 19/300 [00:07<02:00,  2.34it/s]"
     ]
    },
    {
     "name": "stdout",
     "output_type": "stream",
     "text": [
      "\n",
      "epoch 19: test average loss: 13.420 | acc: 98.95% (471/476)\n",
      "EarlyStopping counter: 3/25 (best: 1.0000)\n",
      "\n",
      "epoch 20: train average loss: 2.237 | acc: 95.68% (4102/4287)\n"
     ]
    },
    {
     "name": "stderr",
     "output_type": "stream",
     "text": [
      "  7%|▋         | 20/300 [00:08<01:59,  2.35it/s]"
     ]
    },
    {
     "name": "stdout",
     "output_type": "stream",
     "text": [
      "\n",
      "epoch 20: test average loss: 1.724 | acc: 95.38% (454/476)\n",
      "EarlyStopping counter: 4/25 (best: 1.0000)\n",
      "\n",
      "epoch 21: train average loss: 1.887 | acc: 97.04% (4160/4287)\n"
     ]
    },
    {
     "name": "stderr",
     "output_type": "stream",
     "text": [
      "  7%|▋         | 21/300 [00:08<01:58,  2.36it/s]"
     ]
    },
    {
     "name": "stdout",
     "output_type": "stream",
     "text": [
      "\n",
      "epoch 21: test average loss: 1.745 | acc: 97.06% (462/476)\n",
      "EarlyStopping counter: 5/25 (best: 1.0000)\n",
      "\n",
      "epoch 22: train average loss: 1.773 | acc: 95.89% (4111/4287)\n"
     ]
    },
    {
     "name": "stderr",
     "output_type": "stream",
     "text": [
      "  7%|▋         | 22/300 [00:09<01:57,  2.36it/s]"
     ]
    },
    {
     "name": "stdout",
     "output_type": "stream",
     "text": [
      "\n",
      "epoch 22: test average loss: 1.772 | acc: 92.65% (441/476)\n",
      "EarlyStopping counter: 6/25 (best: 1.0000)\n",
      "\n",
      "epoch 23: train average loss: 1.774 | acc: 97.53% (4181/4287)\n"
     ]
    },
    {
     "name": "stderr",
     "output_type": "stream",
     "text": [
      "  8%|▊         | 23/300 [00:09<01:56,  2.37it/s]"
     ]
    },
    {
     "name": "stdout",
     "output_type": "stream",
     "text": [
      "\n",
      "epoch 23: test average loss: 1.823 | acc: 97.90% (466/476)\n",
      "EarlyStopping counter: 7/25 (best: 1.0000)\n",
      "\n",
      "epoch 24: train average loss: 1.735 | acc: 97.46% (4178/4287)\n"
     ]
    },
    {
     "name": "stderr",
     "output_type": "stream",
     "text": [
      "  8%|▊         | 24/300 [00:10<01:56,  2.37it/s]"
     ]
    },
    {
     "name": "stdout",
     "output_type": "stream",
     "text": [
      "\n",
      "epoch 24: test average loss: 1.810 | acc: 98.32% (468/476)\n",
      "EarlyStopping counter: 8/25 (best: 1.0000)\n",
      "\n",
      "epoch 25: train average loss: 1.728 | acc: 97.57% (4183/4287)\n"
     ]
    },
    {
     "name": "stderr",
     "output_type": "stream",
     "text": [
      "  8%|▊         | 25/300 [00:10<01:55,  2.37it/s]"
     ]
    },
    {
     "name": "stdout",
     "output_type": "stream",
     "text": [
      "\n",
      "epoch 25: test average loss: 1.759 | acc: 97.90% (466/476)\n",
      "EarlyStopping counter: 9/25 (best: 1.0000)\n",
      "\n",
      "epoch 26: train average loss: 1.708 | acc: 98.37% (4217/4287)\n"
     ]
    },
    {
     "name": "stderr",
     "output_type": "stream",
     "text": [
      "  9%|▊         | 26/300 [00:10<01:55,  2.36it/s]"
     ]
    },
    {
     "name": "stdout",
     "output_type": "stream",
     "text": [
      "\n",
      "epoch 26: test average loss: 1.736 | acc: 98.32% (468/476)\n",
      "EarlyStopping counter: 10/25 (best: 1.0000)\n",
      "\n",
      "epoch 27: train average loss: 1.701 | acc: 98.16% (4208/4287)\n"
     ]
    },
    {
     "name": "stderr",
     "output_type": "stream",
     "text": [
      "  9%|▉         | 27/300 [00:11<01:56,  2.34it/s]"
     ]
    },
    {
     "name": "stdout",
     "output_type": "stream",
     "text": [
      "\n",
      "epoch 27: test average loss: 1.711 | acc: 98.32% (468/476)\n",
      "EarlyStopping counter: 11/25 (best: 1.0000)\n",
      "\n",
      "epoch 28: train average loss: 1.702 | acc: 98.39% (4218/4287)\n"
     ]
    },
    {
     "name": "stderr",
     "output_type": "stream",
     "text": [
      "  9%|▉         | 28/300 [00:11<01:57,  2.32it/s]"
     ]
    },
    {
     "name": "stdout",
     "output_type": "stream",
     "text": [
      "\n",
      "epoch 28: test average loss: 1.676 | acc: 98.32% (468/476)\n",
      "EarlyStopping counter: 12/25 (best: 1.0000)\n",
      "\n",
      "epoch 29: train average loss: 1.681 | acc: 98.30% (4214/4287)\n"
     ]
    },
    {
     "name": "stderr",
     "output_type": "stream",
     "text": [
      " 10%|▉         | 29/300 [00:12<01:56,  2.33it/s]"
     ]
    },
    {
     "name": "stdout",
     "output_type": "stream",
     "text": [
      "\n",
      "epoch 29: test average loss: 1.662 | acc: 98.11% (467/476)\n",
      "EarlyStopping counter: 13/25 (best: 1.0000)\n",
      "\n",
      "epoch 30: train average loss: 1.675 | acc: 98.60% (4227/4287)\n"
     ]
    },
    {
     "name": "stderr",
     "output_type": "stream",
     "text": [
      " 10%|█         | 30/300 [00:12<01:54,  2.36it/s]"
     ]
    },
    {
     "name": "stdout",
     "output_type": "stream",
     "text": [
      "\n",
      "epoch 30: test average loss: 1.652 | acc: 98.95% (471/476)\n",
      "EarlyStopping counter: 14/25 (best: 1.0000)\n",
      "\n",
      "epoch 31: train average loss: 1.662 | acc: 98.60% (4227/4287)\n"
     ]
    },
    {
     "name": "stderr",
     "output_type": "stream",
     "text": [
      " 10%|█         | 31/300 [00:12<01:52,  2.40it/s]"
     ]
    },
    {
     "name": "stdout",
     "output_type": "stream",
     "text": [
      "\n",
      "epoch 31: test average loss: 1.645 | acc: 98.74% (470/476)\n",
      "EarlyStopping counter: 15/25 (best: 1.0000)\n",
      "\n",
      "epoch 32: train average loss: 1.655 | acc: 98.93% (4241/4287)\n"
     ]
    },
    {
     "name": "stderr",
     "output_type": "stream",
     "text": [
      " 11%|█         | 32/300 [00:13<01:50,  2.43it/s]"
     ]
    },
    {
     "name": "stdout",
     "output_type": "stream",
     "text": [
      "\n",
      "epoch 32: test average loss: 1.638 | acc: 98.53% (469/476)\n",
      "EarlyStopping counter: 16/25 (best: 1.0000)\n",
      "\n",
      "epoch 33: train average loss: 1.648 | acc: 98.83% (4237/4287)\n"
     ]
    },
    {
     "name": "stderr",
     "output_type": "stream",
     "text": [
      " 11%|█         | 33/300 [00:13<01:48,  2.47it/s]"
     ]
    },
    {
     "name": "stdout",
     "output_type": "stream",
     "text": [
      "\n",
      "epoch 33: test average loss: 1.632 | acc: 98.95% (471/476)\n",
      "EarlyStopping counter: 17/25 (best: 1.0000)\n",
      "\n",
      "epoch 34: train average loss: 1.648 | acc: 98.79% (4235/4287)\n"
     ]
    },
    {
     "name": "stderr",
     "output_type": "stream",
     "text": [
      " 11%|█▏        | 34/300 [00:14<01:47,  2.47it/s]"
     ]
    },
    {
     "name": "stdout",
     "output_type": "stream",
     "text": [
      "\n",
      "epoch 34: test average loss: 1.631 | acc: 98.53% (469/476)\n",
      "EarlyStopping counter: 18/25 (best: 1.0000)\n",
      "\n",
      "epoch 35: train average loss: 1.639 | acc: 99.07% (4247/4287)\n"
     ]
    },
    {
     "name": "stderr",
     "output_type": "stream",
     "text": [
      " 12%|█▏        | 35/300 [00:14<01:48,  2.44it/s]"
     ]
    },
    {
     "name": "stdout",
     "output_type": "stream",
     "text": [
      "\n",
      "epoch 35: test average loss: 1.622 | acc: 98.74% (470/476)\n",
      "EarlyStopping counter: 19/25 (best: 1.0000)\n",
      "\n",
      "epoch 36: train average loss: 1.629 | acc: 99.04% (4246/4287)\n"
     ]
    },
    {
     "name": "stderr",
     "output_type": "stream",
     "text": [
      " 12%|█▏        | 36/300 [00:14<01:46,  2.47it/s]"
     ]
    },
    {
     "name": "stdout",
     "output_type": "stream",
     "text": [
      "\n",
      "epoch 36: test average loss: 1.614 | acc: 98.74% (470/476)\n",
      "EarlyStopping counter: 20/25 (best: 1.0000)\n",
      "\n",
      "epoch 37: train average loss: 1.625 | acc: 99.02% (4245/4287)\n"
     ]
    },
    {
     "name": "stderr",
     "output_type": "stream",
     "text": [
      " 12%|█▏        | 37/300 [00:15<01:45,  2.49it/s]"
     ]
    },
    {
     "name": "stdout",
     "output_type": "stream",
     "text": [
      "\n",
      "epoch 37: test average loss: 1.603 | acc: 98.74% (470/476)\n",
      "EarlyStopping counter: 21/25 (best: 1.0000)\n",
      "\n",
      "epoch 38: train average loss: 1.617 | acc: 99.30% (4257/4287)\n"
     ]
    },
    {
     "name": "stderr",
     "output_type": "stream",
     "text": [
      " 13%|█▎        | 38/300 [00:15<01:45,  2.48it/s]"
     ]
    },
    {
     "name": "stdout",
     "output_type": "stream",
     "text": [
      "\n",
      "epoch 38: test average loss: 1.597 | acc: 98.95% (471/476)\n",
      "EarlyStopping counter: 22/25 (best: 1.0000)\n",
      "\n",
      "epoch 39: train average loss: 1.615 | acc: 99.21% (4253/4287)\n"
     ]
    },
    {
     "name": "stderr",
     "output_type": "stream",
     "text": [
      " 13%|█▎        | 39/300 [00:16<01:44,  2.49it/s]"
     ]
    },
    {
     "name": "stdout",
     "output_type": "stream",
     "text": [
      "\n",
      "epoch 39: test average loss: 1.591 | acc: 99.16% (472/476)\n",
      "EarlyStopping counter: 23/25 (best: 1.0000)\n",
      "\n",
      "epoch 40: train average loss: 1.608 | acc: 99.21% (4253/4287)\n"
     ]
    },
    {
     "name": "stderr",
     "output_type": "stream",
     "text": [
      " 13%|█▎        | 40/300 [00:16<01:46,  2.45it/s]"
     ]
    },
    {
     "name": "stdout",
     "output_type": "stream",
     "text": [
      "\n",
      "epoch 40: test average loss: 1.585 | acc: 98.95% (471/476)\n",
      "EarlyStopping counter: 24/25 (best: 1.0000)\n",
      "\n",
      "epoch 41: train average loss: 1.603 | acc: 99.18% (4252/4287)\n"
     ]
    },
    {
     "name": "stderr",
     "output_type": "stream",
     "text": [
      " 13%|█▎        | 40/300 [00:17<01:50,  2.35it/s]"
     ]
    },
    {
     "name": "stdout",
     "output_type": "stream",
     "text": [
      "\n",
      "epoch 41: test average loss: 1.581 | acc: 99.16% (472/476)\n",
      "EarlyStopping counter: 25/25 (best: 1.0000)\n",
      "🔴 Early stopping triggered\n",
      "load model at epoch 16, with test acc : 1.000\n"
     ]
    },
    {
     "name": "stderr",
     "output_type": "stream",
     "text": [
      "\n",
      "/tmp/ipykernel_3428831/1054042983.py:175: FutureWarning:\n",
      "\n",
      "You are using `torch.load` with `weights_only=False` (the current default value), which uses the default pickle module implicitly. It is possible to construct malicious pickle data which will execute arbitrary code during unpickling (See https://github.com/pytorch/pytorch/blob/main/SECURITY.md#untrusted-models for more details). In a future release, the default value for `weights_only` will be flipped to `True`. This limits the functions that could be executed during unpickling. Arbitrary objects will no longer be allowed to be loaded via this mode unless they are explicitly allowlisted by the user via `torch.serialization.add_safe_globals`. We recommend you start setting `weights_only=True` for any use case where you don't have full control of the loaded file. Please open an issue on GitHub for any issues related to this experimental feature.\n",
      "\n"
     ]
    },
    {
     "name": "stdout",
     "output_type": "stream",
     "text": [
      "total 1.0\n",
      "class 0 1.0\n",
      "class 1 1.0\n",
      "                      0\n",
      "Accuracy            1.0\n",
      "Recall       [1.0, 1.0]\n",
      "Specificity  [1.0, 1.0]\n",
      "Precision    [1.0, 1.0]\n",
      "F1 Score     [1.0, 1.0]\n",
      "10\n"
     ]
    },
    {
     "name": "stderr",
     "output_type": "stream",
     "text": [
      "  0%|          | 0/300 [00:00<?, ?it/s]"
     ]
    },
    {
     "name": "stdout",
     "output_type": "stream",
     "text": [
      "\n",
      "epoch 1: train average loss: 29.471 | acc: 52.95% (2270/4287)\n"
     ]
    },
    {
     "name": "stderr",
     "output_type": "stream",
     "text": [
      "  0%|          | 1/300 [00:00<02:11,  2.28it/s]"
     ]
    },
    {
     "name": "stdout",
     "output_type": "stream",
     "text": [
      "\n",
      "epoch 1: test average loss: 24.005 | acc: 96.01% (457/476)\n",
      "best test acc found\n",
      "\n",
      "epoch 2: train average loss: 22.663 | acc: 58.15% (2493/4287)\n"
     ]
    },
    {
     "name": "stderr",
     "output_type": "stream",
     "text": [
      "  1%|          | 2/300 [00:00<02:12,  2.24it/s]"
     ]
    },
    {
     "name": "stdout",
     "output_type": "stream",
     "text": [
      "\n",
      "epoch 2: test average loss: 20.869 | acc: 96.01% (457/476)\n",
      "EarlyStopping counter: 1/25 (best: 0.9601)\n",
      "\n",
      "epoch 3: train average loss: 19.381 | acc: 61.63% (2642/4287)\n"
     ]
    },
    {
     "name": "stderr",
     "output_type": "stream",
     "text": [
      "  1%|          | 3/300 [00:01<02:12,  2.24it/s]"
     ]
    },
    {
     "name": "stdout",
     "output_type": "stream",
     "text": [
      "\n",
      "epoch 3: test average loss: 21.047 | acc: 96.01% (457/476)\n",
      "EarlyStopping counter: 2/25 (best: 0.9601)\n",
      "\n",
      "epoch 4: train average loss: 16.891 | acc: 64.47% (2764/4287)\n"
     ]
    },
    {
     "name": "stderr",
     "output_type": "stream",
     "text": [
      "  1%|▏         | 4/300 [00:01<02:11,  2.25it/s]"
     ]
    },
    {
     "name": "stdout",
     "output_type": "stream",
     "text": [
      "\n",
      "epoch 4: test average loss: 20.395 | acc: 97.90% (466/476)\n",
      "best test acc found\n",
      "\n",
      "epoch 5: train average loss: 14.813 | acc: 67.76% (2905/4287)\n"
     ]
    },
    {
     "name": "stderr",
     "output_type": "stream",
     "text": [
      "  2%|▏         | 5/300 [00:02<02:09,  2.29it/s]"
     ]
    },
    {
     "name": "stdout",
     "output_type": "stream",
     "text": [
      "\n",
      "epoch 5: test average loss: 14.849 | acc: 98.95% (471/476)\n",
      "best test acc found\n",
      "\n",
      "epoch 6: train average loss: 13.182 | acc: 69.54% (2981/4287)\n"
     ]
    },
    {
     "name": "stderr",
     "output_type": "stream",
     "text": [
      "  2%|▏         | 6/300 [00:02<02:07,  2.30it/s]"
     ]
    },
    {
     "name": "stdout",
     "output_type": "stream",
     "text": [
      "\n",
      "epoch 6: test average loss: 11.855 | acc: 96.01% (457/476)\n",
      "EarlyStopping counter: 1/25 (best: 0.9895)\n",
      "\n",
      "epoch 7: train average loss: 11.257 | acc: 71.99% (3086/4287)\n"
     ]
    },
    {
     "name": "stderr",
     "output_type": "stream",
     "text": [
      "  2%|▏         | 7/300 [00:03<02:07,  2.30it/s]"
     ]
    },
    {
     "name": "stdout",
     "output_type": "stream",
     "text": [
      "\n",
      "epoch 7: test average loss: 18.173 | acc: 87.82% (418/476)\n",
      "EarlyStopping counter: 2/25 (best: 0.9895)\n",
      "\n",
      "epoch 8: train average loss: 9.827 | acc: 73.08% (3133/4287)\n"
     ]
    },
    {
     "name": "stderr",
     "output_type": "stream",
     "text": [
      "  3%|▎         | 8/300 [00:03<02:06,  2.30it/s]"
     ]
    },
    {
     "name": "stdout",
     "output_type": "stream",
     "text": [
      "\n",
      "epoch 8: test average loss: 18.258 | acc: 50.21% (239/476)\n",
      "EarlyStopping counter: 3/25 (best: 0.9895)\n",
      "\n",
      "epoch 9: train average loss: 6.795 | acc: 75.04% (3217/4287)\n"
     ]
    },
    {
     "name": "stderr",
     "output_type": "stream",
     "text": [
      "  3%|▎         | 9/300 [00:03<02:06,  2.30it/s]"
     ]
    },
    {
     "name": "stdout",
     "output_type": "stream",
     "text": [
      "\n",
      "epoch 9: test average loss: 14.291 | acc: 45.38% (216/476)\n",
      "EarlyStopping counter: 4/25 (best: 0.9895)\n",
      "\n",
      "epoch 10: train average loss: 4.933 | acc: 77.12% (3306/4287)\n"
     ]
    },
    {
     "name": "stderr",
     "output_type": "stream",
     "text": [
      "  3%|▎         | 10/300 [00:04<02:05,  2.32it/s]"
     ]
    },
    {
     "name": "stdout",
     "output_type": "stream",
     "text": [
      "\n",
      "epoch 10: test average loss: 7.721 | acc: 96.85% (461/476)\n",
      "EarlyStopping counter: 5/25 (best: 0.9895)\n",
      "\n",
      "epoch 11: train average loss: 5.599 | acc: 79.52% (3409/4287)\n"
     ]
    },
    {
     "name": "stderr",
     "output_type": "stream",
     "text": [
      "  4%|▎         | 11/300 [00:04<02:04,  2.32it/s]"
     ]
    },
    {
     "name": "stdout",
     "output_type": "stream",
     "text": [
      "\n",
      "epoch 11: test average loss: 5.063 | acc: 92.86% (442/476)\n",
      "EarlyStopping counter: 6/25 (best: 0.9895)\n",
      "\n",
      "epoch 12: train average loss: 4.181 | acc: 81.74% (3504/4287)\n"
     ]
    },
    {
     "name": "stderr",
     "output_type": "stream",
     "text": [
      "  4%|▍         | 12/300 [00:05<02:03,  2.33it/s]"
     ]
    },
    {
     "name": "stdout",
     "output_type": "stream",
     "text": [
      "\n",
      "epoch 12: test average loss: 16.865 | acc: 53.99% (257/476)\n",
      "EarlyStopping counter: 7/25 (best: 0.9895)\n",
      "\n",
      "epoch 13: train average loss: 2.932 | acc: 84.39% (3618/4287)\n"
     ]
    },
    {
     "name": "stderr",
     "output_type": "stream",
     "text": [
      "  4%|▍         | 13/300 [00:05<02:01,  2.36it/s]"
     ]
    },
    {
     "name": "stdout",
     "output_type": "stream",
     "text": [
      "\n",
      "epoch 13: test average loss: 4.476 | acc: 75.00% (357/476)\n",
      "EarlyStopping counter: 8/25 (best: 0.9895)\n",
      "\n",
      "epoch 14: train average loss: 2.402 | acc: 86.21% (3696/4287)\n"
     ]
    },
    {
     "name": "stderr",
     "output_type": "stream",
     "text": [
      "  5%|▍         | 14/300 [00:06<01:59,  2.40it/s]"
     ]
    },
    {
     "name": "stdout",
     "output_type": "stream",
     "text": [
      "\n",
      "epoch 14: test average loss: 2.264 | acc: 96.85% (461/476)\n",
      "EarlyStopping counter: 9/25 (best: 0.9895)\n",
      "\n",
      "epoch 15: train average loss: 1.998 | acc: 88.48% (3793/4287)\n"
     ]
    },
    {
     "name": "stderr",
     "output_type": "stream",
     "text": [
      "  5%|▌         | 15/300 [00:06<01:56,  2.44it/s]"
     ]
    },
    {
     "name": "stdout",
     "output_type": "stream",
     "text": [
      "\n",
      "epoch 15: test average loss: 3.293 | acc: 93.07% (443/476)\n",
      "EarlyStopping counter: 10/25 (best: 0.9895)\n",
      "\n",
      "epoch 16: train average loss: 2.324 | acc: 90.37% (3874/4287)\n"
     ]
    },
    {
     "name": "stderr",
     "output_type": "stream",
     "text": [
      "  5%|▌         | 16/300 [00:06<01:55,  2.47it/s]"
     ]
    },
    {
     "name": "stdout",
     "output_type": "stream",
     "text": [
      "\n",
      "epoch 16: test average loss: 7.539 | acc: 84.66% (403/476)\n",
      "EarlyStopping counter: 11/25 (best: 0.9895)\n",
      "\n",
      "epoch 17: train average loss: 1.884 | acc: 91.98% (3943/4287)\n"
     ]
    },
    {
     "name": "stderr",
     "output_type": "stream",
     "text": [
      "  6%|▌         | 17/300 [00:07<01:54,  2.46it/s]"
     ]
    },
    {
     "name": "stdout",
     "output_type": "stream",
     "text": [
      "\n",
      "epoch 17: test average loss: 3.099 | acc: 96.43% (459/476)\n",
      "EarlyStopping counter: 12/25 (best: 0.9895)\n",
      "\n",
      "epoch 18: train average loss: 1.797 | acc: 93.91% (4026/4287)\n"
     ]
    },
    {
     "name": "stderr",
     "output_type": "stream",
     "text": [
      "  6%|▌         | 18/300 [00:07<01:55,  2.44it/s]"
     ]
    },
    {
     "name": "stdout",
     "output_type": "stream",
     "text": [
      "\n",
      "epoch 18: test average loss: 2.162 | acc: 96.85% (461/476)\n",
      "EarlyStopping counter: 13/25 (best: 0.9895)\n",
      "\n",
      "epoch 19: train average loss: 1.742 | acc: 94.43% (4048/4287)\n"
     ]
    },
    {
     "name": "stderr",
     "output_type": "stream",
     "text": [
      "  6%|▋         | 19/300 [00:08<01:54,  2.46it/s]"
     ]
    },
    {
     "name": "stdout",
     "output_type": "stream",
     "text": [
      "\n",
      "epoch 19: test average loss: 2.315 | acc: 95.59% (455/476)\n",
      "EarlyStopping counter: 14/25 (best: 0.9895)\n",
      "\n",
      "epoch 20: train average loss: 1.737 | acc: 94.54% (4053/4287)\n"
     ]
    },
    {
     "name": "stderr",
     "output_type": "stream",
     "text": [
      "  7%|▋         | 20/300 [00:08<01:55,  2.43it/s]"
     ]
    },
    {
     "name": "stdout",
     "output_type": "stream",
     "text": [
      "\n",
      "epoch 20: test average loss: 3.360 | acc: 93.70% (446/476)\n",
      "EarlyStopping counter: 15/25 (best: 0.9895)\n",
      "\n",
      "epoch 21: train average loss: 1.766 | acc: 95.89% (4111/4287)\n"
     ]
    },
    {
     "name": "stderr",
     "output_type": "stream",
     "text": [
      "  7%|▋         | 21/300 [00:08<01:56,  2.39it/s]"
     ]
    },
    {
     "name": "stdout",
     "output_type": "stream",
     "text": [
      "\n",
      "epoch 21: test average loss: 4.707 | acc: 93.28% (444/476)\n",
      "EarlyStopping counter: 16/25 (best: 0.9895)\n",
      "\n",
      "epoch 22: train average loss: 1.746 | acc: 95.57% (4097/4287)\n"
     ]
    },
    {
     "name": "stderr",
     "output_type": "stream",
     "text": [
      "  7%|▋         | 22/300 [00:09<02:01,  2.29it/s]"
     ]
    },
    {
     "name": "stdout",
     "output_type": "stream",
     "text": [
      "\n",
      "epoch 22: test average loss: 1.760 | acc: 98.11% (467/476)\n",
      "EarlyStopping counter: 17/25 (best: 0.9895)\n",
      "\n",
      "epoch 23: train average loss: 1.705 | acc: 97.32% (4172/4287)\n"
     ]
    },
    {
     "name": "stderr",
     "output_type": "stream",
     "text": [
      "  8%|▊         | 23/300 [00:09<02:02,  2.27it/s]"
     ]
    },
    {
     "name": "stdout",
     "output_type": "stream",
     "text": [
      "\n",
      "epoch 23: test average loss: 1.668 | acc: 98.32% (468/476)\n",
      "EarlyStopping counter: 18/25 (best: 0.9895)\n",
      "\n",
      "epoch 24: train average loss: 1.711 | acc: 97.43% (4177/4287)\n"
     ]
    },
    {
     "name": "stderr",
     "output_type": "stream",
     "text": [
      "  8%|▊         | 24/300 [00:10<02:04,  2.23it/s]"
     ]
    },
    {
     "name": "stdout",
     "output_type": "stream",
     "text": [
      "\n",
      "epoch 24: test average loss: 1.649 | acc: 97.69% (465/476)\n",
      "EarlyStopping counter: 19/25 (best: 0.9895)\n",
      "\n",
      "epoch 25: train average loss: 1.681 | acc: 96.99% (4158/4287)\n"
     ]
    },
    {
     "name": "stderr",
     "output_type": "stream",
     "text": [
      "  8%|▊         | 25/300 [00:10<02:05,  2.20it/s]"
     ]
    },
    {
     "name": "stdout",
     "output_type": "stream",
     "text": [
      "\n",
      "epoch 25: test average loss: 1.721 | acc: 96.43% (459/476)\n",
      "EarlyStopping counter: 20/25 (best: 0.9895)\n",
      "\n",
      "epoch 26: train average loss: 1.668 | acc: 97.92% (4198/4287)\n"
     ]
    },
    {
     "name": "stderr",
     "output_type": "stream",
     "text": [
      "  9%|▊         | 26/300 [00:11<02:02,  2.24it/s]"
     ]
    },
    {
     "name": "stdout",
     "output_type": "stream",
     "text": [
      "\n",
      "epoch 26: test average loss: 1.688 | acc: 96.64% (460/476)\n",
      "EarlyStopping counter: 21/25 (best: 0.9895)\n",
      "\n",
      "epoch 27: train average loss: 1.657 | acc: 98.30% (4214/4287)\n"
     ]
    },
    {
     "name": "stderr",
     "output_type": "stream",
     "text": [
      "  9%|▉         | 27/300 [00:11<01:59,  2.28it/s]"
     ]
    },
    {
     "name": "stdout",
     "output_type": "stream",
     "text": [
      "\n",
      "epoch 27: test average loss: 1.672 | acc: 97.69% (465/476)\n",
      "EarlyStopping counter: 22/25 (best: 0.9895)\n",
      "\n",
      "epoch 28: train average loss: 1.649 | acc: 98.37% (4217/4287)\n"
     ]
    },
    {
     "name": "stderr",
     "output_type": "stream",
     "text": [
      "  9%|▉         | 28/300 [00:12<01:58,  2.30it/s]"
     ]
    },
    {
     "name": "stdout",
     "output_type": "stream",
     "text": [
      "\n",
      "epoch 28: test average loss: 1.716 | acc: 97.48% (464/476)\n",
      "EarlyStopping counter: 23/25 (best: 0.9895)\n",
      "\n",
      "epoch 29: train average loss: 1.639 | acc: 98.55% (4225/4287)\n"
     ]
    },
    {
     "name": "stderr",
     "output_type": "stream",
     "text": [
      " 10%|▉         | 29/300 [00:12<01:56,  2.32it/s]"
     ]
    },
    {
     "name": "stdout",
     "output_type": "stream",
     "text": [
      "\n",
      "epoch 29: test average loss: 1.665 | acc: 97.90% (466/476)\n",
      "EarlyStopping counter: 24/25 (best: 0.9895)\n",
      "\n",
      "epoch 30: train average loss: 1.631 | acc: 98.34% (4216/4287)\n"
     ]
    },
    {
     "name": "stderr",
     "output_type": "stream",
     "text": [
      " 10%|▉         | 29/300 [00:12<02:00,  2.25it/s]"
     ]
    },
    {
     "name": "stdout",
     "output_type": "stream",
     "text": [
      "\n",
      "epoch 30: test average loss: 1.640 | acc: 97.90% (466/476)\n",
      "EarlyStopping counter: 25/25 (best: 0.9895)\n",
      "🔴 Early stopping triggered\n",
      "load model at epoch 5, with test acc : 0.989\n"
     ]
    },
    {
     "name": "stderr",
     "output_type": "stream",
     "text": [
      "\n",
      "/tmp/ipykernel_3428831/1054042983.py:175: FutureWarning:\n",
      "\n",
      "You are using `torch.load` with `weights_only=False` (the current default value), which uses the default pickle module implicitly. It is possible to construct malicious pickle data which will execute arbitrary code during unpickling (See https://github.com/pytorch/pytorch/blob/main/SECURITY.md#untrusted-models for more details). In a future release, the default value for `weights_only` will be flipped to `True`. This limits the functions that could be executed during unpickling. Arbitrary objects will no longer be allowed to be loaded via this mode unless they are explicitly allowlisted by the user via `torch.serialization.add_safe_globals`. We recommend you start setting `weights_only=True` for any use case where you don't have full control of the loaded file. Please open an issue on GitHub for any issues related to this experimental feature.\n",
      "\n"
     ]
    },
    {
     "name": "stdout",
     "output_type": "stream",
     "text": [
      "total 0.9894957983193278\n",
      "class 0 1.0\n",
      "class 1 0.9890590809628009\n",
      "                            0\n",
      "Accuracy               0.9895\n",
      "Recall          [1.0, 0.9891]\n",
      "Specificity     [0.9891, 1.0]\n",
      "Precision       [0.7917, 1.0]\n",
      "F1 Score     [0.8837, 0.9945]\n"
     ]
    }
   ],
   "source": [
    "\n",
    "from datasets_spectrum import spectral_dataloader\n",
    "from sklearn.model_selection import StratifiedKFold\n",
    "best_test_accuracy = 0\n",
    "low_test_accuracy = 1\n",
    "\n",
    "sss = StratifiedKFold(n_splits=10, shuffle=True,random_state=1)\n",
    "for fold, (train_index, test_index) in enumerate(sss.split(X_train_raw, y_train_raw)):\n",
    "    X_train, X_test = X_train_raw[train_index], X_train_raw[test_index]\n",
    "    y_train, y_test = y_train_raw[train_index], y_train_raw[test_index]\n",
    "    patient_train ,patient_test = patient_train_raw[train_index],patient_train_raw[test_index]\n",
    "\n",
    "    dl_tr = spectral_dataloader(\n",
    "                        X_train, y_train,patient_train, idxs=None, batch_size=batch_size, shuffle=True\n",
    "                    )\n",
    "    dl_test = spectral_dataloader(X_test, y_test,patient_test,idxs=None, batch_size=batch_size, shuffle=False)\n",
    "    values, counts = np.unique(np.asarray(y_test), return_counts=True)\n",
    "    dataloaders = {\"train\": dl_tr, \"test\": dl_test}\n",
    "\n",
    "    model = Variant_LeNet(in_channels=1, out_channels=n_classes)\n",
    "\n",
    "    model_path = f\"best_variant_lenet_model_{fold}.pth\"\n",
    "\n",
    "    class_counts = np.bincount(y_train)\n",
    "    num_classes = len(class_counts)\n",
    "    total_samples = len(y_train)\n",
    "\n",
    "    class_weights = []\n",
    "    for count in class_counts:\n",
    "        weight = 1 / (count / total_samples)\n",
    "        class_weights.append(weight)\n",
    "    class_weights = torch.FloatTensor(class_weights)\n",
    "    alpha = class_weights\n",
    "    solver = Solver(\n",
    "                fold,dataloaders, model, model_path, 'cuda', n_classes, alpha\n",
    "            )\n",
    "    print(fold + 1)\n",
    "    solver.train(epochs)\n",
    "    C, y_true, y_pred, test_accuracy , y_pred_prob,train_acc,train_targets,targets,train_combined,combined ,train_patient_ids, test_patient_ids= solver.test()\n",
    "    C_total += C  # 將每次迭代的 C 加總到 C_total\n",
    "    train_avg_accuracy.append(train_acc)\n",
    "    avg_accuracy.append(test_accuracy)\n",
    "\n",
    "    if test_accuracy > best_test_accuracy:\n",
    "\n",
    "        best_test_accuracy = test_accuracy\n",
    "            \n",
    "        plot_tsne_interactive_html(f\"variant_lenet_best_test_accuracy_combined_train\",f\"variant_lenet_best_test_accuracy_combined_test\",train_combined,combined,train_targets,targets, train_patient_ids, test_patient_ids,classnames )\n",
    "      \n",
    "        plot_heatmap(f\"variant_lenet_best_test_accuracy_heatmap\", C,class_names=classnames)\n",
    "        \n",
    "    if test_accuracy < low_test_accuracy:\n",
    "\n",
    "        low_test_accuracy = test_accuracy\n",
    "        \n",
    "        plot_tsne_interactive_html(f\"variant_lenet_low_test_accuracy_combined_train\",f\"variant_lenet_low_test_accuracy_combined_test\",train_combined,combined,train_targets,targets,train_patient_ids, test_patient_ids, classnames )\n",
    "            \n",
    "        plot_heatmap(f\"variant_lenet_low_test_accuracy_heatmap\", C,class_names=classnames)\n",
    "        \n",
    "    fpr = dict()\n",
    "    tpr = dict()\n",
    "    roc_auc = dict()\n",
    "    for i in range(np.unique(y_true).shape[0]):\n",
    "        fpr[i], tpr[i], _ = roc_curve(y_test == i, y_pred_prob[:, i])\n",
    "        roc_auc[i] = auc(fpr[i], tpr[i])\n",
    "    values = [\n",
    "            v\n",
    "            for v in roc_auc.values()\n",
    "            if isinstance(v, (int, float)) and not math.isnan(v)\n",
    "    ]\n",
    "    if values:\n",
    "        auc_score = sum(values) / len(values)\n",
    "    avg_roc.append(auc_score)\n",
    "\n",
    "    for i in range(n_classes):\n",
    "        C_new[i] = np.round((C[i] / (counts[i] * num)), 2)\n",
    "\n",
    "        # Plot confusion matrix\n",
    "    sns.set_context(\"talk\", rc={\"font\": \"Helvetica\", \"font.size\": 12})\n",
    "    label = [STRAINS[i] for i in ORDER]\n",
    "    cm = 100 * C_new / C_new.sum(axis=1)[:, np.newaxis]\n",
    "\n",
    "        # calculate comfusion matrix\n",
    "    accuracy = accuracy_score(y_true, y_pred)\n",
    "    sensitivity = recall_score(y_true, y_pred, average=\"micro\", zero_division=0)\n",
    "    specificity = cm[1, 1] / (cm[1, 0] + cm[1, 1])\n",
    "    f1 = f1_score(y_true, y_pred, average=\"micro\", zero_division=0)\n",
    "\n",
    "    # metrices result\n",
    "    df = pd.DataFrame(\n",
    "        {\n",
    "            \"Accuracy\": [np.round(accuracy_score(y_true, y_pred), 4)],\n",
    "            \"Recall\": [\n",
    "                    recall_score(y_true, y_pred, average=None, zero_division=0).round(4)\n",
    "                ],\n",
    "            \"Specificity\": [specificity_score(y_true, y_pred, average=None).round(4)],\n",
    "            \"Precision\": [\n",
    "                    precision_score(y_true, y_pred, average=None, zero_division=0).round(4)\n",
    "                ],\n",
    "            \"F1 Score\": [\n",
    "                    f1_score(y_true, y_pred, average=None, zero_division=0).round(4)\n",
    "                ],\n",
    "            }\n",
    "    )\n",
    "    print(df.transpose())\n",
    "\n",
    "    plot_CR_Ecoli_CS_Ecoli_ROC_curve(f\"variant_lenet_{fold}_roc_curve\", y_true, y_test, y_pred_prob)\n",
    "\n",
    "    plot_heatmap(f\"variant_lenet_{fold}_heatmap\", cm,class_names=classnames)\n",
    "\n",
    "plot_heatmap(f\"variant_lenet_average_heatmap\", C_total,class_names=classnames)\n"
   ]
  },
  {
   "cell_type": "code",
   "execution_count": null,
   "id": "9f161583",
   "metadata": {},
   "outputs": [
    {
     "name": "stdout",
     "output_type": "stream",
     "text": [
      "max test acc: 1.0\n",
      "min test acc: 0.9894957983193278\n",
      "test acc: [1.0, 0.9916142557651991, 0.9958071278825996, 0.9894957983193278, 0.9978991596638656, 0.9936974789915967, 0.9915966386554622, 0.9957983193277311, 1.0, 0.9894957983193278]\n",
      "test auc: [1.0, 0.9998850838887613, 1.0, 1.0, 1.0, 1.0, 0.9985028216054359, 1.0, 1.0, 1.0]\n",
      "train mean: 0.92443963731086\n",
      "train std: 0.09713127832757729\n",
      "mean: 0.994540457692511\n",
      "std: 0.0037804400580633995\n",
      "auc mean: 0.9998387905494198\n",
      "auc std: 0.0004466390027984324\n"
     ]
    }
   ],
   "source": [
    "print(\"max test acc:\", np.max(avg_accuracy))\n",
    "print(\"min test acc:\", np.min(avg_accuracy))\n",
    "\n",
    "print(\"train mean:\", np.mean(train_avg_accuracy))\n",
    "print(\"train std:\", np.std(train_avg_accuracy))\n",
    "\n",
    "    \n",
    "print(\"mean:\", np.mean(avg_accuracy))\n",
    "print(\"std:\", np.std(avg_accuracy))\n",
    "\n",
    "    \n",
    "print(\"auc mean:\", np.mean(avg_roc))\n",
    "print(\"auc std:\", np.std(avg_roc))\n",
    "    "
   ]
  }
 ],
 "metadata": {
  "kernelspec": {
   "display_name": "Python 3",
   "language": "python",
   "name": "python3"
  },
  "language_info": {
   "codemirror_mode": {
    "name": "ipython",
    "version": 3
   },
   "file_extension": ".py",
   "mimetype": "text/x-python",
   "name": "python",
   "nbconvert_exporter": "python",
   "pygments_lexer": "ipython3",
   "version": "3.10.12"
  }
 },
 "nbformat": 4,
 "nbformat_minor": 5
}
