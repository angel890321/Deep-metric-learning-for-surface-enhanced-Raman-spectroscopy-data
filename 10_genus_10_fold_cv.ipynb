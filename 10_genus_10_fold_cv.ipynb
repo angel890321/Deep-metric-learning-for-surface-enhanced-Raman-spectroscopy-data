{
 "cells": [
  {
   "cell_type": "markdown",
   "id": "637ab6e7",
   "metadata": {},
   "source": [
    "## Loading Dataset"
   ]
  },
  {
   "cell_type": "code",
   "execution_count": 1,
   "id": "ae8984c7",
   "metadata": {},
   "outputs": [],
   "source": [
    "import numpy as np"
   ]
  },
  {
   "cell_type": "code",
   "execution_count": 2,
   "id": "92288fb8",
   "metadata": {},
   "outputs": [],
   "source": [
    "X_fn = \"./data_astii/combine_astii_astiii_filter_all_smoothing_norm.npy\"\n",
    "y_fn = \"./data_astii/y_astii_astiii_filter_all_new.npy\"\n",
    "patient_fn = \"./data_astii/patient_astii_astiii_filter_all_new.npy\"\n",
    "X_train_raw = np.load(X_fn,allow_pickle=True)\n",
    "y_train_raw = np.load(y_fn,allow_pickle=True)\n",
    "patient_train_raw = np.load(patient_fn,allow_pickle=True)\n",
    "\n",
    "classnames=['Acinetobacter', 'Enterobacter','Enterococcus','Escherichia','Klebsiella','Staphylococcus','Streptococcus','Salmonella','Pseudomonas','CoNS']\n",
    "\n"
   ]
  },
  {
   "cell_type": "code",
   "execution_count": 3,
   "id": "fa1db3d8",
   "metadata": {},
   "outputs": [],
   "source": [
    "if not isinstance(X_train_raw, np.ndarray):\n",
    "    X_train_raw = np.array(X_train_raw, dtype=np.float32)\n",
    "elif X_train_raw.dtype != np.float32:\n",
    "    X_train_raw = X_train_raw.astype(np.float32)"
   ]
  },
  {
   "cell_type": "markdown",
   "id": "7152edc6",
   "metadata": {},
   "source": [
    "## Model Setting"
   ]
  },
  {
   "cell_type": "code",
   "execution_count": null,
   "id": "5425f364",
   "metadata": {},
   "outputs": [
    {
     "name": "stderr",
     "output_type": "stream",
     "text": [
      "2025-07-18 09:30:42.920864: E external/local_xla/xla/stream_executor/cuda/cuda_dnn.cc:9261] Unable to register cuDNN factory: Attempting to register factory for plugin cuDNN when one has already been registered\n",
      "2025-07-18 09:30:42.920909: E external/local_xla/xla/stream_executor/cuda/cuda_fft.cc:607] Unable to register cuFFT factory: Attempting to register factory for plugin cuFFT when one has already been registered\n",
      "2025-07-18 09:30:42.921679: E external/local_xla/xla/stream_executor/cuda/cuda_blas.cc:1515] Unable to register cuBLAS factory: Attempting to register factory for plugin cuBLAS when one has already been registered\n"
     ]
    }
   ],
   "source": [
    "# model\n",
    "from Variant_LeNet import Variant_LeNet\n",
    "from tqdm import tqdm\n",
    "import torch\n",
    "import pandas as pd\n",
    "import torch.nn as nn\n",
    "from torch.autograd import Variable\n",
    "from FocalLoss import FocalLoss\n",
    "from losses import AdaptiveProxyAnchorLoss\n",
    "from imblearn.metrics import specificity_score\n",
    "from sklearn.metrics import (\n",
    "    confusion_matrix,\n",
    "    accuracy_score,\n",
    "    precision_score,\n",
    "    recall_score,\n",
    "    f1_score,\n",
    "    auc,\n",
    "    roc_curve,\n",
    ")\n",
    "from pytorchtools import EarlyStopping\n",
    "# Plot\n",
    "from plot import plot_10_genus_ROC_curve, plot_heatmap,plot_tsne_interactive_html\n",
    "import matplotlib.pyplot as plt\n",
    "\n",
    "import seaborn as sns\n",
    "from sklearn.metrics import confusion_matrix\n",
    "from config import ORDER, STRAINS\n",
    "import math\n",
    "\n",
    "# Training setting\n",
    "n_classes = 10\n",
    "epochs = 300 \n",
    "batch_size = 256\n",
    "num=10\n",
    "\n",
    "# metrics\n",
    "train_avg_accuracy = []\n",
    "avg_accuracy = []\n",
    "avg_roc = []\n",
    "C_total = np.zeros((n_classes, n_classes))\n",
    "C = np.zeros((n_classes, n_classes))\n",
    "C_new = np.zeros((n_classes, n_classes))"
   ]
  },
  {
   "cell_type": "code",
   "execution_count": 5,
   "id": "e2a64d2c",
   "metadata": {},
   "outputs": [],
   "source": [
    "class Solver:\n",
    "    def __init__(\n",
    "        self,\n",
    "        i,\n",
    "        dataloaders,\n",
    "        model,\n",
    "        model_path,\n",
    "        device,\n",
    "        n_classes,\n",
    "        alpha,\n",
    "        gpu=-1,\n",
    "    ):\n",
    "        self.i = i\n",
    "        self.dataloaders = dataloaders\n",
    "        self.device = device\n",
    "        self.net = model\n",
    "        self.net = self.net.to(self.device)\n",
    "        self.n_classes = n_classes\n",
    "        self.criterion_proxy =AdaptiveProxyAnchorLoss(nb_classes=n_classes, sz_embed=256, mrg=0.5, alpha=32,\\\n",
    "                                             nb_proxies=1, scale_margin=1).cuda()\n",
    "        self.criterion = FocalLoss(alpha=alpha, gamma=2).cuda()\n",
    "        self.get_num_labeled_class = 2\n",
    "        self.param_groups = [\n",
    "            {'params': list(set(model.parameters()).difference(set(model.embedding.parameters())))},\n",
    "            {'params': model.embedding.parameters() , 'lr':float(0.001) * 1},\n",
    "            {'params': self.criterion_proxy.mrg,'lr':float(0.001) },\n",
    "            {'params': self.criterion_proxy.proxies, 'lr':float(0.001) * 10}\n",
    "        ]\n",
    "        self.optimizer =torch.optim.AdamW(self.param_groups, lr=0.001, weight_decay = 0.001)\n",
    "        self.model_path = model_path\n",
    "\n",
    "\n",
    "    def iterate(self, epoch, phase):\n",
    "        if phase == \"train\":\n",
    "            self.net.train()\n",
    "        else:\n",
    "            self.net.eval()\n",
    "\n",
    "            \n",
    "        dataloader = self.dataloaders[phase]\n",
    "        total_loss = 0\n",
    "        correct = 0\n",
    "        total = 0\n",
    "        total_proxy_loss = 0\n",
    "        total_crossentropy_loss = 0\n",
    "            \n",
    "        for batch_idx, (inputs, targets,patients) in enumerate(dataloader):\n",
    "            inputs, targets,patients = Variable(inputs).to(self.device), Variable(targets.long()).to(self.device), patients\n",
    "            #print(inputs.shape)\n",
    "            out,emb= self.net(inputs)\n",
    "            \n",
    "            loss1 = self.criterion(out, targets)\n",
    "            loss2 = self.criterion_proxy(emb, targets)\n",
    "            loss = loss1 + 0.5 * loss2\n",
    "            outputs = torch.argmax(out.detach(), dim=1)\n",
    "            \n",
    "            if phase == \"train\":\n",
    "                self.optimizer.zero_grad()\n",
    "                loss.backward()\n",
    "                self.optimizer.step()\n",
    "                torch.nn.utils.clip_grad_value_(self.net.parameters(), 10)\n",
    "                torch.nn.utils.clip_grad_value_(self.criterion_proxy.parameters(), 10)\n",
    "\n",
    "\n",
    "            total_loss += loss.item()\n",
    "            total_proxy_loss += loss2.item()\n",
    "            total_crossentropy_loss += loss1.item()\n",
    "            total += targets.size(0)\n",
    "            correct += outputs.eq(targets).cpu().sum().item()\n",
    "\n",
    "        total_loss /= (batch_idx + 1)\n",
    "        total_acc = correct / total\n",
    "\n",
    "                \n",
    "        print(\"\\nepoch %d: %s average loss: %.3f | acc: %.2f%% (%d/%d)\"\n",
    "                % (epoch + 1, phase, total_loss, 100.0 * total_acc, correct, total))\n",
    "\n",
    "        return total_loss,total_acc,out,targets\n",
    "            \n",
    "\n",
    "    def train(self, epochs):\n",
    "        best_loss = float(\"inf\")\n",
    "        best_acc = 0\n",
    "        epoch_breaks_classifer = 0\n",
    "        train_losses = []\n",
    "        train_acces = [] \n",
    "        test_losses = []\n",
    "        test_acces = [] \n",
    "\n",
    "        self.scheduler = torch.optim.lr_scheduler.CosineAnnealingLR(self.optimizer, T_max=60)\n",
    "\n",
    "        early_stopping_classifier = EarlyStopping(patience=25, mode='acc', verbose=True)\n",
    "\n",
    "        for epoch in tqdm(range(epochs)):\n",
    "            train_loss,train_acc,out,targets =self.iterate(epoch, \"train\")\n",
    "\n",
    "            train_losses.append(train_loss)\n",
    "            train_acces.append(train_acc)\n",
    "\n",
    "            with torch.no_grad():\n",
    "                \n",
    "                test_loss,test_acc,out,targets= self.iterate(epoch, \"test\")\n",
    "                    \n",
    "                test_losses.append(test_loss)\n",
    "                test_acces.append(test_acc)\n",
    "\n",
    "                if test_acc > best_acc:\n",
    "                    best_acc = test_acc\n",
    "                    checkpoint = {\n",
    "                        \"epoch\": epoch,\n",
    "                         \"train_acc\":train_acc,\n",
    "                        \"test_acc\":test_acc,\n",
    "                        \"test_loss\": test_loss,\n",
    "                        \"state_dict\": self.net.state_dict(),\n",
    "                    }\n",
    "                    print(\"best test acc found\")\n",
    "                    torch.save(checkpoint, self.model_path)\n",
    "                \n",
    "                self.scheduler.step()\n",
    "\n",
    "                early_stopping_classifier(test_acc)\n",
    "\n",
    "                epoch_breaks_classifer+= 1\n",
    "\n",
    "                if early_stopping_classifier.early_stop:\n",
    "                    break  # 停止訓練\n",
    "        \n",
    "        if not early_stopping_classifier.early_stop:\n",
    "            epoch_breaks_classifer = epochs\n",
    "        \n",
    "\n",
    "    def test_iterate(self, phase):\n",
    "        self.net.eval()\n",
    "        dataloader = self.dataloaders[phase]\n",
    "        y_pred = []\n",
    "        y_true = []\n",
    "        y_pred_prob = []\n",
    "        \n",
    "        features_out = []\n",
    "        features_combine = []\n",
    "        targets_combine = []\n",
    "        patient_ids = []\n",
    "        \n",
    "        with torch.no_grad():\n",
    "            for batch_idx, (inputs, targets,patients) in enumerate(dataloader):\n",
    "                inputs, targets ,patients = Variable(inputs).to('cuda'), Variable(targets.long()).to('cuda'), patients\n",
    "                out,emb = self.net(inputs)\n",
    "                outputs = torch.argmax(out.detach(), dim=1)\n",
    "                outputs_prob = nn.functional.softmax(out.detach(), dim=1)\n",
    "                y_pred.append(outputs.cpu().numpy())\n",
    "                y_pred_prob.append(outputs_prob.cpu().numpy())\n",
    "            \n",
    "                y_true.append(targets.cpu().numpy())\n",
    "                \n",
    "                targets_combine.append(targets.detach().cpu().numpy())\n",
    "                patient_ids.append(patients)\n",
    "                features_out.append(out.cpu().numpy())\n",
    "                features_combine.append(emb.detach().cpu().numpy())\n",
    "\n",
    "            targets_combine = np.concatenate(targets_combine, axis=0) \n",
    "            patient_ids = np.concatenate( patient_ids, axis=0) \n",
    "            features_out = np.concatenate(features_out, axis=0)\n",
    "            features_combine = np.concatenate(features_combine, axis=0)\n",
    "        \n",
    "        return (\n",
    "                np.hstack(y_pred),\n",
    "                np.hstack(y_true),\n",
    "                np.vstack(y_pred_prob),\n",
    "                features_out,\n",
    "                features_combine,\n",
    "                targets_combine,\n",
    "                patient_ids,\n",
    "            )\n",
    "    def test(self):\n",
    "        checkpoint = torch.load(self.model_path)\n",
    "        epoch = checkpoint[\"epoch\"]\n",
    "        train_acc = checkpoint[\"train_acc\"]\n",
    "        test_acc = checkpoint[\"test_acc\"]\n",
    "        self.net.load_state_dict(checkpoint[\"state_dict\"])\n",
    "        print(\"load model at epoch {}, with test acc : {:.3f}\".format(epoch+1, test_acc))\n",
    "\n",
    "        \n",
    "        _, _ ,_,train_out,train_combined,train_targets,train_patient_ids = self.test_iterate(\"train\")\n",
    "        y_pred, y_true ,y_pred_prob,out,combined,targets, test_patient_ids,= self.test_iterate(\"test\")\n",
    "        \n",
    "        print(\"total\", accuracy_score(y_true, y_pred))\n",
    "        for i in range(self.n_classes):\n",
    "            idx = y_true == i\n",
    "            print(\"class\", i, accuracy_score(y_true[idx], y_pred[idx]))\n",
    "\n",
    "        return (\n",
    "            confusion_matrix(y_true, y_pred),\n",
    "            y_true,\n",
    "            y_pred,\n",
    "            accuracy_score(y_true, y_pred),\n",
    "            y_pred_prob,\n",
    "            train_acc,\n",
    "            train_targets,\n",
    "            targets,\n",
    "            train_combined,\n",
    "            combined,\n",
    "            train_patient_ids,\n",
    "            test_patient_ids\n",
    "        )"
   ]
  },
  {
   "cell_type": "code",
   "execution_count": 6,
   "id": "77d2e6c5",
   "metadata": {},
   "outputs": [
    {
     "name": "stdout",
     "output_type": "stream",
     "text": [
      "1\n"
     ]
    },
    {
     "name": "stderr",
     "output_type": "stream",
     "text": [
      "  0%|          | 0/300 [00:00<?, ?it/s]"
     ]
    },
    {
     "name": "stdout",
     "output_type": "stream",
     "text": [
      "\n",
      "epoch 1: train average loss: 22.214 | acc: 79.73% (18872/23670)\n"
     ]
    },
    {
     "name": "stderr",
     "output_type": "stream",
     "text": [
      "  0%|          | 1/300 [00:01<05:55,  1.19s/it]"
     ]
    },
    {
     "name": "stdout",
     "output_type": "stream",
     "text": [
      "\n",
      "epoch 1: test average loss: 18.334 | acc: 89.43% (2352/2630)\n",
      "best test acc found\n",
      "\n",
      "epoch 2: train average loss: 15.987 | acc: 91.52% (21662/23670)\n"
     ]
    },
    {
     "name": "stderr",
     "output_type": "stream",
     "text": [
      "  1%|          | 2/300 [00:02<05:13,  1.05s/it]"
     ]
    },
    {
     "name": "stdout",
     "output_type": "stream",
     "text": [
      "\n",
      "epoch 2: test average loss: 15.065 | acc: 85.74% (2255/2630)\n",
      "EarlyStopping counter: 1/25 (best: 0.8943)\n",
      "\n",
      "epoch 3: train average loss: 12.398 | acc: 94.78% (22434/23670)\n"
     ]
    },
    {
     "name": "stderr",
     "output_type": "stream",
     "text": [
      "  1%|          | 3/300 [00:03<04:58,  1.00s/it]"
     ]
    },
    {
     "name": "stdout",
     "output_type": "stream",
     "text": [
      "\n",
      "epoch 3: test average loss: 10.738 | acc: 95.55% (2513/2630)\n",
      "best test acc found\n",
      "\n",
      "epoch 4: train average loss: 10.093 | acc: 96.11% (22749/23670)\n"
     ]
    },
    {
     "name": "stderr",
     "output_type": "stream",
     "text": [
      "  1%|▏         | 4/300 [00:04<04:55,  1.00it/s]"
     ]
    },
    {
     "name": "stdout",
     "output_type": "stream",
     "text": [
      "\n",
      "epoch 4: test average loss: 9.748 | acc: 93.92% (2470/2630)\n",
      "EarlyStopping counter: 1/25 (best: 0.9555)\n",
      "\n",
      "epoch 5: train average loss: 8.753 | acc: 97.38% (23051/23670)\n"
     ]
    },
    {
     "name": "stderr",
     "output_type": "stream",
     "text": [
      "  2%|▏         | 5/300 [00:05<04:52,  1.01it/s]"
     ]
    },
    {
     "name": "stdout",
     "output_type": "stream",
     "text": [
      "\n",
      "epoch 5: test average loss: 9.469 | acc: 95.17% (2503/2630)\n",
      "EarlyStopping counter: 2/25 (best: 0.9555)\n",
      "\n",
      "epoch 6: train average loss: 8.077 | acc: 98.02% (23201/23670)\n"
     ]
    },
    {
     "name": "stderr",
     "output_type": "stream",
     "text": [
      "  2%|▏         | 6/300 [00:06<04:50,  1.01it/s]"
     ]
    },
    {
     "name": "stdout",
     "output_type": "stream",
     "text": [
      "\n",
      "epoch 6: test average loss: 8.653 | acc: 96.88% (2548/2630)\n",
      "best test acc found\n",
      "\n",
      "epoch 7: train average loss: 7.730 | acc: 98.41% (23293/23670)\n"
     ]
    },
    {
     "name": "stderr",
     "output_type": "stream",
     "text": [
      "  2%|▏         | 7/300 [00:06<04:46,  1.02it/s]"
     ]
    },
    {
     "name": "stdout",
     "output_type": "stream",
     "text": [
      "\n",
      "epoch 7: test average loss: 8.339 | acc: 97.53% (2565/2630)\n",
      "best test acc found\n",
      "\n",
      "epoch 8: train average loss: 7.420 | acc: 98.91% (23412/23670)\n"
     ]
    },
    {
     "name": "stderr",
     "output_type": "stream",
     "text": [
      "  3%|▎         | 8/300 [00:08<04:50,  1.01it/s]"
     ]
    },
    {
     "name": "stdout",
     "output_type": "stream",
     "text": [
      "\n",
      "epoch 8: test average loss: 7.988 | acc: 97.34% (2560/2630)\n",
      "EarlyStopping counter: 1/25 (best: 0.9753)\n",
      "\n",
      "epoch 9: train average loss: 7.185 | acc: 99.06% (23448/23670)\n"
     ]
    },
    {
     "name": "stderr",
     "output_type": "stream",
     "text": [
      "  3%|▎         | 9/300 [00:09<04:48,  1.01it/s]"
     ]
    },
    {
     "name": "stdout",
     "output_type": "stream",
     "text": [
      "\n",
      "epoch 9: test average loss: 8.145 | acc: 96.69% (2543/2630)\n",
      "EarlyStopping counter: 2/25 (best: 0.9753)\n",
      "\n",
      "epoch 10: train average loss: 6.947 | acc: 99.30% (23505/23670)\n"
     ]
    },
    {
     "name": "stderr",
     "output_type": "stream",
     "text": [
      "  3%|▎         | 10/300 [00:09<04:40,  1.03it/s]"
     ]
    },
    {
     "name": "stdout",
     "output_type": "stream",
     "text": [
      "\n",
      "epoch 10: test average loss: 8.008 | acc: 96.65% (2542/2630)\n",
      "EarlyStopping counter: 3/25 (best: 0.9753)\n",
      "\n",
      "epoch 11: train average loss: 6.772 | acc: 99.47% (23544/23670)\n"
     ]
    },
    {
     "name": "stderr",
     "output_type": "stream",
     "text": [
      "  4%|▎         | 11/300 [00:10<04:35,  1.05it/s]"
     ]
    },
    {
     "name": "stdout",
     "output_type": "stream",
     "text": [
      "\n",
      "epoch 11: test average loss: 7.702 | acc: 97.30% (2559/2630)\n",
      "EarlyStopping counter: 4/25 (best: 0.9753)\n",
      "\n",
      "epoch 12: train average loss: 6.629 | acc: 99.59% (23573/23670)\n"
     ]
    },
    {
     "name": "stderr",
     "output_type": "stream",
     "text": [
      "  4%|▍         | 12/300 [00:11<04:33,  1.05it/s]"
     ]
    },
    {
     "name": "stdout",
     "output_type": "stream",
     "text": [
      "\n",
      "epoch 12: test average loss: 7.397 | acc: 98.17% (2582/2630)\n",
      "best test acc found\n",
      "\n",
      "epoch 13: train average loss: 6.473 | acc: 99.70% (23598/23670)\n"
     ]
    },
    {
     "name": "stderr",
     "output_type": "stream",
     "text": [
      "  4%|▍         | 13/300 [00:12<04:31,  1.06it/s]"
     ]
    },
    {
     "name": "stdout",
     "output_type": "stream",
     "text": [
      "\n",
      "epoch 13: test average loss: 7.619 | acc: 97.53% (2565/2630)\n",
      "EarlyStopping counter: 1/25 (best: 0.9817)\n",
      "\n",
      "epoch 14: train average loss: 6.342 | acc: 99.73% (23607/23670)\n"
     ]
    },
    {
     "name": "stderr",
     "output_type": "stream",
     "text": [
      "  5%|▍         | 14/300 [00:13<04:35,  1.04it/s]"
     ]
    },
    {
     "name": "stdout",
     "output_type": "stream",
     "text": [
      "\n",
      "epoch 14: test average loss: 7.696 | acc: 97.41% (2562/2630)\n",
      "EarlyStopping counter: 2/25 (best: 0.9817)\n",
      "\n",
      "epoch 15: train average loss: 6.287 | acc: 99.78% (23617/23670)\n"
     ]
    },
    {
     "name": "stderr",
     "output_type": "stream",
     "text": [
      "  5%|▌         | 15/300 [00:14<04:41,  1.01it/s]"
     ]
    },
    {
     "name": "stdout",
     "output_type": "stream",
     "text": [
      "\n",
      "epoch 15: test average loss: 7.534 | acc: 97.53% (2565/2630)\n",
      "EarlyStopping counter: 3/25 (best: 0.9817)\n",
      "\n",
      "epoch 16: train average loss: 6.247 | acc: 99.82% (23628/23670)\n"
     ]
    },
    {
     "name": "stderr",
     "output_type": "stream",
     "text": [
      "  5%|▌         | 16/300 [00:15<04:39,  1.02it/s]"
     ]
    },
    {
     "name": "stdout",
     "output_type": "stream",
     "text": [
      "\n",
      "epoch 16: test average loss: 7.314 | acc: 97.79% (2572/2630)\n",
      "EarlyStopping counter: 4/25 (best: 0.9817)\n",
      "\n",
      "epoch 17: train average loss: 6.150 | acc: 99.90% (23647/23670)\n"
     ]
    },
    {
     "name": "stderr",
     "output_type": "stream",
     "text": [
      "  6%|▌         | 17/300 [00:16<04:36,  1.02it/s]"
     ]
    },
    {
     "name": "stdout",
     "output_type": "stream",
     "text": [
      "\n",
      "epoch 17: test average loss: 8.076 | acc: 95.97% (2524/2630)\n",
      "EarlyStopping counter: 5/25 (best: 0.9817)\n",
      "\n",
      "epoch 18: train average loss: 6.061 | acc: 99.84% (23633/23670)\n"
     ]
    },
    {
     "name": "stderr",
     "output_type": "stream",
     "text": [
      "  6%|▌         | 18/300 [00:17<04:34,  1.03it/s]"
     ]
    },
    {
     "name": "stdout",
     "output_type": "stream",
     "text": [
      "\n",
      "epoch 18: test average loss: 7.448 | acc: 98.37% (2587/2630)\n",
      "best test acc found\n",
      "\n",
      "epoch 19: train average loss: 6.001 | acc: 99.91% (23649/23670)\n"
     ]
    },
    {
     "name": "stderr",
     "output_type": "stream",
     "text": [
      "  6%|▋         | 19/300 [00:18<04:32,  1.03it/s]"
     ]
    },
    {
     "name": "stdout",
     "output_type": "stream",
     "text": [
      "\n",
      "epoch 19: test average loss: 7.498 | acc: 98.10% (2580/2630)\n",
      "EarlyStopping counter: 1/25 (best: 0.9837)\n",
      "\n",
      "epoch 20: train average loss: 5.969 | acc: 99.94% (23656/23670)\n"
     ]
    },
    {
     "name": "stderr",
     "output_type": "stream",
     "text": [
      "  7%|▋         | 20/300 [00:19<04:31,  1.03it/s]"
     ]
    },
    {
     "name": "stdout",
     "output_type": "stream",
     "text": [
      "\n",
      "epoch 20: test average loss: 7.362 | acc: 97.98% (2577/2630)\n",
      "EarlyStopping counter: 2/25 (best: 0.9837)\n",
      "\n",
      "epoch 21: train average loss: 5.893 | acc: 99.96% (23661/23670)\n"
     ]
    },
    {
     "name": "stderr",
     "output_type": "stream",
     "text": [
      "  7%|▋         | 21/300 [00:20<04:26,  1.05it/s]"
     ]
    },
    {
     "name": "stdout",
     "output_type": "stream",
     "text": [
      "\n",
      "epoch 21: test average loss: 7.267 | acc: 97.95% (2576/2630)\n",
      "EarlyStopping counter: 3/25 (best: 0.9837)\n",
      "\n",
      "epoch 22: train average loss: 5.867 | acc: 99.96% (23660/23670)\n"
     ]
    },
    {
     "name": "stderr",
     "output_type": "stream",
     "text": [
      "  7%|▋         | 22/300 [00:21<04:22,  1.06it/s]"
     ]
    },
    {
     "name": "stdout",
     "output_type": "stream",
     "text": [
      "\n",
      "epoch 22: test average loss: 7.657 | acc: 97.19% (2556/2630)\n",
      "EarlyStopping counter: 4/25 (best: 0.9837)\n",
      "\n",
      "epoch 23: train average loss: 5.819 | acc: 99.96% (23661/23670)\n"
     ]
    },
    {
     "name": "stderr",
     "output_type": "stream",
     "text": [
      "  8%|▊         | 23/300 [00:22<04:30,  1.02it/s]"
     ]
    },
    {
     "name": "stdout",
     "output_type": "stream",
     "text": [
      "\n",
      "epoch 23: test average loss: 7.407 | acc: 98.21% (2583/2630)\n",
      "EarlyStopping counter: 5/25 (best: 0.9837)\n",
      "\n",
      "epoch 24: train average loss: 5.753 | acc: 99.98% (23665/23670)\n"
     ]
    },
    {
     "name": "stderr",
     "output_type": "stream",
     "text": [
      "  8%|▊         | 24/300 [00:23<04:36,  1.00s/it]"
     ]
    },
    {
     "name": "stdout",
     "output_type": "stream",
     "text": [
      "\n",
      "epoch 24: test average loss: 7.522 | acc: 98.48% (2590/2630)\n",
      "best test acc found\n",
      "\n",
      "epoch 25: train average loss: 5.726 | acc: 99.98% (23665/23670)\n",
      "\n",
      "epoch 25: test average loss: 7.426 | acc: 97.72% (2570/2630)\n"
     ]
    },
    {
     "name": "stderr",
     "output_type": "stream",
     "text": [
      "  8%|▊         | 25/300 [00:24<04:37,  1.01s/it]"
     ]
    },
    {
     "name": "stdout",
     "output_type": "stream",
     "text": [
      "EarlyStopping counter: 1/25 (best: 0.9848)\n",
      "\n",
      "epoch 26: train average loss: 5.685 | acc: 99.98% (23666/23670)\n"
     ]
    },
    {
     "name": "stderr",
     "output_type": "stream",
     "text": [
      "  9%|▊         | 26/300 [00:25<04:34,  1.00s/it]"
     ]
    },
    {
     "name": "stdout",
     "output_type": "stream",
     "text": [
      "\n",
      "epoch 26: test average loss: 7.314 | acc: 98.63% (2594/2630)\n",
      "best test acc found\n",
      "\n",
      "epoch 27: train average loss: 5.641 | acc: 100.00% (23670/23670)\n"
     ]
    },
    {
     "name": "stderr",
     "output_type": "stream",
     "text": [
      "  9%|▉         | 27/300 [00:26<04:27,  1.02it/s]"
     ]
    },
    {
     "name": "stdout",
     "output_type": "stream",
     "text": [
      "\n",
      "epoch 27: test average loss: 7.522 | acc: 98.06% (2579/2630)\n",
      "EarlyStopping counter: 1/25 (best: 0.9863)\n",
      "\n",
      "epoch 28: train average loss: 5.598 | acc: 100.00% (23669/23670)\n"
     ]
    },
    {
     "name": "stderr",
     "output_type": "stream",
     "text": [
      "  9%|▉         | 28/300 [00:27<04:24,  1.03it/s]"
     ]
    },
    {
     "name": "stdout",
     "output_type": "stream",
     "text": [
      "\n",
      "epoch 28: test average loss: 7.525 | acc: 98.29% (2585/2630)\n",
      "EarlyStopping counter: 2/25 (best: 0.9863)\n",
      "\n",
      "epoch 29: train average loss: 5.584 | acc: 100.00% (23670/23670)\n"
     ]
    },
    {
     "name": "stderr",
     "output_type": "stream",
     "text": [
      " 10%|▉         | 29/300 [00:28<04:22,  1.03it/s]"
     ]
    },
    {
     "name": "stdout",
     "output_type": "stream",
     "text": [
      "\n",
      "epoch 29: test average loss: 7.326 | acc: 98.56% (2592/2630)\n",
      "EarlyStopping counter: 3/25 (best: 0.9863)\n",
      "\n",
      "epoch 30: train average loss: 5.536 | acc: 100.00% (23669/23670)\n"
     ]
    },
    {
     "name": "stderr",
     "output_type": "stream",
     "text": [
      " 10%|█         | 30/300 [00:29<04:20,  1.04it/s]"
     ]
    },
    {
     "name": "stdout",
     "output_type": "stream",
     "text": [
      "\n",
      "epoch 30: test average loss: 7.654 | acc: 97.72% (2570/2630)\n",
      "EarlyStopping counter: 4/25 (best: 0.9863)\n",
      "\n",
      "epoch 31: train average loss: 5.515 | acc: 99.99% (23668/23670)\n"
     ]
    },
    {
     "name": "stderr",
     "output_type": "stream",
     "text": [
      " 10%|█         | 31/300 [00:30<04:13,  1.06it/s]"
     ]
    },
    {
     "name": "stdout",
     "output_type": "stream",
     "text": [
      "\n",
      "epoch 31: test average loss: 7.591 | acc: 98.10% (2580/2630)\n",
      "EarlyStopping counter: 5/25 (best: 0.9863)\n",
      "\n",
      "epoch 32: train average loss: 5.506 | acc: 100.00% (23670/23670)\n"
     ]
    },
    {
     "name": "stderr",
     "output_type": "stream",
     "text": [
      " 11%|█         | 32/300 [00:31<04:05,  1.09it/s]"
     ]
    },
    {
     "name": "stdout",
     "output_type": "stream",
     "text": [
      "\n",
      "epoch 32: test average loss: 7.367 | acc: 98.56% (2592/2630)\n",
      "EarlyStopping counter: 6/25 (best: 0.9863)\n",
      "\n",
      "epoch 33: train average loss: 5.448 | acc: 99.99% (23668/23670)\n"
     ]
    },
    {
     "name": "stderr",
     "output_type": "stream",
     "text": [
      " 11%|█         | 33/300 [00:32<04:02,  1.10it/s]"
     ]
    },
    {
     "name": "stdout",
     "output_type": "stream",
     "text": [
      "\n",
      "epoch 33: test average loss: 7.473 | acc: 98.44% (2589/2630)\n",
      "EarlyStopping counter: 7/25 (best: 0.9863)\n",
      "\n",
      "epoch 34: train average loss: 5.443 | acc: 100.00% (23669/23670)\n"
     ]
    },
    {
     "name": "stderr",
     "output_type": "stream",
     "text": [
      " 11%|█▏        | 34/300 [00:32<04:01,  1.10it/s]"
     ]
    },
    {
     "name": "stdout",
     "output_type": "stream",
     "text": [
      "\n",
      "epoch 34: test average loss: 7.426 | acc: 98.40% (2588/2630)\n",
      "EarlyStopping counter: 8/25 (best: 0.9863)\n",
      "\n",
      "epoch 35: train average loss: 5.408 | acc: 100.00% (23670/23670)\n"
     ]
    },
    {
     "name": "stderr",
     "output_type": "stream",
     "text": [
      " 12%|█▏        | 35/300 [00:33<04:05,  1.08it/s]"
     ]
    },
    {
     "name": "stdout",
     "output_type": "stream",
     "text": [
      "\n",
      "epoch 35: test average loss: 7.495 | acc: 98.25% (2584/2630)\n",
      "EarlyStopping counter: 9/25 (best: 0.9863)\n",
      "\n",
      "epoch 36: train average loss: 5.395 | acc: 100.00% (23670/23670)\n"
     ]
    },
    {
     "name": "stderr",
     "output_type": "stream",
     "text": [
      " 12%|█▏        | 36/300 [00:34<04:07,  1.07it/s]"
     ]
    },
    {
     "name": "stdout",
     "output_type": "stream",
     "text": [
      "\n",
      "epoch 36: test average loss: 7.353 | acc: 98.52% (2591/2630)\n",
      "EarlyStopping counter: 10/25 (best: 0.9863)\n",
      "\n",
      "epoch 37: train average loss: 5.376 | acc: 100.00% (23670/23670)\n"
     ]
    },
    {
     "name": "stderr",
     "output_type": "stream",
     "text": [
      " 12%|█▏        | 37/300 [00:35<04:07,  1.06it/s]"
     ]
    },
    {
     "name": "stdout",
     "output_type": "stream",
     "text": [
      "\n",
      "epoch 37: test average loss: 7.423 | acc: 98.59% (2593/2630)\n",
      "EarlyStopping counter: 11/25 (best: 0.9863)\n",
      "\n",
      "epoch 38: train average loss: 5.330 | acc: 100.00% (23670/23670)\n"
     ]
    },
    {
     "name": "stderr",
     "output_type": "stream",
     "text": [
      " 13%|█▎        | 38/300 [00:36<04:04,  1.07it/s]"
     ]
    },
    {
     "name": "stdout",
     "output_type": "stream",
     "text": [
      "\n",
      "epoch 38: test average loss: 7.412 | acc: 98.48% (2590/2630)\n",
      "EarlyStopping counter: 12/25 (best: 0.9863)\n",
      "\n",
      "epoch 39: train average loss: 5.308 | acc: 100.00% (23670/23670)\n"
     ]
    },
    {
     "name": "stderr",
     "output_type": "stream",
     "text": [
      " 13%|█▎        | 39/300 [00:37<04:03,  1.07it/s]"
     ]
    },
    {
     "name": "stdout",
     "output_type": "stream",
     "text": [
      "\n",
      "epoch 39: test average loss: 7.543 | acc: 98.40% (2588/2630)\n",
      "EarlyStopping counter: 13/25 (best: 0.9863)\n",
      "\n",
      "epoch 40: train average loss: 5.291 | acc: 100.00% (23670/23670)\n"
     ]
    },
    {
     "name": "stderr",
     "output_type": "stream",
     "text": [
      " 13%|█▎        | 40/300 [00:38<04:02,  1.07it/s]"
     ]
    },
    {
     "name": "stdout",
     "output_type": "stream",
     "text": [
      "\n",
      "epoch 40: test average loss: 7.535 | acc: 98.40% (2588/2630)\n",
      "EarlyStopping counter: 14/25 (best: 0.9863)\n",
      "\n",
      "epoch 41: train average loss: 5.287 | acc: 100.00% (23670/23670)\n"
     ]
    },
    {
     "name": "stderr",
     "output_type": "stream",
     "text": [
      " 14%|█▎        | 41/300 [00:39<03:57,  1.09it/s]"
     ]
    },
    {
     "name": "stdout",
     "output_type": "stream",
     "text": [
      "\n",
      "epoch 41: test average loss: 7.496 | acc: 98.59% (2593/2630)\n",
      "EarlyStopping counter: 15/25 (best: 0.9863)\n",
      "\n",
      "epoch 42: train average loss: 5.264 | acc: 100.00% (23670/23670)\n"
     ]
    },
    {
     "name": "stderr",
     "output_type": "stream",
     "text": [
      " 14%|█▍        | 42/300 [00:40<04:06,  1.05it/s]"
     ]
    },
    {
     "name": "stdout",
     "output_type": "stream",
     "text": [
      "\n",
      "epoch 42: test average loss: 7.444 | acc: 98.59% (2593/2630)\n",
      "EarlyStopping counter: 16/25 (best: 0.9863)\n",
      "\n",
      "epoch 43: train average loss: 5.252 | acc: 100.00% (23670/23670)\n"
     ]
    },
    {
     "name": "stderr",
     "output_type": "stream",
     "text": [
      " 14%|█▍        | 43/300 [00:41<04:18,  1.01s/it]"
     ]
    },
    {
     "name": "stdout",
     "output_type": "stream",
     "text": [
      "\n",
      "epoch 43: test average loss: 7.526 | acc: 98.67% (2595/2630)\n",
      "best test acc found\n",
      "\n",
      "epoch 44: train average loss: 5.235 | acc: 100.00% (23670/23670)\n"
     ]
    },
    {
     "name": "stderr",
     "output_type": "stream",
     "text": [
      " 15%|█▍        | 44/300 [00:42<04:13,  1.01it/s]"
     ]
    },
    {
     "name": "stdout",
     "output_type": "stream",
     "text": [
      "\n",
      "epoch 44: test average loss: 7.498 | acc: 98.44% (2589/2630)\n",
      "EarlyStopping counter: 1/25 (best: 0.9867)\n",
      "\n",
      "epoch 45: train average loss: 5.227 | acc: 100.00% (23670/23670)\n"
     ]
    },
    {
     "name": "stderr",
     "output_type": "stream",
     "text": [
      " 15%|█▌        | 45/300 [00:43<04:12,  1.01it/s]"
     ]
    },
    {
     "name": "stdout",
     "output_type": "stream",
     "text": [
      "\n",
      "epoch 45: test average loss: 7.480 | acc: 98.59% (2593/2630)\n",
      "EarlyStopping counter: 2/25 (best: 0.9867)\n",
      "\n",
      "epoch 46: train average loss: 5.206 | acc: 100.00% (23670/23670)\n"
     ]
    },
    {
     "name": "stderr",
     "output_type": "stream",
     "text": [
      " 15%|█▌        | 46/300 [00:44<04:15,  1.01s/it]"
     ]
    },
    {
     "name": "stdout",
     "output_type": "stream",
     "text": [
      "\n",
      "epoch 46: test average loss: 7.520 | acc: 98.56% (2592/2630)\n",
      "EarlyStopping counter: 3/25 (best: 0.9867)\n",
      "\n",
      "epoch 47: train average loss: 5.187 | acc: 100.00% (23670/23670)\n"
     ]
    },
    {
     "name": "stderr",
     "output_type": "stream",
     "text": [
      " 16%|█▌        | 47/300 [00:45<04:14,  1.01s/it]"
     ]
    },
    {
     "name": "stdout",
     "output_type": "stream",
     "text": [
      "\n",
      "epoch 47: test average loss: 7.569 | acc: 98.48% (2590/2630)\n",
      "EarlyStopping counter: 4/25 (best: 0.9867)\n",
      "\n",
      "epoch 48: train average loss: 5.191 | acc: 100.00% (23670/23670)\n"
     ]
    },
    {
     "name": "stderr",
     "output_type": "stream",
     "text": [
      " 16%|█▌        | 48/300 [00:46<04:10,  1.00it/s]"
     ]
    },
    {
     "name": "stdout",
     "output_type": "stream",
     "text": [
      "\n",
      "epoch 48: test average loss: 7.544 | acc: 98.59% (2593/2630)\n",
      "EarlyStopping counter: 5/25 (best: 0.9867)\n",
      "\n",
      "epoch 49: train average loss: 5.185 | acc: 100.00% (23670/23670)\n"
     ]
    },
    {
     "name": "stderr",
     "output_type": "stream",
     "text": [
      " 16%|█▋        | 49/300 [00:47<04:13,  1.01s/it]"
     ]
    },
    {
     "name": "stdout",
     "output_type": "stream",
     "text": [
      "\n",
      "epoch 49: test average loss: 7.538 | acc: 98.56% (2592/2630)\n",
      "EarlyStopping counter: 6/25 (best: 0.9867)\n",
      "\n",
      "epoch 50: train average loss: 5.182 | acc: 100.00% (23670/23670)\n"
     ]
    },
    {
     "name": "stderr",
     "output_type": "stream",
     "text": [
      " 17%|█▋        | 50/300 [00:48<04:16,  1.03s/it]"
     ]
    },
    {
     "name": "stdout",
     "output_type": "stream",
     "text": [
      "\n",
      "epoch 50: test average loss: 7.572 | acc: 98.63% (2594/2630)\n",
      "EarlyStopping counter: 7/25 (best: 0.9867)\n",
      "\n",
      "epoch 51: train average loss: 5.164 | acc: 100.00% (23670/23670)\n"
     ]
    },
    {
     "name": "stderr",
     "output_type": "stream",
     "text": [
      " 17%|█▋        | 51/300 [00:49<04:11,  1.01s/it]"
     ]
    },
    {
     "name": "stdout",
     "output_type": "stream",
     "text": [
      "\n",
      "epoch 51: test average loss: 7.598 | acc: 98.59% (2593/2630)\n",
      "EarlyStopping counter: 8/25 (best: 0.9867)\n",
      "\n",
      "epoch 52: train average loss: 5.158 | acc: 100.00% (23670/23670)\n"
     ]
    },
    {
     "name": "stderr",
     "output_type": "stream",
     "text": [
      " 17%|█▋        | 52/300 [00:50<04:03,  1.02it/s]"
     ]
    },
    {
     "name": "stdout",
     "output_type": "stream",
     "text": [
      "\n",
      "epoch 52: test average loss: 7.566 | acc: 98.52% (2591/2630)\n",
      "EarlyStopping counter: 9/25 (best: 0.9867)\n",
      "\n",
      "epoch 53: train average loss: 5.162 | acc: 100.00% (23670/23670)\n"
     ]
    },
    {
     "name": "stderr",
     "output_type": "stream",
     "text": [
      " 18%|█▊        | 53/300 [00:51<03:55,  1.05it/s]"
     ]
    },
    {
     "name": "stdout",
     "output_type": "stream",
     "text": [
      "\n",
      "epoch 53: test average loss: 7.578 | acc: 98.56% (2592/2630)\n",
      "EarlyStopping counter: 10/25 (best: 0.9867)\n",
      "\n",
      "epoch 54: train average loss: 5.157 | acc: 100.00% (23670/23670)\n"
     ]
    },
    {
     "name": "stderr",
     "output_type": "stream",
     "text": [
      " 18%|█▊        | 54/300 [00:52<03:52,  1.06it/s]"
     ]
    },
    {
     "name": "stdout",
     "output_type": "stream",
     "text": [
      "\n",
      "epoch 54: test average loss: 7.574 | acc: 98.56% (2592/2630)\n",
      "EarlyStopping counter: 11/25 (best: 0.9867)\n",
      "\n",
      "epoch 55: train average loss: 5.165 | acc: 100.00% (23670/23670)\n"
     ]
    },
    {
     "name": "stderr",
     "output_type": "stream",
     "text": [
      " 18%|█▊        | 55/300 [00:53<03:48,  1.07it/s]"
     ]
    },
    {
     "name": "stdout",
     "output_type": "stream",
     "text": [
      "\n",
      "epoch 55: test average loss: 7.574 | acc: 98.59% (2593/2630)\n",
      "EarlyStopping counter: 12/25 (best: 0.9867)\n",
      "\n",
      "epoch 56: train average loss: 5.151 | acc: 100.00% (23670/23670)\n"
     ]
    },
    {
     "name": "stderr",
     "output_type": "stream",
     "text": [
      " 19%|█▊        | 56/300 [00:54<03:51,  1.05it/s]"
     ]
    },
    {
     "name": "stdout",
     "output_type": "stream",
     "text": [
      "\n",
      "epoch 56: test average loss: 7.555 | acc: 98.56% (2592/2630)\n",
      "EarlyStopping counter: 13/25 (best: 0.9867)\n",
      "\n",
      "epoch 57: train average loss: 5.148 | acc: 100.00% (23670/23670)\n"
     ]
    },
    {
     "name": "stderr",
     "output_type": "stream",
     "text": [
      " 19%|█▉        | 57/300 [00:55<03:52,  1.05it/s]"
     ]
    },
    {
     "name": "stdout",
     "output_type": "stream",
     "text": [
      "\n",
      "epoch 57: test average loss: 7.579 | acc: 98.59% (2593/2630)\n",
      "EarlyStopping counter: 14/25 (best: 0.9867)\n",
      "\n",
      "epoch 58: train average loss: 5.155 | acc: 100.00% (23670/23670)\n"
     ]
    },
    {
     "name": "stderr",
     "output_type": "stream",
     "text": [
      " 19%|█▉        | 58/300 [00:56<03:51,  1.04it/s]"
     ]
    },
    {
     "name": "stdout",
     "output_type": "stream",
     "text": [
      "\n",
      "epoch 58: test average loss: 7.595 | acc: 98.52% (2591/2630)\n",
      "EarlyStopping counter: 15/25 (best: 0.9867)\n",
      "\n",
      "epoch 59: train average loss: 5.146 | acc: 100.00% (23670/23670)\n"
     ]
    },
    {
     "name": "stderr",
     "output_type": "stream",
     "text": [
      " 20%|█▉        | 59/300 [00:57<03:49,  1.05it/s]"
     ]
    },
    {
     "name": "stdout",
     "output_type": "stream",
     "text": [
      "\n",
      "epoch 59: test average loss: 7.594 | acc: 98.56% (2592/2630)\n",
      "EarlyStopping counter: 16/25 (best: 0.9867)\n",
      "\n",
      "epoch 60: train average loss: 5.147 | acc: 100.00% (23670/23670)\n"
     ]
    },
    {
     "name": "stderr",
     "output_type": "stream",
     "text": [
      " 20%|██        | 60/300 [00:58<03:49,  1.05it/s]"
     ]
    },
    {
     "name": "stdout",
     "output_type": "stream",
     "text": [
      "\n",
      "epoch 60: test average loss: 7.591 | acc: 98.52% (2591/2630)\n",
      "EarlyStopping counter: 17/25 (best: 0.9867)\n",
      "\n",
      "epoch 61: train average loss: 5.148 | acc: 100.00% (23670/23670)\n"
     ]
    },
    {
     "name": "stderr",
     "output_type": "stream",
     "text": [
      " 20%|██        | 61/300 [00:59<03:49,  1.04it/s]"
     ]
    },
    {
     "name": "stdout",
     "output_type": "stream",
     "text": [
      "\n",
      "epoch 61: test average loss: 7.581 | acc: 98.52% (2591/2630)\n",
      "EarlyStopping counter: 18/25 (best: 0.9867)\n",
      "\n",
      "epoch 62: train average loss: 5.142 | acc: 100.00% (23670/23670)\n"
     ]
    },
    {
     "name": "stderr",
     "output_type": "stream",
     "text": [
      " 21%|██        | 62/300 [00:59<03:42,  1.07it/s]"
     ]
    },
    {
     "name": "stdout",
     "output_type": "stream",
     "text": [
      "\n",
      "epoch 62: test average loss: 7.603 | acc: 98.56% (2592/2630)\n",
      "EarlyStopping counter: 19/25 (best: 0.9867)\n",
      "\n",
      "epoch 63: train average loss: 5.144 | acc: 100.00% (23670/23670)\n"
     ]
    },
    {
     "name": "stderr",
     "output_type": "stream",
     "text": [
      " 21%|██        | 63/300 [01:00<03:37,  1.09it/s]"
     ]
    },
    {
     "name": "stdout",
     "output_type": "stream",
     "text": [
      "\n",
      "epoch 63: test average loss: 7.574 | acc: 98.56% (2592/2630)\n",
      "EarlyStopping counter: 20/25 (best: 0.9867)\n",
      "\n",
      "epoch 64: train average loss: 5.150 | acc: 100.00% (23670/23670)\n"
     ]
    },
    {
     "name": "stderr",
     "output_type": "stream",
     "text": [
      " 21%|██▏       | 64/300 [01:01<03:33,  1.10it/s]"
     ]
    },
    {
     "name": "stdout",
     "output_type": "stream",
     "text": [
      "\n",
      "epoch 64: test average loss: 7.571 | acc: 98.67% (2595/2630)\n",
      "EarlyStopping counter: 21/25 (best: 0.9867)\n",
      "\n",
      "epoch 65: train average loss: 5.147 | acc: 100.00% (23670/23670)\n"
     ]
    },
    {
     "name": "stderr",
     "output_type": "stream",
     "text": [
      " 22%|██▏       | 65/300 [01:02<03:30,  1.12it/s]"
     ]
    },
    {
     "name": "stdout",
     "output_type": "stream",
     "text": [
      "\n",
      "epoch 65: test average loss: 7.584 | acc: 98.52% (2591/2630)\n",
      "EarlyStopping counter: 22/25 (best: 0.9867)\n",
      "\n",
      "epoch 66: train average loss: 5.146 | acc: 100.00% (23670/23670)\n",
      "\n",
      "epoch 66: test average loss: 7.593 | acc: 98.52% (2591/2630)\n"
     ]
    },
    {
     "name": "stderr",
     "output_type": "stream",
     "text": [
      " 22%|██▏       | 66/300 [01:03<03:33,  1.09it/s]"
     ]
    },
    {
     "name": "stdout",
     "output_type": "stream",
     "text": [
      "EarlyStopping counter: 23/25 (best: 0.9867)\n",
      "\n",
      "epoch 67: train average loss: 5.145 | acc: 100.00% (23670/23670)\n"
     ]
    },
    {
     "name": "stderr",
     "output_type": "stream",
     "text": [
      " 22%|██▏       | 67/300 [01:04<03:37,  1.07it/s]"
     ]
    },
    {
     "name": "stdout",
     "output_type": "stream",
     "text": [
      "\n",
      "epoch 67: test average loss: 7.580 | acc: 98.59% (2593/2630)\n",
      "EarlyStopping counter: 24/25 (best: 0.9867)\n",
      "\n",
      "epoch 68: train average loss: 5.147 | acc: 100.00% (23670/23670)\n"
     ]
    },
    {
     "name": "stderr",
     "output_type": "stream",
     "text": [
      " 22%|██▏       | 67/300 [01:05<03:47,  1.02it/s]"
     ]
    },
    {
     "name": "stdout",
     "output_type": "stream",
     "text": [
      "\n",
      "epoch 68: test average loss: 7.676 | acc: 98.48% (2590/2630)\n",
      "EarlyStopping counter: 25/25 (best: 0.9867)\n",
      "🔴 Early stopping triggered\n",
      "load model at epoch 43, with test acc : 0.987\n"
     ]
    },
    {
     "name": "stderr",
     "output_type": "stream",
     "text": [
      "\n",
      "/tmp/ipykernel_3076972/3696667578.py:175: FutureWarning: You are using `torch.load` with `weights_only=False` (the current default value), which uses the default pickle module implicitly. It is possible to construct malicious pickle data which will execute arbitrary code during unpickling (See https://github.com/pytorch/pytorch/blob/main/SECURITY.md#untrusted-models for more details). In a future release, the default value for `weights_only` will be flipped to `True`. This limits the functions that could be executed during unpickling. Arbitrary objects will no longer be allowed to be loaded via this mode unless they are explicitly allowlisted by the user via `torch.serialization.add_safe_globals`. We recommend you start setting `weights_only=True` for any use case where you don't have full control of the loaded file. Please open an issue on GitHub for any issues related to this experimental feature.\n",
      "  checkpoint = torch.load(self.model_path)\n"
     ]
    },
    {
     "name": "stdout",
     "output_type": "stream",
     "text": [
      "total 0.9866920152091255\n",
      "class 0 1.0\n",
      "class 1 0.9752475247524752\n",
      "class 2 0.9727891156462585\n",
      "class 3 0.9915966386554622\n",
      "class 4 0.9787878787878788\n",
      "class 5 0.9966887417218543\n",
      "class 6 1.0\n",
      "class 7 0.9777777777777777\n",
      "class 8 1.0\n",
      "class 9 0.9886621315192744\n",
      "Train t-SNE interactive HTML saved to variant_lenet_best_test_accuracy_combined_train.html\n",
      "Test t-SNE interactive HTML saved to variant_lenet_best_test_accuracy_combined_test.html\n",
      "Train t-SNE interactive HTML saved to variant_lenet_low_test_accuracy_combined_train.html\n",
      "Test t-SNE interactive HTML saved to variant_lenet_low_test_accuracy_combined_test.html\n",
      "                                                             0\n",
      "Accuracy                                                0.9867\n",
      "Recall       [1.0, 0.9752, 0.9728, 0.9916, 0.9788, 0.9967, ...\n",
      "Specificity  [1.0, 0.9975, 1.0, 0.9963, 0.9965, 0.997, 0.99...\n",
      "Precision    [1.0, 0.9704, 1.0, 0.9833, 0.9758, 0.9773, 0.9...\n",
      "F1 Score     [1.0, 0.9728, 0.9862, 0.9874, 0.9773, 0.9869, ...\n",
      "2\n"
     ]
    },
    {
     "name": "stderr",
     "output_type": "stream",
     "text": [
      "  0%|          | 0/300 [00:00<?, ?it/s]"
     ]
    },
    {
     "name": "stdout",
     "output_type": "stream",
     "text": [
      "\n",
      "epoch 1: train average loss: 22.361 | acc: 79.21% (18749/23670)\n"
     ]
    },
    {
     "name": "stderr",
     "output_type": "stream",
     "text": [
      "  0%|          | 1/300 [00:01<05:54,  1.18s/it]"
     ]
    },
    {
     "name": "stdout",
     "output_type": "stream",
     "text": [
      "\n",
      "epoch 1: test average loss: 18.462 | acc: 86.92% (2286/2630)\n",
      "best test acc found\n",
      "\n",
      "epoch 2: train average loss: 15.950 | acc: 91.98% (21771/23670)\n"
     ]
    },
    {
     "name": "stderr",
     "output_type": "stream",
     "text": [
      "  1%|          | 2/300 [00:02<06:11,  1.25s/it]"
     ]
    },
    {
     "name": "stdout",
     "output_type": "stream",
     "text": [
      "\n",
      "epoch 2: test average loss: 14.180 | acc: 91.94% (2418/2630)\n",
      "best test acc found\n",
      "\n",
      "epoch 3: train average loss: 12.397 | acc: 94.81% (22441/23670)\n",
      "\n",
      "epoch 3: test average loss: 11.154 | acc: 95.06% (2500/2630)\n",
      "best test acc found\n"
     ]
    },
    {
     "name": "stderr",
     "output_type": "stream",
     "text": [
      "  1%|          | 3/300 [00:03<05:47,  1.17s/it]"
     ]
    },
    {
     "name": "stdout",
     "output_type": "stream",
     "text": [
      "\n",
      "epoch 4: train average loss: 10.090 | acc: 96.34% (22804/23670)\n",
      "\n",
      "epoch 4: test average loss: 9.640 | acc: 96.39% (2535/2630)\n",
      "best test acc found\n"
     ]
    },
    {
     "name": "stderr",
     "output_type": "stream",
     "text": [
      "  1%|▏         | 4/300 [00:04<05:35,  1.13s/it]"
     ]
    },
    {
     "name": "stdout",
     "output_type": "stream",
     "text": [
      "\n",
      "epoch 5: train average loss: 8.736 | acc: 97.45% (23067/23670)\n"
     ]
    },
    {
     "name": "stderr",
     "output_type": "stream",
     "text": [
      "  2%|▏         | 5/300 [00:05<05:20,  1.09s/it]"
     ]
    },
    {
     "name": "stdout",
     "output_type": "stream",
     "text": [
      "\n",
      "epoch 5: test average loss: 9.561 | acc: 95.13% (2502/2630)\n",
      "EarlyStopping counter: 1/25 (best: 0.9639)\n",
      "\n",
      "epoch 6: train average loss: 8.186 | acc: 97.80% (23150/23670)\n"
     ]
    },
    {
     "name": "stderr",
     "output_type": "stream",
     "text": [
      "  2%|▏         | 6/300 [00:06<05:10,  1.06s/it]"
     ]
    },
    {
     "name": "stdout",
     "output_type": "stream",
     "text": [
      "\n",
      "epoch 6: test average loss: 9.355 | acc: 92.32% (2428/2630)\n",
      "EarlyStopping counter: 2/25 (best: 0.9639)\n",
      "\n",
      "epoch 7: train average loss: 7.827 | acc: 98.31% (23269/23670)\n"
     ]
    },
    {
     "name": "stderr",
     "output_type": "stream",
     "text": [
      "  2%|▏         | 7/300 [00:07<05:10,  1.06s/it]"
     ]
    },
    {
     "name": "stdout",
     "output_type": "stream",
     "text": [
      "\n",
      "epoch 7: test average loss: 8.738 | acc: 95.48% (2511/2630)\n",
      "EarlyStopping counter: 3/25 (best: 0.9639)\n",
      "\n",
      "epoch 8: train average loss: 7.502 | acc: 98.64% (23347/23670)\n"
     ]
    },
    {
     "name": "stderr",
     "output_type": "stream",
     "text": [
      "  3%|▎         | 8/300 [00:08<05:00,  1.03s/it]"
     ]
    },
    {
     "name": "stdout",
     "output_type": "stream",
     "text": [
      "\n",
      "epoch 8: test average loss: 8.465 | acc: 96.58% (2540/2630)\n",
      "best test acc found\n",
      "\n",
      "epoch 9: train average loss: 7.244 | acc: 98.94% (23420/23670)\n"
     ]
    },
    {
     "name": "stderr",
     "output_type": "stream",
     "text": [
      "  3%|▎         | 9/300 [00:09<04:54,  1.01s/it]"
     ]
    },
    {
     "name": "stdout",
     "output_type": "stream",
     "text": [
      "\n",
      "epoch 9: test average loss: 8.246 | acc: 97.41% (2562/2630)\n",
      "best test acc found\n",
      "\n",
      "epoch 10: train average loss: 6.978 | acc: 99.31% (23507/23670)\n"
     ]
    },
    {
     "name": "stderr",
     "output_type": "stream",
     "text": [
      "  3%|▎         | 10/300 [00:10<04:52,  1.01s/it]"
     ]
    },
    {
     "name": "stdout",
     "output_type": "stream",
     "text": [
      "\n",
      "epoch 10: test average loss: 7.999 | acc: 97.41% (2562/2630)\n",
      "EarlyStopping counter: 1/25 (best: 0.9741)\n",
      "\n",
      "epoch 11: train average loss: 6.842 | acc: 99.40% (23529/23670)\n"
     ]
    },
    {
     "name": "stderr",
     "output_type": "stream",
     "text": [
      "  4%|▎         | 11/300 [00:11<04:47,  1.00it/s]"
     ]
    },
    {
     "name": "stdout",
     "output_type": "stream",
     "text": [
      "\n",
      "epoch 11: test average loss: 7.883 | acc: 97.68% (2569/2630)\n",
      "best test acc found\n",
      "\n",
      "epoch 12: train average loss: 6.657 | acc: 99.51% (23554/23670)\n"
     ]
    },
    {
     "name": "stderr",
     "output_type": "stream",
     "text": [
      "  4%|▍         | 12/300 [00:12<04:54,  1.02s/it]"
     ]
    },
    {
     "name": "stdout",
     "output_type": "stream",
     "text": [
      "\n",
      "epoch 12: test average loss: 7.783 | acc: 97.60% (2567/2630)\n",
      "EarlyStopping counter: 1/25 (best: 0.9768)\n",
      "\n",
      "epoch 13: train average loss: 6.539 | acc: 99.62% (23581/23670)\n"
     ]
    },
    {
     "name": "stderr",
     "output_type": "stream",
     "text": [
      "  4%|▍         | 13/300 [00:13<05:00,  1.05s/it]"
     ]
    },
    {
     "name": "stdout",
     "output_type": "stream",
     "text": [
      "\n",
      "epoch 13: test average loss: 8.104 | acc: 97.64% (2568/2630)\n",
      "EarlyStopping counter: 2/25 (best: 0.9768)\n",
      "\n",
      "epoch 14: train average loss: 6.465 | acc: 99.64% (23585/23670)\n",
      "\n",
      "epoch 14: test average loss: 7.689 | acc: 98.21% (2583/2630)\n"
     ]
    },
    {
     "name": "stderr",
     "output_type": "stream",
     "text": [
      "  5%|▍         | 14/300 [00:14<04:59,  1.05s/it]"
     ]
    },
    {
     "name": "stdout",
     "output_type": "stream",
     "text": [
      "best test acc found\n",
      "\n",
      "epoch 15: train average loss: 6.359 | acc: 99.78% (23619/23670)\n"
     ]
    },
    {
     "name": "stderr",
     "output_type": "stream",
     "text": [
      "  5%|▌         | 15/300 [00:15<04:57,  1.04s/it]"
     ]
    },
    {
     "name": "stdout",
     "output_type": "stream",
     "text": [
      "\n",
      "epoch 15: test average loss: 8.207 | acc: 97.11% (2554/2630)\n",
      "EarlyStopping counter: 1/25 (best: 0.9821)\n",
      "\n",
      "epoch 16: train average loss: 6.254 | acc: 99.81% (23626/23670)\n"
     ]
    },
    {
     "name": "stderr",
     "output_type": "stream",
     "text": [
      "  5%|▌         | 16/300 [00:16<04:54,  1.04s/it]"
     ]
    },
    {
     "name": "stdout",
     "output_type": "stream",
     "text": [
      "\n",
      "epoch 16: test average loss: 7.815 | acc: 97.26% (2558/2630)\n",
      "EarlyStopping counter: 2/25 (best: 0.9821)\n",
      "\n",
      "epoch 17: train average loss: 6.181 | acc: 99.84% (23631/23670)\n"
     ]
    },
    {
     "name": "stderr",
     "output_type": "stream",
     "text": [
      "  6%|▌         | 17/300 [00:17<04:53,  1.04s/it]"
     ]
    },
    {
     "name": "stdout",
     "output_type": "stream",
     "text": [
      "\n",
      "epoch 17: test average loss: 7.962 | acc: 97.87% (2574/2630)\n",
      "EarlyStopping counter: 3/25 (best: 0.9821)\n",
      "\n",
      "epoch 18: train average loss: 6.127 | acc: 99.85% (23635/23670)\n"
     ]
    },
    {
     "name": "stderr",
     "output_type": "stream",
     "text": [
      "  6%|▌         | 18/300 [00:18<04:46,  1.01s/it]"
     ]
    },
    {
     "name": "stdout",
     "output_type": "stream",
     "text": [
      "\n",
      "epoch 18: test average loss: 7.741 | acc: 97.95% (2576/2630)\n",
      "EarlyStopping counter: 4/25 (best: 0.9821)\n",
      "\n",
      "epoch 19: train average loss: 6.064 | acc: 99.94% (23656/23670)\n"
     ]
    },
    {
     "name": "stderr",
     "output_type": "stream",
     "text": [
      "  6%|▋         | 19/300 [00:19<04:41,  1.00s/it]"
     ]
    },
    {
     "name": "stdout",
     "output_type": "stream",
     "text": [
      "\n",
      "epoch 19: test average loss: 7.767 | acc: 98.14% (2581/2630)\n",
      "EarlyStopping counter: 5/25 (best: 0.9821)\n",
      "\n",
      "epoch 20: train average loss: 6.019 | acc: 99.94% (23655/23670)\n"
     ]
    },
    {
     "name": "stderr",
     "output_type": "stream",
     "text": [
      "  7%|▋         | 20/300 [00:20<04:32,  1.03it/s]"
     ]
    },
    {
     "name": "stdout",
     "output_type": "stream",
     "text": [
      "\n",
      "epoch 20: test average loss: 7.632 | acc: 98.02% (2578/2630)\n",
      "EarlyStopping counter: 6/25 (best: 0.9821)\n",
      "\n",
      "epoch 21: train average loss: 5.969 | acc: 99.93% (23653/23670)\n"
     ]
    },
    {
     "name": "stderr",
     "output_type": "stream",
     "text": [
      "  7%|▋         | 21/300 [00:21<04:31,  1.03it/s]"
     ]
    },
    {
     "name": "stdout",
     "output_type": "stream",
     "text": [
      "\n",
      "epoch 21: test average loss: 7.767 | acc: 97.72% (2570/2630)\n",
      "EarlyStopping counter: 7/25 (best: 0.9821)\n",
      "\n",
      "epoch 22: train average loss: 5.908 | acc: 99.94% (23656/23670)\n"
     ]
    },
    {
     "name": "stderr",
     "output_type": "stream",
     "text": [
      "  7%|▋         | 22/300 [00:22<04:37,  1.00it/s]"
     ]
    },
    {
     "name": "stdout",
     "output_type": "stream",
     "text": [
      "\n",
      "epoch 22: test average loss: 7.944 | acc: 97.64% (2568/2630)\n",
      "EarlyStopping counter: 8/25 (best: 0.9821)\n",
      "\n",
      "epoch 23: train average loss: 5.891 | acc: 99.94% (23655/23670)\n"
     ]
    },
    {
     "name": "stderr",
     "output_type": "stream",
     "text": [
      "  8%|▊         | 23/300 [00:23<04:39,  1.01s/it]"
     ]
    },
    {
     "name": "stdout",
     "output_type": "stream",
     "text": [
      "\n",
      "epoch 23: test average loss: 7.619 | acc: 98.10% (2580/2630)\n",
      "EarlyStopping counter: 9/25 (best: 0.9821)\n",
      "\n",
      "epoch 24: train average loss: 5.796 | acc: 99.99% (23667/23670)\n"
     ]
    },
    {
     "name": "stderr",
     "output_type": "stream",
     "text": [
      "  8%|▊         | 24/300 [00:24<04:39,  1.01s/it]"
     ]
    },
    {
     "name": "stdout",
     "output_type": "stream",
     "text": [
      "\n",
      "epoch 24: test average loss: 7.805 | acc: 97.95% (2576/2630)\n",
      "EarlyStopping counter: 10/25 (best: 0.9821)\n",
      "\n",
      "epoch 25: train average loss: 5.768 | acc: 99.95% (23659/23670)\n"
     ]
    },
    {
     "name": "stderr",
     "output_type": "stream",
     "text": [
      "  8%|▊         | 25/300 [00:25<04:37,  1.01s/it]"
     ]
    },
    {
     "name": "stdout",
     "output_type": "stream",
     "text": [
      "\n",
      "epoch 25: test average loss: 7.483 | acc: 98.21% (2583/2630)\n",
      "EarlyStopping counter: 11/25 (best: 0.9821)\n",
      "\n",
      "epoch 26: train average loss: 5.724 | acc: 99.98% (23665/23670)\n"
     ]
    },
    {
     "name": "stderr",
     "output_type": "stream",
     "text": [
      "  9%|▊         | 26/300 [00:26<04:37,  1.01s/it]"
     ]
    },
    {
     "name": "stdout",
     "output_type": "stream",
     "text": [
      "\n",
      "epoch 26: test average loss: 7.651 | acc: 98.02% (2578/2630)\n",
      "EarlyStopping counter: 12/25 (best: 0.9821)\n",
      "\n",
      "epoch 27: train average loss: 5.710 | acc: 99.97% (23663/23670)\n"
     ]
    },
    {
     "name": "stderr",
     "output_type": "stream",
     "text": [
      "  9%|▉         | 27/300 [00:27<04:35,  1.01s/it]"
     ]
    },
    {
     "name": "stdout",
     "output_type": "stream",
     "text": [
      "\n",
      "epoch 27: test average loss: 7.957 | acc: 97.87% (2574/2630)\n",
      "EarlyStopping counter: 13/25 (best: 0.9821)\n",
      "\n",
      "epoch 28: train average loss: 5.691 | acc: 99.99% (23667/23670)\n"
     ]
    },
    {
     "name": "stderr",
     "output_type": "stream",
     "text": [
      "  9%|▉         | 28/300 [00:28<04:26,  1.02it/s]"
     ]
    },
    {
     "name": "stdout",
     "output_type": "stream",
     "text": [
      "\n",
      "epoch 28: test average loss: 7.846 | acc: 97.72% (2570/2630)\n",
      "EarlyStopping counter: 14/25 (best: 0.9821)\n",
      "\n",
      "epoch 29: train average loss: 5.655 | acc: 99.97% (23664/23670)\n"
     ]
    },
    {
     "name": "stderr",
     "output_type": "stream",
     "text": [
      " 10%|▉         | 29/300 [00:29<04:21,  1.04it/s]"
     ]
    },
    {
     "name": "stdout",
     "output_type": "stream",
     "text": [
      "\n",
      "epoch 29: test average loss: 7.844 | acc: 98.14% (2581/2630)\n",
      "EarlyStopping counter: 15/25 (best: 0.9821)\n",
      "\n",
      "epoch 30: train average loss: 5.600 | acc: 99.99% (23667/23670)\n"
     ]
    },
    {
     "name": "stderr",
     "output_type": "stream",
     "text": [
      " 10%|█         | 30/300 [00:30<04:16,  1.05it/s]"
     ]
    },
    {
     "name": "stdout",
     "output_type": "stream",
     "text": [
      "\n",
      "epoch 30: test average loss: 7.594 | acc: 98.29% (2585/2630)\n",
      "best test acc found\n",
      "\n",
      "epoch 31: train average loss: 5.539 | acc: 100.00% (23669/23670)\n"
     ]
    },
    {
     "name": "stderr",
     "output_type": "stream",
     "text": [
      " 10%|█         | 31/300 [00:31<04:28,  1.00it/s]"
     ]
    },
    {
     "name": "stdout",
     "output_type": "stream",
     "text": [
      "\n",
      "epoch 31: test average loss: 7.767 | acc: 97.79% (2572/2630)\n",
      "EarlyStopping counter: 1/25 (best: 0.9829)\n",
      "\n",
      "epoch 32: train average loss: 5.557 | acc: 99.98% (23666/23670)\n"
     ]
    },
    {
     "name": "stderr",
     "output_type": "stream",
     "text": [
      " 11%|█         | 32/300 [00:32<04:42,  1.05s/it]"
     ]
    },
    {
     "name": "stdout",
     "output_type": "stream",
     "text": [
      "\n",
      "epoch 32: test average loss: 7.701 | acc: 98.25% (2584/2630)\n",
      "EarlyStopping counter: 2/25 (best: 0.9829)\n",
      "\n",
      "epoch 33: train average loss: 5.501 | acc: 100.00% (23669/23670)\n"
     ]
    },
    {
     "name": "stderr",
     "output_type": "stream",
     "text": [
      " 11%|█         | 33/300 [00:34<04:45,  1.07s/it]"
     ]
    },
    {
     "name": "stdout",
     "output_type": "stream",
     "text": [
      "\n",
      "epoch 33: test average loss: 7.844 | acc: 98.17% (2582/2630)\n",
      "EarlyStopping counter: 3/25 (best: 0.9829)\n",
      "\n",
      "epoch 34: train average loss: 5.480 | acc: 100.00% (23670/23670)\n"
     ]
    },
    {
     "name": "stderr",
     "output_type": "stream",
     "text": [
      " 11%|█▏        | 34/300 [00:35<04:44,  1.07s/it]"
     ]
    },
    {
     "name": "stdout",
     "output_type": "stream",
     "text": [
      "\n",
      "epoch 34: test average loss: 7.868 | acc: 98.06% (2579/2630)\n",
      "EarlyStopping counter: 4/25 (best: 0.9829)\n",
      "\n",
      "epoch 35: train average loss: 5.435 | acc: 100.00% (23670/23670)\n"
     ]
    },
    {
     "name": "stderr",
     "output_type": "stream",
     "text": [
      " 12%|█▏        | 35/300 [00:36<04:36,  1.04s/it]"
     ]
    },
    {
     "name": "stdout",
     "output_type": "stream",
     "text": [
      "\n",
      "epoch 35: test average loss: 7.802 | acc: 98.21% (2583/2630)\n",
      "EarlyStopping counter: 5/25 (best: 0.9829)\n",
      "\n",
      "epoch 36: train average loss: 5.404 | acc: 100.00% (23670/23670)\n"
     ]
    },
    {
     "name": "stderr",
     "output_type": "stream",
     "text": [
      " 12%|█▏        | 36/300 [00:37<04:44,  1.08s/it]"
     ]
    },
    {
     "name": "stdout",
     "output_type": "stream",
     "text": [
      "\n",
      "epoch 36: test average loss: 7.700 | acc: 98.21% (2583/2630)\n",
      "EarlyStopping counter: 6/25 (best: 0.9829)\n",
      "\n",
      "epoch 37: train average loss: 5.380 | acc: 100.00% (23670/23670)\n"
     ]
    },
    {
     "name": "stderr",
     "output_type": "stream",
     "text": [
      " 12%|█▏        | 37/300 [00:38<04:43,  1.08s/it]"
     ]
    },
    {
     "name": "stdout",
     "output_type": "stream",
     "text": [
      "\n",
      "epoch 37: test average loss: 7.731 | acc: 98.40% (2588/2630)\n",
      "best test acc found\n",
      "\n",
      "epoch 38: train average loss: 5.355 | acc: 100.00% (23669/23670)\n"
     ]
    },
    {
     "name": "stderr",
     "output_type": "stream",
     "text": [
      " 13%|█▎        | 38/300 [00:39<04:38,  1.06s/it]"
     ]
    },
    {
     "name": "stdout",
     "output_type": "stream",
     "text": [
      "\n",
      "epoch 38: test average loss: 7.611 | acc: 98.37% (2587/2630)\n",
      "EarlyStopping counter: 1/25 (best: 0.9840)\n",
      "\n",
      "epoch 39: train average loss: 5.337 | acc: 100.00% (23670/23670)\n",
      "\n",
      "epoch 39: test average loss: 7.674 | acc: 98.40% (2588/2630)\n"
     ]
    },
    {
     "name": "stderr",
     "output_type": "stream",
     "text": [
      " 13%|█▎        | 39/300 [00:40<04:28,  1.03s/it]"
     ]
    },
    {
     "name": "stdout",
     "output_type": "stream",
     "text": [
      "EarlyStopping counter: 2/25 (best: 0.9840)\n",
      "\n",
      "epoch 40: train average loss: 5.316 | acc: 100.00% (23670/23670)\n"
     ]
    },
    {
     "name": "stderr",
     "output_type": "stream",
     "text": [
      " 13%|█▎        | 40/300 [00:41<04:21,  1.01s/it]"
     ]
    },
    {
     "name": "stdout",
     "output_type": "stream",
     "text": [
      "\n",
      "epoch 40: test average loss: 7.654 | acc: 98.29% (2585/2630)\n",
      "EarlyStopping counter: 3/25 (best: 0.9840)\n",
      "\n",
      "epoch 41: train average loss: 5.314 | acc: 100.00% (23669/23670)\n"
     ]
    },
    {
     "name": "stderr",
     "output_type": "stream",
     "text": [
      " 14%|█▎        | 41/300 [00:42<04:22,  1.02s/it]"
     ]
    },
    {
     "name": "stdout",
     "output_type": "stream",
     "text": [
      "\n",
      "epoch 41: test average loss: 7.882 | acc: 98.17% (2582/2630)\n",
      "EarlyStopping counter: 4/25 (best: 0.9840)\n",
      "\n",
      "epoch 42: train average loss: 5.294 | acc: 100.00% (23670/23670)\n"
     ]
    },
    {
     "name": "stderr",
     "output_type": "stream",
     "text": [
      " 14%|█▍        | 42/300 [00:43<04:29,  1.04s/it]"
     ]
    },
    {
     "name": "stdout",
     "output_type": "stream",
     "text": [
      "\n",
      "epoch 42: test average loss: 7.766 | acc: 98.33% (2586/2630)\n",
      "EarlyStopping counter: 5/25 (best: 0.9840)\n",
      "\n",
      "epoch 43: train average loss: 5.279 | acc: 100.00% (23670/23670)\n"
     ]
    },
    {
     "name": "stderr",
     "output_type": "stream",
     "text": [
      " 14%|█▍        | 43/300 [00:44<04:32,  1.06s/it]"
     ]
    },
    {
     "name": "stdout",
     "output_type": "stream",
     "text": [
      "\n",
      "epoch 43: test average loss: 7.589 | acc: 98.40% (2588/2630)\n",
      "EarlyStopping counter: 6/25 (best: 0.9840)\n",
      "\n",
      "epoch 44: train average loss: 5.268 | acc: 100.00% (23670/23670)\n"
     ]
    },
    {
     "name": "stderr",
     "output_type": "stream",
     "text": [
      " 15%|█▍        | 44/300 [00:45<04:32,  1.07s/it]"
     ]
    },
    {
     "name": "stdout",
     "output_type": "stream",
     "text": [
      "\n",
      "epoch 44: test average loss: 7.746 | acc: 98.29% (2585/2630)\n",
      "EarlyStopping counter: 7/25 (best: 0.9840)\n",
      "\n",
      "epoch 45: train average loss: 5.244 | acc: 100.00% (23670/23670)\n"
     ]
    },
    {
     "name": "stderr",
     "output_type": "stream",
     "text": [
      " 15%|█▌        | 45/300 [00:46<04:34,  1.08s/it]"
     ]
    },
    {
     "name": "stdout",
     "output_type": "stream",
     "text": [
      "\n",
      "epoch 45: test average loss: 7.780 | acc: 98.14% (2581/2630)\n",
      "EarlyStopping counter: 8/25 (best: 0.9840)\n",
      "\n",
      "epoch 46: train average loss: 5.246 | acc: 100.00% (23670/23670)\n"
     ]
    },
    {
     "name": "stderr",
     "output_type": "stream",
     "text": [
      " 15%|█▌        | 46/300 [00:47<04:31,  1.07s/it]"
     ]
    },
    {
     "name": "stdout",
     "output_type": "stream",
     "text": [
      "\n",
      "epoch 46: test average loss: 7.800 | acc: 98.37% (2587/2630)\n",
      "EarlyStopping counter: 9/25 (best: 0.9840)\n",
      "\n",
      "epoch 47: train average loss: 5.228 | acc: 100.00% (23670/23670)\n"
     ]
    },
    {
     "name": "stderr",
     "output_type": "stream",
     "text": [
      " 16%|█▌        | 47/300 [00:48<04:30,  1.07s/it]"
     ]
    },
    {
     "name": "stdout",
     "output_type": "stream",
     "text": [
      "\n",
      "epoch 47: test average loss: 7.687 | acc: 98.56% (2592/2630)\n",
      "best test acc found\n",
      "\n",
      "epoch 48: train average loss: 5.216 | acc: 100.00% (23670/23670)\n"
     ]
    },
    {
     "name": "stderr",
     "output_type": "stream",
     "text": [
      " 16%|█▌        | 48/300 [00:49<04:17,  1.02s/it]"
     ]
    },
    {
     "name": "stdout",
     "output_type": "stream",
     "text": [
      "\n",
      "epoch 48: test average loss: 7.673 | acc: 98.33% (2586/2630)\n",
      "EarlyStopping counter: 1/25 (best: 0.9856)\n",
      "\n",
      "epoch 49: train average loss: 5.212 | acc: 100.00% (23670/23670)\n"
     ]
    },
    {
     "name": "stderr",
     "output_type": "stream",
     "text": [
      " 16%|█▋        | 49/300 [00:50<04:11,  1.00s/it]"
     ]
    },
    {
     "name": "stdout",
     "output_type": "stream",
     "text": [
      "\n",
      "epoch 49: test average loss: 7.728 | acc: 98.25% (2584/2630)\n",
      "EarlyStopping counter: 2/25 (best: 0.9856)\n",
      "\n",
      "epoch 50: train average loss: 5.203 | acc: 100.00% (23670/23670)\n"
     ]
    },
    {
     "name": "stderr",
     "output_type": "stream",
     "text": [
      " 17%|█▋        | 50/300 [00:51<04:17,  1.03s/it]"
     ]
    },
    {
     "name": "stdout",
     "output_type": "stream",
     "text": [
      "\n",
      "epoch 50: test average loss: 7.796 | acc: 98.44% (2589/2630)\n",
      "EarlyStopping counter: 3/25 (best: 0.9856)\n",
      "\n",
      "epoch 51: train average loss: 5.199 | acc: 100.00% (23670/23670)\n"
     ]
    },
    {
     "name": "stderr",
     "output_type": "stream",
     "text": [
      " 17%|█▋        | 51/300 [00:52<04:18,  1.04s/it]"
     ]
    },
    {
     "name": "stdout",
     "output_type": "stream",
     "text": [
      "\n",
      "epoch 51: test average loss: 7.777 | acc: 98.29% (2585/2630)\n",
      "EarlyStopping counter: 4/25 (best: 0.9856)\n",
      "\n",
      "epoch 52: train average loss: 5.189 | acc: 100.00% (23670/23670)\n"
     ]
    },
    {
     "name": "stderr",
     "output_type": "stream",
     "text": [
      " 17%|█▋        | 52/300 [00:53<04:17,  1.04s/it]"
     ]
    },
    {
     "name": "stdout",
     "output_type": "stream",
     "text": [
      "\n",
      "epoch 52: test average loss: 7.810 | acc: 98.37% (2587/2630)\n",
      "EarlyStopping counter: 5/25 (best: 0.9856)\n",
      "\n",
      "epoch 53: train average loss: 5.171 | acc: 100.00% (23670/23670)\n"
     ]
    },
    {
     "name": "stderr",
     "output_type": "stream",
     "text": [
      " 18%|█▊        | 53/300 [00:54<04:16,  1.04s/it]"
     ]
    },
    {
     "name": "stdout",
     "output_type": "stream",
     "text": [
      "\n",
      "epoch 53: test average loss: 7.810 | acc: 98.33% (2586/2630)\n",
      "EarlyStopping counter: 6/25 (best: 0.9856)\n",
      "\n",
      "epoch 54: train average loss: 5.172 | acc: 100.00% (23670/23670)\n"
     ]
    },
    {
     "name": "stderr",
     "output_type": "stream",
     "text": [
      " 18%|█▊        | 54/300 [00:55<04:13,  1.03s/it]"
     ]
    },
    {
     "name": "stdout",
     "output_type": "stream",
     "text": [
      "\n",
      "epoch 54: test average loss: 7.780 | acc: 98.29% (2585/2630)\n",
      "EarlyStopping counter: 7/25 (best: 0.9856)\n",
      "\n",
      "epoch 55: train average loss: 5.175 | acc: 100.00% (23670/23670)\n"
     ]
    },
    {
     "name": "stderr",
     "output_type": "stream",
     "text": [
      " 18%|█▊        | 55/300 [00:57<04:18,  1.06s/it]"
     ]
    },
    {
     "name": "stdout",
     "output_type": "stream",
     "text": [
      "\n",
      "epoch 55: test average loss: 7.808 | acc: 98.40% (2588/2630)\n",
      "EarlyStopping counter: 8/25 (best: 0.9856)\n",
      "\n",
      "epoch 56: train average loss: 5.171 | acc: 100.00% (23670/23670)\n"
     ]
    },
    {
     "name": "stderr",
     "output_type": "stream",
     "text": [
      " 19%|█▊        | 56/300 [00:58<04:17,  1.05s/it]"
     ]
    },
    {
     "name": "stdout",
     "output_type": "stream",
     "text": [
      "\n",
      "epoch 56: test average loss: 7.812 | acc: 98.40% (2588/2630)\n",
      "EarlyStopping counter: 9/25 (best: 0.9856)\n",
      "\n",
      "epoch 57: train average loss: 5.171 | acc: 100.00% (23670/23670)\n"
     ]
    },
    {
     "name": "stderr",
     "output_type": "stream",
     "text": [
      " 19%|█▉        | 57/300 [00:59<04:12,  1.04s/it]"
     ]
    },
    {
     "name": "stdout",
     "output_type": "stream",
     "text": [
      "\n",
      "epoch 57: test average loss: 7.796 | acc: 98.29% (2585/2630)\n",
      "EarlyStopping counter: 10/25 (best: 0.9856)\n",
      "\n",
      "epoch 58: train average loss: 5.175 | acc: 100.00% (23670/23670)\n"
     ]
    },
    {
     "name": "stderr",
     "output_type": "stream",
     "text": [
      " 19%|█▉        | 58/300 [01:00<04:03,  1.00s/it]"
     ]
    },
    {
     "name": "stdout",
     "output_type": "stream",
     "text": [
      "\n",
      "epoch 58: test average loss: 7.781 | acc: 98.37% (2587/2630)\n",
      "EarlyStopping counter: 11/25 (best: 0.9856)\n",
      "\n",
      "epoch 59: train average loss: 5.161 | acc: 100.00% (23670/23670)\n"
     ]
    },
    {
     "name": "stderr",
     "output_type": "stream",
     "text": [
      " 20%|█▉        | 59/300 [01:00<03:57,  1.01it/s]"
     ]
    },
    {
     "name": "stdout",
     "output_type": "stream",
     "text": [
      "\n",
      "epoch 59: test average loss: 7.794 | acc: 98.40% (2588/2630)\n",
      "EarlyStopping counter: 12/25 (best: 0.9856)\n",
      "\n",
      "epoch 60: train average loss: 5.174 | acc: 100.00% (23670/23670)\n"
     ]
    },
    {
     "name": "stderr",
     "output_type": "stream",
     "text": [
      " 20%|██        | 60/300 [01:01<03:57,  1.01it/s]"
     ]
    },
    {
     "name": "stdout",
     "output_type": "stream",
     "text": [
      "\n",
      "epoch 60: test average loss: 7.791 | acc: 98.48% (2590/2630)\n",
      "EarlyStopping counter: 13/25 (best: 0.9856)\n",
      "\n",
      "epoch 61: train average loss: 5.168 | acc: 100.00% (23670/23670)\n"
     ]
    },
    {
     "name": "stderr",
     "output_type": "stream",
     "text": [
      " 20%|██        | 61/300 [01:02<03:52,  1.03it/s]"
     ]
    },
    {
     "name": "stdout",
     "output_type": "stream",
     "text": [
      "\n",
      "epoch 61: test average loss: 7.787 | acc: 98.25% (2584/2630)\n",
      "EarlyStopping counter: 14/25 (best: 0.9856)\n",
      "\n",
      "epoch 62: train average loss: 5.160 | acc: 100.00% (23670/23670)\n"
     ]
    },
    {
     "name": "stderr",
     "output_type": "stream",
     "text": [
      " 21%|██        | 62/300 [01:03<03:52,  1.02it/s]"
     ]
    },
    {
     "name": "stdout",
     "output_type": "stream",
     "text": [
      "\n",
      "epoch 62: test average loss: 7.792 | acc: 98.44% (2589/2630)\n",
      "EarlyStopping counter: 15/25 (best: 0.9856)\n",
      "\n",
      "epoch 63: train average loss: 5.169 | acc: 100.00% (23670/23670)\n"
     ]
    },
    {
     "name": "stderr",
     "output_type": "stream",
     "text": [
      " 21%|██        | 63/300 [01:05<04:02,  1.02s/it]"
     ]
    },
    {
     "name": "stdout",
     "output_type": "stream",
     "text": [
      "\n",
      "epoch 63: test average loss: 7.790 | acc: 98.44% (2589/2630)\n",
      "EarlyStopping counter: 16/25 (best: 0.9856)\n",
      "\n",
      "epoch 64: train average loss: 5.165 | acc: 100.00% (23670/23670)\n",
      "\n",
      "epoch 64: test average loss: 7.780 | acc: 98.33% (2586/2630)\n"
     ]
    },
    {
     "name": "stderr",
     "output_type": "stream",
     "text": [
      " 21%|██▏       | 64/300 [01:06<04:03,  1.03s/it]"
     ]
    },
    {
     "name": "stdout",
     "output_type": "stream",
     "text": [
      "EarlyStopping counter: 17/25 (best: 0.9856)\n",
      "\n",
      "epoch 65: train average loss: 5.161 | acc: 100.00% (23670/23670)\n"
     ]
    },
    {
     "name": "stderr",
     "output_type": "stream",
     "text": [
      " 22%|██▏       | 65/300 [01:07<03:59,  1.02s/it]"
     ]
    },
    {
     "name": "stdout",
     "output_type": "stream",
     "text": [
      "\n",
      "epoch 65: test average loss: 7.812 | acc: 98.37% (2587/2630)\n",
      "EarlyStopping counter: 18/25 (best: 0.9856)\n",
      "\n",
      "epoch 66: train average loss: 5.160 | acc: 100.00% (23670/23670)\n"
     ]
    },
    {
     "name": "stderr",
     "output_type": "stream",
     "text": [
      " 22%|██▏       | 66/300 [01:08<03:56,  1.01s/it]"
     ]
    },
    {
     "name": "stdout",
     "output_type": "stream",
     "text": [
      "\n",
      "epoch 66: test average loss: 7.815 | acc: 98.33% (2586/2630)\n",
      "EarlyStopping counter: 19/25 (best: 0.9856)\n",
      "\n",
      "epoch 67: train average loss: 5.165 | acc: 100.00% (23670/23670)\n"
     ]
    },
    {
     "name": "stderr",
     "output_type": "stream",
     "text": [
      " 22%|██▏       | 67/300 [01:09<03:57,  1.02s/it]"
     ]
    },
    {
     "name": "stdout",
     "output_type": "stream",
     "text": [
      "\n",
      "epoch 67: test average loss: 7.804 | acc: 98.37% (2587/2630)\n",
      "EarlyStopping counter: 20/25 (best: 0.9856)\n",
      "\n",
      "epoch 68: train average loss: 5.173 | acc: 100.00% (23670/23670)\n"
     ]
    },
    {
     "name": "stderr",
     "output_type": "stream",
     "text": [
      " 23%|██▎       | 68/300 [01:10<03:50,  1.00it/s]"
     ]
    },
    {
     "name": "stdout",
     "output_type": "stream",
     "text": [
      "\n",
      "epoch 68: test average loss: 7.799 | acc: 98.37% (2587/2630)\n",
      "EarlyStopping counter: 21/25 (best: 0.9856)\n",
      "\n",
      "epoch 69: train average loss: 5.173 | acc: 100.00% (23670/23670)\n"
     ]
    },
    {
     "name": "stderr",
     "output_type": "stream",
     "text": [
      " 23%|██▎       | 69/300 [01:10<03:48,  1.01it/s]"
     ]
    },
    {
     "name": "stdout",
     "output_type": "stream",
     "text": [
      "\n",
      "epoch 69: test average loss: 7.795 | acc: 98.37% (2587/2630)\n",
      "EarlyStopping counter: 22/25 (best: 0.9856)\n",
      "\n",
      "epoch 70: train average loss: 5.164 | acc: 100.00% (23670/23670)\n"
     ]
    },
    {
     "name": "stderr",
     "output_type": "stream",
     "text": [
      " 23%|██▎       | 70/300 [01:11<03:41,  1.04it/s]"
     ]
    },
    {
     "name": "stdout",
     "output_type": "stream",
     "text": [
      "\n",
      "epoch 70: test average loss: 7.843 | acc: 98.25% (2584/2630)\n",
      "EarlyStopping counter: 23/25 (best: 0.9856)\n",
      "\n",
      "epoch 71: train average loss: 5.167 | acc: 100.00% (23670/23670)\n"
     ]
    },
    {
     "name": "stderr",
     "output_type": "stream",
     "text": [
      " 24%|██▎       | 71/300 [01:12<03:41,  1.03it/s]"
     ]
    },
    {
     "name": "stdout",
     "output_type": "stream",
     "text": [
      "\n",
      "epoch 71: test average loss: 7.870 | acc: 98.37% (2587/2630)\n",
      "EarlyStopping counter: 24/25 (best: 0.9856)\n",
      "\n",
      "epoch 72: train average loss: 5.167 | acc: 100.00% (23670/23670)\n"
     ]
    },
    {
     "name": "stderr",
     "output_type": "stream",
     "text": [
      " 24%|██▎       | 71/300 [01:13<03:58,  1.04s/it]"
     ]
    },
    {
     "name": "stdout",
     "output_type": "stream",
     "text": [
      "\n",
      "epoch 72: test average loss: 7.925 | acc: 98.37% (2587/2630)\n",
      "EarlyStopping counter: 25/25 (best: 0.9856)\n",
      "🔴 Early stopping triggered\n",
      "load model at epoch 47, with test acc : 0.986\n"
     ]
    },
    {
     "name": "stderr",
     "output_type": "stream",
     "text": [
      "\n",
      "/tmp/ipykernel_3076972/3696667578.py:175: FutureWarning:\n",
      "\n",
      "You are using `torch.load` with `weights_only=False` (the current default value), which uses the default pickle module implicitly. It is possible to construct malicious pickle data which will execute arbitrary code during unpickling (See https://github.com/pytorch/pytorch/blob/main/SECURITY.md#untrusted-models for more details). In a future release, the default value for `weights_only` will be flipped to `True`. This limits the functions that could be executed during unpickling. Arbitrary objects will no longer be allowed to be loaded via this mode unless they are explicitly allowlisted by the user via `torch.serialization.add_safe_globals`. We recommend you start setting `weights_only=True` for any use case where you don't have full control of the loaded file. Please open an issue on GitHub for any issues related to this experimental feature.\n",
      "\n"
     ]
    },
    {
     "name": "stdout",
     "output_type": "stream",
     "text": [
      "total 0.9855513307984791\n",
      "class 0 1.0\n",
      "class 1 0.9653465346534653\n",
      "class 2 0.9886621315192744\n",
      "class 3 0.9894957983193278\n",
      "class 4 0.9696969696969697\n",
      "class 5 0.9801324503311258\n",
      "class 6 0.9896907216494846\n",
      "class 7 0.9777777777777777\n",
      "class 8 1.0\n",
      "class 9 0.9931818181818182\n",
      "Train t-SNE interactive HTML saved to variant_lenet_low_test_accuracy_combined_train.html\n",
      "Test t-SNE interactive HTML saved to variant_lenet_low_test_accuracy_combined_test.html\n",
      "                                                             0\n",
      "Accuracy                                                0.9856\n",
      "Recall       [1.0, 0.9653, 0.9887, 0.9895, 0.9697, 0.9801, ...\n",
      "Specificity  [1.0, 0.9955, 0.9973, 0.9981, 0.9974, 0.9987, ...\n",
      "Precision    [1.0, 0.9466, 0.9864, 0.9916, 0.9816, 0.99, 1....\n",
      "F1 Score     [1.0, 0.9559, 0.9875, 0.9905, 0.9756, 0.985, 0...\n",
      "3\n"
     ]
    },
    {
     "name": "stderr",
     "output_type": "stream",
     "text": [
      "  0%|          | 0/300 [00:00<?, ?it/s]"
     ]
    },
    {
     "name": "stdout",
     "output_type": "stream",
     "text": [
      "\n",
      "epoch 1: train average loss: 22.439 | acc: 78.84% (18662/23670)\n"
     ]
    },
    {
     "name": "stderr",
     "output_type": "stream",
     "text": [
      "  0%|          | 1/300 [00:01<05:34,  1.12s/it]"
     ]
    },
    {
     "name": "stdout",
     "output_type": "stream",
     "text": [
      "\n",
      "epoch 1: test average loss: 18.856 | acc: 83.95% (2208/2630)\n",
      "best test acc found\n",
      "\n",
      "epoch 2: train average loss: 16.112 | acc: 91.33% (21617/23670)\n"
     ]
    },
    {
     "name": "stderr",
     "output_type": "stream",
     "text": [
      "  1%|          | 2/300 [00:02<06:02,  1.22s/it]"
     ]
    },
    {
     "name": "stdout",
     "output_type": "stream",
     "text": [
      "\n",
      "epoch 2: test average loss: 14.131 | acc: 94.90% (2496/2630)\n",
      "best test acc found\n",
      "\n",
      "epoch 3: train average loss: 12.643 | acc: 94.30% (22321/23670)\n"
     ]
    },
    {
     "name": "stderr",
     "output_type": "stream",
     "text": [
      "  1%|          | 3/300 [00:03<06:06,  1.23s/it]"
     ]
    },
    {
     "name": "stdout",
     "output_type": "stream",
     "text": [
      "\n",
      "epoch 3: test average loss: 11.218 | acc: 95.82% (2520/2630)\n",
      "best test acc found\n",
      "\n",
      "epoch 4: train average loss: 10.215 | acc: 96.15% (22758/23670)\n"
     ]
    },
    {
     "name": "stderr",
     "output_type": "stream",
     "text": [
      "  1%|▏         | 4/300 [00:04<06:04,  1.23s/it]"
     ]
    },
    {
     "name": "stdout",
     "output_type": "stream",
     "text": [
      "\n",
      "epoch 4: test average loss: 10.506 | acc: 93.46% (2458/2630)\n",
      "EarlyStopping counter: 1/25 (best: 0.9582)\n",
      "\n",
      "epoch 5: train average loss: 8.906 | acc: 97.12% (22989/23670)\n"
     ]
    },
    {
     "name": "stderr",
     "output_type": "stream",
     "text": [
      "  2%|▏         | 5/300 [00:06<06:02,  1.23s/it]"
     ]
    },
    {
     "name": "stdout",
     "output_type": "stream",
     "text": [
      "\n",
      "epoch 5: test average loss: 9.415 | acc: 94.87% (2495/2630)\n",
      "EarlyStopping counter: 2/25 (best: 0.9582)\n",
      "\n",
      "epoch 6: train average loss: 8.274 | acc: 97.76% (23140/23670)\n"
     ]
    },
    {
     "name": "stderr",
     "output_type": "stream",
     "text": [
      "  2%|▏         | 6/300 [00:07<06:02,  1.23s/it]"
     ]
    },
    {
     "name": "stdout",
     "output_type": "stream",
     "text": [
      "\n",
      "epoch 6: test average loss: 8.799 | acc: 96.43% (2536/2630)\n",
      "best test acc found\n",
      "\n",
      "epoch 7: train average loss: 7.877 | acc: 98.28% (23263/23670)\n"
     ]
    },
    {
     "name": "stderr",
     "output_type": "stream",
     "text": [
      "  2%|▏         | 7/300 [00:08<05:57,  1.22s/it]"
     ]
    },
    {
     "name": "stdout",
     "output_type": "stream",
     "text": [
      "\n",
      "epoch 7: test average loss: 8.143 | acc: 97.19% (2556/2630)\n",
      "best test acc found\n",
      "\n",
      "epoch 8: train average loss: 7.589 | acc: 98.52% (23320/23670)\n"
     ]
    },
    {
     "name": "stderr",
     "output_type": "stream",
     "text": [
      "  3%|▎         | 8/300 [00:09<05:54,  1.22s/it]"
     ]
    },
    {
     "name": "stdout",
     "output_type": "stream",
     "text": [
      "\n",
      "epoch 8: test average loss: 8.675 | acc: 94.83% (2494/2630)\n",
      "EarlyStopping counter: 1/25 (best: 0.9719)\n",
      "\n",
      "epoch 9: train average loss: 7.275 | acc: 98.93% (23416/23670)\n"
     ]
    },
    {
     "name": "stderr",
     "output_type": "stream",
     "text": [
      "  3%|▎         | 9/300 [00:10<05:49,  1.20s/it]"
     ]
    },
    {
     "name": "stdout",
     "output_type": "stream",
     "text": [
      "\n",
      "epoch 9: test average loss: 7.906 | acc: 97.49% (2564/2630)\n",
      "best test acc found\n",
      "\n",
      "epoch 10: train average loss: 7.088 | acc: 99.10% (23457/23670)\n"
     ]
    },
    {
     "name": "stderr",
     "output_type": "stream",
     "text": [
      "  3%|▎         | 10/300 [00:12<05:47,  1.20s/it]"
     ]
    },
    {
     "name": "stdout",
     "output_type": "stream",
     "text": [
      "\n",
      "epoch 10: test average loss: 7.467 | acc: 97.64% (2568/2630)\n",
      "best test acc found\n",
      "\n",
      "epoch 11: train average loss: 6.935 | acc: 99.32% (23508/23670)\n"
     ]
    },
    {
     "name": "stderr",
     "output_type": "stream",
     "text": [
      "  4%|▎         | 11/300 [00:13<06:03,  1.26s/it]"
     ]
    },
    {
     "name": "stdout",
     "output_type": "stream",
     "text": [
      "\n",
      "epoch 11: test average loss: 7.565 | acc: 97.60% (2567/2630)\n",
      "EarlyStopping counter: 1/25 (best: 0.9764)\n",
      "\n",
      "epoch 12: train average loss: 6.753 | acc: 99.46% (23542/23670)\n"
     ]
    },
    {
     "name": "stderr",
     "output_type": "stream",
     "text": [
      "  4%|▍         | 12/300 [00:14<06:01,  1.26s/it]"
     ]
    },
    {
     "name": "stdout",
     "output_type": "stream",
     "text": [
      "\n",
      "epoch 12: test average loss: 7.650 | acc: 96.84% (2547/2630)\n",
      "EarlyStopping counter: 2/25 (best: 0.9764)\n",
      "\n",
      "epoch 13: train average loss: 6.591 | acc: 99.66% (23589/23670)\n"
     ]
    },
    {
     "name": "stderr",
     "output_type": "stream",
     "text": [
      "  4%|▍         | 13/300 [00:16<06:00,  1.26s/it]"
     ]
    },
    {
     "name": "stdout",
     "output_type": "stream",
     "text": [
      "\n",
      "epoch 13: test average loss: 7.557 | acc: 98.17% (2582/2630)\n",
      "best test acc found\n",
      "\n",
      "epoch 14: train average loss: 6.433 | acc: 99.77% (23615/23670)\n"
     ]
    },
    {
     "name": "stderr",
     "output_type": "stream",
     "text": [
      "  5%|▍         | 14/300 [00:17<05:59,  1.26s/it]"
     ]
    },
    {
     "name": "stdout",
     "output_type": "stream",
     "text": [
      "\n",
      "epoch 14: test average loss: 7.535 | acc: 98.17% (2582/2630)\n",
      "EarlyStopping counter: 1/25 (best: 0.9817)\n",
      "\n",
      "epoch 15: train average loss: 6.346 | acc: 99.82% (23628/23670)\n"
     ]
    },
    {
     "name": "stderr",
     "output_type": "stream",
     "text": [
      "  5%|▌         | 15/300 [00:18<05:54,  1.24s/it]"
     ]
    },
    {
     "name": "stdout",
     "output_type": "stream",
     "text": [
      "\n",
      "epoch 15: test average loss: 7.563 | acc: 97.87% (2574/2630)\n",
      "EarlyStopping counter: 2/25 (best: 0.9817)\n",
      "\n",
      "epoch 16: train average loss: 6.302 | acc: 99.81% (23626/23670)\n"
     ]
    },
    {
     "name": "stderr",
     "output_type": "stream",
     "text": [
      "  5%|▌         | 16/300 [00:19<05:47,  1.22s/it]"
     ]
    },
    {
     "name": "stdout",
     "output_type": "stream",
     "text": [
      "\n",
      "epoch 16: test average loss: 7.276 | acc: 98.10% (2580/2630)\n",
      "EarlyStopping counter: 3/25 (best: 0.9817)\n",
      "\n",
      "epoch 17: train average loss: 6.220 | acc: 99.81% (23626/23670)\n"
     ]
    },
    {
     "name": "stderr",
     "output_type": "stream",
     "text": [
      "  6%|▌         | 17/300 [00:20<05:39,  1.20s/it]"
     ]
    },
    {
     "name": "stdout",
     "output_type": "stream",
     "text": [
      "\n",
      "epoch 17: test average loss: 7.713 | acc: 98.14% (2581/2630)\n",
      "EarlyStopping counter: 4/25 (best: 0.9817)\n",
      "\n",
      "epoch 18: train average loss: 6.184 | acc: 99.85% (23635/23670)\n"
     ]
    },
    {
     "name": "stderr",
     "output_type": "stream",
     "text": [
      "  6%|▌         | 18/300 [00:22<05:43,  1.22s/it]"
     ]
    },
    {
     "name": "stdout",
     "output_type": "stream",
     "text": [
      "\n",
      "epoch 18: test average loss: 7.370 | acc: 98.25% (2584/2630)\n",
      "best test acc found\n",
      "\n",
      "epoch 19: train average loss: 6.108 | acc: 99.88% (23641/23670)\n"
     ]
    },
    {
     "name": "stderr",
     "output_type": "stream",
     "text": [
      "  6%|▋         | 19/300 [00:23<06:02,  1.29s/it]"
     ]
    },
    {
     "name": "stdout",
     "output_type": "stream",
     "text": [
      "\n",
      "epoch 19: test average loss: 7.587 | acc: 98.06% (2579/2630)\n",
      "EarlyStopping counter: 1/25 (best: 0.9825)\n",
      "\n",
      "epoch 20: train average loss: 6.017 | acc: 99.95% (23657/23670)\n"
     ]
    },
    {
     "name": "stderr",
     "output_type": "stream",
     "text": [
      "  7%|▋         | 20/300 [00:25<06:24,  1.37s/it]"
     ]
    },
    {
     "name": "stdout",
     "output_type": "stream",
     "text": [
      "\n",
      "epoch 20: test average loss: 7.476 | acc: 98.17% (2582/2630)\n",
      "EarlyStopping counter: 2/25 (best: 0.9825)\n",
      "\n",
      "epoch 21: train average loss: 6.012 | acc: 99.91% (23648/23670)\n"
     ]
    },
    {
     "name": "stderr",
     "output_type": "stream",
     "text": [
      "  7%|▋         | 21/300 [00:26<06:22,  1.37s/it]"
     ]
    },
    {
     "name": "stdout",
     "output_type": "stream",
     "text": [
      "\n",
      "epoch 21: test average loss: 7.514 | acc: 97.91% (2575/2630)\n",
      "EarlyStopping counter: 3/25 (best: 0.9825)\n",
      "\n",
      "epoch 22: train average loss: 5.927 | acc: 99.97% (23662/23670)\n"
     ]
    },
    {
     "name": "stderr",
     "output_type": "stream",
     "text": [
      "  7%|▋         | 22/300 [00:27<05:53,  1.27s/it]"
     ]
    },
    {
     "name": "stdout",
     "output_type": "stream",
     "text": [
      "\n",
      "epoch 22: test average loss: 7.544 | acc: 98.17% (2582/2630)\n",
      "EarlyStopping counter: 4/25 (best: 0.9825)\n",
      "\n",
      "epoch 23: train average loss: 5.882 | acc: 99.95% (23658/23670)\n"
     ]
    },
    {
     "name": "stderr",
     "output_type": "stream",
     "text": [
      "  8%|▊         | 23/300 [00:28<05:32,  1.20s/it]"
     ]
    },
    {
     "name": "stdout",
     "output_type": "stream",
     "text": [
      "\n",
      "epoch 23: test average loss: 7.537 | acc: 98.21% (2583/2630)\n",
      "EarlyStopping counter: 5/25 (best: 0.9825)\n",
      "\n",
      "epoch 24: train average loss: 5.842 | acc: 99.97% (23663/23670)\n"
     ]
    },
    {
     "name": "stderr",
     "output_type": "stream",
     "text": [
      "  8%|▊         | 24/300 [00:29<05:19,  1.16s/it]"
     ]
    },
    {
     "name": "stdout",
     "output_type": "stream",
     "text": [
      "\n",
      "epoch 24: test average loss: 7.490 | acc: 98.29% (2585/2630)\n",
      "best test acc found\n",
      "\n",
      "epoch 25: train average loss: 5.816 | acc: 99.97% (23664/23670)\n"
     ]
    },
    {
     "name": "stderr",
     "output_type": "stream",
     "text": [
      "  8%|▊         | 25/300 [00:30<05:05,  1.11s/it]"
     ]
    },
    {
     "name": "stdout",
     "output_type": "stream",
     "text": [
      "\n",
      "epoch 25: test average loss: 7.627 | acc: 98.17% (2582/2630)\n",
      "EarlyStopping counter: 1/25 (best: 0.9829)\n",
      "\n",
      "epoch 26: train average loss: 5.748 | acc: 99.97% (23662/23670)\n"
     ]
    },
    {
     "name": "stderr",
     "output_type": "stream",
     "text": [
      "  9%|▊         | 26/300 [00:31<04:56,  1.08s/it]"
     ]
    },
    {
     "name": "stdout",
     "output_type": "stream",
     "text": [
      "\n",
      "epoch 26: test average loss: 7.458 | acc: 98.33% (2586/2630)\n",
      "best test acc found\n",
      "\n",
      "epoch 27: train average loss: 5.719 | acc: 99.97% (23662/23670)\n"
     ]
    },
    {
     "name": "stderr",
     "output_type": "stream",
     "text": [
      "  9%|▉         | 27/300 [00:32<04:49,  1.06s/it]"
     ]
    },
    {
     "name": "stdout",
     "output_type": "stream",
     "text": [
      "\n",
      "epoch 27: test average loss: 7.472 | acc: 98.33% (2586/2630)\n",
      "EarlyStopping counter: 1/25 (best: 0.9833)\n",
      "\n",
      "epoch 28: train average loss: 5.670 | acc: 99.99% (23667/23670)\n"
     ]
    },
    {
     "name": "stderr",
     "output_type": "stream",
     "text": [
      "  9%|▉         | 28/300 [00:33<04:42,  1.04s/it]"
     ]
    },
    {
     "name": "stdout",
     "output_type": "stream",
     "text": [
      "\n",
      "epoch 28: test average loss: 7.556 | acc: 98.25% (2584/2630)\n",
      "EarlyStopping counter: 2/25 (best: 0.9833)\n",
      "\n",
      "epoch 29: train average loss: 5.642 | acc: 100.00% (23669/23670)\n"
     ]
    },
    {
     "name": "stderr",
     "output_type": "stream",
     "text": [
      " 10%|▉         | 29/300 [00:34<04:42,  1.04s/it]"
     ]
    },
    {
     "name": "stdout",
     "output_type": "stream",
     "text": [
      "\n",
      "epoch 29: test average loss: 7.260 | acc: 98.44% (2589/2630)\n",
      "best test acc found\n",
      "\n",
      "epoch 30: train average loss: 5.590 | acc: 99.99% (23668/23670)\n"
     ]
    },
    {
     "name": "stderr",
     "output_type": "stream",
     "text": [
      " 10%|█         | 30/300 [00:35<04:47,  1.07s/it]"
     ]
    },
    {
     "name": "stdout",
     "output_type": "stream",
     "text": [
      "\n",
      "epoch 30: test average loss: 7.501 | acc: 98.44% (2589/2630)\n",
      "EarlyStopping counter: 1/25 (best: 0.9844)\n",
      "\n",
      "epoch 31: train average loss: 5.565 | acc: 100.00% (23669/23670)\n"
     ]
    },
    {
     "name": "stderr",
     "output_type": "stream",
     "text": [
      " 10%|█         | 31/300 [00:36<04:44,  1.06s/it]"
     ]
    },
    {
     "name": "stdout",
     "output_type": "stream",
     "text": [
      "\n",
      "epoch 31: test average loss: 7.441 | acc: 98.48% (2590/2630)\n",
      "best test acc found\n",
      "\n",
      "epoch 32: train average loss: 5.547 | acc: 100.00% (23670/23670)\n"
     ]
    },
    {
     "name": "stderr",
     "output_type": "stream",
     "text": [
      " 11%|█         | 32/300 [00:37<04:40,  1.05s/it]"
     ]
    },
    {
     "name": "stdout",
     "output_type": "stream",
     "text": [
      "\n",
      "epoch 32: test average loss: 7.547 | acc: 97.95% (2576/2630)\n",
      "EarlyStopping counter: 1/25 (best: 0.9848)\n",
      "\n",
      "epoch 33: train average loss: 5.531 | acc: 99.99% (23668/23670)\n"
     ]
    },
    {
     "name": "stderr",
     "output_type": "stream",
     "text": [
      " 11%|█         | 33/300 [00:38<04:41,  1.05s/it]"
     ]
    },
    {
     "name": "stdout",
     "output_type": "stream",
     "text": [
      "\n",
      "epoch 33: test average loss: 7.242 | acc: 98.48% (2590/2630)\n",
      "EarlyStopping counter: 2/25 (best: 0.9848)\n",
      "\n",
      "epoch 34: train average loss: 5.479 | acc: 100.00% (23670/23670)\n"
     ]
    },
    {
     "name": "stderr",
     "output_type": "stream",
     "text": [
      " 11%|█▏        | 34/300 [00:39<04:39,  1.05s/it]"
     ]
    },
    {
     "name": "stdout",
     "output_type": "stream",
     "text": [
      "\n",
      "epoch 34: test average loss: 7.313 | acc: 98.29% (2585/2630)\n",
      "EarlyStopping counter: 3/25 (best: 0.9848)\n",
      "\n",
      "epoch 35: train average loss: 5.449 | acc: 100.00% (23670/23670)\n"
     ]
    },
    {
     "name": "stderr",
     "output_type": "stream",
     "text": [
      " 12%|█▏        | 35/300 [00:40<04:32,  1.03s/it]"
     ]
    },
    {
     "name": "stdout",
     "output_type": "stream",
     "text": [
      "\n",
      "epoch 35: test average loss: 7.502 | acc: 98.37% (2587/2630)\n",
      "EarlyStopping counter: 4/25 (best: 0.9848)\n",
      "\n",
      "epoch 36: train average loss: 5.424 | acc: 100.00% (23669/23670)\n"
     ]
    },
    {
     "name": "stderr",
     "output_type": "stream",
     "text": [
      " 12%|█▏        | 36/300 [00:41<04:27,  1.01s/it]"
     ]
    },
    {
     "name": "stdout",
     "output_type": "stream",
     "text": [
      "\n",
      "epoch 36: test average loss: 7.526 | acc: 98.48% (2590/2630)\n",
      "EarlyStopping counter: 5/25 (best: 0.9848)\n",
      "\n",
      "epoch 37: train average loss: 5.392 | acc: 100.00% (23670/23670)\n"
     ]
    },
    {
     "name": "stderr",
     "output_type": "stream",
     "text": [
      " 12%|█▏        | 37/300 [00:42<04:22,  1.00it/s]"
     ]
    },
    {
     "name": "stdout",
     "output_type": "stream",
     "text": [
      "\n",
      "epoch 37: test average loss: 7.381 | acc: 98.48% (2590/2630)\n",
      "EarlyStopping counter: 6/25 (best: 0.9848)\n",
      "\n",
      "epoch 38: train average loss: 5.380 | acc: 100.00% (23670/23670)\n",
      "\n",
      "epoch 38: test average loss: 7.422 | acc: 98.52% (2591/2630)\n",
      "best test acc found\n"
     ]
    },
    {
     "name": "stderr",
     "output_type": "stream",
     "text": [
      " 13%|█▎        | 38/300 [00:43<04:26,  1.02s/it]"
     ]
    },
    {
     "name": "stdout",
     "output_type": "stream",
     "text": [
      "\n",
      "epoch 39: train average loss: 5.364 | acc: 100.00% (23669/23670)\n"
     ]
    },
    {
     "name": "stderr",
     "output_type": "stream",
     "text": [
      " 13%|█▎        | 39/300 [00:45<04:33,  1.05s/it]"
     ]
    },
    {
     "name": "stdout",
     "output_type": "stream",
     "text": [
      "\n",
      "epoch 39: test average loss: 7.437 | acc: 98.56% (2592/2630)\n",
      "best test acc found\n",
      "\n",
      "epoch 40: train average loss: 5.343 | acc: 100.00% (23670/23670)\n"
     ]
    },
    {
     "name": "stderr",
     "output_type": "stream",
     "text": [
      " 13%|█▎        | 40/300 [00:46<04:38,  1.07s/it]"
     ]
    },
    {
     "name": "stdout",
     "output_type": "stream",
     "text": [
      "\n",
      "epoch 40: test average loss: 7.498 | acc: 98.33% (2586/2630)\n",
      "EarlyStopping counter: 1/25 (best: 0.9856)\n",
      "\n",
      "epoch 41: train average loss: 5.323 | acc: 100.00% (23670/23670)\n"
     ]
    },
    {
     "name": "stderr",
     "output_type": "stream",
     "text": [
      " 14%|█▎        | 41/300 [00:47<04:39,  1.08s/it]"
     ]
    },
    {
     "name": "stdout",
     "output_type": "stream",
     "text": [
      "\n",
      "epoch 41: test average loss: 7.437 | acc: 98.52% (2591/2630)\n",
      "EarlyStopping counter: 2/25 (best: 0.9856)\n",
      "\n",
      "epoch 42: train average loss: 5.303 | acc: 100.00% (23670/23670)\n"
     ]
    },
    {
     "name": "stderr",
     "output_type": "stream",
     "text": [
      " 14%|█▍        | 42/300 [00:48<04:29,  1.04s/it]"
     ]
    },
    {
     "name": "stdout",
     "output_type": "stream",
     "text": [
      "\n",
      "epoch 42: test average loss: 7.420 | acc: 98.52% (2591/2630)\n",
      "EarlyStopping counter: 3/25 (best: 0.9856)\n",
      "\n",
      "epoch 43: train average loss: 5.288 | acc: 100.00% (23670/23670)\n"
     ]
    },
    {
     "name": "stderr",
     "output_type": "stream",
     "text": [
      " 14%|█▍        | 43/300 [00:49<04:27,  1.04s/it]"
     ]
    },
    {
     "name": "stdout",
     "output_type": "stream",
     "text": [
      "\n",
      "epoch 43: test average loss: 7.477 | acc: 98.40% (2588/2630)\n",
      "EarlyStopping counter: 4/25 (best: 0.9856)\n",
      "\n",
      "epoch 44: train average loss: 5.273 | acc: 100.00% (23670/23670)\n",
      "\n",
      "epoch 44: test average loss: 7.479 | acc: 98.59% (2593/2630)\n",
      "best test acc found\n"
     ]
    },
    {
     "name": "stderr",
     "output_type": "stream",
     "text": [
      " 15%|█▍        | 44/300 [00:50<04:28,  1.05s/it]"
     ]
    },
    {
     "name": "stdout",
     "output_type": "stream",
     "text": [
      "\n",
      "epoch 45: train average loss: 5.260 | acc: 100.00% (23670/23670)\n"
     ]
    },
    {
     "name": "stderr",
     "output_type": "stream",
     "text": [
      " 15%|█▌        | 45/300 [00:51<04:21,  1.02s/it]"
     ]
    },
    {
     "name": "stdout",
     "output_type": "stream",
     "text": [
      "\n",
      "epoch 45: test average loss: 7.411 | acc: 98.59% (2593/2630)\n",
      "EarlyStopping counter: 1/25 (best: 0.9859)\n",
      "\n",
      "epoch 46: train average loss: 5.243 | acc: 100.00% (23670/23670)\n"
     ]
    },
    {
     "name": "stderr",
     "output_type": "stream",
     "text": [
      " 15%|█▌        | 46/300 [00:52<04:18,  1.02s/it]"
     ]
    },
    {
     "name": "stdout",
     "output_type": "stream",
     "text": [
      "\n",
      "epoch 46: test average loss: 7.434 | acc: 98.52% (2591/2630)\n",
      "EarlyStopping counter: 2/25 (best: 0.9859)\n",
      "\n",
      "epoch 47: train average loss: 5.233 | acc: 100.00% (23670/23670)\n"
     ]
    },
    {
     "name": "stderr",
     "output_type": "stream",
     "text": [
      " 16%|█▌        | 47/300 [00:53<04:10,  1.01it/s]"
     ]
    },
    {
     "name": "stdout",
     "output_type": "stream",
     "text": [
      "\n",
      "epoch 47: test average loss: 7.469 | acc: 98.63% (2594/2630)\n",
      "best test acc found\n",
      "\n",
      "epoch 48: train average loss: 5.233 | acc: 100.00% (23670/23670)\n"
     ]
    },
    {
     "name": "stderr",
     "output_type": "stream",
     "text": [
      " 16%|█▌        | 48/300 [00:54<04:06,  1.02it/s]"
     ]
    },
    {
     "name": "stdout",
     "output_type": "stream",
     "text": [
      "\n",
      "epoch 48: test average loss: 7.393 | acc: 98.71% (2596/2630)\n",
      "best test acc found\n",
      "\n",
      "epoch 49: train average loss: 5.222 | acc: 100.00% (23670/23670)\n"
     ]
    },
    {
     "name": "stderr",
     "output_type": "stream",
     "text": [
      " 16%|█▋        | 49/300 [00:55<04:07,  1.02it/s]"
     ]
    },
    {
     "name": "stdout",
     "output_type": "stream",
     "text": [
      "\n",
      "epoch 49: test average loss: 7.464 | acc: 98.59% (2593/2630)\n",
      "EarlyStopping counter: 1/25 (best: 0.9871)\n",
      "\n",
      "epoch 50: train average loss: 5.209 | acc: 100.00% (23670/23670)\n"
     ]
    },
    {
     "name": "stderr",
     "output_type": "stream",
     "text": [
      " 17%|█▋        | 50/300 [00:56<04:09,  1.00it/s]"
     ]
    },
    {
     "name": "stdout",
     "output_type": "stream",
     "text": [
      "\n",
      "epoch 50: test average loss: 7.474 | acc: 98.56% (2592/2630)\n",
      "EarlyStopping counter: 2/25 (best: 0.9871)\n",
      "\n",
      "epoch 51: train average loss: 5.201 | acc: 100.00% (23670/23670)\n"
     ]
    },
    {
     "name": "stderr",
     "output_type": "stream",
     "text": [
      " 17%|█▋        | 51/300 [00:57<04:12,  1.02s/it]"
     ]
    },
    {
     "name": "stdout",
     "output_type": "stream",
     "text": [
      "\n",
      "epoch 51: test average loss: 7.478 | acc: 98.52% (2591/2630)\n",
      "EarlyStopping counter: 3/25 (best: 0.9871)\n",
      "\n",
      "epoch 52: train average loss: 5.195 | acc: 100.00% (23670/23670)\n"
     ]
    },
    {
     "name": "stderr",
     "output_type": "stream",
     "text": [
      " 17%|█▋        | 52/300 [00:58<04:19,  1.05s/it]"
     ]
    },
    {
     "name": "stdout",
     "output_type": "stream",
     "text": [
      "\n",
      "epoch 52: test average loss: 7.517 | acc: 98.52% (2591/2630)\n",
      "EarlyStopping counter: 4/25 (best: 0.9871)\n",
      "\n",
      "epoch 53: train average loss: 5.183 | acc: 100.00% (23670/23670)\n"
     ]
    },
    {
     "name": "stderr",
     "output_type": "stream",
     "text": [
      " 18%|█▊        | 53/300 [00:59<04:21,  1.06s/it]"
     ]
    },
    {
     "name": "stdout",
     "output_type": "stream",
     "text": [
      "\n",
      "epoch 53: test average loss: 7.473 | acc: 98.56% (2592/2630)\n",
      "EarlyStopping counter: 5/25 (best: 0.9871)\n",
      "\n",
      "epoch 54: train average loss: 5.188 | acc: 100.00% (23670/23670)\n",
      "\n",
      "epoch 54: test average loss: 7.482 | acc: 98.67% (2595/2630)\n"
     ]
    },
    {
     "name": "stderr",
     "output_type": "stream",
     "text": [
      " 18%|█▊        | 54/300 [01:00<04:19,  1.05s/it]"
     ]
    },
    {
     "name": "stdout",
     "output_type": "stream",
     "text": [
      "EarlyStopping counter: 6/25 (best: 0.9871)\n",
      "\n",
      "epoch 55: train average loss: 5.178 | acc: 100.00% (23670/23670)\n"
     ]
    },
    {
     "name": "stderr",
     "output_type": "stream",
     "text": [
      " 18%|█▊        | 55/300 [01:01<04:11,  1.03s/it]"
     ]
    },
    {
     "name": "stdout",
     "output_type": "stream",
     "text": [
      "\n",
      "epoch 55: test average loss: 7.500 | acc: 98.48% (2590/2630)\n",
      "EarlyStopping counter: 7/25 (best: 0.9871)\n",
      "\n",
      "epoch 56: train average loss: 5.178 | acc: 100.00% (23670/23670)\n"
     ]
    },
    {
     "name": "stderr",
     "output_type": "stream",
     "text": [
      " 19%|█▊        | 56/300 [01:02<04:03,  1.00it/s]"
     ]
    },
    {
     "name": "stdout",
     "output_type": "stream",
     "text": [
      "\n",
      "epoch 56: test average loss: 7.463 | acc: 98.59% (2593/2630)\n",
      "EarlyStopping counter: 8/25 (best: 0.9871)\n",
      "\n",
      "epoch 57: train average loss: 5.174 | acc: 100.00% (23670/23670)\n"
     ]
    },
    {
     "name": "stderr",
     "output_type": "stream",
     "text": [
      " 19%|█▉        | 57/300 [01:03<04:00,  1.01it/s]"
     ]
    },
    {
     "name": "stdout",
     "output_type": "stream",
     "text": [
      "\n",
      "epoch 57: test average loss: 7.470 | acc: 98.52% (2591/2630)\n",
      "EarlyStopping counter: 9/25 (best: 0.9871)\n",
      "\n",
      "epoch 58: train average loss: 5.175 | acc: 100.00% (23670/23670)\n"
     ]
    },
    {
     "name": "stderr",
     "output_type": "stream",
     "text": [
      " 19%|█▉        | 58/300 [01:04<03:57,  1.02it/s]"
     ]
    },
    {
     "name": "stdout",
     "output_type": "stream",
     "text": [
      "\n",
      "epoch 58: test average loss: 7.476 | acc: 98.56% (2592/2630)\n",
      "EarlyStopping counter: 10/25 (best: 0.9871)\n",
      "\n",
      "epoch 59: train average loss: 5.174 | acc: 100.00% (23670/23670)\n"
     ]
    },
    {
     "name": "stderr",
     "output_type": "stream",
     "text": [
      " 20%|█▉        | 59/300 [01:05<04:01,  1.00s/it]"
     ]
    },
    {
     "name": "stdout",
     "output_type": "stream",
     "text": [
      "\n",
      "epoch 59: test average loss: 7.460 | acc: 98.56% (2592/2630)\n",
      "EarlyStopping counter: 11/25 (best: 0.9871)\n",
      "\n",
      "epoch 60: train average loss: 5.165 | acc: 100.00% (23670/23670)\n"
     ]
    },
    {
     "name": "stderr",
     "output_type": "stream",
     "text": [
      " 20%|██        | 60/300 [01:06<04:05,  1.02s/it]"
     ]
    },
    {
     "name": "stdout",
     "output_type": "stream",
     "text": [
      "\n",
      "epoch 60: test average loss: 7.479 | acc: 98.63% (2594/2630)\n",
      "EarlyStopping counter: 12/25 (best: 0.9871)\n",
      "\n",
      "epoch 61: train average loss: 5.173 | acc: 100.00% (23670/23670)\n"
     ]
    },
    {
     "name": "stderr",
     "output_type": "stream",
     "text": [
      " 20%|██        | 61/300 [01:07<04:06,  1.03s/it]"
     ]
    },
    {
     "name": "stdout",
     "output_type": "stream",
     "text": [
      "\n",
      "epoch 61: test average loss: 7.472 | acc: 98.59% (2593/2630)\n",
      "EarlyStopping counter: 13/25 (best: 0.9871)\n",
      "\n",
      "epoch 62: train average loss: 5.172 | acc: 100.00% (23670/23670)\n"
     ]
    },
    {
     "name": "stderr",
     "output_type": "stream",
     "text": [
      " 21%|██        | 62/300 [01:08<04:05,  1.03s/it]"
     ]
    },
    {
     "name": "stdout",
     "output_type": "stream",
     "text": [
      "\n",
      "epoch 62: test average loss: 7.462 | acc: 98.59% (2593/2630)\n",
      "EarlyStopping counter: 14/25 (best: 0.9871)\n",
      "\n",
      "epoch 63: train average loss: 5.180 | acc: 100.00% (23670/23670)\n",
      "\n",
      "epoch 63: test average loss: 7.465 | acc: 98.56% (2592/2630)\n"
     ]
    },
    {
     "name": "stderr",
     "output_type": "stream",
     "text": [
      " 21%|██        | 63/300 [01:09<04:02,  1.02s/it]"
     ]
    },
    {
     "name": "stdout",
     "output_type": "stream",
     "text": [
      "EarlyStopping counter: 15/25 (best: 0.9871)\n",
      "\n",
      "epoch 64: train average loss: 5.171 | acc: 100.00% (23670/23670)\n"
     ]
    },
    {
     "name": "stderr",
     "output_type": "stream",
     "text": [
      " 21%|██▏       | 64/300 [01:10<04:06,  1.05s/it]"
     ]
    },
    {
     "name": "stdout",
     "output_type": "stream",
     "text": [
      "\n",
      "epoch 64: test average loss: 7.478 | acc: 98.52% (2591/2630)\n",
      "EarlyStopping counter: 16/25 (best: 0.9871)\n",
      "\n",
      "epoch 65: train average loss: 5.176 | acc: 100.00% (23670/23670)\n"
     ]
    },
    {
     "name": "stderr",
     "output_type": "stream",
     "text": [
      " 22%|██▏       | 65/300 [01:11<04:01,  1.03s/it]"
     ]
    },
    {
     "name": "stdout",
     "output_type": "stream",
     "text": [
      "\n",
      "epoch 65: test average loss: 7.485 | acc: 98.59% (2593/2630)\n",
      "EarlyStopping counter: 17/25 (best: 0.9871)\n",
      "\n",
      "epoch 66: train average loss: 5.170 | acc: 100.00% (23670/23670)\n"
     ]
    },
    {
     "name": "stderr",
     "output_type": "stream",
     "text": [
      " 22%|██▏       | 66/300 [01:12<03:57,  1.01s/it]"
     ]
    },
    {
     "name": "stdout",
     "output_type": "stream",
     "text": [
      "\n",
      "epoch 66: test average loss: 7.485 | acc: 98.56% (2592/2630)\n",
      "EarlyStopping counter: 18/25 (best: 0.9871)\n",
      "\n",
      "epoch 67: train average loss: 5.173 | acc: 100.00% (23670/23670)\n"
     ]
    },
    {
     "name": "stderr",
     "output_type": "stream",
     "text": [
      " 22%|██▏       | 67/300 [01:13<03:52,  1.00it/s]"
     ]
    },
    {
     "name": "stdout",
     "output_type": "stream",
     "text": [
      "\n",
      "epoch 67: test average loss: 7.497 | acc: 98.52% (2591/2630)\n",
      "EarlyStopping counter: 19/25 (best: 0.9871)\n",
      "\n",
      "epoch 68: train average loss: 5.174 | acc: 100.00% (23670/23670)\n"
     ]
    },
    {
     "name": "stderr",
     "output_type": "stream",
     "text": [
      " 23%|██▎       | 68/300 [01:14<03:49,  1.01it/s]"
     ]
    },
    {
     "name": "stdout",
     "output_type": "stream",
     "text": [
      "\n",
      "epoch 68: test average loss: 7.482 | acc: 98.44% (2589/2630)\n",
      "EarlyStopping counter: 20/25 (best: 0.9871)\n",
      "\n",
      "epoch 69: train average loss: 5.181 | acc: 100.00% (23670/23670)\n"
     ]
    },
    {
     "name": "stderr",
     "output_type": "stream",
     "text": [
      " 23%|██▎       | 69/300 [01:15<03:50,  1.00it/s]"
     ]
    },
    {
     "name": "stdout",
     "output_type": "stream",
     "text": [
      "\n",
      "epoch 69: test average loss: 7.487 | acc: 98.56% (2592/2630)\n",
      "EarlyStopping counter: 21/25 (best: 0.9871)\n",
      "\n",
      "epoch 70: train average loss: 5.178 | acc: 100.00% (23670/23670)\n"
     ]
    },
    {
     "name": "stderr",
     "output_type": "stream",
     "text": [
      " 23%|██▎       | 70/300 [01:16<03:48,  1.00it/s]"
     ]
    },
    {
     "name": "stdout",
     "output_type": "stream",
     "text": [
      "\n",
      "epoch 70: test average loss: 7.515 | acc: 98.59% (2593/2630)\n",
      "EarlyStopping counter: 22/25 (best: 0.9871)\n",
      "\n",
      "epoch 71: train average loss: 5.179 | acc: 100.00% (23670/23670)\n"
     ]
    },
    {
     "name": "stderr",
     "output_type": "stream",
     "text": [
      " 24%|██▎       | 71/300 [01:17<03:47,  1.01it/s]"
     ]
    },
    {
     "name": "stdout",
     "output_type": "stream",
     "text": [
      "\n",
      "epoch 71: test average loss: 7.524 | acc: 98.67% (2595/2630)\n",
      "EarlyStopping counter: 23/25 (best: 0.9871)\n",
      "\n",
      "epoch 72: train average loss: 5.179 | acc: 100.00% (23670/23670)\n"
     ]
    },
    {
     "name": "stderr",
     "output_type": "stream",
     "text": [
      " 24%|██▍       | 72/300 [01:18<03:43,  1.02it/s]"
     ]
    },
    {
     "name": "stdout",
     "output_type": "stream",
     "text": [
      "\n",
      "epoch 72: test average loss: 7.525 | acc: 98.44% (2589/2630)\n",
      "EarlyStopping counter: 24/25 (best: 0.9871)\n",
      "\n",
      "epoch 73: train average loss: 5.175 | acc: 100.00% (23670/23670)\n"
     ]
    },
    {
     "name": "stderr",
     "output_type": "stream",
     "text": [
      " 24%|██▍       | 72/300 [01:19<04:11,  1.10s/it]"
     ]
    },
    {
     "name": "stdout",
     "output_type": "stream",
     "text": [
      "\n",
      "epoch 73: test average loss: 7.555 | acc: 98.67% (2595/2630)\n",
      "EarlyStopping counter: 25/25 (best: 0.9871)\n",
      "🔴 Early stopping triggered\n",
      "load model at epoch 48, with test acc : 0.987\n"
     ]
    },
    {
     "name": "stderr",
     "output_type": "stream",
     "text": [
      "\n",
      "/tmp/ipykernel_3076972/3696667578.py:175: FutureWarning:\n",
      "\n",
      "You are using `torch.load` with `weights_only=False` (the current default value), which uses the default pickle module implicitly. It is possible to construct malicious pickle data which will execute arbitrary code during unpickling (See https://github.com/pytorch/pytorch/blob/main/SECURITY.md#untrusted-models for more details). In a future release, the default value for `weights_only` will be flipped to `True`. This limits the functions that could be executed during unpickling. Arbitrary objects will no longer be allowed to be loaded via this mode unless they are explicitly allowlisted by the user via `torch.serialization.add_safe_globals`. We recommend you start setting `weights_only=True` for any use case where you don't have full control of the loaded file. Please open an issue on GitHub for any issues related to this experimental feature.\n",
      "\n"
     ]
    },
    {
     "name": "stdout",
     "output_type": "stream",
     "text": [
      "total 0.9870722433460076\n",
      "class 0 1.0\n",
      "class 1 0.9900990099009901\n",
      "class 2 0.9931972789115646\n",
      "class 3 0.9915966386554622\n",
      "class 4 0.9606060606060606\n",
      "class 5 0.9867549668874173\n",
      "class 6 0.9896907216494846\n",
      "class 7 1.0\n",
      "class 8 0.9866666666666667\n",
      "class 9 0.9863636363636363\n",
      "Train t-SNE interactive HTML saved to variant_lenet_best_test_accuracy_combined_train.html\n",
      "Test t-SNE interactive HTML saved to variant_lenet_best_test_accuracy_combined_test.html\n",
      "                                                             0\n",
      "Accuracy                                                0.9871\n",
      "Recall       [1.0, 0.9901, 0.9932, 0.9916, 0.9606, 0.9868, ...\n",
      "Specificity  [0.9996, 0.9959, 0.9986, 0.9991, 0.9987, 0.997...\n",
      "Precision    [0.9955, 0.9524, 0.9932, 0.9958, 0.9906, 0.977...\n",
      "F1 Score     [0.9978, 0.9709, 0.9932, 0.9937, 0.9754, 0.981...\n",
      "4\n"
     ]
    },
    {
     "name": "stderr",
     "output_type": "stream",
     "text": [
      "  0%|          | 0/300 [00:00<?, ?it/s]"
     ]
    },
    {
     "name": "stdout",
     "output_type": "stream",
     "text": [
      "\n",
      "epoch 1: train average loss: 22.406 | acc: 79.32% (18774/23670)\n"
     ]
    },
    {
     "name": "stderr",
     "output_type": "stream",
     "text": [
      "  0%|          | 1/300 [00:00<04:43,  1.05it/s]"
     ]
    },
    {
     "name": "stdout",
     "output_type": "stream",
     "text": [
      "\n",
      "epoch 1: test average loss: 19.748 | acc: 86.84% (2284/2630)\n",
      "best test acc found\n",
      "\n",
      "epoch 2: train average loss: 15.831 | acc: 92.19% (21821/23670)\n"
     ]
    },
    {
     "name": "stderr",
     "output_type": "stream",
     "text": [
      "  1%|          | 2/300 [00:01<04:49,  1.03it/s]"
     ]
    },
    {
     "name": "stdout",
     "output_type": "stream",
     "text": [
      "\n",
      "epoch 2: test average loss: 14.329 | acc: 93.19% (2451/2630)\n",
      "best test acc found\n",
      "\n",
      "epoch 3: train average loss: 12.376 | acc: 94.76% (22429/23670)\n"
     ]
    },
    {
     "name": "stderr",
     "output_type": "stream",
     "text": [
      "  1%|          | 3/300 [00:02<04:41,  1.05it/s]"
     ]
    },
    {
     "name": "stdout",
     "output_type": "stream",
     "text": [
      "\n",
      "epoch 3: test average loss: 11.679 | acc: 91.83% (2415/2630)\n",
      "EarlyStopping counter: 1/25 (best: 0.9319)\n",
      "\n",
      "epoch 4: train average loss: 10.005 | acc: 96.47% (22834/23670)\n"
     ]
    },
    {
     "name": "stderr",
     "output_type": "stream",
     "text": [
      "  1%|▏         | 4/300 [00:03<04:42,  1.05it/s]"
     ]
    },
    {
     "name": "stdout",
     "output_type": "stream",
     "text": [
      "\n",
      "epoch 4: test average loss: 10.181 | acc: 93.12% (2449/2630)\n",
      "EarlyStopping counter: 2/25 (best: 0.9319)\n",
      "\n",
      "epoch 5: train average loss: 8.710 | acc: 97.43% (23062/23670)\n"
     ]
    },
    {
     "name": "stderr",
     "output_type": "stream",
     "text": [
      "  2%|▏         | 5/300 [00:04<04:53,  1.01it/s]"
     ]
    },
    {
     "name": "stdout",
     "output_type": "stream",
     "text": [
      "\n",
      "epoch 5: test average loss: 9.298 | acc: 96.16% (2529/2630)\n",
      "best test acc found\n",
      "\n",
      "epoch 6: train average loss: 8.134 | acc: 97.99% (23194/23670)\n"
     ]
    },
    {
     "name": "stderr",
     "output_type": "stream",
     "text": [
      "  2%|▏         | 6/300 [00:05<04:52,  1.01it/s]"
     ]
    },
    {
     "name": "stdout",
     "output_type": "stream",
     "text": [
      "\n",
      "epoch 6: test average loss: 8.933 | acc: 95.97% (2524/2630)\n",
      "EarlyStopping counter: 1/25 (best: 0.9616)\n",
      "\n",
      "epoch 7: train average loss: 7.734 | acc: 98.56% (23329/23670)\n"
     ]
    },
    {
     "name": "stderr",
     "output_type": "stream",
     "text": [
      "  2%|▏         | 7/300 [00:06<04:49,  1.01it/s]"
     ]
    },
    {
     "name": "stdout",
     "output_type": "stream",
     "text": [
      "\n",
      "epoch 7: test average loss: 9.748 | acc: 91.22% (2399/2630)\n",
      "EarlyStopping counter: 2/25 (best: 0.9616)\n",
      "\n",
      "epoch 8: train average loss: 7.431 | acc: 98.76% (23377/23670)\n",
      "\n",
      "epoch 8: test average loss: 8.973 | acc: 96.31% (2533/2630)\n",
      "best test acc found\n"
     ]
    },
    {
     "name": "stderr",
     "output_type": "stream",
     "text": [
      "  3%|▎         | 8/300 [00:07<04:50,  1.01it/s]"
     ]
    },
    {
     "name": "stdout",
     "output_type": "stream",
     "text": [
      "\n",
      "epoch 9: train average loss: 7.223 | acc: 98.92% (23415/23670)\n"
     ]
    },
    {
     "name": "stderr",
     "output_type": "stream",
     "text": [
      "  3%|▎         | 9/300 [00:09<05:06,  1.05s/it]"
     ]
    },
    {
     "name": "stdout",
     "output_type": "stream",
     "text": [
      "\n",
      "epoch 9: test average loss: 8.466 | acc: 95.97% (2524/2630)\n",
      "EarlyStopping counter: 1/25 (best: 0.9631)\n",
      "\n",
      "epoch 10: train average loss: 6.967 | acc: 99.21% (23484/23670)\n"
     ]
    },
    {
     "name": "stderr",
     "output_type": "stream",
     "text": [
      "  3%|▎         | 10/300 [00:10<05:10,  1.07s/it]"
     ]
    },
    {
     "name": "stdout",
     "output_type": "stream",
     "text": [
      "\n",
      "epoch 10: test average loss: 8.455 | acc: 95.40% (2509/2630)\n",
      "EarlyStopping counter: 2/25 (best: 0.9631)\n",
      "\n",
      "epoch 11: train average loss: 6.748 | acc: 99.50% (23552/23670)\n"
     ]
    },
    {
     "name": "stderr",
     "output_type": "stream",
     "text": [
      "  4%|▎         | 11/300 [00:11<05:02,  1.05s/it]"
     ]
    },
    {
     "name": "stdout",
     "output_type": "stream",
     "text": [
      "\n",
      "epoch 11: test average loss: 8.245 | acc: 96.77% (2545/2630)\n",
      "best test acc found\n",
      "\n",
      "epoch 12: train average loss: 6.593 | acc: 99.63% (23583/23670)\n",
      "\n",
      "epoch 12: test average loss: 7.896 | acc: 97.72% (2570/2630)\n",
      "best test acc found\n"
     ]
    },
    {
     "name": "stderr",
     "output_type": "stream",
     "text": [
      "  4%|▍         | 12/300 [00:12<04:58,  1.04s/it]"
     ]
    },
    {
     "name": "stdout",
     "output_type": "stream",
     "text": [
      "\n",
      "epoch 13: train average loss: 6.495 | acc: 99.70% (23598/23670)\n"
     ]
    },
    {
     "name": "stderr",
     "output_type": "stream",
     "text": [
      "  4%|▍         | 13/300 [00:13<04:51,  1.02s/it]"
     ]
    },
    {
     "name": "stdout",
     "output_type": "stream",
     "text": [
      "\n",
      "epoch 13: test average loss: 8.096 | acc: 97.07% (2553/2630)\n",
      "EarlyStopping counter: 1/25 (best: 0.9772)\n",
      "\n",
      "epoch 14: train average loss: 6.384 | acc: 99.70% (23600/23670)\n"
     ]
    },
    {
     "name": "stderr",
     "output_type": "stream",
     "text": [
      "  5%|▍         | 14/300 [00:14<04:47,  1.01s/it]"
     ]
    },
    {
     "name": "stdout",
     "output_type": "stream",
     "text": [
      "\n",
      "epoch 14: test average loss: 8.447 | acc: 95.86% (2521/2630)\n",
      "EarlyStopping counter: 2/25 (best: 0.9772)\n",
      "\n",
      "epoch 15: train average loss: 6.277 | acc: 99.78% (23619/23670)\n"
     ]
    },
    {
     "name": "stderr",
     "output_type": "stream",
     "text": [
      "  5%|▌         | 15/300 [00:15<04:57,  1.04s/it]"
     ]
    },
    {
     "name": "stdout",
     "output_type": "stream",
     "text": [
      "\n",
      "epoch 15: test average loss: 8.194 | acc: 97.34% (2560/2630)\n",
      "EarlyStopping counter: 3/25 (best: 0.9772)\n",
      "\n",
      "epoch 16: train average loss: 6.231 | acc: 99.81% (23625/23670)\n"
     ]
    },
    {
     "name": "stderr",
     "output_type": "stream",
     "text": [
      "  5%|▌         | 16/300 [00:16<04:56,  1.04s/it]"
     ]
    },
    {
     "name": "stdout",
     "output_type": "stream",
     "text": [
      "\n",
      "epoch 16: test average loss: 8.377 | acc: 97.38% (2561/2630)\n",
      "EarlyStopping counter: 4/25 (best: 0.9772)\n",
      "\n",
      "epoch 17: train average loss: 6.132 | acc: 99.86% (23637/23670)\n"
     ]
    },
    {
     "name": "stderr",
     "output_type": "stream",
     "text": [
      "  6%|▌         | 17/300 [00:17<04:55,  1.05s/it]"
     ]
    },
    {
     "name": "stdout",
     "output_type": "stream",
     "text": [
      "\n",
      "epoch 17: test average loss: 7.852 | acc: 97.57% (2566/2630)\n",
      "EarlyStopping counter: 5/25 (best: 0.9772)\n",
      "\n",
      "epoch 18: train average loss: 6.093 | acc: 99.87% (23639/23670)\n"
     ]
    },
    {
     "name": "stderr",
     "output_type": "stream",
     "text": [
      "  6%|▌         | 18/300 [00:18<04:53,  1.04s/it]"
     ]
    },
    {
     "name": "stdout",
     "output_type": "stream",
     "text": [
      "\n",
      "epoch 18: test average loss: 8.116 | acc: 96.58% (2540/2630)\n",
      "EarlyStopping counter: 6/25 (best: 0.9772)\n",
      "\n",
      "epoch 19: train average loss: 6.004 | acc: 99.92% (23651/23670)\n"
     ]
    },
    {
     "name": "stderr",
     "output_type": "stream",
     "text": [
      "  6%|▋         | 19/300 [00:19<04:50,  1.03s/it]"
     ]
    },
    {
     "name": "stdout",
     "output_type": "stream",
     "text": [
      "\n",
      "epoch 19: test average loss: 7.969 | acc: 97.15% (2555/2630)\n",
      "EarlyStopping counter: 7/25 (best: 0.9772)\n",
      "\n",
      "epoch 20: train average loss: 5.954 | acc: 99.92% (23650/23670)\n"
     ]
    },
    {
     "name": "stderr",
     "output_type": "stream",
     "text": [
      "  7%|▋         | 20/300 [00:20<04:40,  1.00s/it]"
     ]
    },
    {
     "name": "stdout",
     "output_type": "stream",
     "text": [
      "\n",
      "epoch 20: test average loss: 8.094 | acc: 97.41% (2562/2630)\n",
      "EarlyStopping counter: 8/25 (best: 0.9772)\n",
      "\n",
      "epoch 21: train average loss: 5.915 | acc: 99.96% (23660/23670)\n"
     ]
    },
    {
     "name": "stderr",
     "output_type": "stream",
     "text": [
      "  7%|▋         | 21/300 [00:21<04:33,  1.02it/s]"
     ]
    },
    {
     "name": "stdout",
     "output_type": "stream",
     "text": [
      "\n",
      "epoch 21: test average loss: 8.111 | acc: 97.72% (2570/2630)\n",
      "EarlyStopping counter: 9/25 (best: 0.9772)\n",
      "\n",
      "epoch 22: train average loss: 5.874 | acc: 99.96% (23660/23670)\n"
     ]
    },
    {
     "name": "stderr",
     "output_type": "stream",
     "text": [
      "  7%|▋         | 22/300 [00:22<04:33,  1.02it/s]"
     ]
    },
    {
     "name": "stdout",
     "output_type": "stream",
     "text": [
      "\n",
      "epoch 22: test average loss: 8.030 | acc: 97.45% (2563/2630)\n",
      "EarlyStopping counter: 10/25 (best: 0.9772)\n",
      "\n",
      "epoch 23: train average loss: 5.804 | acc: 99.99% (23667/23670)\n"
     ]
    },
    {
     "name": "stderr",
     "output_type": "stream",
     "text": [
      "  8%|▊         | 23/300 [00:23<04:33,  1.01it/s]"
     ]
    },
    {
     "name": "stdout",
     "output_type": "stream",
     "text": [
      "\n",
      "epoch 23: test average loss: 8.222 | acc: 98.02% (2578/2630)\n",
      "best test acc found\n",
      "\n",
      "epoch 24: train average loss: 5.763 | acc: 99.98% (23665/23670)\n"
     ]
    },
    {
     "name": "stderr",
     "output_type": "stream",
     "text": [
      "  8%|▊         | 24/300 [00:24<04:30,  1.02it/s]"
     ]
    },
    {
     "name": "stdout",
     "output_type": "stream",
     "text": [
      "\n",
      "epoch 24: test average loss: 8.061 | acc: 97.30% (2559/2630)\n",
      "EarlyStopping counter: 1/25 (best: 0.9802)\n",
      "\n",
      "epoch 25: train average loss: 5.708 | acc: 99.98% (23665/23670)\n"
     ]
    },
    {
     "name": "stderr",
     "output_type": "stream",
     "text": [
      "  8%|▊         | 25/300 [00:25<04:40,  1.02s/it]"
     ]
    },
    {
     "name": "stdout",
     "output_type": "stream",
     "text": [
      "\n",
      "epoch 25: test average loss: 8.308 | acc: 98.06% (2579/2630)\n",
      "best test acc found\n",
      "\n",
      "epoch 26: train average loss: 5.681 | acc: 99.99% (23667/23670)\n",
      "\n",
      "epoch 26: test average loss: 8.193 | acc: 97.91% (2575/2630)\n"
     ]
    },
    {
     "name": "stderr",
     "output_type": "stream",
     "text": [
      "  9%|▊         | 26/300 [00:26<04:41,  1.03s/it]"
     ]
    },
    {
     "name": "stdout",
     "output_type": "stream",
     "text": [
      "EarlyStopping counter: 1/25 (best: 0.9806)\n",
      "\n",
      "epoch 27: train average loss: 5.678 | acc: 99.99% (23668/23670)\n"
     ]
    },
    {
     "name": "stderr",
     "output_type": "stream",
     "text": [
      "  9%|▉         | 27/300 [00:27<04:41,  1.03s/it]"
     ]
    },
    {
     "name": "stdout",
     "output_type": "stream",
     "text": [
      "\n",
      "epoch 27: test average loss: 8.197 | acc: 97.64% (2568/2630)\n",
      "EarlyStopping counter: 2/25 (best: 0.9806)\n",
      "\n",
      "epoch 28: train average loss: 5.627 | acc: 99.98% (23666/23670)\n"
     ]
    },
    {
     "name": "stderr",
     "output_type": "stream",
     "text": [
      "  9%|▉         | 28/300 [00:28<04:39,  1.03s/it]"
     ]
    },
    {
     "name": "stdout",
     "output_type": "stream",
     "text": [
      "\n",
      "epoch 28: test average loss: 8.046 | acc: 98.02% (2578/2630)\n",
      "EarlyStopping counter: 3/25 (best: 0.9806)\n",
      "\n",
      "epoch 29: train average loss: 5.593 | acc: 99.99% (23668/23670)\n"
     ]
    },
    {
     "name": "stderr",
     "output_type": "stream",
     "text": [
      " 10%|▉         | 29/300 [00:29<04:37,  1.02s/it]"
     ]
    },
    {
     "name": "stdout",
     "output_type": "stream",
     "text": [
      "\n",
      "epoch 29: test average loss: 8.312 | acc: 97.38% (2561/2630)\n",
      "EarlyStopping counter: 4/25 (best: 0.9806)\n",
      "\n",
      "epoch 30: train average loss: 5.554 | acc: 100.00% (23670/23670)\n"
     ]
    },
    {
     "name": "stderr",
     "output_type": "stream",
     "text": [
      " 10%|█         | 30/300 [00:30<04:50,  1.08s/it]"
     ]
    },
    {
     "name": "stdout",
     "output_type": "stream",
     "text": [
      "\n",
      "epoch 30: test average loss: 7.952 | acc: 97.95% (2576/2630)\n",
      "EarlyStopping counter: 5/25 (best: 0.9806)\n",
      "\n",
      "epoch 31: train average loss: 5.526 | acc: 100.00% (23669/23670)\n"
     ]
    },
    {
     "name": "stderr",
     "output_type": "stream",
     "text": [
      " 10%|█         | 31/300 [00:31<04:51,  1.08s/it]"
     ]
    },
    {
     "name": "stdout",
     "output_type": "stream",
     "text": [
      "\n",
      "epoch 31: test average loss: 8.280 | acc: 97.76% (2571/2630)\n",
      "EarlyStopping counter: 6/25 (best: 0.9806)\n",
      "\n",
      "epoch 32: train average loss: 5.485 | acc: 99.99% (23668/23670)\n"
     ]
    },
    {
     "name": "stderr",
     "output_type": "stream",
     "text": [
      " 11%|█         | 32/300 [00:32<04:59,  1.12s/it]"
     ]
    },
    {
     "name": "stdout",
     "output_type": "stream",
     "text": [
      "\n",
      "epoch 32: test average loss: 8.198 | acc: 98.02% (2578/2630)\n",
      "EarlyStopping counter: 7/25 (best: 0.9806)\n",
      "\n",
      "epoch 33: train average loss: 5.461 | acc: 99.99% (23668/23670)\n"
     ]
    },
    {
     "name": "stderr",
     "output_type": "stream",
     "text": [
      " 11%|█         | 33/300 [00:34<05:17,  1.19s/it]"
     ]
    },
    {
     "name": "stdout",
     "output_type": "stream",
     "text": [
      "\n",
      "epoch 33: test average loss: 8.211 | acc: 97.79% (2572/2630)\n",
      "EarlyStopping counter: 8/25 (best: 0.9806)\n",
      "\n",
      "epoch 34: train average loss: 5.422 | acc: 100.00% (23670/23670)\n"
     ]
    },
    {
     "name": "stderr",
     "output_type": "stream",
     "text": [
      " 11%|█▏        | 34/300 [00:35<05:31,  1.24s/it]"
     ]
    },
    {
     "name": "stdout",
     "output_type": "stream",
     "text": [
      "\n",
      "epoch 34: test average loss: 8.284 | acc: 97.87% (2574/2630)\n",
      "EarlyStopping counter: 9/25 (best: 0.9806)\n",
      "\n",
      "epoch 35: train average loss: 5.412 | acc: 100.00% (23670/23670)\n"
     ]
    },
    {
     "name": "stderr",
     "output_type": "stream",
     "text": [
      " 12%|█▏        | 35/300 [00:36<05:30,  1.25s/it]"
     ]
    },
    {
     "name": "stdout",
     "output_type": "stream",
     "text": [
      "\n",
      "epoch 35: test average loss: 8.431 | acc: 97.57% (2566/2630)\n",
      "EarlyStopping counter: 10/25 (best: 0.9806)\n",
      "\n",
      "epoch 36: train average loss: 5.397 | acc: 100.00% (23670/23670)\n"
     ]
    },
    {
     "name": "stderr",
     "output_type": "stream",
     "text": [
      " 12%|█▏        | 36/300 [00:38<05:17,  1.20s/it]"
     ]
    },
    {
     "name": "stdout",
     "output_type": "stream",
     "text": [
      "\n",
      "epoch 36: test average loss: 8.352 | acc: 97.87% (2574/2630)\n",
      "EarlyStopping counter: 11/25 (best: 0.9806)\n",
      "\n",
      "epoch 37: train average loss: 5.353 | acc: 100.00% (23670/23670)\n"
     ]
    },
    {
     "name": "stderr",
     "output_type": "stream",
     "text": [
      " 12%|█▏        | 37/300 [00:39<05:08,  1.17s/it]"
     ]
    },
    {
     "name": "stdout",
     "output_type": "stream",
     "text": [
      "\n",
      "epoch 37: test average loss: 8.187 | acc: 98.37% (2587/2630)\n",
      "best test acc found\n",
      "\n",
      "epoch 38: train average loss: 5.335 | acc: 100.00% (23670/23670)\n"
     ]
    },
    {
     "name": "stderr",
     "output_type": "stream",
     "text": [
      " 13%|█▎        | 38/300 [00:40<05:10,  1.19s/it]"
     ]
    },
    {
     "name": "stdout",
     "output_type": "stream",
     "text": [
      "\n",
      "epoch 38: test average loss: 8.504 | acc: 97.68% (2569/2630)\n",
      "EarlyStopping counter: 1/25 (best: 0.9837)\n",
      "\n",
      "epoch 39: train average loss: 5.314 | acc: 100.00% (23670/23670)\n"
     ]
    },
    {
     "name": "stderr",
     "output_type": "stream",
     "text": [
      " 13%|█▎        | 39/300 [00:41<05:04,  1.16s/it]"
     ]
    },
    {
     "name": "stdout",
     "output_type": "stream",
     "text": [
      "\n",
      "epoch 39: test average loss: 8.411 | acc: 98.14% (2581/2630)\n",
      "EarlyStopping counter: 2/25 (best: 0.9837)\n",
      "\n",
      "epoch 40: train average loss: 5.306 | acc: 100.00% (23670/23670)\n"
     ]
    },
    {
     "name": "stderr",
     "output_type": "stream",
     "text": [
      " 13%|█▎        | 40/300 [00:42<04:51,  1.12s/it]"
     ]
    },
    {
     "name": "stdout",
     "output_type": "stream",
     "text": [
      "\n",
      "epoch 40: test average loss: 8.544 | acc: 97.98% (2577/2630)\n",
      "EarlyStopping counter: 3/25 (best: 0.9837)\n",
      "\n",
      "epoch 41: train average loss: 5.275 | acc: 100.00% (23670/23670)\n"
     ]
    },
    {
     "name": "stderr",
     "output_type": "stream",
     "text": [
      " 14%|█▎        | 41/300 [00:43<04:41,  1.09s/it]"
     ]
    },
    {
     "name": "stdout",
     "output_type": "stream",
     "text": [
      "\n",
      "epoch 41: test average loss: 8.365 | acc: 98.10% (2580/2630)\n",
      "EarlyStopping counter: 4/25 (best: 0.9837)\n",
      "\n",
      "epoch 42: train average loss: 5.257 | acc: 100.00% (23670/23670)\n"
     ]
    },
    {
     "name": "stderr",
     "output_type": "stream",
     "text": [
      " 14%|█▍        | 42/300 [00:44<04:36,  1.07s/it]"
     ]
    },
    {
     "name": "stdout",
     "output_type": "stream",
     "text": [
      "\n",
      "epoch 42: test average loss: 8.461 | acc: 98.14% (2581/2630)\n",
      "EarlyStopping counter: 5/25 (best: 0.9837)\n",
      "\n",
      "epoch 43: train average loss: 5.242 | acc: 100.00% (23670/23670)\n"
     ]
    },
    {
     "name": "stderr",
     "output_type": "stream",
     "text": [
      " 14%|█▍        | 43/300 [00:45<04:30,  1.05s/it]"
     ]
    },
    {
     "name": "stdout",
     "output_type": "stream",
     "text": [
      "\n",
      "epoch 43: test average loss: 8.373 | acc: 98.25% (2584/2630)\n",
      "EarlyStopping counter: 6/25 (best: 0.9837)\n",
      "\n",
      "epoch 44: train average loss: 5.224 | acc: 100.00% (23670/23670)\n"
     ]
    },
    {
     "name": "stderr",
     "output_type": "stream",
     "text": [
      " 15%|█▍        | 44/300 [00:46<04:36,  1.08s/it]"
     ]
    },
    {
     "name": "stdout",
     "output_type": "stream",
     "text": [
      "\n",
      "epoch 44: test average loss: 8.474 | acc: 98.10% (2580/2630)\n",
      "EarlyStopping counter: 7/25 (best: 0.9837)\n",
      "\n",
      "epoch 45: train average loss: 5.225 | acc: 100.00% (23670/23670)\n"
     ]
    },
    {
     "name": "stderr",
     "output_type": "stream",
     "text": [
      " 15%|█▌        | 45/300 [00:47<04:33,  1.07s/it]"
     ]
    },
    {
     "name": "stdout",
     "output_type": "stream",
     "text": [
      "\n",
      "epoch 45: test average loss: 8.644 | acc: 97.98% (2577/2630)\n",
      "EarlyStopping counter: 8/25 (best: 0.9837)\n",
      "\n",
      "epoch 46: train average loss: 5.198 | acc: 100.00% (23670/23670)\n"
     ]
    },
    {
     "name": "stderr",
     "output_type": "stream",
     "text": [
      " 15%|█▌        | 46/300 [00:48<04:31,  1.07s/it]"
     ]
    },
    {
     "name": "stdout",
     "output_type": "stream",
     "text": [
      "\n",
      "epoch 46: test average loss: 8.523 | acc: 98.21% (2583/2630)\n",
      "EarlyStopping counter: 9/25 (best: 0.9837)\n",
      "\n",
      "epoch 47: train average loss: 5.200 | acc: 100.00% (23670/23670)\n"
     ]
    },
    {
     "name": "stderr",
     "output_type": "stream",
     "text": [
      " 16%|█▌        | 47/300 [00:49<04:27,  1.06s/it]"
     ]
    },
    {
     "name": "stdout",
     "output_type": "stream",
     "text": [
      "\n",
      "epoch 47: test average loss: 8.487 | acc: 98.17% (2582/2630)\n",
      "EarlyStopping counter: 10/25 (best: 0.9837)\n",
      "\n",
      "epoch 48: train average loss: 5.186 | acc: 100.00% (23670/23670)\n"
     ]
    },
    {
     "name": "stderr",
     "output_type": "stream",
     "text": [
      " 16%|█▌        | 48/300 [00:50<04:24,  1.05s/it]"
     ]
    },
    {
     "name": "stdout",
     "output_type": "stream",
     "text": [
      "\n",
      "epoch 48: test average loss: 8.580 | acc: 98.06% (2579/2630)\n",
      "EarlyStopping counter: 11/25 (best: 0.9837)\n",
      "\n",
      "epoch 49: train average loss: 5.184 | acc: 100.00% (23670/23670)\n"
     ]
    },
    {
     "name": "stderr",
     "output_type": "stream",
     "text": [
      " 16%|█▋        | 49/300 [00:51<04:22,  1.05s/it]"
     ]
    },
    {
     "name": "stdout",
     "output_type": "stream",
     "text": [
      "\n",
      "epoch 49: test average loss: 8.526 | acc: 98.21% (2583/2630)\n",
      "EarlyStopping counter: 12/25 (best: 0.9837)\n",
      "\n",
      "epoch 50: train average loss: 5.175 | acc: 100.00% (23670/23670)\n"
     ]
    },
    {
     "name": "stderr",
     "output_type": "stream",
     "text": [
      " 17%|█▋        | 50/300 [00:52<04:15,  1.02s/it]"
     ]
    },
    {
     "name": "stdout",
     "output_type": "stream",
     "text": [
      "\n",
      "epoch 50: test average loss: 8.573 | acc: 98.17% (2582/2630)\n",
      "EarlyStopping counter: 13/25 (best: 0.9837)\n",
      "\n",
      "epoch 51: train average loss: 5.165 | acc: 100.00% (23670/23670)\n"
     ]
    },
    {
     "name": "stderr",
     "output_type": "stream",
     "text": [
      " 17%|█▋        | 51/300 [00:53<04:07,  1.00it/s]"
     ]
    },
    {
     "name": "stdout",
     "output_type": "stream",
     "text": [
      "\n",
      "epoch 51: test average loss: 8.570 | acc: 98.33% (2586/2630)\n",
      "EarlyStopping counter: 14/25 (best: 0.9837)\n",
      "\n",
      "epoch 52: train average loss: 5.172 | acc: 100.00% (23670/23670)\n"
     ]
    },
    {
     "name": "stderr",
     "output_type": "stream",
     "text": [
      " 17%|█▋        | 52/300 [00:54<04:04,  1.01it/s]"
     ]
    },
    {
     "name": "stdout",
     "output_type": "stream",
     "text": [
      "\n",
      "epoch 52: test average loss: 8.571 | acc: 98.21% (2583/2630)\n",
      "EarlyStopping counter: 15/25 (best: 0.9837)\n",
      "\n",
      "epoch 53: train average loss: 5.154 | acc: 100.00% (23670/23670)\n"
     ]
    },
    {
     "name": "stderr",
     "output_type": "stream",
     "text": [
      " 18%|█▊        | 53/300 [00:55<04:06,  1.00it/s]"
     ]
    },
    {
     "name": "stdout",
     "output_type": "stream",
     "text": [
      "\n",
      "epoch 53: test average loss: 8.595 | acc: 98.33% (2586/2630)\n",
      "EarlyStopping counter: 16/25 (best: 0.9837)\n",
      "\n",
      "epoch 54: train average loss: 5.142 | acc: 100.00% (23670/23670)\n"
     ]
    },
    {
     "name": "stderr",
     "output_type": "stream",
     "text": [
      " 18%|█▊        | 54/300 [00:56<04:12,  1.03s/it]"
     ]
    },
    {
     "name": "stdout",
     "output_type": "stream",
     "text": [
      "\n",
      "epoch 54: test average loss: 8.645 | acc: 98.21% (2583/2630)\n",
      "EarlyStopping counter: 17/25 (best: 0.9837)\n",
      "\n",
      "epoch 55: train average loss: 5.149 | acc: 100.00% (23670/23670)\n"
     ]
    },
    {
     "name": "stderr",
     "output_type": "stream",
     "text": [
      " 18%|█▊        | 55/300 [00:58<04:22,  1.07s/it]"
     ]
    },
    {
     "name": "stdout",
     "output_type": "stream",
     "text": [
      "\n",
      "epoch 55: test average loss: 8.596 | acc: 98.33% (2586/2630)\n",
      "EarlyStopping counter: 18/25 (best: 0.9837)\n",
      "\n",
      "epoch 56: train average loss: 5.146 | acc: 100.00% (23670/23670)\n"
     ]
    },
    {
     "name": "stderr",
     "output_type": "stream",
     "text": [
      " 19%|█▊        | 56/300 [00:59<04:18,  1.06s/it]"
     ]
    },
    {
     "name": "stdout",
     "output_type": "stream",
     "text": [
      "\n",
      "epoch 56: test average loss: 8.574 | acc: 98.37% (2587/2630)\n",
      "EarlyStopping counter: 19/25 (best: 0.9837)\n",
      "\n",
      "epoch 57: train average loss: 5.144 | acc: 100.00% (23670/23670)\n"
     ]
    },
    {
     "name": "stderr",
     "output_type": "stream",
     "text": [
      " 19%|█▉        | 57/300 [01:00<04:15,  1.05s/it]"
     ]
    },
    {
     "name": "stdout",
     "output_type": "stream",
     "text": [
      "\n",
      "epoch 57: test average loss: 8.598 | acc: 98.21% (2583/2630)\n",
      "EarlyStopping counter: 20/25 (best: 0.9837)\n",
      "\n",
      "epoch 58: train average loss: 5.141 | acc: 100.00% (23670/23670)\n"
     ]
    },
    {
     "name": "stderr",
     "output_type": "stream",
     "text": [
      " 19%|█▉        | 58/300 [01:01<04:25,  1.10s/it]"
     ]
    },
    {
     "name": "stdout",
     "output_type": "stream",
     "text": [
      "\n",
      "epoch 58: test average loss: 8.617 | acc: 98.25% (2584/2630)\n",
      "EarlyStopping counter: 21/25 (best: 0.9837)\n",
      "\n",
      "epoch 59: train average loss: 5.145 | acc: 100.00% (23670/23670)\n"
     ]
    },
    {
     "name": "stderr",
     "output_type": "stream",
     "text": [
      " 20%|█▉        | 59/300 [01:02<04:38,  1.15s/it]"
     ]
    },
    {
     "name": "stdout",
     "output_type": "stream",
     "text": [
      "\n",
      "epoch 59: test average loss: 8.627 | acc: 98.33% (2586/2630)\n",
      "EarlyStopping counter: 22/25 (best: 0.9837)\n",
      "\n",
      "epoch 60: train average loss: 5.139 | acc: 100.00% (23670/23670)\n"
     ]
    },
    {
     "name": "stderr",
     "output_type": "stream",
     "text": [
      " 20%|██        | 60/300 [01:03<04:27,  1.11s/it]"
     ]
    },
    {
     "name": "stdout",
     "output_type": "stream",
     "text": [
      "\n",
      "epoch 60: test average loss: 8.604 | acc: 98.33% (2586/2630)\n",
      "EarlyStopping counter: 23/25 (best: 0.9837)\n",
      "\n",
      "epoch 61: train average loss: 5.146 | acc: 100.00% (23670/23670)\n",
      "\n",
      "epoch 61: test average loss: 8.601 | acc: 98.29% (2585/2630)"
     ]
    },
    {
     "name": "stderr",
     "output_type": "stream",
     "text": [
      " 20%|██        | 61/300 [01:04<04:18,  1.08s/it]"
     ]
    },
    {
     "name": "stdout",
     "output_type": "stream",
     "text": [
      "\n",
      "EarlyStopping counter: 24/25 (best: 0.9837)\n",
      "\n",
      "epoch 62: train average loss: 5.137 | acc: 100.00% (23670/23670)\n"
     ]
    },
    {
     "name": "stderr",
     "output_type": "stream",
     "text": [
      " 20%|██        | 61/300 [01:05<04:16,  1.08s/it]"
     ]
    },
    {
     "name": "stdout",
     "output_type": "stream",
     "text": [
      "\n",
      "epoch 62: test average loss: 8.603 | acc: 98.33% (2586/2630)\n",
      "EarlyStopping counter: 25/25 (best: 0.9837)\n",
      "🔴 Early stopping triggered\n",
      "load model at epoch 37, with test acc : 0.984\n"
     ]
    },
    {
     "name": "stderr",
     "output_type": "stream",
     "text": [
      "\n",
      "/tmp/ipykernel_3076972/3696667578.py:175: FutureWarning:\n",
      "\n",
      "You are using `torch.load` with `weights_only=False` (the current default value), which uses the default pickle module implicitly. It is possible to construct malicious pickle data which will execute arbitrary code during unpickling (See https://github.com/pytorch/pytorch/blob/main/SECURITY.md#untrusted-models for more details). In a future release, the default value for `weights_only` will be flipped to `True`. This limits the functions that could be executed during unpickling. Arbitrary objects will no longer be allowed to be loaded via this mode unless they are explicitly allowlisted by the user via `torch.serialization.add_safe_globals`. We recommend you start setting `weights_only=True` for any use case where you don't have full control of the loaded file. Please open an issue on GitHub for any issues related to this experimental feature.\n",
      "\n"
     ]
    },
    {
     "name": "stdout",
     "output_type": "stream",
     "text": [
      "total 0.9836501901140684\n",
      "class 0 1.0\n",
      "class 1 0.9603960396039604\n",
      "class 2 0.9909297052154195\n",
      "class 3 0.9915966386554622\n",
      "class 4 0.9757575757575757\n",
      "class 5 0.9735099337748344\n",
      "class 6 0.979381443298969\n",
      "class 7 0.9555555555555556\n",
      "class 8 1.0\n",
      "class 9 0.9840909090909091\n",
      "Train t-SNE interactive HTML saved to variant_lenet_low_test_accuracy_combined_train.html\n",
      "Test t-SNE interactive HTML saved to variant_lenet_low_test_accuracy_combined_test.html\n",
      "                                                             0\n",
      "Accuracy                                                0.9837\n",
      "Recall       [1.0, 0.9604, 0.9909, 0.9916, 0.9758, 0.9735, ...\n",
      "Specificity  [1.0, 0.9971, 0.9986, 0.9977, 0.9952, 0.9974, ...\n",
      "Precision    [1.0, 0.9652, 0.9932, 0.9895, 0.967, 0.98, 0.9...\n",
      "F1 Score     [1.0, 0.9628, 0.9921, 0.9906, 0.9713, 0.9767, ...\n",
      "5\n"
     ]
    },
    {
     "name": "stderr",
     "output_type": "stream",
     "text": [
      "  0%|          | 0/300 [00:00<?, ?it/s]"
     ]
    },
    {
     "name": "stdout",
     "output_type": "stream",
     "text": [
      "\n",
      "epoch 1: train average loss: 22.371 | acc: 79.36% (18784/23670)\n",
      "\n",
      "epoch 1: test average loss: 19.747 | acc: 85.82% (2257/2630)\n",
      "best test acc found\n"
     ]
    },
    {
     "name": "stderr",
     "output_type": "stream",
     "text": [
      "  0%|          | 1/300 [00:01<05:18,  1.07s/it]"
     ]
    },
    {
     "name": "stdout",
     "output_type": "stream",
     "text": [
      "\n",
      "epoch 2: train average loss: 15.991 | acc: 91.89% (21750/23670)\n"
     ]
    },
    {
     "name": "stderr",
     "output_type": "stream",
     "text": [
      "  1%|          | 2/300 [00:02<05:15,  1.06s/it]"
     ]
    },
    {
     "name": "stdout",
     "output_type": "stream",
     "text": [
      "\n",
      "epoch 2: test average loss: 14.746 | acc: 90.95% (2392/2630)\n",
      "best test acc found\n",
      "\n",
      "epoch 3: train average loss: 12.443 | acc: 94.94% (22473/23670)\n"
     ]
    },
    {
     "name": "stderr",
     "output_type": "stream",
     "text": [
      "  1%|          | 3/300 [00:03<05:10,  1.05s/it]"
     ]
    },
    {
     "name": "stdout",
     "output_type": "stream",
     "text": [
      "\n",
      "epoch 3: test average loss: 11.700 | acc: 94.52% (2486/2630)\n",
      "best test acc found\n",
      "\n",
      "epoch 4: train average loss: 10.093 | acc: 96.26% (22784/23670)\n"
     ]
    },
    {
     "name": "stderr",
     "output_type": "stream",
     "text": [
      "  1%|▏         | 4/300 [00:04<05:07,  1.04s/it]"
     ]
    },
    {
     "name": "stdout",
     "output_type": "stream",
     "text": [
      "\n",
      "epoch 4: test average loss: 10.159 | acc: 95.13% (2502/2630)\n",
      "best test acc found\n",
      "\n",
      "epoch 5: train average loss: 8.750 | acc: 97.47% (23070/23670)\n"
     ]
    },
    {
     "name": "stderr",
     "output_type": "stream",
     "text": [
      "  2%|▏         | 5/300 [00:05<05:09,  1.05s/it]"
     ]
    },
    {
     "name": "stdout",
     "output_type": "stream",
     "text": [
      "\n",
      "epoch 5: test average loss: 9.342 | acc: 95.48% (2511/2630)\n",
      "best test acc found\n",
      "\n",
      "epoch 6: train average loss: 8.132 | acc: 98.18% (23240/23670)\n"
     ]
    },
    {
     "name": "stderr",
     "output_type": "stream",
     "text": [
      "  2%|▏         | 6/300 [00:06<04:57,  1.01s/it]"
     ]
    },
    {
     "name": "stdout",
     "output_type": "stream",
     "text": [
      "\n",
      "epoch 6: test average loss: 9.387 | acc: 95.06% (2500/2630)\n",
      "EarlyStopping counter: 1/25 (best: 0.9548)\n",
      "\n",
      "epoch 7: train average loss: 7.759 | acc: 98.57% (23332/23670)\n",
      "\n",
      "epoch 7: test average loss: 8.752 | acc: 96.73% (2544/2630)\n",
      "best test acc found\n"
     ]
    },
    {
     "name": "stderr",
     "output_type": "stream",
     "text": [
      "  2%|▏         | 7/300 [00:07<04:55,  1.01s/it]"
     ]
    },
    {
     "name": "stdout",
     "output_type": "stream",
     "text": [
      "\n",
      "epoch 8: train average loss: 7.464 | acc: 98.86% (23401/23670)\n"
     ]
    },
    {
     "name": "stderr",
     "output_type": "stream",
     "text": [
      "  3%|▎         | 8/300 [00:08<04:50,  1.01it/s]"
     ]
    },
    {
     "name": "stdout",
     "output_type": "stream",
     "text": [
      "\n",
      "epoch 8: test average loss: 8.956 | acc: 96.31% (2533/2630)\n",
      "EarlyStopping counter: 1/25 (best: 0.9673)\n",
      "\n",
      "epoch 9: train average loss: 7.251 | acc: 99.05% (23446/23670)\n"
     ]
    },
    {
     "name": "stderr",
     "output_type": "stream",
     "text": [
      "  3%|▎         | 9/300 [00:09<04:50,  1.00it/s]"
     ]
    },
    {
     "name": "stdout",
     "output_type": "stream",
     "text": [
      "\n",
      "epoch 9: test average loss: 8.461 | acc: 96.01% (2525/2630)\n",
      "EarlyStopping counter: 2/25 (best: 0.9673)\n",
      "\n",
      "epoch 10: train average loss: 7.025 | acc: 99.32% (23508/23670)\n",
      "\n",
      "epoch 10: test average loss: 8.507 | acc: 96.81% (2546/2630)\n",
      "best test acc found\n"
     ]
    },
    {
     "name": "stderr",
     "output_type": "stream",
     "text": [
      "  3%|▎         | 10/300 [00:10<05:00,  1.04s/it]"
     ]
    },
    {
     "name": "stdout",
     "output_type": "stream",
     "text": [
      "\n",
      "epoch 11: train average loss: 6.798 | acc: 99.48% (23546/23670)\n"
     ]
    },
    {
     "name": "stderr",
     "output_type": "stream",
     "text": [
      "  4%|▎         | 11/300 [00:11<04:56,  1.03s/it]"
     ]
    },
    {
     "name": "stdout",
     "output_type": "stream",
     "text": [
      "\n",
      "epoch 11: test average loss: 8.840 | acc: 95.97% (2524/2630)\n",
      "EarlyStopping counter: 1/25 (best: 0.9681)\n",
      "\n",
      "epoch 12: train average loss: 6.649 | acc: 99.59% (23572/23670)\n"
     ]
    },
    {
     "name": "stderr",
     "output_type": "stream",
     "text": [
      "  4%|▍         | 12/300 [00:12<04:55,  1.03s/it]"
     ]
    },
    {
     "name": "stdout",
     "output_type": "stream",
     "text": [
      "\n",
      "epoch 12: test average loss: 8.570 | acc: 96.73% (2544/2630)\n",
      "EarlyStopping counter: 2/25 (best: 0.9681)\n",
      "\n",
      "epoch 13: train average loss: 6.527 | acc: 99.64% (23584/23670)\n",
      "\n",
      "epoch 13: test average loss: 8.395 | acc: 97.83% (2573/2630)\n",
      "best test acc found\n"
     ]
    },
    {
     "name": "stderr",
     "output_type": "stream",
     "text": [
      "  4%|▍         | 13/300 [00:13<04:58,  1.04s/it]"
     ]
    },
    {
     "name": "stdout",
     "output_type": "stream",
     "text": [
      "\n",
      "epoch 14: train average loss: 6.380 | acc: 99.76% (23613/23670)\n"
     ]
    },
    {
     "name": "stderr",
     "output_type": "stream",
     "text": [
      "  5%|▍         | 14/300 [00:14<04:54,  1.03s/it]"
     ]
    },
    {
     "name": "stdout",
     "output_type": "stream",
     "text": [
      "\n",
      "epoch 14: test average loss: 8.705 | acc: 96.92% (2549/2630)\n",
      "EarlyStopping counter: 1/25 (best: 0.9783)\n",
      "\n",
      "epoch 15: train average loss: 6.357 | acc: 99.76% (23614/23670)\n"
     ]
    },
    {
     "name": "stderr",
     "output_type": "stream",
     "text": [
      "  5%|▌         | 15/300 [00:15<04:45,  1.00s/it]"
     ]
    },
    {
     "name": "stdout",
     "output_type": "stream",
     "text": [
      "\n",
      "epoch 15: test average loss: 8.407 | acc: 97.38% (2561/2630)\n",
      "EarlyStopping counter: 2/25 (best: 0.9783)\n",
      "\n",
      "epoch 16: train average loss: 6.250 | acc: 99.85% (23634/23670)\n",
      "\n",
      "epoch 16: test average loss: 8.725 | acc: 97.53% (2565/2630)\n"
     ]
    },
    {
     "name": "stderr",
     "output_type": "stream",
     "text": [
      "  5%|▌         | 16/300 [00:16<04:47,  1.01s/it]"
     ]
    },
    {
     "name": "stdout",
     "output_type": "stream",
     "text": [
      "EarlyStopping counter: 3/25 (best: 0.9783)\n",
      "\n",
      "epoch 17: train average loss: 6.185 | acc: 99.85% (23635/23670)\n"
     ]
    },
    {
     "name": "stderr",
     "output_type": "stream",
     "text": [
      "  6%|▌         | 17/300 [00:17<04:46,  1.01s/it]"
     ]
    },
    {
     "name": "stdout",
     "output_type": "stream",
     "text": [
      "\n",
      "epoch 17: test average loss: 8.330 | acc: 97.26% (2558/2630)\n",
      "EarlyStopping counter: 4/25 (best: 0.9783)\n",
      "\n",
      "epoch 18: train average loss: 6.120 | acc: 99.95% (23657/23670)\n"
     ]
    },
    {
     "name": "stderr",
     "output_type": "stream",
     "text": [
      "  6%|▌         | 18/300 [00:18<04:43,  1.01s/it]"
     ]
    },
    {
     "name": "stdout",
     "output_type": "stream",
     "text": [
      "\n",
      "epoch 18: test average loss: 8.368 | acc: 96.84% (2547/2630)\n",
      "EarlyStopping counter: 5/25 (best: 0.9783)\n",
      "\n",
      "epoch 19: train average loss: 6.041 | acc: 99.96% (23661/23670)\n"
     ]
    },
    {
     "name": "stderr",
     "output_type": "stream",
     "text": [
      "  6%|▋         | 19/300 [00:19<04:53,  1.05s/it]"
     ]
    },
    {
     "name": "stdout",
     "output_type": "stream",
     "text": [
      "\n",
      "epoch 19: test average loss: 8.222 | acc: 97.91% (2575/2630)\n",
      "best test acc found\n",
      "\n",
      "epoch 20: train average loss: 5.983 | acc: 99.93% (23654/23670)\n"
     ]
    },
    {
     "name": "stderr",
     "output_type": "stream",
     "text": [
      "  7%|▋         | 20/300 [00:20<04:52,  1.05s/it]"
     ]
    },
    {
     "name": "stdout",
     "output_type": "stream",
     "text": [
      "\n",
      "epoch 20: test average loss: 8.697 | acc: 97.60% (2567/2630)\n",
      "EarlyStopping counter: 1/25 (best: 0.9791)\n",
      "\n",
      "epoch 21: train average loss: 5.919 | acc: 99.95% (23658/23670)\n"
     ]
    },
    {
     "name": "stderr",
     "output_type": "stream",
     "text": [
      "  7%|▋         | 21/300 [00:21<04:47,  1.03s/it]"
     ]
    },
    {
     "name": "stdout",
     "output_type": "stream",
     "text": [
      "\n",
      "epoch 21: test average loss: 8.252 | acc: 97.64% (2568/2630)\n",
      "EarlyStopping counter: 2/25 (best: 0.9791)\n",
      "\n",
      "epoch 22: train average loss: 5.890 | acc: 99.92% (23652/23670)\n"
     ]
    },
    {
     "name": "stderr",
     "output_type": "stream",
     "text": [
      "  7%|▋         | 22/300 [00:22<04:52,  1.05s/it]"
     ]
    },
    {
     "name": "stdout",
     "output_type": "stream",
     "text": [
      "\n",
      "epoch 22: test average loss: 8.354 | acc: 97.68% (2569/2630)\n",
      "EarlyStopping counter: 3/25 (best: 0.9791)\n",
      "\n",
      "epoch 23: train average loss: 5.860 | acc: 99.96% (23661/23670)\n"
     ]
    },
    {
     "name": "stderr",
     "output_type": "stream",
     "text": [
      "  8%|▊         | 23/300 [00:23<04:50,  1.05s/it]"
     ]
    },
    {
     "name": "stdout",
     "output_type": "stream",
     "text": [
      "\n",
      "epoch 23: test average loss: 8.415 | acc: 97.87% (2574/2630)\n",
      "EarlyStopping counter: 4/25 (best: 0.9791)\n",
      "\n",
      "epoch 24: train average loss: 5.791 | acc: 99.98% (23666/23670)\n"
     ]
    },
    {
     "name": "stderr",
     "output_type": "stream",
     "text": [
      "  8%|▊         | 24/300 [00:24<04:44,  1.03s/it]"
     ]
    },
    {
     "name": "stdout",
     "output_type": "stream",
     "text": [
      "\n",
      "epoch 24: test average loss: 8.292 | acc: 97.72% (2570/2630)\n",
      "EarlyStopping counter: 5/25 (best: 0.9791)\n",
      "\n",
      "epoch 25: train average loss: 5.746 | acc: 99.99% (23668/23670)\n",
      "\n",
      "epoch 25: test average loss: 8.615 | acc: 98.02% (2578/2630)\n"
     ]
    },
    {
     "name": "stderr",
     "output_type": "stream",
     "text": [
      "  8%|▊         | 25/300 [00:25<04:40,  1.02s/it]"
     ]
    },
    {
     "name": "stdout",
     "output_type": "stream",
     "text": [
      "best test acc found\n",
      "\n",
      "epoch 26: train average loss: 5.739 | acc: 99.95% (23659/23670)\n"
     ]
    },
    {
     "name": "stderr",
     "output_type": "stream",
     "text": [
      "  9%|▊         | 26/300 [00:26<04:36,  1.01s/it]"
     ]
    },
    {
     "name": "stdout",
     "output_type": "stream",
     "text": [
      "\n",
      "epoch 26: test average loss: 8.622 | acc: 97.76% (2571/2630)\n",
      "EarlyStopping counter: 1/25 (best: 0.9802)\n",
      "\n",
      "epoch 27: train average loss: 5.661 | acc: 100.00% (23670/23670)\n"
     ]
    },
    {
     "name": "stderr",
     "output_type": "stream",
     "text": [
      "  9%|▉         | 27/300 [00:27<04:44,  1.04s/it]"
     ]
    },
    {
     "name": "stdout",
     "output_type": "stream",
     "text": [
      "\n",
      "epoch 27: test average loss: 8.447 | acc: 97.98% (2577/2630)\n",
      "EarlyStopping counter: 2/25 (best: 0.9802)\n",
      "\n",
      "epoch 28: train average loss: 5.634 | acc: 99.98% (23666/23670)\n"
     ]
    },
    {
     "name": "stderr",
     "output_type": "stream",
     "text": [
      "  9%|▉         | 28/300 [00:28<04:41,  1.03s/it]"
     ]
    },
    {
     "name": "stdout",
     "output_type": "stream",
     "text": [
      "\n",
      "epoch 28: test average loss: 8.551 | acc: 97.87% (2574/2630)\n",
      "EarlyStopping counter: 3/25 (best: 0.9802)\n",
      "\n",
      "epoch 29: train average loss: 5.588 | acc: 100.00% (23670/23670)\n"
     ]
    },
    {
     "name": "stderr",
     "output_type": "stream",
     "text": [
      " 10%|▉         | 29/300 [00:29<04:50,  1.07s/it]"
     ]
    },
    {
     "name": "stdout",
     "output_type": "stream",
     "text": [
      "\n",
      "epoch 29: test average loss: 8.772 | acc: 98.02% (2578/2630)\n",
      "EarlyStopping counter: 4/25 (best: 0.9802)\n",
      "\n",
      "epoch 30: train average loss: 5.587 | acc: 99.98% (23666/23670)\n"
     ]
    },
    {
     "name": "stderr",
     "output_type": "stream",
     "text": [
      " 10%|█         | 30/300 [00:31<04:47,  1.07s/it]"
     ]
    },
    {
     "name": "stdout",
     "output_type": "stream",
     "text": [
      "\n",
      "epoch 30: test average loss: 8.712 | acc: 97.83% (2573/2630)\n",
      "EarlyStopping counter: 5/25 (best: 0.9802)\n",
      "\n",
      "epoch 31: train average loss: 5.541 | acc: 100.00% (23669/23670)\n"
     ]
    },
    {
     "name": "stderr",
     "output_type": "stream",
     "text": [
      " 10%|█         | 31/300 [00:32<04:50,  1.08s/it]"
     ]
    },
    {
     "name": "stdout",
     "output_type": "stream",
     "text": [
      "\n",
      "epoch 31: test average loss: 8.702 | acc: 97.91% (2575/2630)\n",
      "EarlyStopping counter: 6/25 (best: 0.9802)\n",
      "\n",
      "epoch 32: train average loss: 5.511 | acc: 99.99% (23668/23670)\n"
     ]
    },
    {
     "name": "stderr",
     "output_type": "stream",
     "text": [
      " 11%|█         | 32/300 [00:33<04:46,  1.07s/it]"
     ]
    },
    {
     "name": "stdout",
     "output_type": "stream",
     "text": [
      "\n",
      "epoch 32: test average loss: 8.853 | acc: 97.79% (2572/2630)\n",
      "EarlyStopping counter: 7/25 (best: 0.9802)\n",
      "\n",
      "epoch 33: train average loss: 5.502 | acc: 99.98% (23665/23670)\n"
     ]
    },
    {
     "name": "stderr",
     "output_type": "stream",
     "text": [
      " 11%|█         | 33/300 [00:34<04:48,  1.08s/it]"
     ]
    },
    {
     "name": "stdout",
     "output_type": "stream",
     "text": [
      "\n",
      "epoch 33: test average loss: 8.719 | acc: 97.83% (2573/2630)\n",
      "EarlyStopping counter: 8/25 (best: 0.9802)\n",
      "\n",
      "epoch 34: train average loss: 5.466 | acc: 100.00% (23669/23670)\n"
     ]
    },
    {
     "name": "stderr",
     "output_type": "stream",
     "text": [
      " 11%|█▏        | 34/300 [00:35<04:39,  1.05s/it]"
     ]
    },
    {
     "name": "stdout",
     "output_type": "stream",
     "text": [
      "\n",
      "epoch 34: test average loss: 8.808 | acc: 97.76% (2571/2630)\n",
      "EarlyStopping counter: 9/25 (best: 0.9802)\n",
      "\n",
      "epoch 35: train average loss: 5.444 | acc: 100.00% (23670/23670)\n"
     ]
    },
    {
     "name": "stderr",
     "output_type": "stream",
     "text": [
      " 12%|█▏        | 35/300 [00:36<04:34,  1.03s/it]"
     ]
    },
    {
     "name": "stdout",
     "output_type": "stream",
     "text": [
      "\n",
      "epoch 35: test average loss: 8.873 | acc: 97.83% (2573/2630)\n",
      "EarlyStopping counter: 10/25 (best: 0.9802)\n",
      "\n",
      "epoch 36: train average loss: 5.402 | acc: 100.00% (23670/23670)\n"
     ]
    },
    {
     "name": "stderr",
     "output_type": "stream",
     "text": [
      " 12%|█▏        | 36/300 [00:37<04:30,  1.02s/it]"
     ]
    },
    {
     "name": "stdout",
     "output_type": "stream",
     "text": [
      "\n",
      "epoch 36: test average loss: 8.791 | acc: 97.87% (2574/2630)\n",
      "EarlyStopping counter: 11/25 (best: 0.9802)\n",
      "\n",
      "epoch 37: train average loss: 5.389 | acc: 100.00% (23670/23670)\n",
      "\n",
      "epoch 37: test average loss: 8.692 | acc: 98.10% (2580/2630)\n",
      "best test acc found\n"
     ]
    },
    {
     "name": "stderr",
     "output_type": "stream",
     "text": [
      " 12%|█▏        | 37/300 [00:38<04:27,  1.02s/it]"
     ]
    },
    {
     "name": "stdout",
     "output_type": "stream",
     "text": [
      "\n",
      "epoch 38: train average loss: 5.345 | acc: 100.00% (23670/23670)\n"
     ]
    },
    {
     "name": "stderr",
     "output_type": "stream",
     "text": [
      " 13%|█▎        | 38/300 [00:39<04:29,  1.03s/it]"
     ]
    },
    {
     "name": "stdout",
     "output_type": "stream",
     "text": [
      "\n",
      "epoch 38: test average loss: 8.755 | acc: 97.91% (2575/2630)\n",
      "EarlyStopping counter: 1/25 (best: 0.9810)\n",
      "\n",
      "epoch 39: train average loss: 5.319 | acc: 100.00% (23670/23670)\n"
     ]
    },
    {
     "name": "stderr",
     "output_type": "stream",
     "text": [
      " 13%|█▎        | 39/300 [00:40<04:32,  1.04s/it]"
     ]
    },
    {
     "name": "stdout",
     "output_type": "stream",
     "text": [
      "\n",
      "epoch 39: test average loss: 8.745 | acc: 98.06% (2579/2630)\n",
      "EarlyStopping counter: 2/25 (best: 0.9810)\n",
      "\n",
      "epoch 40: train average loss: 5.299 | acc: 100.00% (23670/23670)\n",
      "\n",
      "epoch 40: test average loss: 8.914 | acc: 98.17% (2582/2630)\n",
      "best test acc found\n"
     ]
    },
    {
     "name": "stderr",
     "output_type": "stream",
     "text": [
      " 13%|█▎        | 40/300 [00:41<04:28,  1.03s/it]"
     ]
    },
    {
     "name": "stdout",
     "output_type": "stream",
     "text": [
      "\n",
      "epoch 41: train average loss: 5.290 | acc: 100.00% (23670/23670)\n"
     ]
    },
    {
     "name": "stderr",
     "output_type": "stream",
     "text": [
      " 14%|█▎        | 41/300 [00:42<04:27,  1.03s/it]"
     ]
    },
    {
     "name": "stdout",
     "output_type": "stream",
     "text": [
      "\n",
      "epoch 41: test average loss: 8.961 | acc: 97.98% (2577/2630)\n",
      "EarlyStopping counter: 1/25 (best: 0.9817)\n",
      "\n",
      "epoch 42: train average loss: 5.278 | acc: 100.00% (23670/23670)\n"
     ]
    },
    {
     "name": "stderr",
     "output_type": "stream",
     "text": [
      " 14%|█▍        | 42/300 [00:43<04:29,  1.04s/it]"
     ]
    },
    {
     "name": "stdout",
     "output_type": "stream",
     "text": [
      "\n",
      "epoch 42: test average loss: 8.975 | acc: 98.10% (2580/2630)\n",
      "EarlyStopping counter: 2/25 (best: 0.9817)\n",
      "\n",
      "epoch 43: train average loss: 5.263 | acc: 100.00% (23670/23670)\n"
     ]
    },
    {
     "name": "stderr",
     "output_type": "stream",
     "text": [
      " 14%|█▍        | 43/300 [00:44<04:27,  1.04s/it]"
     ]
    },
    {
     "name": "stdout",
     "output_type": "stream",
     "text": [
      "\n",
      "epoch 43: test average loss: 8.990 | acc: 97.95% (2576/2630)\n",
      "EarlyStopping counter: 3/25 (best: 0.9817)\n",
      "\n",
      "epoch 44: train average loss: 5.248 | acc: 100.00% (23670/23670)\n"
     ]
    },
    {
     "name": "stderr",
     "output_type": "stream",
     "text": [
      " 15%|█▍        | 44/300 [00:45<04:21,  1.02s/it]"
     ]
    },
    {
     "name": "stdout",
     "output_type": "stream",
     "text": [
      "\n",
      "epoch 44: test average loss: 8.944 | acc: 98.14% (2581/2630)\n",
      "EarlyStopping counter: 4/25 (best: 0.9817)\n",
      "\n",
      "epoch 45: train average loss: 5.234 | acc: 100.00% (23670/23670)\n"
     ]
    },
    {
     "name": "stderr",
     "output_type": "stream",
     "text": [
      " 15%|█▌        | 45/300 [00:46<04:17,  1.01s/it]"
     ]
    },
    {
     "name": "stdout",
     "output_type": "stream",
     "text": [
      "\n",
      "epoch 45: test average loss: 8.971 | acc: 98.10% (2580/2630)\n",
      "EarlyStopping counter: 5/25 (best: 0.9817)\n",
      "\n",
      "epoch 46: train average loss: 5.228 | acc: 100.00% (23670/23670)\n"
     ]
    },
    {
     "name": "stderr",
     "output_type": "stream",
     "text": [
      " 15%|█▌        | 46/300 [00:47<04:14,  1.00s/it]"
     ]
    },
    {
     "name": "stdout",
     "output_type": "stream",
     "text": [
      "\n",
      "epoch 46: test average loss: 8.976 | acc: 98.17% (2582/2630)\n",
      "EarlyStopping counter: 6/25 (best: 0.9817)\n",
      "\n",
      "epoch 47: train average loss: 5.210 | acc: 100.00% (23670/23670)\n"
     ]
    },
    {
     "name": "stderr",
     "output_type": "stream",
     "text": [
      " 16%|█▌        | 47/300 [00:48<04:12,  1.00it/s]"
     ]
    },
    {
     "name": "stdout",
     "output_type": "stream",
     "text": [
      "\n",
      "epoch 47: test average loss: 9.071 | acc: 98.17% (2582/2630)\n",
      "EarlyStopping counter: 7/25 (best: 0.9817)\n",
      "\n",
      "epoch 48: train average loss: 5.197 | acc: 100.00% (23670/23670)\n"
     ]
    },
    {
     "name": "stderr",
     "output_type": "stream",
     "text": [
      " 16%|█▌        | 48/300 [00:49<04:18,  1.03s/it]"
     ]
    },
    {
     "name": "stdout",
     "output_type": "stream",
     "text": [
      "\n",
      "epoch 48: test average loss: 8.963 | acc: 98.21% (2583/2630)\n",
      "best test acc found\n",
      "\n",
      "epoch 49: train average loss: 5.191 | acc: 100.00% (23670/23670)\n"
     ]
    },
    {
     "name": "stderr",
     "output_type": "stream",
     "text": [
      " 16%|█▋        | 49/300 [00:50<04:23,  1.05s/it]"
     ]
    },
    {
     "name": "stdout",
     "output_type": "stream",
     "text": [
      "\n",
      "epoch 49: test average loss: 9.044 | acc: 98.10% (2580/2630)\n",
      "EarlyStopping counter: 1/25 (best: 0.9821)\n",
      "\n",
      "epoch 50: train average loss: 5.189 | acc: 100.00% (23670/23670)\n"
     ]
    },
    {
     "name": "stderr",
     "output_type": "stream",
     "text": [
      " 17%|█▋        | 50/300 [00:51<04:17,  1.03s/it]"
     ]
    },
    {
     "name": "stdout",
     "output_type": "stream",
     "text": [
      "\n",
      "epoch 50: test average loss: 8.991 | acc: 98.14% (2581/2630)\n",
      "EarlyStopping counter: 2/25 (best: 0.9821)\n",
      "\n",
      "epoch 51: train average loss: 5.179 | acc: 100.00% (23670/23670)\n"
     ]
    },
    {
     "name": "stderr",
     "output_type": "stream",
     "text": [
      " 17%|█▋        | 51/300 [00:52<04:13,  1.02s/it]"
     ]
    },
    {
     "name": "stdout",
     "output_type": "stream",
     "text": [
      "\n",
      "epoch 51: test average loss: 9.055 | acc: 98.10% (2580/2630)\n",
      "EarlyStopping counter: 3/25 (best: 0.9821)\n",
      "\n",
      "epoch 52: train average loss: 5.171 | acc: 100.00% (23670/23670)\n"
     ]
    },
    {
     "name": "stderr",
     "output_type": "stream",
     "text": [
      " 17%|█▋        | 52/300 [00:53<04:13,  1.02s/it]"
     ]
    },
    {
     "name": "stdout",
     "output_type": "stream",
     "text": [
      "\n",
      "epoch 52: test average loss: 9.044 | acc: 98.17% (2582/2630)\n",
      "EarlyStopping counter: 4/25 (best: 0.9821)\n",
      "\n",
      "epoch 53: train average loss: 5.177 | acc: 100.00% (23670/23670)\n"
     ]
    },
    {
     "name": "stderr",
     "output_type": "stream",
     "text": [
      " 18%|█▊        | 53/300 [00:54<04:14,  1.03s/it]"
     ]
    },
    {
     "name": "stdout",
     "output_type": "stream",
     "text": [
      "\n",
      "epoch 53: test average loss: 9.006 | acc: 98.14% (2581/2630)\n",
      "EarlyStopping counter: 5/25 (best: 0.9821)\n",
      "\n",
      "epoch 54: train average loss: 5.166 | acc: 100.00% (23670/23670)\n"
     ]
    },
    {
     "name": "stderr",
     "output_type": "stream",
     "text": [
      " 18%|█▊        | 54/300 [00:55<04:09,  1.01s/it]"
     ]
    },
    {
     "name": "stdout",
     "output_type": "stream",
     "text": [
      "\n",
      "epoch 54: test average loss: 9.103 | acc: 98.06% (2579/2630)\n",
      "EarlyStopping counter: 6/25 (best: 0.9821)\n",
      "\n",
      "epoch 55: train average loss: 5.160 | acc: 100.00% (23670/23670)\n",
      "\n",
      "epoch 55: test average loss: 9.081 | acc: 98.06% (2579/2630)\n"
     ]
    },
    {
     "name": "stderr",
     "output_type": "stream",
     "text": [
      " 18%|█▊        | 55/300 [00:56<04:07,  1.01s/it]"
     ]
    },
    {
     "name": "stdout",
     "output_type": "stream",
     "text": [
      "EarlyStopping counter: 7/25 (best: 0.9821)\n",
      "\n",
      "epoch 56: train average loss: 5.167 | acc: 100.00% (23670/23670)\n"
     ]
    },
    {
     "name": "stderr",
     "output_type": "stream",
     "text": [
      " 19%|█▊        | 56/300 [00:57<04:08,  1.02s/it]"
     ]
    },
    {
     "name": "stdout",
     "output_type": "stream",
     "text": [
      "\n",
      "epoch 56: test average loss: 9.057 | acc: 98.10% (2580/2630)\n",
      "EarlyStopping counter: 8/25 (best: 0.9821)\n",
      "\n",
      "epoch 57: train average loss: 5.157 | acc: 100.00% (23670/23670)\n",
      "\n",
      "epoch 57: test average loss: 9.056 | acc: 98.14% (2581/2630)\n"
     ]
    },
    {
     "name": "stderr",
     "output_type": "stream",
     "text": [
      " 19%|█▉        | 57/300 [00:58<04:03,  1.00s/it]"
     ]
    },
    {
     "name": "stdout",
     "output_type": "stream",
     "text": [
      "EarlyStopping counter: 9/25 (best: 0.9821)\n",
      "\n",
      "epoch 58: train average loss: 5.159 | acc: 100.00% (23670/23670)\n"
     ]
    },
    {
     "name": "stderr",
     "output_type": "stream",
     "text": [
      " 19%|█▉        | 58/300 [00:59<04:10,  1.03s/it]"
     ]
    },
    {
     "name": "stdout",
     "output_type": "stream",
     "text": [
      "\n",
      "epoch 58: test average loss: 9.066 | acc: 98.14% (2581/2630)\n",
      "EarlyStopping counter: 10/25 (best: 0.9821)\n",
      "\n",
      "epoch 59: train average loss: 5.156 | acc: 100.00% (23670/23670)\n"
     ]
    },
    {
     "name": "stderr",
     "output_type": "stream",
     "text": [
      " 20%|█▉        | 59/300 [01:00<04:16,  1.06s/it]"
     ]
    },
    {
     "name": "stdout",
     "output_type": "stream",
     "text": [
      "\n",
      "epoch 59: test average loss: 9.061 | acc: 98.14% (2581/2630)\n",
      "EarlyStopping counter: 11/25 (best: 0.9821)\n",
      "\n",
      "epoch 60: train average loss: 5.160 | acc: 100.00% (23670/23670)\n"
     ]
    },
    {
     "name": "stderr",
     "output_type": "stream",
     "text": [
      " 20%|██        | 60/300 [01:01<04:14,  1.06s/it]"
     ]
    },
    {
     "name": "stdout",
     "output_type": "stream",
     "text": [
      "\n",
      "epoch 60: test average loss: 9.077 | acc: 98.17% (2582/2630)\n",
      "EarlyStopping counter: 12/25 (best: 0.9821)\n",
      "\n",
      "epoch 61: train average loss: 5.165 | acc: 100.00% (23670/23670)\n"
     ]
    },
    {
     "name": "stderr",
     "output_type": "stream",
     "text": [
      " 20%|██        | 61/300 [01:03<04:13,  1.06s/it]"
     ]
    },
    {
     "name": "stdout",
     "output_type": "stream",
     "text": [
      "\n",
      "epoch 61: test average loss: 9.067 | acc: 98.10% (2580/2630)\n",
      "EarlyStopping counter: 13/25 (best: 0.9821)\n",
      "\n",
      "epoch 62: train average loss: 5.160 | acc: 100.00% (23670/23670)\n"
     ]
    },
    {
     "name": "stderr",
     "output_type": "stream",
     "text": [
      " 21%|██        | 62/300 [01:04<04:11,  1.06s/it]"
     ]
    },
    {
     "name": "stdout",
     "output_type": "stream",
     "text": [
      "\n",
      "epoch 62: test average loss: 9.062 | acc: 98.17% (2582/2630)\n",
      "EarlyStopping counter: 14/25 (best: 0.9821)\n",
      "\n",
      "epoch 63: train average loss: 5.155 | acc: 100.00% (23670/23670)\n"
     ]
    },
    {
     "name": "stderr",
     "output_type": "stream",
     "text": [
      " 21%|██        | 63/300 [01:05<04:11,  1.06s/it]"
     ]
    },
    {
     "name": "stdout",
     "output_type": "stream",
     "text": [
      "\n",
      "epoch 63: test average loss: 9.076 | acc: 98.06% (2579/2630)\n",
      "EarlyStopping counter: 15/25 (best: 0.9821)\n",
      "\n",
      "epoch 64: train average loss: 5.147 | acc: 100.00% (23670/23670)\n"
     ]
    },
    {
     "name": "stderr",
     "output_type": "stream",
     "text": [
      " 21%|██▏       | 64/300 [01:06<04:05,  1.04s/it]"
     ]
    },
    {
     "name": "stdout",
     "output_type": "stream",
     "text": [
      "\n",
      "epoch 64: test average loss: 9.052 | acc: 98.17% (2582/2630)\n",
      "EarlyStopping counter: 16/25 (best: 0.9821)\n",
      "\n",
      "epoch 65: train average loss: 5.156 | acc: 100.00% (23670/23670)\n"
     ]
    },
    {
     "name": "stderr",
     "output_type": "stream",
     "text": [
      " 22%|██▏       | 65/300 [01:07<03:58,  1.02s/it]"
     ]
    },
    {
     "name": "stdout",
     "output_type": "stream",
     "text": [
      "\n",
      "epoch 65: test average loss: 9.055 | acc: 98.14% (2581/2630)\n",
      "EarlyStopping counter: 17/25 (best: 0.9821)\n",
      "\n",
      "epoch 66: train average loss: 5.159 | acc: 100.00% (23670/23670)\n"
     ]
    },
    {
     "name": "stderr",
     "output_type": "stream",
     "text": [
      " 22%|██▏       | 66/300 [01:08<03:57,  1.02s/it]"
     ]
    },
    {
     "name": "stdout",
     "output_type": "stream",
     "text": [
      "\n",
      "epoch 66: test average loss: 9.068 | acc: 98.06% (2579/2630)\n",
      "EarlyStopping counter: 18/25 (best: 0.9821)\n",
      "\n",
      "epoch 67: train average loss: 5.153 | acc: 100.00% (23670/23670)\n"
     ]
    },
    {
     "name": "stderr",
     "output_type": "stream",
     "text": [
      " 22%|██▏       | 67/300 [01:09<03:55,  1.01s/it]"
     ]
    },
    {
     "name": "stdout",
     "output_type": "stream",
     "text": [
      "\n",
      "epoch 67: test average loss: 9.033 | acc: 98.10% (2580/2630)\n",
      "EarlyStopping counter: 19/25 (best: 0.9821)\n",
      "\n",
      "epoch 68: train average loss: 5.151 | acc: 100.00% (23670/23670)\n"
     ]
    },
    {
     "name": "stderr",
     "output_type": "stream",
     "text": [
      " 23%|██▎       | 68/300 [01:10<03:59,  1.03s/it]"
     ]
    },
    {
     "name": "stdout",
     "output_type": "stream",
     "text": [
      "\n",
      "epoch 68: test average loss: 9.087 | acc: 98.10% (2580/2630)\n",
      "EarlyStopping counter: 20/25 (best: 0.9821)\n",
      "\n",
      "epoch 69: train average loss: 5.149 | acc: 100.00% (23670/23670)\n"
     ]
    },
    {
     "name": "stderr",
     "output_type": "stream",
     "text": [
      " 23%|██▎       | 69/300 [01:11<03:57,  1.03s/it]"
     ]
    },
    {
     "name": "stdout",
     "output_type": "stream",
     "text": [
      "\n",
      "epoch 69: test average loss: 9.107 | acc: 97.98% (2577/2630)\n",
      "EarlyStopping counter: 21/25 (best: 0.9821)\n",
      "\n",
      "epoch 70: train average loss: 5.154 | acc: 100.00% (23670/23670)\n"
     ]
    },
    {
     "name": "stderr",
     "output_type": "stream",
     "text": [
      " 23%|██▎       | 70/300 [01:12<03:54,  1.02s/it]"
     ]
    },
    {
     "name": "stdout",
     "output_type": "stream",
     "text": [
      "\n",
      "epoch 70: test average loss: 9.090 | acc: 98.17% (2582/2630)\n",
      "EarlyStopping counter: 22/25 (best: 0.9821)\n",
      "\n",
      "epoch 71: train average loss: 5.162 | acc: 100.00% (23670/23670)\n"
     ]
    },
    {
     "name": "stderr",
     "output_type": "stream",
     "text": [
      " 24%|██▎       | 71/300 [01:13<03:52,  1.02s/it]"
     ]
    },
    {
     "name": "stdout",
     "output_type": "stream",
     "text": [
      "\n",
      "epoch 71: test average loss: 9.095 | acc: 98.14% (2581/2630)\n",
      "EarlyStopping counter: 23/25 (best: 0.9821)\n",
      "\n",
      "epoch 72: train average loss: 5.153 | acc: 100.00% (23670/23670)\n"
     ]
    },
    {
     "name": "stderr",
     "output_type": "stream",
     "text": [
      " 24%|██▍       | 72/300 [01:14<03:51,  1.01s/it]"
     ]
    },
    {
     "name": "stdout",
     "output_type": "stream",
     "text": [
      "\n",
      "epoch 72: test average loss: 9.135 | acc: 97.98% (2577/2630)\n",
      "EarlyStopping counter: 24/25 (best: 0.9821)\n",
      "\n",
      "epoch 73: train average loss: 5.155 | acc: 100.00% (23670/23670)\n"
     ]
    },
    {
     "name": "stderr",
     "output_type": "stream",
     "text": [
      " 24%|██▍       | 72/300 [01:15<03:58,  1.05s/it]"
     ]
    },
    {
     "name": "stdout",
     "output_type": "stream",
     "text": [
      "\n",
      "epoch 73: test average loss: 9.124 | acc: 98.02% (2578/2630)\n",
      "EarlyStopping counter: 25/25 (best: 0.9821)\n",
      "🔴 Early stopping triggered\n",
      "load model at epoch 48, with test acc : 0.982\n"
     ]
    },
    {
     "name": "stderr",
     "output_type": "stream",
     "text": [
      "\n",
      "/tmp/ipykernel_3076972/3696667578.py:175: FutureWarning:\n",
      "\n",
      "You are using `torch.load` with `weights_only=False` (the current default value), which uses the default pickle module implicitly. It is possible to construct malicious pickle data which will execute arbitrary code during unpickling (See https://github.com/pytorch/pytorch/blob/main/SECURITY.md#untrusted-models for more details). In a future release, the default value for `weights_only` will be flipped to `True`. This limits the functions that could be executed during unpickling. Arbitrary objects will no longer be allowed to be loaded via this mode unless they are explicitly allowlisted by the user via `torch.serialization.add_safe_globals`. We recommend you start setting `weights_only=True` for any use case where you don't have full control of the loaded file. Please open an issue on GitHub for any issues related to this experimental feature.\n",
      "\n"
     ]
    },
    {
     "name": "stdout",
     "output_type": "stream",
     "text": [
      "total 0.9821292775665399\n",
      "class 0 1.0\n",
      "class 1 0.9603960396039604\n",
      "class 2 0.9886363636363636\n",
      "class 3 0.9916142557651991\n",
      "class 4 0.9758308157099698\n",
      "class 5 0.9568106312292359\n",
      "class 6 0.9896907216494846\n",
      "class 7 0.9777777777777777\n",
      "class 8 1.0\n",
      "class 9 0.9840909090909091\n",
      "Train t-SNE interactive HTML saved to variant_lenet_low_test_accuracy_combined_train.html\n",
      "Test t-SNE interactive HTML saved to variant_lenet_low_test_accuracy_combined_test.html\n",
      "                                                             0\n",
      "Accuracy                                                0.9821\n",
      "Recall       [1.0, 0.9604, 0.9886, 0.9916, 0.9758, 0.9568, ...\n",
      "Specificity  [1.0, 0.9963, 0.9986, 0.9981, 0.9961, 0.997, 0...\n",
      "Precision    [1.0, 0.9557, 0.9932, 0.9916, 0.9729, 0.9763, ...\n",
      "F1 Score     [1.0, 0.958, 0.9909, 0.9916, 0.9744, 0.9664, 0...\n",
      "6\n"
     ]
    },
    {
     "name": "stderr",
     "output_type": "stream",
     "text": [
      "  0%|          | 0/300 [00:00<?, ?it/s]"
     ]
    },
    {
     "name": "stdout",
     "output_type": "stream",
     "text": [
      "\n",
      "epoch 1: train average loss: 22.234 | acc: 79.37% (18787/23670)\n"
     ]
    },
    {
     "name": "stderr",
     "output_type": "stream",
     "text": [
      "  0%|          | 1/300 [00:00<04:43,  1.06it/s]"
     ]
    },
    {
     "name": "stdout",
     "output_type": "stream",
     "text": [
      "\n",
      "epoch 1: test average loss: 18.547 | acc: 91.48% (2406/2630)\n",
      "best test acc found\n",
      "\n",
      "epoch 2: train average loss: 15.937 | acc: 92.01% (21778/23670)\n"
     ]
    },
    {
     "name": "stderr",
     "output_type": "stream",
     "text": [
      "  1%|          | 2/300 [00:01<04:45,  1.05it/s]"
     ]
    },
    {
     "name": "stdout",
     "output_type": "stream",
     "text": [
      "\n",
      "epoch 2: test average loss: 13.844 | acc: 93.35% (2455/2630)\n",
      "best test acc found\n",
      "\n",
      "epoch 3: train average loss: 12.448 | acc: 94.71% (22417/23670)\n"
     ]
    },
    {
     "name": "stderr",
     "output_type": "stream",
     "text": [
      "  1%|          | 3/300 [00:02<04:51,  1.02it/s]"
     ]
    },
    {
     "name": "stdout",
     "output_type": "stream",
     "text": [
      "\n",
      "epoch 3: test average loss: 11.439 | acc: 91.79% (2414/2630)\n",
      "EarlyStopping counter: 1/25 (best: 0.9335)\n",
      "\n",
      "epoch 4: train average loss: 10.195 | acc: 96.02% (22728/23670)\n"
     ]
    },
    {
     "name": "stderr",
     "output_type": "stream",
     "text": [
      "  1%|▏         | 4/300 [00:03<04:58,  1.01s/it]"
     ]
    },
    {
     "name": "stdout",
     "output_type": "stream",
     "text": [
      "\n",
      "epoch 4: test average loss: 9.347 | acc: 95.89% (2522/2630)\n",
      "best test acc found\n",
      "\n",
      "epoch 5: train average loss: 8.798 | acc: 97.37% (23047/23670)\n"
     ]
    },
    {
     "name": "stderr",
     "output_type": "stream",
     "text": [
      "  2%|▏         | 5/300 [00:04<04:59,  1.01s/it]"
     ]
    },
    {
     "name": "stdout",
     "output_type": "stream",
     "text": [
      "\n",
      "epoch 5: test average loss: 8.969 | acc: 96.35% (2534/2630)\n",
      "best test acc found\n",
      "\n",
      "epoch 6: train average loss: 8.189 | acc: 98.09% (23219/23670)\n"
     ]
    },
    {
     "name": "stderr",
     "output_type": "stream",
     "text": [
      "  2%|▏         | 6/300 [00:05<04:56,  1.01s/it]"
     ]
    },
    {
     "name": "stdout",
     "output_type": "stream",
     "text": [
      "\n",
      "epoch 6: test average loss: 8.456 | acc: 95.97% (2524/2630)\n",
      "EarlyStopping counter: 1/25 (best: 0.9635)\n",
      "\n",
      "epoch 7: train average loss: 7.801 | acc: 98.47% (23308/23670)\n"
     ]
    },
    {
     "name": "stderr",
     "output_type": "stream",
     "text": [
      "  2%|▏         | 7/300 [00:06<04:52,  1.00it/s]"
     ]
    },
    {
     "name": "stdout",
     "output_type": "stream",
     "text": [
      "\n",
      "epoch 7: test average loss: 8.212 | acc: 96.24% (2531/2630)\n",
      "EarlyStopping counter: 2/25 (best: 0.9635)\n",
      "\n",
      "epoch 8: train average loss: 7.509 | acc: 98.79% (23384/23670)\n"
     ]
    },
    {
     "name": "stderr",
     "output_type": "stream",
     "text": [
      "  3%|▎         | 8/300 [00:07<04:53,  1.01s/it]"
     ]
    },
    {
     "name": "stdout",
     "output_type": "stream",
     "text": [
      "\n",
      "epoch 8: test average loss: 7.616 | acc: 97.30% (2559/2630)\n",
      "best test acc found\n",
      "\n",
      "epoch 9: train average loss: 7.209 | acc: 99.02% (23439/23670)\n"
     ]
    },
    {
     "name": "stderr",
     "output_type": "stream",
     "text": [
      "  3%|▎         | 9/300 [00:08<04:46,  1.01it/s]"
     ]
    },
    {
     "name": "stdout",
     "output_type": "stream",
     "text": [
      "\n",
      "epoch 9: test average loss: 7.719 | acc: 96.92% (2549/2630)\n",
      "EarlyStopping counter: 1/25 (best: 0.9730)\n",
      "\n",
      "epoch 10: train average loss: 7.023 | acc: 99.18% (23475/23670)\n",
      "\n",
      "epoch 10: test average loss: 7.397 | acc: 97.53% (2565/2630)\n",
      "best test acc found\n"
     ]
    },
    {
     "name": "stderr",
     "output_type": "stream",
     "text": [
      "  3%|▎         | 10/300 [00:09<04:42,  1.03it/s]"
     ]
    },
    {
     "name": "stdout",
     "output_type": "stream",
     "text": [
      "\n",
      "epoch 11: train average loss: 6.814 | acc: 99.41% (23530/23670)\n"
     ]
    },
    {
     "name": "stderr",
     "output_type": "stream",
     "text": [
      "  4%|▎         | 11/300 [00:10<04:39,  1.03it/s]"
     ]
    },
    {
     "name": "stdout",
     "output_type": "stream",
     "text": [
      "\n",
      "epoch 11: test average loss: 7.451 | acc: 96.96% (2550/2630)\n",
      "EarlyStopping counter: 1/25 (best: 0.9753)\n",
      "\n",
      "epoch 12: train average loss: 6.736 | acc: 99.48% (23548/23670)\n"
     ]
    },
    {
     "name": "stderr",
     "output_type": "stream",
     "text": [
      "  4%|▍         | 12/300 [00:11<04:39,  1.03it/s]"
     ]
    },
    {
     "name": "stdout",
     "output_type": "stream",
     "text": [
      "\n",
      "epoch 12: test average loss: 7.635 | acc: 97.19% (2556/2630)\n",
      "EarlyStopping counter: 2/25 (best: 0.9753)\n",
      "\n",
      "epoch 13: train average loss: 6.583 | acc: 99.65% (23586/23670)\n"
     ]
    },
    {
     "name": "stderr",
     "output_type": "stream",
     "text": [
      "  4%|▍         | 13/300 [00:12<04:46,  1.00it/s]"
     ]
    },
    {
     "name": "stdout",
     "output_type": "stream",
     "text": [
      "\n",
      "epoch 13: test average loss: 7.130 | acc: 97.87% (2574/2630)\n",
      "best test acc found\n",
      "\n",
      "epoch 14: train average loss: 6.463 | acc: 99.72% (23603/23670)\n"
     ]
    },
    {
     "name": "stderr",
     "output_type": "stream",
     "text": [
      "  5%|▍         | 14/300 [00:13<04:54,  1.03s/it]"
     ]
    },
    {
     "name": "stdout",
     "output_type": "stream",
     "text": [
      "\n",
      "epoch 14: test average loss: 7.539 | acc: 97.19% (2556/2630)\n",
      "EarlyStopping counter: 1/25 (best: 0.9787)\n",
      "\n",
      "epoch 15: train average loss: 6.299 | acc: 99.82% (23627/23670)\n"
     ]
    },
    {
     "name": "stderr",
     "output_type": "stream",
     "text": [
      "  5%|▌         | 15/300 [00:15<04:55,  1.04s/it]"
     ]
    },
    {
     "name": "stdout",
     "output_type": "stream",
     "text": [
      "\n",
      "epoch 15: test average loss: 7.237 | acc: 97.91% (2575/2630)\n",
      "best test acc found\n",
      "\n",
      "epoch 16: train average loss: 6.232 | acc: 99.78% (23619/23670)\n"
     ]
    },
    {
     "name": "stderr",
     "output_type": "stream",
     "text": [
      "  5%|▌         | 16/300 [00:16<04:58,  1.05s/it]"
     ]
    },
    {
     "name": "stdout",
     "output_type": "stream",
     "text": [
      "\n",
      "epoch 16: test average loss: 7.115 | acc: 98.06% (2579/2630)\n",
      "best test acc found\n",
      "\n",
      "epoch 17: train average loss: 6.196 | acc: 99.85% (23634/23670)\n"
     ]
    },
    {
     "name": "stderr",
     "output_type": "stream",
     "text": [
      "  6%|▌         | 17/300 [00:17<04:55,  1.04s/it]"
     ]
    },
    {
     "name": "stdout",
     "output_type": "stream",
     "text": [
      "\n",
      "epoch 17: test average loss: 6.996 | acc: 98.06% (2579/2630)\n",
      "EarlyStopping counter: 1/25 (best: 0.9806)\n",
      "\n",
      "epoch 18: train average loss: 6.125 | acc: 99.88% (23641/23670)\n",
      "\n",
      "epoch 18: test average loss: 6.969 | acc: 98.29% (2585/2630)\n"
     ]
    },
    {
     "name": "stderr",
     "output_type": "stream",
     "text": [
      "  6%|▌         | 18/300 [00:18<04:47,  1.02s/it]"
     ]
    },
    {
     "name": "stdout",
     "output_type": "stream",
     "text": [
      "best test acc found\n",
      "\n",
      "epoch 19: train average loss: 6.042 | acc: 99.93% (23653/23670)\n"
     ]
    },
    {
     "name": "stderr",
     "output_type": "stream",
     "text": [
      "  6%|▋         | 19/300 [00:19<04:40,  1.00it/s]"
     ]
    },
    {
     "name": "stdout",
     "output_type": "stream",
     "text": [
      "\n",
      "epoch 19: test average loss: 7.200 | acc: 98.06% (2579/2630)\n",
      "EarlyStopping counter: 1/25 (best: 0.9829)\n",
      "\n",
      "epoch 20: train average loss: 6.031 | acc: 99.92% (23652/23670)\n"
     ]
    },
    {
     "name": "stderr",
     "output_type": "stream",
     "text": [
      "  7%|▋         | 20/300 [00:19<04:34,  1.02it/s]"
     ]
    },
    {
     "name": "stdout",
     "output_type": "stream",
     "text": [
      "\n",
      "epoch 20: test average loss: 7.569 | acc: 97.98% (2577/2630)\n",
      "EarlyStopping counter: 2/25 (best: 0.9829)\n",
      "\n",
      "epoch 21: train average loss: 5.968 | acc: 99.97% (23664/23670)\n"
     ]
    },
    {
     "name": "stderr",
     "output_type": "stream",
     "text": [
      "  7%|▋         | 21/300 [00:20<04:34,  1.02it/s]"
     ]
    },
    {
     "name": "stdout",
     "output_type": "stream",
     "text": [
      "\n",
      "epoch 21: test average loss: 7.137 | acc: 98.29% (2585/2630)\n",
      "EarlyStopping counter: 3/25 (best: 0.9829)\n",
      "\n",
      "epoch 22: train average loss: 5.902 | acc: 99.96% (23661/23670)\n"
     ]
    },
    {
     "name": "stderr",
     "output_type": "stream",
     "text": [
      "  7%|▋         | 22/300 [00:21<04:34,  1.01it/s]"
     ]
    },
    {
     "name": "stdout",
     "output_type": "stream",
     "text": [
      "\n",
      "epoch 22: test average loss: 6.958 | acc: 97.95% (2576/2630)\n",
      "EarlyStopping counter: 4/25 (best: 0.9829)\n",
      "\n",
      "epoch 23: train average loss: 5.877 | acc: 99.95% (23657/23670)\n"
     ]
    },
    {
     "name": "stderr",
     "output_type": "stream",
     "text": [
      "  8%|▊         | 23/300 [00:23<04:38,  1.01s/it]"
     ]
    },
    {
     "name": "stdout",
     "output_type": "stream",
     "text": [
      "\n",
      "epoch 23: test average loss: 7.277 | acc: 98.33% (2586/2630)\n",
      "best test acc found\n",
      "\n",
      "epoch 24: train average loss: 5.835 | acc: 99.95% (23659/23670)\n"
     ]
    },
    {
     "name": "stderr",
     "output_type": "stream",
     "text": [
      "  8%|▊         | 24/300 [00:24<04:48,  1.04s/it]"
     ]
    },
    {
     "name": "stdout",
     "output_type": "stream",
     "text": [
      "\n",
      "epoch 24: test average loss: 7.137 | acc: 98.29% (2585/2630)\n",
      "EarlyStopping counter: 1/25 (best: 0.9833)\n",
      "\n",
      "epoch 25: train average loss: 5.777 | acc: 100.00% (23669/23670)\n"
     ]
    },
    {
     "name": "stderr",
     "output_type": "stream",
     "text": [
      "  8%|▊         | 25/300 [00:25<04:46,  1.04s/it]"
     ]
    },
    {
     "name": "stdout",
     "output_type": "stream",
     "text": [
      "\n",
      "epoch 25: test average loss: 7.872 | acc: 97.64% (2568/2630)\n",
      "EarlyStopping counter: 2/25 (best: 0.9833)\n",
      "\n",
      "epoch 26: train average loss: 5.731 | acc: 99.99% (23668/23670)\n"
     ]
    },
    {
     "name": "stderr",
     "output_type": "stream",
     "text": [
      "  9%|▊         | 26/300 [00:26<04:52,  1.07s/it]"
     ]
    },
    {
     "name": "stdout",
     "output_type": "stream",
     "text": [
      "\n",
      "epoch 26: test average loss: 7.110 | acc: 98.33% (2586/2630)\n",
      "EarlyStopping counter: 3/25 (best: 0.9833)\n",
      "\n",
      "epoch 27: train average loss: 5.706 | acc: 99.98% (23665/23670)\n"
     ]
    },
    {
     "name": "stderr",
     "output_type": "stream",
     "text": [
      "  9%|▉         | 27/300 [00:27<04:50,  1.06s/it]"
     ]
    },
    {
     "name": "stdout",
     "output_type": "stream",
     "text": [
      "\n",
      "epoch 27: test average loss: 7.305 | acc: 98.06% (2579/2630)\n",
      "EarlyStopping counter: 4/25 (best: 0.9833)\n",
      "\n",
      "epoch 28: train average loss: 5.648 | acc: 99.99% (23667/23670)\n"
     ]
    },
    {
     "name": "stderr",
     "output_type": "stream",
     "text": [
      "  9%|▉         | 28/300 [00:28<04:49,  1.07s/it]"
     ]
    },
    {
     "name": "stdout",
     "output_type": "stream",
     "text": [
      "\n",
      "epoch 28: test average loss: 7.191 | acc: 98.37% (2587/2630)\n",
      "best test acc found\n",
      "\n",
      "epoch 29: train average loss: 5.635 | acc: 99.99% (23668/23670)\n"
     ]
    },
    {
     "name": "stderr",
     "output_type": "stream",
     "text": [
      " 10%|▉         | 29/300 [00:29<04:45,  1.05s/it]"
     ]
    },
    {
     "name": "stdout",
     "output_type": "stream",
     "text": [
      "\n",
      "epoch 29: test average loss: 7.310 | acc: 98.40% (2588/2630)\n",
      "best test acc found\n",
      "\n",
      "epoch 30: train average loss: 5.595 | acc: 99.99% (23668/23670)\n"
     ]
    },
    {
     "name": "stderr",
     "output_type": "stream",
     "text": [
      " 10%|█         | 30/300 [00:30<04:42,  1.05s/it]"
     ]
    },
    {
     "name": "stdout",
     "output_type": "stream",
     "text": [
      "\n",
      "epoch 30: test average loss: 7.201 | acc: 98.37% (2587/2630)\n",
      "EarlyStopping counter: 1/25 (best: 0.9840)\n",
      "\n",
      "epoch 31: train average loss: 5.561 | acc: 100.00% (23669/23670)\n"
     ]
    },
    {
     "name": "stderr",
     "output_type": "stream",
     "text": [
      " 10%|█         | 31/300 [00:31<04:36,  1.03s/it]"
     ]
    },
    {
     "name": "stdout",
     "output_type": "stream",
     "text": [
      "\n",
      "epoch 31: test average loss: 7.167 | acc: 98.21% (2583/2630)\n",
      "EarlyStopping counter: 2/25 (best: 0.9840)\n",
      "\n",
      "epoch 32: train average loss: 5.535 | acc: 100.00% (23670/23670)\n",
      "\n",
      "epoch 32: test average loss: 6.938 | acc: 98.63% (2594/2630)\n",
      "best test acc found\n"
     ]
    },
    {
     "name": "stderr",
     "output_type": "stream",
     "text": [
      " 11%|█         | 32/300 [00:32<04:31,  1.01s/it]"
     ]
    },
    {
     "name": "stdout",
     "output_type": "stream",
     "text": [
      "\n",
      "epoch 33: train average loss: 5.523 | acc: 99.99% (23668/23670)\n"
     ]
    },
    {
     "name": "stderr",
     "output_type": "stream",
     "text": [
      " 11%|█         | 33/300 [00:33<04:40,  1.05s/it]"
     ]
    },
    {
     "name": "stdout",
     "output_type": "stream",
     "text": [
      "\n",
      "epoch 33: test average loss: 7.471 | acc: 98.33% (2586/2630)\n",
      "EarlyStopping counter: 1/25 (best: 0.9863)\n",
      "\n",
      "epoch 34: train average loss: 5.491 | acc: 100.00% (23669/23670)\n"
     ]
    },
    {
     "name": "stderr",
     "output_type": "stream",
     "text": [
      " 11%|█▏        | 34/300 [00:34<04:45,  1.07s/it]"
     ]
    },
    {
     "name": "stdout",
     "output_type": "stream",
     "text": [
      "\n",
      "epoch 34: test average loss: 7.479 | acc: 98.21% (2583/2630)\n",
      "EarlyStopping counter: 2/25 (best: 0.9863)\n",
      "\n",
      "epoch 35: train average loss: 5.438 | acc: 100.00% (23670/23670)\n"
     ]
    },
    {
     "name": "stderr",
     "output_type": "stream",
     "text": [
      " 12%|█▏        | 35/300 [00:35<04:44,  1.07s/it]"
     ]
    },
    {
     "name": "stdout",
     "output_type": "stream",
     "text": [
      "\n",
      "epoch 35: test average loss: 7.135 | acc: 98.52% (2591/2630)\n",
      "EarlyStopping counter: 3/25 (best: 0.9863)\n",
      "\n",
      "epoch 36: train average loss: 5.418 | acc: 100.00% (23670/23670)\n"
     ]
    },
    {
     "name": "stderr",
     "output_type": "stream",
     "text": [
      " 12%|█▏        | 36/300 [00:36<04:41,  1.06s/it]"
     ]
    },
    {
     "name": "stdout",
     "output_type": "stream",
     "text": [
      "\n",
      "epoch 36: test average loss: 7.136 | acc: 98.37% (2587/2630)\n",
      "EarlyStopping counter: 4/25 (best: 0.9863)\n",
      "\n",
      "epoch 37: train average loss: 5.412 | acc: 100.00% (23670/23670)\n"
     ]
    },
    {
     "name": "stderr",
     "output_type": "stream",
     "text": [
      " 12%|█▏        | 37/300 [00:37<04:38,  1.06s/it]"
     ]
    },
    {
     "name": "stdout",
     "output_type": "stream",
     "text": [
      "\n",
      "epoch 37: test average loss: 7.267 | acc: 98.56% (2592/2630)\n",
      "EarlyStopping counter: 5/25 (best: 0.9863)\n",
      "\n",
      "epoch 38: train average loss: 5.386 | acc: 100.00% (23670/23670)\n"
     ]
    },
    {
     "name": "stderr",
     "output_type": "stream",
     "text": [
      " 13%|█▎        | 38/300 [00:38<04:35,  1.05s/it]"
     ]
    },
    {
     "name": "stdout",
     "output_type": "stream",
     "text": [
      "\n",
      "epoch 38: test average loss: 7.261 | acc: 98.56% (2592/2630)\n",
      "EarlyStopping counter: 6/25 (best: 0.9863)\n",
      "\n",
      "epoch 39: train average loss: 5.350 | acc: 100.00% (23670/23670)\n"
     ]
    },
    {
     "name": "stderr",
     "output_type": "stream",
     "text": [
      " 13%|█▎        | 39/300 [00:39<04:28,  1.03s/it]"
     ]
    },
    {
     "name": "stdout",
     "output_type": "stream",
     "text": [
      "\n",
      "epoch 39: test average loss: 7.260 | acc: 98.67% (2595/2630)\n",
      "best test acc found\n",
      "\n",
      "epoch 40: train average loss: 5.331 | acc: 100.00% (23670/23670)\n"
     ]
    },
    {
     "name": "stderr",
     "output_type": "stream",
     "text": [
      " 13%|█▎        | 40/300 [00:40<04:22,  1.01s/it]"
     ]
    },
    {
     "name": "stdout",
     "output_type": "stream",
     "text": [
      "\n",
      "epoch 40: test average loss: 7.255 | acc: 98.59% (2593/2630)\n",
      "EarlyStopping counter: 1/25 (best: 0.9867)\n",
      "\n",
      "epoch 41: train average loss: 5.305 | acc: 100.00% (23670/23670)\n"
     ]
    },
    {
     "name": "stderr",
     "output_type": "stream",
     "text": [
      " 14%|█▎        | 41/300 [00:41<04:17,  1.01it/s]"
     ]
    },
    {
     "name": "stdout",
     "output_type": "stream",
     "text": [
      "\n",
      "epoch 41: test average loss: 7.366 | acc: 98.63% (2594/2630)\n",
      "EarlyStopping counter: 2/25 (best: 0.9867)\n",
      "\n",
      "epoch 42: train average loss: 5.290 | acc: 100.00% (23670/23670)\n"
     ]
    },
    {
     "name": "stderr",
     "output_type": "stream",
     "text": [
      " 14%|█▍        | 42/300 [00:42<04:16,  1.01it/s]"
     ]
    },
    {
     "name": "stdout",
     "output_type": "stream",
     "text": [
      "\n",
      "epoch 42: test average loss: 7.343 | acc: 98.56% (2592/2630)\n",
      "EarlyStopping counter: 3/25 (best: 0.9867)\n",
      "\n",
      "epoch 43: train average loss: 5.269 | acc: 100.00% (23670/23670)\n"
     ]
    },
    {
     "name": "stderr",
     "output_type": "stream",
     "text": [
      " 14%|█▍        | 43/300 [00:43<04:25,  1.03s/it]"
     ]
    },
    {
     "name": "stdout",
     "output_type": "stream",
     "text": [
      "\n",
      "epoch 43: test average loss: 7.281 | acc: 98.56% (2592/2630)\n",
      "EarlyStopping counter: 4/25 (best: 0.9867)\n",
      "\n",
      "epoch 44: train average loss: 5.259 | acc: 100.00% (23670/23670)\n"
     ]
    },
    {
     "name": "stderr",
     "output_type": "stream",
     "text": [
      " 15%|█▍        | 44/300 [00:44<04:23,  1.03s/it]"
     ]
    },
    {
     "name": "stdout",
     "output_type": "stream",
     "text": [
      "\n",
      "epoch 44: test average loss: 7.344 | acc: 98.56% (2592/2630)\n",
      "EarlyStopping counter: 5/25 (best: 0.9867)\n",
      "\n",
      "epoch 45: train average loss: 5.250 | acc: 100.00% (23670/23670)\n"
     ]
    },
    {
     "name": "stderr",
     "output_type": "stream",
     "text": [
      " 15%|█▌        | 45/300 [00:46<04:23,  1.03s/it]"
     ]
    },
    {
     "name": "stdout",
     "output_type": "stream",
     "text": [
      "\n",
      "epoch 45: test average loss: 7.165 | acc: 98.59% (2593/2630)\n",
      "EarlyStopping counter: 6/25 (best: 0.9867)\n",
      "\n",
      "epoch 46: train average loss: 5.230 | acc: 100.00% (23670/23670)\n"
     ]
    },
    {
     "name": "stderr",
     "output_type": "stream",
     "text": [
      " 15%|█▌        | 46/300 [00:47<04:27,  1.05s/it]"
     ]
    },
    {
     "name": "stdout",
     "output_type": "stream",
     "text": [
      "\n",
      "epoch 46: test average loss: 7.268 | acc: 98.40% (2588/2630)\n",
      "EarlyStopping counter: 7/25 (best: 0.9867)\n",
      "\n",
      "epoch 47: train average loss: 5.232 | acc: 100.00% (23670/23670)\n",
      "\n",
      "epoch 47: test average loss: 7.377 | acc: 98.71% (2596/2630)\n"
     ]
    },
    {
     "name": "stderr",
     "output_type": "stream",
     "text": [
      " 16%|█▌        | 47/300 [00:48<04:27,  1.06s/it]"
     ]
    },
    {
     "name": "stdout",
     "output_type": "stream",
     "text": [
      "best test acc found\n",
      "\n",
      "epoch 48: train average loss: 5.223 | acc: 100.00% (23670/23670)\n"
     ]
    },
    {
     "name": "stderr",
     "output_type": "stream",
     "text": [
      " 16%|█▌        | 48/300 [00:49<04:23,  1.04s/it]"
     ]
    },
    {
     "name": "stdout",
     "output_type": "stream",
     "text": [
      "\n",
      "epoch 48: test average loss: 7.259 | acc: 98.67% (2595/2630)\n",
      "EarlyStopping counter: 1/25 (best: 0.9871)\n",
      "\n",
      "epoch 49: train average loss: 5.203 | acc: 100.00% (23670/23670)\n"
     ]
    },
    {
     "name": "stderr",
     "output_type": "stream",
     "text": [
      " 16%|█▋        | 49/300 [00:50<04:16,  1.02s/it]"
     ]
    },
    {
     "name": "stdout",
     "output_type": "stream",
     "text": [
      "\n",
      "epoch 49: test average loss: 7.187 | acc: 98.71% (2596/2630)\n",
      "EarlyStopping counter: 2/25 (best: 0.9871)\n",
      "\n",
      "epoch 50: train average loss: 5.186 | acc: 100.00% (23670/23670)\n"
     ]
    },
    {
     "name": "stderr",
     "output_type": "stream",
     "text": [
      " 17%|█▋        | 50/300 [00:51<04:17,  1.03s/it]"
     ]
    },
    {
     "name": "stdout",
     "output_type": "stream",
     "text": [
      "\n",
      "epoch 50: test average loss: 7.292 | acc: 98.78% (2598/2630)\n",
      "best test acc found\n",
      "\n",
      "epoch 51: train average loss: 5.195 | acc: 100.00% (23670/23670)\n"
     ]
    },
    {
     "name": "stderr",
     "output_type": "stream",
     "text": [
      " 17%|█▋        | 51/300 [00:52<04:18,  1.04s/it]"
     ]
    },
    {
     "name": "stdout",
     "output_type": "stream",
     "text": [
      "\n",
      "epoch 51: test average loss: 7.322 | acc: 98.48% (2590/2630)\n",
      "EarlyStopping counter: 1/25 (best: 0.9878)\n",
      "\n",
      "epoch 52: train average loss: 5.186 | acc: 100.00% (23670/23670)\n"
     ]
    },
    {
     "name": "stderr",
     "output_type": "stream",
     "text": [
      " 17%|█▋        | 52/300 [00:53<04:15,  1.03s/it]"
     ]
    },
    {
     "name": "stdout",
     "output_type": "stream",
     "text": [
      "\n",
      "epoch 52: test average loss: 7.287 | acc: 98.52% (2591/2630)\n",
      "EarlyStopping counter: 2/25 (best: 0.9878)\n",
      "\n",
      "epoch 53: train average loss: 5.172 | acc: 100.00% (23670/23670)\n"
     ]
    },
    {
     "name": "stderr",
     "output_type": "stream",
     "text": [
      " 18%|█▊        | 53/300 [00:54<04:20,  1.06s/it]"
     ]
    },
    {
     "name": "stdout",
     "output_type": "stream",
     "text": [
      "\n",
      "epoch 53: test average loss: 7.306 | acc: 98.75% (2597/2630)\n",
      "EarlyStopping counter: 3/25 (best: 0.9878)\n",
      "\n",
      "epoch 54: train average loss: 5.168 | acc: 100.00% (23670/23670)\n"
     ]
    },
    {
     "name": "stderr",
     "output_type": "stream",
     "text": [
      " 18%|█▊        | 54/300 [00:55<04:21,  1.06s/it]"
     ]
    },
    {
     "name": "stdout",
     "output_type": "stream",
     "text": [
      "\n",
      "epoch 54: test average loss: 7.316 | acc: 98.67% (2595/2630)\n",
      "EarlyStopping counter: 4/25 (best: 0.9878)\n",
      "\n",
      "epoch 55: train average loss: 5.176 | acc: 100.00% (23670/23670)\n"
     ]
    },
    {
     "name": "stderr",
     "output_type": "stream",
     "text": [
      " 18%|█▊        | 55/300 [00:56<04:19,  1.06s/it]"
     ]
    },
    {
     "name": "stdout",
     "output_type": "stream",
     "text": [
      "\n",
      "epoch 55: test average loss: 7.345 | acc: 98.59% (2593/2630)\n",
      "EarlyStopping counter: 5/25 (best: 0.9878)\n",
      "\n",
      "epoch 56: train average loss: 5.168 | acc: 100.00% (23670/23670)\n"
     ]
    },
    {
     "name": "stderr",
     "output_type": "stream",
     "text": [
      " 19%|█▊        | 56/300 [00:57<04:16,  1.05s/it]"
     ]
    },
    {
     "name": "stdout",
     "output_type": "stream",
     "text": [
      "\n",
      "epoch 56: test average loss: 7.309 | acc: 98.75% (2597/2630)\n",
      "EarlyStopping counter: 6/25 (best: 0.9878)\n",
      "\n",
      "epoch 57: train average loss: 5.168 | acc: 100.00% (23670/23670)\n"
     ]
    },
    {
     "name": "stderr",
     "output_type": "stream",
     "text": [
      " 19%|█▉        | 57/300 [00:58<04:16,  1.05s/it]"
     ]
    },
    {
     "name": "stdout",
     "output_type": "stream",
     "text": [
      "\n",
      "epoch 57: test average loss: 7.309 | acc: 98.71% (2596/2630)\n",
      "EarlyStopping counter: 7/25 (best: 0.9878)\n",
      "\n",
      "epoch 58: train average loss: 5.170 | acc: 100.00% (23670/23670)\n"
     ]
    },
    {
     "name": "stderr",
     "output_type": "stream",
     "text": [
      " 19%|█▉        | 58/300 [00:59<04:10,  1.03s/it]"
     ]
    },
    {
     "name": "stdout",
     "output_type": "stream",
     "text": [
      "\n",
      "epoch 58: test average loss: 7.312 | acc: 98.75% (2597/2630)\n",
      "EarlyStopping counter: 8/25 (best: 0.9878)\n",
      "\n",
      "epoch 59: train average loss: 5.167 | acc: 100.00% (23670/23670)\n"
     ]
    },
    {
     "name": "stderr",
     "output_type": "stream",
     "text": [
      " 20%|█▉        | 59/300 [01:00<04:03,  1.01s/it]"
     ]
    },
    {
     "name": "stdout",
     "output_type": "stream",
     "text": [
      "\n",
      "epoch 59: test average loss: 7.284 | acc: 98.71% (2596/2630)\n",
      "EarlyStopping counter: 9/25 (best: 0.9878)\n",
      "\n",
      "epoch 60: train average loss: 5.172 | acc: 100.00% (23670/23670)\n"
     ]
    },
    {
     "name": "stderr",
     "output_type": "stream",
     "text": [
      " 20%|██        | 60/300 [01:01<04:00,  1.00s/it]"
     ]
    },
    {
     "name": "stdout",
     "output_type": "stream",
     "text": [
      "\n",
      "epoch 60: test average loss: 7.316 | acc: 98.78% (2598/2630)\n",
      "EarlyStopping counter: 10/25 (best: 0.9878)\n",
      "\n",
      "epoch 61: train average loss: 5.158 | acc: 100.00% (23670/23670)\n"
     ]
    },
    {
     "name": "stderr",
     "output_type": "stream",
     "text": [
      " 20%|██        | 61/300 [01:02<04:00,  1.00s/it]"
     ]
    },
    {
     "name": "stdout",
     "output_type": "stream",
     "text": [
      "\n",
      "epoch 61: test average loss: 7.327 | acc: 98.75% (2597/2630)\n",
      "EarlyStopping counter: 11/25 (best: 0.9878)\n",
      "\n",
      "epoch 62: train average loss: 5.165 | acc: 100.00% (23670/23670)\n"
     ]
    },
    {
     "name": "stderr",
     "output_type": "stream",
     "text": [
      " 21%|██        | 62/300 [01:03<04:01,  1.02s/it]"
     ]
    },
    {
     "name": "stdout",
     "output_type": "stream",
     "text": [
      "\n",
      "epoch 62: test average loss: 7.341 | acc: 98.67% (2595/2630)\n",
      "EarlyStopping counter: 12/25 (best: 0.9878)\n",
      "\n",
      "epoch 63: train average loss: 5.162 | acc: 100.00% (23670/23670)\n"
     ]
    },
    {
     "name": "stderr",
     "output_type": "stream",
     "text": [
      " 21%|██        | 63/300 [01:04<04:12,  1.07s/it]"
     ]
    },
    {
     "name": "stdout",
     "output_type": "stream",
     "text": [
      "\n",
      "epoch 63: test average loss: 7.319 | acc: 98.78% (2598/2630)\n",
      "EarlyStopping counter: 13/25 (best: 0.9878)\n",
      "\n",
      "epoch 64: train average loss: 5.166 | acc: 100.00% (23670/23670)\n"
     ]
    },
    {
     "name": "stderr",
     "output_type": "stream",
     "text": [
      " 21%|██▏       | 64/300 [01:05<04:10,  1.06s/it]"
     ]
    },
    {
     "name": "stdout",
     "output_type": "stream",
     "text": [
      "\n",
      "epoch 64: test average loss: 7.308 | acc: 98.63% (2594/2630)\n",
      "EarlyStopping counter: 14/25 (best: 0.9878)\n",
      "\n",
      "epoch 65: train average loss: 5.160 | acc: 100.00% (23670/23670)\n"
     ]
    },
    {
     "name": "stderr",
     "output_type": "stream",
     "text": [
      " 22%|██▏       | 65/300 [01:06<04:13,  1.08s/it]"
     ]
    },
    {
     "name": "stdout",
     "output_type": "stream",
     "text": [
      "\n",
      "epoch 65: test average loss: 7.307 | acc: 98.75% (2597/2630)\n",
      "EarlyStopping counter: 15/25 (best: 0.9878)\n",
      "\n",
      "epoch 66: train average loss: 5.159 | acc: 100.00% (23670/23670)\n"
     ]
    },
    {
     "name": "stderr",
     "output_type": "stream",
     "text": [
      " 22%|██▏       | 66/300 [01:08<04:11,  1.08s/it]"
     ]
    },
    {
     "name": "stdout",
     "output_type": "stream",
     "text": [
      "\n",
      "epoch 66: test average loss: 7.280 | acc: 98.78% (2598/2630)\n",
      "EarlyStopping counter: 16/25 (best: 0.9878)\n",
      "\n",
      "epoch 67: train average loss: 5.161 | acc: 100.00% (23670/23670)\n"
     ]
    },
    {
     "name": "stderr",
     "output_type": "stream",
     "text": [
      " 22%|██▏       | 67/300 [01:09<04:09,  1.07s/it]"
     ]
    },
    {
     "name": "stdout",
     "output_type": "stream",
     "text": [
      "\n",
      "epoch 67: test average loss: 7.364 | acc: 98.67% (2595/2630)\n",
      "EarlyStopping counter: 17/25 (best: 0.9878)\n",
      "\n",
      "epoch 68: train average loss: 5.165 | acc: 100.00% (23670/23670)\n"
     ]
    },
    {
     "name": "stderr",
     "output_type": "stream",
     "text": [
      " 23%|██▎       | 68/300 [01:10<04:03,  1.05s/it]"
     ]
    },
    {
     "name": "stdout",
     "output_type": "stream",
     "text": [
      "\n",
      "epoch 68: test average loss: 7.359 | acc: 98.67% (2595/2630)\n",
      "EarlyStopping counter: 18/25 (best: 0.9878)\n",
      "\n",
      "epoch 69: train average loss: 5.167 | acc: 100.00% (23670/23670)\n"
     ]
    },
    {
     "name": "stderr",
     "output_type": "stream",
     "text": [
      " 23%|██▎       | 69/300 [01:11<03:56,  1.03s/it]"
     ]
    },
    {
     "name": "stdout",
     "output_type": "stream",
     "text": [
      "\n",
      "epoch 69: test average loss: 7.352 | acc: 98.56% (2592/2630)\n",
      "EarlyStopping counter: 19/25 (best: 0.9878)\n",
      "\n",
      "epoch 70: train average loss: 5.169 | acc: 100.00% (23670/23670)\n"
     ]
    },
    {
     "name": "stderr",
     "output_type": "stream",
     "text": [
      " 23%|██▎       | 70/300 [01:12<03:53,  1.01s/it]"
     ]
    },
    {
     "name": "stdout",
     "output_type": "stream",
     "text": [
      "\n",
      "epoch 70: test average loss: 7.370 | acc: 98.63% (2594/2630)\n",
      "EarlyStopping counter: 20/25 (best: 0.9878)\n",
      "\n",
      "epoch 71: train average loss: 5.165 | acc: 100.00% (23670/23670)\n"
     ]
    },
    {
     "name": "stderr",
     "output_type": "stream",
     "text": [
      " 24%|██▎       | 71/300 [01:13<03:51,  1.01s/it]"
     ]
    },
    {
     "name": "stdout",
     "output_type": "stream",
     "text": [
      "\n",
      "epoch 71: test average loss: 7.403 | acc: 98.67% (2595/2630)\n",
      "EarlyStopping counter: 21/25 (best: 0.9878)\n",
      "\n",
      "epoch 72: train average loss: 5.166 | acc: 100.00% (23670/23670)\n"
     ]
    },
    {
     "name": "stderr",
     "output_type": "stream",
     "text": [
      " 24%|██▍       | 72/300 [01:14<03:52,  1.02s/it]"
     ]
    },
    {
     "name": "stdout",
     "output_type": "stream",
     "text": [
      "\n",
      "epoch 72: test average loss: 7.369 | acc: 98.71% (2596/2630)\n",
      "EarlyStopping counter: 22/25 (best: 0.9878)\n",
      "\n",
      "epoch 73: train average loss: 5.163 | acc: 100.00% (23670/23670)\n"
     ]
    },
    {
     "name": "stderr",
     "output_type": "stream",
     "text": [
      " 24%|██▍       | 73/300 [01:15<03:58,  1.05s/it]"
     ]
    },
    {
     "name": "stdout",
     "output_type": "stream",
     "text": [
      "\n",
      "epoch 73: test average loss: 7.418 | acc: 98.67% (2595/2630)\n",
      "EarlyStopping counter: 23/25 (best: 0.9878)\n",
      "\n",
      "epoch 74: train average loss: 5.174 | acc: 100.00% (23670/23670)\n"
     ]
    },
    {
     "name": "stderr",
     "output_type": "stream",
     "text": [
      " 25%|██▍       | 74/300 [01:16<03:55,  1.04s/it]"
     ]
    },
    {
     "name": "stdout",
     "output_type": "stream",
     "text": [
      "\n",
      "epoch 74: test average loss: 7.435 | acc: 98.67% (2595/2630)\n",
      "EarlyStopping counter: 24/25 (best: 0.9878)\n",
      "\n",
      "epoch 75: train average loss: 5.175 | acc: 100.00% (23670/23670)\n"
     ]
    },
    {
     "name": "stderr",
     "output_type": "stream",
     "text": [
      " 25%|██▍       | 74/300 [01:17<03:56,  1.04s/it]"
     ]
    },
    {
     "name": "stdout",
     "output_type": "stream",
     "text": [
      "\n",
      "epoch 75: test average loss: 7.422 | acc: 98.63% (2594/2630)\n",
      "EarlyStopping counter: 25/25 (best: 0.9878)\n",
      "🔴 Early stopping triggered\n",
      "load model at epoch 50, with test acc : 0.988\n"
     ]
    },
    {
     "name": "stderr",
     "output_type": "stream",
     "text": [
      "\n",
      "/tmp/ipykernel_3076972/3696667578.py:175: FutureWarning:\n",
      "\n",
      "You are using `torch.load` with `weights_only=False` (the current default value), which uses the default pickle module implicitly. It is possible to construct malicious pickle data which will execute arbitrary code during unpickling (See https://github.com/pytorch/pytorch/blob/main/SECURITY.md#untrusted-models for more details). In a future release, the default value for `weights_only` will be flipped to `True`. This limits the functions that could be executed during unpickling. Arbitrary objects will no longer be allowed to be loaded via this mode unless they are explicitly allowlisted by the user via `torch.serialization.add_safe_globals`. We recommend you start setting `weights_only=True` for any use case where you don't have full control of the loaded file. Please open an issue on GitHub for any issues related to this experimental feature.\n",
      "\n"
     ]
    },
    {
     "name": "stdout",
     "output_type": "stream",
     "text": [
      "total 0.9878326996197718\n",
      "class 0 1.0\n",
      "class 1 0.9802955665024631\n",
      "class 2 0.981859410430839\n",
      "class 3 0.9916142557651991\n",
      "class 4 0.990909090909091\n",
      "class 5 0.9767441860465116\n",
      "class 6 0.9896907216494846\n",
      "class 7 0.9777777777777777\n",
      "class 8 1.0\n",
      "class 9 0.990909090909091\n",
      "Train t-SNE interactive HTML saved to variant_lenet_best_test_accuracy_combined_train.html\n",
      "Test t-SNE interactive HTML saved to variant_lenet_best_test_accuracy_combined_test.html\n",
      "                                                             0\n",
      "Accuracy                                                0.9878\n",
      "Recall       [1.0, 0.9803, 0.9819, 0.9916, 0.9909, 0.9767, ...\n",
      "Specificity  [1.0, 0.9967, 0.9986, 0.9986, 0.9978, 0.9983, ...\n",
      "Precision    [1.0, 0.9614, 0.9931, 0.9937, 0.9849, 0.9866, ...\n",
      "F1 Score     [1.0, 0.9707, 0.9875, 0.9927, 0.9879, 0.9816, ...\n",
      "7\n"
     ]
    },
    {
     "name": "stderr",
     "output_type": "stream",
     "text": [
      "  0%|          | 0/300 [00:00<?, ?it/s]"
     ]
    },
    {
     "name": "stdout",
     "output_type": "stream",
     "text": [
      "\n",
      "epoch 1: train average loss: 22.603 | acc: 78.17% (18504/23670)\n"
     ]
    },
    {
     "name": "stderr",
     "output_type": "stream",
     "text": [
      "  0%|          | 1/300 [00:00<04:47,  1.04it/s]"
     ]
    },
    {
     "name": "stdout",
     "output_type": "stream",
     "text": [
      "\n",
      "epoch 1: test average loss: 19.536 | acc: 86.16% (2266/2630)\n",
      "best test acc found\n",
      "\n",
      "epoch 2: train average loss: 16.076 | acc: 91.70% (21706/23670)\n",
      "\n",
      "epoch 2: test average loss: 14.377 | acc: 90.99% (2393/2630)\n"
     ]
    },
    {
     "name": "stderr",
     "output_type": "stream",
     "text": [
      "  1%|          | 2/300 [00:01<04:46,  1.04it/s]"
     ]
    },
    {
     "name": "stdout",
     "output_type": "stream",
     "text": [
      "best test acc found\n",
      "\n",
      "epoch 3: train average loss: 12.457 | acc: 94.69% (22412/23670)\n"
     ]
    },
    {
     "name": "stderr",
     "output_type": "stream",
     "text": [
      "  1%|          | 3/300 [00:02<04:53,  1.01it/s]"
     ]
    },
    {
     "name": "stdout",
     "output_type": "stream",
     "text": [
      "\n",
      "epoch 3: test average loss: 10.710 | acc: 95.29% (2506/2630)\n",
      "best test acc found\n",
      "\n",
      "epoch 4: train average loss: 10.083 | acc: 96.36% (22808/23670)\n"
     ]
    },
    {
     "name": "stderr",
     "output_type": "stream",
     "text": [
      "  1%|▏         | 4/300 [00:04<05:06,  1.03s/it]"
     ]
    },
    {
     "name": "stdout",
     "output_type": "stream",
     "text": [
      "\n",
      "epoch 4: test average loss: 9.612 | acc: 95.32% (2507/2630)\n",
      "best test acc found\n",
      "\n",
      "epoch 5: train average loss: 8.825 | acc: 97.15% (22996/23670)\n"
     ]
    },
    {
     "name": "stderr",
     "output_type": "stream",
     "text": [
      "  2%|▏         | 5/300 [00:05<05:11,  1.06s/it]"
     ]
    },
    {
     "name": "stdout",
     "output_type": "stream",
     "text": [
      "\n",
      "epoch 5: test average loss: 8.730 | acc: 95.55% (2513/2630)\n",
      "best test acc found\n",
      "\n",
      "epoch 6: train average loss: 8.239 | acc: 97.98% (23191/23670)\n"
     ]
    },
    {
     "name": "stderr",
     "output_type": "stream",
     "text": [
      "  2%|▏         | 6/300 [00:06<05:10,  1.06s/it]"
     ]
    },
    {
     "name": "stdout",
     "output_type": "stream",
     "text": [
      "\n",
      "epoch 6: test average loss: 8.674 | acc: 96.54% (2539/2630)\n",
      "best test acc found\n",
      "\n",
      "epoch 7: train average loss: 7.800 | acc: 98.42% (23295/23670)\n"
     ]
    },
    {
     "name": "stderr",
     "output_type": "stream",
     "text": [
      "  2%|▏         | 7/300 [00:07<05:08,  1.05s/it]"
     ]
    },
    {
     "name": "stdout",
     "output_type": "stream",
     "text": [
      "\n",
      "epoch 7: test average loss: 8.959 | acc: 95.13% (2502/2630)\n",
      "EarlyStopping counter: 1/25 (best: 0.9654)\n",
      "\n",
      "epoch 8: train average loss: 7.534 | acc: 98.66% (23354/23670)\n"
     ]
    },
    {
     "name": "stderr",
     "output_type": "stream",
     "text": [
      "  3%|▎         | 8/300 [00:08<05:04,  1.04s/it]"
     ]
    },
    {
     "name": "stdout",
     "output_type": "stream",
     "text": [
      "\n",
      "epoch 8: test average loss: 7.935 | acc: 97.34% (2560/2630)\n",
      "best test acc found\n",
      "\n",
      "epoch 9: train average loss: 7.269 | acc: 99.06% (23448/23670)\n",
      "\n",
      "epoch 9: test average loss: 7.501 | acc: 96.65% (2542/2630)\n"
     ]
    },
    {
     "name": "stderr",
     "output_type": "stream",
     "text": [
      "  3%|▎         | 9/300 [00:09<05:00,  1.03s/it]"
     ]
    },
    {
     "name": "stdout",
     "output_type": "stream",
     "text": [
      "EarlyStopping counter: 1/25 (best: 0.9734)\n",
      "\n",
      "epoch 10: train average loss: 7.021 | acc: 99.30% (23504/23670)\n"
     ]
    },
    {
     "name": "stderr",
     "output_type": "stream",
     "text": [
      "  3%|▎         | 10/300 [00:10<04:51,  1.01s/it]"
     ]
    },
    {
     "name": "stdout",
     "output_type": "stream",
     "text": [
      "\n",
      "epoch 10: test average loss: 8.196 | acc: 96.54% (2539/2630)\n",
      "EarlyStopping counter: 2/25 (best: 0.9734)\n",
      "\n",
      "epoch 11: train average loss: 6.846 | acc: 99.44% (23538/23670)\n"
     ]
    },
    {
     "name": "stderr",
     "output_type": "stream",
     "text": [
      "  4%|▎         | 11/300 [00:11<04:47,  1.01it/s]"
     ]
    },
    {
     "name": "stdout",
     "output_type": "stream",
     "text": [
      "\n",
      "epoch 11: test average loss: 7.275 | acc: 97.60% (2567/2630)\n",
      "best test acc found\n",
      "\n",
      "epoch 12: train average loss: 6.688 | acc: 99.54% (23561/23670)\n",
      "\n",
      "epoch 12: test average loss: 7.535 | acc: 97.68% (2569/2630)\n",
      "best test acc found\n"
     ]
    },
    {
     "name": "stderr",
     "output_type": "stream",
     "text": [
      "  4%|▍         | 12/300 [00:12<04:39,  1.03it/s]"
     ]
    },
    {
     "name": "stdout",
     "output_type": "stream",
     "text": [
      "\n",
      "epoch 13: train average loss: 6.525 | acc: 99.66% (23589/23670)\n"
     ]
    },
    {
     "name": "stderr",
     "output_type": "stream",
     "text": [
      "  4%|▍         | 13/300 [00:13<04:35,  1.04it/s]"
     ]
    },
    {
     "name": "stdout",
     "output_type": "stream",
     "text": [
      "\n",
      "epoch 13: test average loss: 7.858 | acc: 97.64% (2568/2630)\n",
      "EarlyStopping counter: 1/25 (best: 0.9768)\n",
      "\n",
      "epoch 14: train average loss: 6.390 | acc: 99.77% (23615/23670)\n"
     ]
    },
    {
     "name": "stderr",
     "output_type": "stream",
     "text": [
      "  5%|▍         | 14/300 [00:14<04:46,  1.00s/it]"
     ]
    },
    {
     "name": "stdout",
     "output_type": "stream",
     "text": [
      "\n",
      "epoch 14: test average loss: 7.636 | acc: 97.68% (2569/2630)\n",
      "EarlyStopping counter: 2/25 (best: 0.9768)\n",
      "\n",
      "epoch 15: train average loss: 6.386 | acc: 99.75% (23612/23670)\n"
     ]
    },
    {
     "name": "stderr",
     "output_type": "stream",
     "text": [
      "  5%|▌         | 15/300 [00:15<04:51,  1.02s/it]"
     ]
    },
    {
     "name": "stdout",
     "output_type": "stream",
     "text": [
      "\n",
      "epoch 15: test average loss: 8.081 | acc: 95.13% (2502/2630)\n",
      "EarlyStopping counter: 3/25 (best: 0.9768)\n",
      "\n",
      "epoch 16: train average loss: 6.337 | acc: 99.78% (23617/23670)\n"
     ]
    },
    {
     "name": "stderr",
     "output_type": "stream",
     "text": [
      "  5%|▌         | 16/300 [00:16<04:51,  1.03s/it]"
     ]
    },
    {
     "name": "stdout",
     "output_type": "stream",
     "text": [
      "\n",
      "epoch 16: test average loss: 7.751 | acc: 97.11% (2554/2630)\n",
      "EarlyStopping counter: 4/25 (best: 0.9768)\n",
      "\n",
      "epoch 17: train average loss: 6.203 | acc: 99.82% (23627/23670)\n"
     ]
    },
    {
     "name": "stderr",
     "output_type": "stream",
     "text": [
      "  6%|▌         | 17/300 [00:17<04:49,  1.02s/it]"
     ]
    },
    {
     "name": "stdout",
     "output_type": "stream",
     "text": [
      "\n",
      "epoch 17: test average loss: 7.479 | acc: 97.49% (2564/2630)\n",
      "EarlyStopping counter: 5/25 (best: 0.9768)\n",
      "\n",
      "epoch 18: train average loss: 6.122 | acc: 99.88% (23642/23670)\n"
     ]
    },
    {
     "name": "stderr",
     "output_type": "stream",
     "text": [
      "  6%|▌         | 18/300 [00:18<04:48,  1.02s/it]"
     ]
    },
    {
     "name": "stdout",
     "output_type": "stream",
     "text": [
      "\n",
      "epoch 18: test average loss: 7.241 | acc: 98.21% (2583/2630)\n",
      "best test acc found\n",
      "\n",
      "epoch 19: train average loss: 6.075 | acc: 99.89% (23643/23670)\n"
     ]
    },
    {
     "name": "stderr",
     "output_type": "stream",
     "text": [
      "  6%|▋         | 19/300 [00:19<04:49,  1.03s/it]"
     ]
    },
    {
     "name": "stdout",
     "output_type": "stream",
     "text": [
      "\n",
      "epoch 19: test average loss: 7.203 | acc: 97.34% (2560/2630)\n",
      "EarlyStopping counter: 1/25 (best: 0.9821)\n",
      "\n",
      "epoch 20: train average loss: 6.013 | acc: 99.91% (23648/23670)\n"
     ]
    },
    {
     "name": "stderr",
     "output_type": "stream",
     "text": [
      "  7%|▋         | 20/300 [00:20<04:45,  1.02s/it]"
     ]
    },
    {
     "name": "stdout",
     "output_type": "stream",
     "text": [
      "\n",
      "epoch 20: test average loss: 7.309 | acc: 97.79% (2572/2630)\n",
      "EarlyStopping counter: 2/25 (best: 0.9821)\n",
      "\n",
      "epoch 21: train average loss: 5.942 | acc: 99.95% (23657/23670)\n"
     ]
    },
    {
     "name": "stderr",
     "output_type": "stream",
     "text": [
      "  7%|▋         | 21/300 [00:21<04:38,  1.00it/s]"
     ]
    },
    {
     "name": "stdout",
     "output_type": "stream",
     "text": [
      "\n",
      "epoch 21: test average loss: 7.508 | acc: 97.76% (2571/2630)\n",
      "EarlyStopping counter: 3/25 (best: 0.9821)\n",
      "\n",
      "epoch 22: train average loss: 5.910 | acc: 99.95% (23659/23670)\n"
     ]
    },
    {
     "name": "stderr",
     "output_type": "stream",
     "text": [
      "  7%|▋         | 22/300 [00:22<04:33,  1.02it/s]"
     ]
    },
    {
     "name": "stdout",
     "output_type": "stream",
     "text": [
      "\n",
      "epoch 22: test average loss: 7.774 | acc: 97.00% (2551/2630)\n",
      "EarlyStopping counter: 4/25 (best: 0.9821)\n",
      "\n",
      "epoch 23: train average loss: 5.873 | acc: 99.96% (23660/23670)\n"
     ]
    },
    {
     "name": "stderr",
     "output_type": "stream",
     "text": [
      "  8%|▊         | 23/300 [00:23<04:32,  1.02it/s]"
     ]
    },
    {
     "name": "stdout",
     "output_type": "stream",
     "text": [
      "\n",
      "epoch 23: test average loss: 7.022 | acc: 98.40% (2588/2630)\n",
      "best test acc found\n",
      "\n",
      "epoch 24: train average loss: 5.833 | acc: 99.97% (23662/23670)\n"
     ]
    },
    {
     "name": "stderr",
     "output_type": "stream",
     "text": [
      "  8%|▊         | 24/300 [00:24<04:39,  1.01s/it]"
     ]
    },
    {
     "name": "stdout",
     "output_type": "stream",
     "text": [
      "\n",
      "epoch 24: test average loss: 7.446 | acc: 98.25% (2584/2630)\n",
      "EarlyStopping counter: 1/25 (best: 0.9840)\n",
      "\n",
      "epoch 25: train average loss: 5.797 | acc: 99.98% (23665/23670)\n"
     ]
    },
    {
     "name": "stderr",
     "output_type": "stream",
     "text": [
      "  8%|▊         | 25/300 [00:25<05:22,  1.17s/it]"
     ]
    },
    {
     "name": "stdout",
     "output_type": "stream",
     "text": [
      "\n",
      "epoch 25: test average loss: 7.388 | acc: 98.02% (2578/2630)\n",
      "EarlyStopping counter: 2/25 (best: 0.9840)\n",
      "\n",
      "epoch 26: train average loss: 5.733 | acc: 99.99% (23667/23670)\n"
     ]
    },
    {
     "name": "stderr",
     "output_type": "stream",
     "text": [
      "  9%|▊         | 26/300 [00:26<05:12,  1.14s/it]"
     ]
    },
    {
     "name": "stdout",
     "output_type": "stream",
     "text": [
      "\n",
      "epoch 26: test average loss: 7.733 | acc: 97.60% (2567/2630)\n",
      "EarlyStopping counter: 3/25 (best: 0.9840)\n",
      "\n",
      "epoch 27: train average loss: 5.684 | acc: 99.99% (23667/23670)\n"
     ]
    },
    {
     "name": "stderr",
     "output_type": "stream",
     "text": [
      "  9%|▉         | 27/300 [00:27<05:04,  1.11s/it]"
     ]
    },
    {
     "name": "stdout",
     "output_type": "stream",
     "text": [
      "\n",
      "epoch 27: test average loss: 7.496 | acc: 98.14% (2581/2630)\n",
      "EarlyStopping counter: 4/25 (best: 0.9840)\n",
      "\n",
      "epoch 28: train average loss: 5.650 | acc: 99.99% (23668/23670)\n"
     ]
    },
    {
     "name": "stderr",
     "output_type": "stream",
     "text": [
      "  9%|▉         | 28/300 [00:28<04:57,  1.09s/it]"
     ]
    },
    {
     "name": "stdout",
     "output_type": "stream",
     "text": [
      "\n",
      "epoch 28: test average loss: 7.399 | acc: 98.14% (2581/2630)\n",
      "EarlyStopping counter: 5/25 (best: 0.9840)\n",
      "\n",
      "epoch 29: train average loss: 5.626 | acc: 99.99% (23667/23670)\n"
     ]
    },
    {
     "name": "stderr",
     "output_type": "stream",
     "text": [
      " 10%|▉         | 29/300 [00:29<04:47,  1.06s/it]"
     ]
    },
    {
     "name": "stdout",
     "output_type": "stream",
     "text": [
      "\n",
      "epoch 29: test average loss: 7.540 | acc: 97.79% (2572/2630)\n",
      "EarlyStopping counter: 6/25 (best: 0.9840)\n",
      "\n",
      "epoch 30: train average loss: 5.587 | acc: 99.99% (23667/23670)\n",
      "\n",
      "epoch 30: test average loss: 7.845 | acc: 98.02% (2578/2630)\n"
     ]
    },
    {
     "name": "stderr",
     "output_type": "stream",
     "text": [
      " 10%|█         | 30/300 [00:31<04:48,  1.07s/it]"
     ]
    },
    {
     "name": "stdout",
     "output_type": "stream",
     "text": [
      "EarlyStopping counter: 7/25 (best: 0.9840)\n",
      "\n",
      "epoch 31: train average loss: 5.573 | acc: 99.99% (23668/23670)\n"
     ]
    },
    {
     "name": "stderr",
     "output_type": "stream",
     "text": [
      " 10%|█         | 31/300 [00:32<04:43,  1.05s/it]"
     ]
    },
    {
     "name": "stdout",
     "output_type": "stream",
     "text": [
      "\n",
      "epoch 31: test average loss: 7.415 | acc: 97.87% (2574/2630)\n",
      "EarlyStopping counter: 8/25 (best: 0.9840)\n",
      "\n",
      "epoch 32: train average loss: 5.519 | acc: 100.00% (23670/23670)\n"
     ]
    },
    {
     "name": "stderr",
     "output_type": "stream",
     "text": [
      " 11%|█         | 32/300 [00:33<04:36,  1.03s/it]"
     ]
    },
    {
     "name": "stdout",
     "output_type": "stream",
     "text": [
      "\n",
      "epoch 32: test average loss: 7.517 | acc: 98.21% (2583/2630)\n",
      "EarlyStopping counter: 9/25 (best: 0.9840)\n",
      "\n",
      "epoch 33: train average loss: 5.508 | acc: 99.99% (23667/23670)\n"
     ]
    },
    {
     "name": "stderr",
     "output_type": "stream",
     "text": [
      " 11%|█         | 33/300 [00:34<04:33,  1.02s/it]"
     ]
    },
    {
     "name": "stdout",
     "output_type": "stream",
     "text": [
      "\n",
      "epoch 33: test average loss: 7.497 | acc: 97.68% (2569/2630)\n",
      "EarlyStopping counter: 10/25 (best: 0.9840)\n",
      "\n",
      "epoch 34: train average loss: 5.485 | acc: 100.00% (23669/23670)\n"
     ]
    },
    {
     "name": "stderr",
     "output_type": "stream",
     "text": [
      " 11%|█▏        | 34/300 [00:35<04:36,  1.04s/it]"
     ]
    },
    {
     "name": "stdout",
     "output_type": "stream",
     "text": [
      "\n",
      "epoch 34: test average loss: 7.386 | acc: 98.37% (2587/2630)\n",
      "EarlyStopping counter: 11/25 (best: 0.9840)\n",
      "\n",
      "epoch 35: train average loss: 5.446 | acc: 100.00% (23670/23670)\n"
     ]
    },
    {
     "name": "stderr",
     "output_type": "stream",
     "text": [
      " 12%|█▏        | 35/300 [00:36<04:37,  1.05s/it]"
     ]
    },
    {
     "name": "stdout",
     "output_type": "stream",
     "text": [
      "\n",
      "epoch 35: test average loss: 7.376 | acc: 98.44% (2589/2630)\n",
      "best test acc found\n",
      "\n",
      "epoch 36: train average loss: 5.413 | acc: 100.00% (23670/23670)\n"
     ]
    },
    {
     "name": "stderr",
     "output_type": "stream",
     "text": [
      " 12%|█▏        | 36/300 [00:37<04:38,  1.06s/it]"
     ]
    },
    {
     "name": "stdout",
     "output_type": "stream",
     "text": [
      "\n",
      "epoch 36: test average loss: 7.630 | acc: 98.44% (2589/2630)\n",
      "EarlyStopping counter: 1/25 (best: 0.9844)\n",
      "\n",
      "epoch 37: train average loss: 5.395 | acc: 100.00% (23670/23670)\n"
     ]
    },
    {
     "name": "stderr",
     "output_type": "stream",
     "text": [
      " 12%|█▏        | 37/300 [00:38<04:37,  1.06s/it]"
     ]
    },
    {
     "name": "stdout",
     "output_type": "stream",
     "text": [
      "\n",
      "epoch 37: test average loss: 7.442 | acc: 98.33% (2586/2630)\n",
      "EarlyStopping counter: 2/25 (best: 0.9844)\n",
      "\n",
      "epoch 38: train average loss: 5.392 | acc: 100.00% (23669/23670)\n"
     ]
    },
    {
     "name": "stderr",
     "output_type": "stream",
     "text": [
      " 13%|█▎        | 38/300 [00:39<04:34,  1.05s/it]"
     ]
    },
    {
     "name": "stdout",
     "output_type": "stream",
     "text": [
      "\n",
      "epoch 38: test average loss: 7.521 | acc: 98.25% (2584/2630)\n",
      "EarlyStopping counter: 3/25 (best: 0.9844)\n",
      "\n",
      "epoch 39: train average loss: 5.358 | acc: 100.00% (23670/23670)\n"
     ]
    },
    {
     "name": "stderr",
     "output_type": "stream",
     "text": [
      " 13%|█▎        | 39/300 [00:40<04:28,  1.03s/it]"
     ]
    },
    {
     "name": "stdout",
     "output_type": "stream",
     "text": [
      "\n",
      "epoch 39: test average loss: 7.562 | acc: 98.21% (2583/2630)\n",
      "EarlyStopping counter: 4/25 (best: 0.9844)\n",
      "\n",
      "epoch 40: train average loss: 5.336 | acc: 100.00% (23670/23670)\n"
     ]
    },
    {
     "name": "stderr",
     "output_type": "stream",
     "text": [
      " 13%|█▎        | 40/300 [00:41<04:28,  1.03s/it]"
     ]
    },
    {
     "name": "stdout",
     "output_type": "stream",
     "text": [
      "\n",
      "epoch 40: test average loss: 7.388 | acc: 98.37% (2587/2630)\n",
      "EarlyStopping counter: 5/25 (best: 0.9844)\n",
      "\n",
      "epoch 41: train average loss: 5.323 | acc: 100.00% (23670/23670)\n"
     ]
    },
    {
     "name": "stderr",
     "output_type": "stream",
     "text": [
      " 14%|█▎        | 41/300 [00:42<04:23,  1.02s/it]"
     ]
    },
    {
     "name": "stdout",
     "output_type": "stream",
     "text": [
      "\n",
      "epoch 41: test average loss: 7.423 | acc: 98.44% (2589/2630)\n",
      "EarlyStopping counter: 6/25 (best: 0.9844)\n",
      "\n",
      "epoch 42: train average loss: 5.298 | acc: 100.00% (23670/23670)\n"
     ]
    },
    {
     "name": "stderr",
     "output_type": "stream",
     "text": [
      " 14%|█▍        | 42/300 [00:43<04:20,  1.01s/it]"
     ]
    },
    {
     "name": "stdout",
     "output_type": "stream",
     "text": [
      "\n",
      "epoch 42: test average loss: 7.498 | acc: 98.44% (2589/2630)\n",
      "EarlyStopping counter: 7/25 (best: 0.9844)\n",
      "\n",
      "epoch 43: train average loss: 5.283 | acc: 100.00% (23670/23670)\n"
     ]
    },
    {
     "name": "stderr",
     "output_type": "stream",
     "text": [
      " 14%|█▍        | 43/300 [00:44<04:21,  1.02s/it]"
     ]
    },
    {
     "name": "stdout",
     "output_type": "stream",
     "text": [
      "\n",
      "epoch 43: test average loss: 7.543 | acc: 98.40% (2588/2630)\n",
      "EarlyStopping counter: 8/25 (best: 0.9844)\n",
      "\n",
      "epoch 44: train average loss: 5.262 | acc: 100.00% (23670/23670)\n"
     ]
    },
    {
     "name": "stderr",
     "output_type": "stream",
     "text": [
      " 15%|█▍        | 44/300 [00:45<04:28,  1.05s/it]"
     ]
    },
    {
     "name": "stdout",
     "output_type": "stream",
     "text": [
      "\n",
      "epoch 44: test average loss: 7.595 | acc: 98.40% (2588/2630)\n",
      "EarlyStopping counter: 9/25 (best: 0.9844)\n",
      "\n",
      "epoch 45: train average loss: 5.247 | acc: 100.00% (23670/23670)\n"
     ]
    },
    {
     "name": "stderr",
     "output_type": "stream",
     "text": [
      " 15%|█▌        | 45/300 [00:46<04:20,  1.02s/it]"
     ]
    },
    {
     "name": "stdout",
     "output_type": "stream",
     "text": [
      "\n",
      "epoch 45: test average loss: 7.519 | acc: 98.44% (2589/2630)\n",
      "EarlyStopping counter: 10/25 (best: 0.9844)\n",
      "\n",
      "epoch 46: train average loss: 5.245 | acc: 100.00% (23670/23670)\n"
     ]
    },
    {
     "name": "stderr",
     "output_type": "stream",
     "text": [
      " 15%|█▌        | 46/300 [00:47<04:21,  1.03s/it]"
     ]
    },
    {
     "name": "stdout",
     "output_type": "stream",
     "text": [
      "\n",
      "epoch 46: test average loss: 7.618 | acc: 98.37% (2587/2630)\n",
      "EarlyStopping counter: 11/25 (best: 0.9844)\n",
      "\n",
      "epoch 47: train average loss: 5.239 | acc: 100.00% (23670/23670)\n"
     ]
    },
    {
     "name": "stderr",
     "output_type": "stream",
     "text": [
      " 16%|█▌        | 47/300 [00:48<04:20,  1.03s/it]"
     ]
    },
    {
     "name": "stdout",
     "output_type": "stream",
     "text": [
      "\n",
      "epoch 47: test average loss: 7.628 | acc: 98.48% (2590/2630)\n",
      "best test acc found\n",
      "\n",
      "epoch 48: train average loss: 5.229 | acc: 100.00% (23670/23670)\n"
     ]
    },
    {
     "name": "stderr",
     "output_type": "stream",
     "text": [
      " 16%|█▌        | 48/300 [00:49<04:26,  1.06s/it]"
     ]
    },
    {
     "name": "stdout",
     "output_type": "stream",
     "text": [
      "\n",
      "epoch 48: test average loss: 7.568 | acc: 98.44% (2589/2630)\n",
      "EarlyStopping counter: 1/25 (best: 0.9848)\n",
      "\n",
      "epoch 49: train average loss: 5.218 | acc: 100.00% (23669/23670)\n"
     ]
    },
    {
     "name": "stderr",
     "output_type": "stream",
     "text": [
      " 16%|█▋        | 49/300 [00:50<04:17,  1.03s/it]"
     ]
    },
    {
     "name": "stdout",
     "output_type": "stream",
     "text": [
      "\n",
      "epoch 49: test average loss: 7.602 | acc: 98.37% (2587/2630)\n",
      "EarlyStopping counter: 2/25 (best: 0.9848)\n",
      "\n",
      "epoch 50: train average loss: 5.202 | acc: 100.00% (23670/23670)\n"
     ]
    },
    {
     "name": "stderr",
     "output_type": "stream",
     "text": [
      " 17%|█▋        | 50/300 [00:51<04:15,  1.02s/it]"
     ]
    },
    {
     "name": "stdout",
     "output_type": "stream",
     "text": [
      "\n",
      "epoch 50: test average loss: 7.638 | acc: 98.25% (2584/2630)\n",
      "EarlyStopping counter: 3/25 (best: 0.9848)\n",
      "\n",
      "epoch 51: train average loss: 5.205 | acc: 100.00% (23670/23670)\n"
     ]
    },
    {
     "name": "stderr",
     "output_type": "stream",
     "text": [
      " 17%|█▋        | 51/300 [00:52<04:13,  1.02s/it]"
     ]
    },
    {
     "name": "stdout",
     "output_type": "stream",
     "text": [
      "\n",
      "epoch 51: test average loss: 7.619 | acc: 98.25% (2584/2630)\n",
      "EarlyStopping counter: 4/25 (best: 0.9848)\n",
      "\n",
      "epoch 52: train average loss: 5.190 | acc: 100.00% (23670/23670)\n"
     ]
    },
    {
     "name": "stderr",
     "output_type": "stream",
     "text": [
      " 17%|█▋        | 52/300 [00:53<04:13,  1.02s/it]"
     ]
    },
    {
     "name": "stdout",
     "output_type": "stream",
     "text": [
      "\n",
      "epoch 52: test average loss: 7.642 | acc: 98.37% (2587/2630)\n",
      "EarlyStopping counter: 5/25 (best: 0.9848)\n",
      "\n",
      "epoch 53: train average loss: 5.180 | acc: 100.00% (23670/23670)\n"
     ]
    },
    {
     "name": "stderr",
     "output_type": "stream",
     "text": [
      " 18%|█▊        | 53/300 [00:54<04:15,  1.03s/it]"
     ]
    },
    {
     "name": "stdout",
     "output_type": "stream",
     "text": [
      "\n",
      "epoch 53: test average loss: 7.645 | acc: 98.52% (2591/2630)\n",
      "best test acc found\n",
      "\n",
      "epoch 54: train average loss: 5.180 | acc: 100.00% (23670/23670)\n"
     ]
    },
    {
     "name": "stderr",
     "output_type": "stream",
     "text": [
      " 18%|█▊        | 54/300 [00:55<04:17,  1.05s/it]"
     ]
    },
    {
     "name": "stdout",
     "output_type": "stream",
     "text": [
      "\n",
      "epoch 54: test average loss: 7.625 | acc: 98.33% (2586/2630)\n",
      "EarlyStopping counter: 1/25 (best: 0.9852)\n",
      "\n",
      "epoch 55: train average loss: 5.181 | acc: 100.00% (23670/23670)\n"
     ]
    },
    {
     "name": "stderr",
     "output_type": "stream",
     "text": [
      " 18%|█▊        | 55/300 [00:56<04:15,  1.04s/it]"
     ]
    },
    {
     "name": "stdout",
     "output_type": "stream",
     "text": [
      "\n",
      "epoch 55: test average loss: 7.649 | acc: 98.44% (2589/2630)\n",
      "EarlyStopping counter: 2/25 (best: 0.9852)\n",
      "\n",
      "epoch 56: train average loss: 5.184 | acc: 100.00% (23670/23670)\n"
     ]
    },
    {
     "name": "stderr",
     "output_type": "stream",
     "text": [
      " 19%|█▊        | 56/300 [00:57<04:10,  1.03s/it]"
     ]
    },
    {
     "name": "stdout",
     "output_type": "stream",
     "text": [
      "\n",
      "epoch 56: test average loss: 7.639 | acc: 98.40% (2588/2630)\n",
      "EarlyStopping counter: 3/25 (best: 0.9852)\n",
      "\n",
      "epoch 57: train average loss: 5.181 | acc: 100.00% (23670/23670)\n"
     ]
    },
    {
     "name": "stderr",
     "output_type": "stream",
     "text": [
      " 19%|█▉        | 57/300 [00:58<04:08,  1.02s/it]"
     ]
    },
    {
     "name": "stdout",
     "output_type": "stream",
     "text": [
      "\n",
      "epoch 57: test average loss: 7.632 | acc: 98.40% (2588/2630)\n",
      "EarlyStopping counter: 4/25 (best: 0.9852)\n",
      "\n",
      "epoch 58: train average loss: 5.172 | acc: 100.00% (23670/23670)\n"
     ]
    },
    {
     "name": "stderr",
     "output_type": "stream",
     "text": [
      " 19%|█▉        | 58/300 [00:59<04:05,  1.01s/it]"
     ]
    },
    {
     "name": "stdout",
     "output_type": "stream",
     "text": [
      "\n",
      "epoch 58: test average loss: 7.650 | acc: 98.52% (2591/2630)\n",
      "EarlyStopping counter: 5/25 (best: 0.9852)\n",
      "\n",
      "epoch 59: train average loss: 5.174 | acc: 100.00% (23670/23670)\n",
      "\n",
      "epoch 59: test average loss: 7.633 | acc: 98.56% (2592/2630)\n",
      "best test acc found\n"
     ]
    },
    {
     "name": "stderr",
     "output_type": "stream",
     "text": [
      " 20%|█▉        | 59/300 [01:00<04:00,  1.00it/s]"
     ]
    },
    {
     "name": "stdout",
     "output_type": "stream",
     "text": [
      "\n",
      "epoch 60: train average loss: 5.177 | acc: 100.00% (23670/23670)\n"
     ]
    },
    {
     "name": "stderr",
     "output_type": "stream",
     "text": [
      " 20%|██        | 60/300 [01:01<03:54,  1.02it/s]"
     ]
    },
    {
     "name": "stdout",
     "output_type": "stream",
     "text": [
      "\n",
      "epoch 60: test average loss: 7.647 | acc: 98.40% (2588/2630)\n",
      "EarlyStopping counter: 1/25 (best: 0.9856)\n",
      "\n",
      "epoch 61: train average loss: 5.175 | acc: 100.00% (23670/23670)\n"
     ]
    },
    {
     "name": "stderr",
     "output_type": "stream",
     "text": [
      " 20%|██        | 61/300 [01:02<03:52,  1.03it/s]"
     ]
    },
    {
     "name": "stdout",
     "output_type": "stream",
     "text": [
      "\n",
      "epoch 61: test average loss: 7.645 | acc: 98.40% (2588/2630)\n",
      "EarlyStopping counter: 2/25 (best: 0.9856)\n",
      "\n",
      "epoch 62: train average loss: 5.167 | acc: 100.00% (23670/23670)\n"
     ]
    },
    {
     "name": "stderr",
     "output_type": "stream",
     "text": [
      " 21%|██        | 62/300 [01:03<03:47,  1.04it/s]"
     ]
    },
    {
     "name": "stdout",
     "output_type": "stream",
     "text": [
      "\n",
      "epoch 62: test average loss: 7.633 | acc: 98.48% (2590/2630)\n",
      "EarlyStopping counter: 3/25 (best: 0.9856)\n",
      "\n",
      "epoch 63: train average loss: 5.179 | acc: 100.00% (23670/23670)\n"
     ]
    },
    {
     "name": "stderr",
     "output_type": "stream",
     "text": [
      " 21%|██        | 63/300 [01:04<03:52,  1.02it/s]"
     ]
    },
    {
     "name": "stdout",
     "output_type": "stream",
     "text": [
      "\n",
      "epoch 63: test average loss: 7.649 | acc: 98.56% (2592/2630)\n",
      "EarlyStopping counter: 4/25 (best: 0.9856)\n",
      "\n",
      "epoch 64: train average loss: 5.170 | acc: 100.00% (23670/23670)\n"
     ]
    },
    {
     "name": "stderr",
     "output_type": "stream",
     "text": [
      " 21%|██▏       | 64/300 [01:05<03:54,  1.01it/s]"
     ]
    },
    {
     "name": "stdout",
     "output_type": "stream",
     "text": [
      "\n",
      "epoch 64: test average loss: 7.623 | acc: 98.44% (2589/2630)\n",
      "EarlyStopping counter: 5/25 (best: 0.9856)\n",
      "\n",
      "epoch 65: train average loss: 5.170 | acc: 100.00% (23670/23670)\n"
     ]
    },
    {
     "name": "stderr",
     "output_type": "stream",
     "text": [
      " 22%|██▏       | 65/300 [01:06<03:55,  1.00s/it]"
     ]
    },
    {
     "name": "stdout",
     "output_type": "stream",
     "text": [
      "\n",
      "epoch 65: test average loss: 7.637 | acc: 98.44% (2589/2630)\n",
      "EarlyStopping counter: 6/25 (best: 0.9856)\n",
      "\n",
      "epoch 66: train average loss: 5.175 | acc: 100.00% (23670/23670)\n"
     ]
    },
    {
     "name": "stderr",
     "output_type": "stream",
     "text": [
      " 22%|██▏       | 66/300 [01:07<04:04,  1.04s/it]"
     ]
    },
    {
     "name": "stdout",
     "output_type": "stream",
     "text": [
      "\n",
      "epoch 66: test average loss: 7.627 | acc: 98.52% (2591/2630)\n",
      "EarlyStopping counter: 7/25 (best: 0.9856)\n",
      "\n",
      "epoch 67: train average loss: 5.173 | acc: 100.00% (23670/23670)\n"
     ]
    },
    {
     "name": "stderr",
     "output_type": "stream",
     "text": [
      " 22%|██▏       | 67/300 [01:09<04:16,  1.10s/it]"
     ]
    },
    {
     "name": "stdout",
     "output_type": "stream",
     "text": [
      "\n",
      "epoch 67: test average loss: 7.647 | acc: 98.40% (2588/2630)\n",
      "EarlyStopping counter: 8/25 (best: 0.9856)\n",
      "\n",
      "epoch 68: train average loss: 5.176 | acc: 100.00% (23670/23670)\n"
     ]
    },
    {
     "name": "stderr",
     "output_type": "stream",
     "text": [
      " 23%|██▎       | 68/300 [01:10<04:16,  1.10s/it]"
     ]
    },
    {
     "name": "stdout",
     "output_type": "stream",
     "text": [
      "\n",
      "epoch 68: test average loss: 7.619 | acc: 98.40% (2588/2630)\n",
      "EarlyStopping counter: 9/25 (best: 0.9856)\n",
      "\n",
      "epoch 69: train average loss: 5.176 | acc: 100.00% (23670/23670)\n"
     ]
    },
    {
     "name": "stderr",
     "output_type": "stream",
     "text": [
      " 23%|██▎       | 69/300 [01:11<04:13,  1.10s/it]"
     ]
    },
    {
     "name": "stdout",
     "output_type": "stream",
     "text": [
      "\n",
      "epoch 69: test average loss: 7.636 | acc: 98.40% (2588/2630)\n",
      "EarlyStopping counter: 10/25 (best: 0.9856)\n",
      "\n",
      "epoch 70: train average loss: 5.176 | acc: 100.00% (23670/23670)\n"
     ]
    },
    {
     "name": "stderr",
     "output_type": "stream",
     "text": [
      " 23%|██▎       | 70/300 [01:12<04:08,  1.08s/it]"
     ]
    },
    {
     "name": "stdout",
     "output_type": "stream",
     "text": [
      "\n",
      "epoch 70: test average loss: 7.635 | acc: 98.52% (2591/2630)\n",
      "EarlyStopping counter: 11/25 (best: 0.9856)\n",
      "\n",
      "epoch 71: train average loss: 5.172 | acc: 100.00% (23670/23670)\n"
     ]
    },
    {
     "name": "stderr",
     "output_type": "stream",
     "text": [
      " 24%|██▎       | 71/300 [01:13<04:02,  1.06s/it]"
     ]
    },
    {
     "name": "stdout",
     "output_type": "stream",
     "text": [
      "\n",
      "epoch 71: test average loss: 7.579 | acc: 98.40% (2588/2630)\n",
      "EarlyStopping counter: 12/25 (best: 0.9856)\n",
      "\n",
      "epoch 72: train average loss: 5.175 | acc: 100.00% (23670/23670)\n"
     ]
    },
    {
     "name": "stderr",
     "output_type": "stream",
     "text": [
      " 24%|██▍       | 72/300 [01:14<03:56,  1.04s/it]"
     ]
    },
    {
     "name": "stdout",
     "output_type": "stream",
     "text": [
      "\n",
      "epoch 72: test average loss: 7.699 | acc: 98.56% (2592/2630)\n",
      "EarlyStopping counter: 13/25 (best: 0.9856)\n",
      "\n",
      "epoch 73: train average loss: 5.176 | acc: 100.00% (23670/23670)\n"
     ]
    },
    {
     "name": "stderr",
     "output_type": "stream",
     "text": [
      " 24%|██▍       | 73/300 [01:15<04:00,  1.06s/it]"
     ]
    },
    {
     "name": "stdout",
     "output_type": "stream",
     "text": [
      "\n",
      "epoch 73: test average loss: 7.627 | acc: 98.48% (2590/2630)\n",
      "EarlyStopping counter: 14/25 (best: 0.9856)\n",
      "\n",
      "epoch 74: train average loss: 5.176 | acc: 100.00% (23670/23670)\n"
     ]
    },
    {
     "name": "stderr",
     "output_type": "stream",
     "text": [
      " 25%|██▍       | 74/300 [01:16<03:57,  1.05s/it]"
     ]
    },
    {
     "name": "stdout",
     "output_type": "stream",
     "text": [
      "\n",
      "epoch 74: test average loss: 7.789 | acc: 98.33% (2586/2630)\n",
      "EarlyStopping counter: 15/25 (best: 0.9856)\n",
      "\n",
      "epoch 75: train average loss: 5.177 | acc: 100.00% (23670/23670)\n"
     ]
    },
    {
     "name": "stderr",
     "output_type": "stream",
     "text": [
      " 25%|██▌       | 75/300 [01:17<03:51,  1.03s/it]"
     ]
    },
    {
     "name": "stdout",
     "output_type": "stream",
     "text": [
      "\n",
      "epoch 75: test average loss: 7.856 | acc: 98.56% (2592/2630)\n",
      "EarlyStopping counter: 16/25 (best: 0.9856)\n",
      "\n",
      "epoch 76: train average loss: 5.181 | acc: 100.00% (23670/23670)\n"
     ]
    },
    {
     "name": "stderr",
     "output_type": "stream",
     "text": [
      " 25%|██▌       | 76/300 [01:18<03:50,  1.03s/it]"
     ]
    },
    {
     "name": "stdout",
     "output_type": "stream",
     "text": [
      "\n",
      "epoch 76: test average loss: 7.767 | acc: 98.29% (2585/2630)\n",
      "EarlyStopping counter: 17/25 (best: 0.9856)\n",
      "\n",
      "epoch 77: train average loss: 5.193 | acc: 100.00% (23670/23670)\n"
     ]
    },
    {
     "name": "stderr",
     "output_type": "stream",
     "text": [
      " 26%|██▌       | 77/300 [01:19<03:51,  1.04s/it]"
     ]
    },
    {
     "name": "stdout",
     "output_type": "stream",
     "text": [
      "\n",
      "epoch 77: test average loss: 7.665 | acc: 98.40% (2588/2630)\n",
      "EarlyStopping counter: 18/25 (best: 0.9856)\n",
      "\n",
      "epoch 78: train average loss: 5.187 | acc: 100.00% (23670/23670)\n",
      "\n",
      "epoch 78: test average loss: 7.763 | acc: 98.33% (2586/2630)\n"
     ]
    },
    {
     "name": "stderr",
     "output_type": "stream",
     "text": [
      " 26%|██▌       | 78/300 [01:20<03:49,  1.04s/it]"
     ]
    },
    {
     "name": "stdout",
     "output_type": "stream",
     "text": [
      "EarlyStopping counter: 19/25 (best: 0.9856)\n",
      "\n",
      "epoch 79: train average loss: 5.207 | acc: 100.00% (23670/23670)\n"
     ]
    },
    {
     "name": "stderr",
     "output_type": "stream",
     "text": [
      " 26%|██▋       | 79/300 [01:21<03:42,  1.01s/it]"
     ]
    },
    {
     "name": "stdout",
     "output_type": "stream",
     "text": [
      "\n",
      "epoch 79: test average loss: 7.797 | acc: 98.06% (2579/2630)\n",
      "EarlyStopping counter: 20/25 (best: 0.9856)\n",
      "\n",
      "epoch 80: train average loss: 5.214 | acc: 100.00% (23669/23670)\n"
     ]
    },
    {
     "name": "stderr",
     "output_type": "stream",
     "text": [
      " 27%|██▋       | 80/300 [01:22<03:49,  1.05s/it]"
     ]
    },
    {
     "name": "stdout",
     "output_type": "stream",
     "text": [
      "\n",
      "epoch 80: test average loss: 8.125 | acc: 97.60% (2567/2630)\n",
      "EarlyStopping counter: 21/25 (best: 0.9856)\n",
      "\n",
      "epoch 81: train average loss: 5.252 | acc: 100.00% (23669/23670)\n"
     ]
    },
    {
     "name": "stderr",
     "output_type": "stream",
     "text": [
      " 27%|██▋       | 81/300 [01:23<03:49,  1.05s/it]"
     ]
    },
    {
     "name": "stdout",
     "output_type": "stream",
     "text": [
      "\n",
      "epoch 81: test average loss: 7.844 | acc: 98.56% (2592/2630)\n",
      "EarlyStopping counter: 22/25 (best: 0.9856)\n",
      "\n",
      "epoch 82: train average loss: 5.214 | acc: 100.00% (23670/23670)\n"
     ]
    },
    {
     "name": "stderr",
     "output_type": "stream",
     "text": [
      " 27%|██▋       | 82/300 [01:25<04:10,  1.15s/it]"
     ]
    },
    {
     "name": "stdout",
     "output_type": "stream",
     "text": [
      "\n",
      "epoch 82: test average loss: 7.724 | acc: 97.95% (2576/2630)\n",
      "EarlyStopping counter: 23/25 (best: 0.9856)\n",
      "\n",
      "epoch 83: train average loss: 5.276 | acc: 100.00% (23669/23670)\n"
     ]
    },
    {
     "name": "stderr",
     "output_type": "stream",
     "text": [
      " 28%|██▊       | 83/300 [01:26<04:30,  1.25s/it]"
     ]
    },
    {
     "name": "stdout",
     "output_type": "stream",
     "text": [
      "\n",
      "epoch 83: test average loss: 7.571 | acc: 98.29% (2585/2630)\n",
      "EarlyStopping counter: 24/25 (best: 0.9856)\n",
      "\n",
      "epoch 84: train average loss: 5.294 | acc: 100.00% (23669/23670)\n"
     ]
    },
    {
     "name": "stderr",
     "output_type": "stream",
     "text": [
      " 28%|██▊       | 83/300 [01:28<03:50,  1.06s/it]"
     ]
    },
    {
     "name": "stdout",
     "output_type": "stream",
     "text": [
      "\n",
      "epoch 84: test average loss: 8.879 | acc: 96.54% (2539/2630)\n",
      "EarlyStopping counter: 25/25 (best: 0.9856)\n",
      "🔴 Early stopping triggered\n",
      "load model at epoch 59, with test acc : 0.986\n"
     ]
    },
    {
     "name": "stderr",
     "output_type": "stream",
     "text": [
      "\n",
      "/tmp/ipykernel_3076972/3696667578.py:175: FutureWarning:\n",
      "\n",
      "You are using `torch.load` with `weights_only=False` (the current default value), which uses the default pickle module implicitly. It is possible to construct malicious pickle data which will execute arbitrary code during unpickling (See https://github.com/pytorch/pytorch/blob/main/SECURITY.md#untrusted-models for more details). In a future release, the default value for `weights_only` will be flipped to `True`. This limits the functions that could be executed during unpickling. Arbitrary objects will no longer be allowed to be loaded via this mode unless they are explicitly allowlisted by the user via `torch.serialization.add_safe_globals`. We recommend you start setting `weights_only=True` for any use case where you don't have full control of the loaded file. Please open an issue on GitHub for any issues related to this experimental feature.\n",
      "\n"
     ]
    },
    {
     "name": "stdout",
     "output_type": "stream",
     "text": [
      "total 0.9855513307984791\n",
      "class 0 1.0\n",
      "class 1 0.9704433497536946\n",
      "class 2 0.9931972789115646\n",
      "class 3 0.9853249475890985\n",
      "class 4 0.9727272727272728\n",
      "class 5 0.9833887043189369\n",
      "class 6 1.0\n",
      "class 7 1.0\n",
      "class 8 1.0\n",
      "class 9 0.9818181818181818\n",
      "                                                             0\n",
      "Accuracy                                                0.9856\n",
      "Recall       [1.0, 0.9704, 0.9932, 0.9853, 0.9727, 0.9834, ...\n",
      "Specificity  [1.0, 0.9963, 0.9986, 0.9991, 0.9974, 0.9966, ...\n",
      "Precision    [1.0, 0.9563, 0.9932, 0.9958, 0.9817, 0.9737, ...\n",
      "F1 Score     [1.0, 0.9633, 0.9932, 0.9905, 0.9772, 0.9785, ...\n",
      "8\n"
     ]
    },
    {
     "name": "stderr",
     "output_type": "stream",
     "text": [
      "  0%|          | 0/300 [00:00<?, ?it/s]"
     ]
    },
    {
     "name": "stdout",
     "output_type": "stream",
     "text": [
      "\n",
      "epoch 1: train average loss: 22.365 | acc: 79.32% (18775/23670)\n"
     ]
    },
    {
     "name": "stderr",
     "output_type": "stream",
     "text": [
      "  0%|          | 1/300 [00:01<05:56,  1.19s/it]"
     ]
    },
    {
     "name": "stdout",
     "output_type": "stream",
     "text": [
      "\n",
      "epoch 1: test average loss: 18.051 | acc: 88.71% (2333/2630)\n",
      "best test acc found\n",
      "\n",
      "epoch 2: train average loss: 15.955 | acc: 91.83% (21735/23670)\n",
      "\n",
      "epoch 2: test average loss: 14.098 | acc: 91.03% (2394/2630)\n"
     ]
    },
    {
     "name": "stderr",
     "output_type": "stream",
     "text": [
      "  1%|          | 2/300 [00:02<05:46,  1.16s/it]"
     ]
    },
    {
     "name": "stdout",
     "output_type": "stream",
     "text": [
      "best test acc found\n",
      "\n",
      "epoch 3: train average loss: 12.481 | acc: 94.74% (22424/23670)\n"
     ]
    },
    {
     "name": "stderr",
     "output_type": "stream",
     "text": [
      "  1%|          | 3/300 [00:03<05:28,  1.11s/it]"
     ]
    },
    {
     "name": "stdout",
     "output_type": "stream",
     "text": [
      "\n",
      "epoch 3: test average loss: 11.313 | acc: 94.07% (2474/2630)\n",
      "best test acc found\n",
      "\n",
      "epoch 4: train average loss: 10.135 | acc: 96.18% (22765/23670)\n"
     ]
    },
    {
     "name": "stderr",
     "output_type": "stream",
     "text": [
      "  1%|▏         | 4/300 [00:04<05:18,  1.08s/it]"
     ]
    },
    {
     "name": "stdout",
     "output_type": "stream",
     "text": [
      "\n",
      "epoch 4: test average loss: 10.089 | acc: 92.28% (2427/2630)\n",
      "EarlyStopping counter: 1/25 (best: 0.9407)\n",
      "\n",
      "epoch 5: train average loss: 8.851 | acc: 97.18% (23002/23670)\n",
      "\n",
      "epoch 5: test average loss: 8.717 | acc: 95.51% (2512/2630)\n",
      "best test acc found\n"
     ]
    },
    {
     "name": "stderr",
     "output_type": "stream",
     "text": [
      "  2%|▏         | 5/300 [00:05<05:09,  1.05s/it]"
     ]
    },
    {
     "name": "stdout",
     "output_type": "stream",
     "text": [
      "\n",
      "epoch 6: train average loss: 8.265 | acc: 97.77% (23141/23670)\n"
     ]
    },
    {
     "name": "stderr",
     "output_type": "stream",
     "text": [
      "  2%|▏         | 6/300 [00:06<05:06,  1.04s/it]"
     ]
    },
    {
     "name": "stdout",
     "output_type": "stream",
     "text": [
      "\n",
      "epoch 6: test average loss: 8.503 | acc: 96.84% (2547/2630)\n",
      "best test acc found\n",
      "\n",
      "epoch 7: train average loss: 7.761 | acc: 98.45% (23302/23670)\n"
     ]
    },
    {
     "name": "stderr",
     "output_type": "stream",
     "text": [
      "  2%|▏         | 7/300 [00:07<05:11,  1.06s/it]"
     ]
    },
    {
     "name": "stdout",
     "output_type": "stream",
     "text": [
      "\n",
      "epoch 7: test average loss: 8.063 | acc: 97.22% (2557/2630)\n",
      "best test acc found\n",
      "\n",
      "epoch 8: train average loss: 7.502 | acc: 98.70% (23363/23670)\n"
     ]
    },
    {
     "name": "stderr",
     "output_type": "stream",
     "text": [
      "  3%|▎         | 8/300 [00:08<05:14,  1.08s/it]"
     ]
    },
    {
     "name": "stdout",
     "output_type": "stream",
     "text": [
      "\n",
      "epoch 8: test average loss: 8.060 | acc: 97.38% (2561/2630)\n",
      "best test acc found\n",
      "\n",
      "epoch 9: train average loss: 7.265 | acc: 99.04% (23442/23670)\n"
     ]
    },
    {
     "name": "stderr",
     "output_type": "stream",
     "text": [
      "  3%|▎         | 9/300 [00:09<05:12,  1.07s/it]"
     ]
    },
    {
     "name": "stdout",
     "output_type": "stream",
     "text": [
      "\n",
      "epoch 9: test average loss: 7.658 | acc: 97.41% (2562/2630)\n",
      "best test acc found\n",
      "\n",
      "epoch 10: train average loss: 7.027 | acc: 99.32% (23508/23670)\n"
     ]
    },
    {
     "name": "stderr",
     "output_type": "stream",
     "text": [
      "  3%|▎         | 10/300 [00:10<05:07,  1.06s/it]"
     ]
    },
    {
     "name": "stdout",
     "output_type": "stream",
     "text": [
      "\n",
      "epoch 10: test average loss: 7.995 | acc: 96.92% (2549/2630)\n",
      "EarlyStopping counter: 1/25 (best: 0.9741)\n",
      "\n",
      "epoch 11: train average loss: 6.835 | acc: 99.46% (23543/23670)\n"
     ]
    },
    {
     "name": "stderr",
     "output_type": "stream",
     "text": [
      "  4%|▎         | 11/300 [00:11<05:04,  1.05s/it]"
     ]
    },
    {
     "name": "stdout",
     "output_type": "stream",
     "text": [
      "\n",
      "epoch 11: test average loss: 7.381 | acc: 97.03% (2552/2630)\n",
      "EarlyStopping counter: 2/25 (best: 0.9741)\n",
      "\n",
      "epoch 12: train average loss: 6.714 | acc: 99.44% (23538/23670)\n"
     ]
    },
    {
     "name": "stderr",
     "output_type": "stream",
     "text": [
      "  4%|▍         | 12/300 [00:12<04:57,  1.03s/it]"
     ]
    },
    {
     "name": "stdout",
     "output_type": "stream",
     "text": [
      "\n",
      "epoch 12: test average loss: 7.525 | acc: 97.26% (2558/2630)\n",
      "EarlyStopping counter: 3/25 (best: 0.9741)\n",
      "\n",
      "epoch 13: train average loss: 6.591 | acc: 99.59% (23572/23670)\n",
      "\n",
      "epoch 13: test average loss: 7.458 | acc: 97.98% (2577/2630)\n",
      "best test acc found\n"
     ]
    },
    {
     "name": "stderr",
     "output_type": "stream",
     "text": [
      "  4%|▍         | 13/300 [00:13<04:53,  1.02s/it]"
     ]
    },
    {
     "name": "stdout",
     "output_type": "stream",
     "text": [
      "\n",
      "epoch 14: train average loss: 6.456 | acc: 99.73% (23605/23670)\n"
     ]
    },
    {
     "name": "stderr",
     "output_type": "stream",
     "text": [
      "  5%|▍         | 14/300 [00:14<04:49,  1.01s/it]"
     ]
    },
    {
     "name": "stdout",
     "output_type": "stream",
     "text": [
      "\n",
      "epoch 14: test average loss: 7.694 | acc: 96.96% (2550/2630)\n",
      "EarlyStopping counter: 1/25 (best: 0.9798)\n",
      "\n",
      "epoch 15: train average loss: 6.366 | acc: 99.76% (23613/23670)\n"
     ]
    },
    {
     "name": "stderr",
     "output_type": "stream",
     "text": [
      "  5%|▌         | 15/300 [00:15<04:44,  1.00it/s]"
     ]
    },
    {
     "name": "stdout",
     "output_type": "stream",
     "text": [
      "\n",
      "epoch 15: test average loss: 7.842 | acc: 97.49% (2564/2630)\n",
      "EarlyStopping counter: 2/25 (best: 0.9798)\n",
      "\n",
      "epoch 16: train average loss: 6.294 | acc: 99.74% (23609/23670)\n"
     ]
    },
    {
     "name": "stderr",
     "output_type": "stream",
     "text": [
      "  5%|▌         | 16/300 [00:16<04:46,  1.01s/it]"
     ]
    },
    {
     "name": "stdout",
     "output_type": "stream",
     "text": [
      "\n",
      "epoch 16: test average loss: 7.381 | acc: 97.98% (2577/2630)\n",
      "EarlyStopping counter: 3/25 (best: 0.9798)\n",
      "\n",
      "epoch 17: train average loss: 6.204 | acc: 99.86% (23636/23670)\n"
     ]
    },
    {
     "name": "stderr",
     "output_type": "stream",
     "text": [
      "  6%|▌         | 17/300 [00:17<04:51,  1.03s/it]"
     ]
    },
    {
     "name": "stdout",
     "output_type": "stream",
     "text": [
      "\n",
      "epoch 17: test average loss: 7.804 | acc: 97.30% (2559/2630)\n",
      "EarlyStopping counter: 4/25 (best: 0.9798)\n",
      "\n",
      "epoch 18: train average loss: 6.117 | acc: 99.91% (23648/23670)\n"
     ]
    },
    {
     "name": "stderr",
     "output_type": "stream",
     "text": [
      "  6%|▌         | 18/300 [00:18<04:50,  1.03s/it]"
     ]
    },
    {
     "name": "stdout",
     "output_type": "stream",
     "text": [
      "\n",
      "epoch 18: test average loss: 7.454 | acc: 98.06% (2579/2630)\n",
      "best test acc found\n",
      "\n",
      "epoch 19: train average loss: 6.061 | acc: 99.91% (23649/23670)\n"
     ]
    },
    {
     "name": "stderr",
     "output_type": "stream",
     "text": [
      "  6%|▋         | 19/300 [00:19<04:50,  1.03s/it]"
     ]
    },
    {
     "name": "stdout",
     "output_type": "stream",
     "text": [
      "\n",
      "epoch 19: test average loss: 7.715 | acc: 97.72% (2570/2630)\n",
      "EarlyStopping counter: 1/25 (best: 0.9806)\n",
      "\n",
      "epoch 20: train average loss: 6.046 | acc: 99.85% (23635/23670)\n"
     ]
    },
    {
     "name": "stderr",
     "output_type": "stream",
     "text": [
      "  7%|▋         | 20/300 [00:20<04:46,  1.02s/it]"
     ]
    },
    {
     "name": "stdout",
     "output_type": "stream",
     "text": [
      "\n",
      "epoch 20: test average loss: 7.677 | acc: 97.87% (2574/2630)\n",
      "EarlyStopping counter: 2/25 (best: 0.9806)\n",
      "\n",
      "epoch 21: train average loss: 5.996 | acc: 99.89% (23643/23670)\n",
      "\n",
      "epoch 21: test average loss: 7.327 | acc: 97.64% (2568/2630)\n"
     ]
    },
    {
     "name": "stderr",
     "output_type": "stream",
     "text": [
      "  7%|▋         | 21/300 [00:21<04:42,  1.01s/it]"
     ]
    },
    {
     "name": "stdout",
     "output_type": "stream",
     "text": [
      "EarlyStopping counter: 3/25 (best: 0.9806)\n",
      "\n",
      "epoch 22: train average loss: 5.946 | acc: 99.92% (23651/23670)\n"
     ]
    },
    {
     "name": "stderr",
     "output_type": "stream",
     "text": [
      "  7%|▋         | 22/300 [00:22<04:39,  1.01s/it]"
     ]
    },
    {
     "name": "stdout",
     "output_type": "stream",
     "text": [
      "\n",
      "epoch 22: test average loss: 7.400 | acc: 98.10% (2580/2630)\n",
      "best test acc found\n",
      "\n",
      "epoch 23: train average loss: 5.897 | acc: 99.93% (23653/23670)\n"
     ]
    },
    {
     "name": "stderr",
     "output_type": "stream",
     "text": [
      "  8%|▊         | 23/300 [00:23<04:34,  1.01it/s]"
     ]
    },
    {
     "name": "stdout",
     "output_type": "stream",
     "text": [
      "\n",
      "epoch 23: test average loss: 7.446 | acc: 98.06% (2579/2630)\n",
      "EarlyStopping counter: 1/25 (best: 0.9810)\n",
      "\n",
      "epoch 24: train average loss: 5.807 | acc: 99.97% (23662/23670)\n",
      "\n",
      "epoch 24: test average loss: 7.302 | acc: 98.17% (2582/2630)\n",
      "best test acc found\n"
     ]
    },
    {
     "name": "stderr",
     "output_type": "stream",
     "text": [
      "  8%|▊         | 24/300 [00:24<04:30,  1.02it/s]"
     ]
    },
    {
     "name": "stdout",
     "output_type": "stream",
     "text": [
      "\n",
      "epoch 25: train average loss: 5.787 | acc: 99.97% (23662/23670)\n"
     ]
    },
    {
     "name": "stderr",
     "output_type": "stream",
     "text": [
      "  8%|▊         | 25/300 [00:25<04:24,  1.04it/s]"
     ]
    },
    {
     "name": "stdout",
     "output_type": "stream",
     "text": [
      "\n",
      "epoch 25: test average loss: 7.412 | acc: 98.14% (2581/2630)\n",
      "EarlyStopping counter: 1/25 (best: 0.9817)\n",
      "\n",
      "epoch 26: train average loss: 5.730 | acc: 99.97% (23662/23670)\n"
     ]
    },
    {
     "name": "stderr",
     "output_type": "stream",
     "text": [
      "  9%|▊         | 26/300 [00:26<04:23,  1.04it/s]"
     ]
    },
    {
     "name": "stdout",
     "output_type": "stream",
     "text": [
      "\n",
      "epoch 26: test average loss: 7.321 | acc: 97.87% (2574/2630)\n",
      "EarlyStopping counter: 2/25 (best: 0.9817)\n",
      "\n",
      "epoch 27: train average loss: 5.718 | acc: 99.98% (23666/23670)\n"
     ]
    },
    {
     "name": "stderr",
     "output_type": "stream",
     "text": [
      "  9%|▉         | 27/300 [00:27<04:28,  1.02it/s]"
     ]
    },
    {
     "name": "stdout",
     "output_type": "stream",
     "text": [
      "\n",
      "epoch 27: test average loss: 7.696 | acc: 97.83% (2573/2630)\n",
      "EarlyStopping counter: 3/25 (best: 0.9817)\n",
      "\n",
      "epoch 28: train average loss: 5.658 | acc: 100.00% (23670/23670)\n"
     ]
    },
    {
     "name": "stderr",
     "output_type": "stream",
     "text": [
      "  9%|▉         | 28/300 [00:28<04:28,  1.01it/s]"
     ]
    },
    {
     "name": "stdout",
     "output_type": "stream",
     "text": [
      "\n",
      "epoch 28: test average loss: 7.520 | acc: 98.25% (2584/2630)\n",
      "best test acc found\n",
      "\n",
      "epoch 29: train average loss: 5.638 | acc: 100.00% (23669/23670)\n"
     ]
    },
    {
     "name": "stderr",
     "output_type": "stream",
     "text": [
      " 10%|▉         | 29/300 [00:29<04:30,  1.00it/s]"
     ]
    },
    {
     "name": "stdout",
     "output_type": "stream",
     "text": [
      "\n",
      "epoch 29: test average loss: 7.409 | acc: 98.10% (2580/2630)\n",
      "EarlyStopping counter: 1/25 (best: 0.9825)\n",
      "\n",
      "epoch 30: train average loss: 5.591 | acc: 99.99% (23667/23670)\n"
     ]
    },
    {
     "name": "stderr",
     "output_type": "stream",
     "text": [
      " 10%|█         | 30/300 [00:30<04:27,  1.01it/s]"
     ]
    },
    {
     "name": "stdout",
     "output_type": "stream",
     "text": [
      "\n",
      "epoch 30: test average loss: 7.408 | acc: 98.25% (2584/2630)\n",
      "EarlyStopping counter: 2/25 (best: 0.9825)\n",
      "\n",
      "epoch 31: train average loss: 5.604 | acc: 99.97% (23662/23670)\n"
     ]
    },
    {
     "name": "stderr",
     "output_type": "stream",
     "text": [
      " 10%|█         | 31/300 [00:31<04:26,  1.01it/s]"
     ]
    },
    {
     "name": "stdout",
     "output_type": "stream",
     "text": [
      "\n",
      "epoch 31: test average loss: 7.392 | acc: 98.02% (2578/2630)\n",
      "EarlyStopping counter: 3/25 (best: 0.9825)\n",
      "\n",
      "epoch 32: train average loss: 5.547 | acc: 100.00% (23669/23670)\n"
     ]
    },
    {
     "name": "stderr",
     "output_type": "stream",
     "text": [
      " 11%|█         | 32/300 [00:32<04:23,  1.02it/s]"
     ]
    },
    {
     "name": "stdout",
     "output_type": "stream",
     "text": [
      "\n",
      "epoch 32: test average loss: 7.463 | acc: 97.91% (2575/2630)\n",
      "EarlyStopping counter: 4/25 (best: 0.9825)\n",
      "\n",
      "epoch 33: train average loss: 5.505 | acc: 100.00% (23669/23670)\n"
     ]
    },
    {
     "name": "stderr",
     "output_type": "stream",
     "text": [
      " 11%|█         | 33/300 [00:33<04:18,  1.03it/s]"
     ]
    },
    {
     "name": "stdout",
     "output_type": "stream",
     "text": [
      "\n",
      "epoch 33: test average loss: 7.558 | acc: 98.06% (2579/2630)\n",
      "EarlyStopping counter: 5/25 (best: 0.9825)\n",
      "\n",
      "epoch 34: train average loss: 5.497 | acc: 100.00% (23670/23670)\n"
     ]
    },
    {
     "name": "stderr",
     "output_type": "stream",
     "text": [
      " 11%|█▏        | 34/300 [00:34<04:14,  1.05it/s]"
     ]
    },
    {
     "name": "stdout",
     "output_type": "stream",
     "text": [
      "\n",
      "epoch 34: test average loss: 7.535 | acc: 98.21% (2583/2630)\n",
      "EarlyStopping counter: 6/25 (best: 0.9825)\n",
      "\n",
      "epoch 35: train average loss: 5.441 | acc: 100.00% (23669/23670)\n"
     ]
    },
    {
     "name": "stderr",
     "output_type": "stream",
     "text": [
      " 12%|█▏        | 35/300 [00:35<04:09,  1.06it/s]"
     ]
    },
    {
     "name": "stdout",
     "output_type": "stream",
     "text": [
      "\n",
      "epoch 35: test average loss: 7.359 | acc: 98.40% (2588/2630)\n",
      "best test acc found\n",
      "\n",
      "epoch 36: train average loss: 5.416 | acc: 100.00% (23670/23670)\n",
      "\n",
      "epoch 36: test average loss: 7.321 | acc: 98.52% (2591/2630)\n",
      "best test acc found\n"
     ]
    },
    {
     "name": "stderr",
     "output_type": "stream",
     "text": [
      " 12%|█▏        | 36/300 [00:36<04:05,  1.07it/s]"
     ]
    },
    {
     "name": "stdout",
     "output_type": "stream",
     "text": [
      "\n",
      "epoch 37: train average loss: 5.392 | acc: 100.00% (23670/23670)\n"
     ]
    },
    {
     "name": "stderr",
     "output_type": "stream",
     "text": [
      " 12%|█▏        | 37/300 [00:37<04:16,  1.02it/s]"
     ]
    },
    {
     "name": "stdout",
     "output_type": "stream",
     "text": [
      "\n",
      "epoch 37: test average loss: 7.492 | acc: 98.21% (2583/2630)\n",
      "EarlyStopping counter: 1/25 (best: 0.9852)\n",
      "\n",
      "epoch 38: train average loss: 5.372 | acc: 100.00% (23670/23670)\n"
     ]
    },
    {
     "name": "stderr",
     "output_type": "stream",
     "text": [
      " 13%|█▎        | 38/300 [00:38<04:19,  1.01it/s]"
     ]
    },
    {
     "name": "stdout",
     "output_type": "stream",
     "text": [
      "\n",
      "epoch 38: test average loss: 7.424 | acc: 98.56% (2592/2630)\n",
      "best test acc found\n",
      "\n",
      "epoch 39: train average loss: 5.356 | acc: 100.00% (23669/23670)\n"
     ]
    },
    {
     "name": "stderr",
     "output_type": "stream",
     "text": [
      " 13%|█▎        | 39/300 [00:39<04:21,  1.00s/it]"
     ]
    },
    {
     "name": "stdout",
     "output_type": "stream",
     "text": [
      "\n",
      "epoch 39: test average loss: 7.522 | acc: 98.21% (2583/2630)\n",
      "EarlyStopping counter: 1/25 (best: 0.9856)\n",
      "\n",
      "epoch 40: train average loss: 5.325 | acc: 100.00% (23670/23670)\n"
     ]
    },
    {
     "name": "stderr",
     "output_type": "stream",
     "text": [
      " 13%|█▎        | 40/300 [00:40<04:22,  1.01s/it]"
     ]
    },
    {
     "name": "stdout",
     "output_type": "stream",
     "text": [
      "\n",
      "epoch 40: test average loss: 7.446 | acc: 98.52% (2591/2630)\n",
      "EarlyStopping counter: 2/25 (best: 0.9856)\n",
      "\n",
      "epoch 41: train average loss: 5.307 | acc: 100.00% (23670/23670)\n"
     ]
    },
    {
     "name": "stderr",
     "output_type": "stream",
     "text": [
      " 14%|█▎        | 41/300 [00:41<04:19,  1.00s/it]"
     ]
    },
    {
     "name": "stdout",
     "output_type": "stream",
     "text": [
      "\n",
      "epoch 41: test average loss: 7.489 | acc: 98.21% (2583/2630)\n",
      "EarlyStopping counter: 3/25 (best: 0.9856)\n",
      "\n",
      "epoch 42: train average loss: 5.291 | acc: 100.00% (23670/23670)\n"
     ]
    },
    {
     "name": "stderr",
     "output_type": "stream",
     "text": [
      " 14%|█▍        | 42/300 [00:42<04:16,  1.01it/s]"
     ]
    },
    {
     "name": "stdout",
     "output_type": "stream",
     "text": [
      "\n",
      "epoch 42: test average loss: 7.517 | acc: 98.48% (2590/2630)\n",
      "EarlyStopping counter: 4/25 (best: 0.9856)\n",
      "\n",
      "epoch 43: train average loss: 5.290 | acc: 100.00% (23670/23670)\n"
     ]
    },
    {
     "name": "stderr",
     "output_type": "stream",
     "text": [
      " 14%|█▍        | 43/300 [00:43<04:12,  1.02it/s]"
     ]
    },
    {
     "name": "stdout",
     "output_type": "stream",
     "text": [
      "\n",
      "epoch 43: test average loss: 7.482 | acc: 98.29% (2585/2630)\n",
      "EarlyStopping counter: 5/25 (best: 0.9856)\n",
      "\n",
      "epoch 44: train average loss: 5.258 | acc: 100.00% (23670/23670)\n"
     ]
    },
    {
     "name": "stderr",
     "output_type": "stream",
     "text": [
      " 15%|█▍        | 44/300 [00:44<04:07,  1.03it/s]"
     ]
    },
    {
     "name": "stdout",
     "output_type": "stream",
     "text": [
      "\n",
      "epoch 44: test average loss: 7.497 | acc: 98.29% (2585/2630)\n",
      "EarlyStopping counter: 6/25 (best: 0.9856)\n",
      "\n",
      "epoch 45: train average loss: 5.255 | acc: 100.00% (23670/23670)\n"
     ]
    },
    {
     "name": "stderr",
     "output_type": "stream",
     "text": [
      " 15%|█▌        | 45/300 [00:45<04:06,  1.03it/s]"
     ]
    },
    {
     "name": "stdout",
     "output_type": "stream",
     "text": [
      "\n",
      "epoch 45: test average loss: 7.427 | acc: 98.40% (2588/2630)\n",
      "EarlyStopping counter: 7/25 (best: 0.9856)\n",
      "\n",
      "epoch 46: train average loss: 5.248 | acc: 100.00% (23670/23670)\n"
     ]
    },
    {
     "name": "stderr",
     "output_type": "stream",
     "text": [
      " 15%|█▌        | 46/300 [00:46<04:03,  1.04it/s]"
     ]
    },
    {
     "name": "stdout",
     "output_type": "stream",
     "text": [
      "\n",
      "epoch 46: test average loss: 7.493 | acc: 98.48% (2590/2630)\n",
      "EarlyStopping counter: 8/25 (best: 0.9856)\n",
      "\n",
      "epoch 47: train average loss: 5.235 | acc: 100.00% (23670/23670)\n"
     ]
    },
    {
     "name": "stderr",
     "output_type": "stream",
     "text": [
      " 16%|█▌        | 47/300 [00:47<04:10,  1.01it/s]"
     ]
    },
    {
     "name": "stdout",
     "output_type": "stream",
     "text": [
      "\n",
      "epoch 47: test average loss: 7.495 | acc: 98.48% (2590/2630)\n",
      "EarlyStopping counter: 9/25 (best: 0.9856)\n",
      "\n",
      "epoch 48: train average loss: 5.216 | acc: 100.00% (23670/23670)\n"
     ]
    },
    {
     "name": "stderr",
     "output_type": "stream",
     "text": [
      " 16%|█▌        | 48/300 [00:48<04:14,  1.01s/it]"
     ]
    },
    {
     "name": "stdout",
     "output_type": "stream",
     "text": [
      "\n",
      "epoch 48: test average loss: 7.469 | acc: 98.52% (2591/2630)\n",
      "EarlyStopping counter: 10/25 (best: 0.9856)\n",
      "\n",
      "epoch 49: train average loss: 5.208 | acc: 100.00% (23670/23670)\n"
     ]
    },
    {
     "name": "stderr",
     "output_type": "stream",
     "text": [
      " 16%|█▋        | 49/300 [00:49<04:12,  1.01s/it]"
     ]
    },
    {
     "name": "stdout",
     "output_type": "stream",
     "text": [
      "\n",
      "epoch 49: test average loss: 7.499 | acc: 98.44% (2589/2630)\n",
      "EarlyStopping counter: 11/25 (best: 0.9856)\n",
      "\n",
      "epoch 50: train average loss: 5.203 | acc: 100.00% (23670/23670)\n"
     ]
    },
    {
     "name": "stderr",
     "output_type": "stream",
     "text": [
      " 17%|█▋        | 50/300 [00:50<04:29,  1.08s/it]"
     ]
    },
    {
     "name": "stdout",
     "output_type": "stream",
     "text": [
      "\n",
      "epoch 50: test average loss: 7.575 | acc: 98.44% (2589/2630)\n",
      "EarlyStopping counter: 12/25 (best: 0.9856)\n",
      "\n",
      "epoch 51: train average loss: 5.196 | acc: 100.00% (23670/23670)\n"
     ]
    },
    {
     "name": "stderr",
     "output_type": "stream",
     "text": [
      " 17%|█▋        | 51/300 [00:51<04:29,  1.08s/it]"
     ]
    },
    {
     "name": "stdout",
     "output_type": "stream",
     "text": [
      "\n",
      "epoch 51: test average loss: 7.603 | acc: 98.37% (2587/2630)\n",
      "EarlyStopping counter: 13/25 (best: 0.9856)\n",
      "\n",
      "epoch 52: train average loss: 5.183 | acc: 100.00% (23670/23670)\n"
     ]
    },
    {
     "name": "stderr",
     "output_type": "stream",
     "text": [
      " 17%|█▋        | 52/300 [00:52<04:25,  1.07s/it]"
     ]
    },
    {
     "name": "stdout",
     "output_type": "stream",
     "text": [
      "\n",
      "epoch 52: test average loss: 7.565 | acc: 98.40% (2588/2630)\n",
      "EarlyStopping counter: 14/25 (best: 0.9856)\n",
      "\n",
      "epoch 53: train average loss: 5.179 | acc: 100.00% (23670/23670)\n"
     ]
    },
    {
     "name": "stderr",
     "output_type": "stream",
     "text": [
      " 18%|█▊        | 53/300 [00:53<04:15,  1.04s/it]"
     ]
    },
    {
     "name": "stdout",
     "output_type": "stream",
     "text": [
      "\n",
      "epoch 53: test average loss: 7.597 | acc: 98.40% (2588/2630)\n",
      "EarlyStopping counter: 15/25 (best: 0.9856)\n",
      "\n",
      "epoch 54: train average loss: 5.181 | acc: 100.00% (23670/23670)\n"
     ]
    },
    {
     "name": "stderr",
     "output_type": "stream",
     "text": [
      " 18%|█▊        | 54/300 [00:54<04:11,  1.02s/it]"
     ]
    },
    {
     "name": "stdout",
     "output_type": "stream",
     "text": [
      "\n",
      "epoch 54: test average loss: 7.612 | acc: 98.37% (2587/2630)\n",
      "EarlyStopping counter: 16/25 (best: 0.9856)\n",
      "\n",
      "epoch 55: train average loss: 5.171 | acc: 100.00% (23670/23670)\n",
      "\n",
      "epoch 55: test average loss: 7.616 | acc: 98.40% (2588/2630)\n"
     ]
    },
    {
     "name": "stderr",
     "output_type": "stream",
     "text": [
      " 18%|█▊        | 55/300 [00:55<04:05,  1.00s/it]"
     ]
    },
    {
     "name": "stdout",
     "output_type": "stream",
     "text": [
      "EarlyStopping counter: 17/25 (best: 0.9856)\n",
      "\n",
      "epoch 56: train average loss: 5.165 | acc: 100.00% (23670/23670)\n"
     ]
    },
    {
     "name": "stderr",
     "output_type": "stream",
     "text": [
      " 19%|█▊        | 56/300 [00:56<04:00,  1.01it/s]"
     ]
    },
    {
     "name": "stdout",
     "output_type": "stream",
     "text": [
      "\n",
      "epoch 56: test average loss: 7.598 | acc: 98.44% (2589/2630)\n",
      "EarlyStopping counter: 18/25 (best: 0.9856)\n",
      "\n",
      "epoch 57: train average loss: 5.165 | acc: 100.00% (23670/23670)\n"
     ]
    },
    {
     "name": "stderr",
     "output_type": "stream",
     "text": [
      " 19%|█▉        | 57/300 [00:57<04:05,  1.01s/it]"
     ]
    },
    {
     "name": "stdout",
     "output_type": "stream",
     "text": [
      "\n",
      "epoch 57: test average loss: 7.611 | acc: 98.44% (2589/2630)\n",
      "EarlyStopping counter: 19/25 (best: 0.9856)\n",
      "\n",
      "epoch 58: train average loss: 5.172 | acc: 100.00% (23670/23670)\n"
     ]
    },
    {
     "name": "stderr",
     "output_type": "stream",
     "text": [
      " 19%|█▉        | 58/300 [00:58<04:07,  1.02s/it]"
     ]
    },
    {
     "name": "stdout",
     "output_type": "stream",
     "text": [
      "\n",
      "epoch 58: test average loss: 7.593 | acc: 98.40% (2588/2630)\n",
      "EarlyStopping counter: 20/25 (best: 0.9856)\n",
      "\n",
      "epoch 59: train average loss: 5.174 | acc: 100.00% (23670/23670)\n"
     ]
    },
    {
     "name": "stderr",
     "output_type": "stream",
     "text": [
      " 20%|█▉        | 59/300 [00:59<04:05,  1.02s/it]"
     ]
    },
    {
     "name": "stdout",
     "output_type": "stream",
     "text": [
      "\n",
      "epoch 59: test average loss: 7.610 | acc: 98.40% (2588/2630)\n",
      "EarlyStopping counter: 21/25 (best: 0.9856)\n",
      "\n",
      "epoch 60: train average loss: 5.163 | acc: 100.00% (23670/23670)\n"
     ]
    },
    {
     "name": "stderr",
     "output_type": "stream",
     "text": [
      " 20%|██        | 60/300 [01:01<04:39,  1.16s/it]"
     ]
    },
    {
     "name": "stdout",
     "output_type": "stream",
     "text": [
      "\n",
      "epoch 60: test average loss: 7.606 | acc: 98.44% (2589/2630)\n",
      "EarlyStopping counter: 22/25 (best: 0.9856)\n",
      "\n",
      "epoch 61: train average loss: 5.167 | acc: 100.00% (23670/23670)\n"
     ]
    },
    {
     "name": "stderr",
     "output_type": "stream",
     "text": [
      " 20%|██        | 61/300 [01:02<04:33,  1.14s/it]"
     ]
    },
    {
     "name": "stdout",
     "output_type": "stream",
     "text": [
      "\n",
      "epoch 61: test average loss: 7.620 | acc: 98.48% (2590/2630)\n",
      "EarlyStopping counter: 23/25 (best: 0.9856)\n",
      "\n",
      "epoch 62: train average loss: 5.167 | acc: 100.00% (23670/23670)\n"
     ]
    },
    {
     "name": "stderr",
     "output_type": "stream",
     "text": [
      " 21%|██        | 62/300 [01:03<04:21,  1.10s/it]"
     ]
    },
    {
     "name": "stdout",
     "output_type": "stream",
     "text": [
      "\n",
      "epoch 62: test average loss: 7.599 | acc: 98.37% (2587/2630)\n",
      "EarlyStopping counter: 24/25 (best: 0.9856)\n",
      "\n",
      "epoch 63: train average loss: 5.161 | acc: 100.00% (23670/23670)\n"
     ]
    },
    {
     "name": "stderr",
     "output_type": "stream",
     "text": [
      " 21%|██        | 62/300 [01:04<04:06,  1.04s/it]"
     ]
    },
    {
     "name": "stdout",
     "output_type": "stream",
     "text": [
      "\n",
      "epoch 63: test average loss: 7.594 | acc: 98.48% (2590/2630)\n",
      "EarlyStopping counter: 25/25 (best: 0.9856)\n",
      "🔴 Early stopping triggered\n",
      "load model at epoch 38, with test acc : 0.986\n"
     ]
    },
    {
     "name": "stderr",
     "output_type": "stream",
     "text": [
      "\n",
      "/tmp/ipykernel_3076972/3696667578.py:175: FutureWarning:\n",
      "\n",
      "You are using `torch.load` with `weights_only=False` (the current default value), which uses the default pickle module implicitly. It is possible to construct malicious pickle data which will execute arbitrary code during unpickling (See https://github.com/pytorch/pytorch/blob/main/SECURITY.md#untrusted-models for more details). In a future release, the default value for `weights_only` will be flipped to `True`. This limits the functions that could be executed during unpickling. Arbitrary objects will no longer be allowed to be loaded via this mode unless they are explicitly allowlisted by the user via `torch.serialization.add_safe_globals`. We recommend you start setting `weights_only=True` for any use case where you don't have full control of the loaded file. Please open an issue on GitHub for any issues related to this experimental feature.\n",
      "\n"
     ]
    },
    {
     "name": "stdout",
     "output_type": "stream",
     "text": [
      "total 0.9855513307984791\n",
      "class 0 1.0\n",
      "class 1 0.9554455445544554\n",
      "class 2 0.9977324263038548\n",
      "class 3 0.9852941176470589\n",
      "class 4 0.9666666666666667\n",
      "class 5 0.9801324503311258\n",
      "class 6 1.0\n",
      "class 7 0.9777777777777777\n",
      "class 8 0.9866666666666667\n",
      "class 9 0.9954648526077098\n",
      "                                                             0\n",
      "Accuracy                                                0.9856\n",
      "Recall       [1.0, 0.9554, 0.9977, 0.9853, 0.9667, 0.9801, ...\n",
      "Specificity  [0.9996, 0.9959, 0.9982, 0.9977, 0.9952, 0.999...\n",
      "Precision    [0.9955, 0.9507, 0.991, 0.9895, 0.9667, 0.9966...\n",
      "F1 Score     [0.9977, 0.9531, 0.9944, 0.9874, 0.9667, 0.988...\n",
      "9\n"
     ]
    },
    {
     "name": "stderr",
     "output_type": "stream",
     "text": [
      "  0%|          | 0/300 [00:00<?, ?it/s]"
     ]
    },
    {
     "name": "stdout",
     "output_type": "stream",
     "text": [
      "\n",
      "epoch 1: train average loss: 22.503 | acc: 78.91% (18679/23670)\n"
     ]
    },
    {
     "name": "stderr",
     "output_type": "stream",
     "text": [
      "  0%|          | 1/300 [00:00<04:46,  1.04it/s]"
     ]
    },
    {
     "name": "stdout",
     "output_type": "stream",
     "text": [
      "\n",
      "epoch 1: test average loss: 18.626 | acc: 87.87% (2311/2630)\n",
      "best test acc found\n",
      "\n",
      "epoch 2: train average loss: 16.004 | acc: 91.93% (21761/23670)\n"
     ]
    },
    {
     "name": "stderr",
     "output_type": "stream",
     "text": [
      "  1%|          | 2/300 [00:01<04:42,  1.05it/s]"
     ]
    },
    {
     "name": "stdout",
     "output_type": "stream",
     "text": [
      "\n",
      "epoch 2: test average loss: 15.042 | acc: 89.24% (2347/2630)\n",
      "best test acc found\n",
      "\n",
      "epoch 3: train average loss: 12.523 | acc: 94.65% (22403/23670)\n"
     ]
    },
    {
     "name": "stderr",
     "output_type": "stream",
     "text": [
      "  1%|          | 3/300 [00:02<04:54,  1.01it/s]"
     ]
    },
    {
     "name": "stdout",
     "output_type": "stream",
     "text": [
      "\n",
      "epoch 3: test average loss: 11.231 | acc: 94.30% (2480/2630)\n",
      "best test acc found\n",
      "\n",
      "epoch 4: train average loss: 10.166 | acc: 95.90% (22699/23670)\n"
     ]
    },
    {
     "name": "stderr",
     "output_type": "stream",
     "text": [
      "  1%|▏         | 4/300 [00:03<04:59,  1.01s/it]"
     ]
    },
    {
     "name": "stdout",
     "output_type": "stream",
     "text": [
      "\n",
      "epoch 4: test average loss: 10.251 | acc: 91.90% (2417/2630)\n",
      "EarlyStopping counter: 1/25 (best: 0.9430)\n",
      "\n",
      "epoch 5: train average loss: 8.874 | acc: 97.09% (22981/23670)\n"
     ]
    },
    {
     "name": "stderr",
     "output_type": "stream",
     "text": [
      "  2%|▏         | 5/300 [00:05<05:04,  1.03s/it]"
     ]
    },
    {
     "name": "stdout",
     "output_type": "stream",
     "text": [
      "\n",
      "epoch 5: test average loss: 9.121 | acc: 94.45% (2484/2630)\n",
      "best test acc found\n",
      "\n",
      "epoch 6: train average loss: 8.204 | acc: 97.83% (23157/23670)\n"
     ]
    },
    {
     "name": "stderr",
     "output_type": "stream",
     "text": [
      "  2%|▏         | 6/300 [00:06<05:04,  1.04s/it]"
     ]
    },
    {
     "name": "stdout",
     "output_type": "stream",
     "text": [
      "\n",
      "epoch 6: test average loss: 8.970 | acc: 95.74% (2518/2630)\n",
      "best test acc found\n",
      "\n",
      "epoch 7: train average loss: 7.793 | acc: 98.34% (23278/23670)\n"
     ]
    },
    {
     "name": "stderr",
     "output_type": "stream",
     "text": [
      "  2%|▏         | 7/300 [00:07<05:03,  1.04s/it]"
     ]
    },
    {
     "name": "stdout",
     "output_type": "stream",
     "text": [
      "\n",
      "epoch 7: test average loss: 8.736 | acc: 97.49% (2564/2630)\n",
      "best test acc found\n",
      "\n",
      "epoch 8: train average loss: 7.437 | acc: 98.80% (23385/23670)\n",
      "\n",
      "epoch 8: test average loss: 8.471 | acc: 96.05% (2526/2630)\n"
     ]
    },
    {
     "name": "stderr",
     "output_type": "stream",
     "text": [
      "  3%|▎         | 8/300 [00:08<04:57,  1.02s/it]"
     ]
    },
    {
     "name": "stdout",
     "output_type": "stream",
     "text": [
      "EarlyStopping counter: 1/25 (best: 0.9749)\n",
      "\n",
      "epoch 9: train average loss: 7.225 | acc: 98.90% (23409/23670)\n",
      "\n",
      "epoch 9: test average loss: 7.946 | acc: 97.72% (2570/2630)\n",
      "best test acc found\n"
     ]
    },
    {
     "name": "stderr",
     "output_type": "stream",
     "text": [
      "  3%|▎         | 9/300 [00:09<04:50,  1.00it/s]"
     ]
    },
    {
     "name": "stdout",
     "output_type": "stream",
     "text": [
      "\n",
      "epoch 10: train average loss: 6.990 | acc: 99.25% (23492/23670)\n"
     ]
    },
    {
     "name": "stderr",
     "output_type": "stream",
     "text": [
      "  3%|▎         | 10/300 [00:10<04:48,  1.01it/s]"
     ]
    },
    {
     "name": "stdout",
     "output_type": "stream",
     "text": [
      "\n",
      "epoch 10: test average loss: 8.404 | acc: 96.16% (2529/2630)\n",
      "EarlyStopping counter: 1/25 (best: 0.9772)\n",
      "\n",
      "epoch 11: train average loss: 6.793 | acc: 99.39% (23526/23670)\n"
     ]
    },
    {
     "name": "stderr",
     "output_type": "stream",
     "text": [
      "  4%|▎         | 11/300 [00:10<04:41,  1.03it/s]"
     ]
    },
    {
     "name": "stdout",
     "output_type": "stream",
     "text": [
      "\n",
      "epoch 11: test average loss: 8.459 | acc: 96.35% (2534/2630)\n",
      "EarlyStopping counter: 2/25 (best: 0.9772)\n",
      "\n",
      "epoch 12: train average loss: 6.695 | acc: 99.53% (23558/23670)\n"
     ]
    },
    {
     "name": "stderr",
     "output_type": "stream",
     "text": [
      "  4%|▍         | 12/300 [00:11<04:38,  1.04it/s]"
     ]
    },
    {
     "name": "stdout",
     "output_type": "stream",
     "text": [
      "\n",
      "epoch 12: test average loss: 8.027 | acc: 97.07% (2553/2630)\n",
      "EarlyStopping counter: 3/25 (best: 0.9772)\n",
      "\n",
      "epoch 13: train average loss: 6.574 | acc: 99.55% (23563/23670)\n"
     ]
    },
    {
     "name": "stderr",
     "output_type": "stream",
     "text": [
      "  4%|▍         | 13/300 [00:12<04:45,  1.01it/s]"
     ]
    },
    {
     "name": "stdout",
     "output_type": "stream",
     "text": [
      "\n",
      "epoch 13: test average loss: 8.291 | acc: 96.65% (2542/2630)\n",
      "EarlyStopping counter: 4/25 (best: 0.9772)\n",
      "\n",
      "epoch 14: train average loss: 6.419 | acc: 99.72% (23603/23670)\n"
     ]
    },
    {
     "name": "stderr",
     "output_type": "stream",
     "text": [
      "  5%|▍         | 14/300 [00:14<04:47,  1.00s/it]"
     ]
    },
    {
     "name": "stdout",
     "output_type": "stream",
     "text": [
      "\n",
      "epoch 14: test average loss: 7.866 | acc: 96.24% (2531/2630)\n",
      "EarlyStopping counter: 5/25 (best: 0.9772)\n",
      "\n",
      "epoch 15: train average loss: 6.286 | acc: 99.76% (23613/23670)\n"
     ]
    },
    {
     "name": "stderr",
     "output_type": "stream",
     "text": [
      "  5%|▌         | 15/300 [00:15<04:53,  1.03s/it]"
     ]
    },
    {
     "name": "stdout",
     "output_type": "stream",
     "text": [
      "\n",
      "epoch 15: test average loss: 8.143 | acc: 96.88% (2548/2630)\n",
      "EarlyStopping counter: 6/25 (best: 0.9772)\n",
      "\n",
      "epoch 16: train average loss: 6.219 | acc: 99.80% (23623/23670)\n"
     ]
    },
    {
     "name": "stderr",
     "output_type": "stream",
     "text": [
      "  5%|▌         | 16/300 [00:16<04:50,  1.02s/it]"
     ]
    },
    {
     "name": "stdout",
     "output_type": "stream",
     "text": [
      "\n",
      "epoch 16: test average loss: 8.345 | acc: 97.11% (2554/2630)\n",
      "EarlyStopping counter: 7/25 (best: 0.9772)\n",
      "\n",
      "epoch 17: train average loss: 6.177 | acc: 99.84% (23633/23670)\n"
     ]
    },
    {
     "name": "stderr",
     "output_type": "stream",
     "text": [
      "  6%|▌         | 17/300 [00:17<04:47,  1.01s/it]"
     ]
    },
    {
     "name": "stdout",
     "output_type": "stream",
     "text": [
      "\n",
      "epoch 17: test average loss: 7.752 | acc: 97.68% (2569/2630)\n",
      "EarlyStopping counter: 8/25 (best: 0.9772)\n",
      "\n",
      "epoch 18: train average loss: 6.110 | acc: 99.86% (23637/23670)\n"
     ]
    },
    {
     "name": "stderr",
     "output_type": "stream",
     "text": [
      "  6%|▌         | 18/300 [00:18<04:44,  1.01s/it]"
     ]
    },
    {
     "name": "stdout",
     "output_type": "stream",
     "text": [
      "\n",
      "epoch 18: test average loss: 8.012 | acc: 97.79% (2572/2630)\n",
      "best test acc found\n",
      "\n",
      "epoch 19: train average loss: 6.023 | acc: 99.87% (23640/23670)\n",
      "\n",
      "epoch 19: test average loss: 7.536 | acc: 97.91% (2575/2630)\n",
      "best test acc found\n"
     ]
    },
    {
     "name": "stderr",
     "output_type": "stream",
     "text": [
      "  6%|▋         | 19/300 [00:19<04:40,  1.00it/s]"
     ]
    },
    {
     "name": "stdout",
     "output_type": "stream",
     "text": [
      "\n",
      "epoch 20: train average loss: 5.995 | acc: 99.90% (23646/23670)\n"
     ]
    },
    {
     "name": "stderr",
     "output_type": "stream",
     "text": [
      "  7%|▋         | 20/300 [00:20<04:35,  1.02it/s]"
     ]
    },
    {
     "name": "stdout",
     "output_type": "stream",
     "text": [
      "\n",
      "epoch 20: test average loss: 7.952 | acc: 97.38% (2561/2630)\n",
      "EarlyStopping counter: 1/25 (best: 0.9791)\n",
      "\n",
      "epoch 21: train average loss: 5.952 | acc: 99.92% (23650/23670)\n"
     ]
    },
    {
     "name": "stderr",
     "output_type": "stream",
     "text": [
      "  7%|▋         | 21/300 [00:20<04:32,  1.02it/s]"
     ]
    },
    {
     "name": "stdout",
     "output_type": "stream",
     "text": [
      "\n",
      "epoch 21: test average loss: 7.785 | acc: 97.72% (2570/2630)\n",
      "EarlyStopping counter: 2/25 (best: 0.9791)\n",
      "\n",
      "epoch 22: train average loss: 5.903 | acc: 99.95% (23659/23670)\n"
     ]
    },
    {
     "name": "stderr",
     "output_type": "stream",
     "text": [
      "  7%|▋         | 22/300 [00:21<04:30,  1.03it/s]"
     ]
    },
    {
     "name": "stdout",
     "output_type": "stream",
     "text": [
      "\n",
      "epoch 22: test average loss: 8.479 | acc: 96.54% (2539/2630)\n",
      "EarlyStopping counter: 3/25 (best: 0.9791)\n",
      "\n",
      "epoch 23: train average loss: 5.863 | acc: 99.92% (23650/23670)\n"
     ]
    },
    {
     "name": "stderr",
     "output_type": "stream",
     "text": [
      "  8%|▊         | 23/300 [00:23<04:36,  1.00it/s]"
     ]
    },
    {
     "name": "stdout",
     "output_type": "stream",
     "text": [
      "\n",
      "epoch 23: test average loss: 7.907 | acc: 96.77% (2545/2630)\n",
      "EarlyStopping counter: 4/25 (best: 0.9791)\n",
      "\n",
      "epoch 24: train average loss: 5.828 | acc: 99.95% (23659/23670)\n"
     ]
    },
    {
     "name": "stderr",
     "output_type": "stream",
     "text": [
      "  8%|▊         | 24/300 [00:24<04:37,  1.01s/it]"
     ]
    },
    {
     "name": "stdout",
     "output_type": "stream",
     "text": [
      "\n",
      "epoch 24: test average loss: 8.114 | acc: 97.53% (2565/2630)\n",
      "EarlyStopping counter: 5/25 (best: 0.9791)\n",
      "\n",
      "epoch 25: train average loss: 5.752 | acc: 99.99% (23668/23670)\n"
     ]
    },
    {
     "name": "stderr",
     "output_type": "stream",
     "text": [
      "  8%|▊         | 25/300 [00:25<04:37,  1.01s/it]"
     ]
    },
    {
     "name": "stdout",
     "output_type": "stream",
     "text": [
      "\n",
      "epoch 25: test average loss: 7.859 | acc: 97.34% (2560/2630)\n",
      "EarlyStopping counter: 6/25 (best: 0.9791)\n",
      "\n",
      "epoch 26: train average loss: 5.698 | acc: 99.97% (23663/23670)\n"
     ]
    },
    {
     "name": "stderr",
     "output_type": "stream",
     "text": [
      "  9%|▊         | 26/300 [00:26<04:35,  1.00s/it]"
     ]
    },
    {
     "name": "stdout",
     "output_type": "stream",
     "text": [
      "\n",
      "epoch 26: test average loss: 7.777 | acc: 98.06% (2579/2630)\n",
      "best test acc found\n",
      "\n",
      "epoch 27: train average loss: 5.676 | acc: 99.98% (23665/23670)\n"
     ]
    },
    {
     "name": "stderr",
     "output_type": "stream",
     "text": [
      "  9%|▉         | 27/300 [00:27<04:34,  1.01s/it]"
     ]
    },
    {
     "name": "stdout",
     "output_type": "stream",
     "text": [
      "\n",
      "epoch 27: test average loss: 7.577 | acc: 98.14% (2581/2630)\n",
      "best test acc found\n",
      "\n",
      "epoch 28: train average loss: 5.608 | acc: 100.00% (23669/23670)\n"
     ]
    },
    {
     "name": "stderr",
     "output_type": "stream",
     "text": [
      "  9%|▉         | 28/300 [00:28<04:31,  1.00it/s]"
     ]
    },
    {
     "name": "stdout",
     "output_type": "stream",
     "text": [
      "\n",
      "epoch 28: test average loss: 7.537 | acc: 98.02% (2578/2630)\n",
      "EarlyStopping counter: 1/25 (best: 0.9814)\n",
      "\n",
      "epoch 29: train average loss: 5.603 | acc: 99.99% (23668/23670)\n"
     ]
    },
    {
     "name": "stderr",
     "output_type": "stream",
     "text": [
      " 10%|▉         | 29/300 [00:28<04:26,  1.02it/s]"
     ]
    },
    {
     "name": "stdout",
     "output_type": "stream",
     "text": [
      "\n",
      "epoch 29: test average loss: 7.903 | acc: 97.76% (2571/2630)\n",
      "EarlyStopping counter: 2/25 (best: 0.9814)\n",
      "\n",
      "epoch 30: train average loss: 5.585 | acc: 99.99% (23668/23670)\n"
     ]
    },
    {
     "name": "stderr",
     "output_type": "stream",
     "text": [
      " 10%|█         | 30/300 [00:29<04:19,  1.04it/s]"
     ]
    },
    {
     "name": "stdout",
     "output_type": "stream",
     "text": [
      "\n",
      "epoch 30: test average loss: 7.554 | acc: 97.79% (2572/2630)\n",
      "EarlyStopping counter: 3/25 (best: 0.9814)\n",
      "\n",
      "epoch 31: train average loss: 5.537 | acc: 99.99% (23668/23670)\n"
     ]
    },
    {
     "name": "stderr",
     "output_type": "stream",
     "text": [
      " 10%|█         | 31/300 [00:30<04:18,  1.04it/s]"
     ]
    },
    {
     "name": "stdout",
     "output_type": "stream",
     "text": [
      "\n",
      "epoch 31: test average loss: 7.807 | acc: 98.06% (2579/2630)\n",
      "EarlyStopping counter: 4/25 (best: 0.9814)\n",
      "\n",
      "epoch 32: train average loss: 5.495 | acc: 99.99% (23668/23670)\n"
     ]
    },
    {
     "name": "stderr",
     "output_type": "stream",
     "text": [
      " 11%|█         | 32/300 [00:31<04:17,  1.04it/s]"
     ]
    },
    {
     "name": "stdout",
     "output_type": "stream",
     "text": [
      "\n",
      "epoch 32: test average loss: 7.861 | acc: 97.91% (2575/2630)\n",
      "EarlyStopping counter: 5/25 (best: 0.9814)\n",
      "\n",
      "epoch 33: train average loss: 5.455 | acc: 100.00% (23669/23670)\n"
     ]
    },
    {
     "name": "stderr",
     "output_type": "stream",
     "text": [
      " 11%|█         | 33/300 [00:32<04:27,  1.00s/it]"
     ]
    },
    {
     "name": "stdout",
     "output_type": "stream",
     "text": [
      "\n",
      "epoch 33: test average loss: 7.772 | acc: 97.91% (2575/2630)\n",
      "EarlyStopping counter: 6/25 (best: 0.9814)\n",
      "\n",
      "epoch 34: train average loss: 5.458 | acc: 100.00% (23670/23670)\n"
     ]
    },
    {
     "name": "stderr",
     "output_type": "stream",
     "text": [
      " 11%|█▏        | 34/300 [00:33<04:30,  1.02s/it]"
     ]
    },
    {
     "name": "stdout",
     "output_type": "stream",
     "text": [
      "\n",
      "epoch 34: test average loss: 7.987 | acc: 97.76% (2571/2630)\n",
      "EarlyStopping counter: 7/25 (best: 0.9814)\n",
      "\n",
      "epoch 35: train average loss: 5.413 | acc: 100.00% (23670/23670)\n"
     ]
    },
    {
     "name": "stderr",
     "output_type": "stream",
     "text": [
      " 12%|█▏        | 35/300 [00:35<04:31,  1.02s/it]"
     ]
    },
    {
     "name": "stdout",
     "output_type": "stream",
     "text": [
      "\n",
      "epoch 35: test average loss: 7.921 | acc: 97.95% (2576/2630)\n",
      "EarlyStopping counter: 8/25 (best: 0.9814)\n",
      "\n",
      "epoch 36: train average loss: 5.392 | acc: 100.00% (23670/23670)\n"
     ]
    },
    {
     "name": "stderr",
     "output_type": "stream",
     "text": [
      " 12%|█▏        | 36/300 [00:35<04:26,  1.01s/it]"
     ]
    },
    {
     "name": "stdout",
     "output_type": "stream",
     "text": [
      "\n",
      "epoch 36: test average loss: 7.877 | acc: 98.14% (2581/2630)\n",
      "EarlyStopping counter: 9/25 (best: 0.9814)\n",
      "\n",
      "epoch 37: train average loss: 5.368 | acc: 100.00% (23670/23670)\n"
     ]
    },
    {
     "name": "stderr",
     "output_type": "stream",
     "text": [
      " 12%|█▏        | 37/300 [00:37<04:26,  1.01s/it]"
     ]
    },
    {
     "name": "stdout",
     "output_type": "stream",
     "text": [
      "\n",
      "epoch 37: test average loss: 7.846 | acc: 98.10% (2580/2630)\n",
      "EarlyStopping counter: 10/25 (best: 0.9814)\n",
      "\n",
      "epoch 38: train average loss: 5.352 | acc: 100.00% (23670/23670)\n"
     ]
    },
    {
     "name": "stderr",
     "output_type": "stream",
     "text": [
      " 13%|█▎        | 38/300 [00:38<04:24,  1.01s/it]"
     ]
    },
    {
     "name": "stdout",
     "output_type": "stream",
     "text": [
      "\n",
      "epoch 38: test average loss: 8.061 | acc: 98.06% (2579/2630)\n",
      "EarlyStopping counter: 11/25 (best: 0.9814)\n",
      "\n",
      "epoch 39: train average loss: 5.336 | acc: 100.00% (23670/23670)\n",
      "\n",
      "epoch 39: test average loss: 7.892 | acc: 98.17% (2582/2630)\n",
      "best test acc found\n"
     ]
    },
    {
     "name": "stderr",
     "output_type": "stream",
     "text": [
      " 13%|█▎        | 39/300 [00:39<04:22,  1.01s/it]"
     ]
    },
    {
     "name": "stdout",
     "output_type": "stream",
     "text": [
      "\n",
      "epoch 40: train average loss: 5.312 | acc: 100.00% (23670/23670)\n"
     ]
    },
    {
     "name": "stderr",
     "output_type": "stream",
     "text": [
      " 13%|█▎        | 40/300 [00:40<04:21,  1.00s/it]"
     ]
    },
    {
     "name": "stdout",
     "output_type": "stream",
     "text": [
      "\n",
      "epoch 40: test average loss: 7.927 | acc: 98.14% (2581/2630)\n",
      "EarlyStopping counter: 1/25 (best: 0.9817)\n",
      "\n",
      "epoch 41: train average loss: 5.288 | acc: 100.00% (23670/23670)\n"
     ]
    },
    {
     "name": "stderr",
     "output_type": "stream",
     "text": [
      " 14%|█▎        | 41/300 [00:40<04:17,  1.01it/s]"
     ]
    },
    {
     "name": "stdout",
     "output_type": "stream",
     "text": [
      "\n",
      "epoch 41: test average loss: 7.970 | acc: 98.14% (2581/2630)\n",
      "EarlyStopping counter: 2/25 (best: 0.9817)\n",
      "\n",
      "epoch 42: train average loss: 5.284 | acc: 100.00% (23670/23670)\n"
     ]
    },
    {
     "name": "stderr",
     "output_type": "stream",
     "text": [
      " 14%|█▍        | 42/300 [00:41<04:14,  1.01it/s]"
     ]
    },
    {
     "name": "stdout",
     "output_type": "stream",
     "text": [
      "\n",
      "epoch 42: test average loss: 8.023 | acc: 98.06% (2579/2630)\n",
      "EarlyStopping counter: 3/25 (best: 0.9817)\n",
      "\n",
      "epoch 43: train average loss: 5.260 | acc: 100.00% (23670/23670)\n"
     ]
    },
    {
     "name": "stderr",
     "output_type": "stream",
     "text": [
      " 14%|█▍        | 43/300 [00:42<04:17,  1.00s/it]"
     ]
    },
    {
     "name": "stdout",
     "output_type": "stream",
     "text": [
      "\n",
      "epoch 43: test average loss: 7.894 | acc: 98.17% (2582/2630)\n",
      "EarlyStopping counter: 4/25 (best: 0.9817)\n",
      "\n",
      "epoch 44: train average loss: 5.251 | acc: 100.00% (23670/23670)\n"
     ]
    },
    {
     "name": "stderr",
     "output_type": "stream",
     "text": [
      " 15%|█▍        | 44/300 [00:44<04:22,  1.03s/it]"
     ]
    },
    {
     "name": "stdout",
     "output_type": "stream",
     "text": [
      "\n",
      "epoch 44: test average loss: 8.008 | acc: 98.29% (2585/2630)\n",
      "best test acc found\n",
      "\n",
      "epoch 45: train average loss: 5.234 | acc: 100.00% (23670/23670)\n"
     ]
    },
    {
     "name": "stderr",
     "output_type": "stream",
     "text": [
      " 15%|█▌        | 45/300 [00:45<04:21,  1.03s/it]"
     ]
    },
    {
     "name": "stdout",
     "output_type": "stream",
     "text": [
      "\n",
      "epoch 45: test average loss: 8.008 | acc: 98.14% (2581/2630)\n",
      "EarlyStopping counter: 1/25 (best: 0.9829)\n",
      "\n",
      "epoch 46: train average loss: 5.224 | acc: 100.00% (23670/23670)\n"
     ]
    },
    {
     "name": "stderr",
     "output_type": "stream",
     "text": [
      " 15%|█▌        | 46/300 [00:46<04:16,  1.01s/it]"
     ]
    },
    {
     "name": "stdout",
     "output_type": "stream",
     "text": [
      "\n",
      "epoch 46: test average loss: 8.013 | acc: 98.06% (2579/2630)\n",
      "EarlyStopping counter: 2/25 (best: 0.9829)\n",
      "\n",
      "epoch 47: train average loss: 5.208 | acc: 100.00% (23670/23670)\n"
     ]
    },
    {
     "name": "stderr",
     "output_type": "stream",
     "text": [
      " 16%|█▌        | 47/300 [00:47<04:16,  1.01s/it]"
     ]
    },
    {
     "name": "stdout",
     "output_type": "stream",
     "text": [
      "\n",
      "epoch 47: test average loss: 8.114 | acc: 98.21% (2583/2630)\n",
      "EarlyStopping counter: 3/25 (best: 0.9829)\n",
      "\n",
      "epoch 48: train average loss: 5.201 | acc: 100.00% (23670/23670)\n"
     ]
    },
    {
     "name": "stderr",
     "output_type": "stream",
     "text": [
      " 16%|█▌        | 48/300 [00:48<04:27,  1.06s/it]"
     ]
    },
    {
     "name": "stdout",
     "output_type": "stream",
     "text": [
      "\n",
      "epoch 48: test average loss: 8.026 | acc: 98.10% (2580/2630)\n",
      "EarlyStopping counter: 4/25 (best: 0.9829)\n",
      "\n",
      "epoch 49: train average loss: 5.198 | acc: 100.00% (23670/23670)\n"
     ]
    },
    {
     "name": "stderr",
     "output_type": "stream",
     "text": [
      " 16%|█▋        | 49/300 [00:49<04:21,  1.04s/it]"
     ]
    },
    {
     "name": "stdout",
     "output_type": "stream",
     "text": [
      "\n",
      "epoch 49: test average loss: 8.081 | acc: 98.10% (2580/2630)\n",
      "EarlyStopping counter: 5/25 (best: 0.9829)\n",
      "\n",
      "epoch 50: train average loss: 5.189 | acc: 100.00% (23670/23670)\n"
     ]
    },
    {
     "name": "stderr",
     "output_type": "stream",
     "text": [
      " 17%|█▋        | 50/300 [00:50<04:13,  1.01s/it]"
     ]
    },
    {
     "name": "stdout",
     "output_type": "stream",
     "text": [
      "\n",
      "epoch 50: test average loss: 8.034 | acc: 98.25% (2584/2630)\n",
      "EarlyStopping counter: 6/25 (best: 0.9829)\n",
      "\n",
      "epoch 51: train average loss: 5.176 | acc: 100.00% (23670/23670)\n"
     ]
    },
    {
     "name": "stderr",
     "output_type": "stream",
     "text": [
      " 17%|█▋        | 51/300 [00:51<04:05,  1.01it/s]"
     ]
    },
    {
     "name": "stdout",
     "output_type": "stream",
     "text": [
      "\n",
      "epoch 51: test average loss: 8.020 | acc: 98.10% (2580/2630)\n",
      "EarlyStopping counter: 7/25 (best: 0.9829)\n",
      "\n",
      "epoch 52: train average loss: 5.173 | acc: 100.00% (23670/23670)\n"
     ]
    },
    {
     "name": "stderr",
     "output_type": "stream",
     "text": [
      " 17%|█▋        | 52/300 [00:52<04:00,  1.03it/s]"
     ]
    },
    {
     "name": "stdout",
     "output_type": "stream",
     "text": [
      "\n",
      "epoch 52: test average loss: 8.030 | acc: 98.14% (2581/2630)\n",
      "EarlyStopping counter: 8/25 (best: 0.9829)\n",
      "\n",
      "epoch 53: train average loss: 5.172 | acc: 100.00% (23670/23670)\n"
     ]
    },
    {
     "name": "stderr",
     "output_type": "stream",
     "text": [
      " 18%|█▊        | 53/300 [00:53<04:07,  1.00s/it]"
     ]
    },
    {
     "name": "stdout",
     "output_type": "stream",
     "text": [
      "\n",
      "epoch 53: test average loss: 8.020 | acc: 98.21% (2583/2630)\n",
      "EarlyStopping counter: 9/25 (best: 0.9829)\n",
      "\n",
      "epoch 54: train average loss: 5.160 | acc: 100.00% (23670/23670)\n"
     ]
    },
    {
     "name": "stderr",
     "output_type": "stream",
     "text": [
      " 18%|█▊        | 54/300 [00:54<04:12,  1.03s/it]"
     ]
    },
    {
     "name": "stdout",
     "output_type": "stream",
     "text": [
      "\n",
      "epoch 54: test average loss: 8.048 | acc: 98.29% (2585/2630)\n",
      "EarlyStopping counter: 10/25 (best: 0.9829)\n",
      "\n",
      "epoch 55: train average loss: 5.157 | acc: 100.00% (23670/23670)\n"
     ]
    },
    {
     "name": "stderr",
     "output_type": "stream",
     "text": [
      " 18%|█▊        | 55/300 [00:55<04:14,  1.04s/it]"
     ]
    },
    {
     "name": "stdout",
     "output_type": "stream",
     "text": [
      "\n",
      "epoch 55: test average loss: 8.057 | acc: 98.17% (2582/2630)\n",
      "EarlyStopping counter: 11/25 (best: 0.9829)\n",
      "\n",
      "epoch 56: train average loss: 5.153 | acc: 100.00% (23670/23670)\n"
     ]
    },
    {
     "name": "stderr",
     "output_type": "stream",
     "text": [
      " 19%|█▊        | 56/300 [00:56<04:13,  1.04s/it]"
     ]
    },
    {
     "name": "stdout",
     "output_type": "stream",
     "text": [
      "\n",
      "epoch 56: test average loss: 8.076 | acc: 98.21% (2583/2630)\n",
      "EarlyStopping counter: 12/25 (best: 0.9829)\n",
      "\n",
      "epoch 57: train average loss: 5.152 | acc: 100.00% (23670/23670)\n"
     ]
    },
    {
     "name": "stderr",
     "output_type": "stream",
     "text": [
      " 19%|█▉        | 57/300 [00:57<04:13,  1.04s/it]"
     ]
    },
    {
     "name": "stdout",
     "output_type": "stream",
     "text": [
      "\n",
      "epoch 57: test average loss: 8.082 | acc: 98.14% (2581/2630)\n",
      "EarlyStopping counter: 13/25 (best: 0.9829)\n",
      "\n",
      "epoch 58: train average loss: 5.158 | acc: 100.00% (23670/23670)\n"
     ]
    },
    {
     "name": "stderr",
     "output_type": "stream",
     "text": [
      " 19%|█▉        | 58/300 [00:58<04:13,  1.05s/it]"
     ]
    },
    {
     "name": "stdout",
     "output_type": "stream",
     "text": [
      "\n",
      "epoch 58: test average loss: 8.061 | acc: 98.17% (2582/2630)\n",
      "EarlyStopping counter: 14/25 (best: 0.9829)\n",
      "\n",
      "epoch 59: train average loss: 5.154 | acc: 100.00% (23670/23670)\n"
     ]
    },
    {
     "name": "stderr",
     "output_type": "stream",
     "text": [
      " 20%|█▉        | 59/300 [00:59<04:08,  1.03s/it]"
     ]
    },
    {
     "name": "stdout",
     "output_type": "stream",
     "text": [
      "\n",
      "epoch 59: test average loss: 8.070 | acc: 98.17% (2582/2630)\n",
      "EarlyStopping counter: 15/25 (best: 0.9829)\n",
      "\n",
      "epoch 60: train average loss: 5.164 | acc: 100.00% (23670/23670)\n",
      "\n",
      "epoch 60: test average loss: 8.057 | acc: 98.33% (2586/2630)"
     ]
    },
    {
     "name": "stderr",
     "output_type": "stream",
     "text": [
      " 20%|██        | 60/300 [01:00<04:03,  1.01s/it]"
     ]
    },
    {
     "name": "stdout",
     "output_type": "stream",
     "text": [
      "\n",
      "best test acc found\n",
      "\n",
      "epoch 61: train average loss: 5.156 | acc: 100.00% (23670/23670)\n"
     ]
    },
    {
     "name": "stderr",
     "output_type": "stream",
     "text": [
      " 20%|██        | 61/300 [01:01<03:59,  1.00s/it]"
     ]
    },
    {
     "name": "stdout",
     "output_type": "stream",
     "text": [
      "\n",
      "epoch 61: test average loss: 8.034 | acc: 98.25% (2584/2630)\n",
      "EarlyStopping counter: 1/25 (best: 0.9833)\n",
      "\n",
      "epoch 62: train average loss: 5.152 | acc: 100.00% (23670/23670)\n",
      "\n",
      "epoch 62: test average loss: 8.054 | acc: 98.17% (2582/2630)\n"
     ]
    },
    {
     "name": "stderr",
     "output_type": "stream",
     "text": [
      " 21%|██        | 62/300 [01:02<03:57,  1.00it/s]"
     ]
    },
    {
     "name": "stdout",
     "output_type": "stream",
     "text": [
      "EarlyStopping counter: 2/25 (best: 0.9833)\n",
      "\n",
      "epoch 63: train average loss: 5.149 | acc: 100.00% (23670/23670)\n"
     ]
    },
    {
     "name": "stderr",
     "output_type": "stream",
     "text": [
      " 21%|██        | 63/300 [01:03<04:03,  1.03s/it]"
     ]
    },
    {
     "name": "stdout",
     "output_type": "stream",
     "text": [
      "\n",
      "epoch 63: test average loss: 8.059 | acc: 98.17% (2582/2630)\n",
      "EarlyStopping counter: 3/25 (best: 0.9833)\n",
      "\n",
      "epoch 64: train average loss: 5.162 | acc: 100.00% (23670/23670)\n"
     ]
    },
    {
     "name": "stderr",
     "output_type": "stream",
     "text": [
      " 21%|██▏       | 64/300 [01:04<04:03,  1.03s/it]"
     ]
    },
    {
     "name": "stdout",
     "output_type": "stream",
     "text": [
      "\n",
      "epoch 64: test average loss: 8.073 | acc: 98.29% (2585/2630)\n",
      "EarlyStopping counter: 4/25 (best: 0.9833)\n",
      "\n",
      "epoch 65: train average loss: 5.156 | acc: 100.00% (23670/23670)\n"
     ]
    },
    {
     "name": "stderr",
     "output_type": "stream",
     "text": [
      " 22%|██▏       | 65/300 [01:05<04:04,  1.04s/it]"
     ]
    },
    {
     "name": "stdout",
     "output_type": "stream",
     "text": [
      "\n",
      "epoch 65: test average loss: 8.021 | acc: 98.21% (2583/2630)\n",
      "EarlyStopping counter: 5/25 (best: 0.9833)\n",
      "\n",
      "epoch 66: train average loss: 5.146 | acc: 100.00% (23670/23670)\n"
     ]
    },
    {
     "name": "stderr",
     "output_type": "stream",
     "text": [
      " 22%|██▏       | 66/300 [01:06<04:04,  1.05s/it]"
     ]
    },
    {
     "name": "stdout",
     "output_type": "stream",
     "text": [
      "\n",
      "epoch 66: test average loss: 8.056 | acc: 98.17% (2582/2630)\n",
      "EarlyStopping counter: 6/25 (best: 0.9833)\n",
      "\n",
      "epoch 67: train average loss: 5.155 | acc: 100.00% (23670/23670)\n"
     ]
    },
    {
     "name": "stderr",
     "output_type": "stream",
     "text": [
      " 22%|██▏       | 67/300 [01:07<04:00,  1.03s/it]"
     ]
    },
    {
     "name": "stdout",
     "output_type": "stream",
     "text": [
      "\n",
      "epoch 67: test average loss: 8.100 | acc: 98.21% (2583/2630)\n",
      "EarlyStopping counter: 7/25 (best: 0.9833)\n",
      "\n",
      "epoch 68: train average loss: 5.151 | acc: 100.00% (23670/23670)\n"
     ]
    },
    {
     "name": "stderr",
     "output_type": "stream",
     "text": [
      " 23%|██▎       | 68/300 [01:08<03:57,  1.02s/it]"
     ]
    },
    {
     "name": "stdout",
     "output_type": "stream",
     "text": [
      "\n",
      "epoch 68: test average loss: 7.988 | acc: 98.14% (2581/2630)\n",
      "EarlyStopping counter: 8/25 (best: 0.9833)\n",
      "\n",
      "epoch 69: train average loss: 5.154 | acc: 100.00% (23670/23670)\n"
     ]
    },
    {
     "name": "stderr",
     "output_type": "stream",
     "text": [
      " 23%|██▎       | 69/300 [01:09<03:51,  1.00s/it]"
     ]
    },
    {
     "name": "stdout",
     "output_type": "stream",
     "text": [
      "\n",
      "epoch 69: test average loss: 8.080 | acc: 98.17% (2582/2630)\n",
      "EarlyStopping counter: 9/25 (best: 0.9833)\n",
      "\n",
      "epoch 70: train average loss: 5.152 | acc: 100.00% (23670/23670)\n",
      "\n",
      "epoch 70: test average loss: 8.065 | acc: 98.17% (2582/2630)\n"
     ]
    },
    {
     "name": "stderr",
     "output_type": "stream",
     "text": [
      " 23%|██▎       | 70/300 [01:10<03:48,  1.01it/s]"
     ]
    },
    {
     "name": "stdout",
     "output_type": "stream",
     "text": [
      "EarlyStopping counter: 10/25 (best: 0.9833)\n",
      "\n",
      "epoch 71: train average loss: 5.154 | acc: 100.00% (23670/23670)\n"
     ]
    },
    {
     "name": "stderr",
     "output_type": "stream",
     "text": [
      " 24%|██▎       | 71/300 [01:11<03:46,  1.01it/s]"
     ]
    },
    {
     "name": "stdout",
     "output_type": "stream",
     "text": [
      "\n",
      "epoch 71: test average loss: 8.119 | acc: 98.25% (2584/2630)\n",
      "EarlyStopping counter: 11/25 (best: 0.9833)\n",
      "\n",
      "epoch 72: train average loss: 5.160 | acc: 100.00% (23670/23670)\n"
     ]
    },
    {
     "name": "stderr",
     "output_type": "stream",
     "text": [
      " 24%|██▍       | 72/300 [01:12<03:44,  1.02it/s]"
     ]
    },
    {
     "name": "stdout",
     "output_type": "stream",
     "text": [
      "\n",
      "epoch 72: test average loss: 8.098 | acc: 98.21% (2583/2630)\n",
      "EarlyStopping counter: 12/25 (best: 0.9833)\n",
      "\n",
      "epoch 73: train average loss: 5.154 | acc: 100.00% (23670/23670)\n"
     ]
    },
    {
     "name": "stderr",
     "output_type": "stream",
     "text": [
      " 24%|██▍       | 73/300 [01:13<03:48,  1.01s/it]"
     ]
    },
    {
     "name": "stdout",
     "output_type": "stream",
     "text": [
      "\n",
      "epoch 73: test average loss: 8.093 | acc: 98.29% (2585/2630)\n",
      "EarlyStopping counter: 13/25 (best: 0.9833)\n",
      "\n",
      "epoch 74: train average loss: 5.161 | acc: 100.00% (23670/23670)\n"
     ]
    },
    {
     "name": "stderr",
     "output_type": "stream",
     "text": [
      " 25%|██▍       | 74/300 [01:14<03:52,  1.03s/it]"
     ]
    },
    {
     "name": "stdout",
     "output_type": "stream",
     "text": [
      "\n",
      "epoch 74: test average loss: 8.169 | acc: 98.02% (2578/2630)\n",
      "EarlyStopping counter: 14/25 (best: 0.9833)\n",
      "\n",
      "epoch 75: train average loss: 5.167 | acc: 100.00% (23670/23670)\n"
     ]
    },
    {
     "name": "stderr",
     "output_type": "stream",
     "text": [
      " 25%|██▌       | 75/300 [01:15<03:51,  1.03s/it]"
     ]
    },
    {
     "name": "stdout",
     "output_type": "stream",
     "text": [
      "\n",
      "epoch 75: test average loss: 8.003 | acc: 98.10% (2580/2630)\n",
      "EarlyStopping counter: 15/25 (best: 0.9833)\n",
      "\n",
      "epoch 76: train average loss: 5.162 | acc: 100.00% (23670/23670)\n"
     ]
    },
    {
     "name": "stderr",
     "output_type": "stream",
     "text": [
      " 25%|██▌       | 76/300 [01:16<03:51,  1.04s/it]"
     ]
    },
    {
     "name": "stdout",
     "output_type": "stream",
     "text": [
      "\n",
      "epoch 76: test average loss: 8.089 | acc: 98.25% (2584/2630)\n",
      "EarlyStopping counter: 16/25 (best: 0.9833)\n",
      "\n",
      "epoch 77: train average loss: 5.169 | acc: 100.00% (23670/23670)\n"
     ]
    },
    {
     "name": "stderr",
     "output_type": "stream",
     "text": [
      " 26%|██▌       | 77/300 [01:17<03:47,  1.02s/it]"
     ]
    },
    {
     "name": "stdout",
     "output_type": "stream",
     "text": [
      "\n",
      "epoch 77: test average loss: 8.075 | acc: 97.91% (2575/2630)\n",
      "EarlyStopping counter: 17/25 (best: 0.9833)\n",
      "\n",
      "epoch 78: train average loss: 5.187 | acc: 100.00% (23670/23670)\n"
     ]
    },
    {
     "name": "stderr",
     "output_type": "stream",
     "text": [
      " 26%|██▌       | 78/300 [01:18<03:43,  1.01s/it]"
     ]
    },
    {
     "name": "stdout",
     "output_type": "stream",
     "text": [
      "\n",
      "epoch 78: test average loss: 8.074 | acc: 98.02% (2578/2630)\n",
      "EarlyStopping counter: 18/25 (best: 0.9833)\n",
      "\n",
      "epoch 79: train average loss: 5.195 | acc: 100.00% (23670/23670)\n"
     ]
    },
    {
     "name": "stderr",
     "output_type": "stream",
     "text": [
      " 26%|██▋       | 79/300 [01:19<03:38,  1.01it/s]"
     ]
    },
    {
     "name": "stdout",
     "output_type": "stream",
     "text": [
      "\n",
      "epoch 79: test average loss: 7.938 | acc: 97.95% (2576/2630)\n",
      "EarlyStopping counter: 19/25 (best: 0.9833)\n",
      "\n",
      "epoch 80: train average loss: 5.204 | acc: 100.00% (23669/23670)\n"
     ]
    },
    {
     "name": "stderr",
     "output_type": "stream",
     "text": [
      " 27%|██▋       | 80/300 [01:20<03:38,  1.01it/s]"
     ]
    },
    {
     "name": "stdout",
     "output_type": "stream",
     "text": [
      "\n",
      "epoch 80: test average loss: 8.229 | acc: 98.14% (2581/2630)\n",
      "EarlyStopping counter: 20/25 (best: 0.9833)\n",
      "\n",
      "epoch 81: train average loss: 5.223 | acc: 100.00% (23670/23670)\n"
     ]
    },
    {
     "name": "stderr",
     "output_type": "stream",
     "text": [
      " 27%|██▋       | 81/300 [01:21<03:45,  1.03s/it]"
     ]
    },
    {
     "name": "stdout",
     "output_type": "stream",
     "text": [
      "\n",
      "epoch 81: test average loss: 8.559 | acc: 97.57% (2566/2630)\n",
      "EarlyStopping counter: 21/25 (best: 0.9833)\n",
      "\n",
      "epoch 82: train average loss: 5.305 | acc: 99.99% (23667/23670)\n"
     ]
    },
    {
     "name": "stderr",
     "output_type": "stream",
     "text": [
      " 27%|██▋       | 82/300 [01:22<03:41,  1.02s/it]"
     ]
    },
    {
     "name": "stdout",
     "output_type": "stream",
     "text": [
      "\n",
      "epoch 82: test average loss: 8.287 | acc: 97.68% (2569/2630)\n",
      "EarlyStopping counter: 22/25 (best: 0.9833)\n",
      "\n",
      "epoch 83: train average loss: 5.240 | acc: 100.00% (23670/23670)\n"
     ]
    },
    {
     "name": "stderr",
     "output_type": "stream",
     "text": [
      " 28%|██▊       | 83/300 [01:23<03:46,  1.04s/it]"
     ]
    },
    {
     "name": "stdout",
     "output_type": "stream",
     "text": [
      "\n",
      "epoch 83: test average loss: 8.139 | acc: 97.98% (2577/2630)\n",
      "EarlyStopping counter: 23/25 (best: 0.9833)\n",
      "\n",
      "epoch 84: train average loss: 5.233 | acc: 100.00% (23669/23670)\n"
     ]
    },
    {
     "name": "stderr",
     "output_type": "stream",
     "text": [
      " 28%|██▊       | 84/300 [01:25<03:52,  1.08s/it]"
     ]
    },
    {
     "name": "stdout",
     "output_type": "stream",
     "text": [
      "\n",
      "epoch 84: test average loss: 8.335 | acc: 98.02% (2578/2630)\n",
      "EarlyStopping counter: 24/25 (best: 0.9833)\n",
      "\n",
      "epoch 85: train average loss: 5.212 | acc: 100.00% (23670/23670)\n"
     ]
    },
    {
     "name": "stderr",
     "output_type": "stream",
     "text": [
      " 28%|██▊       | 84/300 [01:26<03:41,  1.02s/it]"
     ]
    },
    {
     "name": "stdout",
     "output_type": "stream",
     "text": [
      "\n",
      "epoch 85: test average loss: 8.496 | acc: 98.14% (2581/2630)\n",
      "EarlyStopping counter: 25/25 (best: 0.9833)\n",
      "🔴 Early stopping triggered\n",
      "load model at epoch 60, with test acc : 0.983\n"
     ]
    },
    {
     "name": "stderr",
     "output_type": "stream",
     "text": [
      "\n",
      "/tmp/ipykernel_3076972/3696667578.py:175: FutureWarning:\n",
      "\n",
      "You are using `torch.load` with `weights_only=False` (the current default value), which uses the default pickle module implicitly. It is possible to construct malicious pickle data which will execute arbitrary code during unpickling (See https://github.com/pytorch/pytorch/blob/main/SECURITY.md#untrusted-models for more details). In a future release, the default value for `weights_only` will be flipped to `True`. This limits the functions that could be executed during unpickling. Arbitrary objects will no longer be allowed to be loaded via this mode unless they are explicitly allowlisted by the user via `torch.serialization.add_safe_globals`. We recommend you start setting `weights_only=True` for any use case where you don't have full control of the loaded file. Please open an issue on GitHub for any issues related to this experimental feature.\n",
      "\n"
     ]
    },
    {
     "name": "stdout",
     "output_type": "stream",
     "text": [
      "total 0.9832699619771863\n",
      "class 0 1.0\n",
      "class 1 0.9554455445544554\n",
      "class 2 0.9841269841269841\n",
      "class 3 0.9957983193277311\n",
      "class 4 0.9666666666666667\n",
      "class 5 0.9834437086092715\n",
      "class 6 0.979381443298969\n",
      "class 7 0.9111111111111111\n",
      "class 8 1.0\n",
      "class 9 0.9909297052154195\n",
      "                                                             0\n",
      "Accuracy                                                0.9833\n",
      "Recall       [1.0, 0.9554, 0.9841, 0.9958, 0.9667, 0.9834, ...\n",
      "Specificity  [1.0, 0.9963, 0.9963, 0.9977, 0.9952, 0.9983, ...\n",
      "Precision    [1.0, 0.9554, 0.9819, 0.9896, 0.9667, 0.9867, ...\n",
      "F1 Score     [1.0, 0.9554, 0.983, 0.9927, 0.9667, 0.9851, 0...\n",
      "10\n"
     ]
    },
    {
     "name": "stderr",
     "output_type": "stream",
     "text": [
      "  0%|          | 0/300 [00:00<?, ?it/s]"
     ]
    },
    {
     "name": "stdout",
     "output_type": "stream",
     "text": [
      "\n",
      "epoch 1: train average loss: 22.658 | acc: 77.61% (18370/23670)\n"
     ]
    },
    {
     "name": "stderr",
     "output_type": "stream",
     "text": [
      "  0%|          | 1/300 [00:01<08:19,  1.67s/it]"
     ]
    },
    {
     "name": "stdout",
     "output_type": "stream",
     "text": [
      "\n",
      "epoch 1: test average loss: 18.906 | acc: 87.95% (2313/2630)\n",
      "best test acc found\n",
      "\n",
      "epoch 2: train average loss: 16.165 | acc: 91.44% (21645/23670)\n"
     ]
    },
    {
     "name": "stderr",
     "output_type": "stream",
     "text": [
      "  1%|          | 2/300 [00:02<06:19,  1.27s/it]"
     ]
    },
    {
     "name": "stdout",
     "output_type": "stream",
     "text": [
      "\n",
      "epoch 2: test average loss: 14.532 | acc: 90.68% (2385/2630)\n",
      "best test acc found\n",
      "\n",
      "epoch 3: train average loss: 12.751 | acc: 94.18% (22293/23670)\n"
     ]
    },
    {
     "name": "stderr",
     "output_type": "stream",
     "text": [
      "  1%|          | 3/300 [00:03<05:49,  1.18s/it]"
     ]
    },
    {
     "name": "stdout",
     "output_type": "stream",
     "text": [
      "\n",
      "epoch 3: test average loss: 11.810 | acc: 94.14% (2476/2630)\n",
      "best test acc found\n",
      "\n",
      "epoch 4: train average loss: 10.360 | acc: 95.80% (22676/23670)\n"
     ]
    },
    {
     "name": "stderr",
     "output_type": "stream",
     "text": [
      "  1%|▏         | 4/300 [00:04<05:29,  1.11s/it]"
     ]
    },
    {
     "name": "stdout",
     "output_type": "stream",
     "text": [
      "\n",
      "epoch 4: test average loss: 10.075 | acc: 93.92% (2470/2630)\n",
      "EarlyStopping counter: 1/25 (best: 0.9414)\n",
      "\n",
      "epoch 5: train average loss: 8.935 | acc: 96.92% (22941/23670)\n"
     ]
    },
    {
     "name": "stderr",
     "output_type": "stream",
     "text": [
      "  2%|▏         | 5/300 [00:05<05:12,  1.06s/it]"
     ]
    },
    {
     "name": "stdout",
     "output_type": "stream",
     "text": [
      "\n",
      "epoch 5: test average loss: 9.557 | acc: 94.71% (2491/2630)\n",
      "best test acc found\n",
      "\n",
      "epoch 6: train average loss: 8.316 | acc: 97.73% (23132/23670)\n"
     ]
    },
    {
     "name": "stderr",
     "output_type": "stream",
     "text": [
      "  2%|▏         | 6/300 [00:06<05:11,  1.06s/it]"
     ]
    },
    {
     "name": "stdout",
     "output_type": "stream",
     "text": [
      "\n",
      "epoch 6: test average loss: 9.252 | acc: 96.73% (2544/2630)\n",
      "best test acc found\n",
      "\n",
      "epoch 7: train average loss: 7.954 | acc: 98.08% (23216/23670)\n"
     ]
    },
    {
     "name": "stderr",
     "output_type": "stream",
     "text": [
      "  2%|▏         | 7/300 [00:07<05:12,  1.07s/it]"
     ]
    },
    {
     "name": "stdout",
     "output_type": "stream",
     "text": [
      "\n",
      "epoch 7: test average loss: 8.672 | acc: 96.73% (2544/2630)\n",
      "EarlyStopping counter: 1/25 (best: 0.9673)\n",
      "\n",
      "epoch 8: train average loss: 7.591 | acc: 98.66% (23353/23670)\n"
     ]
    },
    {
     "name": "stderr",
     "output_type": "stream",
     "text": [
      "  3%|▎         | 8/300 [00:08<05:08,  1.06s/it]"
     ]
    },
    {
     "name": "stdout",
     "output_type": "stream",
     "text": [
      "\n",
      "epoch 8: test average loss: 8.728 | acc: 96.43% (2536/2630)\n",
      "EarlyStopping counter: 2/25 (best: 0.9673)\n",
      "\n",
      "epoch 9: train average loss: 7.348 | acc: 98.88% (23406/23670)\n"
     ]
    },
    {
     "name": "stderr",
     "output_type": "stream",
     "text": [
      "  3%|▎         | 9/300 [00:09<05:05,  1.05s/it]"
     ]
    },
    {
     "name": "stdout",
     "output_type": "stream",
     "text": [
      "\n",
      "epoch 9: test average loss: 8.563 | acc: 96.35% (2534/2630)\n",
      "EarlyStopping counter: 3/25 (best: 0.9673)\n",
      "\n",
      "epoch 10: train average loss: 7.164 | acc: 99.12% (23462/23670)\n"
     ]
    },
    {
     "name": "stderr",
     "output_type": "stream",
     "text": [
      "  3%|▎         | 10/300 [00:10<05:06,  1.06s/it]"
     ]
    },
    {
     "name": "stdout",
     "output_type": "stream",
     "text": [
      "\n",
      "epoch 10: test average loss: 8.281 | acc: 97.30% (2559/2630)\n",
      "best test acc found\n",
      "\n",
      "epoch 11: train average loss: 6.949 | acc: 99.26% (23494/23670)\n"
     ]
    },
    {
     "name": "stderr",
     "output_type": "stream",
     "text": [
      "  4%|▎         | 11/300 [00:12<05:02,  1.05s/it]"
     ]
    },
    {
     "name": "stdout",
     "output_type": "stream",
     "text": [
      "\n",
      "epoch 11: test average loss: 8.649 | acc: 97.11% (2554/2630)\n",
      "EarlyStopping counter: 1/25 (best: 0.9730)\n",
      "\n",
      "epoch 12: train average loss: 6.782 | acc: 99.44% (23537/23670)\n"
     ]
    },
    {
     "name": "stderr",
     "output_type": "stream",
     "text": [
      "  4%|▍         | 12/300 [00:13<05:00,  1.04s/it]"
     ]
    },
    {
     "name": "stdout",
     "output_type": "stream",
     "text": [
      "\n",
      "epoch 12: test average loss: 8.337 | acc: 97.49% (2564/2630)\n",
      "best test acc found\n",
      "\n",
      "epoch 13: train average loss: 6.622 | acc: 99.59% (23573/23670)\n"
     ]
    },
    {
     "name": "stderr",
     "output_type": "stream",
     "text": [
      "  4%|▍         | 13/300 [00:14<04:56,  1.03s/it]"
     ]
    },
    {
     "name": "stdout",
     "output_type": "stream",
     "text": [
      "\n",
      "epoch 13: test average loss: 7.983 | acc: 97.60% (2567/2630)\n",
      "best test acc found\n",
      "\n",
      "epoch 14: train average loss: 6.488 | acc: 99.67% (23591/23670)\n"
     ]
    },
    {
     "name": "stderr",
     "output_type": "stream",
     "text": [
      "  5%|▍         | 14/300 [00:15<04:53,  1.03s/it]"
     ]
    },
    {
     "name": "stdout",
     "output_type": "stream",
     "text": [
      "\n",
      "epoch 14: test average loss: 8.065 | acc: 97.41% (2562/2630)\n",
      "EarlyStopping counter: 1/25 (best: 0.9760)\n",
      "\n",
      "epoch 15: train average loss: 6.406 | acc: 99.68% (23595/23670)\n",
      "\n",
      "epoch 15: test average loss: 7.999 | acc: 97.72% (2570/2630)\n",
      "best test acc found\n"
     ]
    },
    {
     "name": "stderr",
     "output_type": "stream",
     "text": [
      "  5%|▌         | 15/300 [00:16<04:47,  1.01s/it]"
     ]
    },
    {
     "name": "stdout",
     "output_type": "stream",
     "text": [
      "\n",
      "epoch 16: train average loss: 6.332 | acc: 99.78% (23617/23670)\n"
     ]
    },
    {
     "name": "stderr",
     "output_type": "stream",
     "text": [
      "  5%|▌         | 16/300 [00:17<04:51,  1.03s/it]"
     ]
    },
    {
     "name": "stdout",
     "output_type": "stream",
     "text": [
      "\n",
      "epoch 16: test average loss: 7.925 | acc: 97.72% (2570/2630)\n",
      "EarlyStopping counter: 1/25 (best: 0.9772)\n",
      "\n",
      "epoch 17: train average loss: 6.237 | acc: 99.80% (23623/23670)\n"
     ]
    },
    {
     "name": "stderr",
     "output_type": "stream",
     "text": [
      "  6%|▌         | 17/300 [00:18<04:55,  1.04s/it]"
     ]
    },
    {
     "name": "stdout",
     "output_type": "stream",
     "text": [
      "\n",
      "epoch 17: test average loss: 8.295 | acc: 97.19% (2556/2630)\n",
      "EarlyStopping counter: 2/25 (best: 0.9772)\n",
      "\n",
      "epoch 18: train average loss: 6.174 | acc: 99.81% (23625/23670)\n"
     ]
    },
    {
     "name": "stderr",
     "output_type": "stream",
     "text": [
      "  6%|▌         | 18/300 [00:19<04:56,  1.05s/it]"
     ]
    },
    {
     "name": "stdout",
     "output_type": "stream",
     "text": [
      "\n",
      "epoch 18: test average loss: 7.856 | acc: 97.87% (2574/2630)\n",
      "best test acc found\n",
      "\n",
      "epoch 19: train average loss: 6.133 | acc: 99.84% (23632/23670)\n"
     ]
    },
    {
     "name": "stderr",
     "output_type": "stream",
     "text": [
      "  6%|▋         | 19/300 [00:20<04:54,  1.05s/it]"
     ]
    },
    {
     "name": "stdout",
     "output_type": "stream",
     "text": [
      "\n",
      "epoch 19: test average loss: 8.482 | acc: 97.60% (2567/2630)\n",
      "EarlyStopping counter: 1/25 (best: 0.9787)\n",
      "\n",
      "epoch 20: train average loss: 6.063 | acc: 99.92% (23650/23670)\n"
     ]
    },
    {
     "name": "stderr",
     "output_type": "stream",
     "text": [
      "  7%|▋         | 20/300 [00:21<04:50,  1.04s/it]"
     ]
    },
    {
     "name": "stdout",
     "output_type": "stream",
     "text": [
      "\n",
      "epoch 20: test average loss: 7.930 | acc: 97.30% (2559/2630)\n",
      "EarlyStopping counter: 2/25 (best: 0.9787)\n",
      "\n",
      "epoch 21: train average loss: 6.000 | acc: 99.93% (23653/23670)\n"
     ]
    },
    {
     "name": "stderr",
     "output_type": "stream",
     "text": [
      "  7%|▋         | 21/300 [00:22<04:49,  1.04s/it]"
     ]
    },
    {
     "name": "stdout",
     "output_type": "stream",
     "text": [
      "\n",
      "epoch 21: test average loss: 7.612 | acc: 98.14% (2581/2630)\n",
      "best test acc found\n",
      "\n",
      "epoch 22: train average loss: 5.942 | acc: 99.92% (23650/23670)\n"
     ]
    },
    {
     "name": "stderr",
     "output_type": "stream",
     "text": [
      "  7%|▋         | 22/300 [00:23<04:41,  1.01s/it]"
     ]
    },
    {
     "name": "stdout",
     "output_type": "stream",
     "text": [
      "\n",
      "epoch 22: test average loss: 7.591 | acc: 98.06% (2579/2630)\n",
      "EarlyStopping counter: 1/25 (best: 0.9814)\n",
      "\n",
      "epoch 23: train average loss: 5.915 | acc: 99.95% (23657/23670)\n"
     ]
    },
    {
     "name": "stderr",
     "output_type": "stream",
     "text": [
      "  8%|▊         | 23/300 [00:24<04:41,  1.02s/it]"
     ]
    },
    {
     "name": "stdout",
     "output_type": "stream",
     "text": [
      "\n",
      "epoch 23: test average loss: 7.708 | acc: 98.14% (2581/2630)\n",
      "EarlyStopping counter: 2/25 (best: 0.9814)\n",
      "\n",
      "epoch 24: train average loss: 5.873 | acc: 99.96% (23660/23670)\n",
      "\n",
      "epoch 24: test average loss: 7.571 | acc: 98.33% (2586/2630)\n",
      "best test acc found\n"
     ]
    },
    {
     "name": "stderr",
     "output_type": "stream",
     "text": [
      "  8%|▊         | 24/300 [00:25<04:34,  1.01it/s]"
     ]
    },
    {
     "name": "stdout",
     "output_type": "stream",
     "text": [
      "\n",
      "epoch 25: train average loss: 5.821 | acc: 99.98% (23666/23670)\n"
     ]
    },
    {
     "name": "stderr",
     "output_type": "stream",
     "text": [
      "  8%|▊         | 25/300 [00:26<04:30,  1.02it/s]"
     ]
    },
    {
     "name": "stdout",
     "output_type": "stream",
     "text": [
      "\n",
      "epoch 25: test average loss: 7.886 | acc: 98.06% (2579/2630)\n",
      "EarlyStopping counter: 1/25 (best: 0.9833)\n",
      "\n",
      "epoch 26: train average loss: 5.768 | acc: 99.95% (23659/23670)\n"
     ]
    },
    {
     "name": "stderr",
     "output_type": "stream",
     "text": [
      "  9%|▊         | 26/300 [00:27<04:47,  1.05s/it]"
     ]
    },
    {
     "name": "stdout",
     "output_type": "stream",
     "text": [
      "\n",
      "epoch 26: test average loss: 7.633 | acc: 97.95% (2576/2630)\n",
      "EarlyStopping counter: 2/25 (best: 0.9833)\n",
      "\n",
      "epoch 27: train average loss: 5.747 | acc: 99.97% (23664/23670)\n"
     ]
    },
    {
     "name": "stderr",
     "output_type": "stream",
     "text": [
      "  9%|▉         | 27/300 [00:28<04:49,  1.06s/it]"
     ]
    },
    {
     "name": "stdout",
     "output_type": "stream",
     "text": [
      "\n",
      "epoch 27: test average loss: 7.854 | acc: 97.98% (2577/2630)\n",
      "EarlyStopping counter: 3/25 (best: 0.9833)\n",
      "\n",
      "epoch 28: train average loss: 5.698 | acc: 99.99% (23667/23670)\n"
     ]
    },
    {
     "name": "stderr",
     "output_type": "stream",
     "text": [
      "  9%|▉         | 28/300 [00:29<04:47,  1.06s/it]"
     ]
    },
    {
     "name": "stdout",
     "output_type": "stream",
     "text": [
      "\n",
      "epoch 28: test average loss: 7.602 | acc: 98.17% (2582/2630)\n",
      "EarlyStopping counter: 4/25 (best: 0.9833)\n",
      "\n",
      "epoch 29: train average loss: 5.647 | acc: 99.99% (23668/23670)\n"
     ]
    },
    {
     "name": "stderr",
     "output_type": "stream",
     "text": [
      " 10%|▉         | 29/300 [00:30<04:42,  1.04s/it]"
     ]
    },
    {
     "name": "stdout",
     "output_type": "stream",
     "text": [
      "\n",
      "epoch 29: test average loss: 7.670 | acc: 97.95% (2576/2630)\n",
      "EarlyStopping counter: 5/25 (best: 0.9833)\n",
      "\n",
      "epoch 30: train average loss: 5.635 | acc: 99.98% (23666/23670)\n"
     ]
    },
    {
     "name": "stderr",
     "output_type": "stream",
     "text": [
      " 10%|█         | 30/300 [00:31<04:48,  1.07s/it]"
     ]
    },
    {
     "name": "stdout",
     "output_type": "stream",
     "text": [
      "\n",
      "epoch 30: test average loss: 7.618 | acc: 97.76% (2571/2630)\n",
      "EarlyStopping counter: 6/25 (best: 0.9833)\n",
      "\n",
      "epoch 31: train average loss: 5.583 | acc: 100.00% (23669/23670)\n"
     ]
    },
    {
     "name": "stderr",
     "output_type": "stream",
     "text": [
      " 10%|█         | 31/300 [00:32<04:49,  1.08s/it]"
     ]
    },
    {
     "name": "stdout",
     "output_type": "stream",
     "text": [
      "\n",
      "epoch 31: test average loss: 7.662 | acc: 98.17% (2582/2630)\n",
      "EarlyStopping counter: 7/25 (best: 0.9833)\n",
      "\n",
      "epoch 32: train average loss: 5.569 | acc: 99.98% (23666/23670)\n"
     ]
    },
    {
     "name": "stderr",
     "output_type": "stream",
     "text": [
      " 11%|█         | 32/300 [00:33<04:48,  1.08s/it]"
     ]
    },
    {
     "name": "stdout",
     "output_type": "stream",
     "text": [
      "\n",
      "epoch 32: test average loss: 7.819 | acc: 98.10% (2580/2630)\n",
      "EarlyStopping counter: 8/25 (best: 0.9833)\n",
      "\n",
      "epoch 33: train average loss: 5.521 | acc: 99.99% (23668/23670)\n"
     ]
    },
    {
     "name": "stderr",
     "output_type": "stream",
     "text": [
      " 11%|█         | 33/300 [00:34<04:41,  1.05s/it]"
     ]
    },
    {
     "name": "stdout",
     "output_type": "stream",
     "text": [
      "\n",
      "epoch 33: test average loss: 7.989 | acc: 98.06% (2579/2630)\n",
      "EarlyStopping counter: 9/25 (best: 0.9833)\n",
      "\n",
      "epoch 34: train average loss: 5.527 | acc: 99.99% (23667/23670)\n"
     ]
    },
    {
     "name": "stderr",
     "output_type": "stream",
     "text": [
      " 11%|█▏        | 34/300 [00:35<04:39,  1.05s/it]"
     ]
    },
    {
     "name": "stdout",
     "output_type": "stream",
     "text": [
      "\n",
      "epoch 34: test average loss: 7.936 | acc: 97.83% (2573/2630)\n",
      "EarlyStopping counter: 10/25 (best: 0.9833)\n",
      "\n",
      "epoch 35: train average loss: 5.490 | acc: 100.00% (23669/23670)\n"
     ]
    },
    {
     "name": "stderr",
     "output_type": "stream",
     "text": [
      " 12%|█▏        | 35/300 [00:36<04:31,  1.02s/it]"
     ]
    },
    {
     "name": "stdout",
     "output_type": "stream",
     "text": [
      "\n",
      "epoch 35: test average loss: 7.753 | acc: 98.33% (2586/2630)\n",
      "EarlyStopping counter: 11/25 (best: 0.9833)\n",
      "\n",
      "epoch 36: train average loss: 5.456 | acc: 99.99% (23668/23670)\n"
     ]
    },
    {
     "name": "stderr",
     "output_type": "stream",
     "text": [
      " 12%|█▏        | 36/300 [00:37<04:34,  1.04s/it]"
     ]
    },
    {
     "name": "stdout",
     "output_type": "stream",
     "text": [
      "\n",
      "epoch 36: test average loss: 7.992 | acc: 98.10% (2580/2630)\n",
      "EarlyStopping counter: 12/25 (best: 0.9833)\n",
      "\n",
      "epoch 37: train average loss: 5.440 | acc: 100.00% (23670/23670)\n"
     ]
    },
    {
     "name": "stderr",
     "output_type": "stream",
     "text": [
      " 12%|█▏        | 37/300 [00:39<04:34,  1.04s/it]"
     ]
    },
    {
     "name": "stdout",
     "output_type": "stream",
     "text": [
      "\n",
      "epoch 37: test average loss: 7.859 | acc: 98.06% (2579/2630)\n",
      "EarlyStopping counter: 13/25 (best: 0.9833)\n",
      "\n",
      "epoch 38: train average loss: 5.407 | acc: 100.00% (23670/23670)\n"
     ]
    },
    {
     "name": "stderr",
     "output_type": "stream",
     "text": [
      " 13%|█▎        | 38/300 [00:40<04:36,  1.05s/it]"
     ]
    },
    {
     "name": "stdout",
     "output_type": "stream",
     "text": [
      "\n",
      "epoch 38: test average loss: 7.777 | acc: 98.29% (2585/2630)\n",
      "EarlyStopping counter: 14/25 (best: 0.9833)\n",
      "\n",
      "epoch 39: train average loss: 5.378 | acc: 100.00% (23670/23670)\n"
     ]
    },
    {
     "name": "stderr",
     "output_type": "stream",
     "text": [
      " 13%|█▎        | 39/300 [00:41<04:35,  1.06s/it]"
     ]
    },
    {
     "name": "stdout",
     "output_type": "stream",
     "text": [
      "\n",
      "epoch 39: test average loss: 7.899 | acc: 98.29% (2585/2630)\n",
      "EarlyStopping counter: 15/25 (best: 0.9833)\n",
      "\n",
      "epoch 40: train average loss: 5.349 | acc: 100.00% (23670/23670)\n"
     ]
    },
    {
     "name": "stderr",
     "output_type": "stream",
     "text": [
      " 13%|█▎        | 40/300 [00:42<04:30,  1.04s/it]"
     ]
    },
    {
     "name": "stdout",
     "output_type": "stream",
     "text": [
      "\n",
      "epoch 40: test average loss: 7.698 | acc: 98.44% (2589/2630)\n",
      "best test acc found\n",
      "\n",
      "epoch 41: train average loss: 5.348 | acc: 100.00% (23669/23670)\n"
     ]
    },
    {
     "name": "stderr",
     "output_type": "stream",
     "text": [
      " 14%|█▎        | 41/300 [00:43<04:33,  1.05s/it]"
     ]
    },
    {
     "name": "stdout",
     "output_type": "stream",
     "text": [
      "\n",
      "epoch 41: test average loss: 7.970 | acc: 98.17% (2582/2630)\n",
      "EarlyStopping counter: 1/25 (best: 0.9844)\n",
      "\n",
      "epoch 42: train average loss: 5.337 | acc: 100.00% (23670/23670)\n"
     ]
    },
    {
     "name": "stderr",
     "output_type": "stream",
     "text": [
      " 14%|█▍        | 42/300 [00:44<04:32,  1.06s/it]"
     ]
    },
    {
     "name": "stdout",
     "output_type": "stream",
     "text": [
      "\n",
      "epoch 42: test average loss: 7.875 | acc: 98.29% (2585/2630)\n",
      "EarlyStopping counter: 2/25 (best: 0.9844)\n",
      "\n",
      "epoch 43: train average loss: 5.319 | acc: 100.00% (23670/23670)\n"
     ]
    },
    {
     "name": "stderr",
     "output_type": "stream",
     "text": [
      " 14%|█▍        | 43/300 [00:45<04:29,  1.05s/it]"
     ]
    },
    {
     "name": "stdout",
     "output_type": "stream",
     "text": [
      "\n",
      "epoch 43: test average loss: 7.734 | acc: 98.29% (2585/2630)\n",
      "EarlyStopping counter: 3/25 (best: 0.9844)\n",
      "\n",
      "epoch 44: train average loss: 5.292 | acc: 100.00% (23670/23670)\n"
     ]
    },
    {
     "name": "stderr",
     "output_type": "stream",
     "text": [
      " 15%|█▍        | 44/300 [00:46<04:21,  1.02s/it]"
     ]
    },
    {
     "name": "stdout",
     "output_type": "stream",
     "text": [
      "\n",
      "epoch 44: test average loss: 8.000 | acc: 98.21% (2583/2630)\n",
      "EarlyStopping counter: 4/25 (best: 0.9844)\n",
      "\n",
      "epoch 45: train average loss: 5.271 | acc: 100.00% (23670/23670)\n"
     ]
    },
    {
     "name": "stderr",
     "output_type": "stream",
     "text": [
      " 15%|█▌        | 45/300 [00:47<04:22,  1.03s/it]"
     ]
    },
    {
     "name": "stdout",
     "output_type": "stream",
     "text": [
      "\n",
      "epoch 45: test average loss: 7.822 | acc: 98.21% (2583/2630)\n",
      "EarlyStopping counter: 5/25 (best: 0.9844)\n",
      "\n",
      "epoch 46: train average loss: 5.268 | acc: 100.00% (23670/23670)\n"
     ]
    },
    {
     "name": "stderr",
     "output_type": "stream",
     "text": [
      " 15%|█▌        | 46/300 [00:48<04:35,  1.09s/it]"
     ]
    },
    {
     "name": "stdout",
     "output_type": "stream",
     "text": [
      "\n",
      "epoch 46: test average loss: 7.873 | acc: 98.17% (2582/2630)\n",
      "EarlyStopping counter: 6/25 (best: 0.9844)\n",
      "\n",
      "epoch 47: train average loss: 5.255 | acc: 100.00% (23670/23670)\n"
     ]
    },
    {
     "name": "stderr",
     "output_type": "stream",
     "text": [
      " 16%|█▌        | 47/300 [00:49<04:34,  1.08s/it]"
     ]
    },
    {
     "name": "stdout",
     "output_type": "stream",
     "text": [
      "\n",
      "epoch 47: test average loss: 7.836 | acc: 98.21% (2583/2630)\n",
      "EarlyStopping counter: 7/25 (best: 0.9844)\n",
      "\n",
      "epoch 48: train average loss: 5.249 | acc: 100.00% (23670/23670)\n"
     ]
    },
    {
     "name": "stderr",
     "output_type": "stream",
     "text": [
      " 16%|█▌        | 48/300 [00:50<04:31,  1.08s/it]"
     ]
    },
    {
     "name": "stdout",
     "output_type": "stream",
     "text": [
      "\n",
      "epoch 48: test average loss: 7.823 | acc: 98.37% (2587/2630)\n",
      "EarlyStopping counter: 8/25 (best: 0.9844)\n",
      "\n",
      "epoch 49: train average loss: 5.236 | acc: 100.00% (23670/23670)\n"
     ]
    },
    {
     "name": "stderr",
     "output_type": "stream",
     "text": [
      " 16%|█▋        | 49/300 [00:51<04:30,  1.08s/it]"
     ]
    },
    {
     "name": "stdout",
     "output_type": "stream",
     "text": [
      "\n",
      "epoch 49: test average loss: 7.807 | acc: 98.37% (2587/2630)\n",
      "EarlyStopping counter: 9/25 (best: 0.9844)\n",
      "\n",
      "epoch 50: train average loss: 5.233 | acc: 100.00% (23670/23670)\n"
     ]
    },
    {
     "name": "stderr",
     "output_type": "stream",
     "text": [
      " 17%|█▋        | 50/300 [00:52<04:26,  1.07s/it]"
     ]
    },
    {
     "name": "stdout",
     "output_type": "stream",
     "text": [
      "\n",
      "epoch 50: test average loss: 7.892 | acc: 98.25% (2584/2630)\n",
      "EarlyStopping counter: 10/25 (best: 0.9844)\n",
      "\n",
      "epoch 51: train average loss: 5.217 | acc: 100.00% (23670/23670)\n"
     ]
    },
    {
     "name": "stderr",
     "output_type": "stream",
     "text": [
      " 17%|█▋        | 51/300 [00:53<04:25,  1.07s/it]"
     ]
    },
    {
     "name": "stdout",
     "output_type": "stream",
     "text": [
      "\n",
      "epoch 51: test average loss: 7.858 | acc: 98.21% (2583/2630)\n",
      "EarlyStopping counter: 11/25 (best: 0.9844)\n",
      "\n",
      "epoch 52: train average loss: 5.212 | acc: 100.00% (23669/23670)\n"
     ]
    },
    {
     "name": "stderr",
     "output_type": "stream",
     "text": [
      " 17%|█▋        | 52/300 [00:54<04:16,  1.03s/it]"
     ]
    },
    {
     "name": "stdout",
     "output_type": "stream",
     "text": [
      "\n",
      "epoch 52: test average loss: 7.921 | acc: 98.17% (2582/2630)\n",
      "EarlyStopping counter: 12/25 (best: 0.9844)\n",
      "\n",
      "epoch 53: train average loss: 5.203 | acc: 100.00% (23670/23670)\n"
     ]
    },
    {
     "name": "stderr",
     "output_type": "stream",
     "text": [
      " 18%|█▊        | 53/300 [00:55<04:17,  1.04s/it]"
     ]
    },
    {
     "name": "stdout",
     "output_type": "stream",
     "text": [
      "\n",
      "epoch 53: test average loss: 7.870 | acc: 98.37% (2587/2630)\n",
      "EarlyStopping counter: 13/25 (best: 0.9844)\n",
      "\n",
      "epoch 54: train average loss: 5.214 | acc: 100.00% (23670/23670)\n"
     ]
    },
    {
     "name": "stderr",
     "output_type": "stream",
     "text": [
      " 18%|█▊        | 54/300 [00:56<04:18,  1.05s/it]"
     ]
    },
    {
     "name": "stdout",
     "output_type": "stream",
     "text": [
      "\n",
      "epoch 54: test average loss: 7.880 | acc: 98.25% (2584/2630)\n",
      "EarlyStopping counter: 14/25 (best: 0.9844)\n",
      "\n",
      "epoch 55: train average loss: 5.204 | acc: 100.00% (23670/23670)\n"
     ]
    },
    {
     "name": "stderr",
     "output_type": "stream",
     "text": [
      " 18%|█▊        | 55/300 [00:58<04:21,  1.07s/it]"
     ]
    },
    {
     "name": "stdout",
     "output_type": "stream",
     "text": [
      "\n",
      "epoch 55: test average loss: 7.886 | acc: 98.29% (2585/2630)\n",
      "EarlyStopping counter: 15/25 (best: 0.9844)\n",
      "\n",
      "epoch 56: train average loss: 5.194 | acc: 100.00% (23670/23670)\n"
     ]
    },
    {
     "name": "stderr",
     "output_type": "stream",
     "text": [
      " 19%|█▊        | 56/300 [00:59<04:23,  1.08s/it]"
     ]
    },
    {
     "name": "stdout",
     "output_type": "stream",
     "text": [
      "\n",
      "epoch 56: test average loss: 7.891 | acc: 98.17% (2582/2630)\n",
      "EarlyStopping counter: 16/25 (best: 0.9844)\n",
      "\n",
      "epoch 57: train average loss: 5.193 | acc: 100.00% (23670/23670)\n"
     ]
    },
    {
     "name": "stderr",
     "output_type": "stream",
     "text": [
      " 19%|█▉        | 57/300 [01:00<04:18,  1.06s/it]"
     ]
    },
    {
     "name": "stdout",
     "output_type": "stream",
     "text": [
      "\n",
      "epoch 57: test average loss: 7.881 | acc: 98.21% (2583/2630)\n",
      "EarlyStopping counter: 17/25 (best: 0.9844)\n",
      "\n",
      "epoch 58: train average loss: 5.192 | acc: 100.00% (23670/23670)\n"
     ]
    },
    {
     "name": "stderr",
     "output_type": "stream",
     "text": [
      " 19%|█▉        | 58/300 [01:01<04:13,  1.05s/it]"
     ]
    },
    {
     "name": "stdout",
     "output_type": "stream",
     "text": [
      "\n",
      "epoch 58: test average loss: 7.883 | acc: 98.33% (2586/2630)\n",
      "EarlyStopping counter: 18/25 (best: 0.9844)\n",
      "\n",
      "epoch 59: train average loss: 5.202 | acc: 100.00% (23670/23670)\n"
     ]
    },
    {
     "name": "stderr",
     "output_type": "stream",
     "text": [
      " 20%|█▉        | 59/300 [01:02<04:08,  1.03s/it]"
     ]
    },
    {
     "name": "stdout",
     "output_type": "stream",
     "text": [
      "\n",
      "epoch 59: test average loss: 7.909 | acc: 98.29% (2585/2630)\n",
      "EarlyStopping counter: 19/25 (best: 0.9844)\n",
      "\n",
      "epoch 60: train average loss: 5.191 | acc: 100.00% (23670/23670)\n"
     ]
    },
    {
     "name": "stderr",
     "output_type": "stream",
     "text": [
      " 20%|██        | 60/300 [01:03<04:06,  1.03s/it]"
     ]
    },
    {
     "name": "stdout",
     "output_type": "stream",
     "text": [
      "\n",
      "epoch 60: test average loss: 7.895 | acc: 98.29% (2585/2630)\n",
      "EarlyStopping counter: 20/25 (best: 0.9844)\n",
      "\n",
      "epoch 61: train average loss: 5.197 | acc: 100.00% (23670/23670)\n"
     ]
    },
    {
     "name": "stderr",
     "output_type": "stream",
     "text": [
      " 20%|██        | 61/300 [01:04<04:01,  1.01s/it]"
     ]
    },
    {
     "name": "stdout",
     "output_type": "stream",
     "text": [
      "\n",
      "epoch 61: test average loss: 7.875 | acc: 98.29% (2585/2630)\n",
      "EarlyStopping counter: 21/25 (best: 0.9844)\n",
      "\n",
      "epoch 62: train average loss: 5.202 | acc: 100.00% (23670/23670)\n"
     ]
    },
    {
     "name": "stderr",
     "output_type": "stream",
     "text": [
      " 21%|██        | 62/300 [01:05<04:00,  1.01s/it]"
     ]
    },
    {
     "name": "stdout",
     "output_type": "stream",
     "text": [
      "\n",
      "epoch 62: test average loss: 7.893 | acc: 98.33% (2586/2630)\n",
      "EarlyStopping counter: 22/25 (best: 0.9844)\n",
      "\n",
      "epoch 63: train average loss: 5.190 | acc: 100.00% (23670/23670)\n"
     ]
    },
    {
     "name": "stderr",
     "output_type": "stream",
     "text": [
      " 21%|██        | 63/300 [01:06<04:04,  1.03s/it]"
     ]
    },
    {
     "name": "stdout",
     "output_type": "stream",
     "text": [
      "\n",
      "epoch 63: test average loss: 7.882 | acc: 98.33% (2586/2630)\n",
      "EarlyStopping counter: 23/25 (best: 0.9844)\n",
      "\n",
      "epoch 64: train average loss: 5.185 | acc: 100.00% (23670/23670)\n"
     ]
    },
    {
     "name": "stderr",
     "output_type": "stream",
     "text": [
      " 21%|██▏       | 64/300 [01:07<04:02,  1.03s/it]"
     ]
    },
    {
     "name": "stdout",
     "output_type": "stream",
     "text": [
      "\n",
      "epoch 64: test average loss: 7.876 | acc: 98.25% (2584/2630)\n",
      "EarlyStopping counter: 24/25 (best: 0.9844)\n",
      "\n",
      "epoch 65: train average loss: 5.189 | acc: 100.00% (23670/23670)\n"
     ]
    },
    {
     "name": "stderr",
     "output_type": "stream",
     "text": [
      " 21%|██▏       | 64/300 [01:08<04:12,  1.07s/it]"
     ]
    },
    {
     "name": "stdout",
     "output_type": "stream",
     "text": [
      "\n",
      "epoch 65: test average loss: 7.887 | acc: 98.29% (2585/2630)\n",
      "EarlyStopping counter: 25/25 (best: 0.9844)\n",
      "🔴 Early stopping triggered\n",
      "load model at epoch 40, with test acc : 0.984\n"
     ]
    },
    {
     "name": "stderr",
     "output_type": "stream",
     "text": [
      "\n",
      "/tmp/ipykernel_3076972/3696667578.py:175: FutureWarning:\n",
      "\n",
      "You are using `torch.load` with `weights_only=False` (the current default value), which uses the default pickle module implicitly. It is possible to construct malicious pickle data which will execute arbitrary code during unpickling (See https://github.com/pytorch/pytorch/blob/main/SECURITY.md#untrusted-models for more details). In a future release, the default value for `weights_only` will be flipped to `True`. This limits the functions that could be executed during unpickling. Arbitrary objects will no longer be allowed to be loaded via this mode unless they are explicitly allowlisted by the user via `torch.serialization.add_safe_globals`. We recommend you start setting `weights_only=True` for any use case where you don't have full control of the loaded file. Please open an issue on GitHub for any issues related to this experimental feature.\n",
      "\n"
     ]
    },
    {
     "name": "stdout",
     "output_type": "stream",
     "text": [
      "total 0.9844106463878327\n",
      "class 0 1.0\n",
      "class 1 0.9702970297029703\n",
      "class 2 0.9931972789115646\n",
      "class 3 0.9894957983193278\n",
      "class 4 0.9606060606060606\n",
      "class 5 0.9701986754966887\n",
      "class 6 0.9896907216494846\n",
      "class 7 1.0\n",
      "class 8 1.0\n",
      "class 9 0.9909297052154195\n",
      "                                                             0\n",
      "Accuracy                                                0.9844\n",
      "Recall       [1.0, 0.9703, 0.9932, 0.9895, 0.9606, 0.9702, ...\n",
      "Specificity  [0.9996, 0.9946, 0.9973, 0.9977, 0.9978, 0.998...\n",
      "Precision    [0.9955, 0.9378, 0.9865, 0.9895, 0.9845, 0.986...\n",
      "F1 Score     [0.9977, 0.9538, 0.9898, 0.9895, 0.9724, 0.978...\n"
     ]
    }
   ],
   "source": [
    "\n",
    "from datasets_spectrum import spectral_dataloader\n",
    "from sklearn.model_selection import StratifiedKFold\n",
    "best_test_accuracy = 0\n",
    "low_test_accuracy = 1\n",
    "\n",
    "sss = StratifiedKFold(n_splits=10, shuffle=True,random_state=1)\n",
    "for fold, (train_index, test_index) in enumerate(sss.split(X_train_raw, y_train_raw)):\n",
    "    X_train, X_test = X_train_raw[train_index], X_train_raw[test_index]\n",
    "    y_train, y_test = y_train_raw[train_index], y_train_raw[test_index]\n",
    "    patient_train ,patient_test = patient_train_raw[train_index],patient_train_raw[test_index]\n",
    "\n",
    "    dl_tr = spectral_dataloader(\n",
    "                        X_train, y_train,patient_train, idxs=None, batch_size=batch_size, shuffle=True\n",
    "                    )\n",
    "    dl_test = spectral_dataloader(X_test, y_test,patient_test,idxs=None, batch_size=batch_size, shuffle=False)\n",
    "    values, counts = np.unique(np.asarray(y_test), return_counts=True)\n",
    "    dataloaders = {\"train\": dl_tr, \"test\": dl_test}\n",
    "\n",
    "    model = Variant_LeNet(in_channels=1, out_channels=n_classes)\n",
    "\n",
    "    model_path = f\"best_variant_lenet_model_{fold}.pth\"\n",
    "\n",
    "    class_counts = np.bincount(y_train)\n",
    "    num_classes = len(class_counts)\n",
    "    total_samples = len(y_train)\n",
    "\n",
    "    class_weights = []\n",
    "    for count in class_counts:\n",
    "        weight = 1 / (count / total_samples)\n",
    "        class_weights.append(weight)\n",
    "    class_weights = torch.FloatTensor(class_weights)\n",
    "    alpha = class_weights\n",
    "    solver = Solver(\n",
    "                fold,dataloaders, model, model_path, 'cuda', n_classes, alpha\n",
    "            )\n",
    "    print(fold + 1)\n",
    "    solver.train(epochs)\n",
    "    C, y_true, y_pred, test_accuracy , y_pred_prob,train_acc,train_targets,targets,train_combined,combined ,train_patient_ids, test_patient_ids= solver.test()\n",
    "    C_total += C  # 將每次迭代的 C 加總到 C_total\n",
    "    train_avg_accuracy.append(train_acc)\n",
    "    avg_accuracy.append(test_accuracy)\n",
    "\n",
    "    if test_accuracy > best_test_accuracy:\n",
    "\n",
    "        best_test_accuracy = test_accuracy\n",
    "            \n",
    "        plot_tsne_interactive_html(f\"variant_lenet_best_test_accuracy_combined_train\",f\"variant_lenet_best_test_accuracy_combined_test\",train_combined,combined,train_targets,targets, train_patient_ids, test_patient_ids,classnames )\n",
    "      \n",
    "        plot_heatmap(f\"variant_lenet_best_test_accuracy_heatmap\", C,class_names=classnames)\n",
    "        \n",
    "    if test_accuracy < low_test_accuracy:\n",
    "\n",
    "        low_test_accuracy = test_accuracy\n",
    "        \n",
    "        plot_tsne_interactive_html(f\"variant_lenet_low_test_accuracy_combined_train\",f\"variant_lenet_low_test_accuracy_combined_test\",train_combined,combined,train_targets,targets,train_patient_ids, test_patient_ids, classnames )\n",
    "            \n",
    "        plot_heatmap(f\"variant_lenet_low_test_accuracy_heatmap\", C,class_names=classnames)\n",
    "        \n",
    "    fpr = dict()\n",
    "    tpr = dict()\n",
    "    roc_auc = dict()\n",
    "    for i in range(np.unique(y_true).shape[0]):\n",
    "        fpr[i], tpr[i], _ = roc_curve(y_test == i, y_pred_prob[:, i])\n",
    "        roc_auc[i] = auc(fpr[i], tpr[i])\n",
    "    values = [\n",
    "            v\n",
    "            for v in roc_auc.values()\n",
    "            if isinstance(v, (int, float)) and not math.isnan(v)\n",
    "    ]\n",
    "    if values:\n",
    "        auc_score = sum(values) / len(values)\n",
    "    avg_roc.append(auc_score)\n",
    "\n",
    "    for i in range(n_classes):\n",
    "        C_new[i] = np.round((C[i] / (counts[i] * num)), 2)\n",
    "\n",
    "        # Plot confusion matrix\n",
    "    sns.set_context(\"talk\", rc={\"font\": \"Helvetica\", \"font.size\": 12})\n",
    "    label = [STRAINS[i] for i in ORDER]\n",
    "    cm = 100 * C_new / C_new.sum(axis=1)[:, np.newaxis]\n",
    "\n",
    "        # calculate comfusion matrix\n",
    "    accuracy = accuracy_score(y_true, y_pred)\n",
    "    sensitivity = recall_score(y_true, y_pred, average=\"micro\", zero_division=0)\n",
    "    specificity = cm[1, 1] / (cm[1, 0] + cm[1, 1])\n",
    "    f1 = f1_score(y_true, y_pred, average=\"micro\", zero_division=0)\n",
    "\n",
    "    # metrices result\n",
    "    df = pd.DataFrame(\n",
    "        {\n",
    "            \"Accuracy\": [np.round(accuracy_score(y_true, y_pred), 4)],\n",
    "            \"Recall\": [\n",
    "                    recall_score(y_true, y_pred, average=None, zero_division=0).round(4)\n",
    "                ],\n",
    "            \"Specificity\": [specificity_score(y_true, y_pred, average=None).round(4)],\n",
    "            \"Precision\": [\n",
    "                    precision_score(y_true, y_pred, average=None, zero_division=0).round(4)\n",
    "                ],\n",
    "            \"F1 Score\": [\n",
    "                    f1_score(y_true, y_pred, average=None, zero_division=0).round(4)\n",
    "                ],\n",
    "            }\n",
    "    )\n",
    "    print(df.transpose())\n",
    "\n",
    "    plot_10_genus_ROC_curve(f\"variant_lenet_{fold}_roc_curve\", y_true, y_test, y_pred_prob)\n",
    "\n",
    "    plot_heatmap(f\"variant_lenet_{fold}_heatmap\", cm)\n",
    "\n",
    "plot_heatmap(f\"variant_lenet_average_heatmap\", C_total,class_names=classnames)\n"
   ]
  },
  {
   "cell_type": "code",
   "execution_count": null,
   "id": "9f161583",
   "metadata": {},
   "outputs": [
    {
     "name": "stdout",
     "output_type": "stream",
     "text": [
      "max test acc: 0.9878326996197718\n",
      "min test acc: 0.9821292775665399\n",
      "test acc: [0.9866920152091255, 0.9855513307984791, 0.9870722433460076, 0.9836501901140684, 0.9821292775665399, 0.9878326996197718, 0.9855513307984791, 0.9855513307984791, 0.9832699619771863, 0.9844106463878327]\n",
      "test auc: [0.9996916622916772, 0.9994464467612891, 0.9996625860616669, 0.9995249496105985, 0.998769463432807, 0.9996900168766342, 0.9995479437992312, 0.9997310341086865, 0.999495775926612, 0.9991406136427228]\n",
      "train mean: 1.0\n",
      "train std: 0.0\n",
      "mean: 0.985171102661597\n",
      "std: 0.0017089129318817037\n",
      "auc mean: 0.9994700492511924\n",
      "auc std: 0.00028501411783797456\n"
     ]
    }
   ],
   "source": [
    "print(\"max test acc:\", np.max(avg_accuracy))\n",
    "print(\"min test acc:\", np.min(avg_accuracy))\n",
    "\n",
    "print(\"train mean:\", np.mean(train_avg_accuracy))\n",
    "print(\"train std:\", np.std(train_avg_accuracy))\n",
    "\n",
    "    \n",
    "print(\"mean:\", np.mean(avg_accuracy))\n",
    "print(\"std:\", np.std(avg_accuracy))\n",
    "\n",
    "    \n",
    "print(\"auc mean:\", np.mean(avg_roc))\n",
    "print(\"auc std:\", np.std(avg_roc))\n",
    "    "
   ]
  }
 ],
 "metadata": {
  "kernelspec": {
   "display_name": "Python 3",
   "language": "python",
   "name": "python3"
  },
  "language_info": {
   "codemirror_mode": {
    "name": "ipython",
    "version": 3
   },
   "file_extension": ".py",
   "mimetype": "text/x-python",
   "name": "python",
   "nbconvert_exporter": "python",
   "pygments_lexer": "ipython3",
   "version": "3.10.12"
  }
 },
 "nbformat": 4,
 "nbformat_minor": 5
}
